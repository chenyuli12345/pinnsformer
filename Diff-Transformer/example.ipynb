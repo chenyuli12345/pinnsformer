{
 "cells": [
  {
   "cell_type": "code",
   "execution_count": null,
   "id": "0844e525",
   "metadata": {},
   "outputs": [],
   "source": [
    "from multihead_diffattn import MultiheadDiffAttn\n",
    "from multihead_attention import MultiheadAttention\n",
    "\n",
    "if __name__ == \"__main__\":\n",
    "    # Diff Attention with MHA, 1024 embed_dim, 8 heads, 8 kv_heads\n",
    "    diff_attn_mha = MultiheadDiffAttn(embed_dim=1024, depth=0, num_heads=8, num_kv_heads=None)\n",
    "    # can be compared against baseline Attention with MHA, 1024 embed_dim, 16 heads, 16 kv_heads\n",
    "    attn_mha = MultiheadAttention(embed_dim=1024, depth=0, num_heads=16, num_kv_heads=None)\n",
    "    # write code to print their number of parameters\n",
    "    print(\"Number of parameters in 1 layer diff_attn_mha:\", sum(p.numel() for p in diff_attn_mha.parameters()))\n",
    "    print(\"Number of parameters in 1 layer attn_mha:\", sum(p.numel() for p in attn_mha.parameters()))\n",
    "\n",
    "\n",
    "    # Diff Attention with GQA, 1024 embed_dim, 8 heads, 4 kv_heads\n",
    "    diff_attn_gqa = MultiheadDiffAttn(embed_dim=1024, depth=0, num_heads=8, num_kv_heads=4)\n",
    "    # can be compared against baseline Attention with GQA, 1024 embed_dim, 16 heads, 8 kv_heads\n",
    "    attn_gqa = MultiheadAttention(embed_dim=1024, depth=0, num_heads=16, num_kv_heads=8)\n",
    "    print(\"Number of parameters in 1 layer diff_attn_gqa:\", sum(p.numel() for p in diff_attn_gqa.parameters()))\n",
    "    print(\"Number of parameters in 1 layer attn_gqa:\", sum(p.numel() for p in attn_gqa.parameters()))\n"
   ]
  }
 ],
 "metadata": {
  "language_info": {
   "name": "python"
  }
 },
 "nbformat": 4,
 "nbformat_minor": 5
}
