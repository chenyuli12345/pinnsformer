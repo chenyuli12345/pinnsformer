{
 "cells": [
  {
   "cell_type": "code",
   "execution_count": 1,
   "metadata": {
    "execution": {
     "iopub.execute_input": "2024-12-14T07:03:14.005841Z",
     "iopub.status.busy": "2024-12-14T07:03:14.005730Z",
     "iopub.status.idle": "2024-12-14T07:03:14.850848Z",
     "shell.execute_reply": "2024-12-14T07:03:14.850523Z"
    }
   },
   "outputs": [],
   "source": [
    "import torch\n",
    "#collections是python一个内置模块，提供了一些有用的数据结构\n",
    "from collections import OrderedDict  #这个类是字典dict的一个子类，用于创建有序的字典。普通字典中元素顺序是无序的，在OrderedDict中元素的顺序是有序的，元素的顺序是按照它们被添加到字典中的顺序决定的。\n",
    "\n",
    "from pyDOE import lhs #`pyDOE`是一个Python库，用于设计实验。它提供了一些函数来生成各种设计，如因子设计、拉丁超立方设计等。`lhs`是库中的一个函数，全名为\"Latin Hypercube Sampling\"，拉丁超立方采样。这是一种统计方法，用于生成一个近似均匀分布的多维样本点集。它在参数空间中生成一个非常均匀的样本，这对于高维数值优化问题非常有用，因为它可以更好地覆盖参数空间。\n",
    "import numpy as np\n",
    "import matplotlib.pyplot as plt\n",
    "import scipy.io #导入了scipy库中的io模块。scipy.io模块包含了一些用于文件输入/输出的函数，例如读取和写入.mat文件（MATLAB格式）\n",
    "from scipy.interpolate import griddata #`scipy.interpolate`是`scipy`库中的一个模块，提供了许多插值工具，用于在给定的离散数据点之间进行插值和拟合。`griddata`是这个模块中的一个函数，用于在无规则的数据点上进行插值。\n",
    "\n",
    "import random\n",
    "\n",
    "import skopt #用于优化问题的库，特别是机器学习中的超参数优化\n",
    "from distutils.version import LooseVersion #distutils是Python的一个标准库，用于构建和安装Python包。LooseVersion是一个类，用于比较版本号\n",
    "\n",
    "\n",
    "\n",
    "from mpl_toolkits.axes_grid1 import make_axes_locatable #`mpl_toolkits.axes_grid1`是`matplotlib`库的一个模块，提供了一些高级的工具来控制matplotlib图形中的坐标轴和颜色条。`make_axes_locatable`是模块中的一个函数，用于创建一个可分割的坐标轴。可以在这个坐标轴的四个方向（上、下、左、右）添加新的坐标轴或颜色条。\n",
    "import matplotlib.gridspec as gridspec #是`matplotlib`库的一个模块，用于创建一个网格布局来放置子图。在`matplotlib`中可以创建一个或多个子图（subplot），每个子图都有自己的坐标轴，并可以在其中绘制图形。`gridspec`模块提供了一个灵活的方式来创建和放置子图。\n",
    "import time #一个内置模块，用于处理时间相关的操作。\n",
    "\n",
    "\n",
    "from tqdm import tqdm #一个快速，可扩展的python进度条库，可以在python长循环中添加一个进度提示信息，用户只需要封装任意的迭代器tqdm(iterator)。\n",
    "\n",
    "import os\n",
    "import pickle\n",
    "\n",
    "import timeit #用于计时和测量小段代码的执行时间\n",
    "import seaborn as sns  # 导入seaborn库用于绘制密度图\n",
    "import pandas as pd #一个用于数据操作和分析的库，提供了数据结构和数据分析工具，特别是用于处理表格数据（类似于Excel中的数据表）"
   ]
  },
  {
   "cell_type": "code",
   "execution_count": 2,
   "metadata": {
    "execution": {
     "iopub.execute_input": "2024-12-14T07:03:14.852704Z",
     "iopub.status.busy": "2024-12-14T07:03:14.852538Z",
     "iopub.status.idle": "2024-12-14T07:03:15.063857Z",
     "shell.execute_reply": "2024-12-14T07:03:15.063515Z"
    }
   },
   "outputs": [
    {
     "name": "stdout",
     "output_type": "stream",
     "text": [
      "Number of available GPUs:  1\n",
      "GPU 0: NVIDIA GeForce RTX 4090, Allocated: 0, Reserved: 0\n"
     ]
    }
   ],
   "source": [
    "num_gpus = torch.cuda.device_count()\n",
    "print('Number of available GPUs: ', num_gpus)\n",
    "\n",
    "for i in range(num_gpus):\n",
    "    torch.cuda.set_device(i)\n",
    "    allocated = torch.cuda.memory_allocated()\n",
    "    reserved = torch.cuda.memory_reserved()\n",
    "    print('GPU {}: {}, Allocated: {}, Reserved: {}'.format(i, torch.cuda.get_device_name(i), allocated, reserved))"
   ]
  },
  {
   "cell_type": "code",
   "execution_count": 3,
   "metadata": {
    "execution": {
     "iopub.execute_input": "2024-12-14T07:03:15.076926Z",
     "iopub.status.busy": "2024-12-14T07:03:15.076814Z",
     "iopub.status.idle": "2024-12-14T07:03:15.079053Z",
     "shell.execute_reply": "2024-12-14T07:03:15.078766Z"
    }
   },
   "outputs": [],
   "source": [
    "torch.cuda.set_device(0) #设置当前使用的GPU设备。这里设置为1号GPU设备（第二块显卡）。\n",
    "\n",
    "# CUDA support \n",
    "\n",
    "#设置pytorch的设备，代表了在哪里执行张量积算，设备可以是cpu或者cuda（gpu），并将这个做运算的设备对象存储在变量device中，后续张量计算回在这个设备上执行\n",
    "if torch.cuda.is_available():\n",
    "    device = torch.device('cuda')\n",
    "else:\n",
    "    device = torch.device('cpu')"
   ]
  },
  {
   "cell_type": "code",
   "execution_count": 4,
   "metadata": {
    "execution": {
     "iopub.execute_input": "2024-12-14T07:03:15.080025Z",
     "iopub.status.busy": "2024-12-14T07:03:15.079946Z",
     "iopub.status.idle": "2024-12-14T07:03:15.082818Z",
     "shell.execute_reply": "2024-12-14T07:03:15.082635Z"
    }
   },
   "outputs": [],
   "source": [
    "# the deep neural network\n",
    "class DNN(torch.nn.Module):\n",
    "    #第一个方法\n",
    "    def __init__(self, layers):\n",
    "        super(DNN, self).__init__() #调用父类的__init__方法进行初始化\n",
    "        \n",
    "        # parameters\n",
    "        self.depth = len(layers) - 1 #定义名为depth的属性，表示神经网络的深度，等于层数-1\n",
    "        \n",
    "        # set up layer order dict\n",
    "        self.activation = torch.nn.Tanh #设置激活函数为tanh\n",
    "         \n",
    "        layer_list = list() #定义一个空列表layer_list\n",
    "        for i in range(self.depth - 1):  #循环depth次\n",
    "            #将每一层（全连接层）添加到layer_list中\n",
    "            layer_list.append(\n",
    "                ('layer_%d' % i, torch.nn.Linear(layers[i], layers[i+1]))\n",
    "            )\n",
    "            #将每一层的激活函数添加到layer_list中\n",
    "            layer_list.append(('activation_%d' % i, self.activation()))\n",
    "\n",
    "        #循环结束后，将最后一层的线性变换添加到layer_list中（激活函数为softmax）\n",
    "        layer_list.append(\n",
    "            ('layer_%d' % (self.depth - 1), torch.nn.Linear(layers[-2], layers[-1]))\n",
    "        )\n",
    "        #输出层的激活函数为tanh\n",
    "        layer_list.append(('activation_%d' % (self.depth - 1), torch.nn.Softmax(dim=1)))  \n",
    "\n",
    "        #然后使用OrderedDict将layer_list中的元素转换为有序字典\n",
    "        layerDict = OrderedDict(layer_list)\n",
    "        \n",
    "        # deploy layers，将layerDict转换为一个神经网络模型，赋值给self.layers\n",
    "        self.layers = torch.nn.Sequential(layerDict)\n",
    "    \n",
    "    #第二个方法，定义了模型的前向传播过程\n",
    "    def forward(self, x):  #接收输入x\n",
    "        out = self.layers(x) #将输入x传入神经网络模型self.layers中，得到输出out\n",
    "        return out #返回输出out\n",
    "    \n",
    "    # 新增方法，获取最后一个隐藏层的输出\n",
    "    def hidden_output(self, x):\n",
    "        # 遍历每一层，直到最后一个隐藏层\n",
    "        for i in range(self.depth - 1):\n",
    "            # 获取当前层的线性变换\n",
    "            x = self.layers[i*2](x)\n",
    "            # 获取当前层的激活函数\n",
    "            x = self.layers[i*2 + 1](x)\n",
    "        # 返回最后一个隐藏层的输出\n",
    "        return x"
   ]
  },
  {
   "cell_type": "code",
   "execution_count": 5,
   "metadata": {},
   "outputs": [],
   "source": [
    "# 自定义 PolynomialDecay 学习率调度器\n",
    "class PolynomialDecayLR(torch.optim.lr_scheduler._LRScheduler):\n",
    "    def __init__(self, optimizer, decay_steps, end_learning_rate, power, last_epoch=-1):\n",
    "        self.decay_steps = decay_steps\n",
    "        self.end_learning_rate = end_learning_rate\n",
    "        self.power = power\n",
    "        super(PolynomialDecayLR, self).__init__(optimizer, last_epoch)\n",
    "\n",
    "    def get_lr(self):\n",
    "        step = min(self.last_epoch, self.decay_steps)\n",
    "        return [\n",
    "            (base_lr - self.end_learning_rate) * ((1 - step / self.decay_steps) ** self.power) + self.end_learning_rate\n",
    "            for base_lr in self.base_lrs\n",
    "        ]"
   ]
  },
  {
   "cell_type": "code",
   "execution_count": 6,
   "metadata": {
    "execution": {
     "iopub.execute_input": "2024-12-14T07:03:15.083843Z",
     "iopub.status.busy": "2024-12-14T07:03:15.083762Z",
     "iopub.status.idle": "2024-12-14T07:03:15.093691Z",
     "shell.execute_reply": "2024-12-14T07:03:15.093505Z"
    }
   },
   "outputs": [],
   "source": [
    "# the physics-guided neural network\n",
    "class PhysicsInformedNN():\n",
    "    # Initialize the class\n",
    "    def __init__(self, X_u, u, X_f, layers, lb, ub): #这个类包含的第一个方法__init__，这是一个特殊的方法，也就是这个类的构造函数，用于初始化新创建的对象，接受了几个参数\n",
    "\n",
    "        mu_x, sigma_x = X_f.mean(0), X_f.std(0) #计算X_u的均值和标准差\n",
    "        X_u = (X_u - mu_x) / sigma_x #对X_u进行标准化\n",
    "        X_f = (X_f - mu_x) / sigma_x #对X_f进行标准化\n",
    "\n",
    "        self.mu_x = torch.tensor(mu_x).float().to(device) #创建一个pytorch张量（数据来源于mu_x），并将其转换为浮点类型，最后将张量移动到指定的设备上\n",
    "        self.sigma_x = torch.tensor(sigma_x).float().to(device) #创建一个pytorch张量（数据来源于sigma_x），并将其转换为浮点类型，最后将张量移动到指定的设备上\n",
    "\n",
    "        # boundary conditions\n",
    "        #将传入的lb和ub参数的值存储在实例中，以便后续使用。这样可以在类的其他方法中通过self.lb和self.ub来访问这些值。\n",
    "        self.lb = torch.tensor(lb).float().to(device) #创建一个pytorch张量（数据来源于lb），并将其转换为浮点类型，最后将张量移动到指定的设备上\n",
    "        self.ub = torch.tensor(ub).float().to(device)\n",
    "        \n",
    "        # data\n",
    "        #初边界点数据\n",
    "        self.X_u = torch.tensor(X_u, requires_grad=True).float().to(device)\n",
    "        #初边界点真实数据\n",
    "        self.u = torch.tensor(u).float().to(device)\n",
    "        #配位点数据\n",
    "        self.X_f = torch.tensor(X_f, requires_grad=True).float().to(device)\n",
    "        # #测试点数据\n",
    "        # self.X_star = torch.tensor(X_star).float().to(device)\n",
    "        # #测试点真实数据\n",
    "        # self.u_star = torch.tensor(u_star).float().to(device)\n",
    "        \n",
    "        self.layers = layers\n",
    "        \n",
    "        # deep neural networks\n",
    "        self.dnn = DNN(layers).to(device) #创建一个DNN类的实例，传入layers参数来实现神经网络的初始化，然后将这个实例移动到指定的设备上\n",
    "        \n",
    "        # optimizers: using the same settings\n",
    "        #创建优化器，括号内为要优化的参数，使用Adam优化方法\n",
    "        self.optimizer_Adam = torch.optim.Adam(self.dnn.parameters(), eps = 1e-3) \n",
    "\n",
    "        # 创建 PolynomialDecay 学习率调度器\n",
    "        self.scheduler = PolynomialDecayLR(self.optimizer_Adam, decay_steps=10000, end_learning_rate=0.00008, power=0.5)\n",
    "\n",
    "\n",
    "        self.iter = 0 #记录迭代次数 \n",
    "\n",
    "        self.loss_value = [] #创建一个空列表，用于存储损失值\n",
    "\n",
    "        self.test_error = [] #创建一个空列表，用于存储测试误差\n",
    "        self.test_error_mse = [] #创建一个空列表，用于存储测试误差\n",
    "        self.test_error_mae = [] #创建一个空列表，用于存储测试误差\n",
    "        \n",
    "    #定义了一个名为net_u的函数/方法，用于计算神经网络的输出。这个方法接受两个参数，分别是x和t，其中x是输入数据，t是时间数据。最后返回神经网络的输出。     \n",
    "    def net_u(self, x):  \n",
    "        u = self.dnn(x)  #（第一个参数将输入的两个参数x和t在第二个维度（列）上进行拼接，形成一个新的张量）调用DNN，根据两个参数权重和偏置，以及新得到的张量，计算神经网络的输出u\n",
    "        return u\n",
    "    \n",
    "    #定义了一个名为net_f的函数/方法，用于计算论文中的f。这个方法接受两个参数，分别是x和t，其中x是输入数据，t是时间数据。最后返回计算得到的f。\n",
    "    def net_f(self, x):\n",
    "        \"\"\" The pytorch autograd version of calculating residual \"\"\"\n",
    "        u = self.net_u(x) #调用上面的net_u函数，计算神经网络的输出u\n",
    "        u1 = u[:, 0:1] #取u的第一列，对应状态1\n",
    "        u2 = u[:, 1:2] #取u的第二列，对应状态2\n",
    "        u3 = u[:, 2:3] #取u的第三列，对应状态3\n",
    "\n",
    "        u_x_1 = torch.autograd.grad(\n",
    "            u1, x, #输入的张量，要计算u1关于x的导数\n",
    "            grad_outputs=torch.ones_like(u1), #生成一个与u1形状相同，所有元素均为1的张量，这个参数用于指定向量-雅可比积的像两部分\n",
    "            retain_graph=True, #表示计算完梯度之后保留计算图若需要多次计算梯度，则需要设置改参数为True\n",
    "            create_graph=True #创建梯度的计算图，使我们能够计算高阶导数\n",
    "        )[0] #这个函数的返回值是一个元组，其中包含了每个输入张量的梯度。这里只关心第一个输入张量u1的梯度，所以我们使用[0]来获取这个梯度。？？？？又说只有一个梯度\n",
    "        u_x_2 = torch.autograd.grad(\n",
    "            u2, x, #输入的张量，要计算u2关于x的导数\n",
    "            grad_outputs=torch.ones_like(u2), #生成一个与u2形状相同，所有元素均为1的张量，这个参数用于指定向量-雅可比积的像两部分\n",
    "            retain_graph=True, #表示计算完梯度之后保留计算图若需要多次计算梯度，则需要设置改参数为True\n",
    "            create_graph=True #创建梯度的计算图，使我们能够计算高阶导数\n",
    "        )[0] #这个函数的返回值是一个元组，其中包含了每个输入张量的梯度。这里只关心第一个输入张量u2的梯度，所以我们使用[0]来获取这个梯度。？？？？又说只有一个梯度\n",
    "        u_x_3 = torch.autograd.grad(\n",
    "            u3, x, #输入的张量，要计算u3关于x的导数\n",
    "            grad_outputs=torch.ones_like(u3), #生成一个与u3形状相同，所有元素均为1的张量，这个参数用于指定向量-雅可比积的像两部分\n",
    "            retain_graph=True, #表示计算完梯度之后保留计算图若需要多次计算梯度，则需要设置改参数为True\n",
    "            create_graph=True #创建梯度的计算图，使我们能够计算高阶导数\n",
    "        )[0] #这个函数的返回值是一个元组，其中包含了每个输入张量的梯度。这里只关心第一个输入张量u3的梯度，所以我们使用[0]来获取这个梯度。？？？？又说只有一个梯度\n",
    "\n",
    "        #归一化\n",
    "        u_x_1 = u_x_1 / self.sigma_x\n",
    "        u_x_2 = u_x_2 / self.sigma_x\n",
    "        u_x_3 = u_x_3 / self.sigma_x\n",
    "        \n",
    "        #计算残差\n",
    "        xx = x * self.sigma_x + self.mu_x\n",
    "        residual_1 = u_x_1-(-2.572e-4*xx*u1)\n",
    "        residual_2 = u_x_2-(1.12e-4*xx*u1-2.012e-4*xx*u2)\n",
    "        residual_3 = u_x_3-(1.452e-4*xx*u1+2.012e-4*xx*u2)    \n",
    "\n",
    "        loss_1 = torch.mean(residual_1 ** 2)\n",
    "        loss_2 = torch.mean(residual_2 ** 2)\n",
    "        loss_3 = torch.mean(residual_3 ** 2)\n",
    "\n",
    "        loss_f = loss_1 + loss_2 + loss_3\n",
    "        return loss_f\n",
    "    \n",
    "      \n",
    "    \n",
    "    def train(self, nIter):\n",
    "\n",
    "\n",
    "        #使用Adam优化器优化nIter次\n",
    "        for epoch in tqdm(range(nIter), desc='Adam'):\n",
    "            self.dnn.train() #将神经网络设置为训练模式而不是评估模式\n",
    "            u_pred = self.net_u(self.X_u) #调用之前定义的函数，传入初值得到神经网络的输出u\n",
    "\n",
    "            loss_u = torch.mean((self.u - u_pred) ** 2) #计算初值的损失函数\n",
    "            loss_f = self.net_f(self.X_f) #计算残差的损失函数\n",
    "            \n",
    "\n",
    "            loss = loss_u + loss_f\n",
    "            \n",
    "            # Backward and optimize\n",
    "            self.optimizer_Adam.zero_grad() #清除该优化器之前计算的梯度（在PyTorch中，梯度会累积，所以在每次新的优化迭代之前，我们需要清除之前的梯度）\n",
    "            loss.backward() #被调用以计算损失函数关于神经网络参数的梯度。这个梯度将被用于优化器来更新神经网络参数\n",
    "            self.optimizer_Adam.step()  #使用之前的优化器self.optimizer_Adam，调用step方法(执行一步优化算法)，传入损失函数self.loss_func，进行优化\n",
    "            # self.scheduler.step() #更新学习率\n",
    "            \n",
    "            #record the loss value\n",
    "            self.loss_value.append(loss) #将计算得到的loss值添加到self.loss_value列表中\n",
    "\n",
    "            # 每 10000 个 epoch 打印一次损失和学习率\n",
    "            if (epoch + 1) % 10000 == 0:\n",
    "                print(f'Epoch [{epoch+1}/{nIter}], Loss: {loss.item():.4f}, Learning Rate: {self.scheduler.get_lr()[0]:.8f}')\n",
    "\n",
    "\n",
    "            # # record the test error\n",
    "            # self.dnn.eval() #将神经网络切换为评估模式\n",
    "            # with torch.no_grad():\n",
    "            #     u_real_pred = self.net_u(self.x_star, self.t_star) #调用之前定义的函数，传入参数得到神经网络的输出u\n",
    "\n",
    "\n",
    "            # error_test = torch.norm(self.u_star-u_real_pred,2)/torch.norm(self.u_star,2)\n",
    "\n",
    "            # self.test_error.append(error_test)\n",
    "\n",
    "            # # 计算 MAE和MSE\n",
    "            # mae = torch.mean(torch.abs(self.u_star - u_real_pred))\n",
    "            # mse = torch.mean((self.u_star - u_real_pred) ** 2)\n",
    "            # # 记录 MAE 和 MSE\n",
    "            # self.test_error_mae.append(mae)\n",
    "            # self.test_error_mse.append(mse)\n",
    "\n",
    "\n",
    "  \n",
    "\n",
    "    def predict(self, X):\n",
    "        x = torch.tensor(X, requires_grad=True).float().to(device) #从输入中得到x和t（第一列和第二列），是张量，需要计算梯度，转换为浮点数类型，并将张量移动到指定设备上\n",
    "        mu, sigma = self.mu_x, self.sigma_x\n",
    "        x = (x - mu) / sigma\n",
    "\n",
    "        self.dnn.eval() #将神经网络切换为评估模式\n",
    "        u = self.net_u(x) #调用之前定义的函数得到神经网络的输出u,以及f\n",
    "        u = u.detach().cpu().numpy() #将张量u和f先从计算图中分离出来，然后转换为numpy数组，最后将这个数组移动到cpu上\n",
    "        return u\n",
    "    \n",
    "\n",
    "    def hidden_predict(self, x):\n",
    "        x = torch.tensor(x, requires_grad=True).float().to(device) #从输入中得到x和t（第一列和第二列），是张量，需要计算梯度，转换为浮点数类型，并将张量移动到指定设备上\n",
    "        mu, sigma = self.mu_x, self.sigma_x\n",
    "        x = (x - mu) / sigma\n",
    "\n",
    "        self.dnn.eval()\n",
    "        hidden_output = self.dnn.hidden_output(x)\n",
    "        hidden_output = hidden_output.detach().cpu().numpy()\n",
    "        return hidden_output"
   ]
  },
  {
   "cell_type": "code",
   "execution_count": 7,
   "metadata": {
    "execution": {
     "iopub.execute_input": "2024-12-14T07:03:15.099429Z",
     "iopub.status.busy": "2024-12-14T07:03:15.099353Z",
     "iopub.status.idle": "2024-12-14T07:03:15.101642Z",
     "shell.execute_reply": "2024-12-14T07:03:15.101463Z"
    }
   },
   "outputs": [],
   "source": [
    "#定义设置随机数种子的函数，第一个参数seed表示种子；第二个参数用来设置CUDA的卷积操作是否确定性，默认为False，表示没有确定性\n",
    "def set_seed(seed):\n",
    "    # torch.manual_seed(seed) #设置pytorch的CPU随机数生成器的种子\n",
    "    # torch.cuda.manual_seed_all(seed) #设置putorch的所有GPU随机数生成器的种子\n",
    "    # np.random.seed(seed) #设置numpy的随机数生成器的种子\n",
    "    # random.seed(seed) #设置python的内置随机数生成器的种子\n",
    "    # torch.backends.cudnn.deterministic = deterministic #True会让CUDA的卷积操作变得确定性，即对于相同的输入，每次运行会得到相同的结果，False则相反\n",
    "    \"\"\"\n",
    "    设置PyTorch的随机种子, 用于生成随机数. 通过设置相同的种子, 可以确保每次运行时生成的随机数序列相同\n",
    "    \"\"\"\n",
    "    torch.manual_seed(seed)\n",
    " \n",
    "    \"\"\"\n",
    "    设置PyTorch在所有可用的CUDA设备上的随机种子. 如果在使用GPU进行计算, 这个设置可以确保在不同的GPU上生成的随机数序列相同\n",
    "    \"\"\"\n",
    "    torch.cuda.manual_seed_all(seed)\n",
    " \n",
    "    \"\"\"\n",
    "    设置PyTorch在当前CUDA设备上的随机种子. 它与上一行代码的作用类似, 但只影响当前设备\n",
    "    \"\"\"\n",
    "    torch.cuda.manual_seed(seed)\n",
    " \n",
    "    \"\"\"\n",
    "    设置NumPy的随机种子, 用于生成随机数. 通过设置相同的种子，可以确保在使用NumPy的随机函数时生成的随机数序列相同\n",
    "    \"\"\"\n",
    "    np.random.seed(seed)\n",
    "    \n",
    "    \"\"\"\n",
    "    设置Python内置的随机函数的种子. Python的random模块提供了许多随机函数, 包括生成随机数、打乱列表等. 通过设置相同的种子, 可以确保使用这些随机函数时生成的随机数序列相同\n",
    "    \"\"\"\n",
    "    random.seed(seed)\n",
    "    \n",
    "    \"\"\"\n",
    "    设置Python的哈希种子 (哈希函数被广泛用于数据结构 (如字典和集合) 的实现，以及一些内部操作 (如查找和比较)). 通过设置相同的种子, 可以确保在不同的运行中生成的哈希结果相同\n",
    "    \"\"\"\n",
    "    # os.environ[\"PYTHONHASHSEED\"] = str(seed)\n",
    "    \n",
    "    \"\"\"\n",
    "    该设置确保每次运行代码时, cuDNN的计算结果是确定性的, 即相同的输入会产生相同的输出, 这是通过禁用一些非确定性的算法来实现的, 例如在卷积操作中使用的算法. 这样做可以保证模型的训练和推理在相同的硬件和软件环境下是可复现的, 即每次运行代码时的结果都相同. 但是, 这可能会导致一些性能上的损失, 因为禁用了一些优化的非确定性算法\n",
    "    \"\"\"\n",
    "    torch.backends.cudnn.deterministic = True\n",
    "    \n",
    "    \"\"\"\n",
    "    该设置禁用了cuDNN的自动优化过程. 当它被设置为False时, PyTorch不会在每次运行时重新寻找最优的算法配置, 而是使用固定的算法配置. 这样做可以确保每次运行代码时的性能是一致的, 但可能会导致一些性能上的损失\n",
    "    \"\"\"\n",
    "    torch.backends.cudnn.benchmark = False\n",
    "\n"
   ]
  },
  {
   "cell_type": "code",
   "execution_count": 8,
   "metadata": {},
   "outputs": [
    {
     "name": "stderr",
     "output_type": "stream",
     "text": [
      "Adam:   7%|▋         | 10037/150000 [00:45<10:00, 233.16it/s]"
     ]
    },
    {
     "name": "stdout",
     "output_type": "stream",
     "text": [
      "Epoch [10000/150000], Loss: 0.0000, Learning Rate: 0.00100000\n"
     ]
    },
    {
     "name": "stderr",
     "output_type": "stream",
     "text": [
      "Adam:  13%|█▎        | 20040/150000 [01:30<09:20, 231.75it/s]"
     ]
    },
    {
     "name": "stdout",
     "output_type": "stream",
     "text": [
      "Epoch [20000/150000], Loss: 0.0000, Learning Rate: 0.00100000\n"
     ]
    },
    {
     "name": "stderr",
     "output_type": "stream",
     "text": [
      "Adam:  20%|██        | 30047/150000 [02:16<09:04, 220.27it/s]"
     ]
    },
    {
     "name": "stdout",
     "output_type": "stream",
     "text": [
      "Epoch [30000/150000], Loss: 0.0000, Learning Rate: 0.00100000\n"
     ]
    },
    {
     "name": "stderr",
     "output_type": "stream",
     "text": [
      "Adam:  27%|██▋       | 40038/150000 [03:00<08:04, 226.83it/s]"
     ]
    },
    {
     "name": "stdout",
     "output_type": "stream",
     "text": [
      "Epoch [40000/150000], Loss: 0.0000, Learning Rate: 0.00100000\n"
     ]
    },
    {
     "name": "stderr",
     "output_type": "stream",
     "text": [
      "Adam:  33%|███▎      | 50032/150000 [03:44<07:03, 235.86it/s]"
     ]
    },
    {
     "name": "stdout",
     "output_type": "stream",
     "text": [
      "Epoch [50000/150000], Loss: 0.0000, Learning Rate: 0.00100000\n"
     ]
    },
    {
     "name": "stderr",
     "output_type": "stream",
     "text": [
      "Adam:  40%|████      | 60020/150000 [04:31<08:47, 170.47it/s]"
     ]
    },
    {
     "name": "stdout",
     "output_type": "stream",
     "text": [
      "Epoch [60000/150000], Loss: 0.0000, Learning Rate: 0.00100000\n"
     ]
    },
    {
     "name": "stderr",
     "output_type": "stream",
     "text": [
      "Adam:  47%|████▋     | 70029/150000 [05:18<05:43, 233.01it/s]"
     ]
    },
    {
     "name": "stdout",
     "output_type": "stream",
     "text": [
      "Epoch [70000/150000], Loss: 0.0000, Learning Rate: 0.00100000\n"
     ]
    },
    {
     "name": "stderr",
     "output_type": "stream",
     "text": [
      "Adam:  53%|█████▎    | 80021/150000 [06:02<05:20, 218.49it/s]"
     ]
    },
    {
     "name": "stdout",
     "output_type": "stream",
     "text": [
      "Epoch [80000/150000], Loss: 0.0000, Learning Rate: 0.00100000\n"
     ]
    },
    {
     "name": "stderr",
     "output_type": "stream",
     "text": [
      "Adam:  60%|██████    | 90029/150000 [06:46<04:23, 227.43it/s]"
     ]
    },
    {
     "name": "stdout",
     "output_type": "stream",
     "text": [
      "Epoch [90000/150000], Loss: 0.0000, Learning Rate: 0.00100000\n"
     ]
    },
    {
     "name": "stderr",
     "output_type": "stream",
     "text": [
      "Adam:  67%|██████▋   | 100038/150000 [07:29<03:34, 232.40it/s]"
     ]
    },
    {
     "name": "stdout",
     "output_type": "stream",
     "text": [
      "Epoch [100000/150000], Loss: 0.0000, Learning Rate: 0.00100000\n"
     ]
    },
    {
     "name": "stderr",
     "output_type": "stream",
     "text": [
      "Adam:  73%|███████▎  | 110039/150000 [08:12<02:55, 227.30it/s]"
     ]
    },
    {
     "name": "stdout",
     "output_type": "stream",
     "text": [
      "Epoch [110000/150000], Loss: 0.0000, Learning Rate: 0.00100000\n"
     ]
    },
    {
     "name": "stderr",
     "output_type": "stream",
     "text": [
      "Adam:  80%|████████  | 120032/150000 [08:57<02:19, 214.47it/s]"
     ]
    },
    {
     "name": "stdout",
     "output_type": "stream",
     "text": [
      "Epoch [120000/150000], Loss: 0.0000, Learning Rate: 0.00100000\n"
     ]
    },
    {
     "name": "stderr",
     "output_type": "stream",
     "text": [
      "Adam:  87%|████████▋ | 130027/150000 [09:43<01:27, 227.26it/s]"
     ]
    },
    {
     "name": "stdout",
     "output_type": "stream",
     "text": [
      "Epoch [130000/150000], Loss: 0.0000, Learning Rate: 0.00100000\n"
     ]
    },
    {
     "name": "stderr",
     "output_type": "stream",
     "text": [
      "Adam:  93%|█████████▎| 140041/150000 [10:29<00:43, 227.67it/s]"
     ]
    },
    {
     "name": "stdout",
     "output_type": "stream",
     "text": [
      "Epoch [140000/150000], Loss: 0.0000, Learning Rate: 0.00100000\n"
     ]
    },
    {
     "name": "stderr",
     "output_type": "stream",
     "text": [
      "Adam: 100%|██████████| 150000/150000 [11:13<00:00, 222.57it/s]"
     ]
    },
    {
     "name": "stdout",
     "output_type": "stream",
     "text": [
      "Epoch [150000/150000], Loss: 0.0000, Learning Rate: 0.00100000\n",
      "Training time: 673.9376\n"
     ]
    },
    {
     "name": "stderr",
     "output_type": "stream",
     "text": [
      "\n"
     ]
    }
   ],
   "source": [
    "set_seed(12) #设置随机数种子\n",
    "#设置噪声水平为0\n",
    "noise = 0.0        \n",
    "\n",
    "N_u = 1\n",
    "N_f = 300\n",
    "\n",
    "#定义一个列表layers，其中包含了神经网络的层数和每一层的神经元数量\n",
    "layers = [1, 50, 50, 3]\n",
    "\n",
    "lb  = np.array([0.0])              # t的左边界\n",
    "ub  = np.array([300.0])          # t的右边界\n",
    "\n",
    "# Define the initial MSS state\n",
    "X_u = np.array([[0]])\n",
    "u = np.array([[1,0,0]])          # 初始真实状态\n",
    "X_f = np.linspace(lb, ub, N_f)     # 配位点位置\n",
    "\n",
    "error_u = [] #创建一个空列表，用于存储误差值\n",
    "error_mae = [] #创建一个空列表，用于存储MAE值\n",
    "error_mse = [] #创建一个空列表，用于存储MSE值\n",
    "\n",
    "\n",
    "\n",
    "nIter = 150000 #设置迭代次数为10000\n",
    "\n",
    "\n",
    "#创建PINN模型并输入各种参数     \n",
    "# model = PhysicsInformedNN(X_u, u, X_f, layers, lb, ub, X_star, u_star)\n",
    "model = PhysicsInformedNN(X_u, u, X_f, layers, lb, ub)\n",
    "\n",
    "#获取当前时间并赋值给start_time  \n",
    "start_time = time.time()   \n",
    "#开始训练模型            \n",
    "model.train(nIter)\n",
    "#训练结束后获取当前时间并减去start_time，得到训练时间并赋值给elapsed\n",
    "elapsed = time.time() - start_time\n",
    "#打印训练所花时间                \n",
    "print('Training time: %.4f' % (elapsed))\n",
    "\n"
   ]
  },
  {
   "cell_type": "code",
   "execution_count": 9,
   "metadata": {},
   "outputs": [],
   "source": [
    "trainloss = torch.stack(model.loss_value).cpu().detach().numpy()"
   ]
  },
  {
   "cell_type": "code",
   "execution_count": 10,
   "metadata": {},
   "outputs": [
    {
     "name": "stdout",
     "output_type": "stream",
     "text": [
      "150000\n",
      "[1.8254286e-01 1.6177690e-01 1.4195541e-01 ... 3.5516946e-06 3.5516691e-06\n",
      " 3.5516455e-06]\n"
     ]
    },
    {
     "data": {
      "image/png": "[encoded data removed]",
      "text/plain": [
       "<Figure size 640x480 with 1 Axes>"
      ]
     },
     "metadata": {},
     "output_type": "display_data"
    }
   ],
   "source": [
    "print(len(trainloss))\n",
    "print(trainloss)\n",
    "# 定义图例的标签\n",
    "labels = [\"Grid\"]\n",
    "\n",
    "# 创建一个新的图形\n",
    "plt.figure()\n",
    "\n",
    "# # 遍历所有的loss数据和标签\n",
    "# for loss, label in zip(trainloss, labels):\n",
    "#     # 绘制每个loss数据，并使用标签作为图例的条目\n",
    "#     plt.plot(loss, label=label)\n",
    "\n",
    "plt.plot(trainloss, label='train loss')\n",
    "\n",
    "# 添加图例，放在图像外\n",
    "plt.legend(bbox_to_anchor=(1.05, 1), loc='upper left')\n",
    "\n",
    "\n",
    "plt.xlim([0,150000]) # 设置x轴的范围\n",
    "plt.yscale('log') #设置y轴为对数尺度，这样即使列表中有一些非常大的值，也不会影响其他值的可视化\n",
    "plt.xlabel('Iteration') # 设置x轴的标签\n",
    "plt.ylabel('Loss') # 设置y轴的标签\n",
    "plt.title('Loss vs. Iteration based on different methods of sampling') # 设置图形的标题\n",
    "# 显示图形\n",
    "plt.show()"
   ]
  },
  {
   "cell_type": "code",
   "execution_count": 11,
   "metadata": {},
   "outputs": [
    {
     "data": {
      "text/plain": [
       "array([[  1.],\n",
       "       [  2.],\n",
       "       [  3.],\n",
       "       [  4.],\n",
       "       [  5.],\n",
       "       [  6.],\n",
       "       [  7.],\n",
       "       [  8.],\n",
       "       [  9.],\n",
       "       [ 10.],\n",
       "       [ 11.],\n",
       "       [ 12.],\n",
       "       [ 13.],\n",
       "       [ 14.],\n",
       "       [ 15.],\n",
       "       [ 16.],\n",
       "       [ 17.],\n",
       "       [ 18.],\n",
       "       [ 19.],\n",
       "       [ 20.],\n",
       "       [ 21.],\n",
       "       [ 22.],\n",
       "       [ 23.],\n",
       "       [ 24.],\n",
       "       [ 25.],\n",
       "       [ 26.],\n",
       "       [ 27.],\n",
       "       [ 28.],\n",
       "       [ 29.],\n",
       "       [ 30.],\n",
       "       [ 31.],\n",
       "       [ 32.],\n",
       "       [ 33.],\n",
       "       [ 34.],\n",
       "       [ 35.],\n",
       "       [ 36.],\n",
       "       [ 37.],\n",
       "       [ 38.],\n",
       "       [ 39.],\n",
       "       [ 40.],\n",
       "       [ 41.],\n",
       "       [ 42.],\n",
       "       [ 43.],\n",
       "       [ 44.],\n",
       "       [ 45.],\n",
       "       [ 46.],\n",
       "       [ 47.],\n",
       "       [ 48.],\n",
       "       [ 49.],\n",
       "       [ 50.],\n",
       "       [ 51.],\n",
       "       [ 52.],\n",
       "       [ 53.],\n",
       "       [ 54.],\n",
       "       [ 55.],\n",
       "       [ 56.],\n",
       "       [ 57.],\n",
       "       [ 58.],\n",
       "       [ 59.],\n",
       "       [ 60.],\n",
       "       [ 61.],\n",
       "       [ 62.],\n",
       "       [ 63.],\n",
       "       [ 64.],\n",
       "       [ 65.],\n",
       "       [ 66.],\n",
       "       [ 67.],\n",
       "       [ 68.],\n",
       "       [ 69.],\n",
       "       [ 70.],\n",
       "       [ 71.],\n",
       "       [ 72.],\n",
       "       [ 73.],\n",
       "       [ 74.],\n",
       "       [ 75.],\n",
       "       [ 76.],\n",
       "       [ 77.],\n",
       "       [ 78.],\n",
       "       [ 79.],\n",
       "       [ 80.],\n",
       "       [ 81.],\n",
       "       [ 82.],\n",
       "       [ 83.],\n",
       "       [ 84.],\n",
       "       [ 85.],\n",
       "       [ 86.],\n",
       "       [ 87.],\n",
       "       [ 88.],\n",
       "       [ 89.],\n",
       "       [ 90.],\n",
       "       [ 91.],\n",
       "       [ 92.],\n",
       "       [ 93.],\n",
       "       [ 94.],\n",
       "       [ 95.],\n",
       "       [ 96.],\n",
       "       [ 97.],\n",
       "       [ 98.],\n",
       "       [ 99.],\n",
       "       [100.],\n",
       "       [101.],\n",
       "       [102.],\n",
       "       [103.],\n",
       "       [104.],\n",
       "       [105.],\n",
       "       [106.],\n",
       "       [107.],\n",
       "       [108.],\n",
       "       [109.],\n",
       "       [110.],\n",
       "       [111.],\n",
       "       [112.],\n",
       "       [113.],\n",
       "       [114.],\n",
       "       [115.],\n",
       "       [116.],\n",
       "       [117.],\n",
       "       [118.],\n",
       "       [119.],\n",
       "       [120.],\n",
       "       [121.],\n",
       "       [122.],\n",
       "       [123.],\n",
       "       [124.],\n",
       "       [125.],\n",
       "       [126.],\n",
       "       [127.],\n",
       "       [128.],\n",
       "       [129.],\n",
       "       [130.],\n",
       "       [131.],\n",
       "       [132.],\n",
       "       [133.],\n",
       "       [134.],\n",
       "       [135.],\n",
       "       [136.],\n",
       "       [137.],\n",
       "       [138.],\n",
       "       [139.],\n",
       "       [140.],\n",
       "       [141.],\n",
       "       [142.],\n",
       "       [143.],\n",
       "       [144.],\n",
       "       [145.],\n",
       "       [146.],\n",
       "       [147.],\n",
       "       [148.],\n",
       "       [149.],\n",
       "       [150.],\n",
       "       [151.],\n",
       "       [152.],\n",
       "       [153.],\n",
       "       [154.],\n",
       "       [155.],\n",
       "       [156.],\n",
       "       [157.],\n",
       "       [158.],\n",
       "       [159.],\n",
       "       [160.],\n",
       "       [161.],\n",
       "       [162.],\n",
       "       [163.],\n",
       "       [164.],\n",
       "       [165.],\n",
       "       [166.],\n",
       "       [167.],\n",
       "       [168.],\n",
       "       [169.],\n",
       "       [170.],\n",
       "       [171.],\n",
       "       [172.],\n",
       "       [173.],\n",
       "       [174.],\n",
       "       [175.],\n",
       "       [176.],\n",
       "       [177.],\n",
       "       [178.],\n",
       "       [179.],\n",
       "       [180.],\n",
       "       [181.],\n",
       "       [182.],\n",
       "       [183.],\n",
       "       [184.],\n",
       "       [185.],\n",
       "       [186.],\n",
       "       [187.],\n",
       "       [188.],\n",
       "       [189.],\n",
       "       [190.],\n",
       "       [191.],\n",
       "       [192.],\n",
       "       [193.],\n",
       "       [194.],\n",
       "       [195.],\n",
       "       [196.],\n",
       "       [197.],\n",
       "       [198.],\n",
       "       [199.],\n",
       "       [200.],\n",
       "       [201.],\n",
       "       [202.],\n",
       "       [203.],\n",
       "       [204.],\n",
       "       [205.],\n",
       "       [206.],\n",
       "       [207.],\n",
       "       [208.],\n",
       "       [209.],\n",
       "       [210.],\n",
       "       [211.],\n",
       "       [212.],\n",
       "       [213.],\n",
       "       [214.],\n",
       "       [215.],\n",
       "       [216.],\n",
       "       [217.],\n",
       "       [218.],\n",
       "       [219.],\n",
       "       [220.],\n",
       "       [221.],\n",
       "       [222.],\n",
       "       [223.],\n",
       "       [224.],\n",
       "       [225.],\n",
       "       [226.],\n",
       "       [227.],\n",
       "       [228.],\n",
       "       [229.],\n",
       "       [230.],\n",
       "       [231.],\n",
       "       [232.],\n",
       "       [233.],\n",
       "       [234.],\n",
       "       [235.],\n",
       "       [236.],\n",
       "       [237.],\n",
       "       [238.],\n",
       "       [239.],\n",
       "       [240.],\n",
       "       [241.],\n",
       "       [242.],\n",
       "       [243.],\n",
       "       [244.],\n",
       "       [245.],\n",
       "       [246.],\n",
       "       [247.],\n",
       "       [248.],\n",
       "       [249.],\n",
       "       [250.],\n",
       "       [251.],\n",
       "       [252.],\n",
       "       [253.],\n",
       "       [254.],\n",
       "       [255.],\n",
       "       [256.],\n",
       "       [257.],\n",
       "       [258.],\n",
       "       [259.],\n",
       "       [260.],\n",
       "       [261.],\n",
       "       [262.],\n",
       "       [263.],\n",
       "       [264.],\n",
       "       [265.],\n",
       "       [266.],\n",
       "       [267.],\n",
       "       [268.],\n",
       "       [269.],\n",
       "       [270.],\n",
       "       [271.],\n",
       "       [272.],\n",
       "       [273.],\n",
       "       [274.],\n",
       "       [275.],\n",
       "       [276.],\n",
       "       [277.],\n",
       "       [278.],\n",
       "       [279.],\n",
       "       [280.],\n",
       "       [281.],\n",
       "       [282.],\n",
       "       [283.],\n",
       "       [284.],\n",
       "       [285.],\n",
       "       [286.],\n",
       "       [287.],\n",
       "       [288.],\n",
       "       [289.],\n",
       "       [290.],\n",
       "       [291.],\n",
       "       [292.],\n",
       "       [293.],\n",
       "       [294.],\n",
       "       [295.],\n",
       "       [296.],\n",
       "       [297.],\n",
       "       [298.],\n",
       "       [299.],\n",
       "       [300.]])"
      ]
     },
     "execution_count": 11,
     "metadata": {},
     "output_type": "execute_result"
    }
   ],
   "source": [
    "# up = 80000\n",
    "n_star = 300+1\n",
    "x_star = np.linspace(lb, ub, n_star)[1:] #N_star = x_star.shape[0] \n",
    "x_star"
   ]
  },
  {
   "cell_type": "code",
   "execution_count": 12,
   "metadata": {},
   "outputs": [
    {
     "name": "stdout",
     "output_type": "stream",
     "text": [
      "CPU times: total: 0 ns\n",
      "Wall time: 999 µs\n"
     ]
    }
   ],
   "source": [
    "%%time\n",
    "\n",
    "y_pred = model.predict(x_star)"
   ]
  },
  {
   "cell_type": "code",
   "execution_count": 13,
   "metadata": {},
   "outputs": [
    {
     "name": "stdout",
     "output_type": "stream",
     "text": [
      "    state_0   state_1   state_2\n",
      "0  0.998332  0.000918  0.000750\n",
      "1  0.998150  0.001013  0.000837\n",
      "2  0.997945  0.001119  0.000935\n",
      "3  0.997717  0.001238  0.001046\n",
      "4  0.997460  0.001369  0.001170\n",
      "      state_0   state_1   state_2\n",
      "295  0.000150  0.005274  0.994577\n",
      "296  0.000145  0.005247  0.994607\n",
      "297  0.000142  0.005222  0.994637\n",
      "298  0.000138  0.005197  0.994665\n",
      "299  0.000134  0.005174  0.994692\n"
     ]
    }
   ],
   "source": [
    "y_pred_df = pd.DataFrame(y_pred, columns = ['state_0', 'state_1', 'state_2'])\n",
    "print(y_pred_df.head())\n",
    "print(y_pred_df.tail())"
   ]
  },
  {
   "cell_type": "code",
   "execution_count": 14,
   "metadata": {},
   "outputs": [
    {
     "data": {
      "text/plain": [
       "Text(0, 0.5, 'Probability')"
      ]
     },
     "execution_count": 14,
     "metadata": {},
     "output_type": "execute_result"
    },
    {
     "data": {
      "image/png": "[encoded data removed]",
      "text/plain": [
       "<Figure size 800x500 with 1 Axes>"
      ]
     },
     "metadata": {},
     "output_type": "display_data"
    }
   ],
   "source": [
    "plt.figure(figsize=(8, 5)) #设置图形尺寸为8*5\n",
    "\n",
    "sns.lineplot(x = x_star.flatten(), y = y_pred[:, 0], label = 'State 0', linewidth = 5, color = 'green', linestyle='dotted')\n",
    "#绘制第一条折线图，横坐标为x_star，代表不同的时刻，纵坐标为exact_solution_Laplace数据的第一列，设置这条线的标签为State 0，线宽为5，颜色为绿色，线型为点线\n",
    "sns.lineplot(x = x_star.flatten(), y = y_pred[:, 1], label = 'State 1', linewidth = 5, color = 'blue', linestyle='dotted')\n",
    "#绘制第二条折线图，横坐标为x_star，代表不同的时刻，纵坐标为exact_solution_Laplace数据的第二列，设置这条线的标签为State 1，线宽为5，颜色为蓝色，线型为点线\n",
    "sns.lineplot(x = x_star.flatten(), y = y_pred[:, 2], label = 'State 2', linewidth = 5, color = 'red', linestyle='dotted')\n",
    "#绘制第三条折线图，横坐标为x_star，代表不同的时刻，纵坐标为exact_solution_Laplace数据的第三列，设置这条线的标签为State 2，线宽为5，颜色为红色，线型为点线\n",
    "\n",
    "plt.yscale('log') #设置y轴的刻度为对数刻度\n",
    "plt.xlabel(\"Time (hours)\", fontdict=dict(weight='bold'), fontsize=16) #设置x轴标签为Time (hours)，字体加粗，字体大小为16\n",
    "plt.ylabel(\"Probability\", fontdict=dict(weight='bold'), fontsize=16) #设置y轴标签为Probability，字体加粗，字体大小为16"
   ]
  },
  {
   "cell_type": "code",
   "execution_count": 15,
   "metadata": {},
   "outputs": [
    {
     "data": {
      "text/html": [
       "<div>\n",
       "<style scoped>\n",
       "    .dataframe tbody tr th:only-of-type {\n",
       "        vertical-align: middle;\n",
       "    }\n",
       "\n",
       "    .dataframe tbody tr th {\n",
       "        vertical-align: top;\n",
       "    }\n",
       "\n",
       "    .dataframe thead th {\n",
       "        text-align: right;\n",
       "    }\n",
       "</style>\n",
       "<table border=\"1\" class=\"dataframe\">\n",
       "  <thead>\n",
       "    <tr style=\"text-align: right;\">\n",
       "      <th></th>\n",
       "      <th>state_0</th>\n",
       "      <th>state_1</th>\n",
       "      <th>state_2</th>\n",
       "    </tr>\n",
       "  </thead>\n",
       "  <tbody>\n",
       "    <tr>\n",
       "      <th>0</th>\n",
       "      <td>0.999875</td>\n",
       "      <td>0.000050</td>\n",
       "      <td>0.000075</td>\n",
       "    </tr>\n",
       "    <tr>\n",
       "      <th>1</th>\n",
       "      <td>0.999505</td>\n",
       "      <td>0.000217</td>\n",
       "      <td>0.000279</td>\n",
       "    </tr>\n",
       "    <tr>\n",
       "      <th>2</th>\n",
       "      <td>0.998871</td>\n",
       "      <td>0.000483</td>\n",
       "      <td>0.000646</td>\n",
       "    </tr>\n",
       "    <tr>\n",
       "      <th>3</th>\n",
       "      <td>0.997994</td>\n",
       "      <td>0.000869</td>\n",
       "      <td>0.001137</td>\n",
       "    </tr>\n",
       "    <tr>\n",
       "      <th>4</th>\n",
       "      <td>0.996878</td>\n",
       "      <td>0.001357</td>\n",
       "      <td>0.001765</td>\n",
       "    </tr>\n",
       "  </tbody>\n",
       "</table>\n",
       "</div>"
      ],
      "text/plain": [
       "    state_0   state_1   state_2\n",
       "0  0.999875  0.000050  0.000075\n",
       "1  0.999505  0.000217  0.000279\n",
       "2  0.998871  0.000483  0.000646\n",
       "3  0.997994  0.000869  0.001137\n",
       "4  0.996878  0.001357  0.001765"
      ]
     },
     "execution_count": 15,
     "metadata": {},
     "output_type": "execute_result"
    }
   ],
   "source": [
    "MCS_solution_df = pd.read_csv('MCS_non_homo_300.csv')\n",
    "MCS_solution_df.columns = ['time', 'state_0', 'state_1', 'state_2']\n",
    "\n",
    "MCS_solution_df.drop(labels='time', inplace=True, axis = 1)\n",
    "\n",
    "MCS_solution_df.head()"
   ]
  },
  {
   "cell_type": "code",
   "execution_count": 16,
   "metadata": {},
   "outputs": [
    {
     "data": {
      "image/png": "[encoded data removed]",
      "text/plain": [
       "<Figure size 1400x600 with 1 Axes>"
      ]
     },
     "metadata": {},
     "output_type": "display_data"
    }
   ],
   "source": [
    "# 创建一个子图\n",
    "f, ax = plt.subplots(1, 1, figsize=(14, 6))\n",
    "\n",
    "# 绘制 PINN without PCGrad 方法的预测结果\n",
    "sns.lineplot(x=x_star.flatten(), y=y_pred[:, 0], label='State 0 [PINN without PCGrad]', linewidth=5, color='green', linestyle='dotted', ax=ax)\n",
    "sns.lineplot(x=x_star.flatten(), y=y_pred[:, 1], label='State 1 [PINN without PCGrad]', linewidth=5, color='blue', linestyle='dotted', ax=ax)\n",
    "sns.lineplot(x=x_star.flatten(), y=y_pred[:, 2], label='State 2 [PINN without PCGrad]', linewidth=5, color='red', linestyle='dotted', ax=ax)\n",
    "\n",
    "# 绘制 Runge-Kutta 方法的结果\n",
    "sns.lineplot(x=x_star.flatten(), y=MCS_solution_df['state_0'], label='State 0 [MCS method]', color='green', alpha=0.6, dashes=True, linewidth=4, ax=ax)\n",
    "sns.lineplot(x=x_star.flatten(), y=MCS_solution_df['state_1'], label='State 1 [MCS method]', color='blue', alpha=0.6, dashes=True, linewidth=4, ax=ax)\n",
    "sns.lineplot(x=x_star.flatten(), y=MCS_solution_df['state_2'], label='State 2 [MCS method]', color='red', alpha=0.6, dashes=True, linewidth=4, ax=ax)\n",
    "\n",
    "\n",
    "# 设置 y 轴为对数刻度\n",
    "ax.set_yscale(\"log\")\n",
    "# ax.set_ylim([1e-9, 2])\n",
    "ax.set_xlabel(\"Time (hours)\", fontdict=dict(weight='bold'), fontsize=16)\n",
    "ax.set_ylabel(\"Probability\", fontdict=dict(weight='bold'), fontsize=16)\n",
    "\n",
    "# 自动调整子图参数\n",
    "plt.tight_layout()\n",
    "\n",
    "\n",
    "# 显示图形\n",
    "plt.show()"
   ]
  },
  {
   "cell_type": "code",
   "execution_count": null,
   "metadata": {},
   "outputs": [],
   "source": []
  },
  {
   "cell_type": "markdown",
   "metadata": {},
   "source": [
    "### 计算RMSE"
   ]
  },
  {
   "cell_type": "code",
   "execution_count": 17,
   "metadata": {},
   "outputs": [],
   "source": [
    "# y_diff_MCS = MCS_solution_df - eigenvector_solution_df #MCS方法和解析方法（特征向量）差值\n",
    "# y_diff_matlab = matlab_solver_solution_df - eigenvector_solution_df #Runge-Kutta方法和解析方法（特征向量）差值\n",
    "\n",
    "y_diff_no_pcgrad_eigenvectors = MCS_solution_df - y_pred_df #解析方法（特征向量）和PINN方法差值\n",
    "# y_diff_no_pcgrad_laplace = laplace_solution_df - y_pred_df #解析方法（拉普拉斯）和PINN方法差值"
   ]
  },
  {
   "cell_type": "code",
   "execution_count": 18,
   "metadata": {},
   "outputs": [],
   "source": [
    "# ### MCS, matlab versus analytical approaches\n",
    "# y_diff_MCS['mse'] = y_diff_MCS.apply(lambda x: x['state_0']**2 + x['state_1']**2 + x['state_2']**2, axis = 1)\n",
    "# y_diff_MCS['rmse'] = y_diff_MCS['mse'].apply(np.sqrt)\n",
    "\n",
    "# y_diff_matlab['mse'] = y_diff_matlab.apply(lambda x: x['state_0']**2 + x['state_1']**2 + x['state_2']**2, axis = 1)\n",
    "# y_diff_matlab['rmse'] = y_diff_matlab['mse'].apply(np.sqrt)\n",
    "\n",
    "### PINN和解析方法的RMSE计算\n",
    "#计算MSE，对PINN和解析方法的差值的每一行应用一个匿名函数，计算三个状态的平方和，结果存储在DataFrame的新列'mse'中\n",
    "y_diff_no_pcgrad_eigenvectors['mse'] = y_diff_no_pcgrad_eigenvectors.apply(lambda x: x['state_0']**2 + x['state_1']**2 + x['state_2']**2, axis = 1)\n",
    "#计算RMSE，对'mse'列应用np.sqrt函数，结果存储在DataFrame的新列'rmse'中\n",
    "y_diff_no_pcgrad_eigenvectors['rmse'] = y_diff_no_pcgrad_eigenvectors['mse'].apply(np.sqrt)\n",
    "\n",
    "# y_diff_no_pcgrad_laplace['mse'] = y_diff_no_pcgrad_laplace.apply(lambda x: x['state_0']**2 + x['state_1']**2 + x['state_2']**2, axis = 1)\n",
    "# y_diff_no_pcgrad_laplace['rmse'] = y_diff_no_pcgrad_laplace['mse'].apply(np.sqrt)\n"
   ]
  },
  {
   "cell_type": "code",
   "execution_count": 19,
   "metadata": {},
   "outputs": [
    {
     "name": "stdout",
     "output_type": "stream",
     "text": [
      "RMSE of between PINN without PCGrad and the analytical solution is 0.032514545625008974\n"
     ]
    }
   ],
   "source": [
    "# print ('RMSE between the MCS and the analytical solution is', np.mean(y_diff_MCS['rmse']))\n",
    "# print ('RMSE between the Runge–Kutta method and the analytical solution is', np.mean(y_diff_matlab['rmse']))\n",
    "\n",
    "print ('RMSE of between PINN without PCGrad and the analytical solution is', np.mean(y_diff_no_pcgrad_eigenvectors['rmse']))\n",
    "# print ('RMSE of between PINN without PCGrad and the analytical solution is', np.mean(y_diff_no_pcgrad_laplace['rmse']))"
   ]
  },
  {
   "cell_type": "code",
   "execution_count": null,
   "metadata": {},
   "outputs": [],
   "source": []
  }
 ],
 "metadata": {
  "kernelspec": {
   "display_name": "pytorchgpu",
   "language": "python",
   "name": "python3"
  },
  "language_info": {
   "codemirror_mode": {
    "name": "ipython",
    "version": 3
   },
   "file_extension": ".py",
   "mimetype": "text/x-python",
   "name": "python",
   "nbconvert_exporter": "python",
   "pygments_lexer": "ipython3",
   "version": "3.10.13"
  }
 },
 "nbformat": 4,
 "nbformat_minor": 2
}
