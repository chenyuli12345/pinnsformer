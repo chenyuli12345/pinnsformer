{
 "cells": [
  {
   "cell_type": "code",
   "execution_count": 1,
   "metadata": {
    "execution": {
     "iopub.execute_input": "2025-08-08T04:51:21.490335Z",
     "iopub.status.busy": "2025-08-08T04:51:21.489906Z",
     "iopub.status.idle": "2025-08-08T04:51:22.520329Z",
     "shell.execute_reply": "2025-08-08T04:51:22.519976Z"
    }
   },
   "outputs": [],
   "source": [
    "\n",
    "import torch\n",
    "#collections是python一个内置模块，提供了一些有用的数据结构\n",
    "from collections import OrderedDict  #这个类是字典dict的一个子类，用于创建有序的字典。普通字典中元素顺序是无序的，在OrderedDict中元素的顺序是有序的，元素的顺序是按照它们被添加到字典中的顺序决定的。\n",
    "\n",
    "from pyDOE import lhs #`pyDOE`是一个Python库，用于设计实验。它提供了一些函数来生成各种设计，如因子设计、拉丁超立方设计等。`lhs`是库中的一个函数，全名为\"Latin Hypercube Sampling\"，拉丁超立方采样。这是一种统计方法，用于生成一个近似均匀分布的多维样本点集。它在参数空间中生成一个非常均匀的样本，这对于高维数值优化问题非常有用，因为它可以更好地覆盖参数空间。\n",
    "import numpy as np\n",
    "import matplotlib.pyplot as plt\n",
    "import scipy.io #导入了scipy库中的io模块。scipy.io模块包含了一些用于文件输入/输出的函数，例如读取和写入.mat文件（MATLAB格式）\n",
    "from scipy.interpolate import griddata #`scipy.interpolate`是`scipy`库中的一个模块，提供了许多插值工具，用于在给定的离散数据点之间进行插值和拟合。`griddata`是这个模块中的一个函数，用于在无规则的数据点上进行插值。\n",
    "\n",
    "import random\n",
    "\n",
    "import skopt #用于优化问题的库，特别是机器学习中的超参数优化\n",
    "from distutils.version import LooseVersion #distutils是Python的一个标准库，用于构建和安装Python包。LooseVersion是一个类，用于比较版本号\n",
    "\n",
    "\n",
    "# from plotting_torch import newfig, savefig #从自定义的plotting_torch.py文件中导入了newfig和savefig函数。这两个函数用于创建和保存图形。这两个函数的定义在plotting_torch.py文件中\n",
    "\n",
    "from mpl_toolkits.axes_grid1 import make_axes_locatable #`mpl_toolkits.axes_grid1`是`matplotlib`库的一个模块，提供了一些高级的工具来控制matplotlib图形中的坐标轴和颜色条。`make_axes_locatable`是模块中的一个函数，用于创建一个可分割的坐标轴。可以在这个坐标轴的四个方向（上、下、左、右）添加新的坐标轴或颜色条。\n",
    "import matplotlib.gridspec as gridspec #是`matplotlib`库的一个模块，用于创建一个网格布局来放置子图。在`matplotlib`中可以创建一个或多个子图（subplot），每个子图都有自己的坐标轴，并可以在其中绘制图形。`gridspec`模块提供了一个灵活的方式来创建和放置子图。\n",
    "import time #一个内置模块，用于处理时间相关的操作。\n",
    "\n",
    "\n",
    "from tqdm import tqdm #一个快速，可扩展的python进度条库，可以在python长循环中添加一个进度提示信息，用户只需要封装任意的迭代器tqdm(iterator)。\n",
    "\n",
    "import os\n",
    "import pickle\n",
    "\n",
    "import timeit #用于计时和测量小段代码的执行时间\n",
    "import seaborn as sns  # 导入seaborn库用于绘制密度图\n",
    "import pandas as pd #一个用于数据操作和分析的库，提供了数据结构和数据分析工具，特别是用于处理表格数据（类似于Excel中的数据表）\n",
    "\n",
    "import sys #导入sys模块。sys模块提供了一些变量和函数，用于与 Python解释器进行交互和访问。例如，sys.path 是一个 Python 在导入模块时会查找的路径列表，sys.argv 是一个包含命令行参数的列表，sys.exit() 函数可以用于退出 Python 程序。导入 sys 模块后，你就可以在你的程序中使用这些变量和函数了。\n",
    "sys.path.insert(0, '../../..') #在 Python的sys.path列表中插入一个新的路径。sys.path是一个 Python 在导入模块时会查找的路径列表。新的路径'../../Utilities/'相对于当前脚本的路径。当你尝试导入一个模块时，Python 会在 sys.path 列表中的路径下查找这个模块。通过在列表开始位置插入一个路径，你可以让 Python 优先在这个路径下查找模块。这在你需要导入自定义模块或者不在 Python 标准库中的模块时非常有用。\n",
    "from util import *"
   ]
  },
  {
   "cell_type": "code",
   "execution_count": 2,
   "metadata": {
    "execution": {
     "iopub.execute_input": "2025-08-08T04:51:22.522159Z",
     "iopub.status.busy": "2025-08-08T04:51:22.522049Z",
     "iopub.status.idle": "2025-08-08T04:51:22.613746Z",
     "shell.execute_reply": "2025-08-08T04:51:22.612873Z"
    }
   },
   "outputs": [],
   "source": [
    "torch.cuda.set_device(0) #设置当前使用的GPU设备。这里设置为1号GPU设备（第二块显卡）。\n",
    "\n",
    "# CUDA support \n",
    "\n",
    "#设置pytorch的设备，代表了在哪里执行张量积算，设备可以是cpu或者cuda（gpu），并将这个做运算的设备对象存储在变量device中，后续张量计算回在这个设备上执行\n",
    "if torch.cuda.is_available():\n",
    "    device = torch.device('cuda')\n",
    "else:\n",
    "    device = torch.device('cpu')"
   ]
  },
  {
   "cell_type": "code",
   "execution_count": 3,
   "metadata": {
    "execution": {
     "iopub.execute_input": "2025-08-08T04:51:22.616448Z",
     "iopub.status.busy": "2025-08-08T04:51:22.616275Z",
     "iopub.status.idle": "2025-08-08T04:51:22.626000Z",
     "shell.execute_reply": "2025-08-08T04:51:22.625725Z"
    }
   },
   "outputs": [],
   "source": [
    "# implementation of PINNsformer\n",
    "# paper: PINNsFormer: A Transformer-Based Framework For Physics-Informed Neural Networks\n",
    "# link: https://arxiv.org/abs/2307.11833\n",
    "\n",
    "import torch\n",
    "import torch.nn as nn\n",
    "import pdb\n",
    "\n",
    "from util import get_clones\n",
    "\n",
    "\n",
    "#自定义激活函数Wavelet：w1 * sin(x) + w2 * cos(x)\n",
    "class WaveAct(nn.Module):\n",
    "    def __init__(self):\n",
    "        super(WaveAct, self).__init__() \n",
    "        #自定义两个可学习参数w1和w2，初始化为1，训练过程中会更新这两个参数\n",
    "        self.w1 = nn.Parameter(torch.ones(1), requires_grad=True)\n",
    "        self.w2 = nn.Parameter(torch.ones(1), requires_grad=True)\n",
    "\n",
    "    def forward(self, x):\n",
    "        return self.w1 * torch.sin(x)+ self.w2 * torch.cos(x)\n",
    "\n",
    "#MLP组件，第一层形状为(d_model, d_ff)，第二层形状为(d_ff, d_ff)，第三层形状为(d_ff, d_model)，前两个使用自定义激活函数WaveAct\n",
    "class FeedForward(nn.Module):\n",
    "    def __init__(self, d_model, d_ff=256):\n",
    "        super(FeedForward, self).__init__() \n",
    "        self.linear = nn.Sequential(*[\n",
    "            nn.Linear(d_model, d_ff),\n",
    "            WaveAct(),\n",
    "            nn.Linear(d_ff, d_ff),\n",
    "            WaveAct(),\n",
    "            nn.Linear(d_ff, d_model)\n",
    "        ])\n",
    "\n",
    "    def forward(self, x):\n",
    "        return self.linear(x)\n",
    "\n",
    "#编码器层\n",
    "class EncoderLayer(nn.Module):\n",
    "    def __init__(self, d_model, heads):\n",
    "        super(EncoderLayer, self).__init__()\n",
    "        self.attn = nn.MultiheadAttention(embed_dim=d_model, num_heads=heads, batch_first=True) #多头注意力，设置嵌入维度为d_model，头数为heads，batch_first=True表示输入和输出tensor以(批量大小,序列长度,嵌入维度) 形式提供\n",
    "        self.ff = FeedForward(d_model) #MLP组件，输入和输出的形状均为d_model，隐藏层的形状为d_ff默认\n",
    "        self.act1 = WaveAct() #激活函数\n",
    "        self.act2 = WaveAct() #激活函数\n",
    "        \n",
    "    def forward(self, x): #形状为(点的数量，序列长度，d_model)\n",
    "        x2 = self.act1(x) #对输入x应用激活函数\n",
    "        # pdb.set_trace()\n",
    "        x = x + self.attn(x2,x2,x2)[0] #多头注意力机制，查询、键和值均为原始输入经过激活函数后的x2，然后使用残差连接原始输入得到自注意力的输出\n",
    "        x2 = self.act2(x) #对自注意力的输出应用激活函数\n",
    "        x = x + self.ff(x2) #将通过激活函数后的自注意力输出通过MLP组件后残差连接原始自注意力输出，得到编码器的输出\n",
    "        return x \n",
    "\n",
    "\n",
    "class DecoderLayer(nn.Module):\n",
    "    def __init__(self, d_model, heads):\n",
    "        super(DecoderLayer, self).__init__()\n",
    "        self.attn = nn.MultiheadAttention(embed_dim=d_model, num_heads=heads, batch_first=True) # 多头注意力，设置嵌入维度为d_model，头数为heads，batch_first=True表示输入和输出tensor以(批量大小,序列长度,嵌入维度) 形式提供\n",
    "        self.ff = FeedForward(d_model) #MLP组件，输入和输出的形状均为d_model，隐藏层的形状为d_ff默认\n",
    "        self.act1 = WaveAct() #激活函数\n",
    "        self.act2 = WaveAct() #激活函数\n",
    "\n",
    "    def forward(self, x, e_outputs): #输入形状为(点的数量，序列长度，d_model)，e_outputs为编码器的输出，形状也是为(点的数量，序列长度，d_model)\n",
    "        x2 = self.act1(x) #将解码器输入x通过激活函数\n",
    "        x = x + self.attn(x2, e_outputs, e_outputs)[0] #多头注意力机制，查询为解码器输入经过激活函数后的x2，键和值为编码器的输出e_outputs，然后使用残差连接原始输入得到自注意力的输出\n",
    "        x2 = self.act2(x) #将自注意力的输出通过激活函数\n",
    "        x = x + self.ff(x2) #将通过激活函数后的自注意力输出通过MLP组件后残差连接原始自注意力输出，得到解码器的输出\n",
    "        return x\n",
    "\n",
    "#编码器层，包含多个堆叠的编码器架构\n",
    "class Encoder(nn.Module):\n",
    "    def __init__(self, d_model, N, heads): #参数N代表编码器的头数，N代表包含几个编码器，d_model是数据的嵌入维度（用于每个编码器），heads是头的数量\n",
    "        super(Encoder, self).__init__()\n",
    "        self.N = N \n",
    "        self.layers = get_clones(EncoderLayer(d_model, heads), N) #N个编码器\n",
    "        self.act = WaveAct()\n",
    "\n",
    "    def forward(self, x): #输入一次通过N个编码器，x的形状为(点的数量，序列长度，d_model)\n",
    "        for i in range(self.N):\n",
    "            x = self.layers[i](x)\n",
    "        return self.act(x) #编码器的输出要经过激活函数\n",
    "\n",
    "#解码器层，包含多个堆叠的解码器架构\n",
    "class Decoder(nn.Module):\n",
    "    def __init__(self, d_model, N, heads): #参数N代表解码器的头数，N代表包含几个解码器，d_model是数据的嵌入维度（用于每个解码器），heads是头的数量\n",
    "        super(Decoder, self).__init__()\n",
    "        self.N = N\n",
    "        self.layers = get_clones(DecoderLayer(d_model, heads), N) #N个解码器\n",
    "        self.act = WaveAct()\n",
    "        \n",
    "    def forward(self, x, e_outputs): #输入一次通过N个解码器层，x的形状为(点的数量，序列长度，d_model)，e_outputs为编码器的输出，形状也是为(点的数量，序列长度，d_model)\n",
    "        for i in range(self.N): #输入和编码器输出依次通过N个解码器\n",
    "            x = self.layers[i](x, e_outputs) \n",
    "        return self.act(x) #解码器的输出要经过激活函数\n",
    "\n",
    "\n",
    "\n",
    "class DNN(nn.Module):\n",
    "    def __init__(self, d_out, d_model, d_hidden, N, heads): #接受参数为：d_out代表整个模型的输出的维度（就是最后的mlp层的输出维度），d_model代表每个点的特征嵌入维度，d_hidden代表最后的output layer模块中的隐藏层的维度，N代表编码器和解码器的层数，heads代表多头注意力机制的头数\n",
    "        super(DNN, self).__init__()\n",
    "\n",
    "        self.linear_emb = nn.Linear(2, d_model) #线性层，将输入的2维数据映射到d_model维度\n",
    "\n",
    "        self.encoder = Encoder(d_model, N, heads) #编码器层\n",
    "        self.decoder = Decoder(d_model, N, heads) #解码器层\n",
    "\n",
    "        #输出的mlp模块，包含三个线性层，前两个使用自定义激活函数WaveAct，最终将feature从d_model维度映射到d_hidden维度，最后将d_hidden维度映射到d_out维度\n",
    "        self.linear_hidden = nn.Sequential(*[\n",
    "            nn.Linear(d_model, d_hidden),\n",
    "            WaveAct(),\n",
    "            nn.Linear(d_hidden, d_hidden),\n",
    "            WaveAct(),\n",
    "            nn.Linear(d_hidden, 2),\n",
    "        ])\n",
    "        self.linear_out = nn.Sequential(*[\n",
    "            WaveAct(),\n",
    "            nn.Linear(2, d_out)\n",
    "        ])\n",
    "\n",
    "    def forward(self, x): #输入的x形状一般为(点的数量, 序列长度, 2)\n",
    "        src = x #形状为(点的数量，序列长度，2)\n",
    "        src = self.linear_emb(src) #特征向量通过第一个线性层，映射到高维，此时src的形状为(点的数量，序列长度，d_model)，d_model代表每个点的特征\n",
    "\n",
    "        e_outputs = self.encoder(src) #编码器处理输入特征向量，得到编码后的输出，形状为(点的数量，序列长度，d_model)\n",
    "        d_output = self.decoder(src, e_outputs) #解码器处理输入特征向量和编码后的输出，得到解码后的输出，形状为(点的数量，序列长度，d_model)\n",
    "        output_hidden = self.linear_hidden(d_output) #解码后的输出通过输出的mlp模块，得到最终的预测结果。形状为(点的数量，序列长度，2)，d_out代表输出的维度\n",
    "        output = self.linear_out(output_hidden) #形状为(点的数量，序列长度，d_out)，d_out代表输出的维度\n",
    "        # pdb.set_trace()\n",
    "        # raise Exception('stop')\n",
    "        return output #(点的数量，序列长度，d_out)\n",
    "    \n",
    "    # 新增方法，获取最后一个隐藏层的输出\n",
    "    def hidden_output(self, x):\n",
    "        src = x #形状为(点的数量，序列长度，2)\n",
    "        src = self.linear_emb(src) #特征向量通过第一个线性层，映射到高维，此时src的形状为(点的数量，序列长度，d_model)，d_model代表每个点的特征\n",
    "\n",
    "        e_outputs = self.encoder(src) #编码器处理输入特征向量，得到编码后的输出，形状为(点的数量，序列长度，d_model)\n",
    "        d_output = self.decoder(src, e_outputs) #解码器处理输入特征向量和编码后的输出，得到解码后的输出，形状为(点的数量，序列长度，d_model)\n",
    "        output_hidden = self.linear_hidden(d_output) #解码后的输出通过输出的mlp模块，得到最终的预测结果。形状为(点的数量，序列长度，2)，d_out代表输出的维度\n",
    "        # output = self.linear_out(output_hidden) #形状为(点的数量，序列长度，d_out)，d_out代表输出的维度\n",
    "        # pdb.set_trace()\n",
    "        # raise Exception('stop')\n",
    "        return output_hidden #(点的数量，序列长度，2)\n",
    "\n",
    "    \n",
    "   "
   ]
  },
  {
   "cell_type": "code",
   "execution_count": 4,
   "metadata": {
    "execution": {
     "iopub.execute_input": "2025-08-08T04:51:22.627193Z",
     "iopub.status.busy": "2025-08-08T04:51:22.627101Z",
     "iopub.status.idle": "2025-08-08T04:51:22.637392Z",
     "shell.execute_reply": "2025-08-08T04:51:22.637110Z"
    }
   },
   "outputs": [],
   "source": [
    "#set the class of PINN\n",
    "\n",
    "#定义了一个名为`PhysicsInformedNN'的类，用于实现基于物理的神经网络。\n",
    "class PhysicsInformedNN:\n",
    "    # Initialize the class\n",
    "    def __init__(self, x0, u0, tb, X_f, lb, ub): #这个类包含的第一个方法__init__，这是一个特殊的方法，也就是这个类的构造函数，用于初始化新创建的对象，接受了几个参数\n",
    "        \n",
    "        \n",
    "        X0 = np.concatenate((x0,0*x0), 1) # [x0, 0],将x0和0*x0两个数组在第二个维度（即列）上进行了合并。0*x0会生成一个与x0形状相同，但所有元素都为0的数组。因此，X0的结果是一个新的二维数组，其中第一列是x0的值，第二列全为0\n",
    "        X_lb = np.concatenate((0*tb+lb[0],tb), 1) # [lb[0], tb],将0*tb+lb[0]和tb两个数组在第二个维度（即列）上进行了合并。0*tb+lb[0]会生成一个与tb形状相同，但所有元素都为lb[0]的数组。因此，X_lb的结果是一个新的二维数组，其中第一列全为lb[0]的值，第二列是tb的值。\n",
    "        X_ub = np.concatenate((0*tb+ub[0],tb), 1) # [ub[0], tb],同上生成一个与tb形状相同，但所有元素都为ub[0]的数组。因此，X_ub的结果是一个新的二维数组，其中第一列全为ub[0]的值，第二列是tb的值\n",
    "\n",
    "        X0 = make_time_sequence(X0, num_step=5, step=1e-4) #将形状从(点的数量，2)变为(点的数量，序列长度，2) \n",
    "        X_lb = make_time_sequence(X_lb, num_step=5, step=1e-4) #将形状从(点的数量，2)变为(点的数量，序列长度，2) \n",
    "        X_ub = make_time_sequence(X_ub, num_step=5, step=1e-4)\n",
    "        X_f = make_time_sequence(X_f, num_step=5, step=1e-4) #将形状从(点的数量，2)变为(点的数量，序列长度，2)\n",
    "\n",
    "\n",
    "        self.lb = torch.tensor(lb).float().to(device) #将传入的lb和ub参数的值存储在实例中，以便后续使用。这样可以在类的其他方法中通过self.lb和self.ub来访问这些值。\n",
    "        self.ub = torch.tensor(ub).float().to(device)\n",
    "\n",
    "\n",
    "        self.x0 = torch.tensor(X0[:,:, 0:1], requires_grad=True).float().to(device) #将X0的第一列赋值给self.x0（:表示取所有行,0：1实际上表示取第一列，因为python是左闭右开的）,将X0的第二列赋值给self.t0。这样可以在类的其他方法中通过self.x0和self.t0来访问这些值。\n",
    "        self.t0 = torch.tensor(X0[:,:, 1:2], requires_grad=True).float().to(device) #将x0的第二列赋值给self.t0\n",
    "\n",
    "        self.x_lb = torch.tensor(X_lb[:,:, 0:1], requires_grad=True).float().to(device) #将X_lb的第一列赋值给self.x_lb\n",
    "        self.t_lb = torch.tensor(X_lb[:,:, 1:2], requires_grad=True).float().to(device) #将X_lb的第二列赋值给self.t_lb\n",
    "\n",
    "        self.x_ub = torch.tensor(X_ub[:,:, 0:1], requires_grad=True).float().to(device) #将X_ub的第一列赋值给self.x_ub\n",
    "        self.t_ub = torch.tensor(X_ub[:,:, 1:2], requires_grad=True).float().to(device) #将X_ub的第二列赋值给self.t_ub\n",
    "        \n",
    "        self.x_f = torch.tensor(X_f[:,:, 0:1], requires_grad=True).float().to(device) #将X_f的第一列赋值给self.x_f\n",
    "        self.t_f = torch.tensor(X_f[:,:, 1:2], requires_grad=True).float().to(device) #将X_f的第二列赋值给self.t_f\n",
    "        \n",
    "        self.u0 = torch.tensor(u0).float().to(device) #将传入的u0和v0参数的值存储在实例中，以便后续使用。这样可以在类的其他方法中通过self.u0和self.v0来访问这些值。\n",
    "\n",
    "        self.chaosloss = torch.tensor(0.0).float().to(device) #初始化一个张量，表示混沌损失，初始值为0.0，数据类型为float，存储在device上（即GPU或CPU）\n",
    "        \n",
    "        \n",
    "        \n",
    "        \n",
    "        # deep neural networks\n",
    "        self.dnn = DNN(d_out=1, d_hidden=512, d_model=32, N=1, heads=2).to(device) \n",
    "        self.dnn.apply(self.init_weights) #初始化模型中线性层的权重和偏置\n",
    "\n",
    "\n",
    "\n",
    "        self.optimizer_LBFGS = torch.optim.LBFGS(self.dnn.parameters(), line_search_fn='strong_wolfe')\n",
    "        #创建第二个优化器，括号内为要优化的参数，使用Adam优化方法\n",
    "        self.optimizer_Adam = torch.optim.Adam(self.dnn.parameters())\n",
    "                \n",
    "\n",
    "        self.iter = 0 #记录迭代次数 \n",
    "\n",
    "        self.loss_value = [] #创建一个空列表，用于存储损失值\n",
    "\n",
    "    def init_weights(self, m):\n",
    "        if isinstance(m, nn.Linear): #判断是否是线性层\n",
    "            torch.nn.init.xavier_uniform(m.weight)\n",
    "            m.bias.data.fill_(0.01)\n",
    "    \n",
    "    #这个函数与下面的net_u函数功能相同，只是不计算梯度，因为在记录每个epoch的error时，使用with torch.no_grad()情况下调用net_u函数会报错，不知道为啥？\n",
    "    def net_u_error(self, x, t):  \n",
    "        u = self.dnn(torch.cat([x, t], dim=-1))  #（第一个参数将输入的两个参数x和t在第二个维度（列）上进行拼接，形成一个新的张量）调用DNN，根据两个参数权重和偏置，以及新得到的张量，计算神经网络的输出u\n",
    "        \n",
    "        return u #返回神经网络的输出u和v，以及u关于x的梯度u_x和v关于x的梯度v_x\n",
    "\n",
    "\n",
    "    #pytorch中\n",
    "    #定义了一个名为net_u的函数/方法，用于计算神经网络的输出。这个方法接受两个参数，分别是x和t，其中x是输入数据，t是时间数据。最后返回神经网络的输出。     \n",
    "    def net_u(self, x, t):  \n",
    "        u = self.dnn(torch.cat([x, t], dim=-1))  #（第一个参数将输入的两个参数x和t在第二个维度（列）上进行拼接，形成一个新的张量）调用DNN，根据两个参数权重和偏置，以及新得到的张量，计算神经网络的输出u\n",
    "\n",
    "        u_x = torch.autograd.grad(\n",
    "            u, x, \n",
    "            grad_outputs=torch.ones_like(u),\n",
    "            retain_graph=True,\n",
    "            create_graph=True\n",
    "        )[0]\n",
    "\n",
    "        return u,u_x #两个输出(点的数量，序列长度，1)\n",
    "\n",
    "\n",
    "    #定义了一个名为net_f的函数/方法，用于计算论文中的f。这个方法接受两个参数，分别是x和t，其中x是输入数据，t是时间数据。最后返回计算得到的f。\n",
    "    def net_f(self, x, t):\n",
    "        \"\"\" The pytorch autograd version of calculating residual \"\"\"\n",
    "\n",
    "        u,u_x=self.net_u(x,t) #调用上面的函数/方法，计算神经网络的输出（两个）以及输出关于输入x的梯度（两个）\n",
    "        \n",
    "        #计算u关于t的梯度，也就是u关于t的导数，这里使用了pytorch的自动求导功能\n",
    "        u_t = torch.autograd.grad(\n",
    "            u, t,  #输入的张量，要计算u关于t的导数\n",
    "            grad_outputs=torch.ones_like(u), #生成一个与u形状相同，所有元素均为1的张量，这个参数用于指定向量-雅可比积的像两部分\n",
    "            retain_graph=True, #表示计算完梯度之后保留计算图若需要多次计算梯度，则需要设置改参数为True\n",
    "            create_graph=True #创建梯度的计算图，使我们能够计算高阶导数\n",
    "        )[0] #这个函数的返回值是一个元组，其中包含了每个输入张量的梯度。这里只关心第一个输入张量u的梯度，所以我们使用[0]来获取这个梯度。？？？？又说只有一个梯度\n",
    "\n",
    "        u_xx = torch.autograd.grad(\n",
    "            u_x, x, \n",
    "            grad_outputs=torch.ones_like(u_x),\n",
    "            retain_graph=True,\n",
    "            create_graph=True\n",
    "        )[0]\n",
    "        \n",
    "        f=u_t-0.0001*u_xx+5*u**3-5*u    #计算f,定义见论文\n",
    "\n",
    "        return f  #(点的数量，序列长度，1)\n",
    "\n",
    "\n",
    "    def loss_func(self):\n",
    "        self.optimizer_LBFGS.zero_grad() #清除之前计算的梯度（在PyTorch中，梯度会累积，所以在每次新的优化迭代之前，我们需要清除之前的梯度）\n",
    "\n",
    "        u0_pred, _  = self.net_u(self.x0, self.t0) #输出(点的数量，序列长度，1)\n",
    "        u0_pred = u0_pred[:,0:1].reshape(-1,1) #(点的数量，序列长度，1)变为(点的数量，1)\n",
    "        u_lb_pred, u_x_lb_pred = self.net_u(self.x_lb, self.t_lb) #两个输出(点的数量，序列长度，1)\n",
    "        u_ub_pred, u_x_ub_pred = self.net_u(self.x_ub, self.t_ub) #两个输出(点的数量，序列长度，1)\n",
    "        f_pred = self.net_f(self.x_f, self.t_f) #输出(点的数量，序列长度，1)\n",
    "    \n",
    "        pinn_loss = torch.mean((self.u0 - u0_pred) ** 2)  + \\\n",
    "                    torch.mean((u_lb_pred - u_ub_pred) ** 2) + \\\n",
    "                    torch.mean((u_x_lb_pred - u_x_ub_pred) ** 2) + \\\n",
    "                    torch.mean(f_pred ** 2) \n",
    "        loss = pinn_loss + self.chaosloss #混沌损失\n",
    "        \n",
    "        loss.backward() #被调用以计算损失函数关于神经网络参数的梯度。这个梯度将被用于优化器来更新神经网络参数\n",
    "        \n",
    "        self.iter += 1 #每调用一次损失函数，迭代次数加1\n",
    "\n",
    "\n",
    "        #record the loss value\n",
    "        self.current_loss = pinn_loss.detach() \n",
    "\n",
    "\n",
    "        return loss #返回loss\n",
    "\n",
    "\n",
    "\n",
    "    \n",
    "    #定义了一个名为train的函数/方法，用于训练神经网络。这个方法接受一个参数nIter，表示训练的迭代次数。\n",
    "    def train(self, nIter, nIterLBFGS):\n",
    "        self.dnn.train()#将神经网络设置为训练模式而不是评估模式\n",
    "\n",
    "        #先使用Adam优化器优化nIter次\n",
    "        for epoch in range(nIter):\n",
    "            u0_pred, _  = self.net_u(self.x0, self.t0) #输出(点的数量，序列长度，1)\n",
    "            u0_pred = u0_pred[:,0:1].reshape(-1,1) #(点的数量，序列长度，1)变为(点的数量，1)\n",
    "            u_lb_pred, u_x_lb_pred = self.net_u(self.x_lb, self.t_lb) #两个输出(点的数量，序列长度，1)\n",
    "            u_ub_pred, u_x_ub_pred = self.net_u(self.x_ub, self.t_ub) #两个输出(点的数量，序列长度，1)\n",
    "            f_pred = self.net_f(self.x_f, self.t_f) #输出(点的数量，序列长度，1)\n",
    "\n",
    "            pinn_loss = torch.mean((self.u0 - u0_pred) ** 2)  + \\\n",
    "                    torch.mean((u_lb_pred - u_ub_pred) ** 2) + \\\n",
    "                    torch.mean((u_x_lb_pred - u_x_ub_pred) ** 2) + \\\n",
    "                    torch.mean(f_pred ** 2) \n",
    "            loss = pinn_loss + self.chaosloss #混沌损失\n",
    "            \n",
    "            # Backward and optimize\n",
    "            self.optimizer_Adam.zero_grad() #清除该优化器之前计算的梯度（在PyTorch中，梯度会累积，所以在每次新的优化迭代之前，我们需要清除之前的梯度）\n",
    "            loss.backward() #被调用以计算损失函数关于神经网络参数的梯度。这个梯度将被用于优化器来更新神经网络参数\n",
    "            self.optimizer_Adam.step()  #使用之前的优化器self.optimizer_Adam，调用step方法(执行一步优化算法)，传入损失函数self.loss_func，进行优化\n",
    "            \n",
    "\n",
    "            #record the loss value\n",
    "            self.loss_value.append(pinn_loss) #将计算得到的loss值添加到self.loss_value列表中\n",
    "\n",
    "\n",
    "        #Backward the optimize，使用LBFGS优化器进一步，注意这里虽然迭代了500次，但其实使用LBFGS优化器优化的次数不止500次\n",
    "        for i in range(nIterLBFGS):\n",
    "            self.dnn.train() #将神经网络设置为训练模式而不是评估模式\n",
    "            self.optimizer_LBFGS.step(self.loss_func)  #使用之前的优化器self.optimizer，调用step方法(执行一步优化算法)，传入计算损失函数的方法self.loss_func，进行优化   \n",
    "\n",
    "            self.loss_value.append(self.current_loss) #将计算得到的loss值添加到self.loss_value列表中\n",
    "\n",
    "                                    \n",
    "    def predict(self, X): #形状(点的数量，2)\n",
    "        X = make_time_sequence(X, num_step=5, step=1e-4) #将形状从(点的数量，2)变为(点的数量，序列长度，2) \n",
    "        x = torch.tensor(X[:,:, 0:1], dtype=torch.float32, requires_grad=True).to(device) #(点的数量，序列长度，1) \n",
    "        t = torch.tensor(X[:,:, 1:2], dtype=torch.float32, requires_grad=True).to(device)\n",
    "\n",
    "        self.dnn.eval() #将神经网络切换为评估模式\n",
    "        with torch.no_grad():\n",
    "            u = self.net_u_error(x, t) #形状从两个(点的数量，序列长度，1)变为(点的数量，序列长度，1)\n",
    "            u = u[:,0:1].reshape(-1,1) #将u的形状从(点的数量，序列长度，1)变为(点的数量，1)\n",
    "            u = u.detach().cpu().numpy() #将张量u和f先从计算图中分离出来，然后转换为numpy数组，最后将这个数组移动到cpu上\n",
    "\n",
    "        return u #u形状是(点的数量，1)\n",
    "    \n",
    "    def residual(self, X): #形状(点的数量，2)\n",
    "        X = make_time_sequence(X, num_step=5, step=1e-4) #将形状从(点的数量，2)变为(点的数量，序列长度，2) \n",
    "        x = torch.tensor(X[:,:, 0:1], dtype=torch.float32, requires_grad=True).to(device) #(点的数量，序列长度，1) \n",
    "        t = torch.tensor(X[:,:, 1:2], dtype=torch.float32, requires_grad=True).to(device)\n",
    "\n",
    "        self.dnn.eval() #将神经网络切换为评估模式\n",
    "        \n",
    "        f = self.net_f(x, t) #形状从两个(点的数量，序列长度，1)变为(点的数量，序列长度，1)\n",
    "        f = torch.mean(f, dim=1).reshape(-1,1) #对f在序列长度维度上求平均，得到(点的数量，1)，即每个点的平均残差\n",
    "        f = f.detach().cpu().numpy()\n",
    "        return f #u形状是(点的数量，1)，f形状是(点的数量，1)\n",
    "    \n",
    "\n",
    "    def hidden_predict(self, X):#形状(点的数量，序列长度，2)\n",
    "        x = torch.tensor(X[:,:, 0:1], requires_grad=True).float().to(device) #(点的数量，序列长度，1) \n",
    "        t = torch.tensor(X[:,:, 1:2], requires_grad=True).float().to(device)\n",
    "        self.dnn.eval()\n",
    "        with torch.no_grad():\n",
    "            hidden_output = self.dnn.hidden_output(torch.cat([x, t], dim=-1)) #(点的数量，序列长度，2)\n",
    "            hidden_output = hidden_output.detach().cpu().numpy()\n",
    "        # hidden_output_x = hidden_output[:, 0]\n",
    "        # hidden_output_t = hidden_output[:, 1]\n",
    "        # hidden_output_x = hidden_output_x.detach().cpu().numpy()\n",
    "        # hidden_output_t = hidden_output_t.detach().cpu().numpy()\n",
    "        return hidden_output #(点的数量，序列长度，2)\n"
   ]
  },
  {
   "cell_type": "code",
   "execution_count": 5,
   "metadata": {
    "execution": {
     "iopub.execute_input": "2025-08-08T04:51:22.638572Z",
     "iopub.status.busy": "2025-08-08T04:51:22.638455Z",
     "iopub.status.idle": "2025-08-08T04:51:22.641512Z",
     "shell.execute_reply": "2025-08-08T04:51:22.641333Z"
    }
   },
   "outputs": [],
   "source": [
    "#定义根据模型计算给定输入（点集中的点）的混沌度的函数，这个函数接受三个参数，分别是模型、输入数据和迭代次数\n",
    "def calculate_chaos(model, X, num_iter): #输入是(点的数量，2)\n",
    "    \"\"\"\n",
    "    计算模型混沌情况的函数。\n",
    "    参数:\n",
    "    - model: 用于预测的模型对象，必须有一个名为hidden_predict的方法。模型的hidden_predict为倒数第二层的输出，倒数第二层的维度必须和输入维度相同。\n",
    "    - X: 输入数据，形状为(N_f_new, 2)，其中第一列为x0，第二列为t0。\n",
    "    - num_iter: 计算混沌情况的迭代次数。\n",
    "    返回:\n",
    "    - distances: 每个采样点（与该采样点加上微扰比较）在最后一次迭代后的欧氏距离数组，形状为(N_f_new,)。\n",
    "    \"\"\"\n",
    "    #对于所有的采样点\n",
    "    X0 = X\n",
    "    x0 = X[:, 0:1] #取X_f_train_new的第一列，赋值给x0，(N_f_new,1)形状\n",
    "    t0 = X[:, 1:2] #取X_f_train_new的第二列，赋值给t0\n",
    "    xs = []\n",
    "    X0 = make_time_sequence(X0, num_step=5, step=1e-4) #将形状从(点的数量，2)变为(点的数量，序列长度，2)\n",
    "    X = model.hidden_predict(X0) #(点的数量，序列长度，2)\n",
    "    \n",
    "    for i in range(num_iter): #循环num_iter次\n",
    "        X = model.hidden_predict(X) #(点的数量，序列长度，2)\n",
    "        xs.append(X) #新添加(点的数量，序列长度，2)\n",
    "\n",
    "    # 给所有采样点加上一个很小的扰动\n",
    "    x1 = x0 + np.random.normal(0, 0.0001) #加上一个很小的扰动，(N_f_new,1)形状\n",
    "    t1 = t0 + np.random.normal(0, 0.0001)\n",
    "    # 利用x0{1}和t0{1}计算x{t1}和t{t1}，存储在xs1中\n",
    "    xs1 = [] #初始化xs1\n",
    "    X1 = np.concatenate((x1, t1), axis=1) #(N_f_new,2)形状\n",
    "    X1 = make_time_sequence(X1, num_step=5, step=1e-4) #将形状从(点的数量，2)变为(点的数量，序列长度，2)\n",
    "    X1 = model.hidden_predict(X1) #(N_f_new,序列长度,2)\n",
    "\n",
    "    for i in range(num_iter): #循环num_iter次\n",
    "        X1 = model.hidden_predict(X1) #(N_f_new,序列长度,\n",
    "        xs1.append(X1) #新添加(N_f_new,序列长度,2)\n",
    "\n",
    "    \n",
    "\n",
    "    # 计算最后一次迭代的隐藏层输出，即最后一次迭代的x和t,使用chunchaos要注释掉\n",
    "    last_iter_xs = np.array(xs[-1]) #转换为数组，便于之后计算距离\n",
    "    last_iter_xs1 = np.array(xs1[-1])\n",
    "    distances = np.linalg.norm(last_iter_xs - last_iter_xs1, axis=(1,2))\n",
    "    distances = distances.flatten()\n",
    "\n",
    "\n",
    "\n",
    "\n",
    "\n",
    "\n",
    "\n",
    "    # #chunchaos方法\n",
    "    # num_elements_to_average = 20\n",
    "    # # 提取最后 20 个元素\n",
    "    # last_20_xs = xs[-num_elements_to_average:] # 这是一个包含 20 个元素的列表\n",
    "    # last_20_xs1 = xs1[-num_elements_to_average:] # 这是一个包含 20 个元素的列表\n",
    "    # # 存储每个时间步（列表中的每个元素）的混沌度分数\n",
    "    # step_chaos_scores = []\n",
    "    # # 遍历最后 20 个元素,zip 将两个列表的对应元素配对\n",
    "    # for step_xs, step_xs1 in zip(last_20_xs, last_20_xs1):\n",
    "    #     # step_xs 和 step_xs1 都是形状为 (N_f_new, sequence_length, 2) 的数组/张量\n",
    "    #     difference_step = step_xs - step_xs1 # 计算差异\n",
    "    #     # 计算每个数据点在当前步的混沌度分数 (形状 (N_f_new,))\n",
    "    #     # 假设使用 NumPy 进行计算\n",
    "    #     step_scores = np.linalg.norm(difference_step, axis=(1, 2))\n",
    "    #     # 将这 N_f_new 个分数添加到列表中\n",
    "    #     step_chaos_scores.append(step_scores)\n",
    "\n",
    "    # # step_chaos_scores 是一个包含 20 个元素的列表，每个元素都是形状为 (N_f_new,) 的 NumPy 数组\n",
    "    # # 将列表转换成一个单一的 NumPy 数组，形状为 (20, N_f_new)\n",
    "    # all_step_scores = np.stack(step_chaos_scores)\n",
    "    # # 现在 all_step_scores 的形状是 (num_elements_to_average, N_f_new)\n",
    "    # # axis 0 是时间步 (20)，axis 1 是原始数据点 (N_f_new)\n",
    "    # # 计算最后 20 个时间步在每个数据点上的平均混沌度分数\n",
    "    # # 沿着时间步轴 (axis=0) 求平均\n",
    "    # distances = np.mean(all_step_scores, axis=0)\n",
    "    # # 结果形状是 (N_f_new,)\n",
    "\n",
    "\n",
    "\n",
    "\n",
    "\n",
    "\n",
    "\n",
    "    return distances"
   ]
  },
  {
   "cell_type": "code",
   "execution_count": 6,
   "metadata": {
    "execution": {
     "iopub.execute_input": "2025-08-08T04:51:22.642653Z",
     "iopub.status.busy": "2025-08-08T04:51:22.642543Z",
     "iopub.status.idle": "2025-08-08T04:51:22.645725Z",
     "shell.execute_reply": "2025-08-08T04:51:22.645549Z"
    }
   },
   "outputs": [],
   "source": [
    "#定义根据模型计算给定输入（点集中的点）的混沌度的函数，这个函数接受三个参数，分别是模型、输入数据和迭代次数\n",
    "def calculate_chunchaos(model, X, num_iter): #输入是(点的数量，2)\n",
    "    \"\"\"\n",
    "    计算模型混沌情况的函数。\n",
    "    参数:\n",
    "    - model: 用于预测的模型对象，必须有一个名为hidden_predict的方法。模型的hidden_predict为倒数第二层的输出，倒数第二层的维度必须和输入维度相同。\n",
    "    - X: 输入数据，形状为(N_f_new, 2)，其中第一列为x0，第二列为t0。\n",
    "    - num_iter: 计算混沌情况的迭代次数。\n",
    "    返回:\n",
    "    - distances: 每个采样点（与该采样点加上微扰比较）在最后一次迭代后的欧氏距离数组，形状为(N_f_new,)。\n",
    "    \"\"\"\n",
    "    #对于所有的采样点\n",
    "    X0 = X\n",
    "    x0 = X[:, 0:1] #取X_f_train_new的第一列，赋值给x0，(N_f_new,1)形状\n",
    "    t0 = X[:, 1:2] #取X_f_train_new的第二列，赋值给t0\n",
    "    xs = []\n",
    "    X0 = make_time_sequence(X0, num_step=5, step=1e-4) #将形状从(点的数量，2)变为(点的数量，序列长度，2)\n",
    "    X = model.hidden_predict(X0) #(点的数量，序列长度，2)\n",
    "    \n",
    "    for i in range(num_iter): #循环num_iter次\n",
    "        X = model.hidden_predict(X) #(点的数量，序列长度，2)\n",
    "        xs.append(X) #新添加(点的数量，序列长度，2)\n",
    "\n",
    "    # 给所有采样点加上一个很小的扰动\n",
    "    x1 = x0 + np.random.normal(0, 0.0001) #加上一个很小的扰动，(N_f_new,1)形状\n",
    "    t1 = t0 + np.random.normal(0, 0.0001)\n",
    "    # 利用x0{1}和t0{1}计算x{t1}和t{t1}，存储在xs1中\n",
    "    xs1 = [] #初始化xs1\n",
    "    X1 = np.concatenate((x1, t1), axis=1) #(N_f_new,2)形状\n",
    "    X1 = make_time_sequence(X1, num_step=5, step=1e-4) #将形状从(点的数量，2)变为(点的数量，序列长度，2)\n",
    "    X1 = model.hidden_predict(X1) #(N_f_new,序列长度,2)\n",
    "\n",
    "    for i in range(num_iter): #循环num_iter次\n",
    "        X1 = model.hidden_predict(X1) #(N_f_new,序列长度,\n",
    "        xs1.append(X1) #新添加(N_f_new,序列长度,2)\n",
    "\n",
    "    \n",
    "\n",
    "    # # 计算最后一次迭代的隐藏层输出，即最后一次迭代的x和t,使用chunchaos要注释掉\n",
    "    # last_iter_xs = np.array(xs[-1]) #转换为数组，便于之后计算距离\n",
    "    # last_iter_xs1 = np.array(xs1[-1])\n",
    "    # distances = np.linalg.norm(last_iter_xs - last_iter_xs1, axis=(1,2))\n",
    "    # distances = distances.flatten()\n",
    "\n",
    "\n",
    "\n",
    "\n",
    "\n",
    "\n",
    "\n",
    "    #chunchaos方法\n",
    "    num_elements_to_average = 20\n",
    "    # 提取最后 20 个元素\n",
    "    last_20_xs = xs[-num_elements_to_average:] # 这是一个包含 20 个元素的列表\n",
    "    last_20_xs1 = xs1[-num_elements_to_average:] # 这是一个包含 20 个元素的列表\n",
    "    # 存储每个时间步（列表中的每个元素）的混沌度分数\n",
    "    step_chaos_scores = []\n",
    "    # 遍历最后 20 个元素,zip 将两个列表的对应元素配对\n",
    "    for step_xs, step_xs1 in zip(last_20_xs, last_20_xs1):\n",
    "        # step_xs 和 step_xs1 都是形状为 (N_f_new, sequence_length, 2) 的数组/张量\n",
    "        difference_step = step_xs - step_xs1 # 计算差异\n",
    "        # 计算每个数据点在当前步的混沌度分数 (形状 (N_f_new,))\n",
    "        # 假设使用 NumPy 进行计算\n",
    "        step_scores = np.linalg.norm(difference_step, axis=(1, 2))\n",
    "        # 将这 N_f_new 个分数添加到列表中\n",
    "        step_chaos_scores.append(step_scores)\n",
    "\n",
    "    # step_chaos_scores 是一个包含 20 个元素的列表，每个元素都是形状为 (N_f_new,) 的 NumPy 数组\n",
    "    # 将列表转换成一个单一的 NumPy 数组，形状为 (20, N_f_new)\n",
    "    all_step_scores = np.stack(step_chaos_scores)\n",
    "    # 现在 all_step_scores 的形状是 (num_elements_to_average, N_f_new)\n",
    "    # axis 0 是时间步 (20)，axis 1 是原始数据点 (N_f_new)\n",
    "    # 计算最后 20 个时间步在每个数据点上的平均混沌度分数\n",
    "    # 沿着时间步轴 (axis=0) 求平均\n",
    "    distances = np.mean(all_step_scores, axis=0)\n",
    "    # 结果形状是 (N_f_new,)\n",
    "\n",
    "\n",
    "\n",
    "\n",
    "\n",
    "\n",
    "\n",
    "    return distances"
   ]
  },
  {
   "cell_type": "code",
   "execution_count": 7,
   "metadata": {
    "execution": {
     "iopub.execute_input": "2025-08-08T04:51:22.646756Z",
     "iopub.status.busy": "2025-08-08T04:51:22.646651Z",
     "iopub.status.idle": "2025-08-08T04:51:22.648696Z",
     "shell.execute_reply": "2025-08-08T04:51:22.648519Z"
    }
   },
   "outputs": [],
   "source": [
    "#定义设置随机数种子的函数，第一个参数seed表示种子；第二个参数用来设置CUDA的卷积操作是否确定性，默认为False，表示没有确定性\n",
    "def set_seed(seed):\n",
    "    # torch.manual_seed(seed) #设置pytorch的CPU随机数生成器的种子\n",
    "    # torch.cuda.manual_seed_all(seed) #设置putorch的所有GPU随机数生成器的种子\n",
    "    # np.random.seed(seed) #设置numpy的随机数生成器的种子\n",
    "    # random.seed(seed) #设置python的内置随机数生成器的种子\n",
    "    # torch.backends.cudnn.deterministic = deterministic #True会让CUDA的卷积操作变得确定性，即对于相同的输入，每次运行会得到相同的结果，False则相反\n",
    "    \"\"\"\n",
    "    设置PyTorch的随机种子, 用于生成随机数. 通过设置相同的种子, 可以确保每次运行时生成的随机数序列相同\n",
    "    \"\"\"\n",
    "    torch.manual_seed(seed)\n",
    " \n",
    "    \"\"\"\n",
    "    设置PyTorch在所有可用的CUDA设备上的随机种子. 如果在使用GPU进行计算, 这个设置可以确保在不同的GPU上生成的随机数序列相同\n",
    "    \"\"\"\n",
    "    torch.cuda.manual_seed_all(seed)\n",
    " \n",
    "    \"\"\"\n",
    "    设置PyTorch在当前CUDA设备上的随机种子. 它与上一行代码的作用类似, 但只影响当前设备\n",
    "    \"\"\"\n",
    "    torch.cuda.manual_seed(seed)\n",
    " \n",
    "    \"\"\"\n",
    "    设置NumPy的随机种子, 用于生成随机数. 通过设置相同的种子，可以确保在使用NumPy的随机函数时生成的随机数序列相同\n",
    "    \"\"\"\n",
    "    np.random.seed(seed)\n",
    "    \n",
    "    \"\"\"\n",
    "    设置Python内置的随机函数的种子. Python的random模块提供了许多随机函数, 包括生成随机数、打乱列表等. 通过设置相同的种子, 可以确保使用这些随机函数时生成的随机数序列相同\n",
    "    \"\"\"\n",
    "    random.seed(seed)\n",
    "    \n",
    "    \"\"\"\n",
    "    设置Python的哈希种子 (哈希函数被广泛用于数据结构 (如字典和集合) 的实现，以及一些内部操作 (如查找和比较)). 通过设置相同的种子, 可以确保在不同的运行中生成的哈希结果相同\n",
    "    \"\"\"\n",
    "    # os.environ[\"PYTHONHASHSEED\"] = str(seed)\n",
    "    \n",
    "    \"\"\"\n",
    "    该设置确保每次运行代码时, cuDNN的计算结果是确定性的, 即相同的输入会产生相同的输出, 这是通过禁用一些非确定性的算法来实现的, 例如在卷积操作中使用的算法. 这样做可以保证模型的训练和推理在相同的硬件和软件环境下是可复现的, 即每次运行代码时的结果都相同. 但是, 这可能会导致一些性能上的损失, 因为禁用了一些优化的非确定性算法\n",
    "    \"\"\"\n",
    "    torch.backends.cudnn.deterministic = True\n",
    "    \n",
    "    \"\"\"\n",
    "    该设置禁用了cuDNN的自动优化过程. 当它被设置为False时, PyTorch不会在每次运行时重新寻找最优的算法配置, 而是使用固定的算法配置. 这样做可以确保每次运行代码时的性能是一致的, 但可能会导致一些性能上的损失\n",
    "    \"\"\"\n",
    "    torch.backends.cudnn.benchmark = False\n",
    "\n"
   ]
  },
  {
   "cell_type": "code",
   "execution_count": 8,
   "metadata": {
    "execution": {
     "iopub.execute_input": "2025-08-08T04:51:22.649807Z",
     "iopub.status.busy": "2025-08-08T04:51:22.649691Z",
     "iopub.status.idle": "2025-08-08T14:42:52.230121Z",
     "shell.execute_reply": "2025-08-08T14:42:52.229802Z"
    }
   },
   "outputs": [
    {
     "name": "stderr",
     "output_type": "stream",
     "text": [
      "/tmp/ipykernel_516853/182882593.py:59: UserWarning: nn.init.xavier_uniform is now deprecated in favor of nn.init.xavier_uniform_.\n",
      "  torch.nn.init.xavier_uniform(m.weight)\n"
     ]
    },
    {
     "name": "stderr",
     "output_type": "stream",
     "text": [
      "\r",
      "Training with Adam: 0it [00:00, ?it/s]"
     ]
    },
    {
     "name": "stderr",
     "output_type": "stream",
     "text": [
      "\r",
      "Training with Adam: 0it [00:00, ?it/s]"
     ]
    },
    {
     "name": "stderr",
     "output_type": "stream",
     "text": [
      "\n"
     ]
    },
    {
     "name": "stderr",
     "output_type": "stream",
     "text": [
      "\r",
      "Training with LBFGS:   0%|          | 0/1000 [00:00<?, ?it/s]"
     ]
    },
    {
     "name": "stderr",
     "output_type": "stream",
     "text": [
      "\r",
      "Training with LBFGS:   0%|          | 1/1000 [00:36<10:08:34, 36.55s/it]"
     ]
    },
    {
     "name": "stdout",
     "output_type": "stream",
     "text": [
      "2.013799e-06\n",
      "0.590988623626253\n"
     ]
    },
    {
     "name": "stderr",
     "output_type": "stream",
     "text": [
      "\r",
      "Training with LBFGS:   0%|          | 2/1000 [01:12<10:06:05, 36.44s/it]"
     ]
    },
    {
     "name": "stdout",
     "output_type": "stream",
     "text": [
      "2.0016369e-06\n",
      "0.5894637942985804\n"
     ]
    },
    {
     "name": "stderr",
     "output_type": "stream",
     "text": [
      "\r",
      "Training with LBFGS:   0%|          | 3/1000 [01:49<10:08:42, 36.63s/it]"
     ]
    },
    {
     "name": "stdout",
     "output_type": "stream",
     "text": [
      "2.004952e-06\n",
      "0.5870165277127185\n"
     ]
    },
    {
     "name": "stderr",
     "output_type": "stream",
     "text": [
      "\r",
      "Training with LBFGS:   0%|          | 4/1000 [02:26<10:09:26, 36.71s/it]"
     ]
    },
    {
     "name": "stdout",
     "output_type": "stream",
     "text": [
      "1.8728792e-06\n",
      "0.5882490684998141\n"
     ]
    },
    {
     "name": "stderr",
     "output_type": "stream",
     "text": [
      "\r",
      "Training with LBFGS:   0%|          | 5/1000 [03:03<10:08:13, 36.68s/it]"
     ]
    },
    {
     "name": "stdout",
     "output_type": "stream",
     "text": [
      "2.3918737e-06\n",
      "0.5901674259121629\n"
     ]
    },
    {
     "name": "stderr",
     "output_type": "stream",
     "text": [
      "\r",
      "Training with LBFGS:   1%|          | 6/1000 [03:40<10:09:04, 36.76s/it]"
     ]
    },
    {
     "name": "stdout",
     "output_type": "stream",
     "text": [
      "3.0754604e-06\n",
      "0.592370301798638\n"
     ]
    },
    {
     "name": "stderr",
     "output_type": "stream",
     "text": [
      "\r",
      "Training with LBFGS:   1%|          | 7/1000 [04:16<10:07:55, 36.73s/it]"
     ]
    },
    {
     "name": "stdout",
     "output_type": "stream",
     "text": [
      "2.7231156e-06\n",
      "0.5904591929545928\n"
     ]
    },
    {
     "name": "stderr",
     "output_type": "stream",
     "text": [
      "\r",
      "Training with LBFGS:   1%|          | 8/1000 [04:53<10:07:01, 36.72s/it]"
     ]
    },
    {
     "name": "stdout",
     "output_type": "stream",
     "text": [
      "2.7201022e-06\n",
      "0.5888972387465428\n"
     ]
    },
    {
     "name": "stderr",
     "output_type": "stream",
     "text": [
      "\r",
      "Training with LBFGS:   1%|          | 9/1000 [05:30<10:06:00, 36.69s/it]"
     ]
    },
    {
     "name": "stdout",
     "output_type": "stream",
     "text": [
      "2.6415453e-06\n",
      "0.5887870650564333\n"
     ]
    },
    {
     "name": "stderr",
     "output_type": "stream",
     "text": [
      "\r",
      "Training with LBFGS:   1%|          | 10/1000 [06:06<10:04:40, 36.65s/it]"
     ]
    },
    {
     "name": "stdout",
     "output_type": "stream",
     "text": [
      "2.3617913e-06\n",
      "0.5887788019305981\n"
     ]
    },
    {
     "name": "stderr",
     "output_type": "stream",
     "text": [
      "\r",
      "Training with LBFGS:   1%|          | 11/1000 [06:43<10:04:16, 36.66s/it]"
     ]
    },
    {
     "name": "stdout",
     "output_type": "stream",
     "text": [
      "2.777355e-06\n",
      "0.5895511438990505\n"
     ]
    },
    {
     "name": "stderr",
     "output_type": "stream",
     "text": [
      "\r",
      "Training with LBFGS:   1%|          | 12/1000 [07:19<10:03:17, 36.64s/it]"
     ]
    },
    {
     "name": "stdout",
     "output_type": "stream",
     "text": [
      "2.7263382e-06\n",
      "0.5899655270632286\n"
     ]
    },
    {
     "name": "stderr",
     "output_type": "stream",
     "text": [
      "\r",
      "Training with LBFGS:   1%|▏         | 13/1000 [07:57<10:05:29, 36.81s/it]"
     ]
    },
    {
     "name": "stdout",
     "output_type": "stream",
     "text": [
      "3.5542118e-06\n",
      "0.5898964325109062\n"
     ]
    },
    {
     "name": "stderr",
     "output_type": "stream",
     "text": [
      "\r",
      "Training with LBFGS:   1%|▏         | 14/1000 [08:34<10:05:12, 36.83s/it]"
     ]
    },
    {
     "name": "stdout",
     "output_type": "stream",
     "text": [
      "3.444083e-06\n",
      "0.5912701921161547\n"
     ]
    },
    {
     "name": "stderr",
     "output_type": "stream",
     "text": [
      "\r",
      "Training with LBFGS:   2%|▏         | 15/1000 [09:10<10:03:36, 36.77s/it]"
     ]
    },
    {
     "name": "stdout",
     "output_type": "stream",
     "text": [
      "4.4700937e-06\n",
      "0.5910410166233135\n"
     ]
    },
    {
     "name": "stderr",
     "output_type": "stream",
     "text": [
      "\r",
      "Training with LBFGS:   2%|▏         | 16/1000 [09:47<10:03:37, 36.81s/it]"
     ]
    },
    {
     "name": "stdout",
     "output_type": "stream",
     "text": [
      "6.6460834e-06\n",
      "0.5906790322793537\n"
     ]
    },
    {
     "name": "stderr",
     "output_type": "stream",
     "text": [
      "\r",
      "Training with LBFGS:   2%|▏         | 17/1000 [10:24<10:01:37, 36.72s/it]"
     ]
    },
    {
     "name": "stdout",
     "output_type": "stream",
     "text": [
      "4.711569e-06\n",
      "0.5908996122802104\n"
     ]
    },
    {
     "name": "stderr",
     "output_type": "stream",
     "text": [
      "\r",
      "Training with LBFGS:   2%|▏         | 18/1000 [11:00<9:59:41, 36.64s/it] "
     ]
    },
    {
     "name": "stdout",
     "output_type": "stream",
     "text": [
      "4.1017934e-06\n",
      "0.5915072137411629\n"
     ]
    },
    {
     "name": "stderr",
     "output_type": "stream",
     "text": [
      "\r",
      "Training with LBFGS:   2%|▏         | 19/1000 [11:37<9:59:38, 36.67s/it]"
     ]
    },
    {
     "name": "stdout",
     "output_type": "stream",
     "text": [
      "4.4731137e-06\n",
      "0.5908748029973955\n"
     ]
    },
    {
     "name": "stderr",
     "output_type": "stream",
     "text": [
      "\r",
      "Training with LBFGS:   2%|▏         | 20/1000 [12:13<9:58:43, 36.66s/it]"
     ]
    },
    {
     "name": "stdout",
     "output_type": "stream",
     "text": [
      "4.5625625e-06\n",
      "0.5907024589774537\n"
     ]
    },
    {
     "name": "stderr",
     "output_type": "stream",
     "text": [
      "\r",
      "Training with LBFGS:   2%|▏         | 21/1000 [12:50<9:58:22, 36.67s/it]"
     ]
    },
    {
     "name": "stdout",
     "output_type": "stream",
     "text": [
      "4.4612802e-06\n",
      "0.5906179322720673\n"
     ]
    },
    {
     "name": "stderr",
     "output_type": "stream",
     "text": [
      "\r",
      "Training with LBFGS:   2%|▏         | 22/1000 [13:27<9:57:24, 36.65s/it]"
     ]
    },
    {
     "name": "stdout",
     "output_type": "stream",
     "text": [
      "4.7886924e-06\n",
      "0.5912326794531506\n"
     ]
    },
    {
     "name": "stderr",
     "output_type": "stream",
     "text": [
      "\r",
      "Training with LBFGS:   2%|▏         | 23/1000 [14:03<9:56:55, 36.66s/it]"
     ]
    },
    {
     "name": "stdout",
     "output_type": "stream",
     "text": [
      "4.8731727e-06\n",
      "0.5905512542569472\n"
     ]
    },
    {
     "name": "stderr",
     "output_type": "stream",
     "text": [
      "\r",
      "Training with LBFGS:   2%|▏         | 24/1000 [14:40<9:56:05, 36.65s/it]"
     ]
    },
    {
     "name": "stdout",
     "output_type": "stream",
     "text": [
      "4.8606876e-06\n",
      "0.5902582346308974\n"
     ]
    },
    {
     "name": "stderr",
     "output_type": "stream",
     "text": [
      "\r",
      "Training with LBFGS:   2%|▎         | 25/1000 [15:17<9:56:50, 36.73s/it]"
     ]
    },
    {
     "name": "stdout",
     "output_type": "stream",
     "text": [
      "5.04466e-06\n",
      "0.5899883062381608\n"
     ]
    },
    {
     "name": "stderr",
     "output_type": "stream",
     "text": [
      "\r",
      "Training with LBFGS:   3%|▎         | 26/1000 [15:54<9:56:54, 36.77s/it]"
     ]
    },
    {
     "name": "stdout",
     "output_type": "stream",
     "text": [
      "5.418584e-06\n",
      "0.590126993428125\n"
     ]
    },
    {
     "name": "stderr",
     "output_type": "stream",
     "text": [
      "\r",
      "Training with LBFGS:   3%|▎         | 27/1000 [16:31<9:56:02, 36.75s/it]"
     ]
    },
    {
     "name": "stdout",
     "output_type": "stream",
     "text": [
      "6.024803e-06\n",
      "0.59039302893325\n"
     ]
    },
    {
     "name": "stderr",
     "output_type": "stream",
     "text": [
      "\r",
      "Training with LBFGS:   3%|▎         | 28/1000 [17:07<9:55:42, 36.77s/it]"
     ]
    },
    {
     "name": "stdout",
     "output_type": "stream",
     "text": [
      "5.211762e-06\n",
      "0.5905419269700569\n"
     ]
    },
    {
     "name": "stderr",
     "output_type": "stream",
     "text": [
      "\r",
      "Training with LBFGS:   3%|▎         | 29/1000 [17:44<9:53:34, 36.68s/it]"
     ]
    },
    {
     "name": "stdout",
     "output_type": "stream",
     "text": [
      "6.530602e-06\n",
      "0.5902177041632757\n"
     ]
    },
    {
     "name": "stderr",
     "output_type": "stream",
     "text": [
      "\r",
      "Training with LBFGS:   3%|▎         | 30/1000 [18:20<9:52:56, 36.68s/it]"
     ]
    },
    {
     "name": "stdout",
     "output_type": "stream",
     "text": [
      "4.5676547e-06\n",
      "0.5901965586929775\n"
     ]
    },
    {
     "name": "stderr",
     "output_type": "stream",
     "text": [
      "\r",
      "Training with LBFGS:   3%|▎         | 31/1000 [18:57<9:52:56, 36.71s/it]"
     ]
    },
    {
     "name": "stdout",
     "output_type": "stream",
     "text": [
      "4.327207e-06\n",
      "0.5902648862646136\n"
     ]
    },
    {
     "name": "stderr",
     "output_type": "stream",
     "text": [
      "\r",
      "Training with LBFGS:   3%|▎         | 32/1000 [19:34<9:51:48, 36.68s/it]"
     ]
    },
    {
     "name": "stdout",
     "output_type": "stream",
     "text": [
      "5.294906e-06\n",
      "0.5901420392931068\n"
     ]
    },
    {
     "name": "stderr",
     "output_type": "stream",
     "text": [
      "\r",
      "Training with LBFGS:   3%|▎         | 33/1000 [20:11<9:51:45, 36.72s/it]"
     ]
    },
    {
     "name": "stdout",
     "output_type": "stream",
     "text": [
      "5.3139556e-06\n",
      "0.5900813613994592\n"
     ]
    },
    {
     "name": "stderr",
     "output_type": "stream",
     "text": [
      "\r",
      "Training with LBFGS:   3%|▎         | 34/1000 [20:47<9:50:32, 36.68s/it]"
     ]
    },
    {
     "name": "stdout",
     "output_type": "stream",
     "text": [
      "4.481753e-06\n",
      "0.5902025192743257\n"
     ]
    },
    {
     "name": "stderr",
     "output_type": "stream",
     "text": [
      "\r",
      "Training with LBFGS:   4%|▎         | 35/1000 [21:24<9:48:37, 36.60s/it]"
     ]
    },
    {
     "name": "stdout",
     "output_type": "stream",
     "text": [
      "4.6947052e-06\n",
      "0.5894239473664948\n"
     ]
    },
    {
     "name": "stderr",
     "output_type": "stream",
     "text": [
      "\r",
      "Training with LBFGS:   4%|▎         | 36/1000 [22:00<9:48:21, 36.62s/it]"
     ]
    },
    {
     "name": "stdout",
     "output_type": "stream",
     "text": [
      "5.492067e-06\n",
      "0.5888252691803446\n"
     ]
    },
    {
     "name": "stderr",
     "output_type": "stream",
     "text": [
      "\r",
      "Training with LBFGS:   4%|▎         | 37/1000 [22:37<9:47:45, 36.62s/it]"
     ]
    },
    {
     "name": "stdout",
     "output_type": "stream",
     "text": [
      "8.708845e-06\n",
      "0.5885265939865738\n"
     ]
    },
    {
     "name": "stderr",
     "output_type": "stream",
     "text": [
      "\r",
      "Training with LBFGS:   4%|▍         | 38/1000 [23:14<9:48:15, 36.69s/it]"
     ]
    },
    {
     "name": "stdout",
     "output_type": "stream",
     "text": [
      "5.725317e-06\n",
      "0.5881600427560039\n"
     ]
    },
    {
     "name": "stderr",
     "output_type": "stream",
     "text": [
      "\r",
      "Training with LBFGS:   4%|▍         | 39/1000 [23:50<9:46:39, 36.63s/it]"
     ]
    },
    {
     "name": "stdout",
     "output_type": "stream",
     "text": [
      "7.293654e-06\n",
      "0.5879408942107516\n"
     ]
    },
    {
     "name": "stderr",
     "output_type": "stream",
     "text": [
      "\r",
      "Training with LBFGS:   4%|▍         | 40/1000 [24:27<9:46:30, 36.66s/it]"
     ]
    },
    {
     "name": "stdout",
     "output_type": "stream",
     "text": [
      "1.2551531e-05\n",
      "0.5869265300393363\n"
     ]
    },
    {
     "name": "stderr",
     "output_type": "stream",
     "text": [
      "\r",
      "Training with LBFGS:   4%|▍         | 41/1000 [25:04<9:47:12, 36.74s/it]"
     ]
    },
    {
     "name": "stdout",
     "output_type": "stream",
     "text": [
      "6.394945e-06\n",
      "0.5869536925614096\n"
     ]
    },
    {
     "name": "stderr",
     "output_type": "stream",
     "text": [
      "\r",
      "Training with LBFGS:   4%|▍         | 42/1000 [25:41<9:46:01, 36.70s/it]"
     ]
    },
    {
     "name": "stdout",
     "output_type": "stream",
     "text": [
      "8.737559e-06\n",
      "0.5868577940799395\n"
     ]
    },
    {
     "name": "stderr",
     "output_type": "stream",
     "text": [
      "\r",
      "Training with LBFGS:   4%|▍         | 43/1000 [26:17<9:44:08, 36.62s/it]"
     ]
    },
    {
     "name": "stdout",
     "output_type": "stream",
     "text": [
      "1.1238131e-05\n",
      "0.5863047554450255\n"
     ]
    },
    {
     "name": "stderr",
     "output_type": "stream",
     "text": [
      "\r",
      "Training with LBFGS:   4%|▍         | 44/1000 [26:54<9:43:27, 36.62s/it]"
     ]
    },
    {
     "name": "stdout",
     "output_type": "stream",
     "text": [
      "9.642651e-05\n",
      "0.5840538283287765\n"
     ]
    },
    {
     "name": "stderr",
     "output_type": "stream",
     "text": [
      "\r",
      "Training with LBFGS:   4%|▍         | 45/1000 [27:31<9:44:44, 36.74s/it]"
     ]
    },
    {
     "name": "stdout",
     "output_type": "stream",
     "text": [
      "0.0026455452\n",
      "0.5830020489856205\n"
     ]
    },
    {
     "name": "stderr",
     "output_type": "stream",
     "text": [
      "\r",
      "Training with LBFGS:   5%|▍         | 46/1000 [28:07<9:43:46, 36.72s/it]"
     ]
    },
    {
     "name": "stdout",
     "output_type": "stream",
     "text": [
      "0.08649773\n",
      "0.5831089067409673\n"
     ]
    },
    {
     "name": "stderr",
     "output_type": "stream",
     "text": [
      "\r",
      "Training with LBFGS:   5%|▍         | 47/1000 [28:44<9:43:41, 36.75s/it]"
     ]
    },
    {
     "name": "stdout",
     "output_type": "stream",
     "text": [
      "1.141585\n",
      "0.5834778556753167\n"
     ]
    },
    {
     "name": "stderr",
     "output_type": "stream",
     "text": [
      "\r",
      "Training with LBFGS:   5%|▍         | 48/1000 [29:20<9:41:03, 36.62s/it]"
     ]
    },
    {
     "name": "stdout",
     "output_type": "stream",
     "text": [
      "3.971543\n",
      "0.5801576329019118\n"
     ]
    },
    {
     "name": "stderr",
     "output_type": "stream",
     "text": [
      "\r",
      "Training with LBFGS:   5%|▍         | 49/1000 [29:57<9:39:40, 36.57s/it]"
     ]
    },
    {
     "name": "stdout",
     "output_type": "stream",
     "text": [
      "0.011795907\n",
      "0.579739910135249\n"
     ]
    },
    {
     "name": "stderr",
     "output_type": "stream",
     "text": [
      "\r",
      "Training with LBFGS:   5%|▌         | 50/1000 [30:34<9:40:18, 36.65s/it]"
     ]
    },
    {
     "name": "stdout",
     "output_type": "stream",
     "text": [
      "0.5086653\n",
      "0.5768840889461034\n"
     ]
    },
    {
     "name": "stderr",
     "output_type": "stream",
     "text": [
      "\r",
      "Training with LBFGS:   5%|▌         | 51/1000 [31:11<9:41:03, 36.74s/it]"
     ]
    },
    {
     "name": "stdout",
     "output_type": "stream",
     "text": [
      "3.4355767\n",
      "0.5754186619659979\n"
     ]
    },
    {
     "name": "stderr",
     "output_type": "stream",
     "text": [
      "\r",
      "Training with LBFGS:   5%|▌         | 52/1000 [31:48<9:41:19, 36.79s/it]"
     ]
    },
    {
     "name": "stdout",
     "output_type": "stream",
     "text": [
      "2.4206276\n",
      "0.5688478456001649\n"
     ]
    },
    {
     "name": "stderr",
     "output_type": "stream",
     "text": [
      "\r",
      "Training with LBFGS:   5%|▌         | 53/1000 [32:25<9:41:28, 36.84s/it]"
     ]
    },
    {
     "name": "stdout",
     "output_type": "stream",
     "text": [
      "2.729458\n",
      "0.5644720571740681\n"
     ]
    },
    {
     "name": "stderr",
     "output_type": "stream",
     "text": [
      "\r",
      "Training with LBFGS:   5%|▌         | 54/1000 [33:01<9:41:04, 36.85s/it]"
     ]
    },
    {
     "name": "stdout",
     "output_type": "stream",
     "text": [
      "1.0543541\n",
      "0.5566169359670301\n"
     ]
    },
    {
     "name": "stderr",
     "output_type": "stream",
     "text": [
      "\r",
      "Training with LBFGS:   6%|▌         | 55/1000 [33:38<9:38:53, 36.75s/it]"
     ]
    },
    {
     "name": "stdout",
     "output_type": "stream",
     "text": [
      "0.09598351\n",
      "0.5531022194132053\n"
     ]
    },
    {
     "name": "stderr",
     "output_type": "stream",
     "text": [
      "\r",
      "Training with LBFGS:   6%|▌         | 56/1000 [34:14<9:36:31, 36.64s/it]"
     ]
    },
    {
     "name": "stdout",
     "output_type": "stream",
     "text": [
      "0.05553142\n",
      "0.5478187118411355\n"
     ]
    },
    {
     "name": "stderr",
     "output_type": "stream",
     "text": [
      "\r",
      "Training with LBFGS:   6%|▌         | 57/1000 [34:51<9:36:09, 36.66s/it]"
     ]
    },
    {
     "name": "stdout",
     "output_type": "stream",
     "text": [
      "0.67855954\n",
      "0.5428514130394868\n"
     ]
    },
    {
     "name": "stderr",
     "output_type": "stream",
     "text": [
      "\r",
      "Training with LBFGS:   6%|▌         | 58/1000 [35:28<9:34:50, 36.61s/it]"
     ]
    },
    {
     "name": "stdout",
     "output_type": "stream",
     "text": [
      "0.6698621\n",
      "0.5363622787902733\n"
     ]
    },
    {
     "name": "stderr",
     "output_type": "stream",
     "text": [
      "\r",
      "Training with LBFGS:   6%|▌         | 59/1000 [36:04<9:35:20, 36.69s/it]"
     ]
    },
    {
     "name": "stdout",
     "output_type": "stream",
     "text": [
      "1.5295488\n",
      "0.5322489014959761\n"
     ]
    },
    {
     "name": "stderr",
     "output_type": "stream",
     "text": [
      "\r",
      "Training with LBFGS:   6%|▌         | 60/1000 [36:41<9:33:27, 36.60s/it]"
     ]
    },
    {
     "name": "stdout",
     "output_type": "stream",
     "text": [
      "0.75856465\n",
      "0.5330306199668786\n"
     ]
    },
    {
     "name": "stderr",
     "output_type": "stream",
     "text": [
      "\r",
      "Training with LBFGS:   6%|▌         | 61/1000 [37:17<9:32:04, 36.55s/it]"
     ]
    },
    {
     "name": "stdout",
     "output_type": "stream",
     "text": [
      "2.1641858\n",
      "0.5319339575267563\n"
     ]
    },
    {
     "name": "stderr",
     "output_type": "stream",
     "text": [
      "\r",
      "Training with LBFGS:   6%|▌         | 62/1000 [37:54<9:31:22, 36.55s/it]"
     ]
    },
    {
     "name": "stdout",
     "output_type": "stream",
     "text": [
      "2.6594095\n",
      "0.5327161302667578\n"
     ]
    },
    {
     "name": "stderr",
     "output_type": "stream",
     "text": [
      "\r",
      "Training with LBFGS:   6%|▋         | 63/1000 [38:31<9:31:55, 36.62s/it]"
     ]
    },
    {
     "name": "stdout",
     "output_type": "stream",
     "text": [
      "0.8951334\n",
      "0.5293081829027956\n"
     ]
    },
    {
     "name": "stderr",
     "output_type": "stream",
     "text": [
      "\r",
      "Training with LBFGS:   6%|▋         | 64/1000 [39:07<9:32:18, 36.69s/it]"
     ]
    },
    {
     "name": "stdout",
     "output_type": "stream",
     "text": [
      "2.3165958\n",
      "0.5262653655317259\n"
     ]
    },
    {
     "name": "stderr",
     "output_type": "stream",
     "text": [
      "\r",
      "Training with LBFGS:   6%|▋         | 65/1000 [39:44<9:31:27, 36.67s/it]"
     ]
    },
    {
     "name": "stdout",
     "output_type": "stream",
     "text": [
      "1.5007005\n",
      "0.5210685555540598\n"
     ]
    },
    {
     "name": "stderr",
     "output_type": "stream",
     "text": [
      "\r",
      "Training with LBFGS:   7%|▋         | 66/1000 [40:21<9:30:25, 36.64s/it]"
     ]
    },
    {
     "name": "stdout",
     "output_type": "stream",
     "text": [
      "1.1093978\n",
      "0.51935200472134\n"
     ]
    },
    {
     "name": "stderr",
     "output_type": "stream",
     "text": [
      "\r",
      "Training with LBFGS:   7%|▋         | 67/1000 [40:57<9:30:06, 36.66s/it]"
     ]
    },
    {
     "name": "stdout",
     "output_type": "stream",
     "text": [
      "0.48978817\n",
      "0.5157074907502396\n"
     ]
    },
    {
     "name": "stderr",
     "output_type": "stream",
     "text": [
      "\r",
      "Training with LBFGS:   7%|▋         | 68/1000 [41:34<9:28:42, 36.61s/it]"
     ]
    },
    {
     "name": "stdout",
     "output_type": "stream",
     "text": [
      "0.6237724\n",
      "0.5136084547719443\n"
     ]
    },
    {
     "name": "stderr",
     "output_type": "stream",
     "text": [
      "\r",
      "Training with LBFGS:   7%|▋         | 69/1000 [42:11<9:29:33, 36.71s/it]"
     ]
    },
    {
     "name": "stdout",
     "output_type": "stream",
     "text": [
      "0.28488854\n",
      "0.5099092504913864\n"
     ]
    },
    {
     "name": "stderr",
     "output_type": "stream",
     "text": [
      "\r",
      "Training with LBFGS:   7%|▋         | 70/1000 [42:48<9:29:06, 36.72s/it]"
     ]
    },
    {
     "name": "stdout",
     "output_type": "stream",
     "text": [
      "1.8196851\n",
      "0.5030364790753642\n"
     ]
    },
    {
     "name": "stderr",
     "output_type": "stream",
     "text": [
      "\r",
      "Training with LBFGS:   7%|▋         | 71/1000 [43:24<9:28:39, 36.73s/it]"
     ]
    },
    {
     "name": "stdout",
     "output_type": "stream",
     "text": [
      "2.1192482\n",
      "0.49824808034081186\n"
     ]
    },
    {
     "name": "stderr",
     "output_type": "stream",
     "text": [
      "\r",
      "Training with LBFGS:   7%|▋         | 72/1000 [44:01<9:27:31, 36.69s/it]"
     ]
    },
    {
     "name": "stdout",
     "output_type": "stream",
     "text": [
      "2.612826\n",
      "0.48785566843632333\n"
     ]
    },
    {
     "name": "stderr",
     "output_type": "stream",
     "text": [
      "\r",
      "Training with LBFGS:   7%|▋         | 73/1000 [44:38<9:28:17, 36.78s/it]"
     ]
    },
    {
     "name": "stdout",
     "output_type": "stream",
     "text": [
      "3.3119335\n",
      "0.4751009879080615\n"
     ]
    },
    {
     "name": "stderr",
     "output_type": "stream",
     "text": [
      "\r",
      "Training with LBFGS:   7%|▋         | 74/1000 [45:15<9:28:24, 36.83s/it]"
     ]
    },
    {
     "name": "stdout",
     "output_type": "stream",
     "text": [
      "5.4719133\n",
      "0.4563552789936839\n"
     ]
    },
    {
     "name": "stderr",
     "output_type": "stream",
     "text": [
      "\r",
      "Training with LBFGS:   8%|▊         | 75/1000 [45:52<9:28:11, 36.86s/it]"
     ]
    },
    {
     "name": "stdout",
     "output_type": "stream",
     "text": [
      "0.6430236\n",
      "0.4430715590392372\n"
     ]
    },
    {
     "name": "stderr",
     "output_type": "stream",
     "text": [
      "\r",
      "Training with LBFGS:   8%|▊         | 76/1000 [46:28<9:26:44, 36.80s/it]"
     ]
    },
    {
     "name": "stdout",
     "output_type": "stream",
     "text": [
      "0.6856067\n",
      "0.4097820305762983\n"
     ]
    },
    {
     "name": "stderr",
     "output_type": "stream",
     "text": [
      "\r",
      "Training with LBFGS:   8%|▊         | 77/1000 [47:05<9:26:39, 36.84s/it]"
     ]
    },
    {
     "name": "stdout",
     "output_type": "stream",
     "text": [
      "0.0066995407\n",
      "0.4058582295751597\n"
     ]
    },
    {
     "name": "stderr",
     "output_type": "stream",
     "text": [
      "\r",
      "Training with LBFGS:   8%|▊         | 78/1000 [47:42<9:26:06, 36.84s/it]"
     ]
    },
    {
     "name": "stdout",
     "output_type": "stream",
     "text": [
      "1.5178108\n",
      "0.39857845936836117\n"
     ]
    },
    {
     "name": "stderr",
     "output_type": "stream",
     "text": [
      "\r",
      "Training with LBFGS:   8%|▊         | 79/1000 [48:19<9:26:03, 36.88s/it]"
     ]
    },
    {
     "name": "stdout",
     "output_type": "stream",
     "text": [
      "5.195503\n",
      "0.38689994043889075\n"
     ]
    },
    {
     "name": "stderr",
     "output_type": "stream",
     "text": [
      "\r",
      "Training with LBFGS:   8%|▊         | 80/1000 [48:56<9:25:18, 36.87s/it]"
     ]
    },
    {
     "name": "stdout",
     "output_type": "stream",
     "text": [
      "6.7748938\n",
      "0.3796399760247924\n"
     ]
    },
    {
     "name": "stderr",
     "output_type": "stream",
     "text": [
      "\r",
      "Training with LBFGS:   8%|▊         | 81/1000 [49:33<9:24:25, 36.85s/it]"
     ]
    },
    {
     "name": "stdout",
     "output_type": "stream",
     "text": [
      "7.120253\n",
      "0.35894536065793975\n"
     ]
    },
    {
     "name": "stderr",
     "output_type": "stream",
     "text": [
      "\r",
      "Training with LBFGS:   8%|▊         | 82/1000 [50:09<9:22:07, 36.74s/it]"
     ]
    },
    {
     "name": "stdout",
     "output_type": "stream",
     "text": [
      "6.0600843\n",
      "0.36047889518309617\n"
     ]
    },
    {
     "name": "stderr",
     "output_type": "stream",
     "text": [
      "\r",
      "Training with LBFGS:   8%|▊         | 83/1000 [50:46<9:20:52, 36.70s/it]"
     ]
    },
    {
     "name": "stdout",
     "output_type": "stream",
     "text": [
      "6.8737874\n",
      "0.3587090125070435\n"
     ]
    },
    {
     "name": "stderr",
     "output_type": "stream",
     "text": [
      "\r",
      "Training with LBFGS:   8%|▊         | 84/1000 [51:22<9:19:36, 36.66s/it]"
     ]
    },
    {
     "name": "stdout",
     "output_type": "stream",
     "text": [
      "8.125736\n",
      "0.34797710080117045\n"
     ]
    },
    {
     "name": "stderr",
     "output_type": "stream",
     "text": [
      "\r",
      "Training with LBFGS:   8%|▊         | 85/1000 [51:59<9:18:20, 36.61s/it]"
     ]
    },
    {
     "name": "stdout",
     "output_type": "stream",
     "text": [
      "7.812778\n",
      "0.34659856625736335\n"
     ]
    },
    {
     "name": "stderr",
     "output_type": "stream",
     "text": [
      "\r",
      "Training with LBFGS:   9%|▊         | 86/1000 [52:35<9:17:05, 36.57s/it]"
     ]
    },
    {
     "name": "stdout",
     "output_type": "stream",
     "text": [
      "7.005344\n",
      "0.33912852657215536\n"
     ]
    },
    {
     "name": "stderr",
     "output_type": "stream",
     "text": [
      "\r",
      "Training with LBFGS:   9%|▊         | 87/1000 [53:12<9:16:08, 36.55s/it]"
     ]
    },
    {
     "name": "stdout",
     "output_type": "stream",
     "text": [
      "7.818155\n",
      "0.33098014317163105\n"
     ]
    },
    {
     "name": "stderr",
     "output_type": "stream",
     "text": [
      "\r",
      "Training with LBFGS:   9%|▉         | 88/1000 [53:49<9:16:32, 36.61s/it]"
     ]
    },
    {
     "name": "stdout",
     "output_type": "stream",
     "text": [
      "8.232731\n",
      "0.33341101636549414\n"
     ]
    },
    {
     "name": "stderr",
     "output_type": "stream",
     "text": [
      "\r",
      "Training with LBFGS:   9%|▉         | 89/1000 [54:25<9:16:03, 36.62s/it]"
     ]
    },
    {
     "name": "stdout",
     "output_type": "stream",
     "text": [
      "7.5949445\n",
      "0.3352655054488951\n"
     ]
    },
    {
     "name": "stderr",
     "output_type": "stream",
     "text": [
      "\r",
      "Training with LBFGS:   9%|▉         | 90/1000 [55:02<9:16:30, 36.69s/it]"
     ]
    },
    {
     "name": "stdout",
     "output_type": "stream",
     "text": [
      "4.8063173\n",
      "0.3389020574737477\n"
     ]
    },
    {
     "name": "stderr",
     "output_type": "stream",
     "text": [
      "\r",
      "Training with LBFGS:   9%|▉         | 91/1000 [55:39<9:14:46, 36.62s/it]"
     ]
    },
    {
     "name": "stdout",
     "output_type": "stream",
     "text": [
      "5.083318\n",
      "0.34286225612987825\n"
     ]
    },
    {
     "name": "stderr",
     "output_type": "stream",
     "text": [
      "\r",
      "Training with LBFGS:   9%|▉         | 92/1000 [56:15<9:14:10, 36.62s/it]"
     ]
    },
    {
     "name": "stdout",
     "output_type": "stream",
     "text": [
      "4.878516\n",
      "0.3414542615097756\n"
     ]
    },
    {
     "name": "stderr",
     "output_type": "stream",
     "text": [
      "\r",
      "Training with LBFGS:   9%|▉         | 93/1000 [56:52<9:13:03, 36.59s/it]"
     ]
    },
    {
     "name": "stdout",
     "output_type": "stream",
     "text": [
      "5.569871\n",
      "0.337054513698994\n"
     ]
    },
    {
     "name": "stderr",
     "output_type": "stream",
     "text": [
      "\r",
      "Training with LBFGS:   9%|▉         | 94/1000 [57:28<9:12:12, 36.57s/it]"
     ]
    },
    {
     "name": "stdout",
     "output_type": "stream",
     "text": [
      "5.478158\n",
      "0.33370994372162976\n"
     ]
    },
    {
     "name": "stderr",
     "output_type": "stream",
     "text": [
      "\r",
      "Training with LBFGS:  10%|▉         | 95/1000 [58:05<9:12:29, 36.63s/it]"
     ]
    },
    {
     "name": "stdout",
     "output_type": "stream",
     "text": [
      "1.7078832\n",
      "0.33185499510676836\n"
     ]
    },
    {
     "name": "stderr",
     "output_type": "stream",
     "text": [
      "\r",
      "Training with LBFGS:  10%|▉         | 96/1000 [58:42<9:11:54, 36.63s/it]"
     ]
    },
    {
     "name": "stdout",
     "output_type": "stream",
     "text": [
      "2.0350597\n",
      "0.32921034871677823\n"
     ]
    },
    {
     "name": "stderr",
     "output_type": "stream",
     "text": [
      "\r",
      "Training with LBFGS:  10%|▉         | 97/1000 [59:18<9:10:16, 36.56s/it]"
     ]
    },
    {
     "name": "stdout",
     "output_type": "stream",
     "text": [
      "4.741915\n",
      "0.32707733769825253\n"
     ]
    },
    {
     "name": "stderr",
     "output_type": "stream",
     "text": [
      "\r",
      "Training with LBFGS:  10%|▉         | 98/1000 [59:55<9:09:28, 36.55s/it]"
     ]
    },
    {
     "name": "stdout",
     "output_type": "stream",
     "text": [
      "4.4664474\n",
      "0.32358770099145995\n"
     ]
    },
    {
     "name": "stderr",
     "output_type": "stream",
     "text": [
      "\r",
      "Training with LBFGS:  10%|▉         | 99/1000 [1:00:31<9:08:47, 36.55s/it]"
     ]
    },
    {
     "name": "stdout",
     "output_type": "stream",
     "text": [
      "4.7436686\n",
      "0.31735962229383763\n"
     ]
    },
    {
     "name": "stderr",
     "output_type": "stream",
     "text": [
      "\r",
      "Training with LBFGS:  10%|█         | 100/1000 [1:01:08<9:07:40, 36.51s/it]"
     ]
    },
    {
     "name": "stdout",
     "output_type": "stream",
     "text": [
      "4.722203\n",
      "0.3192980773840333\n"
     ]
    },
    {
     "name": "stderr",
     "output_type": "stream",
     "text": [
      "\r",
      "Training with LBFGS:  10%|█         | 101/1000 [1:01:44<9:07:03, 36.51s/it]"
     ]
    },
    {
     "name": "stdout",
     "output_type": "stream",
     "text": [
      "5.189091\n",
      "0.32138129631961354\n"
     ]
    },
    {
     "name": "stderr",
     "output_type": "stream",
     "text": [
      "\r",
      "Training with LBFGS:  10%|█         | 102/1000 [1:02:21<9:06:03, 36.49s/it]"
     ]
    },
    {
     "name": "stdout",
     "output_type": "stream",
     "text": [
      "5.1873775\n",
      "0.31926869303636557\n"
     ]
    },
    {
     "name": "stderr",
     "output_type": "stream",
     "text": [
      "\r",
      "Training with LBFGS:  10%|█         | 103/1000 [1:02:57<9:05:53, 36.51s/it]"
     ]
    },
    {
     "name": "stdout",
     "output_type": "stream",
     "text": [
      "6.603375\n",
      "0.3158707859279795\n"
     ]
    },
    {
     "name": "stderr",
     "output_type": "stream",
     "text": [
      "\r",
      "Training with LBFGS:  10%|█         | 104/1000 [1:03:34<9:06:05, 36.57s/it]"
     ]
    },
    {
     "name": "stdout",
     "output_type": "stream",
     "text": [
      "6.0507836\n",
      "0.3178559133466399\n"
     ]
    },
    {
     "name": "stderr",
     "output_type": "stream",
     "text": [
      "\r",
      "Training with LBFGS:  10%|█         | 105/1000 [1:04:10<9:04:48, 36.52s/it]"
     ]
    },
    {
     "name": "stdout",
     "output_type": "stream",
     "text": [
      "3.0279815\n",
      "0.31459758908336766\n"
     ]
    },
    {
     "name": "stderr",
     "output_type": "stream",
     "text": [
      "\r",
      "Training with LBFGS:  11%|█         | 106/1000 [1:04:47<9:03:44, 36.49s/it]"
     ]
    },
    {
     "name": "stdout",
     "output_type": "stream",
     "text": [
      "2.807245\n",
      "0.3109485798640826\n"
     ]
    },
    {
     "name": "stderr",
     "output_type": "stream",
     "text": [
      "\r",
      "Training with LBFGS:  11%|█         | 107/1000 [1:05:23<9:02:32, 36.45s/it]"
     ]
    },
    {
     "name": "stdout",
     "output_type": "stream",
     "text": [
      "3.370614\n",
      "0.31014235312777166\n"
     ]
    },
    {
     "name": "stderr",
     "output_type": "stream",
     "text": [
      "\r",
      "Training with LBFGS:  11%|█         | 108/1000 [1:05:59<9:02:05, 36.46s/it]"
     ]
    },
    {
     "name": "stdout",
     "output_type": "stream",
     "text": [
      "2.5781739\n",
      "0.30738784008311804\n"
     ]
    },
    {
     "name": "stderr",
     "output_type": "stream",
     "text": [
      "\r",
      "Training with LBFGS:  11%|█         | 109/1000 [1:06:36<9:02:35, 36.54s/it]"
     ]
    },
    {
     "name": "stdout",
     "output_type": "stream",
     "text": [
      "6.2715764\n",
      "0.3029573283072152\n"
     ]
    },
    {
     "name": "stderr",
     "output_type": "stream",
     "text": [
      "\r",
      "Training with LBFGS:  11%|█         | 110/1000 [1:07:13<9:01:48, 36.53s/it]"
     ]
    },
    {
     "name": "stdout",
     "output_type": "stream",
     "text": [
      "7.242383\n",
      "0.29817635359670175\n"
     ]
    },
    {
     "name": "stderr",
     "output_type": "stream",
     "text": [
      "\r",
      "Training with LBFGS:  11%|█         | 111/1000 [1:07:49<9:00:45, 36.50s/it]"
     ]
    },
    {
     "name": "stdout",
     "output_type": "stream",
     "text": [
      "7.222046\n",
      "0.2965391139984599\n"
     ]
    },
    {
     "name": "stderr",
     "output_type": "stream",
     "text": [
      "\r",
      "Training with LBFGS:  11%|█         | 112/1000 [1:08:26<9:00:09, 36.50s/it]"
     ]
    },
    {
     "name": "stdout",
     "output_type": "stream",
     "text": [
      "7.1804023\n",
      "0.29273822794413934\n"
     ]
    },
    {
     "name": "stderr",
     "output_type": "stream",
     "text": [
      "\r",
      "Training with LBFGS:  11%|█▏        | 113/1000 [1:09:02<9:00:25, 36.56s/it]"
     ]
    },
    {
     "name": "stdout",
     "output_type": "stream",
     "text": [
      "6.6610217\n",
      "0.2898901554604267\n"
     ]
    },
    {
     "name": "stderr",
     "output_type": "stream",
     "text": [
      "\r",
      "Training with LBFGS:  11%|█▏        | 114/1000 [1:09:39<8:59:12, 36.52s/it]"
     ]
    },
    {
     "name": "stdout",
     "output_type": "stream",
     "text": [
      "6.7722826\n",
      "0.2869563159008846\n"
     ]
    },
    {
     "name": "stderr",
     "output_type": "stream",
     "text": [
      "\r",
      "Training with LBFGS:  12%|█▏        | 115/1000 [1:10:15<8:58:42, 36.52s/it]"
     ]
    },
    {
     "name": "stdout",
     "output_type": "stream",
     "text": [
      "6.1634507\n",
      "0.28328037761314995\n"
     ]
    },
    {
     "name": "stderr",
     "output_type": "stream",
     "text": [
      "\r",
      "Training with LBFGS:  12%|█▏        | 116/1000 [1:10:52<8:58:35, 36.56s/it]"
     ]
    },
    {
     "name": "stdout",
     "output_type": "stream",
     "text": [
      "5.996974\n",
      "0.28141999846035465\n"
     ]
    },
    {
     "name": "stderr",
     "output_type": "stream",
     "text": [
      "\r",
      "Training with LBFGS:  12%|█▏        | 117/1000 [1:11:28<8:57:48, 36.54s/it]"
     ]
    },
    {
     "name": "stdout",
     "output_type": "stream",
     "text": [
      "5.8291726\n",
      "0.2824847132743839\n"
     ]
    },
    {
     "name": "stderr",
     "output_type": "stream",
     "text": [
      "\r",
      "Training with LBFGS:  12%|█▏        | 118/1000 [1:12:05<8:57:53, 36.59s/it]"
     ]
    },
    {
     "name": "stdout",
     "output_type": "stream",
     "text": [
      "5.9925475\n",
      "0.28304364324366055\n"
     ]
    },
    {
     "name": "stderr",
     "output_type": "stream",
     "text": [
      "\r",
      "Training with LBFGS:  12%|█▏        | 119/1000 [1:12:42<8:57:27, 36.60s/it]"
     ]
    },
    {
     "name": "stdout",
     "output_type": "stream",
     "text": [
      "6.1892567\n",
      "0.2815773771422894\n"
     ]
    },
    {
     "name": "stderr",
     "output_type": "stream",
     "text": [
      "\r",
      "Training with LBFGS:  12%|█▏        | 120/1000 [1:13:21<9:08:48, 37.42s/it]"
     ]
    },
    {
     "name": "stdout",
     "output_type": "stream",
     "text": [
      "5.970657\n",
      "0.28122497300079774\n"
     ]
    },
    {
     "name": "stderr",
     "output_type": "stream",
     "text": [
      "\r",
      "Training with LBFGS:  12%|█▏        | 121/1000 [1:13:56<8:57:08, 36.67s/it]"
     ]
    },
    {
     "name": "stdout",
     "output_type": "stream",
     "text": [
      "5.960518\n",
      "0.28039602868556734\n"
     ]
    },
    {
     "name": "stderr",
     "output_type": "stream",
     "text": [
      "\r",
      "Training with LBFGS:  12%|█▏        | 122/1000 [1:14:30<8:46:52, 36.00s/it]"
     ]
    },
    {
     "name": "stdout",
     "output_type": "stream",
     "text": [
      "6.1102962\n",
      "0.2804216225017252\n"
     ]
    },
    {
     "name": "stderr",
     "output_type": "stream",
     "text": [
      "\r",
      "Training with LBFGS:  12%|█▏        | 123/1000 [1:15:07<8:48:57, 36.19s/it]"
     ]
    },
    {
     "name": "stdout",
     "output_type": "stream",
     "text": [
      "7.626978\n",
      "0.2773381246366614\n"
     ]
    },
    {
     "name": "stderr",
     "output_type": "stream",
     "text": [
      "\r",
      "Training with LBFGS:  12%|█▏        | 124/1000 [1:15:44<8:51:11, 36.38s/it]"
     ]
    },
    {
     "name": "stdout",
     "output_type": "stream",
     "text": [
      "7.0598516\n",
      "0.27668087601705443\n"
     ]
    },
    {
     "name": "stderr",
     "output_type": "stream",
     "text": [
      "\r",
      "Training with LBFGS:  12%|█▎        | 125/1000 [1:16:20<8:51:33, 36.45s/it]"
     ]
    },
    {
     "name": "stdout",
     "output_type": "stream",
     "text": [
      "7.7806897\n",
      "0.276791912325651\n"
     ]
    },
    {
     "name": "stderr",
     "output_type": "stream",
     "text": [
      "\r",
      "Training with LBFGS:  13%|█▎        | 126/1000 [1:16:59<8:58:13, 36.95s/it]"
     ]
    },
    {
     "name": "stdout",
     "output_type": "stream",
     "text": [
      "7.74931\n",
      "0.27648695713661503\n"
     ]
    },
    {
     "name": "stderr",
     "output_type": "stream",
     "text": [
      "\r",
      "Training with LBFGS:  13%|█▎        | 127/1000 [1:17:33<8:48:21, 36.31s/it]"
     ]
    },
    {
     "name": "stdout",
     "output_type": "stream",
     "text": [
      "7.7285805\n",
      "0.27694014689367613\n"
     ]
    },
    {
     "name": "stderr",
     "output_type": "stream",
     "text": [
      "\r",
      "Training with LBFGS:  13%|█▎        | 128/1000 [1:18:08<8:38:36, 35.68s/it]"
     ]
    },
    {
     "name": "stdout",
     "output_type": "stream",
     "text": [
      "7.70326\n",
      "0.2768447051310569\n"
     ]
    },
    {
     "name": "stderr",
     "output_type": "stream",
     "text": [
      "\r",
      "Training with LBFGS:  13%|█▎        | 129/1000 [1:18:42<8:32:38, 35.31s/it]"
     ]
    },
    {
     "name": "stdout",
     "output_type": "stream",
     "text": [
      "7.6417007\n",
      "0.27670135133858415\n"
     ]
    },
    {
     "name": "stderr",
     "output_type": "stream",
     "text": [
      "\r",
      "Training with LBFGS:  13%|█▎        | 130/1000 [1:19:16<8:27:24, 34.99s/it]"
     ]
    },
    {
     "name": "stdout",
     "output_type": "stream",
     "text": [
      "7.7533827\n",
      "0.2763921788378267\n"
     ]
    },
    {
     "name": "stderr",
     "output_type": "stream",
     "text": [
      "\r",
      "Training with LBFGS:  13%|█▎        | 131/1000 [1:19:52<8:27:50, 35.06s/it]"
     ]
    },
    {
     "name": "stdout",
     "output_type": "stream",
     "text": [
      "7.184958\n",
      "0.27565552473171745\n"
     ]
    },
    {
     "name": "stderr",
     "output_type": "stream",
     "text": [
      "\r",
      "Training with LBFGS:  13%|█▎        | 132/1000 [1:20:26<8:25:31, 34.94s/it]"
     ]
    },
    {
     "name": "stdout",
     "output_type": "stream",
     "text": [
      "7.2014766\n",
      "0.27500786947457107\n"
     ]
    },
    {
     "name": "stderr",
     "output_type": "stream",
     "text": [
      "\r",
      "Training with LBFGS:  13%|█▎        | 133/1000 [1:21:01<8:22:27, 34.77s/it]"
     ]
    },
    {
     "name": "stdout",
     "output_type": "stream",
     "text": [
      "7.1895046\n",
      "0.27496366413098416\n"
     ]
    },
    {
     "name": "stderr",
     "output_type": "stream",
     "text": [
      "\r",
      "Training with LBFGS:  13%|█▎        | 134/1000 [1:21:37<8:29:22, 35.29s/it]"
     ]
    },
    {
     "name": "stdout",
     "output_type": "stream",
     "text": [
      "7.203804\n",
      "0.2736603580485725\n"
     ]
    },
    {
     "name": "stderr",
     "output_type": "stream",
     "text": [
      "\r",
      "Training with LBFGS:  14%|█▎        | 135/1000 [1:22:14<8:35:14, 35.74s/it]"
     ]
    },
    {
     "name": "stdout",
     "output_type": "stream",
     "text": [
      "7.264855\n",
      "0.2691517643935806\n"
     ]
    },
    {
     "name": "stderr",
     "output_type": "stream",
     "text": [
      "\r",
      "Training with LBFGS:  14%|█▎        | 136/1000 [1:22:49<8:30:09, 35.43s/it]"
     ]
    },
    {
     "name": "stdout",
     "output_type": "stream",
     "text": [
      "6.8438196\n",
      "0.26906014273643464\n"
     ]
    },
    {
     "name": "stderr",
     "output_type": "stream",
     "text": [
      "\r",
      "Training with LBFGS:  14%|█▎        | 137/1000 [1:23:23<8:24:51, 35.10s/it]"
     ]
    },
    {
     "name": "stdout",
     "output_type": "stream",
     "text": [
      "6.593345\n",
      "0.26903038647632904\n"
     ]
    },
    {
     "name": "stderr",
     "output_type": "stream",
     "text": [
      "\r",
      "Training with LBFGS:  14%|█▍        | 138/1000 [1:23:57<8:20:21, 34.83s/it]"
     ]
    },
    {
     "name": "stdout",
     "output_type": "stream",
     "text": [
      "6.976784\n",
      "0.2691112574959372\n"
     ]
    },
    {
     "name": "stderr",
     "output_type": "stream",
     "text": [
      "\r",
      "Training with LBFGS:  14%|█▍        | 139/1000 [1:24:31<8:17:23, 34.66s/it]"
     ]
    },
    {
     "name": "stdout",
     "output_type": "stream",
     "text": [
      "6.9688935\n",
      "0.26899597738326786\n"
     ]
    },
    {
     "name": "stderr",
     "output_type": "stream",
     "text": [
      "\r",
      "Training with LBFGS:  14%|█▍        | 140/1000 [1:25:06<8:15:34, 34.57s/it]"
     ]
    },
    {
     "name": "stdout",
     "output_type": "stream",
     "text": [
      "7.2395577\n",
      "0.2687920604788623\n"
     ]
    },
    {
     "name": "stderr",
     "output_type": "stream",
     "text": [
      "\r",
      "Training with LBFGS:  14%|█▍        | 141/1000 [1:25:40<8:14:03, 34.51s/it]"
     ]
    },
    {
     "name": "stdout",
     "output_type": "stream",
     "text": [
      "7.1448326\n",
      "0.26865215726177755\n"
     ]
    },
    {
     "name": "stderr",
     "output_type": "stream",
     "text": [
      "\r",
      "Training with LBFGS:  14%|█▍        | 142/1000 [1:26:17<8:23:31, 35.21s/it]"
     ]
    },
    {
     "name": "stdout",
     "output_type": "stream",
     "text": [
      "7.195929\n",
      "0.2660137784769106\n"
     ]
    },
    {
     "name": "stderr",
     "output_type": "stream",
     "text": [
      "\r",
      "Training with LBFGS:  14%|█▍        | 143/1000 [1:26:54<8:29:12, 35.65s/it]"
     ]
    },
    {
     "name": "stdout",
     "output_type": "stream",
     "text": [
      "4.3986187\n",
      "0.26558528873868775\n"
     ]
    },
    {
     "name": "stderr",
     "output_type": "stream",
     "text": [
      "\r",
      "Training with LBFGS:  14%|█▍        | 144/1000 [1:27:29<8:26:04, 35.47s/it]"
     ]
    },
    {
     "name": "stdout",
     "output_type": "stream",
     "text": [
      "4.439645\n",
      "0.2656383652460657\n"
     ]
    },
    {
     "name": "stderr",
     "output_type": "stream",
     "text": [
      "\r",
      "Training with LBFGS:  14%|█▍        | 145/1000 [1:28:03<8:22:33, 35.27s/it]"
     ]
    },
    {
     "name": "stdout",
     "output_type": "stream",
     "text": [
      "4.3674335\n",
      "0.2654329342323105\n"
     ]
    },
    {
     "name": "stderr",
     "output_type": "stream",
     "text": [
      "\r",
      "Training with LBFGS:  15%|█▍        | 146/1000 [1:28:38<8:17:32, 34.96s/it]"
     ]
    },
    {
     "name": "stdout",
     "output_type": "stream",
     "text": [
      "4.565217\n",
      "0.2653529023637791\n"
     ]
    },
    {
     "name": "stderr",
     "output_type": "stream",
     "text": [
      "\r",
      "Training with LBFGS:  15%|█▍        | 147/1000 [1:29:12<8:14:10, 34.76s/it]"
     ]
    },
    {
     "name": "stdout",
     "output_type": "stream",
     "text": [
      "4.557248\n",
      "0.26518255674126945\n"
     ]
    },
    {
     "name": "stderr",
     "output_type": "stream",
     "text": [
      "\r",
      "Training with LBFGS:  15%|█▍        | 148/1000 [1:29:47<8:12:22, 34.67s/it]"
     ]
    },
    {
     "name": "stdout",
     "output_type": "stream",
     "text": [
      "4.3033414\n",
      "0.26504758164010883\n"
     ]
    },
    {
     "name": "stderr",
     "output_type": "stream",
     "text": [
      "\r",
      "Training with LBFGS:  15%|█▍        | 149/1000 [1:30:23<8:19:10, 35.19s/it]"
     ]
    },
    {
     "name": "stdout",
     "output_type": "stream",
     "text": [
      "3.9928164\n",
      "0.2640876233167052\n"
     ]
    },
    {
     "name": "stderr",
     "output_type": "stream",
     "text": [
      "\r",
      "Training with LBFGS:  15%|█▌        | 150/1000 [1:30:59<8:23:54, 35.57s/it]"
     ]
    },
    {
     "name": "stdout",
     "output_type": "stream",
     "text": [
      "6.1013494\n",
      "0.2623718391349401\n"
     ]
    },
    {
     "name": "stderr",
     "output_type": "stream",
     "text": [
      "\r",
      "Training with LBFGS:  15%|█▌        | 151/1000 [1:31:36<8:27:37, 35.87s/it]"
     ]
    },
    {
     "name": "stdout",
     "output_type": "stream",
     "text": [
      "6.5133944\n",
      "0.2612411497752979\n"
     ]
    },
    {
     "name": "stderr",
     "output_type": "stream",
     "text": [
      "\r",
      "Training with LBFGS:  15%|█▌        | 152/1000 [1:32:10<8:21:08, 35.46s/it]"
     ]
    },
    {
     "name": "stdout",
     "output_type": "stream",
     "text": [
      "6.813642\n",
      "0.2608345074007534\n"
     ]
    },
    {
     "name": "stderr",
     "output_type": "stream",
     "text": [
      "\r",
      "Training with LBFGS:  15%|█▌        | 153/1000 [1:32:45<8:15:54, 35.13s/it]"
     ]
    },
    {
     "name": "stdout",
     "output_type": "stream",
     "text": [
      "6.7949266\n",
      "0.2609689412934903\n"
     ]
    },
    {
     "name": "stderr",
     "output_type": "stream",
     "text": [
      "\r",
      "Training with LBFGS:  15%|█▌        | 154/1000 [1:33:19<8:11:37, 34.87s/it]"
     ]
    },
    {
     "name": "stdout",
     "output_type": "stream",
     "text": [
      "6.7919397\n",
      "0.2607991167658923\n"
     ]
    },
    {
     "name": "stderr",
     "output_type": "stream",
     "text": [
      "\r",
      "Training with LBFGS:  16%|█▌        | 155/1000 [1:33:54<8:11:04, 34.87s/it]"
     ]
    },
    {
     "name": "stdout",
     "output_type": "stream",
     "text": [
      "7.0344553\n",
      "0.25993816398514763\n"
     ]
    },
    {
     "name": "stderr",
     "output_type": "stream",
     "text": [
      "\r",
      "Training with LBFGS:  16%|█▌        | 156/1000 [1:34:28<8:08:46, 34.75s/it]"
     ]
    },
    {
     "name": "stdout",
     "output_type": "stream",
     "text": [
      "7.7567983\n",
      "0.25930631213622574\n"
     ]
    },
    {
     "name": "stderr",
     "output_type": "stream",
     "text": [
      "\r",
      "Training with LBFGS:  16%|█▌        | 157/1000 [1:35:04<8:11:35, 34.99s/it]"
     ]
    },
    {
     "name": "stdout",
     "output_type": "stream",
     "text": [
      "6.6525383\n",
      "0.25880359223659916\n"
     ]
    },
    {
     "name": "stderr",
     "output_type": "stream",
     "text": [
      "\r",
      "Training with LBFGS:  16%|█▌        | 158/1000 [1:35:38<8:08:10, 34.79s/it]"
     ]
    },
    {
     "name": "stdout",
     "output_type": "stream",
     "text": [
      "6.113384\n",
      "0.25864988914363257\n"
     ]
    },
    {
     "name": "stderr",
     "output_type": "stream",
     "text": [
      "\r",
      "Training with LBFGS:  16%|█▌        | 159/1000 [1:36:12<8:04:48, 34.59s/it]"
     ]
    },
    {
     "name": "stdout",
     "output_type": "stream",
     "text": [
      "6.026678\n",
      "0.25861952224823037\n"
     ]
    },
    {
     "name": "stderr",
     "output_type": "stream",
     "text": [
      "\r",
      "Training with LBFGS:  16%|█▌        | 160/1000 [1:36:47<8:02:59, 34.50s/it]"
     ]
    },
    {
     "name": "stdout",
     "output_type": "stream",
     "text": [
      "6.320193\n",
      "0.2584770288257639\n"
     ]
    },
    {
     "name": "stderr",
     "output_type": "stream",
     "text": [
      "\r",
      "Training with LBFGS:  16%|█▌        | 161/1000 [1:37:21<8:00:53, 34.39s/it]"
     ]
    },
    {
     "name": "stdout",
     "output_type": "stream",
     "text": [
      "6.615543\n",
      "0.2584337928714183\n"
     ]
    },
    {
     "name": "stderr",
     "output_type": "stream",
     "text": [
      "\r",
      "Training with LBFGS:  16%|█▌        | 162/1000 [1:37:56<8:02:10, 34.52s/it]"
     ]
    },
    {
     "name": "stdout",
     "output_type": "stream",
     "text": [
      "7.6724744\n",
      "0.2577046533241696\n"
     ]
    },
    {
     "name": "stderr",
     "output_type": "stream",
     "text": [
      "\r",
      "Training with LBFGS:  16%|█▋        | 163/1000 [1:38:32<8:10:37, 35.17s/it]"
     ]
    },
    {
     "name": "stdout",
     "output_type": "stream",
     "text": [
      "6.810375\n",
      "0.2559924219635916\n"
     ]
    },
    {
     "name": "stderr",
     "output_type": "stream",
     "text": [
      "\r",
      "Training with LBFGS:  16%|█▋        | 164/1000 [1:39:09<8:17:39, 35.72s/it]"
     ]
    },
    {
     "name": "stdout",
     "output_type": "stream",
     "text": [
      "6.4378915\n",
      "0.25624276708372584\n"
     ]
    },
    {
     "name": "stderr",
     "output_type": "stream",
     "text": [
      "\r",
      "Training with LBFGS:  16%|█▋        | 165/1000 [1:39:45<8:15:44, 35.62s/it]"
     ]
    },
    {
     "name": "stdout",
     "output_type": "stream",
     "text": [
      "6.323371\n",
      "0.2562812444509369\n"
     ]
    },
    {
     "name": "stderr",
     "output_type": "stream",
     "text": [
      "\r",
      "Training with LBFGS:  17%|█▋        | 166/1000 [1:40:20<8:13:54, 35.53s/it]"
     ]
    },
    {
     "name": "stdout",
     "output_type": "stream",
     "text": [
      "6.3128285\n",
      "0.2562812444509369\n"
     ]
    },
    {
     "name": "stderr",
     "output_type": "stream",
     "text": [
      "\r",
      "Training with LBFGS:  17%|█▋        | 167/1000 [1:40:55<8:12:22, 35.47s/it]"
     ]
    },
    {
     "name": "stdout",
     "output_type": "stream",
     "text": [
      "6.290361\n",
      "0.2562812444509369\n"
     ]
    },
    {
     "name": "stderr",
     "output_type": "stream",
     "text": [
      "\r",
      "Training with LBFGS:  17%|█▋        | 168/1000 [1:41:31<8:10:54, 35.40s/it]"
     ]
    },
    {
     "name": "stdout",
     "output_type": "stream",
     "text": [
      "6.279099\n",
      "0.2562812444509369\n"
     ]
    },
    {
     "name": "stderr",
     "output_type": "stream",
     "text": [
      "\r",
      "Training with LBFGS:  17%|█▋        | 169/1000 [1:42:06<8:09:44, 35.36s/it]"
     ]
    },
    {
     "name": "stdout",
     "output_type": "stream",
     "text": [
      "6.2098837\n",
      "0.2562812444509369\n"
     ]
    },
    {
     "name": "stderr",
     "output_type": "stream",
     "text": [
      "\r",
      "Training with LBFGS:  17%|█▋        | 170/1000 [1:42:41<8:08:19, 35.30s/it]"
     ]
    },
    {
     "name": "stdout",
     "output_type": "stream",
     "text": [
      "6.3268824\n",
      "0.2562812444509369\n"
     ]
    },
    {
     "name": "stderr",
     "output_type": "stream",
     "text": [
      "\r",
      "Training with LBFGS:  17%|█▋        | 171/1000 [1:43:16<8:07:06, 35.26s/it]"
     ]
    },
    {
     "name": "stdout",
     "output_type": "stream",
     "text": [
      "6.4276943\n",
      "0.2562812444509369\n"
     ]
    },
    {
     "name": "stderr",
     "output_type": "stream",
     "text": [
      "\r",
      "Training with LBFGS:  17%|█▋        | 172/1000 [1:43:51<8:06:09, 35.23s/it]"
     ]
    },
    {
     "name": "stdout",
     "output_type": "stream",
     "text": [
      "6.454301\n",
      "0.2562812444509369\n"
     ]
    },
    {
     "name": "stderr",
     "output_type": "stream",
     "text": [
      "\r",
      "Training with LBFGS:  17%|█▋        | 173/1000 [1:44:27<8:05:32, 35.23s/it]"
     ]
    },
    {
     "name": "stdout",
     "output_type": "stream",
     "text": [
      "6.342346\n",
      "0.2562812444509369\n"
     ]
    },
    {
     "name": "stderr",
     "output_type": "stream",
     "text": [
      "\r",
      "Training with LBFGS:  17%|█▋        | 174/1000 [1:45:02<8:04:56, 35.23s/it]"
     ]
    },
    {
     "name": "stdout",
     "output_type": "stream",
     "text": [
      "6.3497915\n",
      "0.2562812444509369\n"
     ]
    },
    {
     "name": "stderr",
     "output_type": "stream",
     "text": [
      "\r",
      "Training with LBFGS:  18%|█▊        | 175/1000 [1:45:37<8:04:28, 35.23s/it]"
     ]
    },
    {
     "name": "stdout",
     "output_type": "stream",
     "text": [
      "6.217651\n",
      "0.2562812444509369\n"
     ]
    },
    {
     "name": "stderr",
     "output_type": "stream",
     "text": [
      "\r",
      "Training with LBFGS:  18%|█▊        | 176/1000 [1:46:12<8:04:10, 35.26s/it]"
     ]
    },
    {
     "name": "stdout",
     "output_type": "stream",
     "text": [
      "6.4528127\n",
      "0.2562812444509369\n"
     ]
    },
    {
     "name": "stderr",
     "output_type": "stream",
     "text": [
      "\r",
      "Training with LBFGS:  18%|█▊        | 177/1000 [1:46:48<8:03:53, 35.28s/it]"
     ]
    },
    {
     "name": "stdout",
     "output_type": "stream",
     "text": [
      "6.302748\n",
      "0.2562812444509369\n"
     ]
    },
    {
     "name": "stderr",
     "output_type": "stream",
     "text": [
      "\r",
      "Training with LBFGS:  18%|█▊        | 178/1000 [1:47:23<8:03:07, 35.26s/it]"
     ]
    },
    {
     "name": "stdout",
     "output_type": "stream",
     "text": [
      "6.1685734\n",
      "0.2562812444509369\n"
     ]
    },
    {
     "name": "stderr",
     "output_type": "stream",
     "text": [
      "\r",
      "Training with LBFGS:  18%|█▊        | 179/1000 [1:47:58<8:02:49, 35.29s/it]"
     ]
    },
    {
     "name": "stdout",
     "output_type": "stream",
     "text": [
      "6.369185\n",
      "0.2562812444509369\n"
     ]
    },
    {
     "name": "stderr",
     "output_type": "stream",
     "text": [
      "\r",
      "Training with LBFGS:  18%|█▊        | 180/1000 [1:48:34<8:02:20, 35.29s/it]"
     ]
    },
    {
     "name": "stdout",
     "output_type": "stream",
     "text": [
      "6.268325\n",
      "0.2562812444509369\n"
     ]
    },
    {
     "name": "stderr",
     "output_type": "stream",
     "text": [
      "\r",
      "Training with LBFGS:  18%|█▊        | 181/1000 [1:49:09<8:01:57, 35.31s/it]"
     ]
    },
    {
     "name": "stdout",
     "output_type": "stream",
     "text": [
      "6.2680893\n",
      "0.2562812444509369\n"
     ]
    },
    {
     "name": "stderr",
     "output_type": "stream",
     "text": [
      "\r",
      "Training with LBFGS:  18%|█▊        | 182/1000 [1:49:44<8:01:26, 35.31s/it]"
     ]
    },
    {
     "name": "stdout",
     "output_type": "stream",
     "text": [
      "6.3897195\n",
      "0.2562812444509369\n"
     ]
    },
    {
     "name": "stderr",
     "output_type": "stream",
     "text": [
      "\r",
      "Training with LBFGS:  18%|█▊        | 183/1000 [1:50:19<8:00:33, 35.29s/it]"
     ]
    },
    {
     "name": "stdout",
     "output_type": "stream",
     "text": [
      "6.3652377\n",
      "0.2562812444509369\n"
     ]
    },
    {
     "name": "stderr",
     "output_type": "stream",
     "text": [
      "\r",
      "Training with LBFGS:  18%|█▊        | 184/1000 [1:50:55<7:59:46, 35.28s/it]"
     ]
    },
    {
     "name": "stdout",
     "output_type": "stream",
     "text": [
      "6.3395486\n",
      "0.2562812444509369\n"
     ]
    },
    {
     "name": "stderr",
     "output_type": "stream",
     "text": [
      "\r",
      "Training with LBFGS:  18%|█▊        | 185/1000 [1:51:30<7:58:57, 35.26s/it]"
     ]
    },
    {
     "name": "stdout",
     "output_type": "stream",
     "text": [
      "6.441448\n",
      "0.2562812444509369\n"
     ]
    },
    {
     "name": "stderr",
     "output_type": "stream",
     "text": [
      "\r",
      "Training with LBFGS:  19%|█▊        | 186/1000 [1:52:05<7:58:14, 35.25s/it]"
     ]
    },
    {
     "name": "stdout",
     "output_type": "stream",
     "text": [
      "6.3415475\n",
      "0.2562812444509369\n"
     ]
    },
    {
     "name": "stderr",
     "output_type": "stream",
     "text": [
      "\r",
      "Training with LBFGS:  19%|█▊        | 187/1000 [1:52:40<7:57:58, 35.27s/it]"
     ]
    },
    {
     "name": "stdout",
     "output_type": "stream",
     "text": [
      "6.4102545\n",
      "0.2562812444509369\n"
     ]
    },
    {
     "name": "stderr",
     "output_type": "stream",
     "text": [
      "\r",
      "Training with LBFGS:  19%|█▉        | 188/1000 [1:53:16<7:57:10, 35.26s/it]"
     ]
    },
    {
     "name": "stdout",
     "output_type": "stream",
     "text": [
      "6.4189153\n",
      "0.2562812444509369\n"
     ]
    },
    {
     "name": "stderr",
     "output_type": "stream",
     "text": [
      "\r",
      "Training with LBFGS:  19%|█▉        | 189/1000 [1:53:51<7:56:26, 35.25s/it]"
     ]
    },
    {
     "name": "stdout",
     "output_type": "stream",
     "text": [
      "6.200537\n",
      "0.2562812444509369\n"
     ]
    },
    {
     "name": "stderr",
     "output_type": "stream",
     "text": [
      "\r",
      "Training with LBFGS:  19%|█▉        | 190/1000 [1:54:26<7:55:26, 35.22s/it]"
     ]
    },
    {
     "name": "stdout",
     "output_type": "stream",
     "text": [
      "6.2602196\n",
      "0.2562812444509369\n"
     ]
    },
    {
     "name": "stderr",
     "output_type": "stream",
     "text": [
      "\r",
      "Training with LBFGS:  19%|█▉        | 191/1000 [1:55:01<7:55:00, 35.23s/it]"
     ]
    },
    {
     "name": "stdout",
     "output_type": "stream",
     "text": [
      "6.3854914\n",
      "0.2562812444509369\n"
     ]
    },
    {
     "name": "stderr",
     "output_type": "stream",
     "text": [
      "\r",
      "Training with LBFGS:  19%|█▉        | 192/1000 [1:55:37<7:54:26, 35.23s/it]"
     ]
    },
    {
     "name": "stdout",
     "output_type": "stream",
     "text": [
      "6.3275023\n",
      "0.2562812444509369\n"
     ]
    },
    {
     "name": "stderr",
     "output_type": "stream",
     "text": [
      "\r",
      "Training with LBFGS:  19%|█▉        | 193/1000 [1:56:12<7:54:05, 35.25s/it]"
     ]
    },
    {
     "name": "stdout",
     "output_type": "stream",
     "text": [
      "6.2934527\n",
      "0.2562812444509369\n"
     ]
    },
    {
     "name": "stderr",
     "output_type": "stream",
     "text": [
      "\r",
      "Training with LBFGS:  19%|█▉        | 194/1000 [1:56:47<7:53:47, 35.27s/it]"
     ]
    },
    {
     "name": "stdout",
     "output_type": "stream",
     "text": [
      "6.4567285\n",
      "0.2562812444509369\n"
     ]
    },
    {
     "name": "stderr",
     "output_type": "stream",
     "text": [
      "\r",
      "Training with LBFGS:  20%|█▉        | 195/1000 [1:57:22<7:53:18, 35.28s/it]"
     ]
    },
    {
     "name": "stdout",
     "output_type": "stream",
     "text": [
      "6.4424715\n",
      "0.2562812444509369\n"
     ]
    },
    {
     "name": "stderr",
     "output_type": "stream",
     "text": [
      "\r",
      "Training with LBFGS:  20%|█▉        | 196/1000 [1:57:58<7:52:50, 35.29s/it]"
     ]
    },
    {
     "name": "stdout",
     "output_type": "stream",
     "text": [
      "6.26581\n",
      "0.2562812444509369\n"
     ]
    },
    {
     "name": "stderr",
     "output_type": "stream",
     "text": [
      "\r",
      "Training with LBFGS:  20%|█▉        | 197/1000 [1:58:33<7:52:26, 35.30s/it]"
     ]
    },
    {
     "name": "stdout",
     "output_type": "stream",
     "text": [
      "6.414078\n",
      "0.2562812444509369\n"
     ]
    },
    {
     "name": "stderr",
     "output_type": "stream",
     "text": [
      "\r",
      "Training with LBFGS:  20%|█▉        | 198/1000 [1:59:08<7:51:56, 35.31s/it]"
     ]
    },
    {
     "name": "stdout",
     "output_type": "stream",
     "text": [
      "6.424833\n",
      "0.2562812444509369\n"
     ]
    },
    {
     "name": "stderr",
     "output_type": "stream",
     "text": [
      "\r",
      "Training with LBFGS:  20%|█▉        | 199/1000 [1:59:44<7:51:22, 35.31s/it]"
     ]
    },
    {
     "name": "stdout",
     "output_type": "stream",
     "text": [
      "6.2352195\n",
      "0.2562812444509369\n"
     ]
    },
    {
     "name": "stderr",
     "output_type": "stream",
     "text": [
      "\r",
      "Training with LBFGS:  20%|██        | 200/1000 [2:00:19<7:50:49, 35.31s/it]"
     ]
    },
    {
     "name": "stdout",
     "output_type": "stream",
     "text": [
      "6.1661553\n",
      "0.2562812444509369\n"
     ]
    },
    {
     "name": "stderr",
     "output_type": "stream",
     "text": [
      "\r",
      "Training with LBFGS:  20%|██        | 201/1000 [2:00:54<7:50:10, 35.31s/it]"
     ]
    },
    {
     "name": "stdout",
     "output_type": "stream",
     "text": [
      "6.248486\n",
      "0.2562812444509369\n"
     ]
    },
    {
     "name": "stderr",
     "output_type": "stream",
     "text": [
      "\r",
      "Training with LBFGS:  20%|██        | 202/1000 [2:01:30<7:49:14, 35.28s/it]"
     ]
    },
    {
     "name": "stdout",
     "output_type": "stream",
     "text": [
      "6.373273\n",
      "0.2562812444509369\n"
     ]
    },
    {
     "name": "stderr",
     "output_type": "stream",
     "text": [
      "\r",
      "Training with LBFGS:  20%|██        | 203/1000 [2:02:05<7:48:27, 35.27s/it]"
     ]
    },
    {
     "name": "stdout",
     "output_type": "stream",
     "text": [
      "6.229282\n",
      "0.2562812444509369\n"
     ]
    },
    {
     "name": "stderr",
     "output_type": "stream",
     "text": [
      "\r",
      "Training with LBFGS:  20%|██        | 204/1000 [2:02:40<7:47:40, 35.25s/it]"
     ]
    },
    {
     "name": "stdout",
     "output_type": "stream",
     "text": [
      "6.2050343\n",
      "0.2562812444509369\n"
     ]
    },
    {
     "name": "stderr",
     "output_type": "stream",
     "text": [
      "\r",
      "Training with LBFGS:  20%|██        | 205/1000 [2:03:15<7:46:55, 35.24s/it]"
     ]
    },
    {
     "name": "stdout",
     "output_type": "stream",
     "text": [
      "6.3995895\n",
      "0.2562812444509369\n"
     ]
    },
    {
     "name": "stderr",
     "output_type": "stream",
     "text": [
      "\r",
      "Training with LBFGS:  21%|██        | 206/1000 [2:03:50<7:46:09, 35.23s/it]"
     ]
    },
    {
     "name": "stdout",
     "output_type": "stream",
     "text": [
      "6.2277894\n",
      "0.2562812444509369\n"
     ]
    },
    {
     "name": "stderr",
     "output_type": "stream",
     "text": [
      "\r",
      "Training with LBFGS:  21%|██        | 207/1000 [2:04:26<7:45:34, 35.23s/it]"
     ]
    },
    {
     "name": "stdout",
     "output_type": "stream",
     "text": [
      "6.2176175\n",
      "0.2562812444509369\n"
     ]
    },
    {
     "name": "stderr",
     "output_type": "stream",
     "text": [
      "\r",
      "Training with LBFGS:  21%|██        | 208/1000 [2:05:01<7:44:49, 35.21s/it]"
     ]
    },
    {
     "name": "stdout",
     "output_type": "stream",
     "text": [
      "6.2164254\n",
      "0.2562812444509369\n"
     ]
    },
    {
     "name": "stderr",
     "output_type": "stream",
     "text": [
      "\r",
      "Training with LBFGS:  21%|██        | 209/1000 [2:05:36<7:44:23, 35.23s/it]"
     ]
    },
    {
     "name": "stdout",
     "output_type": "stream",
     "text": [
      "6.3906026\n",
      "0.2562812444509369\n"
     ]
    },
    {
     "name": "stderr",
     "output_type": "stream",
     "text": [
      "\r",
      "Training with LBFGS:  21%|██        | 210/1000 [2:06:11<7:44:11, 35.25s/it]"
     ]
    },
    {
     "name": "stdout",
     "output_type": "stream",
     "text": [
      "6.363573\n",
      "0.2562812444509369\n"
     ]
    },
    {
     "name": "stderr",
     "output_type": "stream",
     "text": [
      "\r",
      "Training with LBFGS:  21%|██        | 211/1000 [2:06:47<7:43:56, 35.28s/it]"
     ]
    },
    {
     "name": "stdout",
     "output_type": "stream",
     "text": [
      "6.2959914\n",
      "0.2562812444509369\n"
     ]
    },
    {
     "name": "stderr",
     "output_type": "stream",
     "text": [
      "\r",
      "Training with LBFGS:  21%|██        | 212/1000 [2:07:22<7:43:28, 35.29s/it]"
     ]
    },
    {
     "name": "stdout",
     "output_type": "stream",
     "text": [
      "6.2375045\n",
      "0.2562812444509369\n"
     ]
    },
    {
     "name": "stderr",
     "output_type": "stream",
     "text": [
      "\r",
      "Training with LBFGS:  21%|██▏       | 213/1000 [2:07:57<7:42:30, 35.26s/it]"
     ]
    },
    {
     "name": "stdout",
     "output_type": "stream",
     "text": [
      "6.2691054\n",
      "0.2562812444509369\n"
     ]
    },
    {
     "name": "stderr",
     "output_type": "stream",
     "text": [
      "\r",
      "Training with LBFGS:  21%|██▏       | 214/1000 [2:08:33<7:42:20, 35.29s/it]"
     ]
    },
    {
     "name": "stdout",
     "output_type": "stream",
     "text": [
      "6.343461\n",
      "0.2562812444509369\n"
     ]
    },
    {
     "name": "stderr",
     "output_type": "stream",
     "text": [
      "\r",
      "Training with LBFGS:  22%|██▏       | 215/1000 [2:09:08<7:41:56, 35.31s/it]"
     ]
    },
    {
     "name": "stdout",
     "output_type": "stream",
     "text": [
      "6.166432\n",
      "0.2562812444509369\n"
     ]
    },
    {
     "name": "stderr",
     "output_type": "stream",
     "text": [
      "\r",
      "Training with LBFGS:  22%|██▏       | 216/1000 [2:09:43<7:41:10, 35.29s/it]"
     ]
    },
    {
     "name": "stdout",
     "output_type": "stream",
     "text": [
      "6.2635217\n",
      "0.2562812444509369\n"
     ]
    },
    {
     "name": "stderr",
     "output_type": "stream",
     "text": [
      "\r",
      "Training with LBFGS:  22%|██▏       | 217/1000 [2:10:19<7:40:40, 35.30s/it]"
     ]
    },
    {
     "name": "stdout",
     "output_type": "stream",
     "text": [
      "6.4085135\n",
      "0.2562812444509369\n"
     ]
    },
    {
     "name": "stderr",
     "output_type": "stream",
     "text": [
      "\r",
      "Training with LBFGS:  22%|██▏       | 218/1000 [2:10:54<7:40:11, 35.31s/it]"
     ]
    },
    {
     "name": "stdout",
     "output_type": "stream",
     "text": [
      "6.3007693\n",
      "0.2562812444509369\n"
     ]
    },
    {
     "name": "stderr",
     "output_type": "stream",
     "text": [
      "\r",
      "Training with LBFGS:  22%|██▏       | 219/1000 [2:11:29<7:39:21, 35.29s/it]"
     ]
    },
    {
     "name": "stdout",
     "output_type": "stream",
     "text": [
      "6.3640585\n",
      "0.2562812444509369\n"
     ]
    },
    {
     "name": "stderr",
     "output_type": "stream",
     "text": [
      "\r",
      "Training with LBFGS:  22%|██▏       | 220/1000 [2:12:04<7:38:32, 35.27s/it]"
     ]
    },
    {
     "name": "stdout",
     "output_type": "stream",
     "text": [
      "6.2572713\n",
      "0.2562812444509369\n"
     ]
    },
    {
     "name": "stderr",
     "output_type": "stream",
     "text": [
      "\r",
      "Training with LBFGS:  22%|██▏       | 221/1000 [2:12:40<7:37:52, 35.27s/it]"
     ]
    },
    {
     "name": "stdout",
     "output_type": "stream",
     "text": [
      "6.3133416\n",
      "0.2562812444509369\n"
     ]
    },
    {
     "name": "stderr",
     "output_type": "stream",
     "text": [
      "\r",
      "Training with LBFGS:  22%|██▏       | 222/1000 [2:13:15<7:37:08, 35.26s/it]"
     ]
    },
    {
     "name": "stdout",
     "output_type": "stream",
     "text": [
      "6.296121\n",
      "0.2562812444509369\n"
     ]
    },
    {
     "name": "stderr",
     "output_type": "stream",
     "text": [
      "\r",
      "Training with LBFGS:  22%|██▏       | 223/1000 [2:13:50<7:36:19, 35.24s/it]"
     ]
    },
    {
     "name": "stdout",
     "output_type": "stream",
     "text": [
      "6.197513\n",
      "0.2562812444509369\n"
     ]
    },
    {
     "name": "stderr",
     "output_type": "stream",
     "text": [
      "\r",
      "Training with LBFGS:  22%|██▏       | 224/1000 [2:14:25<7:35:42, 35.24s/it]"
     ]
    },
    {
     "name": "stdout",
     "output_type": "stream",
     "text": [
      "6.3283734\n",
      "0.2562812444509369\n"
     ]
    },
    {
     "name": "stderr",
     "output_type": "stream",
     "text": [
      "\r",
      "Training with LBFGS:  22%|██▎       | 225/1000 [2:15:01<7:35:10, 35.24s/it]"
     ]
    },
    {
     "name": "stdout",
     "output_type": "stream",
     "text": [
      "6.4237366\n",
      "0.2562812444509369\n"
     ]
    },
    {
     "name": "stderr",
     "output_type": "stream",
     "text": [
      "\r",
      "Training with LBFGS:  23%|██▎       | 226/1000 [2:15:36<7:34:43, 35.25s/it]"
     ]
    },
    {
     "name": "stdout",
     "output_type": "stream",
     "text": [
      "6.317242\n",
      "0.2562812444509369\n"
     ]
    },
    {
     "name": "stderr",
     "output_type": "stream",
     "text": [
      "\r",
      "Training with LBFGS:  23%|██▎       | 227/1000 [2:16:11<7:34:17, 35.26s/it]"
     ]
    },
    {
     "name": "stdout",
     "output_type": "stream",
     "text": [
      "6.3125463\n",
      "0.2562812444509369\n"
     ]
    },
    {
     "name": "stderr",
     "output_type": "stream",
     "text": [
      "\r",
      "Training with LBFGS:  23%|██▎       | 228/1000 [2:16:46<7:33:54, 35.28s/it]"
     ]
    },
    {
     "name": "stdout",
     "output_type": "stream",
     "text": [
      "6.353379\n",
      "0.2562812444509369\n"
     ]
    },
    {
     "name": "stderr",
     "output_type": "stream",
     "text": [
      "\r",
      "Training with LBFGS:  23%|██▎       | 229/1000 [2:17:22<7:33:23, 35.28s/it]"
     ]
    },
    {
     "name": "stdout",
     "output_type": "stream",
     "text": [
      "6.3851542\n",
      "0.2562812444509369\n"
     ]
    },
    {
     "name": "stderr",
     "output_type": "stream",
     "text": [
      "\r",
      "Training with LBFGS:  23%|██▎       | 230/1000 [2:17:57<7:32:51, 35.29s/it]"
     ]
    },
    {
     "name": "stdout",
     "output_type": "stream",
     "text": [
      "6.3307166\n",
      "0.2562812444509369\n"
     ]
    },
    {
     "name": "stderr",
     "output_type": "stream",
     "text": [
      "\r",
      "Training with LBFGS:  23%|██▎       | 231/1000 [2:18:32<7:32:27, 35.30s/it]"
     ]
    },
    {
     "name": "stdout",
     "output_type": "stream",
     "text": [
      "6.326922\n",
      "0.2562812444509369\n"
     ]
    },
    {
     "name": "stderr",
     "output_type": "stream",
     "text": [
      "\r",
      "Training with LBFGS:  23%|██▎       | 232/1000 [2:19:08<7:31:57, 35.31s/it]"
     ]
    },
    {
     "name": "stdout",
     "output_type": "stream",
     "text": [
      "6.2904267\n",
      "0.2562812444509369\n"
     ]
    },
    {
     "name": "stderr",
     "output_type": "stream",
     "text": [
      "\r",
      "Training with LBFGS:  23%|██▎       | 233/1000 [2:19:43<7:31:26, 35.32s/it]"
     ]
    },
    {
     "name": "stdout",
     "output_type": "stream",
     "text": [
      "6.261686\n",
      "0.2562812444509369\n"
     ]
    },
    {
     "name": "stderr",
     "output_type": "stream",
     "text": [
      "\r",
      "Training with LBFGS:  23%|██▎       | 234/1000 [2:20:18<7:30:32, 35.29s/it]"
     ]
    },
    {
     "name": "stdout",
     "output_type": "stream",
     "text": [
      "6.319903\n",
      "0.2562812444509369\n"
     ]
    },
    {
     "name": "stderr",
     "output_type": "stream",
     "text": [
      "\r",
      "Training with LBFGS:  24%|██▎       | 235/1000 [2:20:53<7:29:41, 35.27s/it]"
     ]
    },
    {
     "name": "stdout",
     "output_type": "stream",
     "text": [
      "6.3302627\n",
      "0.2562812444509369\n"
     ]
    },
    {
     "name": "stderr",
     "output_type": "stream",
     "text": [
      "\r",
      "Training with LBFGS:  24%|██▎       | 236/1000 [2:21:29<7:28:53, 35.25s/it]"
     ]
    },
    {
     "name": "stdout",
     "output_type": "stream",
     "text": [
      "6.1713033\n",
      "0.2562812444509369\n"
     ]
    },
    {
     "name": "stderr",
     "output_type": "stream",
     "text": [
      "\r",
      "Training with LBFGS:  24%|██▎       | 237/1000 [2:22:04<7:28:14, 35.25s/it]"
     ]
    },
    {
     "name": "stdout",
     "output_type": "stream",
     "text": [
      "6.2671356\n",
      "0.2562812444509369\n"
     ]
    },
    {
     "name": "stderr",
     "output_type": "stream",
     "text": [
      "\r",
      "Training with LBFGS:  24%|██▍       | 238/1000 [2:22:39<7:27:13, 35.21s/it]"
     ]
    },
    {
     "name": "stdout",
     "output_type": "stream",
     "text": [
      "6.3316307\n",
      "0.2562812444509369\n"
     ]
    },
    {
     "name": "stderr",
     "output_type": "stream",
     "text": [
      "\r",
      "Training with LBFGS:  24%|██▍       | 239/1000 [2:23:14<7:26:26, 35.20s/it]"
     ]
    },
    {
     "name": "stdout",
     "output_type": "stream",
     "text": [
      "6.246731\n",
      "0.2562812444509369\n"
     ]
    },
    {
     "name": "stderr",
     "output_type": "stream",
     "text": [
      "\r",
      "Training with LBFGS:  24%|██▍       | 240/1000 [2:23:49<7:25:54, 35.20s/it]"
     ]
    },
    {
     "name": "stdout",
     "output_type": "stream",
     "text": [
      "6.3440137\n",
      "0.2562812444509369\n"
     ]
    },
    {
     "name": "stderr",
     "output_type": "stream",
     "text": [
      "\r",
      "Training with LBFGS:  24%|██▍       | 241/1000 [2:24:25<7:25:24, 35.21s/it]"
     ]
    },
    {
     "name": "stdout",
     "output_type": "stream",
     "text": [
      "6.2334824\n",
      "0.2562812444509369\n"
     ]
    },
    {
     "name": "stderr",
     "output_type": "stream",
     "text": [
      "\r",
      "Training with LBFGS:  24%|██▍       | 242/1000 [2:25:00<7:24:50, 35.21s/it]"
     ]
    },
    {
     "name": "stdout",
     "output_type": "stream",
     "text": [
      "6.3286653\n",
      "0.2562812444509369\n"
     ]
    },
    {
     "name": "stderr",
     "output_type": "stream",
     "text": [
      "\r",
      "Training with LBFGS:  24%|██▍       | 243/1000 [2:25:35<7:24:19, 35.22s/it]"
     ]
    },
    {
     "name": "stdout",
     "output_type": "stream",
     "text": [
      "6.293926\n",
      "0.2562812444509369\n"
     ]
    },
    {
     "name": "stderr",
     "output_type": "stream",
     "text": [
      "\r",
      "Training with LBFGS:  24%|██▍       | 244/1000 [2:26:10<7:24:04, 35.24s/it]"
     ]
    },
    {
     "name": "stdout",
     "output_type": "stream",
     "text": [
      "6.2698784\n",
      "0.2562812444509369\n"
     ]
    },
    {
     "name": "stderr",
     "output_type": "stream",
     "text": [
      "\r",
      "Training with LBFGS:  24%|██▍       | 245/1000 [2:26:46<7:23:45, 35.27s/it]"
     ]
    },
    {
     "name": "stdout",
     "output_type": "stream",
     "text": [
      "6.4261627\n",
      "0.2562812444509369\n"
     ]
    },
    {
     "name": "stderr",
     "output_type": "stream",
     "text": [
      "\r",
      "Training with LBFGS:  25%|██▍       | 246/1000 [2:27:21<7:23:23, 35.28s/it]"
     ]
    },
    {
     "name": "stdout",
     "output_type": "stream",
     "text": [
      "6.272718\n",
      "0.2562812444509369\n"
     ]
    },
    {
     "name": "stderr",
     "output_type": "stream",
     "text": [
      "\r",
      "Training with LBFGS:  25%|██▍       | 247/1000 [2:27:56<7:22:54, 35.29s/it]"
     ]
    },
    {
     "name": "stdout",
     "output_type": "stream",
     "text": [
      "6.4091167\n",
      "0.2562812444509369\n"
     ]
    },
    {
     "name": "stderr",
     "output_type": "stream",
     "text": [
      "\r",
      "Training with LBFGS:  25%|██▍       | 248/1000 [2:28:32<7:22:28, 35.30s/it]"
     ]
    },
    {
     "name": "stdout",
     "output_type": "stream",
     "text": [
      "6.4017677\n",
      "0.2562812444509369\n"
     ]
    },
    {
     "name": "stderr",
     "output_type": "stream",
     "text": [
      "\r",
      "Training with LBFGS:  25%|██▍       | 249/1000 [2:29:07<7:21:57, 35.31s/it]"
     ]
    },
    {
     "name": "stdout",
     "output_type": "stream",
     "text": [
      "6.2630515\n",
      "0.2562812444509369\n"
     ]
    },
    {
     "name": "stderr",
     "output_type": "stream",
     "text": [
      "\r",
      "Training with LBFGS:  25%|██▌       | 250/1000 [2:29:42<7:21:25, 35.31s/it]"
     ]
    },
    {
     "name": "stdout",
     "output_type": "stream",
     "text": [
      "6.2607217\n",
      "0.2562812444509369\n"
     ]
    },
    {
     "name": "stderr",
     "output_type": "stream",
     "text": [
      "\r",
      "Training with LBFGS:  25%|██▌       | 251/1000 [2:30:18<7:20:46, 35.31s/it]"
     ]
    },
    {
     "name": "stdout",
     "output_type": "stream",
     "text": [
      "6.2564588\n",
      "0.2562812444509369\n"
     ]
    },
    {
     "name": "stderr",
     "output_type": "stream",
     "text": [
      "\r",
      "Training with LBFGS:  25%|██▌       | 252/1000 [2:30:53<7:19:57, 35.29s/it]"
     ]
    },
    {
     "name": "stdout",
     "output_type": "stream",
     "text": [
      "6.458247\n",
      "0.2562812444509369\n"
     ]
    },
    {
     "name": "stderr",
     "output_type": "stream",
     "text": [
      "\r",
      "Training with LBFGS:  25%|██▌       | 253/1000 [2:31:28<7:19:08, 35.27s/it]"
     ]
    },
    {
     "name": "stdout",
     "output_type": "stream",
     "text": [
      "6.3447256\n",
      "0.2562812444509369\n"
     ]
    },
    {
     "name": "stderr",
     "output_type": "stream",
     "text": [
      "\r",
      "Training with LBFGS:  25%|██▌       | 254/1000 [2:32:03<7:18:24, 35.26s/it]"
     ]
    },
    {
     "name": "stdout",
     "output_type": "stream",
     "text": [
      "6.320042\n",
      "0.2562812444509369\n"
     ]
    },
    {
     "name": "stderr",
     "output_type": "stream",
     "text": [
      "\r",
      "Training with LBFGS:  26%|██▌       | 255/1000 [2:32:39<7:17:39, 35.25s/it]"
     ]
    },
    {
     "name": "stdout",
     "output_type": "stream",
     "text": [
      "6.444162\n",
      "0.2562812444509369\n"
     ]
    },
    {
     "name": "stderr",
     "output_type": "stream",
     "text": [
      "\r",
      "Training with LBFGS:  26%|██▌       | 256/1000 [2:33:14<7:16:50, 35.23s/it]"
     ]
    },
    {
     "name": "stdout",
     "output_type": "stream",
     "text": [
      "6.355435\n",
      "0.2562812444509369\n"
     ]
    },
    {
     "name": "stderr",
     "output_type": "stream",
     "text": [
      "\r",
      "Training with LBFGS:  26%|██▌       | 257/1000 [2:33:49<7:16:12, 35.23s/it]"
     ]
    },
    {
     "name": "stdout",
     "output_type": "stream",
     "text": [
      "6.334228\n",
      "0.2562812444509369\n"
     ]
    },
    {
     "name": "stderr",
     "output_type": "stream",
     "text": [
      "\r",
      "Training with LBFGS:  26%|██▌       | 258/1000 [2:34:24<7:15:28, 35.21s/it]"
     ]
    },
    {
     "name": "stdout",
     "output_type": "stream",
     "text": [
      "6.3215876\n",
      "0.2562812444509369\n"
     ]
    },
    {
     "name": "stderr",
     "output_type": "stream",
     "text": [
      "\r",
      "Training with LBFGS:  26%|██▌       | 259/1000 [2:34:59<7:15:00, 35.22s/it]"
     ]
    },
    {
     "name": "stdout",
     "output_type": "stream",
     "text": [
      "6.297898\n",
      "0.2562812444509369\n"
     ]
    },
    {
     "name": "stderr",
     "output_type": "stream",
     "text": [
      "\r",
      "Training with LBFGS:  26%|██▌       | 260/1000 [2:35:35<7:14:42, 35.25s/it]"
     ]
    },
    {
     "name": "stdout",
     "output_type": "stream",
     "text": [
      "6.244011\n",
      "0.2562812444509369\n"
     ]
    },
    {
     "name": "stderr",
     "output_type": "stream",
     "text": [
      "\r",
      "Training with LBFGS:  26%|██▌       | 261/1000 [2:36:10<7:14:14, 35.26s/it]"
     ]
    },
    {
     "name": "stdout",
     "output_type": "stream",
     "text": [
      "6.4265256\n",
      "0.2562812444509369\n"
     ]
    },
    {
     "name": "stderr",
     "output_type": "stream",
     "text": [
      "\r",
      "Training with LBFGS:  26%|██▌       | 262/1000 [2:36:45<7:13:47, 35.27s/it]"
     ]
    },
    {
     "name": "stdout",
     "output_type": "stream",
     "text": [
      "6.2644815\n",
      "0.2562812444509369\n"
     ]
    },
    {
     "name": "stderr",
     "output_type": "stream",
     "text": [
      "\r",
      "Training with LBFGS:  26%|██▋       | 263/1000 [2:37:21<7:13:19, 35.28s/it]"
     ]
    },
    {
     "name": "stdout",
     "output_type": "stream",
     "text": [
      "6.320681\n",
      "0.2562812444509369\n"
     ]
    },
    {
     "name": "stderr",
     "output_type": "stream",
     "text": [
      "\r",
      "Training with LBFGS:  26%|██▋       | 264/1000 [2:37:56<7:12:50, 35.29s/it]"
     ]
    },
    {
     "name": "stdout",
     "output_type": "stream",
     "text": [
      "6.298699\n",
      "0.2562812444509369\n"
     ]
    },
    {
     "name": "stderr",
     "output_type": "stream",
     "text": [
      "\r",
      "Training with LBFGS:  26%|██▋       | 265/1000 [2:38:31<7:12:21, 35.29s/it]"
     ]
    },
    {
     "name": "stdout",
     "output_type": "stream",
     "text": [
      "6.281945\n",
      "0.2562812444509369\n"
     ]
    },
    {
     "name": "stderr",
     "output_type": "stream",
     "text": [
      "\r",
      "Training with LBFGS:  27%|██▋       | 266/1000 [2:39:06<7:11:49, 35.30s/it]"
     ]
    },
    {
     "name": "stdout",
     "output_type": "stream",
     "text": [
      "6.214933\n",
      "0.2562812444509369\n"
     ]
    },
    {
     "name": "stderr",
     "output_type": "stream",
     "text": [
      "\r",
      "Training with LBFGS:  27%|██▋       | 267/1000 [2:39:42<7:10:57, 35.28s/it]"
     ]
    },
    {
     "name": "stdout",
     "output_type": "stream",
     "text": [
      "6.3951936\n",
      "0.2562812444509369\n"
     ]
    },
    {
     "name": "stderr",
     "output_type": "stream",
     "text": [
      "\r",
      "Training with LBFGS:  27%|██▋       | 268/1000 [2:40:17<7:10:27, 35.28s/it]"
     ]
    },
    {
     "name": "stdout",
     "output_type": "stream",
     "text": [
      "6.341009\n",
      "0.2562812444509369\n"
     ]
    },
    {
     "name": "stderr",
     "output_type": "stream",
     "text": [
      "\r",
      "Training with LBFGS:  27%|██▋       | 269/1000 [2:40:52<7:09:37, 35.26s/it]"
     ]
    },
    {
     "name": "stdout",
     "output_type": "stream",
     "text": [
      "6.272649\n",
      "0.2562812444509369\n"
     ]
    },
    {
     "name": "stderr",
     "output_type": "stream",
     "text": [
      "\r",
      "Training with LBFGS:  27%|██▋       | 270/1000 [2:41:27<7:08:52, 35.25s/it]"
     ]
    },
    {
     "name": "stdout",
     "output_type": "stream",
     "text": [
      "6.431778\n",
      "0.2562812444509369\n"
     ]
    },
    {
     "name": "stderr",
     "output_type": "stream",
     "text": [
      "\r",
      "Training with LBFGS:  27%|██▋       | 271/1000 [2:42:03<7:08:05, 35.23s/it]"
     ]
    },
    {
     "name": "stdout",
     "output_type": "stream",
     "text": [
      "6.3837476\n",
      "0.2562812444509369\n"
     ]
    },
    {
     "name": "stderr",
     "output_type": "stream",
     "text": [
      "\r",
      "Training with LBFGS:  27%|██▋       | 272/1000 [2:42:38<7:07:14, 35.21s/it]"
     ]
    },
    {
     "name": "stdout",
     "output_type": "stream",
     "text": [
      "6.1969423\n",
      "0.2562812444509369\n"
     ]
    },
    {
     "name": "stderr",
     "output_type": "stream",
     "text": [
      "\r",
      "Training with LBFGS:  27%|██▋       | 273/1000 [2:43:13<7:06:21, 35.19s/it]"
     ]
    },
    {
     "name": "stdout",
     "output_type": "stream",
     "text": [
      "6.3650155\n",
      "0.2562812444509369\n"
     ]
    },
    {
     "name": "stderr",
     "output_type": "stream",
     "text": [
      "\r",
      "Training with LBFGS:  27%|██▋       | 274/1000 [2:43:48<7:05:34, 35.17s/it]"
     ]
    },
    {
     "name": "stdout",
     "output_type": "stream",
     "text": [
      "6.344188\n",
      "0.2562812444509369\n"
     ]
    },
    {
     "name": "stderr",
     "output_type": "stream",
     "text": [
      "\r",
      "Training with LBFGS:  28%|██▊       | 275/1000 [2:44:23<7:05:07, 35.18s/it]"
     ]
    },
    {
     "name": "stdout",
     "output_type": "stream",
     "text": [
      "6.3385873\n",
      "0.2562812444509369\n"
     ]
    },
    {
     "name": "stderr",
     "output_type": "stream",
     "text": [
      "\r",
      "Training with LBFGS:  28%|██▊       | 276/1000 [2:44:58<7:04:39, 35.19s/it]"
     ]
    },
    {
     "name": "stdout",
     "output_type": "stream",
     "text": [
      "6.29464\n",
      "0.2562812444509369\n"
     ]
    },
    {
     "name": "stderr",
     "output_type": "stream",
     "text": [
      "\r",
      "Training with LBFGS:  28%|██▊       | 277/1000 [2:45:34<7:04:28, 35.23s/it]"
     ]
    },
    {
     "name": "stdout",
     "output_type": "stream",
     "text": [
      "6.3551984\n",
      "0.2562812444509369\n"
     ]
    },
    {
     "name": "stderr",
     "output_type": "stream",
     "text": [
      "\r",
      "Training with LBFGS:  28%|██▊       | 278/1000 [2:46:09<7:04:06, 35.24s/it]"
     ]
    },
    {
     "name": "stdout",
     "output_type": "stream",
     "text": [
      "6.1815414\n",
      "0.2562812444509369\n"
     ]
    },
    {
     "name": "stderr",
     "output_type": "stream",
     "text": [
      "\r",
      "Training with LBFGS:  28%|██▊       | 279/1000 [2:46:44<7:03:46, 35.27s/it]"
     ]
    },
    {
     "name": "stdout",
     "output_type": "stream",
     "text": [
      "6.337289\n",
      "0.2562812444509369\n"
     ]
    },
    {
     "name": "stderr",
     "output_type": "stream",
     "text": [
      "\r",
      "Training with LBFGS:  28%|██▊       | 280/1000 [2:47:20<7:03:02, 35.25s/it]"
     ]
    },
    {
     "name": "stdout",
     "output_type": "stream",
     "text": [
      "6.336162\n",
      "0.2562812444509369\n"
     ]
    },
    {
     "name": "stderr",
     "output_type": "stream",
     "text": [
      "\r",
      "Training with LBFGS:  28%|██▊       | 281/1000 [2:47:55<7:02:38, 35.27s/it]"
     ]
    },
    {
     "name": "stdout",
     "output_type": "stream",
     "text": [
      "6.317481\n",
      "0.2562812444509369\n"
     ]
    },
    {
     "name": "stderr",
     "output_type": "stream",
     "text": [
      "\r",
      "Training with LBFGS:  28%|██▊       | 282/1000 [2:48:30<7:01:53, 35.26s/it]"
     ]
    },
    {
     "name": "stdout",
     "output_type": "stream",
     "text": [
      "6.3579373\n",
      "0.2562812444509369\n"
     ]
    },
    {
     "name": "stderr",
     "output_type": "stream",
     "text": [
      "\r",
      "Training with LBFGS:  28%|██▊       | 283/1000 [2:49:05<7:01:25, 35.27s/it]"
     ]
    },
    {
     "name": "stdout",
     "output_type": "stream",
     "text": [
      "6.2661014\n",
      "0.2562812444509369\n"
     ]
    },
    {
     "name": "stderr",
     "output_type": "stream",
     "text": [
      "\r",
      "Training with LBFGS:  28%|██▊       | 284/1000 [2:49:41<7:00:42, 35.25s/it]"
     ]
    },
    {
     "name": "stdout",
     "output_type": "stream",
     "text": [
      "6.37309\n",
      "0.2562812444509369\n"
     ]
    },
    {
     "name": "stderr",
     "output_type": "stream",
     "text": [
      "\r",
      "Training with LBFGS:  28%|██▊       | 285/1000 [2:50:16<7:00:23, 35.28s/it]"
     ]
    },
    {
     "name": "stdout",
     "output_type": "stream",
     "text": [
      "6.3014174\n",
      "0.2562812444509369\n"
     ]
    },
    {
     "name": "stderr",
     "output_type": "stream",
     "text": [
      "\r",
      "Training with LBFGS:  29%|██▊       | 286/1000 [2:50:51<6:59:38, 35.26s/it]"
     ]
    },
    {
     "name": "stdout",
     "output_type": "stream",
     "text": [
      "6.2927413\n",
      "0.2562812444509369\n"
     ]
    },
    {
     "name": "stderr",
     "output_type": "stream",
     "text": [
      "\r",
      "Training with LBFGS:  29%|██▊       | 287/1000 [2:51:26<6:58:48, 35.24s/it]"
     ]
    },
    {
     "name": "stdout",
     "output_type": "stream",
     "text": [
      "6.3132358\n",
      "0.2562812444509369\n"
     ]
    },
    {
     "name": "stderr",
     "output_type": "stream",
     "text": [
      "\r",
      "Training with LBFGS:  29%|██▉       | 288/1000 [2:52:02<6:58:10, 35.24s/it]"
     ]
    },
    {
     "name": "stdout",
     "output_type": "stream",
     "text": [
      "6.325444\n",
      "0.2562812444509369\n"
     ]
    },
    {
     "name": "stderr",
     "output_type": "stream",
     "text": [
      "\r",
      "Training with LBFGS:  29%|██▉       | 289/1000 [2:52:37<6:57:26, 35.23s/it]"
     ]
    },
    {
     "name": "stdout",
     "output_type": "stream",
     "text": [
      "6.3037796\n",
      "0.2562812444509369\n"
     ]
    },
    {
     "name": "stderr",
     "output_type": "stream",
     "text": [
      "\r",
      "Training with LBFGS:  29%|██▉       | 290/1000 [2:53:12<6:56:30, 35.20s/it]"
     ]
    },
    {
     "name": "stdout",
     "output_type": "stream",
     "text": [
      "6.2172217\n",
      "0.2562812444509369\n"
     ]
    },
    {
     "name": "stderr",
     "output_type": "stream",
     "text": [
      "\r",
      "Training with LBFGS:  29%|██▉       | 291/1000 [2:53:47<6:55:45, 35.18s/it]"
     ]
    },
    {
     "name": "stdout",
     "output_type": "stream",
     "text": [
      "6.369038\n",
      "0.2562812444509369\n"
     ]
    },
    {
     "name": "stderr",
     "output_type": "stream",
     "text": [
      "\r",
      "Training with LBFGS:  29%|██▉       | 292/1000 [2:54:22<6:55:15, 35.19s/it]"
     ]
    },
    {
     "name": "stdout",
     "output_type": "stream",
     "text": [
      "6.2412834\n",
      "0.2562812444509369\n"
     ]
    },
    {
     "name": "stderr",
     "output_type": "stream",
     "text": [
      "\r",
      "Training with LBFGS:  29%|██▉       | 293/1000 [2:54:58<6:54:48, 35.20s/it]"
     ]
    },
    {
     "name": "stdout",
     "output_type": "stream",
     "text": [
      "6.315197\n",
      "0.2562812444509369\n"
     ]
    },
    {
     "name": "stderr",
     "output_type": "stream",
     "text": [
      "\r",
      "Training with LBFGS:  29%|██▉       | 294/1000 [2:55:33<6:54:20, 35.21s/it]"
     ]
    },
    {
     "name": "stdout",
     "output_type": "stream",
     "text": [
      "6.329258\n",
      "0.2562812444509369\n"
     ]
    },
    {
     "name": "stderr",
     "output_type": "stream",
     "text": [
      "\r",
      "Training with LBFGS:  30%|██▉       | 295/1000 [2:56:08<6:54:04, 35.24s/it]"
     ]
    },
    {
     "name": "stdout",
     "output_type": "stream",
     "text": [
      "6.182484\n",
      "0.2562812444509369\n"
     ]
    },
    {
     "name": "stderr",
     "output_type": "stream",
     "text": [
      "\r",
      "Training with LBFGS:  30%|██▉       | 296/1000 [2:56:43<6:53:44, 35.26s/it]"
     ]
    },
    {
     "name": "stdout",
     "output_type": "stream",
     "text": [
      "6.306724\n",
      "0.2562812444509369\n"
     ]
    },
    {
     "name": "stderr",
     "output_type": "stream",
     "text": [
      "\r",
      "Training with LBFGS:  30%|██▉       | 297/1000 [2:57:19<6:53:17, 35.27s/it]"
     ]
    },
    {
     "name": "stdout",
     "output_type": "stream",
     "text": [
      "6.3543305\n",
      "0.2562812444509369\n"
     ]
    },
    {
     "name": "stderr",
     "output_type": "stream",
     "text": [
      "\r",
      "Training with LBFGS:  30%|██▉       | 298/1000 [2:57:54<6:52:50, 35.29s/it]"
     ]
    },
    {
     "name": "stdout",
     "output_type": "stream",
     "text": [
      "6.337878\n",
      "0.2562812444509369\n"
     ]
    },
    {
     "name": "stderr",
     "output_type": "stream",
     "text": [
      "\r",
      "Training with LBFGS:  30%|██▉       | 299/1000 [2:58:29<6:52:21, 35.30s/it]"
     ]
    },
    {
     "name": "stdout",
     "output_type": "stream",
     "text": [
      "6.142182\n",
      "0.2562812444509369\n"
     ]
    },
    {
     "name": "stderr",
     "output_type": "stream",
     "text": [
      "\r",
      "Training with LBFGS:  30%|███       | 300/1000 [2:59:05<6:51:58, 35.31s/it]"
     ]
    },
    {
     "name": "stdout",
     "output_type": "stream",
     "text": [
      "6.321054\n",
      "0.2562812444509369\n"
     ]
    },
    {
     "name": "stderr",
     "output_type": "stream",
     "text": [
      "\r",
      "Training with LBFGS:  30%|███       | 301/1000 [2:59:40<6:51:16, 35.30s/it]"
     ]
    },
    {
     "name": "stdout",
     "output_type": "stream",
     "text": [
      "6.4976525\n",
      "0.2562812444509369\n"
     ]
    },
    {
     "name": "stderr",
     "output_type": "stream",
     "text": [
      "\r",
      "Training with LBFGS:  30%|███       | 302/1000 [3:00:15<6:50:27, 35.28s/it]"
     ]
    },
    {
     "name": "stdout",
     "output_type": "stream",
     "text": [
      "6.301829\n",
      "0.2562812444509369\n"
     ]
    },
    {
     "name": "stderr",
     "output_type": "stream",
     "text": [
      "\r",
      "Training with LBFGS:  30%|███       | 303/1000 [3:00:50<6:49:48, 35.28s/it]"
     ]
    },
    {
     "name": "stdout",
     "output_type": "stream",
     "text": [
      "6.389423\n",
      "0.2562812444509369\n"
     ]
    },
    {
     "name": "stderr",
     "output_type": "stream",
     "text": [
      "\r",
      "Training with LBFGS:  30%|███       | 304/1000 [3:01:26<6:49:09, 35.27s/it]"
     ]
    },
    {
     "name": "stdout",
     "output_type": "stream",
     "text": [
      "6.3520617\n",
      "0.2562812444509369\n"
     ]
    },
    {
     "name": "stderr",
     "output_type": "stream",
     "text": [
      "\r",
      "Training with LBFGS:  30%|███       | 305/1000 [3:02:01<6:48:26, 35.26s/it]"
     ]
    },
    {
     "name": "stdout",
     "output_type": "stream",
     "text": [
      "6.352314\n",
      "0.2562812444509369\n"
     ]
    },
    {
     "name": "stderr",
     "output_type": "stream",
     "text": [
      "\r",
      "Training with LBFGS:  31%|███       | 306/1000 [3:02:36<6:47:42, 35.25s/it]"
     ]
    },
    {
     "name": "stdout",
     "output_type": "stream",
     "text": [
      "6.277477\n",
      "0.2562812444509369\n"
     ]
    },
    {
     "name": "stderr",
     "output_type": "stream",
     "text": [
      "\r",
      "Training with LBFGS:  31%|███       | 307/1000 [3:03:11<6:46:47, 35.22s/it]"
     ]
    },
    {
     "name": "stdout",
     "output_type": "stream",
     "text": [
      "6.3606896\n",
      "0.2562812444509369\n"
     ]
    },
    {
     "name": "stderr",
     "output_type": "stream",
     "text": [
      "\r",
      "Training with LBFGS:  31%|███       | 308/1000 [3:03:47<6:46:24, 35.24s/it]"
     ]
    },
    {
     "name": "stdout",
     "output_type": "stream",
     "text": [
      "6.364648\n",
      "0.2562812444509369\n"
     ]
    },
    {
     "name": "stderr",
     "output_type": "stream",
     "text": [
      "\r",
      "Training with LBFGS:  31%|███       | 309/1000 [3:04:22<6:45:34, 35.22s/it]"
     ]
    },
    {
     "name": "stdout",
     "output_type": "stream",
     "text": [
      "6.3751717\n",
      "0.2562812444509369\n"
     ]
    },
    {
     "name": "stderr",
     "output_type": "stream",
     "text": [
      "\r",
      "Training with LBFGS:  31%|███       | 310/1000 [3:04:57<6:45:05, 35.23s/it]"
     ]
    },
    {
     "name": "stdout",
     "output_type": "stream",
     "text": [
      "6.4447794\n",
      "0.2562812444509369\n"
     ]
    },
    {
     "name": "stderr",
     "output_type": "stream",
     "text": [
      "\r",
      "Training with LBFGS:  31%|███       | 311/1000 [3:05:32<6:44:33, 35.23s/it]"
     ]
    },
    {
     "name": "stdout",
     "output_type": "stream",
     "text": [
      "6.1468225\n",
      "0.2562812444509369\n"
     ]
    },
    {
     "name": "stderr",
     "output_type": "stream",
     "text": [
      "\r",
      "Training with LBFGS:  31%|███       | 312/1000 [3:06:08<6:44:14, 35.25s/it]"
     ]
    },
    {
     "name": "stdout",
     "output_type": "stream",
     "text": [
      "6.302042\n",
      "0.2562812444509369\n"
     ]
    },
    {
     "name": "stderr",
     "output_type": "stream",
     "text": [
      "\r",
      "Training with LBFGS:  31%|███▏      | 313/1000 [3:06:43<6:43:58, 35.28s/it]"
     ]
    },
    {
     "name": "stdout",
     "output_type": "stream",
     "text": [
      "6.3296213\n",
      "0.2562812444509369\n"
     ]
    },
    {
     "name": "stderr",
     "output_type": "stream",
     "text": [
      "\r",
      "Training with LBFGS:  31%|███▏      | 314/1000 [3:07:18<6:43:35, 35.30s/it]"
     ]
    },
    {
     "name": "stdout",
     "output_type": "stream",
     "text": [
      "6.3900375\n",
      "0.2562812444509369\n"
     ]
    },
    {
     "name": "stderr",
     "output_type": "stream",
     "text": [
      "\r",
      "Training with LBFGS:  32%|███▏      | 315/1000 [3:07:54<6:43:15, 35.32s/it]"
     ]
    },
    {
     "name": "stdout",
     "output_type": "stream",
     "text": [
      "6.4181924\n",
      "0.2562812444509369\n"
     ]
    },
    {
     "name": "stderr",
     "output_type": "stream",
     "text": [
      "\r",
      "Training with LBFGS:  32%|███▏      | 316/1000 [3:08:29<6:42:45, 35.33s/it]"
     ]
    },
    {
     "name": "stdout",
     "output_type": "stream",
     "text": [
      "6.4572015\n",
      "0.2562812444509369\n"
     ]
    },
    {
     "name": "stderr",
     "output_type": "stream",
     "text": [
      "\r",
      "Training with LBFGS:  32%|███▏      | 317/1000 [3:09:04<6:42:29, 35.36s/it]"
     ]
    },
    {
     "name": "stdout",
     "output_type": "stream",
     "text": [
      "6.1687164\n",
      "0.2562812444509369\n"
     ]
    },
    {
     "name": "stderr",
     "output_type": "stream",
     "text": [
      "\r",
      "Training with LBFGS:  32%|███▏      | 318/1000 [3:09:40<6:41:44, 35.34s/it]"
     ]
    },
    {
     "name": "stdout",
     "output_type": "stream",
     "text": [
      "6.375913\n",
      "0.2562812444509369\n"
     ]
    },
    {
     "name": "stderr",
     "output_type": "stream",
     "text": [
      "\r",
      "Training with LBFGS:  32%|███▏      | 319/1000 [3:10:15<6:40:52, 35.32s/it]"
     ]
    },
    {
     "name": "stdout",
     "output_type": "stream",
     "text": [
      "6.2968774\n",
      "0.2562812444509369\n"
     ]
    },
    {
     "name": "stderr",
     "output_type": "stream",
     "text": [
      "\r",
      "Training with LBFGS:  32%|███▏      | 320/1000 [3:10:50<6:40:16, 35.32s/it]"
     ]
    },
    {
     "name": "stdout",
     "output_type": "stream",
     "text": [
      "6.330343\n",
      "0.2562812444509369\n"
     ]
    },
    {
     "name": "stderr",
     "output_type": "stream",
     "text": [
      "\r",
      "Training with LBFGS:  32%|███▏      | 321/1000 [3:11:26<6:39:24, 35.29s/it]"
     ]
    },
    {
     "name": "stdout",
     "output_type": "stream",
     "text": [
      "6.2388453\n",
      "0.2562812444509369\n"
     ]
    },
    {
     "name": "stderr",
     "output_type": "stream",
     "text": [
      "\r",
      "Training with LBFGS:  32%|███▏      | 322/1000 [3:12:01<6:38:35, 35.27s/it]"
     ]
    },
    {
     "name": "stdout",
     "output_type": "stream",
     "text": [
      "6.2832103\n",
      "0.2562812444509369\n"
     ]
    },
    {
     "name": "stderr",
     "output_type": "stream",
     "text": [
      "\r",
      "Training with LBFGS:  32%|███▏      | 323/1000 [3:12:36<6:37:43, 35.25s/it]"
     ]
    },
    {
     "name": "stdout",
     "output_type": "stream",
     "text": [
      "6.232425\n",
      "0.2562812444509369\n"
     ]
    },
    {
     "name": "stderr",
     "output_type": "stream",
     "text": [
      "\r",
      "Training with LBFGS:  32%|███▏      | 324/1000 [3:13:11<6:36:59, 35.24s/it]"
     ]
    },
    {
     "name": "stdout",
     "output_type": "stream",
     "text": [
      "6.3777165\n",
      "0.2562812444509369\n"
     ]
    },
    {
     "name": "stderr",
     "output_type": "stream",
     "text": [
      "\r",
      "Training with LBFGS:  32%|███▎      | 325/1000 [3:13:46<6:36:04, 35.21s/it]"
     ]
    },
    {
     "name": "stdout",
     "output_type": "stream",
     "text": [
      "6.3829236\n",
      "0.2562812444509369\n"
     ]
    },
    {
     "name": "stderr",
     "output_type": "stream",
     "text": [
      "\r",
      "Training with LBFGS:  33%|███▎      | 326/1000 [3:14:21<6:35:19, 35.19s/it]"
     ]
    },
    {
     "name": "stdout",
     "output_type": "stream",
     "text": [
      "6.3312435\n",
      "0.2562812444509369\n"
     ]
    },
    {
     "name": "stderr",
     "output_type": "stream",
     "text": [
      "\r",
      "Training with LBFGS:  33%|███▎      | 327/1000 [3:14:57<6:34:51, 35.20s/it]"
     ]
    },
    {
     "name": "stdout",
     "output_type": "stream",
     "text": [
      "6.351368\n",
      "0.2562812444509369\n"
     ]
    },
    {
     "name": "stderr",
     "output_type": "stream",
     "text": [
      "\r",
      "Training with LBFGS:  33%|███▎      | 328/1000 [3:15:32<6:34:45, 35.25s/it]"
     ]
    },
    {
     "name": "stdout",
     "output_type": "stream",
     "text": [
      "6.3766656\n",
      "0.2562812444509369\n"
     ]
    },
    {
     "name": "stderr",
     "output_type": "stream",
     "text": [
      "\r",
      "Training with LBFGS:  33%|███▎      | 329/1000 [3:16:07<6:34:27, 35.27s/it]"
     ]
    },
    {
     "name": "stdout",
     "output_type": "stream",
     "text": [
      "6.279879\n",
      "0.2562812444509369\n"
     ]
    },
    {
     "name": "stderr",
     "output_type": "stream",
     "text": [
      "\r",
      "Training with LBFGS:  33%|███▎      | 330/1000 [3:16:43<6:34:01, 35.29s/it]"
     ]
    },
    {
     "name": "stdout",
     "output_type": "stream",
     "text": [
      "6.2636986\n",
      "0.2562812444509369\n"
     ]
    },
    {
     "name": "stderr",
     "output_type": "stream",
     "text": [
      "\r",
      "Training with LBFGS:  33%|███▎      | 331/1000 [3:17:18<6:33:34, 35.30s/it]"
     ]
    },
    {
     "name": "stdout",
     "output_type": "stream",
     "text": [
      "6.2586455\n",
      "0.2562812444509369\n"
     ]
    },
    {
     "name": "stderr",
     "output_type": "stream",
     "text": [
      "\r",
      "Training with LBFGS:  33%|███▎      | 332/1000 [3:17:53<6:33:11, 35.32s/it]"
     ]
    },
    {
     "name": "stdout",
     "output_type": "stream",
     "text": [
      "6.4336867\n",
      "0.2562812444509369\n"
     ]
    },
    {
     "name": "stderr",
     "output_type": "stream",
     "text": [
      "\r",
      "Training with LBFGS:  33%|███▎      | 333/1000 [3:18:29<6:32:44, 35.33s/it]"
     ]
    },
    {
     "name": "stdout",
     "output_type": "stream",
     "text": [
      "6.2418966\n",
      "0.2562812444509369\n"
     ]
    },
    {
     "name": "stderr",
     "output_type": "stream",
     "text": [
      "\r",
      "Training with LBFGS:  33%|███▎      | 334/1000 [3:19:04<6:32:09, 35.33s/it]"
     ]
    },
    {
     "name": "stdout",
     "output_type": "stream",
     "text": [
      "6.355312\n",
      "0.2562812444509369\n"
     ]
    },
    {
     "name": "stderr",
     "output_type": "stream",
     "text": [
      "\r",
      "Training with LBFGS:  34%|███▎      | 335/1000 [3:19:39<6:31:30, 35.32s/it]"
     ]
    },
    {
     "name": "stdout",
     "output_type": "stream",
     "text": [
      "6.3654866\n",
      "0.2562812444509369\n"
     ]
    },
    {
     "name": "stderr",
     "output_type": "stream",
     "text": [
      "\r",
      "Training with LBFGS:  34%|███▎      | 336/1000 [3:20:15<6:30:50, 35.32s/it]"
     ]
    },
    {
     "name": "stdout",
     "output_type": "stream",
     "text": [
      "6.4297447\n",
      "0.2562812444509369\n"
     ]
    },
    {
     "name": "stderr",
     "output_type": "stream",
     "text": [
      "\r",
      "Training with LBFGS:  34%|███▎      | 337/1000 [3:20:50<6:29:53, 35.28s/it]"
     ]
    },
    {
     "name": "stdout",
     "output_type": "stream",
     "text": [
      "6.2257805\n",
      "0.2562812444509369\n"
     ]
    },
    {
     "name": "stderr",
     "output_type": "stream",
     "text": [
      "\r",
      "Training with LBFGS:  34%|███▍      | 338/1000 [3:21:25<6:29:00, 35.26s/it]"
     ]
    },
    {
     "name": "stdout",
     "output_type": "stream",
     "text": [
      "6.3061156\n",
      "0.2562812444509369\n"
     ]
    },
    {
     "name": "stderr",
     "output_type": "stream",
     "text": [
      "\r",
      "Training with LBFGS:  34%|███▍      | 339/1000 [3:22:00<6:28:13, 35.24s/it]"
     ]
    },
    {
     "name": "stdout",
     "output_type": "stream",
     "text": [
      "6.266701\n",
      "0.2562812444509369\n"
     ]
    },
    {
     "name": "stderr",
     "output_type": "stream",
     "text": [
      "\r",
      "Training with LBFGS:  34%|███▍      | 340/1000 [3:22:35<6:27:23, 35.22s/it]"
     ]
    },
    {
     "name": "stdout",
     "output_type": "stream",
     "text": [
      "6.295019\n",
      "0.2562812444509369\n"
     ]
    },
    {
     "name": "stderr",
     "output_type": "stream",
     "text": [
      "\r",
      "Training with LBFGS:  34%|███▍      | 341/1000 [3:23:11<6:26:50, 35.22s/it]"
     ]
    },
    {
     "name": "stdout",
     "output_type": "stream",
     "text": [
      "6.313251\n",
      "0.2562812444509369\n"
     ]
    },
    {
     "name": "stderr",
     "output_type": "stream",
     "text": [
      "\r",
      "Training with LBFGS:  34%|███▍      | 342/1000 [3:23:46<6:26:08, 35.21s/it]"
     ]
    },
    {
     "name": "stdout",
     "output_type": "stream",
     "text": [
      "6.270513\n",
      "0.2562812444509369\n"
     ]
    },
    {
     "name": "stderr",
     "output_type": "stream",
     "text": [
      "\r",
      "Training with LBFGS:  34%|███▍      | 343/1000 [3:24:21<6:25:44, 35.23s/it]"
     ]
    },
    {
     "name": "stdout",
     "output_type": "stream",
     "text": [
      "6.3556848\n",
      "0.2562812444509369\n"
     ]
    },
    {
     "name": "stderr",
     "output_type": "stream",
     "text": [
      "\r",
      "Training with LBFGS:  34%|███▍      | 344/1000 [3:24:56<6:25:11, 35.23s/it]"
     ]
    },
    {
     "name": "stdout",
     "output_type": "stream",
     "text": [
      "6.363061\n",
      "0.2562812444509369\n"
     ]
    },
    {
     "name": "stderr",
     "output_type": "stream",
     "text": [
      "\r",
      "Training with LBFGS:  34%|███▍      | 345/1000 [3:25:32<6:24:42, 35.24s/it]"
     ]
    },
    {
     "name": "stdout",
     "output_type": "stream",
     "text": [
      "6.286729\n",
      "0.2562812444509369\n"
     ]
    },
    {
     "name": "stderr",
     "output_type": "stream",
     "text": [
      "\r",
      "Training with LBFGS:  35%|███▍      | 346/1000 [3:26:07<6:24:27, 35.27s/it]"
     ]
    },
    {
     "name": "stdout",
     "output_type": "stream",
     "text": [
      "6.297641\n",
      "0.2562812444509369\n"
     ]
    },
    {
     "name": "stderr",
     "output_type": "stream",
     "text": [
      "\r",
      "Training with LBFGS:  35%|███▍      | 347/1000 [3:26:42<6:24:11, 35.30s/it]"
     ]
    },
    {
     "name": "stdout",
     "output_type": "stream",
     "text": [
      "6.333082\n",
      "0.2562812444509369\n"
     ]
    },
    {
     "name": "stderr",
     "output_type": "stream",
     "text": [
      "\r",
      "Training with LBFGS:  35%|███▍      | 348/1000 [3:27:18<6:23:45, 35.31s/it]"
     ]
    },
    {
     "name": "stdout",
     "output_type": "stream",
     "text": [
      "6.218049\n",
      "0.2562812444509369\n"
     ]
    },
    {
     "name": "stderr",
     "output_type": "stream",
     "text": [
      "\r",
      "Training with LBFGS:  35%|███▍      | 349/1000 [3:27:53<6:23:16, 35.32s/it]"
     ]
    },
    {
     "name": "stdout",
     "output_type": "stream",
     "text": [
      "6.3634834\n",
      "0.2562812444509369\n"
     ]
    },
    {
     "name": "stderr",
     "output_type": "stream",
     "text": [
      "\r",
      "Training with LBFGS:  35%|███▌      | 350/1000 [3:28:28<6:22:43, 35.33s/it]"
     ]
    },
    {
     "name": "stdout",
     "output_type": "stream",
     "text": [
      "6.335737\n",
      "0.2562812444509369\n"
     ]
    },
    {
     "name": "stderr",
     "output_type": "stream",
     "text": [
      "\r",
      "Training with LBFGS:  35%|███▌      | 351/1000 [3:29:04<6:22:12, 35.34s/it]"
     ]
    },
    {
     "name": "stdout",
     "output_type": "stream",
     "text": [
      "6.4033985\n",
      "0.2562812444509369\n"
     ]
    },
    {
     "name": "stderr",
     "output_type": "stream",
     "text": [
      "\r",
      "Training with LBFGS:  35%|███▌      | 352/1000 [3:29:39<6:21:33, 35.33s/it]"
     ]
    },
    {
     "name": "stdout",
     "output_type": "stream",
     "text": [
      "6.37994\n",
      "0.2562812444509369\n"
     ]
    },
    {
     "name": "stderr",
     "output_type": "stream",
     "text": [
      "\r",
      "Training with LBFGS:  35%|███▌      | 353/1000 [3:30:14<6:20:54, 35.32s/it]"
     ]
    },
    {
     "name": "stdout",
     "output_type": "stream",
     "text": [
      "6.2881336\n",
      "0.2562812444509369\n"
     ]
    },
    {
     "name": "stderr",
     "output_type": "stream",
     "text": [
      "\r",
      "Training with LBFGS:  35%|███▌      | 354/1000 [3:30:50<6:19:57, 35.29s/it]"
     ]
    },
    {
     "name": "stdout",
     "output_type": "stream",
     "text": [
      "6.293161\n",
      "0.2562812444509369\n"
     ]
    },
    {
     "name": "stderr",
     "output_type": "stream",
     "text": [
      "\r",
      "Training with LBFGS:  36%|███▌      | 355/1000 [3:31:25<6:19:13, 35.28s/it]"
     ]
    },
    {
     "name": "stdout",
     "output_type": "stream",
     "text": [
      "6.2316422\n",
      "0.2562812444509369\n"
     ]
    },
    {
     "name": "stderr",
     "output_type": "stream",
     "text": [
      "\r",
      "Training with LBFGS:  36%|███▌      | 356/1000 [3:32:00<6:18:20, 35.25s/it]"
     ]
    },
    {
     "name": "stdout",
     "output_type": "stream",
     "text": [
      "6.343509\n",
      "0.2562812444509369\n"
     ]
    },
    {
     "name": "stderr",
     "output_type": "stream",
     "text": [
      "\r",
      "Training with LBFGS:  36%|███▌      | 357/1000 [3:32:35<6:17:31, 35.23s/it]"
     ]
    },
    {
     "name": "stdout",
     "output_type": "stream",
     "text": [
      "6.239806\n",
      "0.2562812444509369\n"
     ]
    },
    {
     "name": "stderr",
     "output_type": "stream",
     "text": [
      "\r",
      "Training with LBFGS:  36%|███▌      | 358/1000 [3:33:10<6:16:37, 35.20s/it]"
     ]
    },
    {
     "name": "stdout",
     "output_type": "stream",
     "text": [
      "6.341163\n",
      "0.2562812444509369\n"
     ]
    },
    {
     "name": "stderr",
     "output_type": "stream",
     "text": [
      "\r",
      "Training with LBFGS:  36%|███▌      | 359/1000 [3:33:45<6:15:54, 35.19s/it]"
     ]
    },
    {
     "name": "stdout",
     "output_type": "stream",
     "text": [
      "6.461361\n",
      "0.2562812444509369\n"
     ]
    },
    {
     "name": "stderr",
     "output_type": "stream",
     "text": [
      "\r",
      "Training with LBFGS:  36%|███▌      | 360/1000 [3:34:21<6:15:17, 35.18s/it]"
     ]
    },
    {
     "name": "stdout",
     "output_type": "stream",
     "text": [
      "6.3209763\n",
      "0.2562812444509369\n"
     ]
    },
    {
     "name": "stderr",
     "output_type": "stream",
     "text": [
      "\r",
      "Training with LBFGS:  36%|███▌      | 361/1000 [3:34:56<6:14:58, 35.21s/it]"
     ]
    },
    {
     "name": "stdout",
     "output_type": "stream",
     "text": [
      "6.3085027\n",
      "0.2562812444509369\n"
     ]
    },
    {
     "name": "stderr",
     "output_type": "stream",
     "text": [
      "\r",
      "Training with LBFGS:  36%|███▌      | 362/1000 [3:35:31<6:14:51, 35.25s/it]"
     ]
    },
    {
     "name": "stdout",
     "output_type": "stream",
     "text": [
      "6.367899\n",
      "0.2562812444509369\n"
     ]
    },
    {
     "name": "stderr",
     "output_type": "stream",
     "text": [
      "\r",
      "Training with LBFGS:  36%|███▋      | 363/1000 [3:36:07<6:14:31, 35.28s/it]"
     ]
    },
    {
     "name": "stdout",
     "output_type": "stream",
     "text": [
      "6.299105\n",
      "0.2562812444509369\n"
     ]
    },
    {
     "name": "stderr",
     "output_type": "stream",
     "text": [
      "\r",
      "Training with LBFGS:  36%|███▋      | 364/1000 [3:36:42<6:14:08, 35.30s/it]"
     ]
    },
    {
     "name": "stdout",
     "output_type": "stream",
     "text": [
      "6.244775\n",
      "0.2562812444509369\n"
     ]
    },
    {
     "name": "stderr",
     "output_type": "stream",
     "text": [
      "\r",
      "Training with LBFGS:  36%|███▋      | 365/1000 [3:37:17<6:13:37, 35.30s/it]"
     ]
    },
    {
     "name": "stdout",
     "output_type": "stream",
     "text": [
      "6.295093\n",
      "0.2562812444509369\n"
     ]
    },
    {
     "name": "stderr",
     "output_type": "stream",
     "text": [
      "\r",
      "Training with LBFGS:  37%|███▋      | 366/1000 [3:37:53<6:13:06, 35.31s/it]"
     ]
    },
    {
     "name": "stdout",
     "output_type": "stream",
     "text": [
      "6.295791\n",
      "0.2562812444509369\n"
     ]
    },
    {
     "name": "stderr",
     "output_type": "stream",
     "text": [
      "\r",
      "Training with LBFGS:  37%|███▋      | 367/1000 [3:38:28<6:12:34, 35.31s/it]"
     ]
    },
    {
     "name": "stdout",
     "output_type": "stream",
     "text": [
      "6.329446\n",
      "0.2562812444509369\n"
     ]
    },
    {
     "name": "stderr",
     "output_type": "stream",
     "text": [
      "\r",
      "Training with LBFGS:  37%|███▋      | 368/1000 [3:39:03<6:12:03, 35.32s/it]"
     ]
    },
    {
     "name": "stdout",
     "output_type": "stream",
     "text": [
      "6.306675\n",
      "0.2562812444509369\n"
     ]
    },
    {
     "name": "stderr",
     "output_type": "stream",
     "text": [
      "\r",
      "Training with LBFGS:  37%|███▋      | 369/1000 [3:39:39<6:11:34, 35.33s/it]"
     ]
    },
    {
     "name": "stdout",
     "output_type": "stream",
     "text": [
      "6.3246937\n",
      "0.2562812444509369\n"
     ]
    },
    {
     "name": "stderr",
     "output_type": "stream",
     "text": [
      "\r",
      "Training with LBFGS:  37%|███▋      | 370/1000 [3:40:14<6:10:43, 35.31s/it]"
     ]
    },
    {
     "name": "stdout",
     "output_type": "stream",
     "text": [
      "6.2779555\n",
      "0.2562812444509369\n"
     ]
    },
    {
     "name": "stderr",
     "output_type": "stream",
     "text": [
      "\r",
      "Training with LBFGS:  37%|███▋      | 371/1000 [3:40:49<6:09:55, 35.29s/it]"
     ]
    },
    {
     "name": "stdout",
     "output_type": "stream",
     "text": [
      "6.3279166\n",
      "0.2562812444509369\n"
     ]
    },
    {
     "name": "stderr",
     "output_type": "stream",
     "text": [
      "\r",
      "Training with LBFGS:  37%|███▋      | 372/1000 [3:41:24<6:09:08, 35.27s/it]"
     ]
    },
    {
     "name": "stdout",
     "output_type": "stream",
     "text": [
      "6.253592\n",
      "0.2562812444509369\n"
     ]
    },
    {
     "name": "stderr",
     "output_type": "stream",
     "text": [
      "\r",
      "Training with LBFGS:  37%|███▋      | 373/1000 [3:42:00<6:08:17, 35.24s/it]"
     ]
    },
    {
     "name": "stdout",
     "output_type": "stream",
     "text": [
      "6.448026\n",
      "0.2562812444509369\n"
     ]
    },
    {
     "name": "stderr",
     "output_type": "stream",
     "text": [
      "\r",
      "Training with LBFGS:  37%|███▋      | 374/1000 [3:42:35<6:07:25, 35.22s/it]"
     ]
    },
    {
     "name": "stdout",
     "output_type": "stream",
     "text": [
      "6.190968\n",
      "0.2562812444509369\n"
     ]
    },
    {
     "name": "stderr",
     "output_type": "stream",
     "text": [
      "\r",
      "Training with LBFGS:  38%|███▊      | 375/1000 [3:43:10<6:06:40, 35.20s/it]"
     ]
    },
    {
     "name": "stdout",
     "output_type": "stream",
     "text": [
      "6.25017\n",
      "0.2562812444509369\n"
     ]
    },
    {
     "name": "stderr",
     "output_type": "stream",
     "text": [
      "\r",
      "Training with LBFGS:  38%|███▊      | 376/1000 [3:43:45<6:05:57, 35.19s/it]"
     ]
    },
    {
     "name": "stdout",
     "output_type": "stream",
     "text": [
      "6.2839975\n",
      "0.2562812444509369\n"
     ]
    },
    {
     "name": "stderr",
     "output_type": "stream",
     "text": [
      "\r",
      "Training with LBFGS:  38%|███▊      | 377/1000 [3:44:20<6:05:34, 35.21s/it]"
     ]
    },
    {
     "name": "stdout",
     "output_type": "stream",
     "text": [
      "6.20515\n",
      "0.2562812444509369\n"
     ]
    },
    {
     "name": "stderr",
     "output_type": "stream",
     "text": [
      "\r",
      "Training with LBFGS:  38%|███▊      | 378/1000 [3:44:56<6:05:07, 35.22s/it]"
     ]
    },
    {
     "name": "stdout",
     "output_type": "stream",
     "text": [
      "6.401219\n",
      "0.2562812444509369\n"
     ]
    },
    {
     "name": "stderr",
     "output_type": "stream",
     "text": [
      "\r",
      "Training with LBFGS:  38%|███▊      | 379/1000 [3:45:31<6:04:40, 35.23s/it]"
     ]
    },
    {
     "name": "stdout",
     "output_type": "stream",
     "text": [
      "6.2978\n",
      "0.2562812444509369\n"
     ]
    },
    {
     "name": "stderr",
     "output_type": "stream",
     "text": [
      "\r",
      "Training with LBFGS:  38%|███▊      | 380/1000 [3:46:06<6:04:21, 35.26s/it]"
     ]
    },
    {
     "name": "stdout",
     "output_type": "stream",
     "text": [
      "6.2639604\n",
      "0.2562812444509369\n"
     ]
    },
    {
     "name": "stderr",
     "output_type": "stream",
     "text": [
      "\r",
      "Training with LBFGS:  38%|███▊      | 381/1000 [3:46:41<6:03:55, 35.28s/it]"
     ]
    },
    {
     "name": "stdout",
     "output_type": "stream",
     "text": [
      "6.377019\n",
      "0.2562812444509369\n"
     ]
    },
    {
     "name": "stderr",
     "output_type": "stream",
     "text": [
      "\r",
      "Training with LBFGS:  38%|███▊      | 382/1000 [3:47:17<6:03:28, 35.29s/it]"
     ]
    },
    {
     "name": "stdout",
     "output_type": "stream",
     "text": [
      "6.2294626\n",
      "0.2562812444509369\n"
     ]
    },
    {
     "name": "stderr",
     "output_type": "stream",
     "text": [
      "\r",
      "Training with LBFGS:  38%|███▊      | 383/1000 [3:47:52<6:03:00, 35.30s/it]"
     ]
    },
    {
     "name": "stdout",
     "output_type": "stream",
     "text": [
      "6.275365\n",
      "0.2562812444509369\n"
     ]
    },
    {
     "name": "stderr",
     "output_type": "stream",
     "text": [
      "\r",
      "Training with LBFGS:  38%|███▊      | 384/1000 [3:48:27<6:02:32, 35.31s/it]"
     ]
    },
    {
     "name": "stdout",
     "output_type": "stream",
     "text": [
      "6.3505282\n",
      "0.2562812444509369\n"
     ]
    },
    {
     "name": "stderr",
     "output_type": "stream",
     "text": [
      "\r",
      "Training with LBFGS:  38%|███▊      | 385/1000 [3:49:03<6:01:56, 35.31s/it]"
     ]
    },
    {
     "name": "stdout",
     "output_type": "stream",
     "text": [
      "6.309299\n",
      "0.2562812444509369\n"
     ]
    },
    {
     "name": "stderr",
     "output_type": "stream",
     "text": [
      "\r",
      "Training with LBFGS:  39%|███▊      | 386/1000 [3:49:38<6:01:16, 35.30s/it]"
     ]
    },
    {
     "name": "stdout",
     "output_type": "stream",
     "text": [
      "6.3555384\n",
      "0.2562812444509369\n"
     ]
    },
    {
     "name": "stderr",
     "output_type": "stream",
     "text": [
      "\r",
      "Training with LBFGS:  39%|███▊      | 387/1000 [3:50:13<6:00:46, 35.31s/it]"
     ]
    },
    {
     "name": "stdout",
     "output_type": "stream",
     "text": [
      "6.3035846\n",
      "0.2562812444509369\n"
     ]
    },
    {
     "name": "stderr",
     "output_type": "stream",
     "text": [
      "\r",
      "Training with LBFGS:  39%|███▉      | 388/1000 [3:50:49<5:59:58, 35.29s/it]"
     ]
    },
    {
     "name": "stdout",
     "output_type": "stream",
     "text": [
      "6.351834\n",
      "0.2562812444509369\n"
     ]
    },
    {
     "name": "stderr",
     "output_type": "stream",
     "text": [
      "\r",
      "Training with LBFGS:  39%|███▉      | 389/1000 [3:51:24<5:59:14, 35.28s/it]"
     ]
    },
    {
     "name": "stdout",
     "output_type": "stream",
     "text": [
      "6.3355107\n",
      "0.2562812444509369\n"
     ]
    },
    {
     "name": "stderr",
     "output_type": "stream",
     "text": [
      "\r",
      "Training with LBFGS:  39%|███▉      | 390/1000 [3:51:59<5:58:22, 35.25s/it]"
     ]
    },
    {
     "name": "stdout",
     "output_type": "stream",
     "text": [
      "6.3184466\n",
      "0.2562812444509369\n"
     ]
    },
    {
     "name": "stderr",
     "output_type": "stream",
     "text": [
      "\r",
      "Training with LBFGS:  39%|███▉      | 391/1000 [3:52:34<5:57:51, 35.26s/it]"
     ]
    },
    {
     "name": "stdout",
     "output_type": "stream",
     "text": [
      "6.300561\n",
      "0.2562812444509369\n"
     ]
    },
    {
     "name": "stderr",
     "output_type": "stream",
     "text": [
      "\r",
      "Training with LBFGS:  39%|███▉      | 392/1000 [3:53:09<5:57:08, 35.24s/it]"
     ]
    },
    {
     "name": "stdout",
     "output_type": "stream",
     "text": [
      "6.345748\n",
      "0.2562812444509369\n"
     ]
    },
    {
     "name": "stderr",
     "output_type": "stream",
     "text": [
      "\r",
      "Training with LBFGS:  39%|███▉      | 393/1000 [3:53:45<5:56:26, 35.23s/it]"
     ]
    },
    {
     "name": "stdout",
     "output_type": "stream",
     "text": [
      "6.298041\n",
      "0.2562812444509369\n"
     ]
    },
    {
     "name": "stderr",
     "output_type": "stream",
     "text": [
      "\r",
      "Training with LBFGS:  39%|███▉      | 394/1000 [3:54:20<5:55:55, 35.24s/it]"
     ]
    },
    {
     "name": "stdout",
     "output_type": "stream",
     "text": [
      "6.3256536\n",
      "0.2562812444509369\n"
     ]
    },
    {
     "name": "stderr",
     "output_type": "stream",
     "text": [
      "\r",
      "Training with LBFGS:  40%|███▉      | 395/1000 [3:54:55<5:55:23, 35.25s/it]"
     ]
    },
    {
     "name": "stdout",
     "output_type": "stream",
     "text": [
      "6.356431\n",
      "0.2562812444509369\n"
     ]
    },
    {
     "name": "stderr",
     "output_type": "stream",
     "text": [
      "\r",
      "Training with LBFGS:  40%|███▉      | 396/1000 [3:55:31<5:55:04, 35.27s/it]"
     ]
    },
    {
     "name": "stdout",
     "output_type": "stream",
     "text": [
      "6.256457\n",
      "0.2562812444509369\n"
     ]
    },
    {
     "name": "stderr",
     "output_type": "stream",
     "text": [
      "\r",
      "Training with LBFGS:  40%|███▉      | 397/1000 [3:56:06<5:55:01, 35.33s/it]"
     ]
    },
    {
     "name": "stdout",
     "output_type": "stream",
     "text": [
      "6.350849\n",
      "0.2562812444509369\n"
     ]
    },
    {
     "name": "stderr",
     "output_type": "stream",
     "text": [
      "\r",
      "Training with LBFGS:  40%|███▉      | 398/1000 [3:56:41<5:54:35, 35.34s/it]"
     ]
    },
    {
     "name": "stdout",
     "output_type": "stream",
     "text": [
      "6.2277246\n",
      "0.2562812444509369\n"
     ]
    },
    {
     "name": "stderr",
     "output_type": "stream",
     "text": [
      "\r",
      "Training with LBFGS:  40%|███▉      | 399/1000 [3:57:17<5:54:05, 35.35s/it]"
     ]
    },
    {
     "name": "stdout",
     "output_type": "stream",
     "text": [
      "6.3099923\n",
      "0.2562812444509369\n"
     ]
    },
    {
     "name": "stderr",
     "output_type": "stream",
     "text": [
      "\r",
      "Training with LBFGS:  40%|████      | 400/1000 [3:57:52<5:53:44, 35.37s/it]"
     ]
    },
    {
     "name": "stdout",
     "output_type": "stream",
     "text": [
      "6.17816\n",
      "0.2562812444509369\n"
     ]
    },
    {
     "name": "stderr",
     "output_type": "stream",
     "text": [
      "\r",
      "Training with LBFGS:  40%|████      | 401/1000 [3:58:28<5:53:13, 35.38s/it]"
     ]
    },
    {
     "name": "stdout",
     "output_type": "stream",
     "text": [
      "6.3705697\n",
      "0.2562812444509369\n"
     ]
    },
    {
     "name": "stderr",
     "output_type": "stream",
     "text": [
      "\r",
      "Training with LBFGS:  40%|████      | 402/1000 [3:59:03<5:52:27, 35.36s/it]"
     ]
    },
    {
     "name": "stdout",
     "output_type": "stream",
     "text": [
      "6.3470407\n",
      "0.2562812444509369\n"
     ]
    },
    {
     "name": "stderr",
     "output_type": "stream",
     "text": [
      "\r",
      "Training with LBFGS:  40%|████      | 403/1000 [3:59:38<5:51:44, 35.35s/it]"
     ]
    },
    {
     "name": "stdout",
     "output_type": "stream",
     "text": [
      "6.3276267\n",
      "0.2562812444509369\n"
     ]
    },
    {
     "name": "stderr",
     "output_type": "stream",
     "text": [
      "\r",
      "Training with LBFGS:  40%|████      | 404/1000 [4:00:14<5:51:00, 35.34s/it]"
     ]
    },
    {
     "name": "stdout",
     "output_type": "stream",
     "text": [
      "6.332861\n",
      "0.2562812444509369\n"
     ]
    },
    {
     "name": "stderr",
     "output_type": "stream",
     "text": [
      "\r",
      "Training with LBFGS:  40%|████      | 405/1000 [4:00:49<5:50:31, 35.35s/it]"
     ]
    },
    {
     "name": "stdout",
     "output_type": "stream",
     "text": [
      "6.296543\n",
      "0.2562812444509369\n"
     ]
    },
    {
     "name": "stderr",
     "output_type": "stream",
     "text": [
      "\r",
      "Training with LBFGS:  41%|████      | 406/1000 [4:01:24<5:49:52, 35.34s/it]"
     ]
    },
    {
     "name": "stdout",
     "output_type": "stream",
     "text": [
      "6.2939796\n",
      "0.2562812444509369\n"
     ]
    },
    {
     "name": "stderr",
     "output_type": "stream",
     "text": [
      "\r",
      "Training with LBFGS:  41%|████      | 407/1000 [4:02:00<5:49:17, 35.34s/it]"
     ]
    },
    {
     "name": "stdout",
     "output_type": "stream",
     "text": [
      "6.2976375\n",
      "0.2562812444509369\n"
     ]
    },
    {
     "name": "stderr",
     "output_type": "stream",
     "text": [
      "\r",
      "Training with LBFGS:  41%|████      | 408/1000 [4:02:35<5:48:18, 35.30s/it]"
     ]
    },
    {
     "name": "stdout",
     "output_type": "stream",
     "text": [
      "6.3973174\n",
      "0.2562812444509369\n"
     ]
    },
    {
     "name": "stderr",
     "output_type": "stream",
     "text": [
      "\r",
      "Training with LBFGS:  41%|████      | 409/1000 [4:03:10<5:47:35, 35.29s/it]"
     ]
    },
    {
     "name": "stdout",
     "output_type": "stream",
     "text": [
      "6.417943\n",
      "0.2562812444509369\n"
     ]
    },
    {
     "name": "stderr",
     "output_type": "stream",
     "text": [
      "\r",
      "Training with LBFGS:  41%|████      | 410/1000 [4:03:45<5:46:56, 35.28s/it]"
     ]
    },
    {
     "name": "stdout",
     "output_type": "stream",
     "text": [
      "6.181208\n",
      "0.2562812444509369\n"
     ]
    },
    {
     "name": "stderr",
     "output_type": "stream",
     "text": [
      "\r",
      "Training with LBFGS:  41%|████      | 411/1000 [4:04:21<5:46:14, 35.27s/it]"
     ]
    },
    {
     "name": "stdout",
     "output_type": "stream",
     "text": [
      "6.301085\n",
      "0.2562812444509369\n"
     ]
    },
    {
     "name": "stderr",
     "output_type": "stream",
     "text": [
      "\r",
      "Training with LBFGS:  41%|████      | 412/1000 [4:04:56<5:45:54, 35.30s/it]"
     ]
    },
    {
     "name": "stdout",
     "output_type": "stream",
     "text": [
      "6.171697\n",
      "0.2562812444509369\n"
     ]
    },
    {
     "name": "stderr",
     "output_type": "stream",
     "text": [
      "\r",
      "Training with LBFGS:  41%|████▏     | 413/1000 [4:05:31<5:45:21, 35.30s/it]"
     ]
    },
    {
     "name": "stdout",
     "output_type": "stream",
     "text": [
      "6.277779\n",
      "0.2562812444509369\n"
     ]
    },
    {
     "name": "stderr",
     "output_type": "stream",
     "text": [
      "\r",
      "Training with LBFGS:  41%|████▏     | 414/1000 [4:06:07<5:45:05, 35.33s/it]"
     ]
    },
    {
     "name": "stdout",
     "output_type": "stream",
     "text": [
      "6.1946034\n",
      "0.2562812444509369\n"
     ]
    },
    {
     "name": "stderr",
     "output_type": "stream",
     "text": [
      "\r",
      "Training with LBFGS:  42%|████▏     | 415/1000 [4:06:42<5:44:49, 35.37s/it]"
     ]
    },
    {
     "name": "stdout",
     "output_type": "stream",
     "text": [
      "6.205196\n",
      "0.2562812444509369\n"
     ]
    },
    {
     "name": "stderr",
     "output_type": "stream",
     "text": [
      "\r",
      "Training with LBFGS:  42%|████▏     | 416/1000 [4:07:17<5:44:24, 35.38s/it]"
     ]
    },
    {
     "name": "stdout",
     "output_type": "stream",
     "text": [
      "6.306737\n",
      "0.2562812444509369\n"
     ]
    },
    {
     "name": "stderr",
     "output_type": "stream",
     "text": [
      "\r",
      "Training with LBFGS:  42%|████▏     | 417/1000 [4:07:53<5:43:51, 35.39s/it]"
     ]
    },
    {
     "name": "stdout",
     "output_type": "stream",
     "text": [
      "6.346342\n",
      "0.2562812444509369\n"
     ]
    },
    {
     "name": "stderr",
     "output_type": "stream",
     "text": [
      "\r",
      "Training with LBFGS:  42%|████▏     | 418/1000 [4:08:28<5:43:25, 35.41s/it]"
     ]
    },
    {
     "name": "stdout",
     "output_type": "stream",
     "text": [
      "6.2264733\n",
      "0.2562812444509369\n"
     ]
    },
    {
     "name": "stderr",
     "output_type": "stream",
     "text": [
      "\r",
      "Training with LBFGS:  42%|████▏     | 419/1000 [4:09:04<5:42:58, 35.42s/it]"
     ]
    },
    {
     "name": "stdout",
     "output_type": "stream",
     "text": [
      "6.443321\n",
      "0.2562812444509369\n"
     ]
    },
    {
     "name": "stderr",
     "output_type": "stream",
     "text": [
      "\r",
      "Training with LBFGS:  42%|████▏     | 420/1000 [4:09:39<5:42:08, 35.39s/it]"
     ]
    },
    {
     "name": "stdout",
     "output_type": "stream",
     "text": [
      "6.3006983\n",
      "0.2562812444509369\n"
     ]
    },
    {
     "name": "stderr",
     "output_type": "stream",
     "text": [
      "\r",
      "Training with LBFGS:  42%|████▏     | 421/1000 [4:10:14<5:41:18, 35.37s/it]"
     ]
    },
    {
     "name": "stdout",
     "output_type": "stream",
     "text": [
      "6.2713227\n",
      "0.2562812444509369\n"
     ]
    },
    {
     "name": "stderr",
     "output_type": "stream",
     "text": [
      "\r",
      "Training with LBFGS:  42%|████▏     | 422/1000 [4:10:50<5:40:35, 35.36s/it]"
     ]
    },
    {
     "name": "stdout",
     "output_type": "stream",
     "text": [
      "6.215015\n",
      "0.2562812444509369\n"
     ]
    },
    {
     "name": "stderr",
     "output_type": "stream",
     "text": [
      "\r",
      "Training with LBFGS:  42%|████▏     | 423/1000 [4:11:25<5:39:59, 35.35s/it]"
     ]
    },
    {
     "name": "stdout",
     "output_type": "stream",
     "text": [
      "6.339481\n",
      "0.2562812444509369\n"
     ]
    },
    {
     "name": "stderr",
     "output_type": "stream",
     "text": [
      "\r",
      "Training with LBFGS:  42%|████▏     | 424/1000 [4:12:00<5:39:12, 35.34s/it]"
     ]
    },
    {
     "name": "stdout",
     "output_type": "stream",
     "text": [
      "6.206669\n",
      "0.2562812444509369\n"
     ]
    },
    {
     "name": "stderr",
     "output_type": "stream",
     "text": [
      "\r",
      "Training with LBFGS:  42%|████▎     | 425/1000 [4:12:36<5:38:10, 35.29s/it]"
     ]
    },
    {
     "name": "stdout",
     "output_type": "stream",
     "text": [
      "6.1783404\n",
      "0.2562812444509369\n"
     ]
    },
    {
     "name": "stderr",
     "output_type": "stream",
     "text": [
      "\r",
      "Training with LBFGS:  43%|████▎     | 426/1000 [4:13:11<5:37:19, 35.26s/it]"
     ]
    },
    {
     "name": "stdout",
     "output_type": "stream",
     "text": [
      "6.3365717\n",
      "0.2562812444509369\n"
     ]
    },
    {
     "name": "stderr",
     "output_type": "stream",
     "text": [
      "\r",
      "Training with LBFGS:  43%|████▎     | 427/1000 [4:13:46<5:36:41, 35.26s/it]"
     ]
    },
    {
     "name": "stdout",
     "output_type": "stream",
     "text": [
      "6.3459525\n",
      "0.2562812444509369\n"
     ]
    },
    {
     "name": "stderr",
     "output_type": "stream",
     "text": [
      "\r",
      "Training with LBFGS:  43%|████▎     | 428/1000 [4:14:21<5:36:07, 35.26s/it]"
     ]
    },
    {
     "name": "stdout",
     "output_type": "stream",
     "text": [
      "6.283179\n",
      "0.2562812444509369\n"
     ]
    },
    {
     "name": "stderr",
     "output_type": "stream",
     "text": [
      "\r",
      "Training with LBFGS:  43%|████▎     | 429/1000 [4:14:57<5:35:27, 35.25s/it]"
     ]
    },
    {
     "name": "stdout",
     "output_type": "stream",
     "text": [
      "6.280451\n",
      "0.2562812444509369\n"
     ]
    },
    {
     "name": "stderr",
     "output_type": "stream",
     "text": [
      "\r",
      "Training with LBFGS:  43%|████▎     | 430/1000 [4:15:32<5:34:58, 35.26s/it]"
     ]
    },
    {
     "name": "stdout",
     "output_type": "stream",
     "text": [
      "6.390441\n",
      "0.2562812444509369\n"
     ]
    },
    {
     "name": "stderr",
     "output_type": "stream",
     "text": [
      "\r",
      "Training with LBFGS:  43%|████▎     | 431/1000 [4:16:07<5:34:45, 35.30s/it]"
     ]
    },
    {
     "name": "stdout",
     "output_type": "stream",
     "text": [
      "6.2803946\n",
      "0.2562812444509369\n"
     ]
    },
    {
     "name": "stderr",
     "output_type": "stream",
     "text": [
      "\r",
      "Training with LBFGS:  43%|████▎     | 432/1000 [4:16:43<5:34:18, 35.31s/it]"
     ]
    },
    {
     "name": "stdout",
     "output_type": "stream",
     "text": [
      "6.3329563\n",
      "0.2562812444509369\n"
     ]
    },
    {
     "name": "stderr",
     "output_type": "stream",
     "text": [
      "\r",
      "Training with LBFGS:  43%|████▎     | 433/1000 [4:17:18<5:33:49, 35.33s/it]"
     ]
    },
    {
     "name": "stdout",
     "output_type": "stream",
     "text": [
      "6.3782268\n",
      "0.2562812444509369\n"
     ]
    },
    {
     "name": "stderr",
     "output_type": "stream",
     "text": [
      "\r",
      "Training with LBFGS:  43%|████▎     | 434/1000 [4:17:53<5:33:16, 35.33s/it]"
     ]
    },
    {
     "name": "stdout",
     "output_type": "stream",
     "text": [
      "6.293233\n",
      "0.2562812444509369\n"
     ]
    },
    {
     "name": "stderr",
     "output_type": "stream",
     "text": [
      "\r",
      "Training with LBFGS:  44%|████▎     | 435/1000 [4:18:29<5:32:47, 35.34s/it]"
     ]
    },
    {
     "name": "stdout",
     "output_type": "stream",
     "text": [
      "6.2170053\n",
      "0.2562812444509369\n"
     ]
    },
    {
     "name": "stderr",
     "output_type": "stream",
     "text": [
      "\r",
      "Training with LBFGS:  44%|████▎     | 436/1000 [4:19:04<5:32:17, 35.35s/it]"
     ]
    },
    {
     "name": "stdout",
     "output_type": "stream",
     "text": [
      "6.1759377\n",
      "0.2562812444509369\n"
     ]
    },
    {
     "name": "stderr",
     "output_type": "stream",
     "text": [
      "\r",
      "Training with LBFGS:  44%|████▎     | 437/1000 [4:19:39<5:31:32, 35.33s/it]"
     ]
    },
    {
     "name": "stdout",
     "output_type": "stream",
     "text": [
      "6.449504\n",
      "0.2562812444509369\n"
     ]
    },
    {
     "name": "stderr",
     "output_type": "stream",
     "text": [
      "\r",
      "Training with LBFGS:  44%|████▍     | 438/1000 [4:20:15<5:31:00, 35.34s/it]"
     ]
    },
    {
     "name": "stdout",
     "output_type": "stream",
     "text": [
      "6.3286467\n",
      "0.2562812444509369\n"
     ]
    },
    {
     "name": "stderr",
     "output_type": "stream",
     "text": [
      "\r",
      "Training with LBFGS:  44%|████▍     | 439/1000 [4:20:50<5:30:28, 35.34s/it]"
     ]
    },
    {
     "name": "stdout",
     "output_type": "stream",
     "text": [
      "6.309022\n",
      "0.2562812444509369\n"
     ]
    },
    {
     "name": "stderr",
     "output_type": "stream",
     "text": [
      "\r",
      "Training with LBFGS:  44%|████▍     | 440/1000 [4:21:25<5:29:42, 35.33s/it]"
     ]
    },
    {
     "name": "stdout",
     "output_type": "stream",
     "text": [
      "6.2640796\n",
      "0.2562812444509369\n"
     ]
    },
    {
     "name": "stderr",
     "output_type": "stream",
     "text": [
      "\r",
      "Training with LBFGS:  44%|████▍     | 441/1000 [4:22:00<5:28:39, 35.28s/it]"
     ]
    },
    {
     "name": "stdout",
     "output_type": "stream",
     "text": [
      "6.347176\n",
      "0.2562812444509369\n"
     ]
    },
    {
     "name": "stderr",
     "output_type": "stream",
     "text": [
      "\r",
      "Training with LBFGS:  44%|████▍     | 442/1000 [4:22:36<5:27:38, 35.23s/it]"
     ]
    },
    {
     "name": "stdout",
     "output_type": "stream",
     "text": [
      "6.308247\n",
      "0.2562812444509369\n"
     ]
    },
    {
     "name": "stderr",
     "output_type": "stream",
     "text": [
      "\r",
      "Training with LBFGS:  44%|████▍     | 443/1000 [4:23:11<5:27:01, 35.23s/it]"
     ]
    },
    {
     "name": "stdout",
     "output_type": "stream",
     "text": [
      "6.342384\n",
      "0.2562812444509369\n"
     ]
    },
    {
     "name": "stderr",
     "output_type": "stream",
     "text": [
      "\r",
      "Training with LBFGS:  44%|████▍     | 444/1000 [4:23:46<5:26:15, 35.21s/it]"
     ]
    },
    {
     "name": "stdout",
     "output_type": "stream",
     "text": [
      "6.313029\n",
      "0.2562812444509369\n"
     ]
    },
    {
     "name": "stderr",
     "output_type": "stream",
     "text": [
      "\r",
      "Training with LBFGS:  44%|████▍     | 445/1000 [4:24:21<5:25:45, 35.22s/it]"
     ]
    },
    {
     "name": "stdout",
     "output_type": "stream",
     "text": [
      "6.484564\n",
      "0.2562812444509369\n"
     ]
    },
    {
     "name": "stderr",
     "output_type": "stream",
     "text": [
      "\r",
      "Training with LBFGS:  45%|████▍     | 446/1000 [4:24:56<5:25:16, 35.23s/it]"
     ]
    },
    {
     "name": "stdout",
     "output_type": "stream",
     "text": [
      "6.308184\n",
      "0.2562812444509369\n"
     ]
    },
    {
     "name": "stderr",
     "output_type": "stream",
     "text": [
      "\r",
      "Training with LBFGS:  45%|████▍     | 447/1000 [4:25:32<5:24:44, 35.23s/it]"
     ]
    },
    {
     "name": "stdout",
     "output_type": "stream",
     "text": [
      "6.286594\n",
      "0.2562812444509369\n"
     ]
    },
    {
     "name": "stderr",
     "output_type": "stream",
     "text": [
      "\r",
      "Training with LBFGS:  45%|████▍     | 448/1000 [4:26:07<5:24:14, 35.24s/it]"
     ]
    },
    {
     "name": "stdout",
     "output_type": "stream",
     "text": [
      "6.296513\n",
      "0.2562812444509369\n"
     ]
    },
    {
     "name": "stderr",
     "output_type": "stream",
     "text": [
      "\r",
      "Training with LBFGS:  45%|████▍     | 449/1000 [4:26:42<5:23:41, 35.25s/it]"
     ]
    },
    {
     "name": "stdout",
     "output_type": "stream",
     "text": [
      "6.2589593\n",
      "0.2562812444509369\n"
     ]
    },
    {
     "name": "stderr",
     "output_type": "stream",
     "text": [
      "\r",
      "Training with LBFGS:  45%|████▌     | 450/1000 [4:27:17<5:23:07, 35.25s/it]"
     ]
    },
    {
     "name": "stdout",
     "output_type": "stream",
     "text": [
      "6.2369213\n",
      "0.2562812444509369\n"
     ]
    },
    {
     "name": "stderr",
     "output_type": "stream",
     "text": [
      "\r",
      "Training with LBFGS:  45%|████▌     | 451/1000 [4:27:53<5:22:35, 35.26s/it]"
     ]
    },
    {
     "name": "stdout",
     "output_type": "stream",
     "text": [
      "6.2810187\n",
      "0.2562812444509369\n"
     ]
    },
    {
     "name": "stderr",
     "output_type": "stream",
     "text": [
      "\r",
      "Training with LBFGS:  45%|████▌     | 452/1000 [4:28:28<5:22:02, 35.26s/it]"
     ]
    },
    {
     "name": "stdout",
     "output_type": "stream",
     "text": [
      "6.2537675\n",
      "0.2562812444509369\n"
     ]
    },
    {
     "name": "stderr",
     "output_type": "stream",
     "text": [
      "\r",
      "Training with LBFGS:  45%|████▌     | 453/1000 [4:29:03<5:21:28, 35.26s/it]"
     ]
    },
    {
     "name": "stdout",
     "output_type": "stream",
     "text": [
      "6.3563128\n",
      "0.2562812444509369\n"
     ]
    },
    {
     "name": "stderr",
     "output_type": "stream",
     "text": [
      "\r",
      "Training with LBFGS:  45%|████▌     | 454/1000 [4:29:38<5:20:53, 35.26s/it]"
     ]
    },
    {
     "name": "stdout",
     "output_type": "stream",
     "text": [
      "6.362187\n",
      "0.2562812444509369\n"
     ]
    },
    {
     "name": "stderr",
     "output_type": "stream",
     "text": [
      "\r",
      "Training with LBFGS:  46%|████▌     | 455/1000 [4:30:14<5:20:04, 35.24s/it]"
     ]
    },
    {
     "name": "stdout",
     "output_type": "stream",
     "text": [
      "6.29536\n",
      "0.2562812444509369\n"
     ]
    },
    {
     "name": "stderr",
     "output_type": "stream",
     "text": [
      "\r",
      "Training with LBFGS:  46%|████▌     | 456/1000 [4:30:49<5:19:20, 35.22s/it]"
     ]
    },
    {
     "name": "stdout",
     "output_type": "stream",
     "text": [
      "6.3670588\n",
      "0.2562812444509369\n"
     ]
    },
    {
     "name": "stderr",
     "output_type": "stream",
     "text": [
      "\r",
      "Training with LBFGS:  46%|████▌     | 457/1000 [4:31:24<5:18:42, 35.22s/it]"
     ]
    },
    {
     "name": "stdout",
     "output_type": "stream",
     "text": [
      "6.333443\n",
      "0.2562812444509369\n"
     ]
    },
    {
     "name": "stderr",
     "output_type": "stream",
     "text": [
      "\r",
      "Training with LBFGS:  46%|████▌     | 458/1000 [4:31:59<5:17:58, 35.20s/it]"
     ]
    },
    {
     "name": "stdout",
     "output_type": "stream",
     "text": [
      "6.3785896\n",
      "0.2562812444509369\n"
     ]
    },
    {
     "name": "stderr",
     "output_type": "stream",
     "text": [
      "\r",
      "Training with LBFGS:  46%|████▌     | 459/1000 [4:32:34<5:17:17, 35.19s/it]"
     ]
    },
    {
     "name": "stdout",
     "output_type": "stream",
     "text": [
      "6.408077\n",
      "0.2562812444509369\n"
     ]
    },
    {
     "name": "stderr",
     "output_type": "stream",
     "text": [
      "\r",
      "Training with LBFGS:  46%|████▌     | 460/1000 [4:33:10<5:16:29, 35.17s/it]"
     ]
    },
    {
     "name": "stdout",
     "output_type": "stream",
     "text": [
      "6.4575996\n",
      "0.2562812444509369\n"
     ]
    },
    {
     "name": "stderr",
     "output_type": "stream",
     "text": [
      "\r",
      "Training with LBFGS:  46%|████▌     | 461/1000 [4:33:45<5:15:45, 35.15s/it]"
     ]
    },
    {
     "name": "stdout",
     "output_type": "stream",
     "text": [
      "6.351386\n",
      "0.2562812444509369\n"
     ]
    },
    {
     "name": "stderr",
     "output_type": "stream",
     "text": [
      "\r",
      "Training with LBFGS:  46%|████▌     | 462/1000 [4:34:20<5:15:14, 35.16s/it]"
     ]
    },
    {
     "name": "stdout",
     "output_type": "stream",
     "text": [
      "6.4000297\n",
      "0.2562812444509369\n"
     ]
    },
    {
     "name": "stderr",
     "output_type": "stream",
     "text": [
      "\r",
      "Training with LBFGS:  46%|████▋     | 463/1000 [4:34:55<5:14:40, 35.16s/it]"
     ]
    },
    {
     "name": "stdout",
     "output_type": "stream",
     "text": [
      "6.211837\n",
      "0.2562812444509369\n"
     ]
    },
    {
     "name": "stderr",
     "output_type": "stream",
     "text": [
      "\r",
      "Training with LBFGS:  46%|████▋     | 464/1000 [4:35:30<5:14:20, 35.19s/it]"
     ]
    },
    {
     "name": "stdout",
     "output_type": "stream",
     "text": [
      "6.2690306\n",
      "0.2562812444509369\n"
     ]
    },
    {
     "name": "stderr",
     "output_type": "stream",
     "text": [
      "\r",
      "Training with LBFGS:  46%|████▋     | 465/1000 [4:36:05<5:13:59, 35.21s/it]"
     ]
    },
    {
     "name": "stdout",
     "output_type": "stream",
     "text": [
      "6.3348436\n",
      "0.2562812444509369\n"
     ]
    },
    {
     "name": "stderr",
     "output_type": "stream",
     "text": [
      "\r",
      "Training with LBFGS:  47%|████▋     | 466/1000 [4:36:41<5:13:35, 35.24s/it]"
     ]
    },
    {
     "name": "stdout",
     "output_type": "stream",
     "text": [
      "6.469296\n",
      "0.2562812444509369\n"
     ]
    },
    {
     "name": "stderr",
     "output_type": "stream",
     "text": [
      "\r",
      "Training with LBFGS:  47%|████▋     | 467/1000 [4:37:16<5:13:08, 35.25s/it]"
     ]
    },
    {
     "name": "stdout",
     "output_type": "stream",
     "text": [
      "6.3236055\n",
      "0.2562812444509369\n"
     ]
    },
    {
     "name": "stderr",
     "output_type": "stream",
     "text": [
      "\r",
      "Training with LBFGS:  47%|████▋     | 468/1000 [4:37:51<5:12:34, 35.25s/it]"
     ]
    },
    {
     "name": "stdout",
     "output_type": "stream",
     "text": [
      "6.1910906\n",
      "0.2562812444509369\n"
     ]
    },
    {
     "name": "stderr",
     "output_type": "stream",
     "text": [
      "\r",
      "Training with LBFGS:  47%|████▋     | 469/1000 [4:38:27<5:12:02, 35.26s/it]"
     ]
    },
    {
     "name": "stdout",
     "output_type": "stream",
     "text": [
      "6.283329\n",
      "0.2562812444509369\n"
     ]
    },
    {
     "name": "stderr",
     "output_type": "stream",
     "text": [
      "\r",
      "Training with LBFGS:  47%|████▋     | 470/1000 [4:39:02<5:11:29, 35.26s/it]"
     ]
    },
    {
     "name": "stdout",
     "output_type": "stream",
     "text": [
      "6.387552\n",
      "0.2562812444509369\n"
     ]
    },
    {
     "name": "stderr",
     "output_type": "stream",
     "text": [
      "\r",
      "Training with LBFGS:  47%|████▋     | 471/1000 [4:39:37<5:10:59, 35.27s/it]"
     ]
    },
    {
     "name": "stdout",
     "output_type": "stream",
     "text": [
      "6.167369\n",
      "0.2562812444509369\n"
     ]
    },
    {
     "name": "stderr",
     "output_type": "stream",
     "text": [
      "\r",
      "Training with LBFGS:  47%|████▋     | 472/1000 [4:40:12<5:10:26, 35.28s/it]"
     ]
    },
    {
     "name": "stdout",
     "output_type": "stream",
     "text": [
      "6.36565\n",
      "0.2562812444509369\n"
     ]
    },
    {
     "name": "stderr",
     "output_type": "stream",
     "text": [
      "\r",
      "Training with LBFGS:  47%|████▋     | 473/1000 [4:40:48<5:09:42, 35.26s/it]"
     ]
    },
    {
     "name": "stdout",
     "output_type": "stream",
     "text": [
      "6.4625106\n",
      "0.2562812444509369\n"
     ]
    },
    {
     "name": "stderr",
     "output_type": "stream",
     "text": [
      "\r",
      "Training with LBFGS:  47%|████▋     | 474/1000 [4:41:23<5:09:01, 35.25s/it]"
     ]
    },
    {
     "name": "stdout",
     "output_type": "stream",
     "text": [
      "6.401251\n",
      "0.2562812444509369\n"
     ]
    },
    {
     "name": "stderr",
     "output_type": "stream",
     "text": [
      "\r",
      "Training with LBFGS:  48%|████▊     | 475/1000 [4:41:58<5:08:20, 35.24s/it]"
     ]
    },
    {
     "name": "stdout",
     "output_type": "stream",
     "text": [
      "6.3151026\n",
      "0.2562812444509369\n"
     ]
    },
    {
     "name": "stderr",
     "output_type": "stream",
     "text": [
      "\r",
      "Training with LBFGS:  48%|████▊     | 476/1000 [4:42:33<5:07:24, 35.20s/it]"
     ]
    },
    {
     "name": "stdout",
     "output_type": "stream",
     "text": [
      "6.329554\n",
      "0.2562812444509369\n"
     ]
    },
    {
     "name": "stderr",
     "output_type": "stream",
     "text": [
      "\r",
      "Training with LBFGS:  48%|████▊     | 477/1000 [4:43:08<5:06:33, 35.17s/it]"
     ]
    },
    {
     "name": "stdout",
     "output_type": "stream",
     "text": [
      "6.2902284\n",
      "0.2562812444509369\n"
     ]
    },
    {
     "name": "stderr",
     "output_type": "stream",
     "text": [
      "\r",
      "Training with LBFGS:  48%|████▊     | 478/1000 [4:43:43<5:05:57, 35.17s/it]"
     ]
    },
    {
     "name": "stdout",
     "output_type": "stream",
     "text": [
      "6.2998266\n",
      "0.2562812444509369\n"
     ]
    },
    {
     "name": "stderr",
     "output_type": "stream",
     "text": [
      "\r",
      "Training with LBFGS:  48%|████▊     | 479/1000 [4:44:19<5:05:20, 35.17s/it]"
     ]
    },
    {
     "name": "stdout",
     "output_type": "stream",
     "text": [
      "6.2005973\n",
      "0.2562812444509369\n"
     ]
    },
    {
     "name": "stderr",
     "output_type": "stream",
     "text": [
      "\r",
      "Training with LBFGS:  48%|████▊     | 480/1000 [4:44:54<5:04:46, 35.17s/it]"
     ]
    },
    {
     "name": "stdout",
     "output_type": "stream",
     "text": [
      "6.281627\n",
      "0.2562812444509369\n"
     ]
    },
    {
     "name": "stderr",
     "output_type": "stream",
     "text": [
      "\r",
      "Training with LBFGS:  48%|████▊     | 481/1000 [4:45:29<5:04:23, 35.19s/it]"
     ]
    },
    {
     "name": "stdout",
     "output_type": "stream",
     "text": [
      "6.249941\n",
      "0.2562812444509369\n"
     ]
    },
    {
     "name": "stderr",
     "output_type": "stream",
     "text": [
      "\r",
      "Training with LBFGS:  48%|████▊     | 482/1000 [4:46:04<5:04:11, 35.23s/it]"
     ]
    },
    {
     "name": "stdout",
     "output_type": "stream",
     "text": [
      "6.353059\n",
      "0.2562812444509369\n"
     ]
    },
    {
     "name": "stderr",
     "output_type": "stream",
     "text": [
      "\r",
      "Training with LBFGS:  48%|████▊     | 483/1000 [4:46:40<5:03:49, 35.26s/it]"
     ]
    },
    {
     "name": "stdout",
     "output_type": "stream",
     "text": [
      "6.1686196\n",
      "0.2562812444509369\n"
     ]
    },
    {
     "name": "stderr",
     "output_type": "stream",
     "text": [
      "\r",
      "Training with LBFGS:  48%|████▊     | 484/1000 [4:47:15<5:03:26, 35.28s/it]"
     ]
    },
    {
     "name": "stdout",
     "output_type": "stream",
     "text": [
      "6.21799\n",
      "0.2562812444509369\n"
     ]
    },
    {
     "name": "stderr",
     "output_type": "stream",
     "text": [
      "\r",
      "Training with LBFGS:  48%|████▊     | 485/1000 [4:47:50<5:02:59, 35.30s/it]"
     ]
    },
    {
     "name": "stdout",
     "output_type": "stream",
     "text": [
      "6.2512813\n",
      "0.2562812444509369\n"
     ]
    },
    {
     "name": "stderr",
     "output_type": "stream",
     "text": [
      "\r",
      "Training with LBFGS:  49%|████▊     | 486/1000 [4:48:26<5:02:19, 35.29s/it]"
     ]
    },
    {
     "name": "stdout",
     "output_type": "stream",
     "text": [
      "6.3813725\n",
      "0.2562812444509369\n"
     ]
    },
    {
     "name": "stderr",
     "output_type": "stream",
     "text": [
      "\r",
      "Training with LBFGS:  49%|████▊     | 487/1000 [4:49:01<5:01:55, 35.31s/it]"
     ]
    },
    {
     "name": "stdout",
     "output_type": "stream",
     "text": [
      "6.3533983\n",
      "0.2562812444509369\n"
     ]
    },
    {
     "name": "stderr",
     "output_type": "stream",
     "text": [
      "\r",
      "Training with LBFGS:  49%|████▉     | 488/1000 [4:49:36<5:01:06, 35.29s/it]"
     ]
    },
    {
     "name": "stdout",
     "output_type": "stream",
     "text": [
      "6.3741913\n",
      "0.2562812444509369\n"
     ]
    },
    {
     "name": "stderr",
     "output_type": "stream",
     "text": [
      "\r",
      "Training with LBFGS:  49%|████▉     | 489/1000 [4:50:12<5:00:36, 35.30s/it]"
     ]
    },
    {
     "name": "stdout",
     "output_type": "stream",
     "text": [
      "6.2820873\n",
      "0.2562812444509369\n"
     ]
    },
    {
     "name": "stderr",
     "output_type": "stream",
     "text": [
      "\r",
      "Training with LBFGS:  49%|████▉     | 490/1000 [4:50:47<5:00:14, 35.32s/it]"
     ]
    },
    {
     "name": "stdout",
     "output_type": "stream",
     "text": [
      "6.2920656\n",
      "0.2562812444509369\n"
     ]
    },
    {
     "name": "stderr",
     "output_type": "stream",
     "text": [
      "\r",
      "Training with LBFGS:  49%|████▉     | 491/1000 [4:51:22<4:59:45, 35.34s/it]"
     ]
    },
    {
     "name": "stdout",
     "output_type": "stream",
     "text": [
      "6.412965\n",
      "0.2562812444509369\n"
     ]
    },
    {
     "name": "stderr",
     "output_type": "stream",
     "text": [
      "\r",
      "Training with LBFGS:  49%|████▉     | 492/1000 [4:51:57<4:58:44, 35.28s/it]"
     ]
    },
    {
     "name": "stdout",
     "output_type": "stream",
     "text": [
      "6.194465\n",
      "0.2562812444509369\n"
     ]
    },
    {
     "name": "stderr",
     "output_type": "stream",
     "text": [
      "\r",
      "Training with LBFGS:  49%|████▉     | 493/1000 [4:52:33<4:57:47, 35.24s/it]"
     ]
    },
    {
     "name": "stdout",
     "output_type": "stream",
     "text": [
      "6.3323913\n",
      "0.2562812444509369\n"
     ]
    },
    {
     "name": "stderr",
     "output_type": "stream",
     "text": [
      "\r",
      "Training with LBFGS:  49%|████▉     | 494/1000 [4:53:08<4:57:02, 35.22s/it]"
     ]
    },
    {
     "name": "stdout",
     "output_type": "stream",
     "text": [
      "6.3752837\n",
      "0.2562812444509369\n"
     ]
    },
    {
     "name": "stderr",
     "output_type": "stream",
     "text": [
      "\r",
      "Training with LBFGS:  50%|████▉     | 495/1000 [4:53:43<4:56:11, 35.19s/it]"
     ]
    },
    {
     "name": "stdout",
     "output_type": "stream",
     "text": [
      "6.323871\n",
      "0.2562812444509369\n"
     ]
    },
    {
     "name": "stderr",
     "output_type": "stream",
     "text": [
      "\r",
      "Training with LBFGS:  50%|████▉     | 496/1000 [4:54:18<4:55:29, 35.18s/it]"
     ]
    },
    {
     "name": "stdout",
     "output_type": "stream",
     "text": [
      "6.2355924\n",
      "0.2562812444509369\n"
     ]
    },
    {
     "name": "stderr",
     "output_type": "stream",
     "text": [
      "\r",
      "Training with LBFGS:  50%|████▉     | 497/1000 [4:54:53<4:54:51, 35.17s/it]"
     ]
    },
    {
     "name": "stdout",
     "output_type": "stream",
     "text": [
      "6.2883143\n",
      "0.2562812444509369\n"
     ]
    },
    {
     "name": "stderr",
     "output_type": "stream",
     "text": [
      "\r",
      "Training with LBFGS:  50%|████▉     | 498/1000 [4:55:28<4:54:29, 35.20s/it]"
     ]
    },
    {
     "name": "stdout",
     "output_type": "stream",
     "text": [
      "6.4719334\n",
      "0.2562812444509369\n"
     ]
    },
    {
     "name": "stderr",
     "output_type": "stream",
     "text": [
      "\r",
      "Training with LBFGS:  50%|████▉     | 499/1000 [4:56:04<4:54:10, 35.23s/it]"
     ]
    },
    {
     "name": "stdout",
     "output_type": "stream",
     "text": [
      "6.384693\n",
      "0.2562812444509369\n"
     ]
    },
    {
     "name": "stderr",
     "output_type": "stream",
     "text": [
      "\r",
      "Training with LBFGS:  50%|█████     | 500/1000 [4:56:39<4:53:48, 35.26s/it]"
     ]
    },
    {
     "name": "stdout",
     "output_type": "stream",
     "text": [
      "6.203089\n",
      "0.2562812444509369\n"
     ]
    },
    {
     "name": "stderr",
     "output_type": "stream",
     "text": [
      "\r",
      "Training with LBFGS:  50%|█████     | 501/1000 [4:57:14<4:53:18, 35.27s/it]"
     ]
    },
    {
     "name": "stdout",
     "output_type": "stream",
     "text": [
      "6.462358\n",
      "0.2562812444509369\n"
     ]
    },
    {
     "name": "stderr",
     "output_type": "stream",
     "text": [
      "\r",
      "Training with LBFGS:  50%|█████     | 502/1000 [4:57:50<4:52:38, 35.26s/it]"
     ]
    },
    {
     "name": "stdout",
     "output_type": "stream",
     "text": [
      "6.432207\n",
      "0.2562812444509369\n"
     ]
    },
    {
     "name": "stderr",
     "output_type": "stream",
     "text": [
      "\r",
      "Training with LBFGS:  50%|█████     | 503/1000 [4:58:25<4:52:08, 35.27s/it]"
     ]
    },
    {
     "name": "stdout",
     "output_type": "stream",
     "text": [
      "6.221542\n",
      "0.2562812444509369\n"
     ]
    },
    {
     "name": "stderr",
     "output_type": "stream",
     "text": [
      "\r",
      "Training with LBFGS:  50%|█████     | 504/1000 [4:59:00<4:51:42, 35.29s/it]"
     ]
    },
    {
     "name": "stdout",
     "output_type": "stream",
     "text": [
      "6.262128\n",
      "0.2562812444509369\n"
     ]
    },
    {
     "name": "stderr",
     "output_type": "stream",
     "text": [
      "\r",
      "Training with LBFGS:  50%|█████     | 505/1000 [4:59:36<4:51:14, 35.30s/it]"
     ]
    },
    {
     "name": "stdout",
     "output_type": "stream",
     "text": [
      "6.4313593\n",
      "0.2562812444509369\n"
     ]
    },
    {
     "name": "stderr",
     "output_type": "stream",
     "text": [
      "\r",
      "Training with LBFGS:  51%|█████     | 506/1000 [5:00:11<4:50:27, 35.28s/it]"
     ]
    },
    {
     "name": "stdout",
     "output_type": "stream",
     "text": [
      "6.296941\n",
      "0.2562812444509369\n"
     ]
    },
    {
     "name": "stderr",
     "output_type": "stream",
     "text": [
      "\r",
      "Training with LBFGS:  51%|█████     | 507/1000 [5:00:46<4:49:38, 35.25s/it]"
     ]
    },
    {
     "name": "stdout",
     "output_type": "stream",
     "text": [
      "6.3877363\n",
      "0.2562812444509369\n"
     ]
    },
    {
     "name": "stderr",
     "output_type": "stream",
     "text": [
      "\r",
      "Training with LBFGS:  51%|█████     | 508/1000 [5:01:21<4:48:58, 35.24s/it]"
     ]
    },
    {
     "name": "stdout",
     "output_type": "stream",
     "text": [
      "6.2208695\n",
      "0.2562812444509369\n"
     ]
    },
    {
     "name": "stderr",
     "output_type": "stream",
     "text": [
      "\r",
      "Training with LBFGS:  51%|█████     | 509/1000 [5:01:56<4:48:16, 35.23s/it]"
     ]
    },
    {
     "name": "stdout",
     "output_type": "stream",
     "text": [
      "6.30619\n",
      "0.2562812444509369\n"
     ]
    },
    {
     "name": "stderr",
     "output_type": "stream",
     "text": [
      "\r",
      "Training with LBFGS:  51%|█████     | 510/1000 [5:02:32<4:47:30, 35.21s/it]"
     ]
    },
    {
     "name": "stdout",
     "output_type": "stream",
     "text": [
      "6.253457\n",
      "0.2562812444509369\n"
     ]
    },
    {
     "name": "stderr",
     "output_type": "stream",
     "text": [
      "\r",
      "Training with LBFGS:  51%|█████     | 511/1000 [5:03:07<4:46:47, 35.19s/it]"
     ]
    },
    {
     "name": "stdout",
     "output_type": "stream",
     "text": [
      "6.290844\n",
      "0.2562812444509369\n"
     ]
    },
    {
     "name": "stderr",
     "output_type": "stream",
     "text": [
      "\r",
      "Training with LBFGS:  51%|█████     | 512/1000 [5:03:42<4:46:08, 35.18s/it]"
     ]
    },
    {
     "name": "stdout",
     "output_type": "stream",
     "text": [
      "6.3823085\n",
      "0.2562812444509369\n"
     ]
    },
    {
     "name": "stderr",
     "output_type": "stream",
     "text": [
      "\r",
      "Training with LBFGS:  51%|█████▏    | 513/1000 [5:04:17<4:45:37, 35.19s/it]"
     ]
    },
    {
     "name": "stdout",
     "output_type": "stream",
     "text": [
      "6.2441998\n",
      "0.2562812444509369\n"
     ]
    },
    {
     "name": "stderr",
     "output_type": "stream",
     "text": [
      "\r",
      "Training with LBFGS:  51%|█████▏    | 514/1000 [5:04:52<4:45:05, 35.20s/it]"
     ]
    },
    {
     "name": "stdout",
     "output_type": "stream",
     "text": [
      "6.305024\n",
      "0.2562812444509369\n"
     ]
    },
    {
     "name": "stderr",
     "output_type": "stream",
     "text": [
      "\r",
      "Training with LBFGS:  52%|█████▏    | 515/1000 [5:05:28<4:44:41, 35.22s/it]"
     ]
    },
    {
     "name": "stdout",
     "output_type": "stream",
     "text": [
      "6.3093715\n",
      "0.2562812444509369\n"
     ]
    },
    {
     "name": "stderr",
     "output_type": "stream",
     "text": [
      "\r",
      "Training with LBFGS:  52%|█████▏    | 516/1000 [5:06:03<4:44:09, 35.23s/it]"
     ]
    },
    {
     "name": "stdout",
     "output_type": "stream",
     "text": [
      "6.2681913\n",
      "0.2562812444509369\n"
     ]
    },
    {
     "name": "stderr",
     "output_type": "stream",
     "text": [
      "\r",
      "Training with LBFGS:  52%|█████▏    | 517/1000 [5:06:38<4:43:45, 35.25s/it]"
     ]
    },
    {
     "name": "stdout",
     "output_type": "stream",
     "text": [
      "6.3394537\n",
      "0.2562812444509369\n"
     ]
    },
    {
     "name": "stderr",
     "output_type": "stream",
     "text": [
      "\r",
      "Training with LBFGS:  52%|█████▏    | 518/1000 [5:07:13<4:43:16, 35.26s/it]"
     ]
    },
    {
     "name": "stdout",
     "output_type": "stream",
     "text": [
      "6.397654\n",
      "0.2562812444509369\n"
     ]
    },
    {
     "name": "stderr",
     "output_type": "stream",
     "text": [
      "\r",
      "Training with LBFGS:  52%|█████▏    | 519/1000 [5:07:49<4:42:45, 35.27s/it]"
     ]
    },
    {
     "name": "stdout",
     "output_type": "stream",
     "text": [
      "6.4236693\n",
      "0.2562812444509369\n"
     ]
    },
    {
     "name": "stderr",
     "output_type": "stream",
     "text": [
      "\r",
      "Training with LBFGS:  52%|█████▏    | 520/1000 [5:08:24<4:42:20, 35.29s/it]"
     ]
    },
    {
     "name": "stdout",
     "output_type": "stream",
     "text": [
      "6.3943725\n",
      "0.2562812444509369\n"
     ]
    },
    {
     "name": "stderr",
     "output_type": "stream",
     "text": [
      "\r",
      "Training with LBFGS:  52%|█████▏    | 521/1000 [5:08:59<4:42:01, 35.33s/it]"
     ]
    },
    {
     "name": "stdout",
     "output_type": "stream",
     "text": [
      "6.230584\n",
      "0.2562812444509369\n"
     ]
    },
    {
     "name": "stderr",
     "output_type": "stream",
     "text": [
      "\r",
      "Training with LBFGS:  52%|█████▏    | 522/1000 [5:09:36<4:43:57, 35.64s/it]"
     ]
    },
    {
     "name": "stdout",
     "output_type": "stream",
     "text": [
      "6.227707\n",
      "0.2562812444509369\n"
     ]
    },
    {
     "name": "stderr",
     "output_type": "stream",
     "text": [
      "\r",
      "Training with LBFGS:  52%|█████▏    | 523/1000 [5:10:11<4:42:28, 35.53s/it]"
     ]
    },
    {
     "name": "stdout",
     "output_type": "stream",
     "text": [
      "6.34552\n",
      "0.2562812444509369\n"
     ]
    },
    {
     "name": "stderr",
     "output_type": "stream",
     "text": [
      "\r",
      "Training with LBFGS:  52%|█████▏    | 524/1000 [5:10:46<4:41:17, 35.46s/it]"
     ]
    },
    {
     "name": "stdout",
     "output_type": "stream",
     "text": [
      "6.4420233\n",
      "0.2562812444509369\n"
     ]
    },
    {
     "name": "stderr",
     "output_type": "stream",
     "text": [
      "\r",
      "Training with LBFGS:  52%|█████▎    | 525/1000 [5:11:22<4:40:12, 35.40s/it]"
     ]
    },
    {
     "name": "stdout",
     "output_type": "stream",
     "text": [
      "6.339892\n",
      "0.2562812444509369\n"
     ]
    },
    {
     "name": "stderr",
     "output_type": "stream",
     "text": [
      "\r",
      "Training with LBFGS:  53%|█████▎    | 526/1000 [5:11:57<4:39:05, 35.33s/it]"
     ]
    },
    {
     "name": "stdout",
     "output_type": "stream",
     "text": [
      "6.3125024\n",
      "0.2562812444509369\n"
     ]
    },
    {
     "name": "stderr",
     "output_type": "stream",
     "text": [
      "\r",
      "Training with LBFGS:  53%|█████▎    | 527/1000 [5:12:32<4:38:10, 35.29s/it]"
     ]
    },
    {
     "name": "stdout",
     "output_type": "stream",
     "text": [
      "6.3674574\n",
      "0.2562812444509369\n"
     ]
    },
    {
     "name": "stderr",
     "output_type": "stream",
     "text": [
      "\r",
      "Training with LBFGS:  53%|█████▎    | 528/1000 [5:13:07<4:37:14, 35.24s/it]"
     ]
    },
    {
     "name": "stdout",
     "output_type": "stream",
     "text": [
      "6.215323\n",
      "0.2562812444509369\n"
     ]
    },
    {
     "name": "stderr",
     "output_type": "stream",
     "text": [
      "\r",
      "Training with LBFGS:  53%|█████▎    | 529/1000 [5:13:43<4:38:37, 35.49s/it]"
     ]
    },
    {
     "name": "stdout",
     "output_type": "stream",
     "text": [
      "6.30368\n",
      "0.2562812444509369\n"
     ]
    },
    {
     "name": "stderr",
     "output_type": "stream",
     "text": [
      "\r",
      "Training with LBFGS:  53%|█████▎    | 530/1000 [5:14:18<4:37:27, 35.42s/it]"
     ]
    },
    {
     "name": "stdout",
     "output_type": "stream",
     "text": [
      "6.2722845\n",
      "0.2562812444509369\n"
     ]
    },
    {
     "name": "stderr",
     "output_type": "stream",
     "text": [
      "\r",
      "Training with LBFGS:  53%|█████▎    | 531/1000 [5:14:54<4:36:14, 35.34s/it]"
     ]
    },
    {
     "name": "stdout",
     "output_type": "stream",
     "text": [
      "6.2721295\n",
      "0.2562812444509369\n"
     ]
    },
    {
     "name": "stderr",
     "output_type": "stream",
     "text": [
      "\r",
      "Training with LBFGS:  53%|█████▎    | 532/1000 [5:15:29<4:35:24, 35.31s/it]"
     ]
    },
    {
     "name": "stdout",
     "output_type": "stream",
     "text": [
      "6.3780656\n",
      "0.2562812444509369\n"
     ]
    },
    {
     "name": "stderr",
     "output_type": "stream",
     "text": [
      "\r",
      "Training with LBFGS:  53%|█████▎    | 533/1000 [5:16:04<4:34:45, 35.30s/it]"
     ]
    },
    {
     "name": "stdout",
     "output_type": "stream",
     "text": [
      "6.3958397\n",
      "0.2562812444509369\n"
     ]
    },
    {
     "name": "stderr",
     "output_type": "stream",
     "text": [
      "\r",
      "Training with LBFGS:  53%|█████▎    | 534/1000 [5:16:39<4:34:10, 35.30s/it]"
     ]
    },
    {
     "name": "stdout",
     "output_type": "stream",
     "text": [
      "6.176347\n",
      "0.2562812444509369\n"
     ]
    },
    {
     "name": "stderr",
     "output_type": "stream",
     "text": [
      "\r",
      "Training with LBFGS:  54%|█████▎    | 535/1000 [5:17:15<4:33:31, 35.29s/it]"
     ]
    },
    {
     "name": "stdout",
     "output_type": "stream",
     "text": [
      "6.2781034\n",
      "0.2562812444509369\n"
     ]
    },
    {
     "name": "stderr",
     "output_type": "stream",
     "text": [
      "\r",
      "Training with LBFGS:  54%|█████▎    | 536/1000 [5:17:50<4:33:00, 35.30s/it]"
     ]
    },
    {
     "name": "stdout",
     "output_type": "stream",
     "text": [
      "6.220595\n",
      "0.2562812444509369\n"
     ]
    },
    {
     "name": "stderr",
     "output_type": "stream",
     "text": [
      "\r",
      "Training with LBFGS:  54%|█████▎    | 537/1000 [5:18:25<4:32:25, 35.30s/it]"
     ]
    },
    {
     "name": "stdout",
     "output_type": "stream",
     "text": [
      "6.344346\n",
      "0.2562812444509369\n"
     ]
    },
    {
     "name": "stderr",
     "output_type": "stream",
     "text": [
      "\r",
      "Training with LBFGS:  54%|█████▍    | 538/1000 [5:19:01<4:31:50, 35.30s/it]"
     ]
    },
    {
     "name": "stdout",
     "output_type": "stream",
     "text": [
      "6.1197\n",
      "0.2562812444509369\n"
     ]
    },
    {
     "name": "stderr",
     "output_type": "stream",
     "text": [
      "\r",
      "Training with LBFGS:  54%|█████▍    | 539/1000 [5:19:36<4:31:13, 35.30s/it]"
     ]
    },
    {
     "name": "stdout",
     "output_type": "stream",
     "text": [
      "6.2360353\n",
      "0.2562812444509369\n"
     ]
    },
    {
     "name": "stderr",
     "output_type": "stream",
     "text": [
      "\r",
      "Training with LBFGS:  54%|█████▍    | 540/1000 [5:20:11<4:30:26, 35.27s/it]"
     ]
    },
    {
     "name": "stdout",
     "output_type": "stream",
     "text": [
      "6.3657107\n",
      "0.2562812444509369\n"
     ]
    },
    {
     "name": "stderr",
     "output_type": "stream",
     "text": [
      "\r",
      "Training with LBFGS:  54%|█████▍    | 541/1000 [5:20:46<4:29:48, 35.27s/it]"
     ]
    },
    {
     "name": "stdout",
     "output_type": "stream",
     "text": [
      "6.3228955\n",
      "0.2562812444509369\n"
     ]
    },
    {
     "name": "stderr",
     "output_type": "stream",
     "text": [
      "\r",
      "Training with LBFGS:  54%|█████▍    | 542/1000 [5:21:22<4:29:12, 35.27s/it]"
     ]
    },
    {
     "name": "stdout",
     "output_type": "stream",
     "text": [
      "6.335228\n",
      "0.2562812444509369\n"
     ]
    },
    {
     "name": "stderr",
     "output_type": "stream",
     "text": [
      "\r",
      "Training with LBFGS:  54%|█████▍    | 543/1000 [5:21:57<4:28:38, 35.27s/it]"
     ]
    },
    {
     "name": "stdout",
     "output_type": "stream",
     "text": [
      "6.2344847\n",
      "0.2562812444509369\n"
     ]
    },
    {
     "name": "stderr",
     "output_type": "stream",
     "text": [
      "\r",
      "Training with LBFGS:  54%|█████▍    | 544/1000 [5:22:33<4:29:42, 35.49s/it]"
     ]
    },
    {
     "name": "stdout",
     "output_type": "stream",
     "text": [
      "6.271783\n",
      "0.2562812444509369\n"
     ]
    },
    {
     "name": "stderr",
     "output_type": "stream",
     "text": [
      "\r",
      "Training with LBFGS:  55%|█████▍    | 545/1000 [5:23:08<4:28:45, 35.44s/it]"
     ]
    },
    {
     "name": "stdout",
     "output_type": "stream",
     "text": [
      "6.324863\n",
      "0.2562812444509369\n"
     ]
    },
    {
     "name": "stderr",
     "output_type": "stream",
     "text": [
      "\r",
      "Training with LBFGS:  55%|█████▍    | 546/1000 [5:23:44<4:27:43, 35.38s/it]"
     ]
    },
    {
     "name": "stdout",
     "output_type": "stream",
     "text": [
      "6.405543\n",
      "0.2562812444509369\n"
     ]
    },
    {
     "name": "stderr",
     "output_type": "stream",
     "text": [
      "\r",
      "Training with LBFGS:  55%|█████▍    | 547/1000 [5:24:19<4:26:36, 35.31s/it]"
     ]
    },
    {
     "name": "stdout",
     "output_type": "stream",
     "text": [
      "6.2730713\n",
      "0.2562812444509369\n"
     ]
    },
    {
     "name": "stderr",
     "output_type": "stream",
     "text": [
      "\r",
      "Training with LBFGS:  55%|█████▍    | 548/1000 [5:24:54<4:25:49, 35.29s/it]"
     ]
    },
    {
     "name": "stdout",
     "output_type": "stream",
     "text": [
      "6.34543\n",
      "0.2562812444509369\n"
     ]
    },
    {
     "name": "stderr",
     "output_type": "stream",
     "text": [
      "\r",
      "Training with LBFGS:  55%|█████▍    | 549/1000 [5:25:29<4:25:00, 35.26s/it]"
     ]
    },
    {
     "name": "stdout",
     "output_type": "stream",
     "text": [
      "6.343849\n",
      "0.2562812444509369\n"
     ]
    },
    {
     "name": "stderr",
     "output_type": "stream",
     "text": [
      "\r",
      "Training with LBFGS:  55%|█████▌    | 550/1000 [5:26:04<4:24:19, 35.24s/it]"
     ]
    },
    {
     "name": "stdout",
     "output_type": "stream",
     "text": [
      "6.3842735\n",
      "0.2562812444509369\n"
     ]
    },
    {
     "name": "stderr",
     "output_type": "stream",
     "text": [
      "\r",
      "Training with LBFGS:  55%|█████▌    | 551/1000 [5:26:40<4:23:58, 35.27s/it]"
     ]
    },
    {
     "name": "stdout",
     "output_type": "stream",
     "text": [
      "6.3062773\n",
      "0.2562812444509369\n"
     ]
    },
    {
     "name": "stderr",
     "output_type": "stream",
     "text": [
      "\r",
      "Training with LBFGS:  55%|█████▌    | 552/1000 [5:27:15<4:24:01, 35.36s/it]"
     ]
    },
    {
     "name": "stdout",
     "output_type": "stream",
     "text": [
      "6.312728\n",
      "0.2562812444509369\n"
     ]
    },
    {
     "name": "stderr",
     "output_type": "stream",
     "text": [
      "\r",
      "Training with LBFGS:  55%|█████▌    | 553/1000 [5:27:51<4:23:40, 35.39s/it]"
     ]
    },
    {
     "name": "stdout",
     "output_type": "stream",
     "text": [
      "6.3967404\n",
      "0.2562812444509369\n"
     ]
    },
    {
     "name": "stderr",
     "output_type": "stream",
     "text": [
      "\r",
      "Training with LBFGS:  55%|█████▌    | 554/1000 [5:28:26<4:23:02, 35.39s/it]"
     ]
    },
    {
     "name": "stdout",
     "output_type": "stream",
     "text": [
      "6.307653\n",
      "0.2562812444509369\n"
     ]
    },
    {
     "name": "stderr",
     "output_type": "stream",
     "text": [
      "\r",
      "Training with LBFGS:  56%|█████▌    | 555/1000 [5:29:02<4:23:12, 35.49s/it]"
     ]
    },
    {
     "name": "stdout",
     "output_type": "stream",
     "text": [
      "6.2610283\n",
      "0.2562812444509369\n"
     ]
    },
    {
     "name": "stderr",
     "output_type": "stream",
     "text": [
      "\r",
      "Training with LBFGS:  56%|█████▌    | 556/1000 [5:29:37<4:22:18, 35.45s/it]"
     ]
    },
    {
     "name": "stdout",
     "output_type": "stream",
     "text": [
      "6.3179064\n",
      "0.2562812444509369\n"
     ]
    },
    {
     "name": "stderr",
     "output_type": "stream",
     "text": [
      "\r",
      "Training with LBFGS:  56%|█████▌    | 557/1000 [5:30:14<4:24:01, 35.76s/it]"
     ]
    },
    {
     "name": "stdout",
     "output_type": "stream",
     "text": [
      "6.299719\n",
      "0.2562812444509369\n"
     ]
    },
    {
     "name": "stderr",
     "output_type": "stream",
     "text": [
      "\r",
      "Training with LBFGS:  56%|█████▌    | 558/1000 [5:30:49<4:22:16, 35.60s/it]"
     ]
    },
    {
     "name": "stdout",
     "output_type": "stream",
     "text": [
      "6.288557\n",
      "0.2562812444509369\n"
     ]
    },
    {
     "name": "stderr",
     "output_type": "stream",
     "text": [
      "\r",
      "Training with LBFGS:  56%|█████▌    | 559/1000 [5:31:24<4:20:51, 35.49s/it]"
     ]
    },
    {
     "name": "stdout",
     "output_type": "stream",
     "text": [
      "6.256919\n",
      "0.2562812444509369\n"
     ]
    },
    {
     "name": "stderr",
     "output_type": "stream",
     "text": [
      "\r",
      "Training with LBFGS:  56%|█████▌    | 560/1000 [5:31:59<4:19:36, 35.40s/it]"
     ]
    },
    {
     "name": "stdout",
     "output_type": "stream",
     "text": [
      "6.31682\n",
      "0.2562812444509369\n"
     ]
    },
    {
     "name": "stderr",
     "output_type": "stream",
     "text": [
      "\r",
      "Training with LBFGS:  56%|█████▌    | 561/1000 [5:32:34<4:18:31, 35.33s/it]"
     ]
    },
    {
     "name": "stdout",
     "output_type": "stream",
     "text": [
      "6.289924\n",
      "0.2562812444509369\n"
     ]
    },
    {
     "name": "stderr",
     "output_type": "stream",
     "text": [
      "\r",
      "Training with LBFGS:  56%|█████▌    | 562/1000 [5:33:10<4:17:31, 35.28s/it]"
     ]
    },
    {
     "name": "stdout",
     "output_type": "stream",
     "text": [
      "6.4241257\n",
      "0.2562812444509369\n"
     ]
    },
    {
     "name": "stderr",
     "output_type": "stream",
     "text": [
      "\r",
      "Training with LBFGS:  56%|█████▋    | 563/1000 [5:33:45<4:16:37, 35.23s/it]"
     ]
    },
    {
     "name": "stdout",
     "output_type": "stream",
     "text": [
      "6.341507\n",
      "0.2562812444509369\n"
     ]
    },
    {
     "name": "stderr",
     "output_type": "stream",
     "text": [
      "\r",
      "Training with LBFGS:  56%|█████▋    | 564/1000 [5:34:20<4:15:52, 35.21s/it]"
     ]
    },
    {
     "name": "stdout",
     "output_type": "stream",
     "text": [
      "6.409525\n",
      "0.2562812444509369\n"
     ]
    },
    {
     "name": "stderr",
     "output_type": "stream",
     "text": [
      "\r",
      "Training with LBFGS:  56%|█████▋    | 565/1000 [5:34:55<4:15:26, 35.23s/it]"
     ]
    },
    {
     "name": "stdout",
     "output_type": "stream",
     "text": [
      "6.2937446\n",
      "0.2562812444509369\n"
     ]
    },
    {
     "name": "stderr",
     "output_type": "stream",
     "text": [
      "\r",
      "Training with LBFGS:  57%|█████▋    | 566/1000 [5:35:31<4:15:08, 35.27s/it]"
     ]
    },
    {
     "name": "stdout",
     "output_type": "stream",
     "text": [
      "6.3566046\n",
      "0.2562812444509369\n"
     ]
    },
    {
     "name": "stderr",
     "output_type": "stream",
     "text": [
      "\r",
      "Training with LBFGS:  57%|█████▋    | 567/1000 [5:36:06<4:15:03, 35.34s/it]"
     ]
    },
    {
     "name": "stdout",
     "output_type": "stream",
     "text": [
      "6.3116\n",
      "0.2562812444509369\n"
     ]
    },
    {
     "name": "stderr",
     "output_type": "stream",
     "text": [
      "\r",
      "Training with LBFGS:  57%|█████▋    | 568/1000 [5:36:42<4:16:25, 35.61s/it]"
     ]
    },
    {
     "name": "stdout",
     "output_type": "stream",
     "text": [
      "6.3093524\n",
      "0.2562812444509369\n"
     ]
    },
    {
     "name": "stderr",
     "output_type": "stream",
     "text": [
      "\r",
      "Training with LBFGS:  57%|█████▋    | 569/1000 [5:37:18<4:15:12, 35.53s/it]"
     ]
    },
    {
     "name": "stdout",
     "output_type": "stream",
     "text": [
      "6.4089847\n",
      "0.2562812444509369\n"
     ]
    },
    {
     "name": "stderr",
     "output_type": "stream",
     "text": [
      "\r",
      "Training with LBFGS:  57%|█████▋    | 570/1000 [5:37:53<4:14:14, 35.48s/it]"
     ]
    },
    {
     "name": "stdout",
     "output_type": "stream",
     "text": [
      "6.2852807\n",
      "0.2562812444509369\n"
     ]
    },
    {
     "name": "stderr",
     "output_type": "stream",
     "text": [
      "\r",
      "Training with LBFGS:  57%|█████▋    | 571/1000 [5:38:28<4:13:24, 35.44s/it]"
     ]
    },
    {
     "name": "stdout",
     "output_type": "stream",
     "text": [
      "6.2779746\n",
      "0.2562812444509369\n"
     ]
    },
    {
     "name": "stderr",
     "output_type": "stream",
     "text": [
      "\r",
      "Training with LBFGS:  57%|█████▋    | 572/1000 [5:39:04<4:12:32, 35.40s/it]"
     ]
    },
    {
     "name": "stdout",
     "output_type": "stream",
     "text": [
      "6.296754\n",
      "0.2562812444509369\n"
     ]
    },
    {
     "name": "stderr",
     "output_type": "stream",
     "text": [
      "\r",
      "Training with LBFGS:  57%|█████▋    | 573/1000 [5:39:39<4:12:31, 35.48s/it]"
     ]
    },
    {
     "name": "stdout",
     "output_type": "stream",
     "text": [
      "6.3319\n",
      "0.2562812444509369\n"
     ]
    },
    {
     "name": "stderr",
     "output_type": "stream",
     "text": [
      "\r",
      "Training with LBFGS:  57%|█████▋    | 574/1000 [5:40:15<4:11:50, 35.47s/it]"
     ]
    },
    {
     "name": "stdout",
     "output_type": "stream",
     "text": [
      "6.3877816\n",
      "0.2562812444509369\n"
     ]
    },
    {
     "name": "stderr",
     "output_type": "stream",
     "text": [
      "\r",
      "Training with LBFGS:  57%|█████▊    | 575/1000 [5:40:50<4:11:25, 35.50s/it]"
     ]
    },
    {
     "name": "stdout",
     "output_type": "stream",
     "text": [
      "6.4027405\n",
      "0.2562812444509369\n"
     ]
    },
    {
     "name": "stderr",
     "output_type": "stream",
     "text": [
      "\r",
      "Training with LBFGS:  58%|█████▊    | 576/1000 [5:41:26<4:10:12, 35.41s/it]"
     ]
    },
    {
     "name": "stdout",
     "output_type": "stream",
     "text": [
      "6.221226\n",
      "0.2562812444509369\n"
     ]
    },
    {
     "name": "stderr",
     "output_type": "stream",
     "text": [
      "\r",
      "Training with LBFGS:  58%|█████▊    | 577/1000 [5:42:01<4:09:15, 35.36s/it]"
     ]
    },
    {
     "name": "stdout",
     "output_type": "stream",
     "text": [
      "6.3723836\n",
      "0.2562812444509369\n"
     ]
    },
    {
     "name": "stderr",
     "output_type": "stream",
     "text": [
      "\r",
      "Training with LBFGS:  58%|█████▊    | 578/1000 [5:42:36<4:08:12, 35.29s/it]"
     ]
    },
    {
     "name": "stdout",
     "output_type": "stream",
     "text": [
      "6.355193\n",
      "0.2562812444509369\n"
     ]
    },
    {
     "name": "stderr",
     "output_type": "stream",
     "text": [
      "\r",
      "Training with LBFGS:  58%|█████▊    | 579/1000 [5:43:11<4:07:21, 35.25s/it]"
     ]
    },
    {
     "name": "stdout",
     "output_type": "stream",
     "text": [
      "6.1909256\n",
      "0.2562812444509369\n"
     ]
    },
    {
     "name": "stderr",
     "output_type": "stream",
     "text": [
      "\r",
      "Training with LBFGS:  58%|█████▊    | 580/1000 [5:43:46<4:06:42, 35.24s/it]"
     ]
    },
    {
     "name": "stdout",
     "output_type": "stream",
     "text": [
      "6.305825\n",
      "0.2562812444509369\n"
     ]
    },
    {
     "name": "stderr",
     "output_type": "stream",
     "text": [
      "\r",
      "Training with LBFGS:  58%|█████▊    | 581/1000 [5:44:22<4:06:21, 35.28s/it]"
     ]
    },
    {
     "name": "stdout",
     "output_type": "stream",
     "text": [
      "6.2445846\n",
      "0.2562812444509369\n"
     ]
    },
    {
     "name": "stderr",
     "output_type": "stream",
     "text": [
      "\r",
      "Training with LBFGS:  58%|█████▊    | 582/1000 [5:44:57<4:05:48, 35.28s/it]"
     ]
    },
    {
     "name": "stdout",
     "output_type": "stream",
     "text": [
      "6.317429\n",
      "0.2562812444509369\n"
     ]
    },
    {
     "name": "stderr",
     "output_type": "stream",
     "text": [
      "\r",
      "Training with LBFGS:  58%|█████▊    | 583/1000 [5:45:32<4:05:14, 35.29s/it]"
     ]
    },
    {
     "name": "stdout",
     "output_type": "stream",
     "text": [
      "6.2808795\n",
      "0.2562812444509369\n"
     ]
    },
    {
     "name": "stderr",
     "output_type": "stream",
     "text": [
      "\r",
      "Training with LBFGS:  58%|█████▊    | 584/1000 [5:46:08<4:04:46, 35.31s/it]"
     ]
    },
    {
     "name": "stdout",
     "output_type": "stream",
     "text": [
      "6.428694\n",
      "0.2562812444509369\n"
     ]
    },
    {
     "name": "stderr",
     "output_type": "stream",
     "text": [
      "\r",
      "Training with LBFGS:  58%|█████▊    | 585/1000 [5:46:43<4:04:20, 35.33s/it]"
     ]
    },
    {
     "name": "stdout",
     "output_type": "stream",
     "text": [
      "6.2057447\n",
      "0.2562812444509369\n"
     ]
    },
    {
     "name": "stderr",
     "output_type": "stream",
     "text": [
      "\r",
      "Training with LBFGS:  59%|█████▊    | 586/1000 [5:47:18<4:03:58, 35.36s/it]"
     ]
    },
    {
     "name": "stdout",
     "output_type": "stream",
     "text": [
      "6.176988\n",
      "0.2562812444509369\n"
     ]
    },
    {
     "name": "stderr",
     "output_type": "stream",
     "text": [
      "\r",
      "Training with LBFGS:  59%|█████▊    | 587/1000 [5:47:54<4:03:35, 35.39s/it]"
     ]
    },
    {
     "name": "stdout",
     "output_type": "stream",
     "text": [
      "6.2710924\n",
      "0.2562812444509369\n"
     ]
    },
    {
     "name": "stderr",
     "output_type": "stream",
     "text": [
      "\r",
      "Training with LBFGS:  59%|█████▉    | 588/1000 [5:48:29<4:03:06, 35.41s/it]"
     ]
    },
    {
     "name": "stdout",
     "output_type": "stream",
     "text": [
      "6.2599244\n",
      "0.2562812444509369\n"
     ]
    },
    {
     "name": "stderr",
     "output_type": "stream",
     "text": [
      "\r",
      "Training with LBFGS:  59%|█████▉    | 589/1000 [5:49:05<4:02:21, 35.38s/it]"
     ]
    },
    {
     "name": "stdout",
     "output_type": "stream",
     "text": [
      "6.2842164\n",
      "0.2562812444509369\n"
     ]
    },
    {
     "name": "stderr",
     "output_type": "stream",
     "text": [
      "\r",
      "Training with LBFGS:  59%|█████▉    | 590/1000 [5:49:40<4:01:45, 35.38s/it]"
     ]
    },
    {
     "name": "stdout",
     "output_type": "stream",
     "text": [
      "6.164487\n",
      "0.2562812444509369\n"
     ]
    },
    {
     "name": "stderr",
     "output_type": "stream",
     "text": [
      "\r",
      "Training with LBFGS:  59%|█████▉    | 591/1000 [5:50:15<4:01:23, 35.41s/it]"
     ]
    },
    {
     "name": "stdout",
     "output_type": "stream",
     "text": [
      "6.361483\n",
      "0.2562812444509369\n"
     ]
    },
    {
     "name": "stderr",
     "output_type": "stream",
     "text": [
      "\r",
      "Training with LBFGS:  59%|█████▉    | 592/1000 [5:50:51<4:00:35, 35.38s/it]"
     ]
    },
    {
     "name": "stdout",
     "output_type": "stream",
     "text": [
      "6.3843064\n",
      "0.2562812444509369\n"
     ]
    },
    {
     "name": "stderr",
     "output_type": "stream",
     "text": [
      "\r",
      "Training with LBFGS:  59%|█████▉    | 593/1000 [5:51:26<3:59:52, 35.36s/it]"
     ]
    },
    {
     "name": "stdout",
     "output_type": "stream",
     "text": [
      "6.2591968\n",
      "0.2562812444509369\n"
     ]
    },
    {
     "name": "stderr",
     "output_type": "stream",
     "text": [
      "\r",
      "Training with LBFGS:  59%|█████▉    | 594/1000 [5:52:02<3:59:30, 35.40s/it]"
     ]
    },
    {
     "name": "stdout",
     "output_type": "stream",
     "text": [
      "6.2399693\n",
      "0.2562812444509369\n"
     ]
    },
    {
     "name": "stderr",
     "output_type": "stream",
     "text": [
      "\r",
      "Training with LBFGS:  60%|█████▉    | 595/1000 [5:52:37<3:59:16, 35.45s/it]"
     ]
    },
    {
     "name": "stdout",
     "output_type": "stream",
     "text": [
      "6.1620274\n",
      "0.2562812444509369\n"
     ]
    },
    {
     "name": "stderr",
     "output_type": "stream",
     "text": [
      "\r",
      "Training with LBFGS:  60%|█████▉    | 596/1000 [5:53:13<3:59:04, 35.51s/it]"
     ]
    },
    {
     "name": "stdout",
     "output_type": "stream",
     "text": [
      "6.349217\n",
      "0.2562812444509369\n"
     ]
    },
    {
     "name": "stderr",
     "output_type": "stream",
     "text": [
      "\r",
      "Training with LBFGS:  60%|█████▉    | 597/1000 [5:53:49<3:59:04, 35.59s/it]"
     ]
    },
    {
     "name": "stdout",
     "output_type": "stream",
     "text": [
      "6.3480673\n",
      "0.2562812444509369\n"
     ]
    },
    {
     "name": "stderr",
     "output_type": "stream",
     "text": [
      "\r",
      "Training with LBFGS:  60%|█████▉    | 598/1000 [5:54:24<3:57:47, 35.49s/it]"
     ]
    },
    {
     "name": "stdout",
     "output_type": "stream",
     "text": [
      "6.3195906\n",
      "0.2562812444509369\n"
     ]
    },
    {
     "name": "stderr",
     "output_type": "stream",
     "text": [
      "\r",
      "Training with LBFGS:  60%|█████▉    | 599/1000 [5:54:59<3:56:41, 35.42s/it]"
     ]
    },
    {
     "name": "stdout",
     "output_type": "stream",
     "text": [
      "6.3353624\n",
      "0.2562812444509369\n"
     ]
    },
    {
     "name": "stderr",
     "output_type": "stream",
     "text": [
      "\r",
      "Training with LBFGS:  60%|██████    | 600/1000 [5:55:34<3:55:52, 35.38s/it]"
     ]
    },
    {
     "name": "stdout",
     "output_type": "stream",
     "text": [
      "6.3207126\n",
      "0.2562812444509369\n"
     ]
    },
    {
     "name": "stderr",
     "output_type": "stream",
     "text": [
      "\r",
      "Training with LBFGS:  60%|██████    | 601/1000 [5:56:10<3:55:19, 35.39s/it]"
     ]
    },
    {
     "name": "stdout",
     "output_type": "stream",
     "text": [
      "6.3834662\n",
      "0.2562812444509369\n"
     ]
    },
    {
     "name": "stderr",
     "output_type": "stream",
     "text": [
      "\r",
      "Training with LBFGS:  60%|██████    | 602/1000 [5:56:46<3:55:35, 35.52s/it]"
     ]
    },
    {
     "name": "stdout",
     "output_type": "stream",
     "text": [
      "6.3618517\n",
      "0.2562812444509369\n"
     ]
    },
    {
     "name": "stderr",
     "output_type": "stream",
     "text": [
      "\r",
      "Training with LBFGS:  60%|██████    | 603/1000 [5:57:21<3:55:05, 35.53s/it]"
     ]
    },
    {
     "name": "stdout",
     "output_type": "stream",
     "text": [
      "6.3900123\n",
      "0.2562812444509369\n"
     ]
    },
    {
     "name": "stderr",
     "output_type": "stream",
     "text": [
      "\r",
      "Training with LBFGS:  60%|██████    | 604/1000 [5:57:57<3:54:12, 35.49s/it]"
     ]
    },
    {
     "name": "stdout",
     "output_type": "stream",
     "text": [
      "6.3403916\n",
      "0.2562812444509369\n"
     ]
    },
    {
     "name": "stderr",
     "output_type": "stream",
     "text": [
      "\r",
      "Training with LBFGS:  60%|██████    | 605/1000 [5:58:32<3:53:29, 35.47s/it]"
     ]
    },
    {
     "name": "stdout",
     "output_type": "stream",
     "text": [
      "6.425518\n",
      "0.2562812444509369\n"
     ]
    },
    {
     "name": "stderr",
     "output_type": "stream",
     "text": [
      "\r",
      "Training with LBFGS:  61%|██████    | 606/1000 [5:59:08<3:53:19, 35.53s/it]"
     ]
    },
    {
     "name": "stdout",
     "output_type": "stream",
     "text": [
      "6.3447685\n",
      "0.2562812444509369\n"
     ]
    },
    {
     "name": "stderr",
     "output_type": "stream",
     "text": [
      "\r",
      "Training with LBFGS:  61%|██████    | 607/1000 [5:59:44<3:53:25, 35.64s/it]"
     ]
    },
    {
     "name": "stdout",
     "output_type": "stream",
     "text": [
      "6.224956\n",
      "0.2562812444509369\n"
     ]
    },
    {
     "name": "stderr",
     "output_type": "stream",
     "text": [
      "\r",
      "Training with LBFGS:  61%|██████    | 608/1000 [6:00:20<3:53:39, 35.76s/it]"
     ]
    },
    {
     "name": "stdout",
     "output_type": "stream",
     "text": [
      "6.412763\n",
      "0.2562812444509369\n"
     ]
    },
    {
     "name": "stderr",
     "output_type": "stream",
     "text": [
      "\r",
      "Training with LBFGS:  61%|██████    | 609/1000 [6:00:55<3:52:05, 35.62s/it]"
     ]
    },
    {
     "name": "stdout",
     "output_type": "stream",
     "text": [
      "6.2713256\n",
      "0.2562812444509369\n"
     ]
    },
    {
     "name": "stderr",
     "output_type": "stream",
     "text": [
      "\r",
      "Training with LBFGS:  61%|██████    | 610/1000 [6:01:30<3:50:59, 35.54s/it]"
     ]
    },
    {
     "name": "stdout",
     "output_type": "stream",
     "text": [
      "6.494384\n",
      "0.2562812444509369\n"
     ]
    },
    {
     "name": "stderr",
     "output_type": "stream",
     "text": [
      "\r",
      "Training with LBFGS:  61%|██████    | 611/1000 [6:02:05<3:49:44, 35.44s/it]"
     ]
    },
    {
     "name": "stdout",
     "output_type": "stream",
     "text": [
      "6.280241\n",
      "0.2562812444509369\n"
     ]
    },
    {
     "name": "stderr",
     "output_type": "stream",
     "text": [
      "\r",
      "Training with LBFGS:  61%|██████    | 612/1000 [6:02:41<3:48:39, 35.36s/it]"
     ]
    },
    {
     "name": "stdout",
     "output_type": "stream",
     "text": [
      "6.3199706\n",
      "0.2562812444509369\n"
     ]
    },
    {
     "name": "stderr",
     "output_type": "stream",
     "text": [
      "\r",
      "Training with LBFGS:  61%|██████▏   | 613/1000 [6:03:16<3:47:46, 35.31s/it]"
     ]
    },
    {
     "name": "stdout",
     "output_type": "stream",
     "text": [
      "6.3195486\n",
      "0.2562812444509369\n"
     ]
    },
    {
     "name": "stderr",
     "output_type": "stream",
     "text": [
      "\r",
      "Training with LBFGS:  61%|██████▏   | 614/1000 [6:03:51<3:47:02, 35.29s/it]"
     ]
    },
    {
     "name": "stdout",
     "output_type": "stream",
     "text": [
      "6.284182\n",
      "0.2562812444509369\n"
     ]
    },
    {
     "name": "stderr",
     "output_type": "stream",
     "text": [
      "\r",
      "Training with LBFGS:  62%|██████▏   | 615/1000 [6:04:26<3:46:18, 35.27s/it]"
     ]
    },
    {
     "name": "stdout",
     "output_type": "stream",
     "text": [
      "6.3151593\n",
      "0.2562812444509369\n"
     ]
    },
    {
     "name": "stderr",
     "output_type": "stream",
     "text": [
      "\r",
      "Training with LBFGS:  62%|██████▏   | 616/1000 [6:05:02<3:45:48, 35.28s/it]"
     ]
    },
    {
     "name": "stdout",
     "output_type": "stream",
     "text": [
      "6.2586985\n",
      "0.2562812444509369\n"
     ]
    },
    {
     "name": "stderr",
     "output_type": "stream",
     "text": [
      "\r",
      "Training with LBFGS:  62%|██████▏   | 617/1000 [6:05:37<3:45:26, 35.32s/it]"
     ]
    },
    {
     "name": "stdout",
     "output_type": "stream",
     "text": [
      "6.2434177\n",
      "0.2562812444509369\n"
     ]
    },
    {
     "name": "stderr",
     "output_type": "stream",
     "text": [
      "\r",
      "Training with LBFGS:  62%|██████▏   | 618/1000 [6:06:12<3:44:58, 35.34s/it]"
     ]
    },
    {
     "name": "stdout",
     "output_type": "stream",
     "text": [
      "6.17369\n",
      "0.2562812444509369\n"
     ]
    },
    {
     "name": "stderr",
     "output_type": "stream",
     "text": [
      "\r",
      "Training with LBFGS:  62%|██████▏   | 619/1000 [6:06:48<3:44:29, 35.35s/it]"
     ]
    },
    {
     "name": "stdout",
     "output_type": "stream",
     "text": [
      "6.371707\n",
      "0.2562812444509369\n"
     ]
    },
    {
     "name": "stderr",
     "output_type": "stream",
     "text": [
      "\r",
      "Training with LBFGS:  62%|██████▏   | 620/1000 [6:07:23<3:43:56, 35.36s/it]"
     ]
    },
    {
     "name": "stdout",
     "output_type": "stream",
     "text": [
      "6.3424296\n",
      "0.2562812444509369\n"
     ]
    },
    {
     "name": "stderr",
     "output_type": "stream",
     "text": [
      "\r",
      "Training with LBFGS:  62%|██████▏   | 621/1000 [6:07:58<3:43:15, 35.34s/it]"
     ]
    },
    {
     "name": "stdout",
     "output_type": "stream",
     "text": [
      "6.3830886\n",
      "0.2562812444509369\n"
     ]
    },
    {
     "name": "stderr",
     "output_type": "stream",
     "text": [
      "\r",
      "Training with LBFGS:  62%|██████▏   | 622/1000 [6:08:34<3:42:41, 35.35s/it]"
     ]
    },
    {
     "name": "stdout",
     "output_type": "stream",
     "text": [
      "6.3237886\n",
      "0.2562812444509369\n"
     ]
    },
    {
     "name": "stderr",
     "output_type": "stream",
     "text": [
      "\r",
      "Training with LBFGS:  62%|██████▏   | 623/1000 [6:09:09<3:42:03, 35.34s/it]"
     ]
    },
    {
     "name": "stdout",
     "output_type": "stream",
     "text": [
      "6.4051533\n",
      "0.2562812444509369\n"
     ]
    },
    {
     "name": "stderr",
     "output_type": "stream",
     "text": [
      "\r",
      "Training with LBFGS:  62%|██████▏   | 624/1000 [6:09:44<3:41:13, 35.30s/it]"
     ]
    },
    {
     "name": "stdout",
     "output_type": "stream",
     "text": [
      "6.1605062\n",
      "0.2562812444509369\n"
     ]
    },
    {
     "name": "stderr",
     "output_type": "stream",
     "text": [
      "\r",
      "Training with LBFGS:  62%|██████▎   | 625/1000 [6:10:20<3:40:32, 35.29s/it]"
     ]
    },
    {
     "name": "stdout",
     "output_type": "stream",
     "text": [
      "6.3583894\n",
      "0.2562812444509369\n"
     ]
    },
    {
     "name": "stderr",
     "output_type": "stream",
     "text": [
      "\r",
      "Training with LBFGS:  63%|██████▎   | 626/1000 [6:10:55<3:39:52, 35.27s/it]"
     ]
    },
    {
     "name": "stdout",
     "output_type": "stream",
     "text": [
      "6.42493\n",
      "0.2562812444509369\n"
     ]
    },
    {
     "name": "stderr",
     "output_type": "stream",
     "text": [
      "\r",
      "Training with LBFGS:  63%|██████▎   | 627/1000 [6:11:30<3:39:05, 35.24s/it]"
     ]
    },
    {
     "name": "stdout",
     "output_type": "stream",
     "text": [
      "6.280233\n",
      "0.2562812444509369\n"
     ]
    },
    {
     "name": "stderr",
     "output_type": "stream",
     "text": [
      "\r",
      "Training with LBFGS:  63%|██████▎   | 628/1000 [6:12:05<3:38:27, 35.24s/it]"
     ]
    },
    {
     "name": "stdout",
     "output_type": "stream",
     "text": [
      "6.4222836\n",
      "0.2562812444509369\n"
     ]
    },
    {
     "name": "stderr",
     "output_type": "stream",
     "text": [
      "\r",
      "Training with LBFGS:  63%|██████▎   | 629/1000 [6:12:40<3:37:50, 35.23s/it]"
     ]
    },
    {
     "name": "stdout",
     "output_type": "stream",
     "text": [
      "6.354474\n",
      "0.2562812444509369\n"
     ]
    },
    {
     "name": "stderr",
     "output_type": "stream",
     "text": [
      "\r",
      "Training with LBFGS:  63%|██████▎   | 630/1000 [6:13:16<3:37:07, 35.21s/it]"
     ]
    },
    {
     "name": "stdout",
     "output_type": "stream",
     "text": [
      "6.3814507\n",
      "0.2562812444509369\n"
     ]
    },
    {
     "name": "stderr",
     "output_type": "stream",
     "text": [
      "\r",
      "Training with LBFGS:  63%|██████▎   | 631/1000 [6:13:51<3:36:29, 35.20s/it]"
     ]
    },
    {
     "name": "stdout",
     "output_type": "stream",
     "text": [
      "6.3331385\n",
      "0.2562812444509369\n"
     ]
    },
    {
     "name": "stderr",
     "output_type": "stream",
     "text": [
      "\r",
      "Training with LBFGS:  63%|██████▎   | 632/1000 [6:14:26<3:35:47, 35.18s/it]"
     ]
    },
    {
     "name": "stdout",
     "output_type": "stream",
     "text": [
      "6.3290634\n",
      "0.2562812444509369\n"
     ]
    },
    {
     "name": "stderr",
     "output_type": "stream",
     "text": [
      "\r",
      "Training with LBFGS:  63%|██████▎   | 633/1000 [6:15:01<3:35:16, 35.19s/it]"
     ]
    },
    {
     "name": "stdout",
     "output_type": "stream",
     "text": [
      "6.1871295\n",
      "0.2562812444509369\n"
     ]
    },
    {
     "name": "stderr",
     "output_type": "stream",
     "text": [
      "\r",
      "Training with LBFGS:  63%|██████▎   | 634/1000 [6:15:36<3:34:53, 35.23s/it]"
     ]
    },
    {
     "name": "stdout",
     "output_type": "stream",
     "text": [
      "6.269299\n",
      "0.2562812444509369\n"
     ]
    },
    {
     "name": "stderr",
     "output_type": "stream",
     "text": [
      "\r",
      "Training with LBFGS:  64%|██████▎   | 635/1000 [6:16:12<3:34:23, 35.24s/it]"
     ]
    },
    {
     "name": "stdout",
     "output_type": "stream",
     "text": [
      "6.2368736\n",
      "0.2562812444509369\n"
     ]
    },
    {
     "name": "stderr",
     "output_type": "stream",
     "text": [
      "\r",
      "Training with LBFGS:  64%|██████▎   | 636/1000 [6:16:47<3:33:58, 35.27s/it]"
     ]
    },
    {
     "name": "stdout",
     "output_type": "stream",
     "text": [
      "6.2916045\n",
      "0.2562812444509369\n"
     ]
    },
    {
     "name": "stderr",
     "output_type": "stream",
     "text": [
      "\r",
      "Training with LBFGS:  64%|██████▎   | 637/1000 [6:17:22<3:33:28, 35.29s/it]"
     ]
    },
    {
     "name": "stdout",
     "output_type": "stream",
     "text": [
      "6.2226944\n",
      "0.2562812444509369\n"
     ]
    },
    {
     "name": "stderr",
     "output_type": "stream",
     "text": [
      "\r",
      "Training with LBFGS:  64%|██████▍   | 638/1000 [6:17:58<3:32:54, 35.29s/it]"
     ]
    },
    {
     "name": "stdout",
     "output_type": "stream",
     "text": [
      "6.3398337\n",
      "0.2562812444509369\n"
     ]
    },
    {
     "name": "stderr",
     "output_type": "stream",
     "text": [
      "\r",
      "Training with LBFGS:  64%|██████▍   | 639/1000 [6:18:33<3:32:23, 35.30s/it]"
     ]
    },
    {
     "name": "stdout",
     "output_type": "stream",
     "text": [
      "6.348636\n",
      "0.2562812444509369\n"
     ]
    },
    {
     "name": "stderr",
     "output_type": "stream",
     "text": [
      "\r",
      "Training with LBFGS:  64%|██████▍   | 640/1000 [6:19:08<3:31:54, 35.32s/it]"
     ]
    },
    {
     "name": "stdout",
     "output_type": "stream",
     "text": [
      "6.2635064\n",
      "0.2562812444509369\n"
     ]
    },
    {
     "name": "stderr",
     "output_type": "stream",
     "text": [
      "\r",
      "Training with LBFGS:  64%|██████▍   | 641/1000 [6:19:44<3:31:20, 35.32s/it]"
     ]
    },
    {
     "name": "stdout",
     "output_type": "stream",
     "text": [
      "6.262851\n",
      "0.2562812444509369\n"
     ]
    },
    {
     "name": "stderr",
     "output_type": "stream",
     "text": [
      "\r",
      "Training with LBFGS:  64%|██████▍   | 642/1000 [6:20:19<3:30:33, 35.29s/it]"
     ]
    },
    {
     "name": "stdout",
     "output_type": "stream",
     "text": [
      "6.4207935\n",
      "0.2562812444509369\n"
     ]
    },
    {
     "name": "stderr",
     "output_type": "stream",
     "text": [
      "\r",
      "Training with LBFGS:  64%|██████▍   | 643/1000 [6:20:54<3:29:55, 35.28s/it]"
     ]
    },
    {
     "name": "stdout",
     "output_type": "stream",
     "text": [
      "6.2754\n",
      "0.2562812444509369\n"
     ]
    },
    {
     "name": "stderr",
     "output_type": "stream",
     "text": [
      "\r",
      "Training with LBFGS:  64%|██████▍   | 644/1000 [6:21:29<3:29:17, 35.27s/it]"
     ]
    },
    {
     "name": "stdout",
     "output_type": "stream",
     "text": [
      "6.3934455\n",
      "0.2562812444509369\n"
     ]
    },
    {
     "name": "stderr",
     "output_type": "stream",
     "text": [
      "\r",
      "Training with LBFGS:  64%|██████▍   | 645/1000 [6:22:05<3:28:30, 35.24s/it]"
     ]
    },
    {
     "name": "stdout",
     "output_type": "stream",
     "text": [
      "6.231757\n",
      "0.2562812444509369\n"
     ]
    },
    {
     "name": "stderr",
     "output_type": "stream",
     "text": [
      "\r",
      "Training with LBFGS:  65%|██████▍   | 646/1000 [6:22:40<3:27:57, 35.25s/it]"
     ]
    },
    {
     "name": "stdout",
     "output_type": "stream",
     "text": [
      "6.2515492\n",
      "0.2562812444509369\n"
     ]
    },
    {
     "name": "stderr",
     "output_type": "stream",
     "text": [
      "\r",
      "Training with LBFGS:  65%|██████▍   | 647/1000 [6:23:15<3:27:13, 35.22s/it]"
     ]
    },
    {
     "name": "stdout",
     "output_type": "stream",
     "text": [
      "6.3440557\n",
      "0.2562812444509369\n"
     ]
    },
    {
     "name": "stderr",
     "output_type": "stream",
     "text": [
      "\r",
      "Training with LBFGS:  65%|██████▍   | 648/1000 [6:23:50<3:26:35, 35.21s/it]"
     ]
    },
    {
     "name": "stdout",
     "output_type": "stream",
     "text": [
      "6.2554493\n",
      "0.2562812444509369\n"
     ]
    },
    {
     "name": "stderr",
     "output_type": "stream",
     "text": [
      "\r",
      "Training with LBFGS:  65%|██████▍   | 649/1000 [6:24:25<3:25:51, 35.19s/it]"
     ]
    },
    {
     "name": "stdout",
     "output_type": "stream",
     "text": [
      "6.304248\n",
      "0.2562812444509369\n"
     ]
    },
    {
     "name": "stderr",
     "output_type": "stream",
     "text": [
      "\r",
      "Training with LBFGS:  65%|██████▌   | 650/1000 [6:25:01<3:25:22, 35.21s/it]"
     ]
    },
    {
     "name": "stdout",
     "output_type": "stream",
     "text": [
      "6.338271\n",
      "0.2562812444509369\n"
     ]
    },
    {
     "name": "stderr",
     "output_type": "stream",
     "text": [
      "\r",
      "Training with LBFGS:  65%|██████▌   | 651/1000 [6:25:36<3:24:49, 35.21s/it]"
     ]
    },
    {
     "name": "stdout",
     "output_type": "stream",
     "text": [
      "6.3226557\n",
      "0.2562812444509369\n"
     ]
    },
    {
     "name": "stderr",
     "output_type": "stream",
     "text": [
      "\r",
      "Training with LBFGS:  65%|██████▌   | 652/1000 [6:26:11<3:24:23, 35.24s/it]"
     ]
    },
    {
     "name": "stdout",
     "output_type": "stream",
     "text": [
      "6.3205986\n",
      "0.2562812444509369\n"
     ]
    },
    {
     "name": "stderr",
     "output_type": "stream",
     "text": [
      "\r",
      "Training with LBFGS:  65%|██████▌   | 653/1000 [6:26:46<3:24:00, 35.28s/it]"
     ]
    },
    {
     "name": "stdout",
     "output_type": "stream",
     "text": [
      "6.3584666\n",
      "0.2562812444509369\n"
     ]
    },
    {
     "name": "stderr",
     "output_type": "stream",
     "text": [
      "\r",
      "Training with LBFGS:  65%|██████▌   | 654/1000 [6:27:22<3:23:30, 35.29s/it]"
     ]
    },
    {
     "name": "stdout",
     "output_type": "stream",
     "text": [
      "6.213727\n",
      "0.2562812444509369\n"
     ]
    },
    {
     "name": "stderr",
     "output_type": "stream",
     "text": [
      "\r",
      "Training with LBFGS:  66%|██████▌   | 655/1000 [6:27:57<3:22:59, 35.30s/it]"
     ]
    },
    {
     "name": "stdout",
     "output_type": "stream",
     "text": [
      "6.3917685\n",
      "0.2562812444509369\n"
     ]
    },
    {
     "name": "stderr",
     "output_type": "stream",
     "text": [
      "\r",
      "Training with LBFGS:  66%|██████▌   | 656/1000 [6:28:32<3:22:23, 35.30s/it]"
     ]
    },
    {
     "name": "stdout",
     "output_type": "stream",
     "text": [
      "6.4867163\n",
      "0.2562812444509369\n"
     ]
    },
    {
     "name": "stderr",
     "output_type": "stream",
     "text": [
      "\r",
      "Training with LBFGS:  66%|██████▌   | 657/1000 [6:29:08<3:21:53, 35.32s/it]"
     ]
    },
    {
     "name": "stdout",
     "output_type": "stream",
     "text": [
      "6.327383\n",
      "0.2562812444509369\n"
     ]
    },
    {
     "name": "stderr",
     "output_type": "stream",
     "text": [
      "\r",
      "Training with LBFGS:  66%|██████▌   | 658/1000 [6:29:43<3:21:15, 35.31s/it]"
     ]
    },
    {
     "name": "stdout",
     "output_type": "stream",
     "text": [
      "6.371701\n",
      "0.2562812444509369\n"
     ]
    },
    {
     "name": "stderr",
     "output_type": "stream",
     "text": [
      "\r",
      "Training with LBFGS:  66%|██████▌   | 659/1000 [6:30:18<3:20:30, 35.28s/it]"
     ]
    },
    {
     "name": "stdout",
     "output_type": "stream",
     "text": [
      "6.1165137\n",
      "0.2562812444509369\n"
     ]
    },
    {
     "name": "stderr",
     "output_type": "stream",
     "text": [
      "\r",
      "Training with LBFGS:  66%|██████▌   | 660/1000 [6:30:54<3:19:51, 35.27s/it]"
     ]
    },
    {
     "name": "stdout",
     "output_type": "stream",
     "text": [
      "6.2987514\n",
      "0.2562812444509369\n"
     ]
    },
    {
     "name": "stderr",
     "output_type": "stream",
     "text": [
      "\r",
      "Training with LBFGS:  66%|██████▌   | 661/1000 [6:31:29<3:19:12, 35.26s/it]"
     ]
    },
    {
     "name": "stdout",
     "output_type": "stream",
     "text": [
      "6.371375\n",
      "0.2562812444509369\n"
     ]
    },
    {
     "name": "stderr",
     "output_type": "stream",
     "text": [
      "\r",
      "Training with LBFGS:  66%|██████▌   | 662/1000 [6:32:04<3:18:35, 35.25s/it]"
     ]
    },
    {
     "name": "stdout",
     "output_type": "stream",
     "text": [
      "6.2248116\n",
      "0.2562812444509369\n"
     ]
    },
    {
     "name": "stderr",
     "output_type": "stream",
     "text": [
      "\r",
      "Training with LBFGS:  66%|██████▋   | 663/1000 [6:32:39<3:17:46, 35.21s/it]"
     ]
    },
    {
     "name": "stdout",
     "output_type": "stream",
     "text": [
      "6.3559628\n",
      "0.2562812444509369\n"
     ]
    },
    {
     "name": "stderr",
     "output_type": "stream",
     "text": [
      "\r",
      "Training with LBFGS:  66%|██████▋   | 664/1000 [6:33:14<3:17:05, 35.19s/it]"
     ]
    },
    {
     "name": "stdout",
     "output_type": "stream",
     "text": [
      "6.347318\n",
      "0.2562812444509369\n"
     ]
    },
    {
     "name": "stderr",
     "output_type": "stream",
     "text": [
      "\r",
      "Training with LBFGS:  66%|██████▋   | 665/1000 [6:33:50<3:16:36, 35.21s/it]"
     ]
    },
    {
     "name": "stdout",
     "output_type": "stream",
     "text": [
      "6.2756653\n",
      "0.2562812444509369\n"
     ]
    },
    {
     "name": "stderr",
     "output_type": "stream",
     "text": [
      "\r",
      "Training with LBFGS:  67%|██████▋   | 666/1000 [6:34:25<3:15:53, 35.19s/it]"
     ]
    },
    {
     "name": "stdout",
     "output_type": "stream",
     "text": [
      "6.243636\n",
      "0.2562812444509369\n"
     ]
    },
    {
     "name": "stderr",
     "output_type": "stream",
     "text": [
      "\r",
      "Training with LBFGS:  67%|██████▋   | 667/1000 [6:35:00<3:15:19, 35.19s/it]"
     ]
    },
    {
     "name": "stdout",
     "output_type": "stream",
     "text": [
      "6.344211\n",
      "0.2562812444509369\n"
     ]
    },
    {
     "name": "stderr",
     "output_type": "stream",
     "text": [
      "\r",
      "Training with LBFGS:  67%|██████▋   | 668/1000 [6:35:35<3:14:53, 35.22s/it]"
     ]
    },
    {
     "name": "stdout",
     "output_type": "stream",
     "text": [
      "6.2880244\n",
      "0.2562812444509369\n"
     ]
    },
    {
     "name": "stderr",
     "output_type": "stream",
     "text": [
      "\r",
      "Training with LBFGS:  67%|██████▋   | 669/1000 [6:36:10<3:14:28, 35.25s/it]"
     ]
    },
    {
     "name": "stdout",
     "output_type": "stream",
     "text": [
      "6.408179\n",
      "0.2562812444509369\n"
     ]
    },
    {
     "name": "stderr",
     "output_type": "stream",
     "text": [
      "\r",
      "Training with LBFGS:  67%|██████▋   | 670/1000 [6:36:46<3:13:58, 35.27s/it]"
     ]
    },
    {
     "name": "stdout",
     "output_type": "stream",
     "text": [
      "6.2579126\n",
      "0.2562812444509369\n"
     ]
    },
    {
     "name": "stderr",
     "output_type": "stream",
     "text": [
      "\r",
      "Training with LBFGS:  67%|██████▋   | 671/1000 [6:37:21<3:13:26, 35.28s/it]"
     ]
    },
    {
     "name": "stdout",
     "output_type": "stream",
     "text": [
      "6.3406825\n",
      "0.2562812444509369\n"
     ]
    },
    {
     "name": "stderr",
     "output_type": "stream",
     "text": [
      "\r",
      "Training with LBFGS:  67%|██████▋   | 672/1000 [6:37:56<3:12:52, 35.28s/it]"
     ]
    },
    {
     "name": "stdout",
     "output_type": "stream",
     "text": [
      "6.2233114\n",
      "0.2562812444509369\n"
     ]
    },
    {
     "name": "stderr",
     "output_type": "stream",
     "text": [
      "\r",
      "Training with LBFGS:  67%|██████▋   | 673/1000 [6:38:32<3:12:08, 35.26s/it]"
     ]
    },
    {
     "name": "stdout",
     "output_type": "stream",
     "text": [
      "6.3968945\n",
      "0.2562812444509369\n"
     ]
    },
    {
     "name": "stderr",
     "output_type": "stream",
     "text": [
      "\r",
      "Training with LBFGS:  67%|██████▋   | 674/1000 [6:39:07<3:11:28, 35.24s/it]"
     ]
    },
    {
     "name": "stdout",
     "output_type": "stream",
     "text": [
      "6.245546\n",
      "0.2562812444509369\n"
     ]
    },
    {
     "name": "stderr",
     "output_type": "stream",
     "text": [
      "\r",
      "Training with LBFGS:  68%|██████▊   | 675/1000 [6:39:42<3:10:59, 35.26s/it]"
     ]
    },
    {
     "name": "stdout",
     "output_type": "stream",
     "text": [
      "6.1693835\n",
      "0.2562812444509369\n"
     ]
    },
    {
     "name": "stderr",
     "output_type": "stream",
     "text": [
      "\r",
      "Training with LBFGS:  68%|██████▊   | 676/1000 [6:40:17<3:10:27, 35.27s/it]"
     ]
    },
    {
     "name": "stdout",
     "output_type": "stream",
     "text": [
      "6.3417954\n",
      "0.2562812444509369\n"
     ]
    },
    {
     "name": "stderr",
     "output_type": "stream",
     "text": [
      "\r",
      "Training with LBFGS:  68%|██████▊   | 677/1000 [6:40:53<3:09:48, 35.26s/it]"
     ]
    },
    {
     "name": "stdout",
     "output_type": "stream",
     "text": [
      "6.4797306\n",
      "0.2562812444509369\n"
     ]
    },
    {
     "name": "stderr",
     "output_type": "stream",
     "text": [
      "\r",
      "Training with LBFGS:  68%|██████▊   | 678/1000 [6:41:28<3:09:08, 35.24s/it]"
     ]
    },
    {
     "name": "stdout",
     "output_type": "stream",
     "text": [
      "6.2014394\n",
      "0.2562812444509369\n"
     ]
    },
    {
     "name": "stderr",
     "output_type": "stream",
     "text": [
      "\r",
      "Training with LBFGS:  68%|██████▊   | 679/1000 [6:42:03<3:08:32, 35.24s/it]"
     ]
    },
    {
     "name": "stdout",
     "output_type": "stream",
     "text": [
      "6.3582187\n",
      "0.2562812444509369\n"
     ]
    },
    {
     "name": "stderr",
     "output_type": "stream",
     "text": [
      "\r",
      "Training with LBFGS:  68%|██████▊   | 680/1000 [6:42:38<3:07:48, 35.21s/it]"
     ]
    },
    {
     "name": "stdout",
     "output_type": "stream",
     "text": [
      "6.281569\n",
      "0.2562812444509369\n"
     ]
    },
    {
     "name": "stderr",
     "output_type": "stream",
     "text": [
      "\r",
      "Training with LBFGS:  68%|██████▊   | 681/1000 [6:43:13<3:07:07, 35.20s/it]"
     ]
    },
    {
     "name": "stdout",
     "output_type": "stream",
     "text": [
      "6.2166185\n",
      "0.2562812444509369\n"
     ]
    },
    {
     "name": "stderr",
     "output_type": "stream",
     "text": [
      "\r",
      "Training with LBFGS:  68%|██████▊   | 682/1000 [6:43:48<3:06:25, 35.17s/it]"
     ]
    },
    {
     "name": "stdout",
     "output_type": "stream",
     "text": [
      "6.3513927\n",
      "0.2562812444509369\n"
     ]
    },
    {
     "name": "stderr",
     "output_type": "stream",
     "text": [
      "\r",
      "Training with LBFGS:  68%|██████▊   | 683/1000 [6:44:24<3:05:49, 35.17s/it]"
     ]
    },
    {
     "name": "stdout",
     "output_type": "stream",
     "text": [
      "6.3689256\n",
      "0.2562812444509369\n"
     ]
    },
    {
     "name": "stderr",
     "output_type": "stream",
     "text": [
      "\r",
      "Training with LBFGS:  68%|██████▊   | 684/1000 [6:44:59<3:05:21, 35.19s/it]"
     ]
    },
    {
     "name": "stdout",
     "output_type": "stream",
     "text": [
      "6.197239\n",
      "0.2562812444509369\n"
     ]
    },
    {
     "name": "stderr",
     "output_type": "stream",
     "text": [
      "\r",
      "Training with LBFGS:  68%|██████▊   | 685/1000 [6:45:34<3:04:49, 35.20s/it]"
     ]
    },
    {
     "name": "stdout",
     "output_type": "stream",
     "text": [
      "6.328301\n",
      "0.2562812444509369\n"
     ]
    },
    {
     "name": "stderr",
     "output_type": "stream",
     "text": [
      "\r",
      "Training with LBFGS:  69%|██████▊   | 686/1000 [6:46:10<3:04:32, 35.26s/it]"
     ]
    },
    {
     "name": "stdout",
     "output_type": "stream",
     "text": [
      "6.349525\n",
      "0.2562812444509369\n"
     ]
    },
    {
     "name": "stderr",
     "output_type": "stream",
     "text": [
      "\r",
      "Training with LBFGS:  69%|██████▊   | 687/1000 [6:46:45<3:04:00, 35.27s/it]"
     ]
    },
    {
     "name": "stdout",
     "output_type": "stream",
     "text": [
      "6.2686076\n",
      "0.2562812444509369\n"
     ]
    },
    {
     "name": "stderr",
     "output_type": "stream",
     "text": [
      "\r",
      "Training with LBFGS:  69%|██████▉   | 688/1000 [6:47:20<3:03:33, 35.30s/it]"
     ]
    },
    {
     "name": "stdout",
     "output_type": "stream",
     "text": [
      "6.298964\n",
      "0.2562812444509369\n"
     ]
    },
    {
     "name": "stderr",
     "output_type": "stream",
     "text": [
      "\r",
      "Training with LBFGS:  69%|██████▉   | 689/1000 [6:47:55<3:02:59, 35.30s/it]"
     ]
    },
    {
     "name": "stdout",
     "output_type": "stream",
     "text": [
      "6.284104\n",
      "0.2562812444509369\n"
     ]
    },
    {
     "name": "stderr",
     "output_type": "stream",
     "text": [
      "\r",
      "Training with LBFGS:  69%|██████▉   | 690/1000 [6:48:31<3:02:29, 35.32s/it]"
     ]
    },
    {
     "name": "stdout",
     "output_type": "stream",
     "text": [
      "6.375857\n",
      "0.2562812444509369\n"
     ]
    },
    {
     "name": "stderr",
     "output_type": "stream",
     "text": [
      "\r",
      "Training with LBFGS:  69%|██████▉   | 691/1000 [6:49:06<3:02:02, 35.35s/it]"
     ]
    },
    {
     "name": "stdout",
     "output_type": "stream",
     "text": [
      "6.357548\n",
      "0.2562812444509369\n"
     ]
    },
    {
     "name": "stderr",
     "output_type": "stream",
     "text": [
      "\r",
      "Training with LBFGS:  69%|██████▉   | 692/1000 [6:49:42<3:01:25, 35.34s/it]"
     ]
    },
    {
     "name": "stdout",
     "output_type": "stream",
     "text": [
      "6.293834\n",
      "0.2562812444509369\n"
     ]
    },
    {
     "name": "stderr",
     "output_type": "stream",
     "text": [
      "\r",
      "Training with LBFGS:  69%|██████▉   | 693/1000 [6:50:17<3:00:44, 35.32s/it]"
     ]
    },
    {
     "name": "stdout",
     "output_type": "stream",
     "text": [
      "6.247448\n",
      "0.2562812444509369\n"
     ]
    },
    {
     "name": "stderr",
     "output_type": "stream",
     "text": [
      "\r",
      "Training with LBFGS:  69%|██████▉   | 694/1000 [6:50:52<3:00:02, 35.30s/it]"
     ]
    },
    {
     "name": "stdout",
     "output_type": "stream",
     "text": [
      "6.350153\n",
      "0.2562812444509369\n"
     ]
    },
    {
     "name": "stderr",
     "output_type": "stream",
     "text": [
      "\r",
      "Training with LBFGS:  70%|██████▉   | 695/1000 [6:51:27<2:59:22, 35.29s/it]"
     ]
    },
    {
     "name": "stdout",
     "output_type": "stream",
     "text": [
      "6.3218703\n",
      "0.2562812444509369\n"
     ]
    },
    {
     "name": "stderr",
     "output_type": "stream",
     "text": [
      "\r",
      "Training with LBFGS:  70%|██████▉   | 696/1000 [6:52:03<2:58:46, 35.28s/it]"
     ]
    },
    {
     "name": "stdout",
     "output_type": "stream",
     "text": [
      "6.39291\n",
      "0.2562812444509369\n"
     ]
    },
    {
     "name": "stderr",
     "output_type": "stream",
     "text": [
      "\r",
      "Training with LBFGS:  70%|██████▉   | 697/1000 [6:52:38<2:57:59, 35.25s/it]"
     ]
    },
    {
     "name": "stdout",
     "output_type": "stream",
     "text": [
      "6.3733916\n",
      "0.2562812444509369\n"
     ]
    },
    {
     "name": "stderr",
     "output_type": "stream",
     "text": [
      "\r",
      "Training with LBFGS:  70%|██████▉   | 698/1000 [6:53:13<2:57:23, 35.24s/it]"
     ]
    },
    {
     "name": "stdout",
     "output_type": "stream",
     "text": [
      "6.246017\n",
      "0.2562812444509369\n"
     ]
    },
    {
     "name": "stderr",
     "output_type": "stream",
     "text": [
      "\r",
      "Training with LBFGS:  70%|██████▉   | 699/1000 [6:53:48<2:56:46, 35.24s/it]"
     ]
    },
    {
     "name": "stdout",
     "output_type": "stream",
     "text": [
      "6.348293\n",
      "0.2562812444509369\n"
     ]
    },
    {
     "name": "stderr",
     "output_type": "stream",
     "text": [
      "\r",
      "Training with LBFGS:  70%|███████   | 700/1000 [6:54:24<2:56:11, 35.24s/it]"
     ]
    },
    {
     "name": "stdout",
     "output_type": "stream",
     "text": [
      "6.309524\n",
      "0.2562812444509369\n"
     ]
    },
    {
     "name": "stderr",
     "output_type": "stream",
     "text": [
      "\r",
      "Training with LBFGS:  70%|███████   | 701/1000 [6:54:59<2:55:36, 35.24s/it]"
     ]
    },
    {
     "name": "stdout",
     "output_type": "stream",
     "text": [
      "6.3292503\n",
      "0.2562812444509369\n"
     ]
    },
    {
     "name": "stderr",
     "output_type": "stream",
     "text": [
      "\r",
      "Training with LBFGS:  70%|███████   | 702/1000 [6:55:34<2:55:07, 35.26s/it]"
     ]
    },
    {
     "name": "stdout",
     "output_type": "stream",
     "text": [
      "6.3515844\n",
      "0.2562812444509369\n"
     ]
    },
    {
     "name": "stderr",
     "output_type": "stream",
     "text": [
      "\r",
      "Training with LBFGS:  70%|███████   | 703/1000 [6:56:09<2:54:45, 35.31s/it]"
     ]
    },
    {
     "name": "stdout",
     "output_type": "stream",
     "text": [
      "6.3842616\n",
      "0.2562812444509369\n"
     ]
    },
    {
     "name": "stderr",
     "output_type": "stream",
     "text": [
      "\r",
      "Training with LBFGS:  70%|███████   | 704/1000 [6:56:45<2:54:21, 35.34s/it]"
     ]
    },
    {
     "name": "stdout",
     "output_type": "stream",
     "text": [
      "6.4028606\n",
      "0.2562812444509369\n"
     ]
    },
    {
     "name": "stderr",
     "output_type": "stream",
     "text": [
      "\r",
      "Training with LBFGS:  70%|███████   | 705/1000 [6:57:20<2:53:50, 35.36s/it]"
     ]
    },
    {
     "name": "stdout",
     "output_type": "stream",
     "text": [
      "6.333158\n",
      "0.2562812444509369\n"
     ]
    },
    {
     "name": "stderr",
     "output_type": "stream",
     "text": [
      "\r",
      "Training with LBFGS:  71%|███████   | 706/1000 [6:57:56<2:53:16, 35.36s/it]"
     ]
    },
    {
     "name": "stdout",
     "output_type": "stream",
     "text": [
      "6.196657\n",
      "0.2562812444509369\n"
     ]
    },
    {
     "name": "stderr",
     "output_type": "stream",
     "text": [
      "\r",
      "Training with LBFGS:  71%|███████   | 707/1000 [6:58:31<2:52:35, 35.34s/it]"
     ]
    },
    {
     "name": "stdout",
     "output_type": "stream",
     "text": [
      "6.259156\n",
      "0.2562812444509369\n"
     ]
    },
    {
     "name": "stderr",
     "output_type": "stream",
     "text": [
      "\r",
      "Training with LBFGS:  71%|███████   | 708/1000 [6:59:06<2:51:51, 35.31s/it]"
     ]
    },
    {
     "name": "stdout",
     "output_type": "stream",
     "text": [
      "6.276794\n",
      "0.2562812444509369\n"
     ]
    },
    {
     "name": "stderr",
     "output_type": "stream",
     "text": [
      "\r",
      "Training with LBFGS:  71%|███████   | 709/1000 [6:59:42<2:51:18, 35.32s/it]"
     ]
    },
    {
     "name": "stdout",
     "output_type": "stream",
     "text": [
      "6.226098\n",
      "0.2562812444509369\n"
     ]
    },
    {
     "name": "stderr",
     "output_type": "stream",
     "text": [
      "\r",
      "Training with LBFGS:  71%|███████   | 710/1000 [7:00:17<2:50:41, 35.31s/it]"
     ]
    },
    {
     "name": "stdout",
     "output_type": "stream",
     "text": [
      "6.3972955\n",
      "0.2562812444509369\n"
     ]
    },
    {
     "name": "stderr",
     "output_type": "stream",
     "text": [
      "\r",
      "Training with LBFGS:  71%|███████   | 711/1000 [7:00:52<2:50:04, 35.31s/it]"
     ]
    },
    {
     "name": "stdout",
     "output_type": "stream",
     "text": [
      "6.1579647\n",
      "0.2562812444509369\n"
     ]
    },
    {
     "name": "stderr",
     "output_type": "stream",
     "text": [
      "\r",
      "Training with LBFGS:  71%|███████   | 712/1000 [7:01:27<2:49:22, 35.29s/it]"
     ]
    },
    {
     "name": "stdout",
     "output_type": "stream",
     "text": [
      "6.3533826\n",
      "0.2562812444509369\n"
     ]
    },
    {
     "name": "stderr",
     "output_type": "stream",
     "text": [
      "\r",
      "Training with LBFGS:  71%|███████▏  | 713/1000 [7:02:03<2:48:44, 35.28s/it]"
     ]
    },
    {
     "name": "stdout",
     "output_type": "stream",
     "text": [
      "6.235408\n",
      "0.2562812444509369\n"
     ]
    },
    {
     "name": "stderr",
     "output_type": "stream",
     "text": [
      "\r",
      "Training with LBFGS:  71%|███████▏  | 714/1000 [7:02:38<2:48:05, 35.27s/it]"
     ]
    },
    {
     "name": "stdout",
     "output_type": "stream",
     "text": [
      "6.0899725\n",
      "0.2562812444509369\n"
     ]
    },
    {
     "name": "stderr",
     "output_type": "stream",
     "text": [
      "\r",
      "Training with LBFGS:  72%|███████▏  | 715/1000 [7:03:13<2:47:29, 35.26s/it]"
     ]
    },
    {
     "name": "stdout",
     "output_type": "stream",
     "text": [
      "6.260292\n",
      "0.2562812444509369\n"
     ]
    },
    {
     "name": "stderr",
     "output_type": "stream",
     "text": [
      "\r",
      "Training with LBFGS:  72%|███████▏  | 716/1000 [7:03:48<2:46:51, 35.25s/it]"
     ]
    },
    {
     "name": "stdout",
     "output_type": "stream",
     "text": [
      "6.3849144\n",
      "0.2562812444509369\n"
     ]
    },
    {
     "name": "stderr",
     "output_type": "stream",
     "text": [
      "\r",
      "Training with LBFGS:  72%|███████▏  | 717/1000 [7:04:24<2:46:14, 35.24s/it]"
     ]
    },
    {
     "name": "stdout",
     "output_type": "stream",
     "text": [
      "6.215642\n",
      "0.2562812444509369\n"
     ]
    },
    {
     "name": "stderr",
     "output_type": "stream",
     "text": [
      "\r",
      "Training with LBFGS:  72%|███████▏  | 718/1000 [7:04:59<2:45:36, 35.24s/it]"
     ]
    },
    {
     "name": "stdout",
     "output_type": "stream",
     "text": [
      "6.251136\n",
      "0.2562812444509369\n"
     ]
    },
    {
     "name": "stderr",
     "output_type": "stream",
     "text": [
      "\r",
      "Training with LBFGS:  72%|███████▏  | 719/1000 [7:05:34<2:45:05, 35.25s/it]"
     ]
    },
    {
     "name": "stdout",
     "output_type": "stream",
     "text": [
      "6.414857\n",
      "0.2562812444509369\n"
     ]
    },
    {
     "name": "stderr",
     "output_type": "stream",
     "text": [
      "\r",
      "Training with LBFGS:  72%|███████▏  | 720/1000 [7:06:09<2:44:40, 35.29s/it]"
     ]
    },
    {
     "name": "stdout",
     "output_type": "stream",
     "text": [
      "6.2828727\n",
      "0.2562812444509369\n"
     ]
    },
    {
     "name": "stderr",
     "output_type": "stream",
     "text": [
      "\r",
      "Training with LBFGS:  72%|███████▏  | 721/1000 [7:06:45<2:44:15, 35.32s/it]"
     ]
    },
    {
     "name": "stdout",
     "output_type": "stream",
     "text": [
      "6.2883983\n",
      "0.2562812444509369\n"
     ]
    },
    {
     "name": "stderr",
     "output_type": "stream",
     "text": [
      "\r",
      "Training with LBFGS:  72%|███████▏  | 722/1000 [7:07:20<2:43:46, 35.35s/it]"
     ]
    },
    {
     "name": "stdout",
     "output_type": "stream",
     "text": [
      "6.252438\n",
      "0.2562812444509369\n"
     ]
    },
    {
     "name": "stderr",
     "output_type": "stream",
     "text": [
      "\r",
      "Training with LBFGS:  72%|███████▏  | 723/1000 [7:07:56<2:43:14, 35.36s/it]"
     ]
    },
    {
     "name": "stdout",
     "output_type": "stream",
     "text": [
      "6.4808135\n",
      "0.2562812444509369\n"
     ]
    },
    {
     "name": "stderr",
     "output_type": "stream",
     "text": [
      "\r",
      "Training with LBFGS:  72%|███████▏  | 724/1000 [7:08:31<2:42:41, 35.37s/it]"
     ]
    },
    {
     "name": "stdout",
     "output_type": "stream",
     "text": [
      "6.285172\n",
      "0.2562812444509369\n"
     ]
    },
    {
     "name": "stderr",
     "output_type": "stream",
     "text": [
      "\r",
      "Training with LBFGS:  72%|███████▎  | 725/1000 [7:09:06<2:42:00, 35.35s/it]"
     ]
    },
    {
     "name": "stdout",
     "output_type": "stream",
     "text": [
      "6.248425\n",
      "0.2562812444509369\n"
     ]
    },
    {
     "name": "stderr",
     "output_type": "stream",
     "text": [
      "\r",
      "Training with LBFGS:  73%|███████▎  | 726/1000 [7:09:42<2:41:16, 35.32s/it]"
     ]
    },
    {
     "name": "stdout",
     "output_type": "stream",
     "text": [
      "6.2373657\n",
      "0.2562812444509369\n"
     ]
    },
    {
     "name": "stderr",
     "output_type": "stream",
     "text": [
      "\r",
      "Training with LBFGS:  73%|███████▎  | 727/1000 [7:10:17<2:40:37, 35.30s/it]"
     ]
    },
    {
     "name": "stdout",
     "output_type": "stream",
     "text": [
      "6.2970767\n",
      "0.2562812444509369\n"
     ]
    },
    {
     "name": "stderr",
     "output_type": "stream",
     "text": [
      "\r",
      "Training with LBFGS:  73%|███████▎  | 728/1000 [7:10:52<2:40:04, 35.31s/it]"
     ]
    },
    {
     "name": "stdout",
     "output_type": "stream",
     "text": [
      "6.3250594\n",
      "0.2562812444509369\n"
     ]
    },
    {
     "name": "stderr",
     "output_type": "stream",
     "text": [
      "\r",
      "Training with LBFGS:  73%|███████▎  | 729/1000 [7:11:27<2:39:28, 35.31s/it]"
     ]
    },
    {
     "name": "stdout",
     "output_type": "stream",
     "text": [
      "6.2885194\n",
      "0.2562812444509369\n"
     ]
    },
    {
     "name": "stderr",
     "output_type": "stream",
     "text": [
      "\r",
      "Training with LBFGS:  73%|███████▎  | 730/1000 [7:12:03<2:38:45, 35.28s/it]"
     ]
    },
    {
     "name": "stdout",
     "output_type": "stream",
     "text": [
      "6.263961\n",
      "0.2562812444509369\n"
     ]
    },
    {
     "name": "stderr",
     "output_type": "stream",
     "text": [
      "\r",
      "Training with LBFGS:  73%|███████▎  | 731/1000 [7:12:38<2:38:05, 35.26s/it]"
     ]
    },
    {
     "name": "stdout",
     "output_type": "stream",
     "text": [
      "6.2866178\n",
      "0.2562812444509369\n"
     ]
    },
    {
     "name": "stderr",
     "output_type": "stream",
     "text": [
      "\r",
      "Training with LBFGS:  73%|███████▎  | 732/1000 [7:13:13<2:37:24, 35.24s/it]"
     ]
    },
    {
     "name": "stdout",
     "output_type": "stream",
     "text": [
      "6.408932\n",
      "0.2562812444509369\n"
     ]
    },
    {
     "name": "stderr",
     "output_type": "stream",
     "text": [
      "\r",
      "Training with LBFGS:  73%|███████▎  | 733/1000 [7:13:48<2:36:45, 35.23s/it]"
     ]
    },
    {
     "name": "stdout",
     "output_type": "stream",
     "text": [
      "6.2804165\n",
      "0.2562812444509369\n"
     ]
    },
    {
     "name": "stderr",
     "output_type": "stream",
     "text": [
      "\r",
      "Training with LBFGS:  73%|███████▎  | 734/1000 [7:14:25<2:38:03, 35.65s/it]"
     ]
    },
    {
     "name": "stdout",
     "output_type": "stream",
     "text": [
      "6.325192\n",
      "0.2562812444509369\n"
     ]
    },
    {
     "name": "stderr",
     "output_type": "stream",
     "text": [
      "\r",
      "Training with LBFGS:  74%|███████▎  | 735/1000 [7:15:00<2:37:05, 35.57s/it]"
     ]
    },
    {
     "name": "stdout",
     "output_type": "stream",
     "text": [
      "6.299784\n",
      "0.2562812444509369\n"
     ]
    },
    {
     "name": "stderr",
     "output_type": "stream",
     "text": [
      "\r",
      "Training with LBFGS:  74%|███████▎  | 736/1000 [7:15:36<2:36:45, 35.63s/it]"
     ]
    },
    {
     "name": "stdout",
     "output_type": "stream",
     "text": [
      "6.259368\n",
      "0.2562812444509369\n"
     ]
    },
    {
     "name": "stderr",
     "output_type": "stream",
     "text": [
      "\r",
      "Training with LBFGS:  74%|███████▎  | 737/1000 [7:16:12<2:36:24, 35.68s/it]"
     ]
    },
    {
     "name": "stdout",
     "output_type": "stream",
     "text": [
      "6.2416387\n",
      "0.2562812444509369\n"
     ]
    },
    {
     "name": "stderr",
     "output_type": "stream",
     "text": [
      "\r",
      "Training with LBFGS:  74%|███████▍  | 738/1000 [7:16:48<2:36:01, 35.73s/it]"
     ]
    },
    {
     "name": "stdout",
     "output_type": "stream",
     "text": [
      "6.4017854\n",
      "0.2562812444509369\n"
     ]
    },
    {
     "name": "stderr",
     "output_type": "stream",
     "text": [
      "\r",
      "Training with LBFGS:  74%|███████▍  | 739/1000 [7:17:23<2:35:23, 35.72s/it]"
     ]
    },
    {
     "name": "stdout",
     "output_type": "stream",
     "text": [
      "6.283634\n",
      "0.2562812444509369\n"
     ]
    },
    {
     "name": "stderr",
     "output_type": "stream",
     "text": [
      "\r",
      "Training with LBFGS:  74%|███████▍  | 740/1000 [7:17:59<2:34:38, 35.69s/it]"
     ]
    },
    {
     "name": "stdout",
     "output_type": "stream",
     "text": [
      "6.215366\n",
      "0.2562812444509369\n"
     ]
    },
    {
     "name": "stderr",
     "output_type": "stream",
     "text": [
      "\r",
      "Training with LBFGS:  74%|███████▍  | 741/1000 [7:18:35<2:34:01, 35.68s/it]"
     ]
    },
    {
     "name": "stdout",
     "output_type": "stream",
     "text": [
      "6.3117876\n",
      "0.2562812444509369\n"
     ]
    },
    {
     "name": "stderr",
     "output_type": "stream",
     "text": [
      "\r",
      "Training with LBFGS:  74%|███████▍  | 742/1000 [7:19:11<2:33:34, 35.72s/it]"
     ]
    },
    {
     "name": "stdout",
     "output_type": "stream",
     "text": [
      "6.3330016\n",
      "0.2562812444509369\n"
     ]
    },
    {
     "name": "stderr",
     "output_type": "stream",
     "text": [
      "\r",
      "Training with LBFGS:  74%|███████▍  | 743/1000 [7:19:47<2:34:07, 35.98s/it]"
     ]
    },
    {
     "name": "stdout",
     "output_type": "stream",
     "text": [
      "6.3133454\n",
      "0.2562812444509369\n"
     ]
    },
    {
     "name": "stderr",
     "output_type": "stream",
     "text": [
      "\r",
      "Training with LBFGS:  74%|███████▍  | 744/1000 [7:20:23<2:33:20, 35.94s/it]"
     ]
    },
    {
     "name": "stdout",
     "output_type": "stream",
     "text": [
      "6.3394413\n",
      "0.2562812444509369\n"
     ]
    },
    {
     "name": "stderr",
     "output_type": "stream",
     "text": [
      "\r",
      "Training with LBFGS:  74%|███████▍  | 745/1000 [7:20:59<2:32:39, 35.92s/it]"
     ]
    },
    {
     "name": "stdout",
     "output_type": "stream",
     "text": [
      "6.1269155\n",
      "0.2562812444509369\n"
     ]
    },
    {
     "name": "stderr",
     "output_type": "stream",
     "text": [
      "\r",
      "Training with LBFGS:  75%|███████▍  | 746/1000 [7:21:35<2:31:54, 35.89s/it]"
     ]
    },
    {
     "name": "stdout",
     "output_type": "stream",
     "text": [
      "6.4006944\n",
      "0.2562812444509369\n"
     ]
    },
    {
     "name": "stderr",
     "output_type": "stream",
     "text": [
      "\r",
      "Training with LBFGS:  75%|███████▍  | 747/1000 [7:22:11<2:31:22, 35.90s/it]"
     ]
    },
    {
     "name": "stdout",
     "output_type": "stream",
     "text": [
      "6.38387\n",
      "0.2562812444509369\n"
     ]
    },
    {
     "name": "stderr",
     "output_type": "stream",
     "text": [
      "\r",
      "Training with LBFGS:  75%|███████▍  | 748/1000 [7:22:46<2:30:43, 35.89s/it]"
     ]
    },
    {
     "name": "stdout",
     "output_type": "stream",
     "text": [
      "6.2531877\n",
      "0.2562812444509369\n"
     ]
    },
    {
     "name": "stderr",
     "output_type": "stream",
     "text": [
      "\r",
      "Training with LBFGS:  75%|███████▍  | 749/1000 [7:23:22<2:30:18, 35.93s/it]"
     ]
    },
    {
     "name": "stdout",
     "output_type": "stream",
     "text": [
      "6.347857\n",
      "0.2562812444509369\n"
     ]
    },
    {
     "name": "stderr",
     "output_type": "stream",
     "text": [
      "\r",
      "Training with LBFGS:  75%|███████▌  | 750/1000 [7:23:58<2:29:29, 35.88s/it]"
     ]
    },
    {
     "name": "stdout",
     "output_type": "stream",
     "text": [
      "6.303823\n",
      "0.2562812444509369\n"
     ]
    },
    {
     "name": "stderr",
     "output_type": "stream",
     "text": [
      "\r",
      "Training with LBFGS:  75%|███████▌  | 751/1000 [7:24:34<2:29:16, 35.97s/it]"
     ]
    },
    {
     "name": "stdout",
     "output_type": "stream",
     "text": [
      "6.365596\n",
      "0.2562812444509369\n"
     ]
    },
    {
     "name": "stderr",
     "output_type": "stream",
     "text": [
      "\r",
      "Training with LBFGS:  75%|███████▌  | 752/1000 [7:25:11<2:30:02, 36.30s/it]"
     ]
    },
    {
     "name": "stdout",
     "output_type": "stream",
     "text": [
      "6.344922\n",
      "0.2562812444509369\n"
     ]
    },
    {
     "name": "stderr",
     "output_type": "stream",
     "text": [
      "\r",
      "Training with LBFGS:  75%|███████▌  | 753/1000 [7:25:48<2:30:17, 36.51s/it]"
     ]
    },
    {
     "name": "stdout",
     "output_type": "stream",
     "text": [
      "6.4764895\n",
      "0.2562812444509369\n"
     ]
    },
    {
     "name": "stderr",
     "output_type": "stream",
     "text": [
      "\r",
      "Training with LBFGS:  75%|███████▌  | 754/1000 [7:26:26<2:30:42, 36.76s/it]"
     ]
    },
    {
     "name": "stdout",
     "output_type": "stream",
     "text": [
      "6.3350506\n",
      "0.2562812444509369\n"
     ]
    },
    {
     "name": "stderr",
     "output_type": "stream",
     "text": [
      "\r",
      "Training with LBFGS:  76%|███████▌  | 755/1000 [7:27:03<2:31:08, 37.01s/it]"
     ]
    },
    {
     "name": "stdout",
     "output_type": "stream",
     "text": [
      "6.3998904\n",
      "0.2562812444509369\n"
     ]
    },
    {
     "name": "stderr",
     "output_type": "stream",
     "text": [
      "\r",
      "Training with LBFGS:  76%|███████▌  | 756/1000 [7:27:41<2:31:04, 37.15s/it]"
     ]
    },
    {
     "name": "stdout",
     "output_type": "stream",
     "text": [
      "6.313107\n",
      "0.2562812444509369\n"
     ]
    },
    {
     "name": "stderr",
     "output_type": "stream",
     "text": [
      "\r",
      "Training with LBFGS:  76%|███████▌  | 757/1000 [7:28:19<2:31:08, 37.32s/it]"
     ]
    },
    {
     "name": "stdout",
     "output_type": "stream",
     "text": [
      "6.2930307\n",
      "0.2562812444509369\n"
     ]
    },
    {
     "name": "stderr",
     "output_type": "stream",
     "text": [
      "\r",
      "Training with LBFGS:  76%|███████▌  | 758/1000 [7:28:56<2:30:33, 37.33s/it]"
     ]
    },
    {
     "name": "stdout",
     "output_type": "stream",
     "text": [
      "6.3172975\n",
      "0.2562812444509369\n"
     ]
    },
    {
     "name": "stderr",
     "output_type": "stream",
     "text": [
      "\r",
      "Training with LBFGS:  76%|███████▌  | 759/1000 [7:29:33<2:29:59, 37.34s/it]"
     ]
    },
    {
     "name": "stdout",
     "output_type": "stream",
     "text": [
      "6.390115\n",
      "0.2562812444509369\n"
     ]
    },
    {
     "name": "stderr",
     "output_type": "stream",
     "text": [
      "\r",
      "Training with LBFGS:  76%|███████▌  | 760/1000 [7:30:11<2:29:52, 37.47s/it]"
     ]
    },
    {
     "name": "stdout",
     "output_type": "stream",
     "text": [
      "6.2254877\n",
      "0.2562812444509369\n"
     ]
    },
    {
     "name": "stderr",
     "output_type": "stream",
     "text": [
      "\r",
      "Training with LBFGS:  76%|███████▌  | 761/1000 [7:30:49<2:29:19, 37.49s/it]"
     ]
    },
    {
     "name": "stdout",
     "output_type": "stream",
     "text": [
      "6.289109\n",
      "0.2562812444509369\n"
     ]
    },
    {
     "name": "stderr",
     "output_type": "stream",
     "text": [
      "\r",
      "Training with LBFGS:  76%|███████▌  | 762/1000 [7:31:26<2:29:10, 37.61s/it]"
     ]
    },
    {
     "name": "stdout",
     "output_type": "stream",
     "text": [
      "6.2846723\n",
      "0.2562812444509369\n"
     ]
    },
    {
     "name": "stderr",
     "output_type": "stream",
     "text": [
      "\r",
      "Training with LBFGS:  76%|███████▋  | 763/1000 [7:32:04<2:28:19, 37.55s/it]"
     ]
    },
    {
     "name": "stdout",
     "output_type": "stream",
     "text": [
      "6.207445\n",
      "0.2562812444509369\n"
     ]
    },
    {
     "name": "stderr",
     "output_type": "stream",
     "text": [
      "\r",
      "Training with LBFGS:  76%|███████▋  | 764/1000 [7:32:41<2:27:24, 37.47s/it]"
     ]
    },
    {
     "name": "stdout",
     "output_type": "stream",
     "text": [
      "6.3663025\n",
      "0.2562812444509369\n"
     ]
    },
    {
     "name": "stderr",
     "output_type": "stream",
     "text": [
      "\r",
      "Training with LBFGS:  76%|███████▋  | 765/1000 [7:33:18<2:25:25, 37.13s/it]"
     ]
    },
    {
     "name": "stdout",
     "output_type": "stream",
     "text": [
      "6.192703\n",
      "0.2562812444509369\n"
     ]
    },
    {
     "name": "stderr",
     "output_type": "stream",
     "text": [
      "\r",
      "Training with LBFGS:  77%|███████▋  | 766/1000 [7:33:54<2:23:51, 36.88s/it]"
     ]
    },
    {
     "name": "stdout",
     "output_type": "stream",
     "text": [
      "6.345893\n",
      "0.2562812444509369\n"
     ]
    },
    {
     "name": "stderr",
     "output_type": "stream",
     "text": [
      "\r",
      "Training with LBFGS:  77%|███████▋  | 767/1000 [7:34:30<2:22:14, 36.63s/it]"
     ]
    },
    {
     "name": "stdout",
     "output_type": "stream",
     "text": [
      "6.349291\n",
      "0.2562812444509369\n"
     ]
    },
    {
     "name": "stderr",
     "output_type": "stream",
     "text": [
      "\r",
      "Training with LBFGS:  77%|███████▋  | 768/1000 [7:35:06<2:21:14, 36.53s/it]"
     ]
    },
    {
     "name": "stdout",
     "output_type": "stream",
     "text": [
      "6.4011903\n",
      "0.2562812444509369\n"
     ]
    },
    {
     "name": "stderr",
     "output_type": "stream",
     "text": [
      "\r",
      "Training with LBFGS:  77%|███████▋  | 769/1000 [7:35:42<2:20:16, 36.43s/it]"
     ]
    },
    {
     "name": "stdout",
     "output_type": "stream",
     "text": [
      "6.3007913\n",
      "0.2562812444509369\n"
     ]
    },
    {
     "name": "stderr",
     "output_type": "stream",
     "text": [
      "\r",
      "Training with LBFGS:  77%|███████▋  | 770/1000 [7:36:19<2:19:21, 36.35s/it]"
     ]
    },
    {
     "name": "stdout",
     "output_type": "stream",
     "text": [
      "6.2381244\n",
      "0.2562812444509369\n"
     ]
    },
    {
     "name": "stderr",
     "output_type": "stream",
     "text": [
      "\r",
      "Training with LBFGS:  77%|███████▋  | 771/1000 [7:36:54<2:18:12, 36.21s/it]"
     ]
    },
    {
     "name": "stdout",
     "output_type": "stream",
     "text": [
      "6.4220915\n",
      "0.2562812444509369\n"
     ]
    },
    {
     "name": "stderr",
     "output_type": "stream",
     "text": [
      "\r",
      "Training with LBFGS:  77%|███████▋  | 772/1000 [7:37:30<2:16:55, 36.03s/it]"
     ]
    },
    {
     "name": "stdout",
     "output_type": "stream",
     "text": [
      "6.2888007\n",
      "0.2562812444509369\n"
     ]
    },
    {
     "name": "stderr",
     "output_type": "stream",
     "text": [
      "\r",
      "Training with LBFGS:  77%|███████▋  | 773/1000 [7:38:05<2:15:36, 35.85s/it]"
     ]
    },
    {
     "name": "stdout",
     "output_type": "stream",
     "text": [
      "6.3855834\n",
      "0.2562812444509369\n"
     ]
    },
    {
     "name": "stderr",
     "output_type": "stream",
     "text": [
      "\r",
      "Training with LBFGS:  77%|███████▋  | 774/1000 [7:38:41<2:14:37, 35.74s/it]"
     ]
    },
    {
     "name": "stdout",
     "output_type": "stream",
     "text": [
      "6.332911\n",
      "0.2562812444509369\n"
     ]
    },
    {
     "name": "stderr",
     "output_type": "stream",
     "text": [
      "\r",
      "Training with LBFGS:  78%|███████▊  | 775/1000 [7:39:17<2:13:56, 35.72s/it]"
     ]
    },
    {
     "name": "stdout",
     "output_type": "stream",
     "text": [
      "6.338602\n",
      "0.2562812444509369\n"
     ]
    },
    {
     "name": "stderr",
     "output_type": "stream",
     "text": [
      "\r",
      "Training with LBFGS:  78%|███████▊  | 776/1000 [7:39:52<2:13:10, 35.67s/it]"
     ]
    },
    {
     "name": "stdout",
     "output_type": "stream",
     "text": [
      "6.12329\n",
      "0.2562812444509369\n"
     ]
    },
    {
     "name": "stderr",
     "output_type": "stream",
     "text": [
      "\r",
      "Training with LBFGS:  78%|███████▊  | 777/1000 [7:40:28<2:12:24, 35.62s/it]"
     ]
    },
    {
     "name": "stdout",
     "output_type": "stream",
     "text": [
      "6.268807\n",
      "0.2562812444509369\n"
     ]
    },
    {
     "name": "stderr",
     "output_type": "stream",
     "text": [
      "\r",
      "Training with LBFGS:  78%|███████▊  | 778/1000 [7:41:03<2:11:55, 35.66s/it]"
     ]
    },
    {
     "name": "stdout",
     "output_type": "stream",
     "text": [
      "6.393962\n",
      "0.2562812444509369\n"
     ]
    },
    {
     "name": "stderr",
     "output_type": "stream",
     "text": [
      "\r",
      "Training with LBFGS:  78%|███████▊  | 779/1000 [7:41:39<2:10:57, 35.55s/it]"
     ]
    },
    {
     "name": "stdout",
     "output_type": "stream",
     "text": [
      "6.2843914\n",
      "0.2562812444509369\n"
     ]
    },
    {
     "name": "stderr",
     "output_type": "stream",
     "text": [
      "\r",
      "Training with LBFGS:  78%|███████▊  | 780/1000 [7:42:14<2:10:12, 35.51s/it]"
     ]
    },
    {
     "name": "stdout",
     "output_type": "stream",
     "text": [
      "6.382022\n",
      "0.2562812444509369\n"
     ]
    },
    {
     "name": "stderr",
     "output_type": "stream",
     "text": [
      "\r",
      "Training with LBFGS:  78%|███████▊  | 781/1000 [7:42:50<2:09:29, 35.48s/it]"
     ]
    },
    {
     "name": "stdout",
     "output_type": "stream",
     "text": [
      "6.320789\n",
      "0.2562812444509369\n"
     ]
    },
    {
     "name": "stderr",
     "output_type": "stream",
     "text": [
      "\r",
      "Training with LBFGS:  78%|███████▊  | 782/1000 [7:43:25<2:08:49, 35.46s/it]"
     ]
    },
    {
     "name": "stdout",
     "output_type": "stream",
     "text": [
      "6.333107\n",
      "0.2562812444509369\n"
     ]
    },
    {
     "name": "stderr",
     "output_type": "stream",
     "text": [
      "\r",
      "Training with LBFGS:  78%|███████▊  | 783/1000 [7:44:00<2:08:11, 35.44s/it]"
     ]
    },
    {
     "name": "stdout",
     "output_type": "stream",
     "text": [
      "6.210763\n",
      "0.2562812444509369\n"
     ]
    },
    {
     "name": "stderr",
     "output_type": "stream",
     "text": [
      "\r",
      "Training with LBFGS:  78%|███████▊  | 784/1000 [7:44:36<2:07:32, 35.43s/it]"
     ]
    },
    {
     "name": "stdout",
     "output_type": "stream",
     "text": [
      "6.327558\n",
      "0.2562812444509369\n"
     ]
    },
    {
     "name": "stderr",
     "output_type": "stream",
     "text": [
      "\r",
      "Training with LBFGS:  78%|███████▊  | 785/1000 [7:45:11<2:06:50, 35.40s/it]"
     ]
    },
    {
     "name": "stdout",
     "output_type": "stream",
     "text": [
      "6.297526\n",
      "0.2562812444509369\n"
     ]
    },
    {
     "name": "stderr",
     "output_type": "stream",
     "text": [
      "\r",
      "Training with LBFGS:  79%|███████▊  | 786/1000 [7:45:46<2:06:14, 35.39s/it]"
     ]
    },
    {
     "name": "stdout",
     "output_type": "stream",
     "text": [
      "6.252775\n",
      "0.2562812444509369\n"
     ]
    },
    {
     "name": "stderr",
     "output_type": "stream",
     "text": [
      "\r",
      "Training with LBFGS:  79%|███████▊  | 787/1000 [7:46:22<2:05:34, 35.37s/it]"
     ]
    },
    {
     "name": "stdout",
     "output_type": "stream",
     "text": [
      "6.2447352\n",
      "0.2562812444509369\n"
     ]
    },
    {
     "name": "stderr",
     "output_type": "stream",
     "text": [
      "\r",
      "Training with LBFGS:  79%|███████▉  | 788/1000 [7:46:57<2:04:54, 35.35s/it]"
     ]
    },
    {
     "name": "stdout",
     "output_type": "stream",
     "text": [
      "6.3652663\n",
      "0.2562812444509369\n"
     ]
    },
    {
     "name": "stderr",
     "output_type": "stream",
     "text": [
      "\r",
      "Training with LBFGS:  79%|███████▉  | 789/1000 [7:47:32<2:04:12, 35.32s/it]"
     ]
    },
    {
     "name": "stdout",
     "output_type": "stream",
     "text": [
      "6.402853\n",
      "0.2562812444509369\n"
     ]
    },
    {
     "name": "stderr",
     "output_type": "stream",
     "text": [
      "\r",
      "Training with LBFGS:  79%|███████▉  | 790/1000 [7:48:08<2:03:32, 35.30s/it]"
     ]
    },
    {
     "name": "stdout",
     "output_type": "stream",
     "text": [
      "6.3129854\n",
      "0.2562812444509369\n"
     ]
    },
    {
     "name": "stderr",
     "output_type": "stream",
     "text": [
      "\r",
      "Training with LBFGS:  79%|███████▉  | 791/1000 [7:48:43<2:02:54, 35.28s/it]"
     ]
    },
    {
     "name": "stdout",
     "output_type": "stream",
     "text": [
      "6.3919463\n",
      "0.2562812444509369\n"
     ]
    },
    {
     "name": "stderr",
     "output_type": "stream",
     "text": [
      "\r",
      "Training with LBFGS:  79%|███████▉  | 792/1000 [7:49:18<2:02:16, 35.27s/it]"
     ]
    },
    {
     "name": "stdout",
     "output_type": "stream",
     "text": [
      "6.3821626\n",
      "0.2562812444509369\n"
     ]
    },
    {
     "name": "stderr",
     "output_type": "stream",
     "text": [
      "\r",
      "Training with LBFGS:  79%|███████▉  | 793/1000 [7:49:53<2:01:37, 35.25s/it]"
     ]
    },
    {
     "name": "stdout",
     "output_type": "stream",
     "text": [
      "6.209301\n",
      "0.2562812444509369\n"
     ]
    },
    {
     "name": "stderr",
     "output_type": "stream",
     "text": [
      "\r",
      "Training with LBFGS:  79%|███████▉  | 794/1000 [7:50:28<2:00:58, 35.24s/it]"
     ]
    },
    {
     "name": "stdout",
     "output_type": "stream",
     "text": [
      "6.1959624\n",
      "0.2562812444509369\n"
     ]
    },
    {
     "name": "stderr",
     "output_type": "stream",
     "text": [
      "\r",
      "Training with LBFGS:  80%|███████▉  | 795/1000 [7:51:04<2:00:23, 35.24s/it]"
     ]
    },
    {
     "name": "stdout",
     "output_type": "stream",
     "text": [
      "6.440443\n",
      "0.2562812444509369\n"
     ]
    },
    {
     "name": "stderr",
     "output_type": "stream",
     "text": [
      "\r",
      "Training with LBFGS:  80%|███████▉  | 796/1000 [7:51:39<1:59:53, 35.26s/it]"
     ]
    },
    {
     "name": "stdout",
     "output_type": "stream",
     "text": [
      "6.384583\n",
      "0.2562812444509369\n"
     ]
    },
    {
     "name": "stderr",
     "output_type": "stream",
     "text": [
      "\r",
      "Training with LBFGS:  80%|███████▉  | 797/1000 [7:52:14<1:59:24, 35.29s/it]"
     ]
    },
    {
     "name": "stdout",
     "output_type": "stream",
     "text": [
      "6.4574594\n",
      "0.2562812444509369\n"
     ]
    },
    {
     "name": "stderr",
     "output_type": "stream",
     "text": [
      "\r",
      "Training with LBFGS:  80%|███████▉  | 798/1000 [7:52:50<1:58:54, 35.32s/it]"
     ]
    },
    {
     "name": "stdout",
     "output_type": "stream",
     "text": [
      "6.2789135\n",
      "0.2562812444509369\n"
     ]
    },
    {
     "name": "stderr",
     "output_type": "stream",
     "text": [
      "\r",
      "Training with LBFGS:  80%|███████▉  | 799/1000 [7:53:25<1:58:21, 35.33s/it]"
     ]
    },
    {
     "name": "stdout",
     "output_type": "stream",
     "text": [
      "6.1837287\n",
      "0.2562812444509369\n"
     ]
    },
    {
     "name": "stderr",
     "output_type": "stream",
     "text": [
      "\r",
      "Training with LBFGS:  80%|████████  | 800/1000 [7:54:01<1:57:47, 35.34s/it]"
     ]
    },
    {
     "name": "stdout",
     "output_type": "stream",
     "text": [
      "6.3969474\n",
      "0.2562812444509369\n"
     ]
    },
    {
     "name": "stderr",
     "output_type": "stream",
     "text": [
      "\r",
      "Training with LBFGS:  80%|████████  | 801/1000 [7:54:36<1:57:12, 35.34s/it]"
     ]
    },
    {
     "name": "stdout",
     "output_type": "stream",
     "text": [
      "6.4684963\n",
      "0.2562812444509369\n"
     ]
    },
    {
     "name": "stderr",
     "output_type": "stream",
     "text": [
      "\r",
      "Training with LBFGS:  80%|████████  | 802/1000 [7:55:11<1:56:36, 35.34s/it]"
     ]
    },
    {
     "name": "stdout",
     "output_type": "stream",
     "text": [
      "6.413278\n",
      "0.2562812444509369\n"
     ]
    },
    {
     "name": "stderr",
     "output_type": "stream",
     "text": [
      "\r",
      "Training with LBFGS:  80%|████████  | 803/1000 [7:55:47<1:56:03, 35.35s/it]"
     ]
    },
    {
     "name": "stdout",
     "output_type": "stream",
     "text": [
      "6.26781\n",
      "0.2562812444509369\n"
     ]
    },
    {
     "name": "stderr",
     "output_type": "stream",
     "text": [
      "\r",
      "Training with LBFGS:  80%|████████  | 804/1000 [7:56:22<1:55:28, 35.35s/it]"
     ]
    },
    {
     "name": "stdout",
     "output_type": "stream",
     "text": [
      "6.367782\n",
      "0.2562812444509369\n"
     ]
    },
    {
     "name": "stderr",
     "output_type": "stream",
     "text": [
      "\r",
      "Training with LBFGS:  80%|████████  | 805/1000 [7:56:57<1:54:46, 35.31s/it]"
     ]
    },
    {
     "name": "stdout",
     "output_type": "stream",
     "text": [
      "6.290193\n",
      "0.2562812444509369\n"
     ]
    },
    {
     "name": "stderr",
     "output_type": "stream",
     "text": [
      "\r",
      "Training with LBFGS:  81%|████████  | 806/1000 [7:57:32<1:54:06, 35.29s/it]"
     ]
    },
    {
     "name": "stdout",
     "output_type": "stream",
     "text": [
      "6.2891374\n",
      "0.2562812444509369\n"
     ]
    },
    {
     "name": "stderr",
     "output_type": "stream",
     "text": [
      "\r",
      "Training with LBFGS:  81%|████████  | 807/1000 [7:58:08<1:53:26, 35.27s/it]"
     ]
    },
    {
     "name": "stdout",
     "output_type": "stream",
     "text": [
      "6.3483515\n",
      "0.2562812444509369\n"
     ]
    },
    {
     "name": "stderr",
     "output_type": "stream",
     "text": [
      "\r",
      "Training with LBFGS:  81%|████████  | 808/1000 [7:58:43<1:52:46, 35.24s/it]"
     ]
    },
    {
     "name": "stdout",
     "output_type": "stream",
     "text": [
      "6.3596787\n",
      "0.2562812444509369\n"
     ]
    },
    {
     "name": "stderr",
     "output_type": "stream",
     "text": [
      "\r",
      "Training with LBFGS:  81%|████████  | 809/1000 [7:59:18<1:52:10, 35.24s/it]"
     ]
    },
    {
     "name": "stdout",
     "output_type": "stream",
     "text": [
      "6.3178477\n",
      "0.2562812444509369\n"
     ]
    },
    {
     "name": "stderr",
     "output_type": "stream",
     "text": [
      "\r",
      "Training with LBFGS:  81%|████████  | 810/1000 [7:59:53<1:51:36, 35.24s/it]"
     ]
    },
    {
     "name": "stdout",
     "output_type": "stream",
     "text": [
      "6.280108\n",
      "0.2562812444509369\n"
     ]
    },
    {
     "name": "stderr",
     "output_type": "stream",
     "text": [
      "\r",
      "Training with LBFGS:  81%|████████  | 811/1000 [8:00:29<1:51:01, 35.24s/it]"
     ]
    },
    {
     "name": "stdout",
     "output_type": "stream",
     "text": [
      "6.2301702\n",
      "0.2562812444509369\n"
     ]
    },
    {
     "name": "stderr",
     "output_type": "stream",
     "text": [
      "\r",
      "Training with LBFGS:  81%|████████  | 812/1000 [8:01:04<1:50:23, 35.23s/it]"
     ]
    },
    {
     "name": "stdout",
     "output_type": "stream",
     "text": [
      "6.364581\n",
      "0.2562812444509369\n"
     ]
    },
    {
     "name": "stderr",
     "output_type": "stream",
     "text": [
      "\r",
      "Training with LBFGS:  81%|████████▏ | 813/1000 [8:01:39<1:49:53, 35.26s/it]"
     ]
    },
    {
     "name": "stdout",
     "output_type": "stream",
     "text": [
      "6.3275485\n",
      "0.2562812444509369\n"
     ]
    },
    {
     "name": "stderr",
     "output_type": "stream",
     "text": [
      "\r",
      "Training with LBFGS:  81%|████████▏ | 814/1000 [8:02:14<1:49:21, 35.28s/it]"
     ]
    },
    {
     "name": "stdout",
     "output_type": "stream",
     "text": [
      "6.2684975\n",
      "0.2562812444509369\n"
     ]
    },
    {
     "name": "stderr",
     "output_type": "stream",
     "text": [
      "\r",
      "Training with LBFGS:  82%|████████▏ | 815/1000 [8:02:50<1:48:48, 35.29s/it]"
     ]
    },
    {
     "name": "stdout",
     "output_type": "stream",
     "text": [
      "6.160214\n",
      "0.2562812444509369\n"
     ]
    },
    {
     "name": "stderr",
     "output_type": "stream",
     "text": [
      "\r",
      "Training with LBFGS:  82%|████████▏ | 816/1000 [8:03:25<1:48:15, 35.30s/it]"
     ]
    },
    {
     "name": "stdout",
     "output_type": "stream",
     "text": [
      "6.2491775\n",
      "0.2562812444509369\n"
     ]
    },
    {
     "name": "stderr",
     "output_type": "stream",
     "text": [
      "\r",
      "Training with LBFGS:  82%|████████▏ | 817/1000 [8:04:00<1:47:46, 35.33s/it]"
     ]
    },
    {
     "name": "stdout",
     "output_type": "stream",
     "text": [
      "6.3856225\n",
      "0.2562812444509369\n"
     ]
    },
    {
     "name": "stderr",
     "output_type": "stream",
     "text": [
      "\r",
      "Training with LBFGS:  82%|████████▏ | 818/1000 [8:04:36<1:47:10, 35.33s/it]"
     ]
    },
    {
     "name": "stdout",
     "output_type": "stream",
     "text": [
      "6.2680287\n",
      "0.2562812444509369\n"
     ]
    },
    {
     "name": "stderr",
     "output_type": "stream",
     "text": [
      "\r",
      "Training with LBFGS:  82%|████████▏ | 819/1000 [8:05:11<1:46:34, 35.33s/it]"
     ]
    },
    {
     "name": "stdout",
     "output_type": "stream",
     "text": [
      "6.4089994\n",
      "0.2562812444509369\n"
     ]
    },
    {
     "name": "stderr",
     "output_type": "stream",
     "text": [
      "\r",
      "Training with LBFGS:  82%|████████▏ | 820/1000 [8:05:46<1:45:58, 35.33s/it]"
     ]
    },
    {
     "name": "stdout",
     "output_type": "stream",
     "text": [
      "6.2541804\n",
      "0.2562812444509369\n"
     ]
    },
    {
     "name": "stderr",
     "output_type": "stream",
     "text": [
      "\r",
      "Training with LBFGS:  82%|████████▏ | 821/1000 [8:06:22<1:45:17, 35.29s/it]"
     ]
    },
    {
     "name": "stdout",
     "output_type": "stream",
     "text": [
      "6.3544035\n",
      "0.2562812444509369\n"
     ]
    },
    {
     "name": "stderr",
     "output_type": "stream",
     "text": [
      "\r",
      "Training with LBFGS:  82%|████████▏ | 822/1000 [8:06:57<1:44:38, 35.27s/it]"
     ]
    },
    {
     "name": "stdout",
     "output_type": "stream",
     "text": [
      "6.292654\n",
      "0.2562812444509369\n"
     ]
    },
    {
     "name": "stderr",
     "output_type": "stream",
     "text": [
      "\r",
      "Training with LBFGS:  82%|████████▏ | 823/1000 [8:07:32<1:43:59, 35.25s/it]"
     ]
    },
    {
     "name": "stdout",
     "output_type": "stream",
     "text": [
      "6.3232946\n",
      "0.2562812444509369\n"
     ]
    },
    {
     "name": "stderr",
     "output_type": "stream",
     "text": [
      "\r",
      "Training with LBFGS:  82%|████████▏ | 824/1000 [8:08:07<1:43:19, 35.22s/it]"
     ]
    },
    {
     "name": "stdout",
     "output_type": "stream",
     "text": [
      "6.395508\n",
      "0.2562812444509369\n"
     ]
    },
    {
     "name": "stderr",
     "output_type": "stream",
     "text": [
      "\r",
      "Training with LBFGS:  82%|████████▎ | 825/1000 [8:08:42<1:42:40, 35.20s/it]"
     ]
    },
    {
     "name": "stdout",
     "output_type": "stream",
     "text": [
      "6.4594026\n",
      "0.2562812444509369\n"
     ]
    },
    {
     "name": "stderr",
     "output_type": "stream",
     "text": [
      "\r",
      "Training with LBFGS:  83%|████████▎ | 826/1000 [8:09:18<1:42:03, 35.19s/it]"
     ]
    },
    {
     "name": "stdout",
     "output_type": "stream",
     "text": [
      "6.412735\n",
      "0.2562812444509369\n"
     ]
    },
    {
     "name": "stderr",
     "output_type": "stream",
     "text": [
      "\r",
      "Training with LBFGS:  83%|████████▎ | 827/1000 [8:09:53<1:41:28, 35.20s/it]"
     ]
    },
    {
     "name": "stdout",
     "output_type": "stream",
     "text": [
      "6.2701106\n",
      "0.2562812444509369\n"
     ]
    },
    {
     "name": "stderr",
     "output_type": "stream",
     "text": [
      "\r",
      "Training with LBFGS:  83%|████████▎ | 828/1000 [8:10:28<1:40:54, 35.20s/it]"
     ]
    },
    {
     "name": "stdout",
     "output_type": "stream",
     "text": [
      "6.330792\n",
      "0.2562812444509369\n"
     ]
    },
    {
     "name": "stderr",
     "output_type": "stream",
     "text": [
      "\r",
      "Training with LBFGS:  83%|████████▎ | 829/1000 [8:11:03<1:40:19, 35.20s/it]"
     ]
    },
    {
     "name": "stdout",
     "output_type": "stream",
     "text": [
      "6.3565974\n",
      "0.2562812444509369\n"
     ]
    },
    {
     "name": "stderr",
     "output_type": "stream",
     "text": [
      "\r",
      "Training with LBFGS:  83%|████████▎ | 830/1000 [8:11:38<1:39:46, 35.21s/it]"
     ]
    },
    {
     "name": "stdout",
     "output_type": "stream",
     "text": [
      "6.386277\n",
      "0.2562812444509369\n"
     ]
    },
    {
     "name": "stderr",
     "output_type": "stream",
     "text": [
      "\r",
      "Training with LBFGS:  83%|████████▎ | 831/1000 [8:12:14<1:39:20, 35.27s/it]"
     ]
    },
    {
     "name": "stdout",
     "output_type": "stream",
     "text": [
      "6.31825\n",
      "0.2562812444509369\n"
     ]
    },
    {
     "name": "stderr",
     "output_type": "stream",
     "text": [
      "\r",
      "Training with LBFGS:  83%|████████▎ | 832/1000 [8:12:49<1:38:49, 35.29s/it]"
     ]
    },
    {
     "name": "stdout",
     "output_type": "stream",
     "text": [
      "6.413159\n",
      "0.2562812444509369\n"
     ]
    },
    {
     "name": "stderr",
     "output_type": "stream",
     "text": [
      "\r",
      "Training with LBFGS:  83%|████████▎ | 833/1000 [8:13:24<1:38:14, 35.30s/it]"
     ]
    },
    {
     "name": "stdout",
     "output_type": "stream",
     "text": [
      "6.2814455\n",
      "0.2562812444509369\n"
     ]
    },
    {
     "name": "stderr",
     "output_type": "stream",
     "text": [
      "\r",
      "Training with LBFGS:  83%|████████▎ | 834/1000 [8:14:00<1:37:39, 35.30s/it]"
     ]
    },
    {
     "name": "stdout",
     "output_type": "stream",
     "text": [
      "6.3994102\n",
      "0.2562812444509369\n"
     ]
    },
    {
     "name": "stderr",
     "output_type": "stream",
     "text": [
      "\r",
      "Training with LBFGS:  84%|████████▎ | 835/1000 [8:14:35<1:37:05, 35.30s/it]"
     ]
    },
    {
     "name": "stdout",
     "output_type": "stream",
     "text": [
      "6.3914547\n",
      "0.2562812444509369\n"
     ]
    },
    {
     "name": "stderr",
     "output_type": "stream",
     "text": [
      "\r",
      "Training with LBFGS:  84%|████████▎ | 836/1000 [8:15:10<1:36:30, 35.31s/it]"
     ]
    },
    {
     "name": "stdout",
     "output_type": "stream",
     "text": [
      "6.3256125\n",
      "0.2562812444509369\n"
     ]
    },
    {
     "name": "stderr",
     "output_type": "stream",
     "text": [
      "\r",
      "Training with LBFGS:  84%|████████▎ | 837/1000 [8:15:46<1:35:57, 35.32s/it]"
     ]
    },
    {
     "name": "stdout",
     "output_type": "stream",
     "text": [
      "6.304694\n",
      "0.2562812444509369\n"
     ]
    },
    {
     "name": "stderr",
     "output_type": "stream",
     "text": [
      "\r",
      "Training with LBFGS:  84%|████████▍ | 838/1000 [8:16:21<1:35:21, 35.32s/it]"
     ]
    },
    {
     "name": "stdout",
     "output_type": "stream",
     "text": [
      "6.293459\n",
      "0.2562812444509369\n"
     ]
    },
    {
     "name": "stderr",
     "output_type": "stream",
     "text": [
      "\r",
      "Training with LBFGS:  84%|████████▍ | 839/1000 [8:16:56<1:34:42, 35.30s/it]"
     ]
    },
    {
     "name": "stdout",
     "output_type": "stream",
     "text": [
      "6.236439\n",
      "0.2562812444509369\n"
     ]
    },
    {
     "name": "stderr",
     "output_type": "stream",
     "text": [
      "\r",
      "Training with LBFGS:  84%|████████▍ | 840/1000 [8:17:31<1:34:03, 35.27s/it]"
     ]
    },
    {
     "name": "stdout",
     "output_type": "stream",
     "text": [
      "6.263018\n",
      "0.2562812444509369\n"
     ]
    },
    {
     "name": "stderr",
     "output_type": "stream",
     "text": [
      "\r",
      "Training with LBFGS:  84%|████████▍ | 841/1000 [8:18:07<1:33:25, 35.26s/it]"
     ]
    },
    {
     "name": "stdout",
     "output_type": "stream",
     "text": [
      "6.2731476\n",
      "0.2562812444509369\n"
     ]
    },
    {
     "name": "stderr",
     "output_type": "stream",
     "text": [
      "\r",
      "Training with LBFGS:  84%|████████▍ | 842/1000 [8:18:42<1:32:44, 35.22s/it]"
     ]
    },
    {
     "name": "stdout",
     "output_type": "stream",
     "text": [
      "6.4106765\n",
      "0.2562812444509369\n"
     ]
    },
    {
     "name": "stderr",
     "output_type": "stream",
     "text": [
      "\r",
      "Training with LBFGS:  84%|████████▍ | 843/1000 [8:19:17<1:32:05, 35.19s/it]"
     ]
    },
    {
     "name": "stdout",
     "output_type": "stream",
     "text": [
      "6.29585\n",
      "0.2562812444509369\n"
     ]
    },
    {
     "name": "stderr",
     "output_type": "stream",
     "text": [
      "\r",
      "Training with LBFGS:  84%|████████▍ | 844/1000 [8:19:52<1:31:28, 35.18s/it]"
     ]
    },
    {
     "name": "stdout",
     "output_type": "stream",
     "text": [
      "6.288119\n",
      "0.2562812444509369\n"
     ]
    },
    {
     "name": "stderr",
     "output_type": "stream",
     "text": [
      "\r",
      "Training with LBFGS:  84%|████████▍ | 845/1000 [8:20:27<1:30:51, 35.17s/it]"
     ]
    },
    {
     "name": "stdout",
     "output_type": "stream",
     "text": [
      "6.466942\n",
      "0.2562812444509369\n"
     ]
    },
    {
     "name": "stderr",
     "output_type": "stream",
     "text": [
      "\r",
      "Training with LBFGS:  85%|████████▍ | 846/1000 [8:21:02<1:30:15, 35.17s/it]"
     ]
    },
    {
     "name": "stdout",
     "output_type": "stream",
     "text": [
      "6.3288536\n",
      "0.2562812444509369\n"
     ]
    },
    {
     "name": "stderr",
     "output_type": "stream",
     "text": [
      "\r",
      "Training with LBFGS:  85%|████████▍ | 847/1000 [8:21:38<1:29:43, 35.19s/it]"
     ]
    },
    {
     "name": "stdout",
     "output_type": "stream",
     "text": [
      "6.3112955\n",
      "0.2562812444509369\n"
     ]
    },
    {
     "name": "stderr",
     "output_type": "stream",
     "text": [
      "\r",
      "Training with LBFGS:  85%|████████▍ | 848/1000 [8:22:13<1:29:10, 35.20s/it]"
     ]
    },
    {
     "name": "stdout",
     "output_type": "stream",
     "text": [
      "6.3668647\n",
      "0.2562812444509369\n"
     ]
    },
    {
     "name": "stderr",
     "output_type": "stream",
     "text": [
      "\r",
      "Training with LBFGS:  85%|████████▍ | 849/1000 [8:22:48<1:28:39, 35.23s/it]"
     ]
    },
    {
     "name": "stdout",
     "output_type": "stream",
     "text": [
      "6.391856\n",
      "0.2562812444509369\n"
     ]
    },
    {
     "name": "stderr",
     "output_type": "stream",
     "text": [
      "\r",
      "Training with LBFGS:  85%|████████▌ | 850/1000 [8:23:24<1:28:08, 35.26s/it]"
     ]
    },
    {
     "name": "stdout",
     "output_type": "stream",
     "text": [
      "6.2618403\n",
      "0.2562812444509369\n"
     ]
    },
    {
     "name": "stderr",
     "output_type": "stream",
     "text": [
      "\r",
      "Training with LBFGS:  85%|████████▌ | 851/1000 [8:23:59<1:27:36, 35.28s/it]"
     ]
    },
    {
     "name": "stdout",
     "output_type": "stream",
     "text": [
      "6.3424754\n",
      "0.2562812444509369\n"
     ]
    },
    {
     "name": "stderr",
     "output_type": "stream",
     "text": [
      "\r",
      "Training with LBFGS:  85%|████████▌ | 852/1000 [8:24:34<1:27:03, 35.29s/it]"
     ]
    },
    {
     "name": "stdout",
     "output_type": "stream",
     "text": [
      "6.341529\n",
      "0.2562812444509369\n"
     ]
    },
    {
     "name": "stderr",
     "output_type": "stream",
     "text": [
      "\r",
      "Training with LBFGS:  85%|████████▌ | 853/1000 [8:25:10<1:26:29, 35.30s/it]"
     ]
    },
    {
     "name": "stdout",
     "output_type": "stream",
     "text": [
      "6.320468\n",
      "0.2562812444509369\n"
     ]
    },
    {
     "name": "stderr",
     "output_type": "stream",
     "text": [
      "\r",
      "Training with LBFGS:  85%|████████▌ | 854/1000 [8:25:45<1:25:52, 35.29s/it]"
     ]
    },
    {
     "name": "stdout",
     "output_type": "stream",
     "text": [
      "6.20048\n",
      "0.2562812444509369\n"
     ]
    },
    {
     "name": "stderr",
     "output_type": "stream",
     "text": [
      "\r",
      "Training with LBFGS:  86%|████████▌ | 855/1000 [8:26:20<1:25:16, 35.29s/it]"
     ]
    },
    {
     "name": "stdout",
     "output_type": "stream",
     "text": [
      "6.344853\n",
      "0.2562812444509369\n"
     ]
    },
    {
     "name": "stderr",
     "output_type": "stream",
     "text": [
      "\r",
      "Training with LBFGS:  86%|████████▌ | 856/1000 [8:26:55<1:24:40, 35.28s/it]"
     ]
    },
    {
     "name": "stdout",
     "output_type": "stream",
     "text": [
      "6.344829\n",
      "0.2562812444509369\n"
     ]
    },
    {
     "name": "stderr",
     "output_type": "stream",
     "text": [
      "\r",
      "Training with LBFGS:  86%|████████▌ | 857/1000 [8:27:31<1:24:02, 35.26s/it]"
     ]
    },
    {
     "name": "stdout",
     "output_type": "stream",
     "text": [
      "6.2913537\n",
      "0.2562812444509369\n"
     ]
    },
    {
     "name": "stderr",
     "output_type": "stream",
     "text": [
      "\r",
      "Training with LBFGS:  86%|████████▌ | 858/1000 [8:28:06<1:23:23, 35.24s/it]"
     ]
    },
    {
     "name": "stdout",
     "output_type": "stream",
     "text": [
      "6.248575\n",
      "0.2562812444509369\n"
     ]
    },
    {
     "name": "stderr",
     "output_type": "stream",
     "text": [
      "\r",
      "Training with LBFGS:  86%|████████▌ | 859/1000 [8:28:41<1:22:46, 35.22s/it]"
     ]
    },
    {
     "name": "stdout",
     "output_type": "stream",
     "text": [
      "6.3243265\n",
      "0.2562812444509369\n"
     ]
    },
    {
     "name": "stderr",
     "output_type": "stream",
     "text": [
      "\r",
      "Training with LBFGS:  86%|████████▌ | 860/1000 [8:29:16<1:22:08, 35.21s/it]"
     ]
    },
    {
     "name": "stdout",
     "output_type": "stream",
     "text": [
      "6.303168\n",
      "0.2562812444509369\n"
     ]
    },
    {
     "name": "stderr",
     "output_type": "stream",
     "text": [
      "\r",
      "Training with LBFGS:  86%|████████▌ | 861/1000 [8:29:51<1:21:31, 35.19s/it]"
     ]
    },
    {
     "name": "stdout",
     "output_type": "stream",
     "text": [
      "6.374482\n",
      "0.2562812444509369\n"
     ]
    },
    {
     "name": "stderr",
     "output_type": "stream",
     "text": [
      "\r",
      "Training with LBFGS:  86%|████████▌ | 862/1000 [8:30:26<1:20:55, 35.18s/it]"
     ]
    },
    {
     "name": "stdout",
     "output_type": "stream",
     "text": [
      "6.235162\n",
      "0.2562812444509369\n"
     ]
    },
    {
     "name": "stderr",
     "output_type": "stream",
     "text": [
      "\r",
      "Training with LBFGS:  86%|████████▋ | 863/1000 [8:31:02<1:20:22, 35.20s/it]"
     ]
    },
    {
     "name": "stdout",
     "output_type": "stream",
     "text": [
      "6.1724124\n",
      "0.2562812444509369\n"
     ]
    },
    {
     "name": "stderr",
     "output_type": "stream",
     "text": [
      "\r",
      "Training with LBFGS:  86%|████████▋ | 864/1000 [8:31:37<1:19:48, 35.21s/it]"
     ]
    },
    {
     "name": "stdout",
     "output_type": "stream",
     "text": [
      "6.321971\n",
      "0.2562812444509369\n"
     ]
    },
    {
     "name": "stderr",
     "output_type": "stream",
     "text": [
      "\r",
      "Training with LBFGS:  86%|████████▋ | 865/1000 [8:32:12<1:19:15, 35.22s/it]"
     ]
    },
    {
     "name": "stdout",
     "output_type": "stream",
     "text": [
      "6.2802176\n",
      "0.2562812444509369\n"
     ]
    },
    {
     "name": "stderr",
     "output_type": "stream",
     "text": [
      "\r",
      "Training with LBFGS:  87%|████████▋ | 866/1000 [8:32:47<1:18:43, 35.25s/it]"
     ]
    },
    {
     "name": "stdout",
     "output_type": "stream",
     "text": [
      "6.246528\n",
      "0.2562812444509369\n"
     ]
    },
    {
     "name": "stderr",
     "output_type": "stream",
     "text": [
      "\r",
      "Training with LBFGS:  87%|████████▋ | 867/1000 [8:33:23<1:18:11, 35.27s/it]"
     ]
    },
    {
     "name": "stdout",
     "output_type": "stream",
     "text": [
      "6.3670545\n",
      "0.2562812444509369\n"
     ]
    },
    {
     "name": "stderr",
     "output_type": "stream",
     "text": [
      "\r",
      "Training with LBFGS:  87%|████████▋ | 868/1000 [8:33:58<1:17:38, 35.29s/it]"
     ]
    },
    {
     "name": "stdout",
     "output_type": "stream",
     "text": [
      "6.372954\n",
      "0.2562812444509369\n"
     ]
    },
    {
     "name": "stderr",
     "output_type": "stream",
     "text": [
      "\r",
      "Training with LBFGS:  87%|████████▋ | 869/1000 [8:34:33<1:17:04, 35.30s/it]"
     ]
    },
    {
     "name": "stdout",
     "output_type": "stream",
     "text": [
      "6.287638\n",
      "0.2562812444509369\n"
     ]
    },
    {
     "name": "stderr",
     "output_type": "stream",
     "text": [
      "\r",
      "Training with LBFGS:  87%|████████▋ | 870/1000 [8:35:09<1:16:29, 35.30s/it]"
     ]
    },
    {
     "name": "stdout",
     "output_type": "stream",
     "text": [
      "6.2746143\n",
      "0.2562812444509369\n"
     ]
    },
    {
     "name": "stderr",
     "output_type": "stream",
     "text": [
      "\r",
      "Training with LBFGS:  87%|████████▋ | 871/1000 [8:35:44<1:15:55, 35.32s/it]"
     ]
    },
    {
     "name": "stdout",
     "output_type": "stream",
     "text": [
      "6.284034\n",
      "0.2562812444509369\n"
     ]
    },
    {
     "name": "stderr",
     "output_type": "stream",
     "text": [
      "\r",
      "Training with LBFGS:  87%|████████▋ | 872/1000 [8:36:19<1:15:18, 35.30s/it]"
     ]
    },
    {
     "name": "stdout",
     "output_type": "stream",
     "text": [
      "6.3321085\n",
      "0.2562812444509369\n"
     ]
    },
    {
     "name": "stderr",
     "output_type": "stream",
     "text": [
      "\r",
      "Training with LBFGS:  87%|████████▋ | 873/1000 [8:36:55<1:14:39, 35.27s/it]"
     ]
    },
    {
     "name": "stdout",
     "output_type": "stream",
     "text": [
      "6.2536993\n",
      "0.2562812444509369\n"
     ]
    },
    {
     "name": "stderr",
     "output_type": "stream",
     "text": [
      "\r",
      "Training with LBFGS:  87%|████████▋ | 874/1000 [8:37:30<1:14:02, 35.26s/it]"
     ]
    },
    {
     "name": "stdout",
     "output_type": "stream",
     "text": [
      "6.2421994\n",
      "0.2562812444509369\n"
     ]
    },
    {
     "name": "stderr",
     "output_type": "stream",
     "text": [
      "\r",
      "Training with LBFGS:  88%|████████▊ | 875/1000 [8:38:05<1:13:26, 35.25s/it]"
     ]
    },
    {
     "name": "stdout",
     "output_type": "stream",
     "text": [
      "6.2793\n",
      "0.2562812444509369\n"
     ]
    },
    {
     "name": "stderr",
     "output_type": "stream",
     "text": [
      "\r",
      "Training with LBFGS:  88%|████████▊ | 876/1000 [8:38:40<1:12:47, 35.22s/it]"
     ]
    },
    {
     "name": "stdout",
     "output_type": "stream",
     "text": [
      "6.4071407\n",
      "0.2562812444509369\n"
     ]
    },
    {
     "name": "stderr",
     "output_type": "stream",
     "text": [
      "\r",
      "Training with LBFGS:  88%|████████▊ | 877/1000 [8:39:15<1:12:10, 35.21s/it]"
     ]
    },
    {
     "name": "stdout",
     "output_type": "stream",
     "text": [
      "6.4081736\n",
      "0.2562812444509369\n"
     ]
    },
    {
     "name": "stderr",
     "output_type": "stream",
     "text": [
      "\r",
      "Training with LBFGS:  88%|████████▊ | 878/1000 [8:39:50<1:11:32, 35.19s/it]"
     ]
    },
    {
     "name": "stdout",
     "output_type": "stream",
     "text": [
      "6.27524\n",
      "0.2562812444509369\n"
     ]
    },
    {
     "name": "stderr",
     "output_type": "stream",
     "text": [
      "\r",
      "Training with LBFGS:  88%|████████▊ | 879/1000 [8:40:26<1:10:56, 35.18s/it]"
     ]
    },
    {
     "name": "stdout",
     "output_type": "stream",
     "text": [
      "6.394247\n",
      "0.2562812444509369\n"
     ]
    },
    {
     "name": "stderr",
     "output_type": "stream",
     "text": [
      "\r",
      "Training with LBFGS:  88%|████████▊ | 880/1000 [8:41:01<1:10:20, 35.17s/it]"
     ]
    },
    {
     "name": "stdout",
     "output_type": "stream",
     "text": [
      "6.326697\n",
      "0.2562812444509369\n"
     ]
    },
    {
     "name": "stderr",
     "output_type": "stream",
     "text": [
      "\r",
      "Training with LBFGS:  88%|████████▊ | 881/1000 [8:41:36<1:09:49, 35.20s/it]"
     ]
    },
    {
     "name": "stdout",
     "output_type": "stream",
     "text": [
      "6.3474317\n",
      "0.2562812444509369\n"
     ]
    },
    {
     "name": "stderr",
     "output_type": "stream",
     "text": [
      "\r",
      "Training with LBFGS:  88%|████████▊ | 882/1000 [8:42:11<1:09:16, 35.22s/it]"
     ]
    },
    {
     "name": "stdout",
     "output_type": "stream",
     "text": [
      "6.2778583\n",
      "0.2562812444509369\n"
     ]
    },
    {
     "name": "stderr",
     "output_type": "stream",
     "text": [
      "\r",
      "Training with LBFGS:  88%|████████▊ | 883/1000 [8:42:47<1:08:44, 35.25s/it]"
     ]
    },
    {
     "name": "stdout",
     "output_type": "stream",
     "text": [
      "6.4002604\n",
      "0.2562812444509369\n"
     ]
    },
    {
     "name": "stderr",
     "output_type": "stream",
     "text": [
      "\r",
      "Training with LBFGS:  88%|████████▊ | 884/1000 [8:43:22<1:08:11, 35.27s/it]"
     ]
    },
    {
     "name": "stdout",
     "output_type": "stream",
     "text": [
      "6.3672886\n",
      "0.2562812444509369\n"
     ]
    },
    {
     "name": "stderr",
     "output_type": "stream",
     "text": [
      "\r",
      "Training with LBFGS:  88%|████████▊ | 885/1000 [8:43:57<1:07:37, 35.29s/it]"
     ]
    },
    {
     "name": "stdout",
     "output_type": "stream",
     "text": [
      "6.315764\n",
      "0.2562812444509369\n"
     ]
    },
    {
     "name": "stderr",
     "output_type": "stream",
     "text": [
      "\r",
      "Training with LBFGS:  89%|████████▊ | 886/1000 [8:44:33<1:07:03, 35.29s/it]"
     ]
    },
    {
     "name": "stdout",
     "output_type": "stream",
     "text": [
      "6.3493\n",
      "0.2562812444509369\n"
     ]
    },
    {
     "name": "stderr",
     "output_type": "stream",
     "text": [
      "\r",
      "Training with LBFGS:  89%|████████▊ | 887/1000 [8:45:08<1:06:29, 35.30s/it]"
     ]
    },
    {
     "name": "stdout",
     "output_type": "stream",
     "text": [
      "6.2672157\n",
      "0.2562812444509369\n"
     ]
    },
    {
     "name": "stderr",
     "output_type": "stream",
     "text": [
      "\r",
      "Training with LBFGS:  89%|████████▉ | 888/1000 [8:45:43<1:05:54, 35.31s/it]"
     ]
    },
    {
     "name": "stdout",
     "output_type": "stream",
     "text": [
      "6.237733\n",
      "0.2562812444509369\n"
     ]
    },
    {
     "name": "stderr",
     "output_type": "stream",
     "text": [
      "\r",
      "Training with LBFGS:  89%|████████▉ | 889/1000 [8:46:18<1:05:16, 35.29s/it]"
     ]
    },
    {
     "name": "stdout",
     "output_type": "stream",
     "text": [
      "6.2921057\n",
      "0.2562812444509369\n"
     ]
    },
    {
     "name": "stderr",
     "output_type": "stream",
     "text": [
      "\r",
      "Training with LBFGS:  89%|████████▉ | 890/1000 [8:46:54<1:04:39, 35.27s/it]"
     ]
    },
    {
     "name": "stdout",
     "output_type": "stream",
     "text": [
      "6.3165684\n",
      "0.2562812444509369\n"
     ]
    },
    {
     "name": "stderr",
     "output_type": "stream",
     "text": [
      "\r",
      "Training with LBFGS:  89%|████████▉ | 891/1000 [8:47:29<1:04:02, 35.26s/it]"
     ]
    },
    {
     "name": "stdout",
     "output_type": "stream",
     "text": [
      "6.4297733\n",
      "0.2562812444509369\n"
     ]
    },
    {
     "name": "stderr",
     "output_type": "stream",
     "text": [
      "\r",
      "Training with LBFGS:  89%|████████▉ | 892/1000 [8:48:04<1:03:26, 35.25s/it]"
     ]
    },
    {
     "name": "stdout",
     "output_type": "stream",
     "text": [
      "6.407999\n",
      "0.2562812444509369\n"
     ]
    },
    {
     "name": "stderr",
     "output_type": "stream",
     "text": [
      "\r",
      "Training with LBFGS:  89%|████████▉ | 893/1000 [8:48:39<1:02:50, 35.24s/it]"
     ]
    },
    {
     "name": "stdout",
     "output_type": "stream",
     "text": [
      "6.172914\n",
      "0.2562812444509369\n"
     ]
    },
    {
     "name": "stderr",
     "output_type": "stream",
     "text": [
      "\r",
      "Training with LBFGS:  89%|████████▉ | 894/1000 [8:49:15<1:02:12, 35.21s/it]"
     ]
    },
    {
     "name": "stdout",
     "output_type": "stream",
     "text": [
      "6.3588414\n",
      "0.2562812444509369\n"
     ]
    },
    {
     "name": "stderr",
     "output_type": "stream",
     "text": [
      "\r",
      "Training with LBFGS:  90%|████████▉ | 895/1000 [8:49:50<1:01:35, 35.20s/it]"
     ]
    },
    {
     "name": "stdout",
     "output_type": "stream",
     "text": [
      "6.343511\n",
      "0.2562812444509369\n"
     ]
    },
    {
     "name": "stderr",
     "output_type": "stream",
     "text": [
      "\r",
      "Training with LBFGS:  90%|████████▉ | 896/1000 [8:50:25<1:00:59, 35.19s/it]"
     ]
    },
    {
     "name": "stdout",
     "output_type": "stream",
     "text": [
      "6.2977815\n",
      "0.2562812444509369\n"
     ]
    },
    {
     "name": "stderr",
     "output_type": "stream",
     "text": [
      "\r",
      "Training with LBFGS:  90%|████████▉ | 897/1000 [8:51:00<1:00:23, 35.18s/it]"
     ]
    },
    {
     "name": "stdout",
     "output_type": "stream",
     "text": [
      "6.373033\n",
      "0.2562812444509369\n"
     ]
    },
    {
     "name": "stderr",
     "output_type": "stream",
     "text": [
      "\r",
      "Training with LBFGS:  90%|████████▉ | 898/1000 [8:51:35<59:50, 35.20s/it]  "
     ]
    },
    {
     "name": "stdout",
     "output_type": "stream",
     "text": [
      "6.1537156\n",
      "0.2562812444509369\n"
     ]
    },
    {
     "name": "stderr",
     "output_type": "stream",
     "text": [
      "\r",
      "Training with LBFGS:  90%|████████▉ | 899/1000 [8:52:11<59:18, 35.23s/it]"
     ]
    },
    {
     "name": "stdout",
     "output_type": "stream",
     "text": [
      "6.3007703\n",
      "0.2562812444509369\n"
     ]
    },
    {
     "name": "stderr",
     "output_type": "stream",
     "text": [
      "\r",
      "Training with LBFGS:  90%|█████████ | 900/1000 [8:52:46<58:45, 35.26s/it]"
     ]
    },
    {
     "name": "stdout",
     "output_type": "stream",
     "text": [
      "6.330779\n",
      "0.2562812444509369\n"
     ]
    },
    {
     "name": "stderr",
     "output_type": "stream",
     "text": [
      "\r",
      "Training with LBFGS:  90%|█████████ | 901/1000 [8:53:21<58:12, 35.27s/it]"
     ]
    },
    {
     "name": "stdout",
     "output_type": "stream",
     "text": [
      "6.083862\n",
      "0.2562812444509369\n"
     ]
    },
    {
     "name": "stderr",
     "output_type": "stream",
     "text": [
      "\r",
      "Training with LBFGS:  90%|█████████ | 902/1000 [8:53:57<57:38, 35.29s/it]"
     ]
    },
    {
     "name": "stdout",
     "output_type": "stream",
     "text": [
      "6.2963476\n",
      "0.2562812444509369\n"
     ]
    },
    {
     "name": "stderr",
     "output_type": "stream",
     "text": [
      "\r",
      "Training with LBFGS:  90%|█████████ | 903/1000 [8:54:32<57:03, 35.30s/it]"
     ]
    },
    {
     "name": "stdout",
     "output_type": "stream",
     "text": [
      "6.258264\n",
      "0.2562812444509369\n"
     ]
    },
    {
     "name": "stderr",
     "output_type": "stream",
     "text": [
      "\r",
      "Training with LBFGS:  90%|█████████ | 904/1000 [8:55:07<56:28, 35.30s/it]"
     ]
    },
    {
     "name": "stdout",
     "output_type": "stream",
     "text": [
      "6.2811775\n",
      "0.2562812444509369\n"
     ]
    },
    {
     "name": "stderr",
     "output_type": "stream",
     "text": [
      "\r",
      "Training with LBFGS:  90%|█████████ | 905/1000 [8:55:42<55:54, 35.31s/it]"
     ]
    },
    {
     "name": "stdout",
     "output_type": "stream",
     "text": [
      "6.465747\n",
      "0.2562812444509369\n"
     ]
    },
    {
     "name": "stderr",
     "output_type": "stream",
     "text": [
      "\r",
      "Training with LBFGS:  91%|█████████ | 906/1000 [8:56:18<55:19, 35.31s/it]"
     ]
    },
    {
     "name": "stdout",
     "output_type": "stream",
     "text": [
      "6.4035406\n",
      "0.2562812444509369\n"
     ]
    },
    {
     "name": "stderr",
     "output_type": "stream",
     "text": [
      "\r",
      "Training with LBFGS:  91%|█████████ | 907/1000 [8:56:53<54:44, 35.31s/it]"
     ]
    },
    {
     "name": "stdout",
     "output_type": "stream",
     "text": [
      "6.252332\n",
      "0.2562812444509369\n"
     ]
    },
    {
     "name": "stderr",
     "output_type": "stream",
     "text": [
      "\r",
      "Training with LBFGS:  91%|█████████ | 908/1000 [8:57:28<54:05, 35.28s/it]"
     ]
    },
    {
     "name": "stdout",
     "output_type": "stream",
     "text": [
      "6.253822\n",
      "0.2562812444509369\n"
     ]
    },
    {
     "name": "stderr",
     "output_type": "stream",
     "text": [
      "\r",
      "Training with LBFGS:  91%|█████████ | 909/1000 [8:58:04<53:29, 35.27s/it]"
     ]
    },
    {
     "name": "stdout",
     "output_type": "stream",
     "text": [
      "6.3996263\n",
      "0.2562812444509369\n"
     ]
    },
    {
     "name": "stderr",
     "output_type": "stream",
     "text": [
      "\r",
      "Training with LBFGS:  91%|█████████ | 910/1000 [8:58:39<52:51, 35.24s/it]"
     ]
    },
    {
     "name": "stdout",
     "output_type": "stream",
     "text": [
      "6.1522923\n",
      "0.2562812444509369\n"
     ]
    },
    {
     "name": "stderr",
     "output_type": "stream",
     "text": [
      "\r",
      "Training with LBFGS:  91%|█████████ | 911/1000 [8:59:14<52:13, 35.21s/it]"
     ]
    },
    {
     "name": "stdout",
     "output_type": "stream",
     "text": [
      "6.2763224\n",
      "0.2562812444509369\n"
     ]
    },
    {
     "name": "stderr",
     "output_type": "stream",
     "text": [
      "\r",
      "Training with LBFGS:  91%|█████████ | 912/1000 [8:59:49<51:37, 35.20s/it]"
     ]
    },
    {
     "name": "stdout",
     "output_type": "stream",
     "text": [
      "6.1940007\n",
      "0.2562812444509369\n"
     ]
    },
    {
     "name": "stderr",
     "output_type": "stream",
     "text": [
      "\r",
      "Training with LBFGS:  91%|█████████▏| 913/1000 [9:00:24<51:00, 35.18s/it]"
     ]
    },
    {
     "name": "stdout",
     "output_type": "stream",
     "text": [
      "6.1596303\n",
      "0.2562812444509369\n"
     ]
    },
    {
     "name": "stderr",
     "output_type": "stream",
     "text": [
      "\r",
      "Training with LBFGS:  91%|█████████▏| 914/1000 [9:00:59<50:25, 35.18s/it]"
     ]
    },
    {
     "name": "stdout",
     "output_type": "stream",
     "text": [
      "6.3844037\n",
      "0.2562812444509369\n"
     ]
    },
    {
     "name": "stderr",
     "output_type": "stream",
     "text": [
      "\r",
      "Training with LBFGS:  92%|█████████▏| 915/1000 [9:01:35<49:50, 35.18s/it]"
     ]
    },
    {
     "name": "stdout",
     "output_type": "stream",
     "text": [
      "6.2706084\n",
      "0.2562812444509369\n"
     ]
    },
    {
     "name": "stderr",
     "output_type": "stream",
     "text": [
      "\r",
      "Training with LBFGS:  92%|█████████▏| 916/1000 [9:02:10<49:16, 35.20s/it]"
     ]
    },
    {
     "name": "stdout",
     "output_type": "stream",
     "text": [
      "6.2760773\n",
      "0.2562812444509369\n"
     ]
    },
    {
     "name": "stderr",
     "output_type": "stream",
     "text": [
      "\r",
      "Training with LBFGS:  92%|█████████▏| 917/1000 [9:02:45<48:43, 35.23s/it]"
     ]
    },
    {
     "name": "stdout",
     "output_type": "stream",
     "text": [
      "6.3815827\n",
      "0.2562812444509369\n"
     ]
    },
    {
     "name": "stderr",
     "output_type": "stream",
     "text": [
      "\r",
      "Training with LBFGS:  92%|█████████▏| 918/1000 [9:03:20<48:10, 35.25s/it]"
     ]
    },
    {
     "name": "stdout",
     "output_type": "stream",
     "text": [
      "6.382654\n",
      "0.2562812444509369\n"
     ]
    },
    {
     "name": "stderr",
     "output_type": "stream",
     "text": [
      "\r",
      "Training with LBFGS:  92%|█████████▏| 919/1000 [9:03:56<47:37, 35.27s/it]"
     ]
    },
    {
     "name": "stdout",
     "output_type": "stream",
     "text": [
      "6.2395844\n",
      "0.2562812444509369\n"
     ]
    },
    {
     "name": "stderr",
     "output_type": "stream",
     "text": [
      "\r",
      "Training with LBFGS:  92%|█████████▏| 920/1000 [9:04:31<47:03, 35.29s/it]"
     ]
    },
    {
     "name": "stdout",
     "output_type": "stream",
     "text": [
      "6.3124447\n",
      "0.2562812444509369\n"
     ]
    },
    {
     "name": "stderr",
     "output_type": "stream",
     "text": [
      "\r",
      "Training with LBFGS:  92%|█████████▏| 921/1000 [9:05:06<46:28, 35.29s/it]"
     ]
    },
    {
     "name": "stdout",
     "output_type": "stream",
     "text": [
      "6.0884833\n",
      "0.2562812444509369\n"
     ]
    },
    {
     "name": "stderr",
     "output_type": "stream",
     "text": [
      "\r",
      "Training with LBFGS:  92%|█████████▏| 922/1000 [9:05:42<45:53, 35.30s/it]"
     ]
    },
    {
     "name": "stdout",
     "output_type": "stream",
     "text": [
      "6.2552276\n",
      "0.2562812444509369\n"
     ]
    },
    {
     "name": "stderr",
     "output_type": "stream",
     "text": [
      "\r",
      "Training with LBFGS:  92%|█████████▏| 923/1000 [9:06:17<45:15, 35.26s/it]"
     ]
    },
    {
     "name": "stdout",
     "output_type": "stream",
     "text": [
      "6.486192\n",
      "0.2562812444509369\n"
     ]
    },
    {
     "name": "stderr",
     "output_type": "stream",
     "text": [
      "\r",
      "Training with LBFGS:  92%|█████████▏| 924/1000 [9:06:52<44:39, 35.25s/it]"
     ]
    },
    {
     "name": "stdout",
     "output_type": "stream",
     "text": [
      "6.264428\n",
      "0.2562812444509369\n"
     ]
    },
    {
     "name": "stderr",
     "output_type": "stream",
     "text": [
      "\r",
      "Training with LBFGS:  92%|█████████▎| 925/1000 [9:07:27<44:05, 35.28s/it]"
     ]
    },
    {
     "name": "stdout",
     "output_type": "stream",
     "text": [
      "6.341043\n",
      "0.2562812444509369\n"
     ]
    },
    {
     "name": "stderr",
     "output_type": "stream",
     "text": [
      "\r",
      "Training with LBFGS:  93%|█████████▎| 926/1000 [9:08:03<43:29, 35.27s/it]"
     ]
    },
    {
     "name": "stdout",
     "output_type": "stream",
     "text": [
      "6.3224936\n",
      "0.2562812444509369\n"
     ]
    },
    {
     "name": "stderr",
     "output_type": "stream",
     "text": [
      "\r",
      "Training with LBFGS:  93%|█████████▎| 927/1000 [9:08:38<42:53, 35.25s/it]"
     ]
    },
    {
     "name": "stdout",
     "output_type": "stream",
     "text": [
      "6.3692975\n",
      "0.2562812444509369\n"
     ]
    },
    {
     "name": "stderr",
     "output_type": "stream",
     "text": [
      "\r",
      "Training with LBFGS:  93%|█████████▎| 928/1000 [9:09:13<42:16, 35.23s/it]"
     ]
    },
    {
     "name": "stdout",
     "output_type": "stream",
     "text": [
      "6.3180866\n",
      "0.2562812444509369\n"
     ]
    },
    {
     "name": "stderr",
     "output_type": "stream",
     "text": [
      "\r",
      "Training with LBFGS:  93%|█████████▎| 929/1000 [9:09:48<41:39, 35.20s/it]"
     ]
    },
    {
     "name": "stdout",
     "output_type": "stream",
     "text": [
      "6.373977\n",
      "0.2562812444509369\n"
     ]
    },
    {
     "name": "stderr",
     "output_type": "stream",
     "text": [
      "\r",
      "Training with LBFGS:  93%|█████████▎| 930/1000 [9:10:23<41:03, 35.20s/it]"
     ]
    },
    {
     "name": "stdout",
     "output_type": "stream",
     "text": [
      "6.367489\n",
      "0.2562812444509369\n"
     ]
    },
    {
     "name": "stderr",
     "output_type": "stream",
     "text": [
      "\r",
      "Training with LBFGS:  93%|█████████▎| 931/1000 [9:10:58<40:27, 35.18s/it]"
     ]
    },
    {
     "name": "stdout",
     "output_type": "stream",
     "text": [
      "6.338412\n",
      "0.2562812444509369\n"
     ]
    },
    {
     "name": "stderr",
     "output_type": "stream",
     "text": [
      "\r",
      "Training with LBFGS:  93%|█████████▎| 932/1000 [9:11:34<39:53, 35.20s/it]"
     ]
    },
    {
     "name": "stdout",
     "output_type": "stream",
     "text": [
      "6.3575106\n",
      "0.2562812444509369\n"
     ]
    },
    {
     "name": "stderr",
     "output_type": "stream",
     "text": [
      "\r",
      "Training with LBFGS:  93%|█████████▎| 933/1000 [9:12:09<39:18, 35.21s/it]"
     ]
    },
    {
     "name": "stdout",
     "output_type": "stream",
     "text": [
      "6.3185616\n",
      "0.2562812444509369\n"
     ]
    },
    {
     "name": "stderr",
     "output_type": "stream",
     "text": [
      "\r",
      "Training with LBFGS:  93%|█████████▎| 934/1000 [9:12:44<38:45, 35.24s/it]"
     ]
    },
    {
     "name": "stdout",
     "output_type": "stream",
     "text": [
      "6.302157\n",
      "0.2562812444509369\n"
     ]
    },
    {
     "name": "stderr",
     "output_type": "stream",
     "text": [
      "\r",
      "Training with LBFGS:  94%|█████████▎| 935/1000 [9:13:20<38:11, 35.26s/it]"
     ]
    },
    {
     "name": "stdout",
     "output_type": "stream",
     "text": [
      "6.3956065\n",
      "0.2562812444509369\n"
     ]
    },
    {
     "name": "stderr",
     "output_type": "stream",
     "text": [
      "\r",
      "Training with LBFGS:  94%|█████████▎| 936/1000 [9:13:55<37:36, 35.25s/it]"
     ]
    },
    {
     "name": "stdout",
     "output_type": "stream",
     "text": [
      "6.3221693\n",
      "0.2562812444509369\n"
     ]
    },
    {
     "name": "stderr",
     "output_type": "stream",
     "text": [
      "\r",
      "Training with LBFGS:  94%|█████████▎| 937/1000 [9:14:30<37:02, 35.28s/it]"
     ]
    },
    {
     "name": "stdout",
     "output_type": "stream",
     "text": [
      "6.352445\n",
      "0.2562812444509369\n"
     ]
    },
    {
     "name": "stderr",
     "output_type": "stream",
     "text": [
      "\r",
      "Training with LBFGS:  94%|█████████▍| 938/1000 [9:15:05<36:27, 35.29s/it]"
     ]
    },
    {
     "name": "stdout",
     "output_type": "stream",
     "text": [
      "6.2473025\n",
      "0.2562812444509369\n"
     ]
    },
    {
     "name": "stderr",
     "output_type": "stream",
     "text": [
      "\r",
      "Training with LBFGS:  94%|█████████▍| 939/1000 [9:15:41<35:52, 35.29s/it]"
     ]
    },
    {
     "name": "stdout",
     "output_type": "stream",
     "text": [
      "6.3794374\n",
      "0.2562812444509369\n"
     ]
    },
    {
     "name": "stderr",
     "output_type": "stream",
     "text": [
      "\r",
      "Training with LBFGS:  94%|█████████▍| 940/1000 [9:16:16<35:18, 35.30s/it]"
     ]
    },
    {
     "name": "stdout",
     "output_type": "stream",
     "text": [
      "6.3416686\n",
      "0.2562812444509369\n"
     ]
    },
    {
     "name": "stderr",
     "output_type": "stream",
     "text": [
      "\r",
      "Training with LBFGS:  94%|█████████▍| 941/1000 [9:16:51<34:41, 35.28s/it]"
     ]
    },
    {
     "name": "stdout",
     "output_type": "stream",
     "text": [
      "6.342914\n",
      "0.2562812444509369\n"
     ]
    },
    {
     "name": "stderr",
     "output_type": "stream",
     "text": [
      "\r",
      "Training with LBFGS:  94%|█████████▍| 942/1000 [9:17:27<34:05, 35.26s/it]"
     ]
    },
    {
     "name": "stdout",
     "output_type": "stream",
     "text": [
      "6.404691\n",
      "0.2562812444509369\n"
     ]
    },
    {
     "name": "stderr",
     "output_type": "stream",
     "text": [
      "\r",
      "Training with LBFGS:  94%|█████████▍| 943/1000 [9:18:02<33:29, 35.25s/it]"
     ]
    },
    {
     "name": "stdout",
     "output_type": "stream",
     "text": [
      "6.214818\n",
      "0.2562812444509369\n"
     ]
    },
    {
     "name": "stderr",
     "output_type": "stream",
     "text": [
      "\r",
      "Training with LBFGS:  94%|█████████▍| 944/1000 [9:18:37<32:53, 35.24s/it]"
     ]
    },
    {
     "name": "stdout",
     "output_type": "stream",
     "text": [
      "6.3191\n",
      "0.2562812444509369\n"
     ]
    },
    {
     "name": "stderr",
     "output_type": "stream",
     "text": [
      "\r",
      "Training with LBFGS:  94%|█████████▍| 945/1000 [9:19:12<32:17, 35.23s/it]"
     ]
    },
    {
     "name": "stdout",
     "output_type": "stream",
     "text": [
      "6.435367\n",
      "0.2562812444509369\n"
     ]
    },
    {
     "name": "stderr",
     "output_type": "stream",
     "text": [
      "\r",
      "Training with LBFGS:  95%|█████████▍| 946/1000 [9:19:47<31:41, 35.22s/it]"
     ]
    },
    {
     "name": "stdout",
     "output_type": "stream",
     "text": [
      "6.4908795\n",
      "0.2562812444509369\n"
     ]
    },
    {
     "name": "stderr",
     "output_type": "stream",
     "text": [
      "\r",
      "Training with LBFGS:  95%|█████████▍| 947/1000 [9:20:23<31:06, 35.21s/it]"
     ]
    },
    {
     "name": "stdout",
     "output_type": "stream",
     "text": [
      "6.3118563\n",
      "0.2562812444509369\n"
     ]
    },
    {
     "name": "stderr",
     "output_type": "stream",
     "text": [
      "\r",
      "Training with LBFGS:  95%|█████████▍| 948/1000 [9:20:58<30:30, 35.20s/it]"
     ]
    },
    {
     "name": "stdout",
     "output_type": "stream",
     "text": [
      "6.312528\n",
      "0.2562812444509369\n"
     ]
    },
    {
     "name": "stderr",
     "output_type": "stream",
     "text": [
      "\r",
      "Training with LBFGS:  95%|█████████▍| 949/1000 [9:21:33<29:54, 35.19s/it]"
     ]
    },
    {
     "name": "stdout",
     "output_type": "stream",
     "text": [
      "6.3857136\n",
      "0.2562812444509369\n"
     ]
    },
    {
     "name": "stderr",
     "output_type": "stream",
     "text": [
      "\r",
      "Training with LBFGS:  95%|█████████▌| 950/1000 [9:22:08<29:19, 35.20s/it]"
     ]
    },
    {
     "name": "stdout",
     "output_type": "stream",
     "text": [
      "6.3699837\n",
      "0.2562812444509369\n"
     ]
    },
    {
     "name": "stderr",
     "output_type": "stream",
     "text": [
      "\r",
      "Training with LBFGS:  95%|█████████▌| 951/1000 [9:22:43<28:44, 35.19s/it]"
     ]
    },
    {
     "name": "stdout",
     "output_type": "stream",
     "text": [
      "6.4214134\n",
      "0.2562812444509369\n"
     ]
    },
    {
     "name": "stderr",
     "output_type": "stream",
     "text": [
      "\r",
      "Training with LBFGS:  95%|█████████▌| 952/1000 [9:23:18<28:08, 35.18s/it]"
     ]
    },
    {
     "name": "stdout",
     "output_type": "stream",
     "text": [
      "6.330615\n",
      "0.2562812444509369\n"
     ]
    },
    {
     "name": "stderr",
     "output_type": "stream",
     "text": [
      "\r",
      "Training with LBFGS:  95%|█████████▌| 953/1000 [9:23:54<27:33, 35.18s/it]"
     ]
    },
    {
     "name": "stdout",
     "output_type": "stream",
     "text": [
      "6.4075904\n",
      "0.2562812444509369\n"
     ]
    },
    {
     "name": "stderr",
     "output_type": "stream",
     "text": [
      "\r",
      "Training with LBFGS:  95%|█████████▌| 954/1000 [9:24:29<26:58, 35.18s/it]"
     ]
    },
    {
     "name": "stdout",
     "output_type": "stream",
     "text": [
      "6.419125\n",
      "0.2562812444509369\n"
     ]
    },
    {
     "name": "stderr",
     "output_type": "stream",
     "text": [
      "\r",
      "Training with LBFGS:  96%|█████████▌| 955/1000 [9:25:04<26:23, 35.19s/it]"
     ]
    },
    {
     "name": "stdout",
     "output_type": "stream",
     "text": [
      "6.420614\n",
      "0.2562812444509369\n"
     ]
    },
    {
     "name": "stderr",
     "output_type": "stream",
     "text": [
      "\r",
      "Training with LBFGS:  96%|█████████▌| 956/1000 [9:25:39<25:48, 35.19s/it]"
     ]
    },
    {
     "name": "stdout",
     "output_type": "stream",
     "text": [
      "6.3202024\n",
      "0.2562812444509369\n"
     ]
    },
    {
     "name": "stderr",
     "output_type": "stream",
     "text": [
      "\r",
      "Training with LBFGS:  96%|█████████▌| 957/1000 [9:26:14<25:13, 35.19s/it]"
     ]
    },
    {
     "name": "stdout",
     "output_type": "stream",
     "text": [
      "6.3923054\n",
      "0.2562812444509369\n"
     ]
    },
    {
     "name": "stderr",
     "output_type": "stream",
     "text": [
      "\r",
      "Training with LBFGS:  96%|█████████▌| 958/1000 [9:26:50<24:37, 35.18s/it]"
     ]
    },
    {
     "name": "stdout",
     "output_type": "stream",
     "text": [
      "6.3404984\n",
      "0.2562812444509369\n"
     ]
    },
    {
     "name": "stderr",
     "output_type": "stream",
     "text": [
      "\r",
      "Training with LBFGS:  96%|█████████▌| 959/1000 [9:27:25<24:02, 35.19s/it]"
     ]
    },
    {
     "name": "stdout",
     "output_type": "stream",
     "text": [
      "6.31941\n",
      "0.2562812444509369\n"
     ]
    },
    {
     "name": "stderr",
     "output_type": "stream",
     "text": [
      "\r",
      "Training with LBFGS:  96%|█████████▌| 960/1000 [9:28:00<23:27, 35.18s/it]"
     ]
    },
    {
     "name": "stdout",
     "output_type": "stream",
     "text": [
      "6.2714405\n",
      "0.2562812444509369\n"
     ]
    },
    {
     "name": "stderr",
     "output_type": "stream",
     "text": [
      "\r",
      "Training with LBFGS:  96%|█████████▌| 961/1000 [9:28:35<22:52, 35.19s/it]"
     ]
    },
    {
     "name": "stdout",
     "output_type": "stream",
     "text": [
      "6.21361\n",
      "0.2562812444509369\n"
     ]
    },
    {
     "name": "stderr",
     "output_type": "stream",
     "text": [
      "\r",
      "Training with LBFGS:  96%|█████████▌| 962/1000 [9:29:10<22:17, 35.19s/it]"
     ]
    },
    {
     "name": "stdout",
     "output_type": "stream",
     "text": [
      "6.3124166\n",
      "0.2562812444509369\n"
     ]
    },
    {
     "name": "stderr",
     "output_type": "stream",
     "text": [
      "\r",
      "Training with LBFGS:  96%|█████████▋| 963/1000 [9:29:46<21:42, 35.20s/it]"
     ]
    },
    {
     "name": "stdout",
     "output_type": "stream",
     "text": [
      "6.35677\n",
      "0.2562812444509369\n"
     ]
    },
    {
     "name": "stderr",
     "output_type": "stream",
     "text": [
      "\r",
      "Training with LBFGS:  96%|█████████▋| 964/1000 [9:30:21<21:06, 35.19s/it]"
     ]
    },
    {
     "name": "stdout",
     "output_type": "stream",
     "text": [
      "6.3143983\n",
      "0.2562812444509369\n"
     ]
    },
    {
     "name": "stderr",
     "output_type": "stream",
     "text": [
      "\r",
      "Training with LBFGS:  96%|█████████▋| 965/1000 [9:30:56<20:31, 35.19s/it]"
     ]
    },
    {
     "name": "stdout",
     "output_type": "stream",
     "text": [
      "6.331728\n",
      "0.2562812444509369\n"
     ]
    },
    {
     "name": "stderr",
     "output_type": "stream",
     "text": [
      "\r",
      "Training with LBFGS:  97%|█████████▋| 966/1000 [9:31:31<19:56, 35.19s/it]"
     ]
    },
    {
     "name": "stdout",
     "output_type": "stream",
     "text": [
      "6.28179\n",
      "0.2562812444509369\n"
     ]
    },
    {
     "name": "stderr",
     "output_type": "stream",
     "text": [
      "\r",
      "Training with LBFGS:  97%|█████████▋| 967/1000 [9:32:06<19:21, 35.19s/it]"
     ]
    },
    {
     "name": "stdout",
     "output_type": "stream",
     "text": [
      "6.2673697\n",
      "0.2562812444509369\n"
     ]
    },
    {
     "name": "stderr",
     "output_type": "stream",
     "text": [
      "\r",
      "Training with LBFGS:  97%|█████████▋| 968/1000 [9:32:41<18:46, 35.19s/it]"
     ]
    },
    {
     "name": "stdout",
     "output_type": "stream",
     "text": [
      "6.2456923\n",
      "0.2562812444509369\n"
     ]
    },
    {
     "name": "stderr",
     "output_type": "stream",
     "text": [
      "\r",
      "Training with LBFGS:  97%|█████████▋| 969/1000 [9:33:17<18:10, 35.19s/it]"
     ]
    },
    {
     "name": "stdout",
     "output_type": "stream",
     "text": [
      "6.306179\n",
      "0.2562812444509369\n"
     ]
    },
    {
     "name": "stderr",
     "output_type": "stream",
     "text": [
      "\r",
      "Training with LBFGS:  97%|█████████▋| 970/1000 [9:33:52<17:35, 35.19s/it]"
     ]
    },
    {
     "name": "stdout",
     "output_type": "stream",
     "text": [
      "6.380243\n",
      "0.2562812444509369\n"
     ]
    },
    {
     "name": "stderr",
     "output_type": "stream",
     "text": [
      "\r",
      "Training with LBFGS:  97%|█████████▋| 971/1000 [9:34:27<17:00, 35.19s/it]"
     ]
    },
    {
     "name": "stdout",
     "output_type": "stream",
     "text": [
      "6.242121\n",
      "0.2562812444509369\n"
     ]
    },
    {
     "name": "stderr",
     "output_type": "stream",
     "text": [
      "\r",
      "Training with LBFGS:  97%|█████████▋| 972/1000 [9:35:02<16:25, 35.19s/it]"
     ]
    },
    {
     "name": "stdout",
     "output_type": "stream",
     "text": [
      "6.441472\n",
      "0.2562812444509369\n"
     ]
    },
    {
     "name": "stderr",
     "output_type": "stream",
     "text": [
      "\r",
      "Training with LBFGS:  97%|█████████▋| 973/1000 [9:35:37<15:50, 35.20s/it]"
     ]
    },
    {
     "name": "stdout",
     "output_type": "stream",
     "text": [
      "6.340021\n",
      "0.2562812444509369\n"
     ]
    },
    {
     "name": "stderr",
     "output_type": "stream",
     "text": [
      "\r",
      "Training with LBFGS:  97%|█████████▋| 974/1000 [9:36:13<15:15, 35.20s/it]"
     ]
    },
    {
     "name": "stdout",
     "output_type": "stream",
     "text": [
      "6.364214\n",
      "0.2562812444509369\n"
     ]
    },
    {
     "name": "stderr",
     "output_type": "stream",
     "text": [
      "\r",
      "Training with LBFGS:  98%|█████████▊| 975/1000 [9:36:48<14:40, 35.20s/it]"
     ]
    },
    {
     "name": "stdout",
     "output_type": "stream",
     "text": [
      "6.346864\n",
      "0.2562812444509369\n"
     ]
    },
    {
     "name": "stderr",
     "output_type": "stream",
     "text": [
      "\r",
      "Training with LBFGS:  98%|█████████▊| 976/1000 [9:37:23<14:04, 35.20s/it]"
     ]
    },
    {
     "name": "stdout",
     "output_type": "stream",
     "text": [
      "6.3604627\n",
      "0.2562812444509369\n"
     ]
    },
    {
     "name": "stderr",
     "output_type": "stream",
     "text": [
      "\r",
      "Training with LBFGS:  98%|█████████▊| 977/1000 [9:37:58<13:29, 35.18s/it]"
     ]
    },
    {
     "name": "stdout",
     "output_type": "stream",
     "text": [
      "6.3649845\n",
      "0.2562812444509369\n"
     ]
    },
    {
     "name": "stderr",
     "output_type": "stream",
     "text": [
      "\r",
      "Training with LBFGS:  98%|█████████▊| 978/1000 [9:38:33<12:53, 35.18s/it]"
     ]
    },
    {
     "name": "stdout",
     "output_type": "stream",
     "text": [
      "6.375218\n",
      "0.2562812444509369\n"
     ]
    },
    {
     "name": "stderr",
     "output_type": "stream",
     "text": [
      "\r",
      "Training with LBFGS:  98%|█████████▊| 979/1000 [9:39:09<12:18, 35.18s/it]"
     ]
    },
    {
     "name": "stdout",
     "output_type": "stream",
     "text": [
      "6.242691\n",
      "0.2562812444509369\n"
     ]
    },
    {
     "name": "stderr",
     "output_type": "stream",
     "text": [
      "\r",
      "Training with LBFGS:  98%|█████████▊| 980/1000 [9:39:44<11:43, 35.19s/it]"
     ]
    },
    {
     "name": "stdout",
     "output_type": "stream",
     "text": [
      "6.2215242\n",
      "0.2562812444509369\n"
     ]
    },
    {
     "name": "stderr",
     "output_type": "stream",
     "text": [
      "\r",
      "Training with LBFGS:  98%|█████████▊| 981/1000 [9:40:19<11:08, 35.18s/it]"
     ]
    },
    {
     "name": "stdout",
     "output_type": "stream",
     "text": [
      "6.2496934\n",
      "0.2562812444509369\n"
     ]
    },
    {
     "name": "stderr",
     "output_type": "stream",
     "text": [
      "\r",
      "Training with LBFGS:  98%|█████████▊| 982/1000 [9:40:54<10:33, 35.19s/it]"
     ]
    },
    {
     "name": "stdout",
     "output_type": "stream",
     "text": [
      "6.4068623\n",
      "0.2562812444509369\n"
     ]
    },
    {
     "name": "stderr",
     "output_type": "stream",
     "text": [
      "\r",
      "Training with LBFGS:  98%|█████████▊| 983/1000 [9:41:29<09:58, 35.19s/it]"
     ]
    },
    {
     "name": "stdout",
     "output_type": "stream",
     "text": [
      "6.268124\n",
      "0.2562812444509369\n"
     ]
    },
    {
     "name": "stderr",
     "output_type": "stream",
     "text": [
      "\r",
      "Training with LBFGS:  98%|█████████▊| 984/1000 [9:42:04<09:22, 35.19s/it]"
     ]
    },
    {
     "name": "stdout",
     "output_type": "stream",
     "text": [
      "6.2308\n",
      "0.2562812444509369\n"
     ]
    },
    {
     "name": "stderr",
     "output_type": "stream",
     "text": [
      "\r",
      "Training with LBFGS:  98%|█████████▊| 985/1000 [9:42:40<08:47, 35.19s/it]"
     ]
    },
    {
     "name": "stdout",
     "output_type": "stream",
     "text": [
      "6.335928\n",
      "0.2562812444509369\n"
     ]
    },
    {
     "name": "stderr",
     "output_type": "stream",
     "text": [
      "\r",
      "Training with LBFGS:  99%|█████████▊| 986/1000 [9:43:15<08:12, 35.19s/it]"
     ]
    },
    {
     "name": "stdout",
     "output_type": "stream",
     "text": [
      "6.3132343\n",
      "0.2562812444509369\n"
     ]
    },
    {
     "name": "stderr",
     "output_type": "stream",
     "text": [
      "\r",
      "Training with LBFGS:  99%|█████████▊| 987/1000 [9:43:50<07:37, 35.19s/it]"
     ]
    },
    {
     "name": "stdout",
     "output_type": "stream",
     "text": [
      "6.277421\n",
      "0.2562812444509369\n"
     ]
    },
    {
     "name": "stderr",
     "output_type": "stream",
     "text": [
      "\r",
      "Training with LBFGS:  99%|█████████▉| 988/1000 [9:44:25<07:02, 35.19s/it]"
     ]
    },
    {
     "name": "stdout",
     "output_type": "stream",
     "text": [
      "6.4405646\n",
      "0.2562812444509369\n"
     ]
    },
    {
     "name": "stderr",
     "output_type": "stream",
     "text": [
      "\r",
      "Training with LBFGS:  99%|█████████▉| 989/1000 [9:45:00<06:27, 35.19s/it]"
     ]
    },
    {
     "name": "stdout",
     "output_type": "stream",
     "text": [
      "6.3779793\n",
      "0.2562812444509369\n"
     ]
    },
    {
     "name": "stderr",
     "output_type": "stream",
     "text": [
      "\r",
      "Training with LBFGS:  99%|█████████▉| 990/1000 [9:45:36<05:51, 35.19s/it]"
     ]
    },
    {
     "name": "stdout",
     "output_type": "stream",
     "text": [
      "6.1988072\n",
      "0.2562812444509369\n"
     ]
    },
    {
     "name": "stderr",
     "output_type": "stream",
     "text": [
      "\r",
      "Training with LBFGS:  99%|█████████▉| 991/1000 [9:46:11<05:16, 35.20s/it]"
     ]
    },
    {
     "name": "stdout",
     "output_type": "stream",
     "text": [
      "6.3773694\n",
      "0.2562812444509369\n"
     ]
    },
    {
     "name": "stderr",
     "output_type": "stream",
     "text": [
      "\r",
      "Training with LBFGS:  99%|█████████▉| 992/1000 [9:46:46<04:41, 35.19s/it]"
     ]
    },
    {
     "name": "stdout",
     "output_type": "stream",
     "text": [
      "6.3667893\n",
      "0.2562812444509369\n"
     ]
    },
    {
     "name": "stderr",
     "output_type": "stream",
     "text": [
      "\r",
      "Training with LBFGS:  99%|█████████▉| 993/1000 [9:47:21<04:06, 35.19s/it]"
     ]
    },
    {
     "name": "stdout",
     "output_type": "stream",
     "text": [
      "6.3577456\n",
      "0.2562812444509369\n"
     ]
    },
    {
     "name": "stderr",
     "output_type": "stream",
     "text": [
      "\r",
      "Training with LBFGS:  99%|█████████▉| 994/1000 [9:47:56<03:31, 35.19s/it]"
     ]
    },
    {
     "name": "stdout",
     "output_type": "stream",
     "text": [
      "6.212211\n",
      "0.2562812444509369\n"
     ]
    },
    {
     "name": "stderr",
     "output_type": "stream",
     "text": [
      "\r",
      "Training with LBFGS: 100%|█████████▉| 995/1000 [9:48:32<02:55, 35.19s/it]"
     ]
    },
    {
     "name": "stdout",
     "output_type": "stream",
     "text": [
      "6.3305807\n",
      "0.2562812444509369\n"
     ]
    },
    {
     "name": "stderr",
     "output_type": "stream",
     "text": [
      "\r",
      "Training with LBFGS: 100%|█████████▉| 996/1000 [9:49:07<02:20, 35.19s/it]"
     ]
    },
    {
     "name": "stdout",
     "output_type": "stream",
     "text": [
      "6.254839\n",
      "0.2562812444509369\n"
     ]
    },
    {
     "name": "stderr",
     "output_type": "stream",
     "text": [
      "\r",
      "Training with LBFGS: 100%|█████████▉| 997/1000 [9:49:42<01:45, 35.19s/it]"
     ]
    },
    {
     "name": "stdout",
     "output_type": "stream",
     "text": [
      "6.362333\n",
      "0.2562812444509369\n"
     ]
    },
    {
     "name": "stderr",
     "output_type": "stream",
     "text": [
      "\r",
      "Training with LBFGS: 100%|█████████▉| 998/1000 [9:50:17<01:10, 35.18s/it]"
     ]
    },
    {
     "name": "stdout",
     "output_type": "stream",
     "text": [
      "6.392813\n",
      "0.2562812444509369\n"
     ]
    },
    {
     "name": "stderr",
     "output_type": "stream",
     "text": [
      "\r",
      "Training with LBFGS: 100%|█████████▉| 999/1000 [9:50:52<00:35, 35.19s/it]"
     ]
    },
    {
     "name": "stdout",
     "output_type": "stream",
     "text": [
      "6.3606744\n",
      "0.2562812444509369\n"
     ]
    },
    {
     "name": "stderr",
     "output_type": "stream",
     "text": [
      "\r",
      "Training with LBFGS: 100%|██████████| 1000/1000 [9:51:28<00:00, 35.18s/it]"
     ]
    },
    {
     "name": "stderr",
     "output_type": "stream",
     "text": [
      "\r",
      "Training with LBFGS: 100%|██████████| 1000/1000 [9:51:28<00:00, 35.49s/it]"
     ]
    },
    {
     "name": "stdout",
     "output_type": "stream",
     "text": [
      "6.416575\n",
      "0.2562812444509369\n",
      "Training time: 35488.0259\n",
      "Error u: 6.947700e-01\n",
      "Error u : 6.947700e-01\n"
     ]
    },
    {
     "name": "stderr",
     "output_type": "stream",
     "text": [
      "\n"
     ]
    }
   ],
   "source": [
    "#RAR-G方法，对1000个点，先选择10个点训练500次，然后每500次迭代重采样100个点，选出其中残差最大的10个点添加到训练点中；最后总共有1000个点，共训练10000次\n",
    "# seeds = [0, 1, 12, 33, 123, 321, 1234, 4321, 12345, 54321] #生成10个随机种子\n",
    "# seeds = [0]\n",
    "\n",
    "#设置噪声水平为0\n",
    "noise = 0.0        \n",
    "\n",
    "# Doman bounds，定义两个一维数组lb和ub，问题域是一个二维空间，其中 x 的范围是 -5 到 5，t 的范围是 0 到 π/2(竖着的)\n",
    "lb = np.array([-1.0, 0.0])\n",
    "ub = np.array([1.0, 1.0])\n",
    "#定义三个整数，分别表示初始条件点数量、边界条件点数量和配位点的数量（这些点用于训练神经网络）\n",
    "N0 = 500\n",
    "N_b = 100\n",
    "N_f = 5000\n",
    "\n",
    "\n",
    "#读取名为burgers_shock的Matlab文件，文件中的数据存储在data变量中。这里的路径也要随着设备的情况修改 \n",
    "data = scipy.io.loadmat('../data/AC.mat')\n",
    "#从data字典中取出变量tt和x的值，并转换为一维数组（flatten方法），最后tongg[:,None]将一维数组转换为二维数组\n",
    "t = data['tt'].flatten()[:,None]\n",
    "x = data['x'].flatten()[:,None]\n",
    "Exact = np.real(data['uu']).T #从data数据中取出usol的值，并取实部，最后转置，赋值给Exact\n",
    "#生成一个二位网络，X和T是输出的二维数组\n",
    "#这个点结果是X和T均为形状为[len(t),len(x)]的二维数组，X的每一行都是x，一共len(t)行，T的每一列都是t，一共len(x)列\n",
    "X, T = np.meshgrid(x,t)\n",
    "\n",
    "X_star = np.hstack((X.flatten()[:,None], T.flatten()[:,None]))  #按列堆叠数组，X_star是一个二维数组，其中第一列是X的展平，第二列是T的展平\n",
    "u_star = Exact.flatten()[:,None]    #对Exact_u使用flatten方法将其转换为一维数组，最后使用[:,None]将其转换为二维数组         \n",
    "\n",
    "###########################\n",
    "\n",
    "#从0~数组x的行数(256)中随机选择N0个数，replace=False表示不允许重复选择，最后将这N0个数赋值给idx_x\n",
    "idx_x = np.linspace(0, x.shape[0]-1, N0, dtype='int') #生成一个从0到x.shape[0]-1的等差数列，长度为x.shape[0]，数据类型为整型\n",
    "# idx_x = np.random.choice(x.shape[0], N0, replace=False)\n",
    "#从x中选择N0个对应的行(idx_x对应的行)，最后将这N0行赋值给x0\n",
    "x0 = x[idx_x,:]\n",
    "#从Exact_u中选择N0个对应的行(idx_x对应的行)的第一列元素，最后将这N0个元素赋值给u0\n",
    "# u0 = Exact[idx_x,0:1]\n",
    "u0 = Exact[0:1,idx_x].T\n",
    "\n",
    "#从0~数组t的行数中随机选择N_b个数，replace=False表示不允许重复选择，最后将这N_b个数赋值给idx_t\n",
    "idx_t = np.linspace(0, t.shape[0]-1, N_b, dtype='int') #生成一个从0到t.shape[0]-1的等差数列，长度为t.shape[0]，数据类型为整型\n",
    "# idx_t = np.random.choice(t.shape[0], N_b, replace=False)\n",
    "#从t中选择N_b个对应的行(idx_t对应的行)，最后将这N_b行赋值给tb\n",
    "tb = t[idx_t,:]\n",
    "\n",
    "error = [] #创建一个空列表，用于存储误差\n",
    "error_mae = [] #创建一个空列表，用于存储MAE值\n",
    "error_mse = [] #创建一个空列表，用于存储MSE值\n",
    "\n",
    "i = 0 #初始化i为0\n",
    "\n",
    "nIter = 0 #设置迭代次数为10000\n",
    "nIterLBFGS = 1000 #设置LBFGS迭代次数为500\n",
    "\n",
    "\n",
    "\n",
    "set_seed(0) #设置随机种子\n",
    "\n",
    "\n",
    "X_f = lb + (ub-lb)*lhs(2, N_f) #lhs函数采用拉丁超采样方法，生成一个近似均匀分布的多维样本点集，返回的是一个形状为（$N_f$，2）的数组，每一行都是一个2维的样本点，所有样本点都在[0,1]范围内，并对该样本集进行缩放，把每个样本从[0,1]区间缩放到[lb,ub]区域内，即得到了指定范围内均匀分布的样本$X_f$。\n",
    "\n",
    "\n",
    "\n",
    "#创建PINN模型并输入各种参数        \n",
    "model = PhysicsInformedNN(x0, u0, tb, X_f, lb, ub)\n",
    "\n",
    "\n",
    "\n",
    "#获取当前时间并赋值给start_time  \n",
    "start_time = time.time()   \n",
    "\n",
    "chaos = []\n",
    "chunchaos = [] #创建一个空列表，用于存储混沌度\n",
    "testerror = []\n",
    "\n",
    "for i in tqdm(range(nIter), desc='Training with Adam'):\n",
    "    model.train(1, 0) #每次迭代只训练一次，使用Adam优化器\n",
    "    u_chaos = calculate_chaos(model, X_star, num_iter=100) #计算混沌度，返回(N, 1)的数组\n",
    "    u_chunchaos = calculate_chunchaos(model, X_star, num_iter=100) #计算混沌度，返回(N, 1)的数组\n",
    "    chaos.append(u_chaos.mean()) #将混沌度添加到混沌度列表中\n",
    "    chunchaos.append(u_chunchaos.mean()) #将混沌度添加到混沌度列表中\n",
    "    u_pred = model.predict(X_star) #返回(N, 1)的Numpy数组\n",
    "    error_mae = np.mean(np.abs(u_star - u_pred)) #计算MAE\n",
    "    testerror.append(error_mae) #将MAE添加到测试误差列表中\n",
    "    chaosloss = calculate_chaos(model, X_f, num_iter=100).mean() #计算混沌度，返回(N, 1)的数组\n",
    "    print(chaosloss)\n",
    "    print(np.mean(np.abs(u_star - u_pred)))\n",
    "    model.chaosloss = torch.tensor(chaosloss, dtype=torch.float32, requires_grad=True).to(device) #将混沌度转换为张量，并设置requires_grad=True，表示需要计算梯度\n",
    "\n",
    "    \n",
    "for i in tqdm(range(nIterLBFGS), desc='Training with LBFGS'):\n",
    "    model.train(0, 1)\n",
    "    u_chaos = calculate_chaos(model, X_star, num_iter=100) #计算混沌度，返回(N, 1)的数组\n",
    "    u_chunchaos = calculate_chunchaos(model, X_star, num_iter=100) #计算混沌度，返回(N, 1)的数组\n",
    "    chaos.append(u_chaos.mean()) #将混沌度添加到混沌度列表中\n",
    "    chunchaos.append(u_chunchaos.mean()) #将混沌度添加到混沌度列表中\n",
    "    u_pred = model.predict(X_star) #返回(N, 1)的Numpy数组\n",
    "    error_mae = np.mean(np.abs(u_star - u_pred)) #计算MAE\n",
    "    testerror.append(error_mae) #将MAE添加到测试误差列表中\n",
    "\n",
    "    chaosloss = calculate_chaos(model, X_f, num_iter=100).mean() #计算混沌度，返回(N, 1)的数组\n",
    "    print(chaosloss)\n",
    "    print(np.mean(np.abs(u_star - u_pred)))\n",
    "    model.chaosloss = torch.tensor(chaosloss, dtype=torch.float32, requires_grad=True).to(device) #将混沌度转换为张量，并设置requires_grad=True，表示需要计算梯度\n",
    "\n",
    "\n",
    "\n",
    "\n",
    "#获取当前时间并减去start_time，得到训练时间并赋值给elapsed\n",
    "elapsed = time.time() - start_time                \n",
    "#打印训练所需时间\n",
    "print('Training time: %.4f' % (elapsed))\n",
    "\n",
    "\n",
    "\n",
    "\n",
    "\n",
    "#用训练好的模型进行预测，返回四个值（均为数组）    \n",
    "u_pred = model.predict(X_star)\n",
    "\n",
    "#计算误差（基于2范数）        \n",
    "error_u = np.linalg.norm(u_star-u_pred,2)/np.linalg.norm(u_star,2)\n",
    "\n",
    "#打印误差\n",
    "print('Error u: %e' % (error_u))\n",
    "\n",
    "#将误差添加到error列表中\n",
    "\n",
    "#计算误差（基于2范数）\n",
    "error.append(error_u) #计算误差，然后将误差添加到error列表中\n",
    "# 计算 MAE 和 MSE\n",
    "\n",
    "\n",
    "print('Error u : %e' % (np.linalg.norm(u_star-u_pred,2)/np.linalg.norm(u_star,2))) #打印误差  \n",
    "\n",
    "\n",
    "\n",
    "#使用griddata函数将X_star、u_pred、v_pred和h_pred插值到网格上，得到U_pred、V_pred和H_pred\n",
    "U_pred = griddata(X_star, u_pred.flatten(), (X, T), method='cubic')\n",
    "\n",
    " "
   ]
  },
  {
   "cell_type": "code",
   "execution_count": 9,
   "metadata": {
    "execution": {
     "iopub.execute_input": "2025-08-08T14:42:52.231910Z",
     "iopub.status.busy": "2025-08-08T14:42:52.231741Z",
     "iopub.status.idle": "2025-08-08T14:42:52.234172Z",
     "shell.execute_reply": "2025-08-08T14:42:52.233942Z"
    }
   },
   "outputs": [],
   "source": [
    "trainloss = torch.stack(model.loss_value).cpu().detach().numpy()\n"
   ]
  },
  {
   "cell_type": "code",
   "execution_count": 10,
   "metadata": {
    "execution": {
     "iopub.execute_input": "2025-08-08T14:42:52.235580Z",
     "iopub.status.busy": "2025-08-08T14:42:52.235471Z",
     "iopub.status.idle": "2025-08-08T14:42:52.375369Z",
     "shell.execute_reply": "2025-08-08T14:42:52.375144Z"
    }
   },
   "outputs": [
    {
     "name": "stdout",
     "output_type": "stream",
     "text": [
      "1000\n"
     ]
    },
    {
     "data": {
      "image/png": "[encoded data removed]",
      "text/plain": [
       "<Figure size 640x480 with 1 Axes>"
      ]
     },
     "metadata": {},
     "output_type": "display_data"
    }
   ],
   "source": [
    "print(len(trainloss))\n",
    "# print(trainloss)\n",
    "# 定义图例的标签\n",
    "labels = [\"Grid\"]\n",
    "\n",
    "# 创建一个新的图形\n",
    "plt.figure()\n",
    "\n",
    "# # 遍历所有的loss数据和标签\n",
    "# for loss, label in zip(trainloss, labels):\n",
    "#     # 绘制每个loss数据，并使用标签作为图例的条目\n",
    "#     plt.plot(loss, label=label)\n",
    "\n",
    "plt.plot(trainloss, label='train loss')\n",
    "\n",
    "# 添加图例，放在图像外\n",
    "plt.legend(bbox_to_anchor=(1.05, 1), loc='upper left')\n",
    "\n",
    "\n",
    "plt.xlim([0,len(trainloss)]) # 设置x轴的范围\n",
    "plt.yscale('log') #设置y轴为对数尺度，这样即使列表中有一些非常大的值，也不会影响其他值的可视化\n",
    "plt.xlabel('Iteration') # 设置x轴的标签\n",
    "plt.ylabel('Loss') # 设置y轴的标签\n",
    "plt.title('Loss vs. Iteration based on different methods of sampling') # 设置图形的标题\n",
    "# 显示图形\n",
    "plt.show()\n",
    "plt.show()"
   ]
  },
  {
   "cell_type": "code",
   "execution_count": 11,
   "metadata": {
    "execution": {
     "iopub.execute_input": "2025-08-08T14:42:52.376763Z",
     "iopub.status.busy": "2025-08-08T14:42:52.376665Z",
     "iopub.status.idle": "2025-08-08T14:42:52.613903Z",
     "shell.execute_reply": "2025-08-08T14:42:52.613658Z"
    }
   },
   "outputs": [
    {
     "name": "stdout",
     "output_type": "stream",
     "text": [
      "1000\n"
     ]
    },
    {
     "data": {
      "image/png": "[encoded data removed]",
      "text/plain": [
       "<Figure size 640x480 with 1 Axes>"
      ]
     },
     "metadata": {},
     "output_type": "display_data"
    }
   ],
   "source": [
    "print(len(testerror))\n",
    "# print(trainloss)\n",
    "# 定义图例的标签\n",
    "labels = [\"Grid\"]\n",
    "\n",
    "# 创建一个新的图形\n",
    "plt.figure()\n",
    "\n",
    "# # 遍历所有的loss数据和标签\n",
    "# for loss, label in zip(trainloss, labels):\n",
    "#     # 绘制每个loss数据，并使用标签作为图例的条目\n",
    "#     plt.plot(loss, label=label)\n",
    "\n",
    "plt.plot(trainloss, label='loss')\n",
    "plt.plot(testerror, label='error')\n",
    "plt.plot(chaos, label='chaos')\n",
    "plt.plot(chunchaos, label='chunchaos')\n",
    "\n",
    "# 添加图例，放在图像外\n",
    "plt.legend(bbox_to_anchor=(1.05, 1), loc='upper left')\n",
    "\n",
    "\n",
    "plt.xlim([0,len(trainloss)]) # 设置x轴的范围\n",
    "plt.yscale('log') #设置y轴为对数尺度，这样即使列表中有一些非常大的值，也不会影响其他值的可视化\n",
    "# plt.yscale('log') #设置y轴为对数尺度，这样即使列表中有一些非常大的值，也不会影响其他值的可视化\n",
    "plt.xlabel('Iteration') # 设置x轴的标签\n",
    "plt.ylabel('testerror') # 设置y轴的标签\n",
    "plt.title('testerror vs. Iteration based on different methods of sampling') # 设置图形的标题\n",
    "# 显示图形\n",
    "plt.show()"
   ]
  },
  {
   "cell_type": "code",
   "execution_count": 12,
   "metadata": {
    "execution": {
     "iopub.execute_input": "2025-08-08T14:42:52.615119Z",
     "iopub.status.busy": "2025-08-08T14:42:52.614994Z",
     "iopub.status.idle": "2025-08-08T14:42:52.670974Z",
     "shell.execute_reply": "2025-08-08T14:42:52.670765Z"
    }
   },
   "outputs": [
    {
     "name": "stdout",
     "output_type": "stream",
     "text": [
      "1000\n"
     ]
    },
    {
     "data": {
      "image/png": "[encoded data removed]",
      "text/plain": [
       "<Figure size 640x480 with 1 Axes>"
      ]
     },
     "metadata": {},
     "output_type": "display_data"
    }
   ],
   "source": [
    "print(len(testerror))\n",
    "# print(trainloss)\n",
    "# 定义图例的标签\n",
    "labels = [\"Grid\"]\n",
    "\n",
    "# 创建一个新的图形\n",
    "plt.figure()\n",
    "\n",
    "# # 遍历所有的loss数据和标签\n",
    "# for loss, label in zip(trainloss, labels):\n",
    "#     # 绘制每个loss数据，并使用标签作为图例的条目\n",
    "#     plt.plot(loss, label=label)\n",
    "\n",
    "plt.plot(trainloss, label='loss')\n",
    "plt.plot(testerror, label='error')\n",
    "plt.plot(chaos, label='chaos')\n",
    "plt.plot(chunchaos, label='chunchaos')\n",
    "\n",
    "# 添加图例，放在图像外\n",
    "plt.legend(bbox_to_anchor=(1.05, 1), loc='upper left')\n",
    "\n",
    "\n",
    "plt.xlim([0,len(trainloss)]) # 设置x轴的范围\n",
    "# plt.yscale('log') #设置y轴为对数尺度，这样即使列表中有一些非常大的值，也不会影响其他值的可视化\n",
    "# plt.yscale('log') #设置y轴为对数尺度，这样即使列表中有一些非常大的值，也不会影响其他值的可视化\n",
    "plt.xlabel('Iteration') # 设置x轴的标签\n",
    "plt.ylabel('testerror') # 设置y轴的标签\n",
    "plt.title('testerror vs. Iteration based on different methods of sampling') # 设置图形的标题\n",
    "# 显示图形\n",
    "plt.show()"
   ]
  },
  {
   "cell_type": "code",
   "execution_count": 13,
   "metadata": {
    "execution": {
     "iopub.execute_input": "2025-08-08T14:42:52.672259Z",
     "iopub.status.busy": "2025-08-08T14:42:52.672170Z",
     "iopub.status.idle": "2025-08-08T14:42:52.674441Z",
     "shell.execute_reply": "2025-08-08T14:42:52.674185Z"
    }
   },
   "outputs": [
    {
     "name": "stdout",
     "output_type": "stream",
     "text": [
      "数据已保存到 formersunshimy_training_data.npz 文件中。\n"
     ]
    }
   ],
   "source": [
    "np.savez('formersunshimy_training_data.npz', \n",
    "         trainloss=trainloss, \n",
    "         testerror=testerror, \n",
    "         chunchaos=chunchaos,\n",
    "         chaos=chaos)\n",
    "\n",
    "print(\"数据已保存到 formersunshimy_training_data.npz 文件中。\")"
   ]
  },
  {
   "cell_type": "code",
   "execution_count": 14,
   "metadata": {
    "execution": {
     "iopub.execute_input": "2025-08-08T14:42:52.675649Z",
     "iopub.status.busy": "2025-08-08T14:42:52.675438Z",
     "iopub.status.idle": "2025-08-08T14:42:52.678340Z",
     "shell.execute_reply": "2025-08-08T14:42:52.678111Z"
    }
   },
   "outputs": [
    {
     "name": "stdout",
     "output_type": "stream",
     "text": [
      "加载的训练损失数据长度: 1000\n",
      "加载的测试误差数据长度: 1000\n"
     ]
    }
   ],
   "source": [
    "import numpy as np\n",
    "\n",
    "# 加载数据\n",
    "data = np.load('formersunshimy_training_data.npz')\n",
    "\n",
    "# 通过保存时使用的键名来访问每个数组\n",
    "loaded_loss = data['trainloss']\n",
    "loaded_error = data['testerror']\n",
    "loaded_chaos = data['chaos']\n",
    "loaded_chunchaos = data['chunchaos']\n",
    "\n",
    "print(\"加载的训练损失数据长度:\", len(loaded_loss))\n",
    "print(\"加载的测试误差数据长度:\", len(loaded_error))\n",
    "\n",
    "# 现在你可以用加载的数据进行绘图或分析了"
   ]
  },
  {
   "cell_type": "code",
   "execution_count": 15,
   "metadata": {
    "execution": {
     "iopub.execute_input": "2025-08-08T14:42:52.679403Z",
     "iopub.status.busy": "2025-08-08T14:42:52.679230Z",
     "iopub.status.idle": "2025-08-08T14:42:52.855313Z",
     "shell.execute_reply": "2025-08-08T14:42:52.855004Z"
    }
   },
   "outputs": [
    {
     "data": {
      "image/png": "[encoded data removed]",
      "text/plain": [
       "<Figure size 640x480 with 1 Axes>"
      ]
     },
     "metadata": {},
     "output_type": "display_data"
    }
   ],
   "source": [
    "# print(len(testerror))\n",
    "# print(trainloss)\n",
    "# 定义图例的标签\n",
    "labels = [\"Grid\"]\n",
    "\n",
    "# 创建一个新的图形\n",
    "plt.figure()\n",
    "\n",
    "# # 遍历所有的loss数据和标签\n",
    "# for loss, label in zip(trainloss, labels):\n",
    "#     # 绘制每个loss数据，并使用标签作为图例的条目\n",
    "#     plt.plot(loss, label=label)\n",
    "\n",
    "plt.plot(loaded_loss, label='loss')\n",
    "plt.plot(loaded_error, label='error')\n",
    "plt.plot(loaded_chaos, label='chaos')\n",
    "plt.plot(loaded_chunchaos, label='chunchaos')\n",
    "\n",
    "# 添加图例，放在图像外\n",
    "plt.legend(bbox_to_anchor=(1.05, 1), loc='upper left')\n",
    "\n",
    "\n",
    "plt.xlim([0,len(loaded_loss)]) # 设置x轴的范围\n",
    "plt.yscale('log') #设置y轴为对数尺度，这样即使列表中有一些非常大的值，也不会影响其他值的可视化\n",
    "# plt.yscale('log') #设置y轴为对数尺度，这样即使列表中有一些非常大的值，也不会影响其他值的可视化\n",
    "plt.xlabel('Iteration') # 设置x轴的标签\n",
    "plt.ylabel('testerror') # 设置y轴的标签\n",
    "plt.title('testerror vs. Iteration based on different methods of sampling') # 设置图形的标题\n",
    "# 显示图形\n",
    "plt.show()"
   ]
  },
  {
   "cell_type": "code",
   "execution_count": 16,
   "metadata": {
    "execution": {
     "iopub.execute_input": "2025-08-08T14:42:52.856651Z",
     "iopub.status.busy": "2025-08-08T14:42:52.856560Z",
     "iopub.status.idle": "2025-08-08T14:42:52.858668Z",
     "shell.execute_reply": "2025-08-08T14:42:52.858485Z"
    }
   },
   "outputs": [
    {
     "data": {
      "text/plain": [
       "0.2562812444509369"
      ]
     },
     "execution_count": 16,
     "metadata": {},
     "output_type": "execute_result"
    }
   ],
   "source": [
    "loaded_error[-1]"
   ]
  }
 ],
 "metadata": {
  "kernelspec": {
   "display_name": "torchgpu",
   "language": "python",
   "name": "python3"
  },
  "language_info": {
   "codemirror_mode": {
    "name": "ipython",
    "version": 3
   },
   "file_extension": ".py",
   "mimetype": "text/x-python",
   "name": "python",
   "nbconvert_exporter": "python",
   "pygments_lexer": "ipython3",
   "version": "3.10.13"
  }
 },
 "nbformat": 4,
 "nbformat_minor": 2
}
