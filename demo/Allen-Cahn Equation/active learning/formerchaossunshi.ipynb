{
 "cells": [
  {
   "cell_type": "code",
   "execution_count": 1,
   "metadata": {
    "execution": {
     "iopub.execute_input": "2025-07-28T10:11:45.329844Z",
     "iopub.status.busy": "2025-07-28T10:11:45.329684Z",
     "iopub.status.idle": "2025-07-28T10:11:46.404044Z",
     "shell.execute_reply": "2025-07-28T10:11:46.403705Z"
    }
   },
   "outputs": [],
   "source": [
    "\n",
    "import torch\n",
    "#collections是python一个内置模块，提供了一些有用的数据结构\n",
    "from collections import OrderedDict  #这个类是字典dict的一个子类，用于创建有序的字典。普通字典中元素顺序是无序的，在OrderedDict中元素的顺序是有序的，元素的顺序是按照它们被添加到字典中的顺序决定的。\n",
    "\n",
    "from pyDOE import lhs #`pyDOE`是一个Python库，用于设计实验。它提供了一些函数来生成各种设计，如因子设计、拉丁超立方设计等。`lhs`是库中的一个函数，全名为\"Latin Hypercube Sampling\"，拉丁超立方采样。这是一种统计方法，用于生成一个近似均匀分布的多维样本点集。它在参数空间中生成一个非常均匀的样本，这对于高维数值优化问题非常有用，因为它可以更好地覆盖参数空间。\n",
    "import numpy as np\n",
    "import matplotlib.pyplot as plt\n",
    "import scipy.io #导入了scipy库中的io模块。scipy.io模块包含了一些用于文件输入/输出的函数，例如读取和写入.mat文件（MATLAB格式）\n",
    "from scipy.interpolate import griddata #`scipy.interpolate`是`scipy`库中的一个模块，提供了许多插值工具，用于在给定的离散数据点之间进行插值和拟合。`griddata`是这个模块中的一个函数，用于在无规则的数据点上进行插值。\n",
    "\n",
    "import random\n",
    "\n",
    "import skopt #用于优化问题的库，特别是机器学习中的超参数优化\n",
    "from distutils.version import LooseVersion #distutils是Python的一个标准库，用于构建和安装Python包。LooseVersion是一个类，用于比较版本号\n",
    "\n",
    "\n",
    "# from plotting_torch import newfig, savefig #从自定义的plotting_torch.py文件中导入了newfig和savefig函数。这两个函数用于创建和保存图形。这两个函数的定义在plotting_torch.py文件中\n",
    "\n",
    "from mpl_toolkits.axes_grid1 import make_axes_locatable #`mpl_toolkits.axes_grid1`是`matplotlib`库的一个模块，提供了一些高级的工具来控制matplotlib图形中的坐标轴和颜色条。`make_axes_locatable`是模块中的一个函数，用于创建一个可分割的坐标轴。可以在这个坐标轴的四个方向（上、下、左、右）添加新的坐标轴或颜色条。\n",
    "import matplotlib.gridspec as gridspec #是`matplotlib`库的一个模块，用于创建一个网格布局来放置子图。在`matplotlib`中可以创建一个或多个子图（subplot），每个子图都有自己的坐标轴，并可以在其中绘制图形。`gridspec`模块提供了一个灵活的方式来创建和放置子图。\n",
    "import time #一个内置模块，用于处理时间相关的操作。\n",
    "\n",
    "\n",
    "from tqdm import tqdm #一个快速，可扩展的python进度条库，可以在python长循环中添加一个进度提示信息，用户只需要封装任意的迭代器tqdm(iterator)。\n",
    "\n",
    "import os\n",
    "import pickle\n",
    "\n",
    "import timeit #用于计时和测量小段代码的执行时间\n",
    "import seaborn as sns  # 导入seaborn库用于绘制密度图\n",
    "import pandas as pd #一个用于数据操作和分析的库，提供了数据结构和数据分析工具，特别是用于处理表格数据（类似于Excel中的数据表）\n",
    "\n",
    "import sys #导入sys模块。sys模块提供了一些变量和函数，用于与 Python解释器进行交互和访问。例如，sys.path 是一个 Python 在导入模块时会查找的路径列表，sys.argv 是一个包含命令行参数的列表，sys.exit() 函数可以用于退出 Python 程序。导入 sys 模块后，你就可以在你的程序中使用这些变量和函数了。\n",
    "sys.path.insert(0, '../../..') #在 Python的sys.path列表中插入一个新的路径。sys.path是一个 Python 在导入模块时会查找的路径列表。新的路径'../../Utilities/'相对于当前脚本的路径。当你尝试导入一个模块时，Python 会在 sys.path 列表中的路径下查找这个模块。通过在列表开始位置插入一个路径，你可以让 Python 优先在这个路径下查找模块。这在你需要导入自定义模块或者不在 Python 标准库中的模块时非常有用。\n",
    "from util import *"
   ]
  },
  {
   "cell_type": "code",
   "execution_count": 2,
   "metadata": {
    "execution": {
     "iopub.execute_input": "2025-07-28T10:11:46.406210Z",
     "iopub.status.busy": "2025-07-28T10:11:46.406070Z",
     "iopub.status.idle": "2025-07-28T10:11:46.580928Z",
     "shell.execute_reply": "2025-07-28T10:11:46.580447Z"
    }
   },
   "outputs": [],
   "source": [
    "torch.cuda.set_device(0) #设置当前使用的GPU设备。这里设置为1号GPU设备（第二块显卡）。\n",
    "\n",
    "# CUDA support \n",
    "\n",
    "#设置pytorch的设备，代表了在哪里执行张量积算，设备可以是cpu或者cuda（gpu），并将这个做运算的设备对象存储在变量device中，后续张量计算回在这个设备上执行\n",
    "if torch.cuda.is_available():\n",
    "    device = torch.device('cuda')\n",
    "else:\n",
    "    device = torch.device('cpu')"
   ]
  },
  {
   "cell_type": "code",
   "execution_count": 3,
   "metadata": {
    "execution": {
     "iopub.execute_input": "2025-07-28T10:11:46.583306Z",
     "iopub.status.busy": "2025-07-28T10:11:46.583201Z",
     "iopub.status.idle": "2025-07-28T10:11:46.590775Z",
     "shell.execute_reply": "2025-07-28T10:11:46.590454Z"
    }
   },
   "outputs": [],
   "source": [
    "# implementation of PINNsformer\n",
    "# paper: PINNsFormer: A Transformer-Based Framework For Physics-Informed Neural Networks\n",
    "# link: https://arxiv.org/abs/2307.11833\n",
    "\n",
    "import torch\n",
    "import torch.nn as nn\n",
    "import pdb\n",
    "\n",
    "from util import get_clones\n",
    "\n",
    "\n",
    "#自定义激活函数Wavelet：w1 * sin(x) + w2 * cos(x)\n",
    "class WaveAct(nn.Module):\n",
    "    def __init__(self):\n",
    "        super(WaveAct, self).__init__() \n",
    "        #自定义两个可学习参数w1和w2，初始化为1，训练过程中会更新这两个参数\n",
    "        self.w1 = nn.Parameter(torch.ones(1), requires_grad=True)\n",
    "        self.w2 = nn.Parameter(torch.ones(1), requires_grad=True)\n",
    "\n",
    "    def forward(self, x):\n",
    "        return self.w1 * torch.sin(x)+ self.w2 * torch.cos(x)\n",
    "\n",
    "#MLP组件，第一层形状为(d_model, d_ff)，第二层形状为(d_ff, d_ff)，第三层形状为(d_ff, d_model)，前两个使用自定义激活函数WaveAct\n",
    "class FeedForward(nn.Module):\n",
    "    def __init__(self, d_model, d_ff=256):\n",
    "        super(FeedForward, self).__init__() \n",
    "        self.linear = nn.Sequential(*[\n",
    "            nn.Linear(d_model, d_ff),\n",
    "            WaveAct(),\n",
    "            nn.Linear(d_ff, d_ff),\n",
    "            WaveAct(),\n",
    "            nn.Linear(d_ff, d_model)\n",
    "        ])\n",
    "\n",
    "    def forward(self, x):\n",
    "        return self.linear(x)\n",
    "\n",
    "#编码器层\n",
    "class EncoderLayer(nn.Module):\n",
    "    def __init__(self, d_model, heads):\n",
    "        super(EncoderLayer, self).__init__()\n",
    "        self.attn = nn.MultiheadAttention(embed_dim=d_model, num_heads=heads, batch_first=True) #多头注意力，设置嵌入维度为d_model，头数为heads，batch_first=True表示输入和输出tensor以(批量大小,序列长度,嵌入维度) 形式提供\n",
    "        self.ff = FeedForward(d_model) #MLP组件，输入和输出的形状均为d_model，隐藏层的形状为d_ff默认\n",
    "        self.act1 = WaveAct() #激活函数\n",
    "        self.act2 = WaveAct() #激活函数\n",
    "        \n",
    "    def forward(self, x): #形状为(点的数量，序列长度，d_model)\n",
    "        x2 = self.act1(x) #对输入x应用激活函数\n",
    "        # pdb.set_trace()\n",
    "        x = x + self.attn(x2,x2,x2)[0] #多头注意力机制，查询、键和值均为原始输入经过激活函数后的x2，然后使用残差连接原始输入得到自注意力的输出\n",
    "        x2 = self.act2(x) #对自注意力的输出应用激活函数\n",
    "        x = x + self.ff(x2) #将通过激活函数后的自注意力输出通过MLP组件后残差连接原始自注意力输出，得到编码器的输出\n",
    "        return x \n",
    "\n",
    "\n",
    "class DecoderLayer(nn.Module):\n",
    "    def __init__(self, d_model, heads):\n",
    "        super(DecoderLayer, self).__init__()\n",
    "        self.attn = nn.MultiheadAttention(embed_dim=d_model, num_heads=heads, batch_first=True) # 多头注意力，设置嵌入维度为d_model，头数为heads，batch_first=True表示输入和输出tensor以(批量大小,序列长度,嵌入维度) 形式提供\n",
    "        self.ff = FeedForward(d_model) #MLP组件，输入和输出的形状均为d_model，隐藏层的形状为d_ff默认\n",
    "        self.act1 = WaveAct() #激活函数\n",
    "        self.act2 = WaveAct() #激活函数\n",
    "\n",
    "    def forward(self, x, e_outputs): #输入形状为(点的数量，序列长度，d_model)，e_outputs为编码器的输出，形状也是为(点的数量，序列长度，d_model)\n",
    "        x2 = self.act1(x) #将解码器输入x通过激活函数\n",
    "        x = x + self.attn(x2, e_outputs, e_outputs)[0] #多头注意力机制，查询为解码器输入经过激活函数后的x2，键和值为编码器的输出e_outputs，然后使用残差连接原始输入得到自注意力的输出\n",
    "        x2 = self.act2(x) #将自注意力的输出通过激活函数\n",
    "        x = x + self.ff(x2) #将通过激活函数后的自注意力输出通过MLP组件后残差连接原始自注意力输出，得到解码器的输出\n",
    "        return x\n",
    "\n",
    "#编码器层，包含多个堆叠的编码器架构\n",
    "class Encoder(nn.Module):\n",
    "    def __init__(self, d_model, N, heads): #参数N代表编码器的头数，N代表包含几个编码器，d_model是数据的嵌入维度（用于每个编码器），heads是头的数量\n",
    "        super(Encoder, self).__init__()\n",
    "        self.N = N \n",
    "        self.layers = get_clones(EncoderLayer(d_model, heads), N) #N个编码器\n",
    "        self.act = WaveAct()\n",
    "\n",
    "    def forward(self, x): #输入一次通过N个编码器，x的形状为(点的数量，序列长度，d_model)\n",
    "        for i in range(self.N):\n",
    "            x = self.layers[i](x)\n",
    "        return self.act(x) #编码器的输出要经过激活函数\n",
    "\n",
    "#解码器层，包含多个堆叠的解码器架构\n",
    "class Decoder(nn.Module):\n",
    "    def __init__(self, d_model, N, heads): #参数N代表解码器的头数，N代表包含几个解码器，d_model是数据的嵌入维度（用于每个解码器），heads是头的数量\n",
    "        super(Decoder, self).__init__()\n",
    "        self.N = N\n",
    "        self.layers = get_clones(DecoderLayer(d_model, heads), N) #N个解码器\n",
    "        self.act = WaveAct()\n",
    "        \n",
    "    def forward(self, x, e_outputs): #输入一次通过N个解码器层，x的形状为(点的数量，序列长度，d_model)，e_outputs为编码器的输出，形状也是为(点的数量，序列长度，d_model)\n",
    "        for i in range(self.N): #输入和编码器输出依次通过N个解码器\n",
    "            x = self.layers[i](x, e_outputs) \n",
    "        return self.act(x) #解码器的输出要经过激活函数\n",
    "\n",
    "\n",
    "\n",
    "class DNN(nn.Module):\n",
    "    def __init__(self, d_out, d_model, d_hidden, N, heads): #接受参数为：d_out代表整个模型的输出的维度（就是最后的mlp层的输出维度），d_model代表每个点的特征嵌入维度，d_hidden代表最后的output layer模块中的隐藏层的维度，N代表编码器和解码器的层数，heads代表多头注意力机制的头数\n",
    "        super(DNN, self).__init__()\n",
    "\n",
    "        self.linear_emb = nn.Linear(2, d_model) #线性层，将输入的2维数据映射到d_model维度\n",
    "\n",
    "        self.encoder = Encoder(d_model, N, heads) #编码器层\n",
    "        self.decoder = Decoder(d_model, N, heads) #解码器层\n",
    "\n",
    "        #输出的mlp模块，包含三个线性层，前两个使用自定义激活函数WaveAct，最终将feature从d_model维度映射到d_hidden维度，最后将d_hidden维度映射到d_out维度\n",
    "        self.linear_hidden = nn.Sequential(*[\n",
    "            nn.Linear(d_model, d_hidden),\n",
    "            WaveAct(),\n",
    "            nn.Linear(d_hidden, d_hidden),\n",
    "            WaveAct(),\n",
    "            nn.Linear(d_hidden, 2),\n",
    "        ])\n",
    "        self.linear_out = nn.Sequential(*[\n",
    "            WaveAct(),\n",
    "            nn.Linear(2, d_out)\n",
    "        ])\n",
    "\n",
    "    def forward(self, x): #输入的x形状一般为(点的数量, 序列长度, 2)\n",
    "        src = x #形状为(点的数量，序列长度，2)\n",
    "        src = self.linear_emb(src) #特征向量通过第一个线性层，映射到高维，此时src的形状为(点的数量，序列长度，d_model)，d_model代表每个点的特征\n",
    "\n",
    "        e_outputs = self.encoder(src) #编码器处理输入特征向量，得到编码后的输出，形状为(点的数量，序列长度，d_model)\n",
    "        d_output = self.decoder(src, e_outputs) #解码器处理输入特征向量和编码后的输出，得到解码后的输出，形状为(点的数量，序列长度，d_model)\n",
    "        output_hidden = self.linear_hidden(d_output) #解码后的输出通过输出的mlp模块，得到最终的预测结果。形状为(点的数量，序列长度，2)，d_out代表输出的维度\n",
    "        output = self.linear_out(output_hidden) #形状为(点的数量，序列长度，d_out)，d_out代表输出的维度\n",
    "        # pdb.set_trace()\n",
    "        # raise Exception('stop')\n",
    "        return output #(点的数量，序列长度，d_out)\n",
    "    \n",
    "    # 新增方法，获取最后一个隐藏层的输出\n",
    "    def hidden_output(self, x):\n",
    "        src = x #形状为(点的数量，序列长度，2)\n",
    "        src = self.linear_emb(src) #特征向量通过第一个线性层，映射到高维，此时src的形状为(点的数量，序列长度，d_model)，d_model代表每个点的特征\n",
    "\n",
    "        e_outputs = self.encoder(src) #编码器处理输入特征向量，得到编码后的输出，形状为(点的数量，序列长度，d_model)\n",
    "        d_output = self.decoder(src, e_outputs) #解码器处理输入特征向量和编码后的输出，得到解码后的输出，形状为(点的数量，序列长度，d_model)\n",
    "        output_hidden = self.linear_hidden(d_output) #解码后的输出通过输出的mlp模块，得到最终的预测结果。形状为(点的数量，序列长度，2)，d_out代表输出的维度\n",
    "        # output = self.linear_out(output_hidden) #形状为(点的数量，序列长度，d_out)，d_out代表输出的维度\n",
    "        # pdb.set_trace()\n",
    "        # raise Exception('stop')\n",
    "        return output_hidden #(点的数量，序列长度，2)\n",
    "\n",
    "    \n",
    "   "
   ]
  },
  {
   "cell_type": "code",
   "execution_count": null,
   "metadata": {
    "execution": {
     "iopub.execute_input": "2025-07-28T10:11:46.592866Z",
     "iopub.status.busy": "2025-07-28T10:11:46.592777Z",
     "iopub.status.idle": "2025-07-28T10:11:46.602935Z",
     "shell.execute_reply": "2025-07-28T10:11:46.602754Z"
    }
   },
   "outputs": [],
   "source": [
    "#set the class of PINN\n",
    "\n",
    "#定义了一个名为`PhysicsInformedNN'的类，用于实现基于物理的神经网络。\n",
    "class PhysicsInformedNN:\n",
    "    # Initialize the class\n",
    "    def __init__(self, x0, u0, tb, X_f, lb, ub): #这个类包含的第一个方法__init__，这是一个特殊的方法，也就是这个类的构造函数，用于初始化新创建的对象，接受了几个参数\n",
    "        \n",
    "        \n",
    "        X0 = np.concatenate((x0,0*x0), 1) # [x0, 0],将x0和0*x0两个数组在第二个维度（即列）上进行了合并。0*x0会生成一个与x0形状相同，但所有元素都为0的数组。因此，X0的结果是一个新的二维数组，其中第一列是x0的值，第二列全为0\n",
    "        X_lb = np.concatenate((0*tb+lb[0],tb), 1) # [lb[0], tb],将0*tb+lb[0]和tb两个数组在第二个维度（即列）上进行了合并。0*tb+lb[0]会生成一个与tb形状相同，但所有元素都为lb[0]的数组。因此，X_lb的结果是一个新的二维数组，其中第一列全为lb[0]的值，第二列是tb的值。\n",
    "        X_ub = np.concatenate((0*tb+ub[0],tb), 1) # [ub[0], tb],同上生成一个与tb形状相同，但所有元素都为ub[0]的数组。因此，X_ub的结果是一个新的二维数组，其中第一列全为ub[0]的值，第二列是tb的值\n",
    "\n",
    "        X0 = make_time_sequence(X0, num_step=5, step=1e-4) #将形状从(点的数量，2)变为(点的数量，序列长度，2) \n",
    "        X_lb = make_time_sequence(X_lb, num_step=5, step=1e-4) #将形状从(点的数量，2)变为(点的数量，序列长度，2) \n",
    "        X_ub = make_time_sequence(X_ub, num_step=5, step=1e-4)\n",
    "        X_f = make_time_sequence(X_f, num_step=5, step=1e-4) #将形状从(点的数量，2)变为(点的数量，序列长度，2)\n",
    "\n",
    "\n",
    "        self.lb = torch.tensor(lb).float().to(device) #将传入的lb和ub参数的值存储在实例中，以便后续使用。这样可以在类的其他方法中通过self.lb和self.ub来访问这些值。\n",
    "        self.ub = torch.tensor(ub).float().to(device)\n",
    "\n",
    "\n",
    "        self.x0 = torch.tensor(X0[:,:, 0:1], requires_grad=True).float().to(device) #将X0的第一列赋值给self.x0（:表示取所有行,0：1实际上表示取第一列，因为python是左闭右开的）,将X0的第二列赋值给self.t0。这样可以在类的其他方法中通过self.x0和self.t0来访问这些值。\n",
    "        self.t0 = torch.tensor(X0[:,:, 1:2], requires_grad=True).float().to(device) #将x0的第二列赋值给self.t0\n",
    "\n",
    "        self.x_lb = torch.tensor(X_lb[:,:, 0:1], requires_grad=True).float().to(device) #将X_lb的第一列赋值给self.x_lb\n",
    "        self.t_lb = torch.tensor(X_lb[:,:, 1:2], requires_grad=True).float().to(device) #将X_lb的第二列赋值给self.t_lb\n",
    "\n",
    "        self.x_ub = torch.tensor(X_ub[:,:, 0:1], requires_grad=True).float().to(device) #将X_ub的第一列赋值给self.x_ub\n",
    "        self.t_ub = torch.tensor(X_ub[:,:, 1:2], requires_grad=True).float().to(device) #将X_ub的第二列赋值给self.t_ub\n",
    "        \n",
    "        self.x_f = torch.tensor(X_f[:,:, 0:1], requires_grad=True).float().to(device) #将X_f的第一列赋值给self.x_f\n",
    "        self.t_f = torch.tensor(X_f[:,:, 1:2], requires_grad=True).float().to(device) #将X_f的第二列赋值给self.t_f\n",
    "        \n",
    "        self.u0 = torch.tensor(u0).float().to(device) #将传入的u0和v0参数的值存储在实例中，以便后续使用。这样可以在类的其他方法中通过self.u0和self.v0来访问这些值。\n",
    "        \n",
    "        \n",
    "        \n",
    "        \n",
    "        # deep neural networks\n",
    "        self.dnn = DNN(d_out=1, d_hidden=512, d_model=32, N=1, heads=2).to(device) \n",
    "        self.dnn.apply(self.init_weights) #初始化模型中线性层的权重和偏置\n",
    "\n",
    "\n",
    "\n",
    "        self.optimizer_LBFGS = torch.optim.LBFGS(self.dnn.parameters(), line_search_fn='strong_wolfe')\n",
    "        #创建第二个优化器，括号内为要优化的参数，使用Adam优化方法\n",
    "        self.optimizer_Adam = torch.optim.Adam(self.dnn.parameters())\n",
    "                \n",
    "\n",
    "        self.iter = 0 #记录迭代次数 \n",
    "\n",
    "        self.loss_value = [] #创建一个空列表，用于存储损失值\n",
    "\n",
    "    def calculate_chaos_loss(self, x_f, t_f, num_iter=20, last_k=5, sigma=1e-4):\n",
    "        \"\"\"\n",
    "        计算混沌损失的 PyTorch 版本。???????????????\n",
    "        参数:\n",
    "        - x_f, t_f: 用于计算混沌度的配置点张量\n",
    "        - num_iter: 迭代次数\n",
    "        - last_k: 计算距离的最后k步\n",
    "        - sigma: 扰动大小\n",
    "        \"\"\"\n",
    "        \n",
    "        # 记录原始轨迹\n",
    "        trajectory = []\n",
    "        x, t = self.hidden_predict_torch(x_f, t_f)\n",
    "        trajectory.append(torch.cat([x, t], dim=1))\n",
    "\n",
    "        for _ in range(num_iter - 1):\n",
    "            x, t = self.hidden_predict_torch(x, t)\n",
    "            trajectory.append(torch.cat([x, t], dim=1))\n",
    "        \n",
    "        # 记录扰动后的轨迹\n",
    "        # 添加微小扰动\n",
    "        x1 = x_f + torch.randn_like(x_f) * sigma\n",
    "        t1 = t_f + torch.randn_like(t_f) * sigma\n",
    "        \n",
    "        trajectory_perturbed = []\n",
    "        x_p, t_p = self.hidden_predict_torch(x1, t1)\n",
    "        trajectory_perturbed.append(torch.cat([x_p, t_p], dim=1))\n",
    "\n",
    "        for _ in range(num_iter - 1):\n",
    "            x_p, t_p = self.hidden_predict_torch(x_p, t_p)\n",
    "            trajectory_perturbed.append(torch.cat([x_p, t_p], dim=1))\n",
    "\n",
    "        # 将轨迹列表转换为张量 (num_iter, N, 2)\n",
    "        trajectory_tensor = torch.stack(trajectory)\n",
    "        trajectory_perturbed_tensor = torch.stack(trajectory_perturbed)\n",
    "        \n",
    "        # 截取最后 k 次迭代\n",
    "        last_k_traj = trajectory_tensor[-last_k:]\n",
    "        last_k_traj_perturbed = trajectory_perturbed_tensor[-last_k:]\n",
    "        \n",
    "        # 计算欧氏距离\n",
    "        # torch.norm 计算 L2 范数（欧氏距离）\n",
    "        # dim=2 表示在最后一个维度（坐标维度）上计算距离\n",
    "        distances = torch.norm(last_k_traj - last_k_traj_perturbed, p=2, dim=2) # 形状: (last_k, N)\n",
    "        \n",
    "        # 计算每个点的平均混沌度，然后求所有点的平均值，得到一个标量损失\n",
    "        chaos_loss = torch.mean(distances)\n",
    "        \n",
    "        return chaos_loss\n",
    "\n",
    "    def init_weights(self, m):\n",
    "        if isinstance(m, nn.Linear): #判断是否是线性层\n",
    "            torch.nn.init.xavier_uniform(m.weight)\n",
    "            m.bias.data.fill_(0.01)\n",
    "    \n",
    "    #这个函数与下面的net_u函数功能相同，只是不计算梯度，因为在记录每个epoch的error时，使用with torch.no_grad()情况下调用net_u函数会报错，不知道为啥？\n",
    "    def net_u_error(self, x, t):  \n",
    "        u = self.dnn(torch.cat([x, t], dim=-1))  #（第一个参数将输入的两个参数x和t在第二个维度（列）上进行拼接，形成一个新的张量）调用DNN，根据两个参数权重和偏置，以及新得到的张量，计算神经网络的输出u\n",
    "        \n",
    "        return u #返回神经网络的输出u和v，以及u关于x的梯度u_x和v关于x的梯度v_x\n",
    "\n",
    "\n",
    "    #pytorch中\n",
    "    #定义了一个名为net_u的函数/方法，用于计算神经网络的输出。这个方法接受两个参数，分别是x和t，其中x是输入数据，t是时间数据。最后返回神经网络的输出。     \n",
    "    def net_u(self, x, t):  \n",
    "        u = self.dnn(torch.cat([x, t], dim=-1))  #（第一个参数将输入的两个参数x和t在第二个维度（列）上进行拼接，形成一个新的张量）调用DNN，根据两个参数权重和偏置，以及新得到的张量，计算神经网络的输出u\n",
    "\n",
    "        u_x = torch.autograd.grad(\n",
    "            u, x, \n",
    "            grad_outputs=torch.ones_like(u),\n",
    "            retain_graph=True,\n",
    "            create_graph=True\n",
    "        )[0]\n",
    "\n",
    "        return u,u_x #两个输出(点的数量，序列长度，1)\n",
    "\n",
    "\n",
    "    #定义了一个名为net_f的函数/方法，用于计算论文中的f。这个方法接受两个参数，分别是x和t，其中x是输入数据，t是时间数据。最后返回计算得到的f。\n",
    "    def net_f(self, x, t):\n",
    "        \"\"\" The pytorch autograd version of calculating residual \"\"\"\n",
    "\n",
    "        u,u_x=self.net_u(x,t) #调用上面的函数/方法，计算神经网络的输出（两个）以及输出关于输入x的梯度（两个）\n",
    "        \n",
    "        #计算u关于t的梯度，也就是u关于t的导数，这里使用了pytorch的自动求导功能\n",
    "        u_t = torch.autograd.grad(\n",
    "            u, t,  #输入的张量，要计算u关于t的导数\n",
    "            grad_outputs=torch.ones_like(u), #生成一个与u形状相同，所有元素均为1的张量，这个参数用于指定向量-雅可比积的像两部分\n",
    "            retain_graph=True, #表示计算完梯度之后保留计算图若需要多次计算梯度，则需要设置改参数为True\n",
    "            create_graph=True #创建梯度的计算图，使我们能够计算高阶导数\n",
    "        )[0] #这个函数的返回值是一个元组，其中包含了每个输入张量的梯度。这里只关心第一个输入张量u的梯度，所以我们使用[0]来获取这个梯度。？？？？又说只有一个梯度\n",
    "\n",
    "        u_xx = torch.autograd.grad(\n",
    "            u_x, x, \n",
    "            grad_outputs=torch.ones_like(u_x),\n",
    "            retain_graph=True,\n",
    "            create_graph=True\n",
    "        )[0]\n",
    "        \n",
    "        f=u_t-0.0001*u_xx+5*u**3-5*u    #计算f,定义见论文\n",
    "\n",
    "        return f  #(点的数量，序列长度，1)\n",
    "\n",
    "\n",
    "    def loss_func(self):\n",
    "        self.optimizer_LBFGS.zero_grad() #清除之前计算的梯度（在PyTorch中，梯度会累积，所以在每次新的优化迭代之前，我们需要清除之前的梯度）\n",
    "\n",
    "        u0_pred, _  = self.net_u(self.x0, self.t0) #输出(点的数量，序列长度，1)\n",
    "        u0_pred = u0_pred[:,0:1].reshape(-1,1) #(点的数量，序列长度，1)变为(点的数量，1)\n",
    "        u_lb_pred, u_x_lb_pred = self.net_u(self.x_lb, self.t_lb) #两个输出(点的数量，序列长度，1)\n",
    "        u_ub_pred, u_x_ub_pred = self.net_u(self.x_ub, self.t_ub) #两个输出(点的数量，序列长度，1)\n",
    "        f_pred = self.net_f(self.x_f, self.t_f) #输出(点的数量，序列长度，1)\n",
    "\n",
    "        loss = torch.mean((self.u0 - u0_pred) ** 2)  + \\\n",
    "                torch.mean((u_lb_pred - u_ub_pred) ** 2) + \\\n",
    "                torch.mean((u_x_lb_pred - u_x_ub_pred) ** 2) + \\\n",
    "                torch.mean(f_pred ** 2)\n",
    "        loss.backward() #被调用以计算损失函数关于神经网络参数的梯度。这个梯度将被用于优化器来更新神经网络参数\n",
    "        \n",
    "        self.iter += 1 #每调用一次损失函数，迭代次数加1\n",
    "\n",
    "\n",
    "        #record the loss value\n",
    "        self.current_loss = loss.detach() \n",
    "\n",
    "\n",
    "        return loss #返回loss\n",
    "\n",
    "\n",
    "\n",
    "    \n",
    "    #定义了一个名为train的函数/方法，用于训练神经网络。这个方法接受一个参数nIter，表示训练的迭代次数。\n",
    "    def train(self, nIter, nIterLBFGS):\n",
    "        self.dnn.train()#将神经网络设置为训练模式而不是评估模式\n",
    "\n",
    "        #先使用Adam优化器优化nIter次\n",
    "        for epoch in range(nIter):\n",
    "            u0_pred, _  = self.net_u(self.x0, self.t0) #输出(点的数量，序列长度，1)\n",
    "            u0_pred = u0_pred[:,0:1].reshape(-1,1) #(点的数量，序列长度，1)变为(点的数量，1)\n",
    "            u_lb_pred, u_x_lb_pred = self.net_u(self.x_lb, self.t_lb) #两个输出(点的数量，序列长度，1)\n",
    "            u_ub_pred, u_x_ub_pred = self.net_u(self.x_ub, self.t_ub) #两个输出(点的数量，序列长度，1)\n",
    "            f_pred = self.net_f(self.x_f, self.t_f) #输出(点的数量，序列长度，1)\n",
    "\n",
    "            loss = torch.mean((self.u0 - u0_pred) ** 2)  + \\\n",
    "                    torch.mean((u_lb_pred - u_ub_pred) ** 2) + \\\n",
    "                    torch.mean((u_x_lb_pred - u_x_ub_pred) ** 2) + \\\n",
    "                    torch.mean(f_pred ** 2)\n",
    "            \n",
    "            # Backward and optimize\n",
    "            self.optimizer_Adam.zero_grad() #清除该优化器之前计算的梯度（在PyTorch中，梯度会累积，所以在每次新的优化迭代之前，我们需要清除之前的梯度）\n",
    "            loss.backward() #被调用以计算损失函数关于神经网络参数的梯度。这个梯度将被用于优化器来更新神经网络参数\n",
    "            self.optimizer_Adam.step()  #使用之前的优化器self.optimizer_Adam，调用step方法(执行一步优化算法)，传入损失函数self.loss_func，进行优化\n",
    "            \n",
    "\n",
    "            #record the loss value\n",
    "            self.loss_value.append(loss) #将计算得到的loss值添加到self.loss_value列表中\n",
    "\n",
    "\n",
    "        #Backward the optimize，使用LBFGS优化器进一步，注意这里虽然迭代了500次，但其实使用LBFGS优化器优化的次数不止500次\n",
    "        for i in range(nIterLBFGS):\n",
    "            self.dnn.train() #将神经网络设置为训练模式而不是评估模式\n",
    "            self.optimizer_LBFGS.step(self.loss_func)  #使用之前的优化器self.optimizer，调用step方法(执行一步优化算法)，传入计算损失函数的方法self.loss_func，进行优化   \n",
    "\n",
    "            self.loss_value.append(self.current_loss) #将计算得到的loss值添加到self.loss_value列表中\n",
    "\n",
    "                                    \n",
    "    def predict(self, X): #形状(点的数量，2)\n",
    "        X = make_time_sequence(X, num_step=5, step=1e-4) #将形状从(点的数量，2)变为(点的数量，序列长度，2) \n",
    "        x = torch.tensor(X[:,:, 0:1], dtype=torch.float32, requires_grad=True).to(device) #(点的数量，序列长度，1) \n",
    "        t = torch.tensor(X[:,:, 1:2], dtype=torch.float32, requires_grad=True).to(device)\n",
    "\n",
    "        self.dnn.eval() #将神经网络切换为评估模式\n",
    "        with torch.no_grad():\n",
    "            u = self.net_u_error(x, t) #形状从两个(点的数量，序列长度，1)变为(点的数量，序列长度，1)\n",
    "            u = u[:,0:1].reshape(-1,1) #将u的形状从(点的数量，序列长度，1)变为(点的数量，1)\n",
    "            u = u.detach().cpu().numpy() #将张量u和f先从计算图中分离出来，然后转换为numpy数组，最后将这个数组移动到cpu上\n",
    "\n",
    "        return u #u形状是(点的数量，1)\n",
    "    \n",
    "    def residual(self, X): #形状(点的数量，2)\n",
    "        X = make_time_sequence(X, num_step=5, step=1e-4) #将形状从(点的数量，2)变为(点的数量，序列长度，2) \n",
    "        x = torch.tensor(X[:,:, 0:1], dtype=torch.float32, requires_grad=True).to(device) #(点的数量，序列长度，1) \n",
    "        t = torch.tensor(X[:,:, 1:2], dtype=torch.float32, requires_grad=True).to(device)\n",
    "\n",
    "        self.dnn.eval() #将神经网络切换为评估模式\n",
    "        \n",
    "        f = self.net_f(x, t) #形状从两个(点的数量，序列长度，1)变为(点的数量，序列长度，1)\n",
    "        f = torch.mean(f, dim=1).reshape(-1,1) #对f在序列长度维度上求平均，得到(点的数量，1)，即每个点的平均残差\n",
    "        f = f.detach().cpu().numpy()\n",
    "        return f #u形状是(点的数量，1)，f形状是(点的数量，1)\n",
    "    \n",
    "\n",
    "    def hidden_predict(self, X):#形状(点的数量，序列长度，2)\n",
    "        x = torch.tensor(X[:,:, 0:1], requires_grad=True).float().to(device) #(点的数量，序列长度，1) \n",
    "        t = torch.tensor(X[:,:, 1:2], requires_grad=True).float().to(device)\n",
    "        self.dnn.eval()\n",
    "        with torch.no_grad():\n",
    "            hidden_output = self.dnn.hidden_output(torch.cat([x, t], dim=-1)) #(点的数量，序列长度，2)\n",
    "            hidden_output = hidden_output.detach().cpu().numpy()\n",
    "        # hidden_output_x = hidden_output[:, 0]\n",
    "        # hidden_output_t = hidden_output[:, 1]\n",
    "        # hidden_output_x = hidden_output_x.detach().cpu().numpy()\n",
    "        # hidden_output_t = hidden_output_t.detach().cpu().numpy()\n",
    "        return hidden_output #(点的数量，序列长度，2)\n"
   ]
  },
  {
   "cell_type": "code",
   "execution_count": 5,
   "metadata": {
    "execution": {
     "iopub.execute_input": "2025-07-28T10:11:46.604095Z",
     "iopub.status.busy": "2025-07-28T10:11:46.603999Z",
     "iopub.status.idle": "2025-07-28T10:11:46.607131Z",
     "shell.execute_reply": "2025-07-28T10:11:46.606949Z"
    }
   },
   "outputs": [],
   "source": [
    "#定义根据模型计算给定输入（点集中的点）的混沌度的函数，这个函数接受三个参数，分别是模型、输入数据和迭代次数\n",
    "def calculate_chaos(model, X, num_iter): #输入是(点的数量，2)\n",
    "    \"\"\"\n",
    "    计算模型混沌情况的函数。\n",
    "    参数:\n",
    "    - model: 用于预测的模型对象，必须有一个名为hidden_predict的方法。模型的hidden_predict为倒数第二层的输出，倒数第二层的维度必须和输入维度相同。\n",
    "    - X: 输入数据，形状为(N_f_new, 2)，其中第一列为x0，第二列为t0。\n",
    "    - num_iter: 计算混沌情况的迭代次数。\n",
    "    返回:\n",
    "    - distances: 每个采样点（与该采样点加上微扰比较）在最后一次迭代后的欧氏距离数组，形状为(N_f_new,)。\n",
    "    \"\"\"\n",
    "    #对于所有的采样点\n",
    "    X0 = X\n",
    "    x0 = X[:, 0:1] #取X_f_train_new的第一列，赋值给x0，(N_f_new,1)形状\n",
    "    t0 = X[:, 1:2] #取X_f_train_new的第二列，赋值给t0\n",
    "    xs = []\n",
    "    X0 = make_time_sequence(X0, num_step=5, step=1e-4) #将形状从(点的数量，2)变为(点的数量，序列长度，2)\n",
    "    X = model.hidden_predict(X0) #(点的数量，序列长度，2)\n",
    "    \n",
    "    for i in range(num_iter): #循环num_iter次\n",
    "        X = model.hidden_predict(X) #(点的数量，序列长度，2)\n",
    "        xs.append(X) #新添加(点的数量，序列长度，2)\n",
    "\n",
    "    # 给所有采样点加上一个很小的扰动\n",
    "    x1 = x0 + np.random.normal(0, 0.0001) #加上一个很小的扰动，(N_f_new,1)形状\n",
    "    t1 = t0 + np.random.normal(0, 0.0001)\n",
    "    # 利用x0{1}和t0{1}计算x{t1}和t{t1}，存储在xs1中\n",
    "    xs1 = [] #初始化xs1\n",
    "    X1 = np.concatenate((x1, t1), axis=1) #(N_f_new,2)形状\n",
    "    X1 = make_time_sequence(X1, num_step=5, step=1e-4) #将形状从(点的数量，2)变为(点的数量，序列长度，2)\n",
    "    X1 = model.hidden_predict(X1) #(N_f_new,序列长度,2)\n",
    "\n",
    "    for i in range(num_iter): #循环num_iter次\n",
    "        X1 = model.hidden_predict(X1) #(N_f_new,序列长度,\n",
    "        xs1.append(X1) #新添加(N_f_new,序列长度,2)\n",
    "\n",
    "    \n",
    "\n",
    "    # 计算最后一次迭代的隐藏层输出，即最后一次迭代的x和t,使用chunchaos要注释掉\n",
    "    last_iter_xs = np.array(xs[-1]) #转换为数组，便于之后计算距离\n",
    "    last_iter_xs1 = np.array(xs1[-1])\n",
    "    distances = np.linalg.norm(last_iter_xs - last_iter_xs1, axis=(1,2))\n",
    "    distances = distances.flatten()\n",
    "\n",
    "\n",
    "\n",
    "\n",
    "\n",
    "\n",
    "\n",
    "    # #chunchaos方法\n",
    "    # num_elements_to_average = 20\n",
    "    # # 提取最后 20 个元素\n",
    "    # last_20_xs = xs[-num_elements_to_average:] # 这是一个包含 20 个元素的列表\n",
    "    # last_20_xs1 = xs1[-num_elements_to_average:] # 这是一个包含 20 个元素的列表\n",
    "    # # 存储每个时间步（列表中的每个元素）的混沌度分数\n",
    "    # step_chaos_scores = []\n",
    "    # # 遍历最后 20 个元素,zip 将两个列表的对应元素配对\n",
    "    # for step_xs, step_xs1 in zip(last_20_xs, last_20_xs1):\n",
    "    #     # step_xs 和 step_xs1 都是形状为 (N_f_new, sequence_length, 2) 的数组/张量\n",
    "    #     difference_step = step_xs - step_xs1 # 计算差异\n",
    "    #     # 计算每个数据点在当前步的混沌度分数 (形状 (N_f_new,))\n",
    "    #     # 假设使用 NumPy 进行计算\n",
    "    #     step_scores = np.linalg.norm(difference_step, axis=(1, 2))\n",
    "    #     # 将这 N_f_new 个分数添加到列表中\n",
    "    #     step_chaos_scores.append(step_scores)\n",
    "\n",
    "    # # step_chaos_scores 是一个包含 20 个元素的列表，每个元素都是形状为 (N_f_new,) 的 NumPy 数组\n",
    "    # # 将列表转换成一个单一的 NumPy 数组，形状为 (20, N_f_new)\n",
    "    # all_step_scores = np.stack(step_chaos_scores)\n",
    "    # # 现在 all_step_scores 的形状是 (num_elements_to_average, N_f_new)\n",
    "    # # axis 0 是时间步 (20)，axis 1 是原始数据点 (N_f_new)\n",
    "    # # 计算最后 20 个时间步在每个数据点上的平均混沌度分数\n",
    "    # # 沿着时间步轴 (axis=0) 求平均\n",
    "    # distances = np.mean(all_step_scores, axis=0)\n",
    "    # # 结果形状是 (N_f_new,)\n",
    "\n",
    "\n",
    "\n",
    "\n",
    "\n",
    "\n",
    "\n",
    "    return distances"
   ]
  },
  {
   "cell_type": "code",
   "execution_count": 6,
   "metadata": {
    "execution": {
     "iopub.execute_input": "2025-07-28T10:11:46.608325Z",
     "iopub.status.busy": "2025-07-28T10:11:46.608181Z",
     "iopub.status.idle": "2025-07-28T10:11:46.611299Z",
     "shell.execute_reply": "2025-07-28T10:11:46.611120Z"
    }
   },
   "outputs": [],
   "source": [
    "#定义根据模型计算给定输入（点集中的点）的混沌度的函数，这个函数接受三个参数，分别是模型、输入数据和迭代次数\n",
    "def calculate_chunchaos(model, X, num_iter): #输入是(点的数量，2)\n",
    "    \"\"\"\n",
    "    计算模型混沌情况的函数。\n",
    "    参数:\n",
    "    - model: 用于预测的模型对象，必须有一个名为hidden_predict的方法。模型的hidden_predict为倒数第二层的输出，倒数第二层的维度必须和输入维度相同。\n",
    "    - X: 输入数据，形状为(N_f_new, 2)，其中第一列为x0，第二列为t0。\n",
    "    - num_iter: 计算混沌情况的迭代次数。\n",
    "    返回:\n",
    "    - distances: 每个采样点（与该采样点加上微扰比较）在最后一次迭代后的欧氏距离数组，形状为(N_f_new,)。\n",
    "    \"\"\"\n",
    "    #对于所有的采样点\n",
    "    X0 = X\n",
    "    x0 = X[:, 0:1] #取X_f_train_new的第一列，赋值给x0，(N_f_new,1)形状\n",
    "    t0 = X[:, 1:2] #取X_f_train_new的第二列，赋值给t0\n",
    "    xs = []\n",
    "    X0 = make_time_sequence(X0, num_step=5, step=1e-4) #将形状从(点的数量，2)变为(点的数量，序列长度，2)\n",
    "    X = model.hidden_predict(X0) #(点的数量，序列长度，2)\n",
    "    \n",
    "    for i in range(num_iter): #循环num_iter次\n",
    "        X = model.hidden_predict(X) #(点的数量，序列长度，2)\n",
    "        xs.append(X) #新添加(点的数量，序列长度，2)\n",
    "\n",
    "    # 给所有采样点加上一个很小的扰动\n",
    "    x1 = x0 + np.random.normal(0, 0.0001) #加上一个很小的扰动，(N_f_new,1)形状\n",
    "    t1 = t0 + np.random.normal(0, 0.0001)\n",
    "    # 利用x0{1}和t0{1}计算x{t1}和t{t1}，存储在xs1中\n",
    "    xs1 = [] #初始化xs1\n",
    "    X1 = np.concatenate((x1, t1), axis=1) #(N_f_new,2)形状\n",
    "    X1 = make_time_sequence(X1, num_step=5, step=1e-4) #将形状从(点的数量，2)变为(点的数量，序列长度，2)\n",
    "    X1 = model.hidden_predict(X1) #(N_f_new,序列长度,2)\n",
    "\n",
    "    for i in range(num_iter): #循环num_iter次\n",
    "        X1 = model.hidden_predict(X1) #(N_f_new,序列长度,\n",
    "        xs1.append(X1) #新添加(N_f_new,序列长度,2)\n",
    "\n",
    "    \n",
    "\n",
    "    # # 计算最后一次迭代的隐藏层输出，即最后一次迭代的x和t,使用chunchaos要注释掉\n",
    "    # last_iter_xs = np.array(xs[-1]) #转换为数组，便于之后计算距离\n",
    "    # last_iter_xs1 = np.array(xs1[-1])\n",
    "    # distances = np.linalg.norm(last_iter_xs - last_iter_xs1, axis=(1,2))\n",
    "    # distances = distances.flatten()\n",
    "\n",
    "\n",
    "\n",
    "\n",
    "\n",
    "\n",
    "\n",
    "    #chunchaos方法\n",
    "    num_elements_to_average = 20\n",
    "    # 提取最后 20 个元素\n",
    "    last_20_xs = xs[-num_elements_to_average:] # 这是一个包含 20 个元素的列表\n",
    "    last_20_xs1 = xs1[-num_elements_to_average:] # 这是一个包含 20 个元素的列表\n",
    "    # 存储每个时间步（列表中的每个元素）的混沌度分数\n",
    "    step_chaos_scores = []\n",
    "    # 遍历最后 20 个元素,zip 将两个列表的对应元素配对\n",
    "    for step_xs, step_xs1 in zip(last_20_xs, last_20_xs1):\n",
    "        # step_xs 和 step_xs1 都是形状为 (N_f_new, sequence_length, 2) 的数组/张量\n",
    "        difference_step = step_xs - step_xs1 # 计算差异\n",
    "        # 计算每个数据点在当前步的混沌度分数 (形状 (N_f_new,))\n",
    "        # 假设使用 NumPy 进行计算\n",
    "        step_scores = np.linalg.norm(difference_step, axis=(1, 2))\n",
    "        # 将这 N_f_new 个分数添加到列表中\n",
    "        step_chaos_scores.append(step_scores)\n",
    "\n",
    "    # step_chaos_scores 是一个包含 20 个元素的列表，每个元素都是形状为 (N_f_new,) 的 NumPy 数组\n",
    "    # 将列表转换成一个单一的 NumPy 数组，形状为 (20, N_f_new)\n",
    "    all_step_scores = np.stack(step_chaos_scores)\n",
    "    # 现在 all_step_scores 的形状是 (num_elements_to_average, N_f_new)\n",
    "    # axis 0 是时间步 (20)，axis 1 是原始数据点 (N_f_new)\n",
    "    # 计算最后 20 个时间步在每个数据点上的平均混沌度分数\n",
    "    # 沿着时间步轴 (axis=0) 求平均\n",
    "    distances = np.mean(all_step_scores, axis=0)\n",
    "    # 结果形状是 (N_f_new,)\n",
    "\n",
    "\n",
    "\n",
    "\n",
    "\n",
    "\n",
    "\n",
    "    return distances"
   ]
  },
  {
   "cell_type": "code",
   "execution_count": 7,
   "metadata": {
    "execution": {
     "iopub.execute_input": "2025-07-28T10:11:46.612427Z",
     "iopub.status.busy": "2025-07-28T10:11:46.612316Z",
     "iopub.status.idle": "2025-07-28T10:11:46.614582Z",
     "shell.execute_reply": "2025-07-28T10:11:46.614261Z"
    }
   },
   "outputs": [],
   "source": [
    "#定义设置随机数种子的函数，第一个参数seed表示种子；第二个参数用来设置CUDA的卷积操作是否确定性，默认为False，表示没有确定性\n",
    "def set_seed(seed):\n",
    "    # torch.manual_seed(seed) #设置pytorch的CPU随机数生成器的种子\n",
    "    # torch.cuda.manual_seed_all(seed) #设置putorch的所有GPU随机数生成器的种子\n",
    "    # np.random.seed(seed) #设置numpy的随机数生成器的种子\n",
    "    # random.seed(seed) #设置python的内置随机数生成器的种子\n",
    "    # torch.backends.cudnn.deterministic = deterministic #True会让CUDA的卷积操作变得确定性，即对于相同的输入，每次运行会得到相同的结果，False则相反\n",
    "    \"\"\"\n",
    "    设置PyTorch的随机种子, 用于生成随机数. 通过设置相同的种子, 可以确保每次运行时生成的随机数序列相同\n",
    "    \"\"\"\n",
    "    torch.manual_seed(seed)\n",
    " \n",
    "    \"\"\"\n",
    "    设置PyTorch在所有可用的CUDA设备上的随机种子. 如果在使用GPU进行计算, 这个设置可以确保在不同的GPU上生成的随机数序列相同\n",
    "    \"\"\"\n",
    "    torch.cuda.manual_seed_all(seed)\n",
    " \n",
    "    \"\"\"\n",
    "    设置PyTorch在当前CUDA设备上的随机种子. 它与上一行代码的作用类似, 但只影响当前设备\n",
    "    \"\"\"\n",
    "    torch.cuda.manual_seed(seed)\n",
    " \n",
    "    \"\"\"\n",
    "    设置NumPy的随机种子, 用于生成随机数. 通过设置相同的种子，可以确保在使用NumPy的随机函数时生成的随机数序列相同\n",
    "    \"\"\"\n",
    "    np.random.seed(seed)\n",
    "    \n",
    "    \"\"\"\n",
    "    设置Python内置的随机函数的种子. Python的random模块提供了许多随机函数, 包括生成随机数、打乱列表等. 通过设置相同的种子, 可以确保使用这些随机函数时生成的随机数序列相同\n",
    "    \"\"\"\n",
    "    random.seed(seed)\n",
    "    \n",
    "    \"\"\"\n",
    "    设置Python的哈希种子 (哈希函数被广泛用于数据结构 (如字典和集合) 的实现，以及一些内部操作 (如查找和比较)). 通过设置相同的种子, 可以确保在不同的运行中生成的哈希结果相同\n",
    "    \"\"\"\n",
    "    # os.environ[\"PYTHONHASHSEED\"] = str(seed)\n",
    "    \n",
    "    \"\"\"\n",
    "    该设置确保每次运行代码时, cuDNN的计算结果是确定性的, 即相同的输入会产生相同的输出, 这是通过禁用一些非确定性的算法来实现的, 例如在卷积操作中使用的算法. 这样做可以保证模型的训练和推理在相同的硬件和软件环境下是可复现的, 即每次运行代码时的结果都相同. 但是, 这可能会导致一些性能上的损失, 因为禁用了一些优化的非确定性算法\n",
    "    \"\"\"\n",
    "    torch.backends.cudnn.deterministic = True\n",
    "    \n",
    "    \"\"\"\n",
    "    该设置禁用了cuDNN的自动优化过程. 当它被设置为False时, PyTorch不会在每次运行时重新寻找最优的算法配置, 而是使用固定的算法配置. 这样做可以确保每次运行代码时的性能是一致的, 但可能会导致一些性能上的损失\n",
    "    \"\"\"\n",
    "    torch.backends.cudnn.benchmark = False\n",
    "\n"
   ]
  },
  {
   "cell_type": "code",
   "execution_count": 8,
   "metadata": {
    "execution": {
     "iopub.execute_input": "2025-07-28T10:11:46.615882Z",
     "iopub.status.busy": "2025-07-28T10:11:46.615728Z",
     "iopub.status.idle": "2025-07-28T20:21:05.933681Z",
     "shell.execute_reply": "2025-07-28T20:21:05.933108Z"
    }
   },
   "outputs": [
    {
     "name": "stderr",
     "output_type": "stream",
     "text": [
      "/tmp/ipykernel_2077893/867135424.py:57: UserWarning: nn.init.xavier_uniform is now deprecated in favor of nn.init.xavier_uniform_.\n",
      "  torch.nn.init.xavier_uniform(m.weight)\n"
     ]
    },
    {
     "name": "stderr",
     "output_type": "stream",
     "text": [
      "\r\n",
      "Training with Adam: 0it [00:00, ?it/s]"
     ]
    },
    {
     "name": "stderr",
     "output_type": "stream",
     "text": [
      "\r\n",
      "Training with Adam: 0it [00:00, ?it/s]"
     ]
    },
    {
     "name": "stderr",
     "output_type": "stream",
     "text": [
      "\n"
     ]
    },
    {
     "name": "stderr",
     "output_type": "stream",
     "text": [
      "\r\n",
      "Training with LBFGS:   0%|          | 0/1000 [00:00<?, ?it/s]"
     ]
    },
    {
     "name": "stderr",
     "output_type": "stream",
     "text": [
      "\r\n",
      "Training with LBFGS:   0%|          | 1/1000 [00:36<10:03:00, 36.22s/it]"
     ]
    },
    {
     "name": "stderr",
     "output_type": "stream",
     "text": [
      "\r\n",
      "Training with LBFGS:   0%|          | 2/1000 [01:11<9:57:53, 35.95s/it] "
     ]
    },
    {
     "name": "stderr",
     "output_type": "stream",
     "text": [
      "\r\n",
      "Training with LBFGS:   0%|          | 3/1000 [01:48<9:59:53, 36.10s/it]"
     ]
    },
    {
     "name": "stderr",
     "output_type": "stream",
     "text": [
      "\r\n",
      "Training with LBFGS:   0%|          | 4/1000 [02:24<10:00:55, 36.20s/it]"
     ]
    },
    {
     "name": "stderr",
     "output_type": "stream",
     "text": [
      "\r\n",
      "Training with LBFGS:   0%|          | 5/1000 [03:00<9:59:01, 36.12s/it] "
     ]
    },
    {
     "name": "stderr",
     "output_type": "stream",
     "text": [
      "\r\n",
      "Training with LBFGS:   1%|          | 6/1000 [03:37<10:00:20, 36.24s/it]"
     ]
    },
    {
     "name": "stderr",
     "output_type": "stream",
     "text": [
      "\r\n",
      "Training with LBFGS:   1%|          | 7/1000 [04:13<9:59:31, 36.23s/it] "
     ]
    },
    {
     "name": "stderr",
     "output_type": "stream",
     "text": [
      "\r\n",
      "Training with LBFGS:   1%|          | 8/1000 [04:49<9:58:45, 36.22s/it]"
     ]
    },
    {
     "name": "stderr",
     "output_type": "stream",
     "text": [
      "\r\n",
      "Training with LBFGS:   1%|          | 9/1000 [05:25<9:58:41, 36.25s/it]"
     ]
    },
    {
     "name": "stderr",
     "output_type": "stream",
     "text": [
      "\r\n",
      "Training with LBFGS:   1%|          | 10/1000 [06:01<9:56:35, 36.16s/it]"
     ]
    },
    {
     "name": "stderr",
     "output_type": "stream",
     "text": [
      "\r\n",
      "Training with LBFGS:   1%|          | 11/1000 [06:37<9:56:06, 36.16s/it]"
     ]
    },
    {
     "name": "stderr",
     "output_type": "stream",
     "text": [
      "\r\n",
      "Training with LBFGS:   1%|          | 12/1000 [07:13<9:54:52, 36.13s/it]"
     ]
    },
    {
     "name": "stderr",
     "output_type": "stream",
     "text": [
      "\r\n",
      "Training with LBFGS:   1%|▏         | 13/1000 [07:50<9:57:46, 36.34s/it]"
     ]
    },
    {
     "name": "stderr",
     "output_type": "stream",
     "text": [
      "\r\n",
      "Training with LBFGS:   1%|▏         | 14/1000 [08:27<9:57:49, 36.38s/it]"
     ]
    },
    {
     "name": "stderr",
     "output_type": "stream",
     "text": [
      "\r\n",
      "Training with LBFGS:   2%|▏         | 15/1000 [09:03<9:55:38, 36.28s/it]"
     ]
    },
    {
     "name": "stderr",
     "output_type": "stream",
     "text": [
      "\r\n",
      "Training with LBFGS:   2%|▏         | 16/1000 [09:39<9:55:50, 36.33s/it]"
     ]
    },
    {
     "name": "stderr",
     "output_type": "stream",
     "text": [
      "\r\n",
      "Training with LBFGS:   2%|▏         | 17/1000 [10:15<9:54:08, 36.27s/it]"
     ]
    },
    {
     "name": "stderr",
     "output_type": "stream",
     "text": [
      "\r\n",
      "Training with LBFGS:   2%|▏         | 18/1000 [10:51<9:51:55, 36.17s/it]"
     ]
    },
    {
     "name": "stderr",
     "output_type": "stream",
     "text": [
      "\r\n",
      "Training with LBFGS:   2%|▏         | 19/1000 [11:28<9:52:08, 36.22s/it]"
     ]
    },
    {
     "name": "stderr",
     "output_type": "stream",
     "text": [
      "\r\n",
      "Training with LBFGS:   2%|▏         | 20/1000 [12:04<9:51:44, 36.23s/it]"
     ]
    },
    {
     "name": "stderr",
     "output_type": "stream",
     "text": [
      "\r\n",
      "Training with LBFGS:   2%|▏         | 21/1000 [12:40<9:51:07, 36.23s/it]"
     ]
    },
    {
     "name": "stderr",
     "output_type": "stream",
     "text": [
      "\r\n",
      "Training with LBFGS:   2%|▏         | 22/1000 [13:16<9:50:51, 36.25s/it]"
     ]
    },
    {
     "name": "stderr",
     "output_type": "stream",
     "text": [
      "\r\n",
      "Training with LBFGS:   2%|▏         | 23/1000 [13:53<9:50:47, 36.28s/it]"
     ]
    },
    {
     "name": "stderr",
     "output_type": "stream",
     "text": [
      "\r\n",
      "Training with LBFGS:   2%|▏         | 24/1000 [14:29<9:49:47, 36.26s/it]"
     ]
    },
    {
     "name": "stderr",
     "output_type": "stream",
     "text": [
      "\r\n",
      "Training with LBFGS:   2%|▎         | 25/1000 [15:05<9:50:04, 36.31s/it]"
     ]
    },
    {
     "name": "stderr",
     "output_type": "stream",
     "text": [
      "\r\n",
      "Training with LBFGS:   3%|▎         | 26/1000 [15:42<9:49:59, 36.34s/it]"
     ]
    },
    {
     "name": "stderr",
     "output_type": "stream",
     "text": [
      "\r\n",
      "Training with LBFGS:   3%|▎         | 27/1000 [16:18<9:48:57, 36.32s/it]"
     ]
    },
    {
     "name": "stderr",
     "output_type": "stream",
     "text": [
      "\r\n",
      "Training with LBFGS:   3%|▎         | 28/1000 [16:55<9:49:10, 36.37s/it]"
     ]
    },
    {
     "name": "stderr",
     "output_type": "stream",
     "text": [
      "\r\n",
      "Training with LBFGS:   3%|▎         | 29/1000 [17:31<9:46:49, 36.26s/it]"
     ]
    },
    {
     "name": "stderr",
     "output_type": "stream",
     "text": [
      "\r\n",
      "Training with LBFGS:   3%|▎         | 30/1000 [18:07<9:45:59, 36.25s/it]"
     ]
    },
    {
     "name": "stderr",
     "output_type": "stream",
     "text": [
      "\r\n",
      "Training with LBFGS:   3%|▎         | 31/1000 [18:43<9:45:38, 36.26s/it]"
     ]
    },
    {
     "name": "stderr",
     "output_type": "stream",
     "text": [
      "\r\n",
      "Training with LBFGS:   3%|▎         | 32/1000 [19:19<9:44:26, 36.23s/it]"
     ]
    },
    {
     "name": "stderr",
     "output_type": "stream",
     "text": [
      "\r\n",
      "Training with LBFGS:   3%|▎         | 33/1000 [19:56<9:44:16, 36.25s/it]"
     ]
    },
    {
     "name": "stderr",
     "output_type": "stream",
     "text": [
      "\r\n",
      "Training with LBFGS:   3%|▎         | 34/1000 [20:32<9:43:27, 36.24s/it]"
     ]
    },
    {
     "name": "stderr",
     "output_type": "stream",
     "text": [
      "\r\n",
      "Training with LBFGS:   4%|▎         | 35/1000 [21:08<9:41:32, 36.16s/it]"
     ]
    },
    {
     "name": "stderr",
     "output_type": "stream",
     "text": [
      "\r\n",
      "Training with LBFGS:   4%|▎         | 36/1000 [21:45<9:44:03, 36.35s/it]"
     ]
    },
    {
     "name": "stderr",
     "output_type": "stream",
     "text": [
      "\r\n",
      "Training with LBFGS:   4%|▎         | 37/1000 [22:21<9:42:40, 36.30s/it]"
     ]
    },
    {
     "name": "stderr",
     "output_type": "stream",
     "text": [
      "\r\n",
      "Training with LBFGS:   4%|▍         | 38/1000 [22:57<9:42:10, 36.31s/it]"
     ]
    },
    {
     "name": "stderr",
     "output_type": "stream",
     "text": [
      "\r\n",
      "Training with LBFGS:   4%|▍         | 39/1000 [23:33<9:40:27, 36.24s/it]"
     ]
    },
    {
     "name": "stderr",
     "output_type": "stream",
     "text": [
      "\r\n",
      "Training with LBFGS:   4%|▍         | 40/1000 [24:09<9:38:57, 36.18s/it]"
     ]
    },
    {
     "name": "stderr",
     "output_type": "stream",
     "text": [
      "\r\n",
      "Training with LBFGS:   4%|▍         | 41/1000 [24:46<9:39:55, 36.28s/it]"
     ]
    },
    {
     "name": "stderr",
     "output_type": "stream",
     "text": [
      "\r\n",
      "Training with LBFGS:   4%|▍         | 42/1000 [25:22<9:38:17, 36.22s/it]"
     ]
    },
    {
     "name": "stderr",
     "output_type": "stream",
     "text": [
      "\r\n",
      "Training with LBFGS:   4%|▍         | 43/1000 [25:58<9:36:59, 36.17s/it]"
     ]
    },
    {
     "name": "stderr",
     "output_type": "stream",
     "text": [
      "\r\n",
      "Training with LBFGS:   4%|▍         | 44/1000 [26:34<9:35:37, 36.13s/it]"
     ]
    },
    {
     "name": "stderr",
     "output_type": "stream",
     "text": [
      "\r\n",
      "Training with LBFGS:   4%|▍         | 45/1000 [27:10<9:35:47, 36.17s/it]"
     ]
    },
    {
     "name": "stderr",
     "output_type": "stream",
     "text": [
      "\r\n",
      "Training with LBFGS:   5%|▍         | 46/1000 [27:46<9:34:15, 36.12s/it]"
     ]
    },
    {
     "name": "stderr",
     "output_type": "stream",
     "text": [
      "\r\n",
      "Training with LBFGS:   5%|▍         | 47/1000 [28:22<9:34:03, 36.14s/it]"
     ]
    },
    {
     "name": "stderr",
     "output_type": "stream",
     "text": [
      "\r\n",
      "Training with LBFGS:   5%|▍         | 48/1000 [28:58<9:31:36, 36.03s/it]"
     ]
    },
    {
     "name": "stderr",
     "output_type": "stream",
     "text": [
      "\r\n",
      "Training with LBFGS:   5%|▍         | 49/1000 [29:34<9:30:36, 36.00s/it]"
     ]
    },
    {
     "name": "stderr",
     "output_type": "stream",
     "text": [
      "\r\n",
      "Training with LBFGS:   5%|▌         | 50/1000 [30:10<9:30:56, 36.06s/it]"
     ]
    },
    {
     "name": "stderr",
     "output_type": "stream",
     "text": [
      "\r\n",
      "Training with LBFGS:   5%|▌         | 51/1000 [30:46<9:30:25, 36.06s/it]"
     ]
    },
    {
     "name": "stderr",
     "output_type": "stream",
     "text": [
      "\r\n",
      "Training with LBFGS:   5%|▌         | 52/1000 [31:22<9:29:54, 36.07s/it]"
     ]
    },
    {
     "name": "stderr",
     "output_type": "stream",
     "text": [
      "\r\n",
      "Training with LBFGS:   5%|▌         | 53/1000 [31:59<9:30:35, 36.15s/it]"
     ]
    },
    {
     "name": "stderr",
     "output_type": "stream",
     "text": [
      "\r\n",
      "Training with LBFGS:   5%|▌         | 54/1000 [32:35<9:30:02, 36.15s/it]"
     ]
    },
    {
     "name": "stderr",
     "output_type": "stream",
     "text": [
      "\r\n",
      "Training with LBFGS:   6%|▌         | 55/1000 [33:11<9:28:53, 36.12s/it]"
     ]
    },
    {
     "name": "stderr",
     "output_type": "stream",
     "text": [
      "\r\n",
      "Training with LBFGS:   6%|▌         | 56/1000 [33:47<9:27:39, 36.08s/it]"
     ]
    },
    {
     "name": "stderr",
     "output_type": "stream",
     "text": [
      "\r\n",
      "Training with LBFGS:   6%|▌         | 57/1000 [34:23<9:26:31, 36.05s/it]"
     ]
    },
    {
     "name": "stderr",
     "output_type": "stream",
     "text": [
      "\r\n",
      "Training with LBFGS:   6%|▌         | 58/1000 [34:59<9:24:43, 35.97s/it]"
     ]
    },
    {
     "name": "stderr",
     "output_type": "stream",
     "text": [
      "\r\n",
      "Training with LBFGS:   6%|▌         | 59/1000 [35:34<9:23:10, 35.91s/it]"
     ]
    },
    {
     "name": "stderr",
     "output_type": "stream",
     "text": [
      "\r\n",
      "Training with LBFGS:   6%|▌         | 60/1000 [36:10<9:22:27, 35.90s/it]"
     ]
    },
    {
     "name": "stderr",
     "output_type": "stream",
     "text": [
      "\r\n",
      "Training with LBFGS:   6%|▌         | 61/1000 [36:46<9:22:17, 35.93s/it]"
     ]
    },
    {
     "name": "stderr",
     "output_type": "stream",
     "text": [
      "\r\n",
      "Training with LBFGS:   6%|▌         | 62/1000 [37:22<9:21:14, 35.90s/it]"
     ]
    },
    {
     "name": "stderr",
     "output_type": "stream",
     "text": [
      "\r\n",
      "Training with LBFGS:   6%|▋         | 63/1000 [37:58<9:20:56, 35.92s/it]"
     ]
    },
    {
     "name": "stderr",
     "output_type": "stream",
     "text": [
      "\r\n",
      "Training with LBFGS:   6%|▋         | 64/1000 [38:34<9:20:27, 35.93s/it]"
     ]
    },
    {
     "name": "stderr",
     "output_type": "stream",
     "text": [
      "\r\n",
      "Training with LBFGS:   6%|▋         | 65/1000 [39:10<9:21:04, 36.00s/it]"
     ]
    },
    {
     "name": "stderr",
     "output_type": "stream",
     "text": [
      "\r\n",
      "Training with LBFGS:   7%|▋         | 66/1000 [39:46<9:21:26, 36.07s/it]"
     ]
    },
    {
     "name": "stderr",
     "output_type": "stream",
     "text": [
      "\r\n",
      "Training with LBFGS:   7%|▋         | 67/1000 [40:23<9:21:25, 36.10s/it]"
     ]
    },
    {
     "name": "stderr",
     "output_type": "stream",
     "text": [
      "\r\n",
      "Training with LBFGS:   7%|▋         | 68/1000 [40:59<9:20:09, 36.06s/it]"
     ]
    },
    {
     "name": "stderr",
     "output_type": "stream",
     "text": [
      "\r\n",
      "Training with LBFGS:   7%|▋         | 69/1000 [41:35<9:19:14, 36.04s/it]"
     ]
    },
    {
     "name": "stderr",
     "output_type": "stream",
     "text": [
      "\r\n",
      "Training with LBFGS:   7%|▋         | 70/1000 [42:11<9:18:24, 36.03s/it]"
     ]
    },
    {
     "name": "stderr",
     "output_type": "stream",
     "text": [
      "\r\n",
      "Training with LBFGS:   7%|▋         | 71/1000 [42:47<9:18:37, 36.08s/it]"
     ]
    },
    {
     "name": "stderr",
     "output_type": "stream",
     "text": [
      "\r\n",
      "Training with LBFGS:   7%|▋         | 72/1000 [43:23<9:18:22, 36.10s/it]"
     ]
    },
    {
     "name": "stderr",
     "output_type": "stream",
     "text": [
      "\r\n",
      "Training with LBFGS:   7%|▋         | 73/1000 [43:59<9:18:12, 36.13s/it]"
     ]
    },
    {
     "name": "stderr",
     "output_type": "stream",
     "text": [
      "\r\n",
      "Training with LBFGS:   7%|▋         | 74/1000 [44:35<9:17:31, 36.12s/it]"
     ]
    },
    {
     "name": "stderr",
     "output_type": "stream",
     "text": [
      "\r\n",
      "Training with LBFGS:   8%|▊         | 75/1000 [45:11<9:17:18, 36.15s/it]"
     ]
    },
    {
     "name": "stderr",
     "output_type": "stream",
     "text": [
      "\r\n",
      "Training with LBFGS:   8%|▊         | 76/1000 [45:48<9:16:49, 36.16s/it]"
     ]
    },
    {
     "name": "stderr",
     "output_type": "stream",
     "text": [
      "\r\n",
      "Training with LBFGS:   8%|▊         | 77/1000 [46:24<9:16:32, 36.18s/it]"
     ]
    },
    {
     "name": "stderr",
     "output_type": "stream",
     "text": [
      "\r\n",
      "Training with LBFGS:   8%|▊         | 78/1000 [47:00<9:16:20, 36.20s/it]"
     ]
    },
    {
     "name": "stderr",
     "output_type": "stream",
     "text": [
      "\r\n",
      "Training with LBFGS:   8%|▊         | 79/1000 [47:36<9:14:41, 36.14s/it]"
     ]
    },
    {
     "name": "stderr",
     "output_type": "stream",
     "text": [
      "\r\n",
      "Training with LBFGS:   8%|▊         | 80/1000 [48:12<9:13:07, 36.07s/it]"
     ]
    },
    {
     "name": "stderr",
     "output_type": "stream",
     "text": [
      "\r\n",
      "Training with LBFGS:   8%|▊         | 81/1000 [48:48<9:11:32, 36.01s/it]"
     ]
    },
    {
     "name": "stderr",
     "output_type": "stream",
     "text": [
      "\r\n",
      "Training with LBFGS:   8%|▊         | 82/1000 [49:24<9:10:45, 36.00s/it]"
     ]
    },
    {
     "name": "stderr",
     "output_type": "stream",
     "text": [
      "\r\n",
      "Training with LBFGS:   8%|▊         | 83/1000 [50:00<9:08:43, 35.90s/it]"
     ]
    },
    {
     "name": "stderr",
     "output_type": "stream",
     "text": [
      "\r\n",
      "Training with LBFGS:   8%|▊         | 84/1000 [50:35<9:07:51, 35.89s/it]"
     ]
    },
    {
     "name": "stderr",
     "output_type": "stream",
     "text": [
      "\r\n",
      "Training with LBFGS:   8%|▊         | 85/1000 [51:11<9:07:40, 35.91s/it]"
     ]
    },
    {
     "name": "stderr",
     "output_type": "stream",
     "text": [
      "\r\n",
      "Training with LBFGS:   9%|▊         | 86/1000 [51:47<9:06:57, 35.90s/it]"
     ]
    },
    {
     "name": "stderr",
     "output_type": "stream",
     "text": [
      "\r\n",
      "Training with LBFGS:   9%|▊         | 87/1000 [52:23<9:06:42, 35.93s/it]"
     ]
    },
    {
     "name": "stderr",
     "output_type": "stream",
     "text": [
      "\r\n",
      "Training with LBFGS:   9%|▉         | 88/1000 [52:59<9:05:00, 35.86s/it]"
     ]
    },
    {
     "name": "stderr",
     "output_type": "stream",
     "text": [
      "\r\n",
      "Training with LBFGS:   9%|▉         | 89/1000 [53:35<9:04:02, 35.83s/it]"
     ]
    },
    {
     "name": "stderr",
     "output_type": "stream",
     "text": [
      "\r\n",
      "Training with LBFGS:   9%|▉         | 90/1000 [54:11<9:03:35, 35.84s/it]"
     ]
    },
    {
     "name": "stderr",
     "output_type": "stream",
     "text": [
      "\r\n",
      "Training with LBFGS:   9%|▉         | 91/1000 [54:46<9:03:14, 35.86s/it]"
     ]
    },
    {
     "name": "stderr",
     "output_type": "stream",
     "text": [
      "\r\n",
      "Training with LBFGS:   9%|▉         | 92/1000 [55:22<9:02:19, 35.84s/it]"
     ]
    },
    {
     "name": "stderr",
     "output_type": "stream",
     "text": [
      "\r\n",
      "Training with LBFGS:   9%|▉         | 93/1000 [55:58<9:01:20, 35.81s/it]"
     ]
    },
    {
     "name": "stderr",
     "output_type": "stream",
     "text": [
      "\r\n",
      "Training with LBFGS:   9%|▉         | 94/1000 [56:34<9:00:45, 35.81s/it]"
     ]
    },
    {
     "name": "stderr",
     "output_type": "stream",
     "text": [
      "\r\n",
      "Training with LBFGS:  10%|▉         | 95/1000 [57:10<9:00:32, 35.84s/it]"
     ]
    },
    {
     "name": "stderr",
     "output_type": "stream",
     "text": [
      "\r\n",
      "Training with LBFGS:  10%|▉         | 96/1000 [57:46<9:00:06, 35.85s/it]"
     ]
    },
    {
     "name": "stderr",
     "output_type": "stream",
     "text": [
      "\r\n",
      "Training with LBFGS:  10%|▉         | 97/1000 [58:21<8:59:27, 35.84s/it]"
     ]
    },
    {
     "name": "stderr",
     "output_type": "stream",
     "text": [
      "\r\n",
      "Training with LBFGS:  10%|▉         | 98/1000 [58:58<9:00:34, 35.96s/it]"
     ]
    },
    {
     "name": "stderr",
     "output_type": "stream",
     "text": [
      "\r\n",
      "Training with LBFGS:  10%|▉         | 99/1000 [59:34<9:03:33, 36.20s/it]"
     ]
    },
    {
     "name": "stderr",
     "output_type": "stream",
     "text": [
      "\r\n",
      "Training with LBFGS:  10%|█         | 100/1000 [1:00:11<9:05:35, 36.37s/it]"
     ]
    },
    {
     "name": "stderr",
     "output_type": "stream",
     "text": [
      "\r\n",
      "Training with LBFGS:  10%|█         | 101/1000 [1:00:48<9:07:36, 36.55s/it]"
     ]
    },
    {
     "name": "stderr",
     "output_type": "stream",
     "text": [
      "\r\n",
      "Training with LBFGS:  10%|█         | 102/1000 [1:01:25<9:09:00, 36.68s/it]"
     ]
    },
    {
     "name": "stderr",
     "output_type": "stream",
     "text": [
      "\r\n",
      "Training with LBFGS:  10%|█         | 103/1000 [1:02:02<9:07:26, 36.62s/it]"
     ]
    },
    {
     "name": "stderr",
     "output_type": "stream",
     "text": [
      "\r\n",
      "Training with LBFGS:  10%|█         | 104/1000 [1:02:38<9:07:44, 36.68s/it]"
     ]
    },
    {
     "name": "stderr",
     "output_type": "stream",
     "text": [
      "\r\n",
      "Training with LBFGS:  10%|█         | 105/1000 [1:03:18<9:19:51, 37.53s/it]"
     ]
    },
    {
     "name": "stderr",
     "output_type": "stream",
     "text": [
      "\r\n",
      "Training with LBFGS:  11%|█         | 106/1000 [1:03:58<9:31:38, 38.37s/it]"
     ]
    },
    {
     "name": "stderr",
     "output_type": "stream",
     "text": [
      "\r\n",
      "Training with LBFGS:  11%|█         | 107/1000 [1:04:57<11:03:50, 44.60s/it]"
     ]
    },
    {
     "name": "stderr",
     "output_type": "stream",
     "text": [
      "\r\n",
      "Training with LBFGS:  11%|█         | 108/1000 [1:06:02<12:31:19, 50.54s/it]"
     ]
    },
    {
     "name": "stderr",
     "output_type": "stream",
     "text": [
      "\r\n",
      "Training with LBFGS:  11%|█         | 109/1000 [1:07:09<13:45:53, 55.62s/it]"
     ]
    },
    {
     "name": "stderr",
     "output_type": "stream",
     "text": [
      "\r\n",
      "Training with LBFGS:  11%|█         | 110/1000 [1:08:17<14:40:22, 59.35s/it]"
     ]
    },
    {
     "name": "stderr",
     "output_type": "stream",
     "text": [
      "\r\n",
      "Training with LBFGS:  11%|█         | 111/1000 [1:09:20<14:53:07, 60.28s/it]"
     ]
    },
    {
     "name": "stderr",
     "output_type": "stream",
     "text": [
      "\r\n",
      "Training with LBFGS:  11%|█         | 112/1000 [1:10:11<14:10:29, 57.47s/it]"
     ]
    },
    {
     "name": "stderr",
     "output_type": "stream",
     "text": [
      "\r\n",
      "Training with LBFGS:  11%|█▏        | 113/1000 [1:11:16<14:43:22, 59.76s/it]"
     ]
    },
    {
     "name": "stderr",
     "output_type": "stream",
     "text": [
      "\r\n",
      "Training with LBFGS:  11%|█▏        | 114/1000 [1:12:18<14:51:23, 60.37s/it]"
     ]
    },
    {
     "name": "stderr",
     "output_type": "stream",
     "text": [
      "\r\n",
      "Training with LBFGS:  12%|█▏        | 115/1000 [1:13:24<15:18:00, 62.24s/it]"
     ]
    },
    {
     "name": "stderr",
     "output_type": "stream",
     "text": [
      "\r\n",
      "Training with LBFGS:  12%|█▏        | 116/1000 [1:14:31<15:37:38, 63.64s/it]"
     ]
    },
    {
     "name": "stderr",
     "output_type": "stream",
     "text": [
      "\r\n",
      "Training with LBFGS:  12%|█▏        | 117/1000 [1:15:38<15:51:26, 64.65s/it]"
     ]
    },
    {
     "name": "stderr",
     "output_type": "stream",
     "text": [
      "\r\n",
      "Training with LBFGS:  12%|█▏        | 118/1000 [1:16:47<16:08:16, 65.87s/it]"
     ]
    },
    {
     "name": "stderr",
     "output_type": "stream",
     "text": [
      "\r\n",
      "Training with LBFGS:  12%|█▏        | 119/1000 [1:17:55<16:18:43, 66.66s/it]"
     ]
    },
    {
     "name": "stderr",
     "output_type": "stream",
     "text": [
      "\r\n",
      "Training with LBFGS:  12%|█▏        | 120/1000 [1:19:04<16:26:28, 67.26s/it]"
     ]
    },
    {
     "name": "stderr",
     "output_type": "stream",
     "text": [
      "\r\n",
      "Training with LBFGS:  12%|█▏        | 121/1000 [1:20:13<16:32:45, 67.76s/it]"
     ]
    },
    {
     "name": "stderr",
     "output_type": "stream",
     "text": [
      "\r\n",
      "Training with LBFGS:  12%|█▏        | 122/1000 [1:21:21<16:33:34, 67.90s/it]"
     ]
    },
    {
     "name": "stderr",
     "output_type": "stream",
     "text": [
      "\r\n",
      "Training with LBFGS:  12%|█▏        | 123/1000 [1:22:30<16:36:57, 68.21s/it]"
     ]
    },
    {
     "name": "stderr",
     "output_type": "stream",
     "text": [
      "\r\n",
      "Training with LBFGS:  12%|█▏        | 124/1000 [1:23:40<16:41:29, 68.59s/it]"
     ]
    },
    {
     "name": "stderr",
     "output_type": "stream",
     "text": [
      "\r\n",
      "Training with LBFGS:  12%|█▎        | 125/1000 [1:24:48<16:39:36, 68.54s/it]"
     ]
    },
    {
     "name": "stderr",
     "output_type": "stream",
     "text": [
      "\r\n",
      "Training with LBFGS:  13%|█▎        | 126/1000 [1:25:55<16:33:14, 68.19s/it]"
     ]
    },
    {
     "name": "stderr",
     "output_type": "stream",
     "text": [
      "\r\n",
      "Training with LBFGS:  13%|█▎        | 127/1000 [1:27:02<16:24:19, 67.65s/it]"
     ]
    },
    {
     "name": "stderr",
     "output_type": "stream",
     "text": [
      "\r\n",
      "Training with LBFGS:  13%|█▎        | 128/1000 [1:28:09<16:22:31, 67.61s/it]"
     ]
    },
    {
     "name": "stderr",
     "output_type": "stream",
     "text": [
      "\r\n",
      "Training with LBFGS:  13%|█▎        | 129/1000 [1:29:16<16:18:12, 67.38s/it]"
     ]
    },
    {
     "name": "stderr",
     "output_type": "stream",
     "text": [
      "\r\n",
      "Training with LBFGS:  13%|█▎        | 130/1000 [1:30:20<16:01:54, 66.34s/it]"
     ]
    },
    {
     "name": "stderr",
     "output_type": "stream",
     "text": [
      "\r\n",
      "Training with LBFGS:  13%|█▎        | 131/1000 [1:30:58<13:55:46, 57.71s/it]"
     ]
    },
    {
     "name": "stderr",
     "output_type": "stream",
     "text": [
      "\r\n",
      "Training with LBFGS:  13%|█▎        | 132/1000 [1:31:36<12:29:07, 51.78s/it]"
     ]
    },
    {
     "name": "stderr",
     "output_type": "stream",
     "text": [
      "\r\n",
      "Training with LBFGS:  13%|█▎        | 133/1000 [1:32:13<11:28:09, 47.62s/it]"
     ]
    },
    {
     "name": "stderr",
     "output_type": "stream",
     "text": [
      "\r\n",
      "Training with LBFGS:  13%|█▎        | 134/1000 [1:32:51<10:44:35, 44.66s/it]"
     ]
    },
    {
     "name": "stderr",
     "output_type": "stream",
     "text": [
      "\r\n",
      "Training with LBFGS:  14%|█▎        | 135/1000 [1:33:30<10:17:52, 42.86s/it]"
     ]
    },
    {
     "name": "stderr",
     "output_type": "stream",
     "text": [
      "\r\n",
      "Training with LBFGS:  14%|█▎        | 136/1000 [1:34:07<9:53:38, 41.22s/it] "
     ]
    },
    {
     "name": "stderr",
     "output_type": "stream",
     "text": [
      "\r\n",
      "Training with LBFGS:  14%|█▎        | 137/1000 [1:34:45<9:38:44, 40.24s/it]"
     ]
    },
    {
     "name": "stderr",
     "output_type": "stream",
     "text": [
      "\r\n",
      "Training with LBFGS:  14%|█▍        | 138/1000 [1:35:22<9:24:02, 39.26s/it]"
     ]
    },
    {
     "name": "stderr",
     "output_type": "stream",
     "text": [
      "\r\n",
      "Training with LBFGS:  14%|█▍        | 139/1000 [1:35:59<9:13:01, 38.54s/it]"
     ]
    },
    {
     "name": "stderr",
     "output_type": "stream",
     "text": [
      "\r\n",
      "Training with LBFGS:  14%|█▍        | 140/1000 [1:36:36<9:06:17, 38.11s/it]"
     ]
    },
    {
     "name": "stderr",
     "output_type": "stream",
     "text": [
      "\r\n",
      "Training with LBFGS:  14%|█▍        | 141/1000 [1:37:13<9:00:42, 37.77s/it]"
     ]
    },
    {
     "name": "stderr",
     "output_type": "stream",
     "text": [
      "\r\n",
      "Training with LBFGS:  14%|█▍        | 142/1000 [1:37:50<8:56:01, 37.48s/it]"
     ]
    },
    {
     "name": "stderr",
     "output_type": "stream",
     "text": [
      "\r\n",
      "Training with LBFGS:  14%|█▍        | 143/1000 [1:38:27<8:52:22, 37.27s/it]"
     ]
    },
    {
     "name": "stderr",
     "output_type": "stream",
     "text": [
      "\r\n",
      "Training with LBFGS:  14%|█▍        | 144/1000 [1:39:03<8:49:27, 37.11s/it]"
     ]
    },
    {
     "name": "stderr",
     "output_type": "stream",
     "text": [
      "\r\n",
      "Training with LBFGS:  14%|█▍        | 145/1000 [1:39:40<8:47:51, 37.04s/it]"
     ]
    },
    {
     "name": "stderr",
     "output_type": "stream",
     "text": [
      "\r\n",
      "Training with LBFGS:  15%|█▍        | 146/1000 [1:40:17<8:45:58, 36.95s/it]"
     ]
    },
    {
     "name": "stderr",
     "output_type": "stream",
     "text": [
      "\r\n",
      "Training with LBFGS:  15%|█▍        | 147/1000 [1:40:54<8:44:56, 36.92s/it]"
     ]
    },
    {
     "name": "stderr",
     "output_type": "stream",
     "text": [
      "\r\n",
      "Training with LBFGS:  15%|█▍        | 148/1000 [1:41:31<8:45:15, 36.99s/it]"
     ]
    },
    {
     "name": "stderr",
     "output_type": "stream",
     "text": [
      "\r\n",
      "Training with LBFGS:  15%|█▍        | 149/1000 [1:42:08<8:43:56, 36.94s/it]"
     ]
    },
    {
     "name": "stderr",
     "output_type": "stream",
     "text": [
      "\r\n",
      "Training with LBFGS:  15%|█▌        | 150/1000 [1:42:45<8:43:42, 36.97s/it]"
     ]
    },
    {
     "name": "stderr",
     "output_type": "stream",
     "text": [
      "\r\n",
      "Training with LBFGS:  15%|█▌        | 151/1000 [1:43:22<8:42:42, 36.94s/it]"
     ]
    },
    {
     "name": "stderr",
     "output_type": "stream",
     "text": [
      "\r\n",
      "Training with LBFGS:  15%|█▌        | 152/1000 [1:43:59<8:41:09, 36.87s/it]"
     ]
    },
    {
     "name": "stderr",
     "output_type": "stream",
     "text": [
      "\r\n",
      "Training with LBFGS:  15%|█▌        | 153/1000 [1:44:35<8:39:56, 36.83s/it]"
     ]
    },
    {
     "name": "stderr",
     "output_type": "stream",
     "text": [
      "\r\n",
      "Training with LBFGS:  15%|█▌        | 154/1000 [1:45:12<8:38:47, 36.79s/it]"
     ]
    },
    {
     "name": "stderr",
     "output_type": "stream",
     "text": [
      "\r\n",
      "Training with LBFGS:  16%|█▌        | 155/1000 [1:45:49<8:37:49, 36.77s/it]"
     ]
    },
    {
     "name": "stderr",
     "output_type": "stream",
     "text": [
      "\r\n",
      "Training with LBFGS:  16%|█▌        | 156/1000 [1:46:26<8:38:23, 36.85s/it]"
     ]
    },
    {
     "name": "stderr",
     "output_type": "stream",
     "text": [
      "\r\n",
      "Training with LBFGS:  16%|█▌        | 157/1000 [1:47:02<8:37:31, 36.83s/it]"
     ]
    },
    {
     "name": "stderr",
     "output_type": "stream",
     "text": [
      "\r\n",
      "Training with LBFGS:  16%|█▌        | 158/1000 [1:47:39<8:36:56, 36.84s/it]"
     ]
    },
    {
     "name": "stderr",
     "output_type": "stream",
     "text": [
      "\r\n",
      "Training with LBFGS:  16%|█▌        | 159/1000 [1:48:16<8:36:40, 36.86s/it]"
     ]
    },
    {
     "name": "stderr",
     "output_type": "stream",
     "text": [
      "\r\n",
      "Training with LBFGS:  16%|█▌        | 160/1000 [1:48:53<8:35:20, 36.81s/it]"
     ]
    },
    {
     "name": "stderr",
     "output_type": "stream",
     "text": [
      "\r\n",
      "Training with LBFGS:  16%|█▌        | 161/1000 [1:49:30<8:36:46, 36.96s/it]"
     ]
    },
    {
     "name": "stderr",
     "output_type": "stream",
     "text": [
      "\r\n",
      "Training with LBFGS:  16%|█▌        | 162/1000 [1:50:07<8:35:54, 36.94s/it]"
     ]
    },
    {
     "name": "stderr",
     "output_type": "stream",
     "text": [
      "\r\n",
      "Training with LBFGS:  16%|█▋        | 163/1000 [1:50:44<8:34:37, 36.89s/it]"
     ]
    },
    {
     "name": "stderr",
     "output_type": "stream",
     "text": [
      "\r\n",
      "Training with LBFGS:  16%|█▋        | 164/1000 [1:51:21<8:34:18, 36.91s/it]"
     ]
    },
    {
     "name": "stderr",
     "output_type": "stream",
     "text": [
      "\r\n",
      "Training with LBFGS:  16%|█▋        | 165/1000 [1:51:58<8:35:45, 37.06s/it]"
     ]
    },
    {
     "name": "stderr",
     "output_type": "stream",
     "text": [
      "\r\n",
      "Training with LBFGS:  17%|█▋        | 166/1000 [1:52:35<8:35:14, 37.07s/it]"
     ]
    },
    {
     "name": "stderr",
     "output_type": "stream",
     "text": [
      "\r\n",
      "Training with LBFGS:  17%|█▋        | 167/1000 [1:53:12<8:33:43, 37.00s/it]"
     ]
    },
    {
     "name": "stderr",
     "output_type": "stream",
     "text": [
      "\r\n",
      "Training with LBFGS:  17%|█▋        | 168/1000 [1:53:49<8:31:39, 36.90s/it]"
     ]
    },
    {
     "name": "stderr",
     "output_type": "stream",
     "text": [
      "\r\n",
      "Training with LBFGS:  17%|█▋        | 169/1000 [1:54:26<8:30:43, 36.88s/it]"
     ]
    },
    {
     "name": "stderr",
     "output_type": "stream",
     "text": [
      "\r\n",
      "Training with LBFGS:  17%|█▋        | 170/1000 [1:55:03<8:30:54, 36.93s/it]"
     ]
    },
    {
     "name": "stderr",
     "output_type": "stream",
     "text": [
      "\r\n",
      "Training with LBFGS:  17%|█▋        | 171/1000 [1:55:40<8:31:27, 37.02s/it]"
     ]
    },
    {
     "name": "stderr",
     "output_type": "stream",
     "text": [
      "\r\n",
      "Training with LBFGS:  17%|█▋        | 172/1000 [1:56:17<8:30:10, 36.97s/it]"
     ]
    },
    {
     "name": "stderr",
     "output_type": "stream",
     "text": [
      "\r\n",
      "Training with LBFGS:  17%|█▋        | 173/1000 [1:56:54<8:31:00, 37.07s/it]"
     ]
    },
    {
     "name": "stderr",
     "output_type": "stream",
     "text": [
      "\r\n",
      "Training with LBFGS:  17%|█▋        | 174/1000 [1:57:31<8:30:16, 37.07s/it]"
     ]
    },
    {
     "name": "stderr",
     "output_type": "stream",
     "text": [
      "\r\n",
      "Training with LBFGS:  18%|█▊        | 175/1000 [1:58:08<8:28:55, 37.01s/it]"
     ]
    },
    {
     "name": "stderr",
     "output_type": "stream",
     "text": [
      "\r\n",
      "Training with LBFGS:  18%|█▊        | 176/1000 [1:58:45<8:28:11, 37.00s/it]"
     ]
    },
    {
     "name": "stderr",
     "output_type": "stream",
     "text": [
      "\r\n",
      "Training with LBFGS:  18%|█▊        | 177/1000 [1:59:22<8:26:26, 36.92s/it]"
     ]
    },
    {
     "name": "stderr",
     "output_type": "stream",
     "text": [
      "\r\n",
      "Training with LBFGS:  18%|█▊        | 178/1000 [1:59:59<8:25:36, 36.91s/it]"
     ]
    },
    {
     "name": "stderr",
     "output_type": "stream",
     "text": [
      "\r\n",
      "Training with LBFGS:  18%|█▊        | 179/1000 [2:00:36<8:25:32, 36.95s/it]"
     ]
    },
    {
     "name": "stderr",
     "output_type": "stream",
     "text": [
      "\r\n",
      "Training with LBFGS:  18%|█▊        | 180/1000 [2:01:13<8:24:20, 36.90s/it]"
     ]
    },
    {
     "name": "stderr",
     "output_type": "stream",
     "text": [
      "\r\n",
      "Training with LBFGS:  18%|█▊        | 181/1000 [2:01:50<8:25:12, 37.01s/it]"
     ]
    },
    {
     "name": "stderr",
     "output_type": "stream",
     "text": [
      "\r\n",
      "Training with LBFGS:  18%|█▊        | 182/1000 [2:02:28<8:28:39, 37.31s/it]"
     ]
    },
    {
     "name": "stderr",
     "output_type": "stream",
     "text": [
      "\r\n",
      "Training with LBFGS:  18%|█▊        | 183/1000 [2:03:05<8:29:38, 37.43s/it]"
     ]
    },
    {
     "name": "stderr",
     "output_type": "stream",
     "text": [
      "\r\n",
      "Training with LBFGS:  18%|█▊        | 184/1000 [2:03:44<8:31:33, 37.62s/it]"
     ]
    },
    {
     "name": "stderr",
     "output_type": "stream",
     "text": [
      "\r\n",
      "Training with LBFGS:  18%|█▊        | 185/1000 [2:04:21<8:32:11, 37.71s/it]"
     ]
    },
    {
     "name": "stderr",
     "output_type": "stream",
     "text": [
      "\r\n",
      "Training with LBFGS:  19%|█▊        | 186/1000 [2:04:59<8:29:34, 37.56s/it]"
     ]
    },
    {
     "name": "stderr",
     "output_type": "stream",
     "text": [
      "\r\n",
      "Training with LBFGS:  19%|█▊        | 187/1000 [2:05:36<8:28:08, 37.50s/it]"
     ]
    },
    {
     "name": "stderr",
     "output_type": "stream",
     "text": [
      "\r\n",
      "Training with LBFGS:  19%|█▉        | 188/1000 [2:06:13<8:25:18, 37.34s/it]"
     ]
    },
    {
     "name": "stderr",
     "output_type": "stream",
     "text": [
      "\r\n",
      "Training with LBFGS:  19%|█▉        | 189/1000 [2:06:50<8:23:43, 37.27s/it]"
     ]
    },
    {
     "name": "stderr",
     "output_type": "stream",
     "text": [
      "\r\n",
      "Training with LBFGS:  19%|█▉        | 190/1000 [2:07:27<8:22:33, 37.23s/it]"
     ]
    },
    {
     "name": "stderr",
     "output_type": "stream",
     "text": [
      "\r\n",
      "Training with LBFGS:  19%|█▉        | 191/1000 [2:08:04<8:20:09, 37.09s/it]"
     ]
    },
    {
     "name": "stderr",
     "output_type": "stream",
     "text": [
      "\r\n",
      "Training with LBFGS:  19%|█▉        | 192/1000 [2:08:41<8:18:03, 36.98s/it]"
     ]
    },
    {
     "name": "stderr",
     "output_type": "stream",
     "text": [
      "\r\n",
      "Training with LBFGS:  19%|█▉        | 193/1000 [2:09:18<8:17:46, 37.01s/it]"
     ]
    },
    {
     "name": "stderr",
     "output_type": "stream",
     "text": [
      "\r\n",
      "Training with LBFGS:  19%|█▉        | 194/1000 [2:09:55<8:16:59, 37.00s/it]"
     ]
    },
    {
     "name": "stderr",
     "output_type": "stream",
     "text": [
      "\r\n",
      "Training with LBFGS:  20%|█▉        | 195/1000 [2:10:32<8:15:50, 36.96s/it]"
     ]
    },
    {
     "name": "stderr",
     "output_type": "stream",
     "text": [
      "\r\n",
      "Training with LBFGS:  20%|█▉        | 196/1000 [2:11:08<8:14:24, 36.90s/it]"
     ]
    },
    {
     "name": "stderr",
     "output_type": "stream",
     "text": [
      "\r\n",
      "Training with LBFGS:  20%|█▉        | 197/1000 [2:11:46<8:14:43, 36.97s/it]"
     ]
    },
    {
     "name": "stderr",
     "output_type": "stream",
     "text": [
      "\r\n",
      "Training with LBFGS:  20%|█▉        | 198/1000 [2:12:22<8:13:56, 36.95s/it]"
     ]
    },
    {
     "name": "stderr",
     "output_type": "stream",
     "text": [
      "\r\n",
      "Training with LBFGS:  20%|█▉        | 199/1000 [2:12:59<8:13:13, 36.95s/it]"
     ]
    },
    {
     "name": "stderr",
     "output_type": "stream",
     "text": [
      "\r\n",
      "Training with LBFGS:  20%|██        | 200/1000 [2:13:36<8:12:31, 36.94s/it]"
     ]
    },
    {
     "name": "stderr",
     "output_type": "stream",
     "text": [
      "\r\n",
      "Training with LBFGS:  20%|██        | 201/1000 [2:14:13<8:12:36, 36.99s/it]"
     ]
    },
    {
     "name": "stderr",
     "output_type": "stream",
     "text": [
      "\r\n",
      "Training with LBFGS:  20%|██        | 202/1000 [2:14:50<8:12:14, 37.01s/it]"
     ]
    },
    {
     "name": "stderr",
     "output_type": "stream",
     "text": [
      "\r\n",
      "Training with LBFGS:  20%|██        | 203/1000 [2:15:28<8:12:31, 37.08s/it]"
     ]
    },
    {
     "name": "stderr",
     "output_type": "stream",
     "text": [
      "\r\n",
      "Training with LBFGS:  20%|██        | 204/1000 [2:16:04<8:10:42, 36.99s/it]"
     ]
    },
    {
     "name": "stderr",
     "output_type": "stream",
     "text": [
      "\r\n",
      "Training with LBFGS:  20%|██        | 205/1000 [2:16:42<8:11:07, 37.07s/it]"
     ]
    },
    {
     "name": "stderr",
     "output_type": "stream",
     "text": [
      "\r\n",
      "Training with LBFGS:  21%|██        | 206/1000 [2:17:19<8:09:56, 37.02s/it]"
     ]
    },
    {
     "name": "stderr",
     "output_type": "stream",
     "text": [
      "\r\n",
      "Training with LBFGS:  21%|██        | 207/1000 [2:17:56<8:10:23, 37.10s/it]"
     ]
    },
    {
     "name": "stderr",
     "output_type": "stream",
     "text": [
      "\r\n",
      "Training with LBFGS:  21%|██        | 208/1000 [2:18:33<8:09:06, 37.05s/it]"
     ]
    },
    {
     "name": "stderr",
     "output_type": "stream",
     "text": [
      "\r\n",
      "Training with LBFGS:  21%|██        | 209/1000 [2:19:10<8:08:45, 37.07s/it]"
     ]
    },
    {
     "name": "stderr",
     "output_type": "stream",
     "text": [
      "\r\n",
      "Training with LBFGS:  21%|██        | 210/1000 [2:19:47<8:08:34, 37.11s/it]"
     ]
    },
    {
     "name": "stderr",
     "output_type": "stream",
     "text": [
      "\r\n",
      "Training with LBFGS:  21%|██        | 211/1000 [2:20:24<8:08:08, 37.12s/it]"
     ]
    },
    {
     "name": "stderr",
     "output_type": "stream",
     "text": [
      "\r\n",
      "Training with LBFGS:  21%|██        | 212/1000 [2:21:02<8:08:36, 37.20s/it]"
     ]
    },
    {
     "name": "stderr",
     "output_type": "stream",
     "text": [
      "\r\n",
      "Training with LBFGS:  21%|██▏       | 213/1000 [2:21:39<8:06:47, 37.11s/it]"
     ]
    },
    {
     "name": "stderr",
     "output_type": "stream",
     "text": [
      "\r\n",
      "Training with LBFGS:  21%|██▏       | 214/1000 [2:22:15<8:04:51, 37.01s/it]"
     ]
    },
    {
     "name": "stderr",
     "output_type": "stream",
     "text": [
      "\r\n",
      "Training with LBFGS:  22%|██▏       | 215/1000 [2:22:52<8:03:47, 36.98s/it]"
     ]
    },
    {
     "name": "stderr",
     "output_type": "stream",
     "text": [
      "\r\n",
      "Training with LBFGS:  22%|██▏       | 216/1000 [2:23:29<8:03:51, 37.03s/it]"
     ]
    },
    {
     "name": "stderr",
     "output_type": "stream",
     "text": [
      "\r\n",
      "Training with LBFGS:  22%|██▏       | 217/1000 [2:24:07<8:04:33, 37.13s/it]"
     ]
    },
    {
     "name": "stderr",
     "output_type": "stream",
     "text": [
      "\r\n",
      "Training with LBFGS:  22%|██▏       | 218/1000 [2:24:44<8:05:05, 37.22s/it]"
     ]
    },
    {
     "name": "stderr",
     "output_type": "stream",
     "text": [
      "\r\n",
      "Training with LBFGS:  22%|██▏       | 219/1000 [2:25:24<8:12:45, 37.86s/it]"
     ]
    },
    {
     "name": "stderr",
     "output_type": "stream",
     "text": [
      "\r\n",
      "Training with LBFGS:  22%|██▏       | 220/1000 [2:26:03<8:20:02, 38.46s/it]"
     ]
    },
    {
     "name": "stderr",
     "output_type": "stream",
     "text": [
      "\r\n",
      "Training with LBFGS:  22%|██▏       | 221/1000 [2:26:44<8:27:51, 39.12s/it]"
     ]
    },
    {
     "name": "stderr",
     "output_type": "stream",
     "text": [
      "\r\n",
      "Training with LBFGS:  22%|██▏       | 222/1000 [2:27:22<8:22:58, 38.79s/it]"
     ]
    },
    {
     "name": "stderr",
     "output_type": "stream",
     "text": [
      "\r\n",
      "Training with LBFGS:  22%|██▏       | 223/1000 [2:28:00<8:18:52, 38.52s/it]"
     ]
    },
    {
     "name": "stderr",
     "output_type": "stream",
     "text": [
      "\r\n",
      "Training with LBFGS:  22%|██▏       | 224/1000 [2:28:39<8:20:16, 38.68s/it]"
     ]
    },
    {
     "name": "stderr",
     "output_type": "stream",
     "text": [
      "\r\n",
      "Training with LBFGS:  22%|██▎       | 225/1000 [2:29:17<8:16:06, 38.41s/it]"
     ]
    },
    {
     "name": "stderr",
     "output_type": "stream",
     "text": [
      "\r\n",
      "Training with LBFGS:  23%|██▎       | 226/1000 [2:29:55<8:14:04, 38.30s/it]"
     ]
    },
    {
     "name": "stderr",
     "output_type": "stream",
     "text": [
      "\r\n",
      "Training with LBFGS:  23%|██▎       | 227/1000 [2:30:33<8:10:51, 38.10s/it]"
     ]
    },
    {
     "name": "stderr",
     "output_type": "stream",
     "text": [
      "\r\n",
      "Training with LBFGS:  23%|██▎       | 228/1000 [2:31:12<8:15:52, 38.54s/it]"
     ]
    },
    {
     "name": "stderr",
     "output_type": "stream",
     "text": [
      "\r\n",
      "Training with LBFGS:  23%|██▎       | 229/1000 [2:31:51<8:16:27, 38.63s/it]"
     ]
    },
    {
     "name": "stderr",
     "output_type": "stream",
     "text": [
      "\r\n",
      "Training with LBFGS:  23%|██▎       | 230/1000 [2:32:30<8:15:56, 38.64s/it]"
     ]
    },
    {
     "name": "stderr",
     "output_type": "stream",
     "text": [
      "\r\n",
      "Training with LBFGS:  23%|██▎       | 231/1000 [2:33:08<8:15:18, 38.65s/it]"
     ]
    },
    {
     "name": "stderr",
     "output_type": "stream",
     "text": [
      "\r\n",
      "Training with LBFGS:  23%|██▎       | 232/1000 [2:33:47<8:13:27, 38.55s/it]"
     ]
    },
    {
     "name": "stderr",
     "output_type": "stream",
     "text": [
      "\r\n",
      "Training with LBFGS:  23%|██▎       | 233/1000 [2:34:25<8:13:03, 38.57s/it]"
     ]
    },
    {
     "name": "stderr",
     "output_type": "stream",
     "text": [
      "\r\n",
      "Training with LBFGS:  23%|██▎       | 234/1000 [2:35:04<8:13:16, 38.64s/it]"
     ]
    },
    {
     "name": "stderr",
     "output_type": "stream",
     "text": [
      "\r\n",
      "Training with LBFGS:  24%|██▎       | 235/1000 [2:35:43<8:14:13, 38.76s/it]"
     ]
    },
    {
     "name": "stderr",
     "output_type": "stream",
     "text": [
      "\r\n",
      "Training with LBFGS:  24%|██▎       | 236/1000 [2:36:21<8:11:15, 38.58s/it]"
     ]
    },
    {
     "name": "stderr",
     "output_type": "stream",
     "text": [
      "\r\n",
      "Training with LBFGS:  24%|██▎       | 237/1000 [2:36:59<8:09:19, 38.48s/it]"
     ]
    },
    {
     "name": "stderr",
     "output_type": "stream",
     "text": [
      "\r\n",
      "Training with LBFGS:  24%|██▍       | 238/1000 [2:37:39<8:12:14, 38.76s/it]"
     ]
    },
    {
     "name": "stderr",
     "output_type": "stream",
     "text": [
      "\r\n",
      "Training with LBFGS:  24%|██▍       | 239/1000 [2:38:17<8:07:38, 38.45s/it]"
     ]
    },
    {
     "name": "stderr",
     "output_type": "stream",
     "text": [
      "\r\n",
      "Training with LBFGS:  24%|██▍       | 240/1000 [2:38:54<8:04:22, 38.24s/it]"
     ]
    },
    {
     "name": "stderr",
     "output_type": "stream",
     "text": [
      "\r\n",
      "Training with LBFGS:  24%|██▍       | 241/1000 [2:39:32<8:02:52, 38.17s/it]"
     ]
    },
    {
     "name": "stderr",
     "output_type": "stream",
     "text": [
      "\r\n",
      "Training with LBFGS:  24%|██▍       | 242/1000 [2:40:10<8:00:11, 38.01s/it]"
     ]
    },
    {
     "name": "stderr",
     "output_type": "stream",
     "text": [
      "\r\n",
      "Training with LBFGS:  24%|██▍       | 243/1000 [2:40:48<7:59:44, 38.02s/it]"
     ]
    },
    {
     "name": "stderr",
     "output_type": "stream",
     "text": [
      "\r\n",
      "Training with LBFGS:  24%|██▍       | 244/1000 [2:41:26<7:59:33, 38.06s/it]"
     ]
    },
    {
     "name": "stderr",
     "output_type": "stream",
     "text": [
      "\r\n",
      "Training with LBFGS:  24%|██▍       | 245/1000 [2:42:04<7:58:32, 38.03s/it]"
     ]
    },
    {
     "name": "stderr",
     "output_type": "stream",
     "text": [
      "\r\n",
      "Training with LBFGS:  25%|██▍       | 246/1000 [2:42:42<7:57:11, 37.97s/it]"
     ]
    },
    {
     "name": "stderr",
     "output_type": "stream",
     "text": [
      "\r\n",
      "Training with LBFGS:  25%|██▍       | 247/1000 [2:43:20<7:57:16, 38.03s/it]"
     ]
    },
    {
     "name": "stderr",
     "output_type": "stream",
     "text": [
      "\r\n",
      "Training with LBFGS:  25%|██▍       | 248/1000 [2:43:58<7:55:13, 37.92s/it]"
     ]
    },
    {
     "name": "stderr",
     "output_type": "stream",
     "text": [
      "\r\n",
      "Training with LBFGS:  25%|██▍       | 249/1000 [2:44:36<7:54:53, 37.94s/it]"
     ]
    },
    {
     "name": "stderr",
     "output_type": "stream",
     "text": [
      "\r\n",
      "Training with LBFGS:  25%|██▌       | 250/1000 [2:45:13<7:52:57, 37.84s/it]"
     ]
    },
    {
     "name": "stderr",
     "output_type": "stream",
     "text": [
      "\r\n",
      "Training with LBFGS:  25%|██▌       | 251/1000 [2:45:50<7:49:11, 37.59s/it]"
     ]
    },
    {
     "name": "stderr",
     "output_type": "stream",
     "text": [
      "\r\n",
      "Training with LBFGS:  25%|██▌       | 252/1000 [2:46:27<7:46:10, 37.39s/it]"
     ]
    },
    {
     "name": "stderr",
     "output_type": "stream",
     "text": [
      "\r\n",
      "Training with LBFGS:  25%|██▌       | 253/1000 [2:47:04<7:44:19, 37.29s/it]"
     ]
    },
    {
     "name": "stderr",
     "output_type": "stream",
     "text": [
      "\r\n",
      "Training with LBFGS:  25%|██▌       | 254/1000 [2:47:41<7:41:54, 37.15s/it]"
     ]
    },
    {
     "name": "stderr",
     "output_type": "stream",
     "text": [
      "\r\n",
      "Training with LBFGS:  26%|██▌       | 255/1000 [2:48:18<7:40:49, 37.11s/it]"
     ]
    },
    {
     "name": "stderr",
     "output_type": "stream",
     "text": [
      "\r\n",
      "Training with LBFGS:  26%|██▌       | 256/1000 [2:48:55<7:40:32, 37.14s/it]"
     ]
    },
    {
     "name": "stderr",
     "output_type": "stream",
     "text": [
      "\r\n",
      "Training with LBFGS:  26%|██▌       | 257/1000 [2:49:33<7:39:44, 37.13s/it]"
     ]
    },
    {
     "name": "stderr",
     "output_type": "stream",
     "text": [
      "\r\n",
      "Training with LBFGS:  26%|██▌       | 258/1000 [2:50:10<7:39:32, 37.16s/it]"
     ]
    },
    {
     "name": "stderr",
     "output_type": "stream",
     "text": [
      "\r\n",
      "Training with LBFGS:  26%|██▌       | 259/1000 [2:50:47<7:37:55, 37.08s/it]"
     ]
    },
    {
     "name": "stderr",
     "output_type": "stream",
     "text": [
      "\r\n",
      "Training with LBFGS:  26%|██▌       | 260/1000 [2:51:24<7:37:57, 37.13s/it]"
     ]
    },
    {
     "name": "stderr",
     "output_type": "stream",
     "text": [
      "\r\n",
      "Training with LBFGS:  26%|██▌       | 261/1000 [2:52:01<7:37:21, 37.13s/it]"
     ]
    },
    {
     "name": "stderr",
     "output_type": "stream",
     "text": [
      "\r\n",
      "Training with LBFGS:  26%|██▌       | 262/1000 [2:52:38<7:36:21, 37.10s/it]"
     ]
    },
    {
     "name": "stderr",
     "output_type": "stream",
     "text": [
      "\r\n",
      "Training with LBFGS:  26%|██▋       | 263/1000 [2:53:15<7:35:02, 37.04s/it]"
     ]
    },
    {
     "name": "stderr",
     "output_type": "stream",
     "text": [
      "\r\n",
      "Training with LBFGS:  26%|██▋       | 264/1000 [2:53:52<7:34:38, 37.06s/it]"
     ]
    },
    {
     "name": "stderr",
     "output_type": "stream",
     "text": [
      "\r\n",
      "Training with LBFGS:  26%|██▋       | 265/1000 [2:54:29<7:33:44, 37.04s/it]"
     ]
    },
    {
     "name": "stderr",
     "output_type": "stream",
     "text": [
      "\r\n",
      "Training with LBFGS:  27%|██▋       | 266/1000 [2:55:06<7:32:37, 37.00s/it]"
     ]
    },
    {
     "name": "stderr",
     "output_type": "stream",
     "text": [
      "\r\n",
      "Training with LBFGS:  27%|██▋       | 267/1000 [2:55:43<7:31:20, 36.94s/it]"
     ]
    },
    {
     "name": "stderr",
     "output_type": "stream",
     "text": [
      "\r\n",
      "Training with LBFGS:  27%|██▋       | 268/1000 [2:56:20<7:31:22, 37.00s/it]"
     ]
    },
    {
     "name": "stderr",
     "output_type": "stream",
     "text": [
      "\r\n",
      "Training with LBFGS:  27%|██▋       | 269/1000 [2:56:57<7:31:39, 37.07s/it]"
     ]
    },
    {
     "name": "stderr",
     "output_type": "stream",
     "text": [
      "\r\n",
      "Training with LBFGS:  27%|██▋       | 270/1000 [2:57:34<7:29:26, 36.94s/it]"
     ]
    },
    {
     "name": "stderr",
     "output_type": "stream",
     "text": [
      "\r\n",
      "Training with LBFGS:  27%|██▋       | 271/1000 [2:58:11<7:30:22, 37.07s/it]"
     ]
    },
    {
     "name": "stderr",
     "output_type": "stream",
     "text": [
      "\r\n",
      "Training with LBFGS:  27%|██▋       | 272/1000 [2:58:48<7:29:34, 37.05s/it]"
     ]
    },
    {
     "name": "stderr",
     "output_type": "stream",
     "text": [
      "\r\n",
      "Training with LBFGS:  27%|██▋       | 273/1000 [2:59:25<7:28:57, 37.05s/it]"
     ]
    },
    {
     "name": "stderr",
     "output_type": "stream",
     "text": [
      "\r\n",
      "Training with LBFGS:  27%|██▋       | 274/1000 [3:00:02<7:28:18, 37.05s/it]"
     ]
    },
    {
     "name": "stderr",
     "output_type": "stream",
     "text": [
      "\r\n",
      "Training with LBFGS:  28%|██▊       | 275/1000 [3:00:39<7:27:42, 37.05s/it]"
     ]
    },
    {
     "name": "stderr",
     "output_type": "stream",
     "text": [
      "\r\n",
      "Training with LBFGS:  28%|██▊       | 276/1000 [3:01:17<7:27:45, 37.11s/it]"
     ]
    },
    {
     "name": "stderr",
     "output_type": "stream",
     "text": [
      "\r\n",
      "Training with LBFGS:  28%|██▊       | 277/1000 [3:01:54<7:26:45, 37.08s/it]"
     ]
    },
    {
     "name": "stderr",
     "output_type": "stream",
     "text": [
      "\r\n",
      "Training with LBFGS:  28%|██▊       | 278/1000 [3:02:30<7:25:02, 36.98s/it]"
     ]
    },
    {
     "name": "stderr",
     "output_type": "stream",
     "text": [
      "\r\n",
      "Training with LBFGS:  28%|██▊       | 279/1000 [3:03:07<7:24:44, 37.01s/it]"
     ]
    },
    {
     "name": "stderr",
     "output_type": "stream",
     "text": [
      "\r\n",
      "Training with LBFGS:  28%|██▊       | 280/1000 [3:03:44<7:23:30, 36.96s/it]"
     ]
    },
    {
     "name": "stderr",
     "output_type": "stream",
     "text": [
      "\r\n",
      "Training with LBFGS:  28%|██▊       | 281/1000 [3:04:21<7:22:45, 36.95s/it]"
     ]
    },
    {
     "name": "stderr",
     "output_type": "stream",
     "text": [
      "\r\n",
      "Training with LBFGS:  28%|██▊       | 282/1000 [3:04:58<7:22:54, 37.01s/it]"
     ]
    },
    {
     "name": "stderr",
     "output_type": "stream",
     "text": [
      "\r\n",
      "Training with LBFGS:  28%|██▊       | 283/1000 [3:05:36<7:22:57, 37.07s/it]"
     ]
    },
    {
     "name": "stderr",
     "output_type": "stream",
     "text": [
      "\r\n",
      "Training with LBFGS:  28%|██▊       | 284/1000 [3:06:14<7:25:35, 37.34s/it]"
     ]
    },
    {
     "name": "stderr",
     "output_type": "stream",
     "text": [
      "\r\n",
      "Training with LBFGS:  28%|██▊       | 285/1000 [3:06:54<7:36:00, 38.27s/it]"
     ]
    },
    {
     "name": "stderr",
     "output_type": "stream",
     "text": [
      "\r\n",
      "Training with LBFGS:  29%|██▊       | 286/1000 [3:07:33<7:39:13, 38.59s/it]"
     ]
    },
    {
     "name": "stderr",
     "output_type": "stream",
     "text": [
      "\r\n",
      "Training with LBFGS:  29%|██▊       | 287/1000 [3:08:13<7:44:04, 39.05s/it]"
     ]
    },
    {
     "name": "stderr",
     "output_type": "stream",
     "text": [
      "\r\n",
      "Training with LBFGS:  29%|██▉       | 288/1000 [3:08:52<7:39:49, 38.75s/it]"
     ]
    },
    {
     "name": "stderr",
     "output_type": "stream",
     "text": [
      "\r\n",
      "Training with LBFGS:  29%|██▉       | 289/1000 [3:09:30<7:39:56, 38.81s/it]"
     ]
    },
    {
     "name": "stderr",
     "output_type": "stream",
     "text": [
      "\r\n",
      "Training with LBFGS:  29%|██▉       | 290/1000 [3:10:08<7:35:55, 38.53s/it]"
     ]
    },
    {
     "name": "stderr",
     "output_type": "stream",
     "text": [
      "\r\n",
      "Training with LBFGS:  29%|██▉       | 291/1000 [3:10:46<7:33:29, 38.38s/it]"
     ]
    },
    {
     "name": "stderr",
     "output_type": "stream",
     "text": [
      "\r\n",
      "Training with LBFGS:  29%|██▉       | 292/1000 [3:11:26<7:36:37, 38.70s/it]"
     ]
    },
    {
     "name": "stderr",
     "output_type": "stream",
     "text": [
      "\r\n",
      "Training with LBFGS:  29%|██▉       | 293/1000 [3:12:04<7:34:28, 38.57s/it]"
     ]
    },
    {
     "name": "stderr",
     "output_type": "stream",
     "text": [
      "\r\n",
      "Training with LBFGS:  29%|██▉       | 294/1000 [3:12:43<7:34:04, 38.59s/it]"
     ]
    },
    {
     "name": "stderr",
     "output_type": "stream",
     "text": [
      "\r\n",
      "Training with LBFGS:  30%|██▉       | 295/1000 [3:13:21<7:33:55, 38.63s/it]"
     ]
    },
    {
     "name": "stderr",
     "output_type": "stream",
     "text": [
      "\r\n",
      "Training with LBFGS:  30%|██▉       | 296/1000 [3:14:00<7:32:42, 38.58s/it]"
     ]
    },
    {
     "name": "stderr",
     "output_type": "stream",
     "text": [
      "\r\n",
      "Training with LBFGS:  30%|██▉       | 297/1000 [3:14:40<7:35:36, 38.88s/it]"
     ]
    },
    {
     "name": "stderr",
     "output_type": "stream",
     "text": [
      "\r\n",
      "Training with LBFGS:  30%|██▉       | 298/1000 [3:15:18<7:32:44, 38.70s/it]"
     ]
    },
    {
     "name": "stderr",
     "output_type": "stream",
     "text": [
      "\r\n",
      "Training with LBFGS:  30%|██▉       | 299/1000 [3:15:56<7:30:15, 38.54s/it]"
     ]
    },
    {
     "name": "stderr",
     "output_type": "stream",
     "text": [
      "\r\n",
      "Training with LBFGS:  30%|███       | 300/1000 [3:16:36<7:34:29, 38.96s/it]"
     ]
    },
    {
     "name": "stderr",
     "output_type": "stream",
     "text": [
      "\r\n",
      "Training with LBFGS:  30%|███       | 301/1000 [3:17:14<7:29:41, 38.60s/it]"
     ]
    },
    {
     "name": "stderr",
     "output_type": "stream",
     "text": [
      "\r\n",
      "Training with LBFGS:  30%|███       | 302/1000 [3:17:53<7:30:30, 38.73s/it]"
     ]
    },
    {
     "name": "stderr",
     "output_type": "stream",
     "text": [
      "\r\n",
      "Training with LBFGS:  30%|███       | 303/1000 [3:18:32<7:30:44, 38.80s/it]"
     ]
    },
    {
     "name": "stderr",
     "output_type": "stream",
     "text": [
      "\r\n",
      "Training with LBFGS:  30%|███       | 304/1000 [3:19:09<7:25:05, 38.37s/it]"
     ]
    },
    {
     "name": "stderr",
     "output_type": "stream",
     "text": [
      "\r\n",
      "Training with LBFGS:  30%|███       | 305/1000 [3:19:45<7:17:47, 37.80s/it]"
     ]
    },
    {
     "name": "stderr",
     "output_type": "stream",
     "text": [
      "\r\n",
      "Training with LBFGS:  31%|███       | 306/1000 [3:20:22<7:13:13, 37.45s/it]"
     ]
    },
    {
     "name": "stderr",
     "output_type": "stream",
     "text": [
      "\r\n",
      "Training with LBFGS:  31%|███       | 307/1000 [3:20:59<7:10:14, 37.25s/it]"
     ]
    },
    {
     "name": "stderr",
     "output_type": "stream",
     "text": [
      "\r\n",
      "Training with LBFGS:  31%|███       | 308/1000 [3:21:35<7:06:15, 36.96s/it]"
     ]
    },
    {
     "name": "stderr",
     "output_type": "stream",
     "text": [
      "\r\n",
      "Training with LBFGS:  31%|███       | 309/1000 [3:22:12<7:03:39, 36.79s/it]"
     ]
    },
    {
     "name": "stderr",
     "output_type": "stream",
     "text": [
      "\r\n",
      "Training with LBFGS:  31%|███       | 310/1000 [3:22:48<7:00:37, 36.58s/it]"
     ]
    },
    {
     "name": "stderr",
     "output_type": "stream",
     "text": [
      "\r\n",
      "Training with LBFGS:  31%|███       | 311/1000 [3:23:24<6:58:31, 36.45s/it]"
     ]
    },
    {
     "name": "stderr",
     "output_type": "stream",
     "text": [
      "\r\n",
      "Training with LBFGS:  31%|███       | 312/1000 [3:24:00<6:56:31, 36.32s/it]"
     ]
    },
    {
     "name": "stderr",
     "output_type": "stream",
     "text": [
      "\r\n",
      "Training with LBFGS:  31%|███▏      | 313/1000 [3:24:36<6:54:27, 36.20s/it]"
     ]
    },
    {
     "name": "stderr",
     "output_type": "stream",
     "text": [
      "\r\n",
      "Training with LBFGS:  31%|███▏      | 314/1000 [3:25:12<6:53:24, 36.16s/it]"
     ]
    },
    {
     "name": "stderr",
     "output_type": "stream",
     "text": [
      "\r\n",
      "Training with LBFGS:  32%|███▏      | 315/1000 [3:25:48<6:52:49, 36.16s/it]"
     ]
    },
    {
     "name": "stderr",
     "output_type": "stream",
     "text": [
      "\r\n",
      "Training with LBFGS:  32%|███▏      | 316/1000 [3:26:24<6:51:07, 36.06s/it]"
     ]
    },
    {
     "name": "stderr",
     "output_type": "stream",
     "text": [
      "\r\n",
      "Training with LBFGS:  32%|███▏      | 317/1000 [3:27:00<6:50:28, 36.06s/it]"
     ]
    },
    {
     "name": "stderr",
     "output_type": "stream",
     "text": [
      "\r\n",
      "Training with LBFGS:  32%|███▏      | 318/1000 [3:27:36<6:50:37, 36.13s/it]"
     ]
    },
    {
     "name": "stderr",
     "output_type": "stream",
     "text": [
      "\r\n",
      "Training with LBFGS:  32%|███▏      | 319/1000 [3:28:12<6:49:44, 36.10s/it]"
     ]
    },
    {
     "name": "stderr",
     "output_type": "stream",
     "text": [
      "\r\n",
      "Training with LBFGS:  32%|███▏      | 320/1000 [3:28:48<6:48:12, 36.02s/it]"
     ]
    },
    {
     "name": "stderr",
     "output_type": "stream",
     "text": [
      "\r\n",
      "Training with LBFGS:  32%|███▏      | 321/1000 [3:29:24<6:48:06, 36.06s/it]"
     ]
    },
    {
     "name": "stderr",
     "output_type": "stream",
     "text": [
      "\r\n",
      "Training with LBFGS:  32%|███▏      | 322/1000 [3:30:00<6:46:59, 36.02s/it]"
     ]
    },
    {
     "name": "stderr",
     "output_type": "stream",
     "text": [
      "\r\n",
      "Training with LBFGS:  32%|███▏      | 323/1000 [3:30:36<6:46:33, 36.03s/it]"
     ]
    },
    {
     "name": "stderr",
     "output_type": "stream",
     "text": [
      "\r\n",
      "Training with LBFGS:  32%|███▏      | 324/1000 [3:31:12<6:45:34, 36.00s/it]"
     ]
    },
    {
     "name": "stderr",
     "output_type": "stream",
     "text": [
      "\r\n",
      "Training with LBFGS:  32%|███▎      | 325/1000 [3:31:48<6:45:04, 36.01s/it]"
     ]
    },
    {
     "name": "stderr",
     "output_type": "stream",
     "text": [
      "\r\n",
      "Training with LBFGS:  33%|███▎      | 326/1000 [3:32:24<6:44:50, 36.04s/it]"
     ]
    },
    {
     "name": "stderr",
     "output_type": "stream",
     "text": [
      "\r\n",
      "Training with LBFGS:  33%|███▎      | 327/1000 [3:33:00<6:44:56, 36.10s/it]"
     ]
    },
    {
     "name": "stderr",
     "output_type": "stream",
     "text": [
      "\r\n",
      "Training with LBFGS:  33%|███▎      | 328/1000 [3:33:36<6:44:06, 36.08s/it]"
     ]
    },
    {
     "name": "stderr",
     "output_type": "stream",
     "text": [
      "\r\n",
      "Training with LBFGS:  33%|███▎      | 329/1000 [3:34:13<6:44:10, 36.14s/it]"
     ]
    },
    {
     "name": "stderr",
     "output_type": "stream",
     "text": [
      "\r\n",
      "Training with LBFGS:  33%|███▎      | 330/1000 [3:34:49<6:43:28, 36.13s/it]"
     ]
    },
    {
     "name": "stderr",
     "output_type": "stream",
     "text": [
      "\r\n",
      "Training with LBFGS:  33%|███▎      | 331/1000 [3:35:25<6:41:29, 36.01s/it]"
     ]
    },
    {
     "name": "stderr",
     "output_type": "stream",
     "text": [
      "\r\n",
      "Training with LBFGS:  33%|███▎      | 332/1000 [3:36:01<6:40:42, 35.99s/it]"
     ]
    },
    {
     "name": "stderr",
     "output_type": "stream",
     "text": [
      "\r\n",
      "Training with LBFGS:  33%|███▎      | 333/1000 [3:36:37<6:40:19, 36.01s/it]"
     ]
    },
    {
     "name": "stderr",
     "output_type": "stream",
     "text": [
      "\r\n",
      "Training with LBFGS:  33%|███▎      | 334/1000 [3:37:13<6:40:12, 36.06s/it]"
     ]
    },
    {
     "name": "stderr",
     "output_type": "stream",
     "text": [
      "\r\n",
      "Training with LBFGS:  34%|███▎      | 335/1000 [3:37:49<6:39:57, 36.09s/it]"
     ]
    },
    {
     "name": "stderr",
     "output_type": "stream",
     "text": [
      "\r\n",
      "Training with LBFGS:  34%|███▎      | 336/1000 [3:38:25<6:39:55, 36.14s/it]"
     ]
    },
    {
     "name": "stderr",
     "output_type": "stream",
     "text": [
      "\r\n",
      "Training with LBFGS:  34%|███▎      | 337/1000 [3:39:01<6:38:32, 36.07s/it]"
     ]
    },
    {
     "name": "stderr",
     "output_type": "stream",
     "text": [
      "\r\n",
      "Training with LBFGS:  34%|███▍      | 338/1000 [3:39:37<6:38:16, 36.10s/it]"
     ]
    },
    {
     "name": "stderr",
     "output_type": "stream",
     "text": [
      "\r\n",
      "Training with LBFGS:  34%|███▍      | 339/1000 [3:40:13<6:37:44, 36.10s/it]"
     ]
    },
    {
     "name": "stderr",
     "output_type": "stream",
     "text": [
      "\r\n",
      "Training with LBFGS:  34%|███▍      | 340/1000 [3:40:49<6:36:55, 36.08s/it]"
     ]
    },
    {
     "name": "stderr",
     "output_type": "stream",
     "text": [
      "\r\n",
      "Training with LBFGS:  34%|███▍      | 341/1000 [3:41:26<6:37:43, 36.21s/it]"
     ]
    },
    {
     "name": "stderr",
     "output_type": "stream",
     "text": [
      "\r\n",
      "Training with LBFGS:  34%|███▍      | 342/1000 [3:42:02<6:36:59, 36.20s/it]"
     ]
    },
    {
     "name": "stderr",
     "output_type": "stream",
     "text": [
      "\r\n",
      "Training with LBFGS:  34%|███▍      | 343/1000 [3:42:38<6:35:50, 36.15s/it]"
     ]
    },
    {
     "name": "stderr",
     "output_type": "stream",
     "text": [
      "\r\n",
      "Training with LBFGS:  34%|███▍      | 344/1000 [3:43:14<6:35:09, 36.14s/it]"
     ]
    },
    {
     "name": "stderr",
     "output_type": "stream",
     "text": [
      "\r\n",
      "Training with LBFGS:  34%|███▍      | 345/1000 [3:43:50<6:34:29, 36.14s/it]"
     ]
    },
    {
     "name": "stderr",
     "output_type": "stream",
     "text": [
      "\r\n",
      "Training with LBFGS:  35%|███▍      | 346/1000 [3:44:26<6:33:25, 36.09s/it]"
     ]
    },
    {
     "name": "stderr",
     "output_type": "stream",
     "text": [
      "\r\n",
      "Training with LBFGS:  35%|███▍      | 347/1000 [3:45:02<6:33:01, 36.11s/it]"
     ]
    },
    {
     "name": "stderr",
     "output_type": "stream",
     "text": [
      "\r\n",
      "Training with LBFGS:  35%|███▍      | 348/1000 [3:45:38<6:32:02, 36.08s/it]"
     ]
    },
    {
     "name": "stderr",
     "output_type": "stream",
     "text": [
      "\r\n",
      "Training with LBFGS:  35%|███▍      | 349/1000 [3:46:15<6:32:25, 36.17s/it]"
     ]
    },
    {
     "name": "stderr",
     "output_type": "stream",
     "text": [
      "\r\n",
      "Training with LBFGS:  35%|███▌      | 350/1000 [3:46:51<6:31:04, 36.10s/it]"
     ]
    },
    {
     "name": "stderr",
     "output_type": "stream",
     "text": [
      "\r\n",
      "Training with LBFGS:  35%|███▌      | 351/1000 [3:47:27<6:29:38, 36.02s/it]"
     ]
    },
    {
     "name": "stderr",
     "output_type": "stream",
     "text": [
      "\r\n",
      "Training with LBFGS:  35%|███▌      | 352/1000 [3:48:03<6:29:12, 36.04s/it]"
     ]
    },
    {
     "name": "stderr",
     "output_type": "stream",
     "text": [
      "\r\n",
      "Training with LBFGS:  35%|███▌      | 353/1000 [3:48:39<6:28:33, 36.03s/it]"
     ]
    },
    {
     "name": "stderr",
     "output_type": "stream",
     "text": [
      "\r\n",
      "Training with LBFGS:  35%|███▌      | 354/1000 [3:49:14<6:26:54, 35.94s/it]"
     ]
    },
    {
     "name": "stderr",
     "output_type": "stream",
     "text": [
      "\r\n",
      "Training with LBFGS:  36%|███▌      | 355/1000 [3:49:50<6:26:33, 35.96s/it]"
     ]
    },
    {
     "name": "stderr",
     "output_type": "stream",
     "text": [
      "\r\n",
      "Training with LBFGS:  36%|███▌      | 356/1000 [3:50:27<6:26:51, 36.04s/it]"
     ]
    },
    {
     "name": "stderr",
     "output_type": "stream",
     "text": [
      "\r\n",
      "Training with LBFGS:  36%|███▌      | 357/1000 [3:51:03<6:26:13, 36.04s/it]"
     ]
    },
    {
     "name": "stderr",
     "output_type": "stream",
     "text": [
      "\r\n",
      "Training with LBFGS:  36%|███▌      | 358/1000 [3:51:39<6:25:16, 36.01s/it]"
     ]
    },
    {
     "name": "stderr",
     "output_type": "stream",
     "text": [
      "\r\n",
      "Training with LBFGS:  36%|███▌      | 359/1000 [3:52:15<6:24:57, 36.03s/it]"
     ]
    },
    {
     "name": "stderr",
     "output_type": "stream",
     "text": [
      "\r\n",
      "Training with LBFGS:  36%|███▌      | 360/1000 [3:52:51<6:24:41, 36.06s/it]"
     ]
    },
    {
     "name": "stderr",
     "output_type": "stream",
     "text": [
      "\r\n",
      "Training with LBFGS:  36%|███▌      | 361/1000 [3:53:27<6:23:15, 35.99s/it]"
     ]
    },
    {
     "name": "stderr",
     "output_type": "stream",
     "text": [
      "\r\n",
      "Training with LBFGS:  36%|███▌      | 362/1000 [3:54:03<6:22:30, 35.97s/it]"
     ]
    },
    {
     "name": "stderr",
     "output_type": "stream",
     "text": [
      "\r\n",
      "Training with LBFGS:  36%|███▋      | 363/1000 [3:54:39<6:22:04, 35.99s/it]"
     ]
    },
    {
     "name": "stderr",
     "output_type": "stream",
     "text": [
      "\r\n",
      "Training with LBFGS:  36%|███▋      | 364/1000 [3:55:15<6:21:12, 35.96s/it]"
     ]
    },
    {
     "name": "stderr",
     "output_type": "stream",
     "text": [
      "\r\n",
      "Training with LBFGS:  36%|███▋      | 365/1000 [3:55:51<6:20:29, 35.95s/it]"
     ]
    },
    {
     "name": "stderr",
     "output_type": "stream",
     "text": [
      "\r\n",
      "Training with LBFGS:  37%|███▋      | 366/1000 [3:56:27<6:20:25, 36.00s/it]"
     ]
    },
    {
     "name": "stderr",
     "output_type": "stream",
     "text": [
      "\r\n",
      "Training with LBFGS:  37%|███▋      | 367/1000 [3:57:03<6:19:37, 35.98s/it]"
     ]
    },
    {
     "name": "stderr",
     "output_type": "stream",
     "text": [
      "\r\n",
      "Training with LBFGS:  37%|███▋      | 368/1000 [3:57:39<6:19:32, 36.03s/it]"
     ]
    },
    {
     "name": "stderr",
     "output_type": "stream",
     "text": [
      "\r\n",
      "Training with LBFGS:  37%|███▋      | 369/1000 [3:58:15<6:20:02, 36.14s/it]"
     ]
    },
    {
     "name": "stderr",
     "output_type": "stream",
     "text": [
      "\r\n",
      "Training with LBFGS:  37%|███▋      | 370/1000 [3:58:51<6:19:30, 36.14s/it]"
     ]
    },
    {
     "name": "stderr",
     "output_type": "stream",
     "text": [
      "\r\n",
      "Training with LBFGS:  37%|███▋      | 371/1000 [3:59:27<6:18:36, 36.11s/it]"
     ]
    },
    {
     "name": "stderr",
     "output_type": "stream",
     "text": [
      "\r\n",
      "Training with LBFGS:  37%|███▋      | 372/1000 [4:00:03<6:18:07, 36.13s/it]"
     ]
    },
    {
     "name": "stderr",
     "output_type": "stream",
     "text": [
      "\r\n",
      "Training with LBFGS:  37%|███▋      | 373/1000 [4:00:40<6:18:00, 36.17s/it]"
     ]
    },
    {
     "name": "stderr",
     "output_type": "stream",
     "text": [
      "\r\n",
      "Training with LBFGS:  37%|███▋      | 374/1000 [4:01:16<6:17:38, 36.20s/it]"
     ]
    },
    {
     "name": "stderr",
     "output_type": "stream",
     "text": [
      "\r\n",
      "Training with LBFGS:  38%|███▊      | 375/1000 [4:01:52<6:16:05, 36.10s/it]"
     ]
    },
    {
     "name": "stderr",
     "output_type": "stream",
     "text": [
      "\r\n",
      "Training with LBFGS:  38%|███▊      | 376/1000 [4:02:28<6:14:35, 36.02s/it]"
     ]
    },
    {
     "name": "stderr",
     "output_type": "stream",
     "text": [
      "\r\n",
      "Training with LBFGS:  38%|███▊      | 377/1000 [4:03:04<6:13:34, 35.98s/it]"
     ]
    },
    {
     "name": "stderr",
     "output_type": "stream",
     "text": [
      "\r\n",
      "Training with LBFGS:  38%|███▊      | 378/1000 [4:03:40<6:13:02, 35.98s/it]"
     ]
    },
    {
     "name": "stderr",
     "output_type": "stream",
     "text": [
      "\r\n",
      "Training with LBFGS:  38%|███▊      | 379/1000 [4:04:16<6:12:34, 36.00s/it]"
     ]
    },
    {
     "name": "stderr",
     "output_type": "stream",
     "text": [
      "\r\n",
      "Training with LBFGS:  38%|███▊      | 380/1000 [4:04:53<6:15:26, 36.33s/it]"
     ]
    },
    {
     "name": "stderr",
     "output_type": "stream",
     "text": [
      "\r\n",
      "Training with LBFGS:  38%|███▊      | 381/1000 [4:05:29<6:15:31, 36.40s/it]"
     ]
    },
    {
     "name": "stderr",
     "output_type": "stream",
     "text": [
      "\r\n",
      "Training with LBFGS:  38%|███▊      | 382/1000 [4:06:06<6:17:05, 36.61s/it]"
     ]
    },
    {
     "name": "stderr",
     "output_type": "stream",
     "text": [
      "\r\n",
      "Training with LBFGS:  38%|███▊      | 383/1000 [4:06:43<6:17:34, 36.72s/it]"
     ]
    },
    {
     "name": "stderr",
     "output_type": "stream",
     "text": [
      "\r\n",
      "Training with LBFGS:  38%|███▊      | 384/1000 [4:07:20<6:17:42, 36.79s/it]"
     ]
    },
    {
     "name": "stderr",
     "output_type": "stream",
     "text": [
      "\r\n",
      "Training with LBFGS:  38%|███▊      | 385/1000 [4:07:57<6:17:50, 36.86s/it]"
     ]
    },
    {
     "name": "stderr",
     "output_type": "stream",
     "text": [
      "\r\n",
      "Training with LBFGS:  39%|███▊      | 386/1000 [4:08:34<6:17:44, 36.91s/it]"
     ]
    },
    {
     "name": "stderr",
     "output_type": "stream",
     "text": [
      "\r\n",
      "Training with LBFGS:  39%|███▊      | 387/1000 [4:09:11<6:16:30, 36.85s/it]"
     ]
    },
    {
     "name": "stderr",
     "output_type": "stream",
     "text": [
      "\r\n",
      "Training with LBFGS:  39%|███▉      | 388/1000 [4:09:48<6:15:52, 36.85s/it]"
     ]
    },
    {
     "name": "stderr",
     "output_type": "stream",
     "text": [
      "\r\n",
      "Training with LBFGS:  39%|███▉      | 389/1000 [4:10:25<6:15:00, 36.83s/it]"
     ]
    },
    {
     "name": "stderr",
     "output_type": "stream",
     "text": [
      "\r\n",
      "Training with LBFGS:  39%|███▉      | 390/1000 [4:11:02<6:14:59, 36.88s/it]"
     ]
    },
    {
     "name": "stderr",
     "output_type": "stream",
     "text": [
      "\r\n",
      "Training with LBFGS:  39%|███▉      | 391/1000 [4:11:39<6:15:11, 36.96s/it]"
     ]
    },
    {
     "name": "stderr",
     "output_type": "stream",
     "text": [
      "\r\n",
      "Training with LBFGS:  39%|███▉      | 392/1000 [4:12:16<6:13:50, 36.89s/it]"
     ]
    },
    {
     "name": "stderr",
     "output_type": "stream",
     "text": [
      "\r\n",
      "Training with LBFGS:  39%|███▉      | 393/1000 [4:12:53<6:13:58, 36.97s/it]"
     ]
    },
    {
     "name": "stderr",
     "output_type": "stream",
     "text": [
      "\r\n",
      "Training with LBFGS:  39%|███▉      | 394/1000 [4:13:30<6:13:00, 36.93s/it]"
     ]
    },
    {
     "name": "stderr",
     "output_type": "stream",
     "text": [
      "\r\n",
      "Training with LBFGS:  40%|███▉      | 395/1000 [4:14:07<6:12:23, 36.93s/it]"
     ]
    },
    {
     "name": "stderr",
     "output_type": "stream",
     "text": [
      "\r\n",
      "Training with LBFGS:  40%|███▉      | 396/1000 [4:14:43<6:11:43, 36.93s/it]"
     ]
    },
    {
     "name": "stderr",
     "output_type": "stream",
     "text": [
      "\r\n",
      "Training with LBFGS:  40%|███▉      | 397/1000 [4:15:20<6:11:02, 36.92s/it]"
     ]
    },
    {
     "name": "stderr",
     "output_type": "stream",
     "text": [
      "\r\n",
      "Training with LBFGS:  40%|███▉      | 398/1000 [4:15:57<6:09:12, 36.80s/it]"
     ]
    },
    {
     "name": "stderr",
     "output_type": "stream",
     "text": [
      "\r\n",
      "Training with LBFGS:  40%|███▉      | 399/1000 [4:16:34<6:09:28, 36.89s/it]"
     ]
    },
    {
     "name": "stderr",
     "output_type": "stream",
     "text": [
      "\r\n",
      "Training with LBFGS:  40%|████      | 400/1000 [4:17:11<6:08:42, 36.87s/it]"
     ]
    },
    {
     "name": "stderr",
     "output_type": "stream",
     "text": [
      "\r\n",
      "Training with LBFGS:  40%|████      | 401/1000 [4:17:47<6:07:34, 36.82s/it]"
     ]
    },
    {
     "name": "stderr",
     "output_type": "stream",
     "text": [
      "\r\n",
      "Training with LBFGS:  40%|████      | 402/1000 [4:18:25<6:07:56, 36.92s/it]"
     ]
    },
    {
     "name": "stderr",
     "output_type": "stream",
     "text": [
      "\r\n",
      "Training with LBFGS:  40%|████      | 403/1000 [4:19:01<6:06:55, 36.88s/it]"
     ]
    },
    {
     "name": "stderr",
     "output_type": "stream",
     "text": [
      "\r\n",
      "Training with LBFGS:  40%|████      | 404/1000 [4:19:38<6:06:05, 36.86s/it]"
     ]
    },
    {
     "name": "stderr",
     "output_type": "stream",
     "text": [
      "\r\n",
      "Training with LBFGS:  40%|████      | 405/1000 [4:20:15<6:06:14, 36.93s/it]"
     ]
    },
    {
     "name": "stderr",
     "output_type": "stream",
     "text": [
      "\r\n",
      "Training with LBFGS:  41%|████      | 406/1000 [4:20:52<6:05:52, 36.96s/it]"
     ]
    },
    {
     "name": "stderr",
     "output_type": "stream",
     "text": [
      "\r\n",
      "Training with LBFGS:  41%|████      | 407/1000 [4:21:30<6:05:57, 37.03s/it]"
     ]
    },
    {
     "name": "stderr",
     "output_type": "stream",
     "text": [
      "\r\n",
      "Training with LBFGS:  41%|████      | 408/1000 [4:22:05<6:01:08, 36.60s/it]"
     ]
    },
    {
     "name": "stderr",
     "output_type": "stream",
     "text": [
      "\r\n",
      "Training with LBFGS:  41%|████      | 409/1000 [4:22:42<6:01:57, 36.75s/it]"
     ]
    },
    {
     "name": "stderr",
     "output_type": "stream",
     "text": [
      "\r\n",
      "Training with LBFGS:  41%|████      | 410/1000 [4:23:19<6:01:17, 36.74s/it]"
     ]
    },
    {
     "name": "stderr",
     "output_type": "stream",
     "text": [
      "\r\n",
      "Training with LBFGS:  41%|████      | 411/1000 [4:23:56<6:00:28, 36.72s/it]"
     ]
    },
    {
     "name": "stderr",
     "output_type": "stream",
     "text": [
      "\r\n",
      "Training with LBFGS:  41%|████      | 412/1000 [4:24:32<6:00:20, 36.77s/it]"
     ]
    },
    {
     "name": "stderr",
     "output_type": "stream",
     "text": [
      "\r\n",
      "Training with LBFGS:  41%|████▏     | 413/1000 [4:25:11<6:03:46, 37.18s/it]"
     ]
    },
    {
     "name": "stderr",
     "output_type": "stream",
     "text": [
      "\r\n",
      "Training with LBFGS:  41%|████▏     | 414/1000 [4:25:50<6:09:44, 37.86s/it]"
     ]
    },
    {
     "name": "stderr",
     "output_type": "stream",
     "text": [
      "\r\n",
      "Training with LBFGS:  42%|████▏     | 415/1000 [4:26:30<6:14:22, 38.40s/it]"
     ]
    },
    {
     "name": "stderr",
     "output_type": "stream",
     "text": [
      "\r\n",
      "Training with LBFGS:  42%|████▏     | 416/1000 [4:27:10<6:18:47, 38.92s/it]"
     ]
    },
    {
     "name": "stderr",
     "output_type": "stream",
     "text": [
      "\r\n",
      "Training with LBFGS:  42%|████▏     | 417/1000 [4:27:47<6:13:59, 38.49s/it]"
     ]
    },
    {
     "name": "stderr",
     "output_type": "stream",
     "text": [
      "\r\n",
      "Training with LBFGS:  42%|████▏     | 418/1000 [4:28:25<6:11:40, 38.32s/it]"
     ]
    },
    {
     "name": "stderr",
     "output_type": "stream",
     "text": [
      "\r\n",
      "Training with LBFGS:  42%|████▏     | 419/1000 [4:29:04<6:11:36, 38.38s/it]"
     ]
    },
    {
     "name": "stderr",
     "output_type": "stream",
     "text": [
      "\r\n",
      "Training with LBFGS:  42%|████▏     | 420/1000 [4:29:42<6:09:41, 38.24s/it]"
     ]
    },
    {
     "name": "stderr",
     "output_type": "stream",
     "text": [
      "\r\n",
      "Training with LBFGS:  42%|████▏     | 421/1000 [4:30:19<6:07:15, 38.06s/it]"
     ]
    },
    {
     "name": "stderr",
     "output_type": "stream",
     "text": [
      "\r\n",
      "Training with LBFGS:  42%|████▏     | 422/1000 [4:30:58<6:08:27, 38.25s/it]"
     ]
    },
    {
     "name": "stderr",
     "output_type": "stream",
     "text": [
      "\r\n",
      "Training with LBFGS:  42%|████▏     | 423/1000 [4:31:37<6:09:03, 38.38s/it]"
     ]
    },
    {
     "name": "stderr",
     "output_type": "stream",
     "text": [
      "\r\n",
      "Training with LBFGS:  42%|████▏     | 424/1000 [4:32:15<6:07:54, 38.32s/it]"
     ]
    },
    {
     "name": "stderr",
     "output_type": "stream",
     "text": [
      "\r\n",
      "Training with LBFGS:  42%|████▎     | 425/1000 [4:32:53<6:07:40, 38.37s/it]"
     ]
    },
    {
     "name": "stderr",
     "output_type": "stream",
     "text": [
      "\r\n",
      "Training with LBFGS:  43%|████▎     | 426/1000 [4:33:33<6:09:35, 38.63s/it]"
     ]
    },
    {
     "name": "stderr",
     "output_type": "stream",
     "text": [
      "\r\n",
      "Training with LBFGS:  43%|████▎     | 427/1000 [4:34:11<6:07:59, 38.53s/it]"
     ]
    },
    {
     "name": "stderr",
     "output_type": "stream",
     "text": [
      "\r\n",
      "Training with LBFGS:  43%|████▎     | 428/1000 [4:34:49<6:06:20, 38.43s/it]"
     ]
    },
    {
     "name": "stderr",
     "output_type": "stream",
     "text": [
      "\r\n",
      "Training with LBFGS:  43%|████▎     | 429/1000 [4:35:28<6:07:37, 38.63s/it]"
     ]
    },
    {
     "name": "stderr",
     "output_type": "stream",
     "text": [
      "\r\n",
      "Training with LBFGS:  43%|████▎     | 430/1000 [4:36:06<6:05:48, 38.51s/it]"
     ]
    },
    {
     "name": "stderr",
     "output_type": "stream",
     "text": [
      "\r\n",
      "Training with LBFGS:  43%|████▎     | 431/1000 [4:36:45<6:04:15, 38.41s/it]"
     ]
    },
    {
     "name": "stderr",
     "output_type": "stream",
     "text": [
      "\r\n",
      "Training with LBFGS:  43%|████▎     | 432/1000 [4:37:23<6:02:16, 38.27s/it]"
     ]
    },
    {
     "name": "stderr",
     "output_type": "stream",
     "text": [
      "\r\n",
      "Training with LBFGS:  43%|████▎     | 433/1000 [4:38:02<6:05:01, 38.63s/it]"
     ]
    },
    {
     "name": "stderr",
     "output_type": "stream",
     "text": [
      "\r\n",
      "Training with LBFGS:  43%|████▎     | 434/1000 [4:38:42<6:08:18, 39.04s/it]"
     ]
    },
    {
     "name": "stderr",
     "output_type": "stream",
     "text": [
      "\r\n",
      "Training with LBFGS:  44%|████▎     | 435/1000 [4:39:23<6:12:13, 39.53s/it]"
     ]
    },
    {
     "name": "stderr",
     "output_type": "stream",
     "text": [
      "\r\n",
      "Training with LBFGS:  44%|████▎     | 436/1000 [4:40:00<6:06:38, 39.00s/it]"
     ]
    },
    {
     "name": "stderr",
     "output_type": "stream",
     "text": [
      "\r\n",
      "Training with LBFGS:  44%|████▎     | 437/1000 [4:40:38<6:02:33, 38.64s/it]"
     ]
    },
    {
     "name": "stderr",
     "output_type": "stream",
     "text": [
      "\r\n",
      "Training with LBFGS:  44%|████▍     | 438/1000 [4:41:17<6:02:48, 38.73s/it]"
     ]
    },
    {
     "name": "stderr",
     "output_type": "stream",
     "text": [
      "\r\n",
      "Training with LBFGS:  44%|████▍     | 439/1000 [4:41:55<6:00:40, 38.57s/it]"
     ]
    },
    {
     "name": "stderr",
     "output_type": "stream",
     "text": [
      "\r\n",
      "Training with LBFGS:  44%|████▍     | 440/1000 [4:42:35<6:02:28, 38.84s/it]"
     ]
    },
    {
     "name": "stderr",
     "output_type": "stream",
     "text": [
      "\r\n",
      "Training with LBFGS:  44%|████▍     | 441/1000 [4:43:13<6:00:32, 38.70s/it]"
     ]
    },
    {
     "name": "stderr",
     "output_type": "stream",
     "text": [
      "\r\n",
      "Training with LBFGS:  44%|████▍     | 442/1000 [4:43:51<5:58:33, 38.55s/it]"
     ]
    },
    {
     "name": "stderr",
     "output_type": "stream",
     "text": [
      "\r\n",
      "Training with LBFGS:  44%|████▍     | 443/1000 [4:44:30<5:57:44, 38.54s/it]"
     ]
    },
    {
     "name": "stderr",
     "output_type": "stream",
     "text": [
      "\r\n",
      "Training with LBFGS:  44%|████▍     | 444/1000 [4:45:09<5:57:54, 38.62s/it]"
     ]
    },
    {
     "name": "stderr",
     "output_type": "stream",
     "text": [
      "\r\n",
      "Training with LBFGS:  44%|████▍     | 445/1000 [4:45:48<5:59:36, 38.88s/it]"
     ]
    },
    {
     "name": "stderr",
     "output_type": "stream",
     "text": [
      "\r\n",
      "Training with LBFGS:  45%|████▍     | 446/1000 [4:46:27<5:57:31, 38.72s/it]"
     ]
    },
    {
     "name": "stderr",
     "output_type": "stream",
     "text": [
      "\r\n",
      "Training with LBFGS:  45%|████▍     | 447/1000 [4:47:05<5:55:22, 38.56s/it]"
     ]
    },
    {
     "name": "stderr",
     "output_type": "stream",
     "text": [
      "\r\n",
      "Training with LBFGS:  45%|████▍     | 448/1000 [4:47:44<5:57:12, 38.83s/it]"
     ]
    },
    {
     "name": "stderr",
     "output_type": "stream",
     "text": [
      "\r\n",
      "Training with LBFGS:  45%|████▍     | 449/1000 [4:48:21<5:51:33, 38.28s/it]"
     ]
    },
    {
     "name": "stderr",
     "output_type": "stream",
     "text": [
      "\r\n",
      "Training with LBFGS:  45%|████▌     | 450/1000 [4:48:59<5:50:11, 38.20s/it]"
     ]
    },
    {
     "name": "stderr",
     "output_type": "stream",
     "text": [
      "\r\n",
      "Training with LBFGS:  45%|████▌     | 451/1000 [4:49:38<5:51:44, 38.44s/it]"
     ]
    },
    {
     "name": "stderr",
     "output_type": "stream",
     "text": [
      "\r\n",
      "Training with LBFGS:  45%|████▌     | 452/1000 [4:50:17<5:52:58, 38.65s/it]"
     ]
    },
    {
     "name": "stderr",
     "output_type": "stream",
     "text": [
      "\r\n",
      "Training with LBFGS:  45%|████▌     | 453/1000 [4:50:57<5:55:38, 39.01s/it]"
     ]
    },
    {
     "name": "stderr",
     "output_type": "stream",
     "text": [
      "\r\n",
      "Training with LBFGS:  45%|████▌     | 454/1000 [4:51:36<5:54:26, 38.95s/it]"
     ]
    },
    {
     "name": "stderr",
     "output_type": "stream",
     "text": [
      "\r\n",
      "Training with LBFGS:  46%|████▌     | 455/1000 [4:52:14<5:51:37, 38.71s/it]"
     ]
    },
    {
     "name": "stderr",
     "output_type": "stream",
     "text": [
      "\r\n",
      "Training with LBFGS:  46%|████▌     | 456/1000 [4:52:53<5:50:20, 38.64s/it]"
     ]
    },
    {
     "name": "stderr",
     "output_type": "stream",
     "text": [
      "\r\n",
      "Training with LBFGS:  46%|████▌     | 457/1000 [4:53:32<5:50:11, 38.70s/it]"
     ]
    },
    {
     "name": "stderr",
     "output_type": "stream",
     "text": [
      "\r\n",
      "Training with LBFGS:  46%|████▌     | 458/1000 [4:54:10<5:49:08, 38.65s/it]"
     ]
    },
    {
     "name": "stderr",
     "output_type": "stream",
     "text": [
      "\r\n",
      "Training with LBFGS:  46%|████▌     | 459/1000 [4:54:48<5:46:43, 38.45s/it]"
     ]
    },
    {
     "name": "stderr",
     "output_type": "stream",
     "text": [
      "\r\n",
      "Training with LBFGS:  46%|████▌     | 460/1000 [4:55:25<5:42:07, 38.01s/it]"
     ]
    },
    {
     "name": "stderr",
     "output_type": "stream",
     "text": [
      "\r\n",
      "Training with LBFGS:  46%|████▌     | 461/1000 [4:56:02<5:38:48, 37.72s/it]"
     ]
    },
    {
     "name": "stderr",
     "output_type": "stream",
     "text": [
      "\r\n",
      "Training with LBFGS:  46%|████▌     | 462/1000 [4:56:39<5:34:45, 37.33s/it]"
     ]
    },
    {
     "name": "stderr",
     "output_type": "stream",
     "text": [
      "\r\n",
      "Training with LBFGS:  46%|████▋     | 463/1000 [4:57:13<5:27:05, 36.55s/it]"
     ]
    },
    {
     "name": "stderr",
     "output_type": "stream",
     "text": [
      "\r\n",
      "Training with LBFGS:  46%|████▋     | 464/1000 [4:57:50<5:27:28, 36.66s/it]"
     ]
    },
    {
     "name": "stderr",
     "output_type": "stream",
     "text": [
      "\r\n",
      "Training with LBFGS:  46%|████▋     | 465/1000 [4:58:27<5:27:58, 36.78s/it]"
     ]
    },
    {
     "name": "stderr",
     "output_type": "stream",
     "text": [
      "\r\n",
      "Training with LBFGS:  47%|████▋     | 466/1000 [4:59:04<5:26:04, 36.64s/it]"
     ]
    },
    {
     "name": "stderr",
     "output_type": "stream",
     "text": [
      "\r\n",
      "Training with LBFGS:  47%|████▋     | 467/1000 [4:59:40<5:24:06, 36.49s/it]"
     ]
    },
    {
     "name": "stderr",
     "output_type": "stream",
     "text": [
      "\r\n",
      "Training with LBFGS:  47%|████▋     | 468/1000 [5:00:15<5:21:04, 36.21s/it]"
     ]
    },
    {
     "name": "stderr",
     "output_type": "stream",
     "text": [
      "\r\n",
      "Training with LBFGS:  47%|████▋     | 469/1000 [5:00:51<5:20:36, 36.23s/it]"
     ]
    },
    {
     "name": "stderr",
     "output_type": "stream",
     "text": [
      "\r\n",
      "Training with LBFGS:  47%|████▋     | 470/1000 [5:01:28<5:19:50, 36.21s/it]"
     ]
    },
    {
     "name": "stderr",
     "output_type": "stream",
     "text": [
      "\r\n",
      "Training with LBFGS:  47%|████▋     | 471/1000 [5:02:04<5:19:06, 36.19s/it]"
     ]
    },
    {
     "name": "stderr",
     "output_type": "stream",
     "text": [
      "\r\n",
      "Training with LBFGS:  47%|████▋     | 472/1000 [5:02:39<5:14:43, 35.76s/it]"
     ]
    },
    {
     "name": "stderr",
     "output_type": "stream",
     "text": [
      "\r\n",
      "Training with LBFGS:  47%|████▋     | 473/1000 [5:03:15<5:15:00, 35.86s/it]"
     ]
    },
    {
     "name": "stderr",
     "output_type": "stream",
     "text": [
      "\r\n",
      "Training with LBFGS:  47%|████▋     | 474/1000 [5:03:51<5:15:08, 35.95s/it]"
     ]
    },
    {
     "name": "stderr",
     "output_type": "stream",
     "text": [
      "\r\n",
      "Training with LBFGS:  48%|████▊     | 475/1000 [5:04:26<5:12:21, 35.70s/it]"
     ]
    },
    {
     "name": "stderr",
     "output_type": "stream",
     "text": [
      "\r\n",
      "Training with LBFGS:  48%|████▊     | 476/1000 [5:05:02<5:12:52, 35.83s/it]"
     ]
    },
    {
     "name": "stderr",
     "output_type": "stream",
     "text": [
      "\r\n",
      "Training with LBFGS:  48%|████▊     | 477/1000 [5:05:38<5:12:53, 35.90s/it]"
     ]
    },
    {
     "name": "stderr",
     "output_type": "stream",
     "text": [
      "\r\n",
      "Training with LBFGS:  48%|████▊     | 478/1000 [5:06:14<5:12:42, 35.94s/it]"
     ]
    },
    {
     "name": "stderr",
     "output_type": "stream",
     "text": [
      "\r\n",
      "Training with LBFGS:  48%|████▊     | 479/1000 [5:06:50<5:10:44, 35.79s/it]"
     ]
    },
    {
     "name": "stderr",
     "output_type": "stream",
     "text": [
      "\r\n",
      "Training with LBFGS:  48%|████▊     | 480/1000 [5:07:25<5:08:03, 35.54s/it]"
     ]
    },
    {
     "name": "stderr",
     "output_type": "stream",
     "text": [
      "\r\n",
      "Training with LBFGS:  48%|████▊     | 481/1000 [5:08:00<5:08:26, 35.66s/it]"
     ]
    },
    {
     "name": "stderr",
     "output_type": "stream",
     "text": [
      "\r\n",
      "Training with LBFGS:  48%|████▊     | 482/1000 [5:08:37<5:08:47, 35.77s/it]"
     ]
    },
    {
     "name": "stderr",
     "output_type": "stream",
     "text": [
      "\r\n",
      "Training with LBFGS:  48%|████▊     | 483/1000 [5:09:13<5:08:51, 35.84s/it]"
     ]
    },
    {
     "name": "stderr",
     "output_type": "stream",
     "text": [
      "\r\n",
      "Training with LBFGS:  48%|████▊     | 484/1000 [5:09:49<5:08:37, 35.89s/it]"
     ]
    },
    {
     "name": "stderr",
     "output_type": "stream",
     "text": [
      "\r\n",
      "Training with LBFGS:  48%|████▊     | 485/1000 [5:10:25<5:08:34, 35.95s/it]"
     ]
    },
    {
     "name": "stderr",
     "output_type": "stream",
     "text": [
      "\r\n",
      "Training with LBFGS:  49%|████▊     | 486/1000 [5:11:01<5:08:45, 36.04s/it]"
     ]
    },
    {
     "name": "stderr",
     "output_type": "stream",
     "text": [
      "\r\n",
      "Training with LBFGS:  49%|████▊     | 487/1000 [5:11:37<5:07:26, 35.96s/it]"
     ]
    },
    {
     "name": "stderr",
     "output_type": "stream",
     "text": [
      "\r\n",
      "Training with LBFGS:  49%|████▉     | 488/1000 [5:12:12<5:06:22, 35.90s/it]"
     ]
    },
    {
     "name": "stderr",
     "output_type": "stream",
     "text": [
      "\r\n",
      "Training with LBFGS:  49%|████▉     | 489/1000 [5:12:48<5:06:04, 35.94s/it]"
     ]
    },
    {
     "name": "stderr",
     "output_type": "stream",
     "text": [
      "\r\n",
      "Training with LBFGS:  49%|████▉     | 490/1000 [5:13:25<5:06:54, 36.11s/it]"
     ]
    },
    {
     "name": "stderr",
     "output_type": "stream",
     "text": [
      "\r\n",
      "Training with LBFGS:  49%|████▉     | 491/1000 [5:14:02<5:07:54, 36.30s/it]"
     ]
    },
    {
     "name": "stderr",
     "output_type": "stream",
     "text": [
      "\r\n",
      "Training with LBFGS:  49%|████▉     | 492/1000 [5:14:39<5:09:12, 36.52s/it]"
     ]
    },
    {
     "name": "stderr",
     "output_type": "stream",
     "text": [
      "\r\n",
      "Training with LBFGS:  49%|████▉     | 493/1000 [5:15:15<5:09:13, 36.60s/it]"
     ]
    },
    {
     "name": "stderr",
     "output_type": "stream",
     "text": [
      "\r\n",
      "Training with LBFGS:  49%|████▉     | 494/1000 [5:15:52<5:09:23, 36.69s/it]"
     ]
    },
    {
     "name": "stderr",
     "output_type": "stream",
     "text": [
      "\r\n",
      "Training with LBFGS:  50%|████▉     | 495/1000 [5:16:29<5:09:38, 36.79s/it]"
     ]
    },
    {
     "name": "stderr",
     "output_type": "stream",
     "text": [
      "\r\n",
      "Training with LBFGS:  50%|████▉     | 496/1000 [5:17:06<5:09:35, 36.86s/it]"
     ]
    },
    {
     "name": "stderr",
     "output_type": "stream",
     "text": [
      "\r\n",
      "Training with LBFGS:  50%|████▉     | 497/1000 [5:17:43<5:08:39, 36.82s/it]"
     ]
    },
    {
     "name": "stderr",
     "output_type": "stream",
     "text": [
      "\r\n",
      "Training with LBFGS:  50%|████▉     | 498/1000 [5:18:18<5:02:22, 36.14s/it]"
     ]
    },
    {
     "name": "stderr",
     "output_type": "stream",
     "text": [
      "\r\n",
      "Training with LBFGS:  50%|████▉     | 499/1000 [5:18:54<5:03:24, 36.34s/it]"
     ]
    },
    {
     "name": "stderr",
     "output_type": "stream",
     "text": [
      "\r\n",
      "Training with LBFGS:  50%|█████     | 500/1000 [5:19:32<5:04:39, 36.56s/it]"
     ]
    },
    {
     "name": "stderr",
     "output_type": "stream",
     "text": [
      "\r\n",
      "Training with LBFGS:  50%|█████     | 501/1000 [5:20:09<5:05:21, 36.72s/it]"
     ]
    },
    {
     "name": "stderr",
     "output_type": "stream",
     "text": [
      "\r\n",
      "Training with LBFGS:  50%|█████     | 502/1000 [5:20:46<5:05:53, 36.86s/it]"
     ]
    },
    {
     "name": "stderr",
     "output_type": "stream",
     "text": [
      "\r\n",
      "Training with LBFGS:  50%|█████     | 503/1000 [5:21:23<5:05:20, 36.86s/it]"
     ]
    },
    {
     "name": "stderr",
     "output_type": "stream",
     "text": [
      "\r\n",
      "Training with LBFGS:  50%|█████     | 504/1000 [5:21:58<5:00:57, 36.41s/it]"
     ]
    },
    {
     "name": "stderr",
     "output_type": "stream",
     "text": [
      "\r\n",
      "Training with LBFGS:  50%|█████     | 505/1000 [5:22:35<5:01:43, 36.57s/it]"
     ]
    },
    {
     "name": "stderr",
     "output_type": "stream",
     "text": [
      "\r\n",
      "Training with LBFGS:  51%|█████     | 506/1000 [5:23:12<5:01:56, 36.67s/it]"
     ]
    },
    {
     "name": "stderr",
     "output_type": "stream",
     "text": [
      "\r\n",
      "Training with LBFGS:  51%|█████     | 507/1000 [5:23:49<5:01:50, 36.73s/it]"
     ]
    },
    {
     "name": "stderr",
     "output_type": "stream",
     "text": [
      "\r\n",
      "Training with LBFGS:  51%|█████     | 508/1000 [5:24:26<5:02:00, 36.83s/it]"
     ]
    },
    {
     "name": "stderr",
     "output_type": "stream",
     "text": [
      "\r\n",
      "Training with LBFGS:  51%|█████     | 509/1000 [5:25:03<5:01:37, 36.86s/it]"
     ]
    },
    {
     "name": "stderr",
     "output_type": "stream",
     "text": [
      "\r\n",
      "Training with LBFGS:  51%|█████     | 510/1000 [5:25:40<5:01:43, 36.95s/it]"
     ]
    },
    {
     "name": "stderr",
     "output_type": "stream",
     "text": [
      "\r\n",
      "Training with LBFGS:  51%|█████     | 511/1000 [5:26:17<5:00:54, 36.92s/it]"
     ]
    },
    {
     "name": "stderr",
     "output_type": "stream",
     "text": [
      "\r\n",
      "Training with LBFGS:  51%|█████     | 512/1000 [5:26:54<5:00:12, 36.91s/it]"
     ]
    },
    {
     "name": "stderr",
     "output_type": "stream",
     "text": [
      "\r\n",
      "Training with LBFGS:  51%|█████▏    | 513/1000 [5:27:31<5:00:19, 37.00s/it]"
     ]
    },
    {
     "name": "stderr",
     "output_type": "stream",
     "text": [
      "\r\n",
      "Training with LBFGS:  51%|█████▏    | 514/1000 [5:28:08<4:59:41, 37.00s/it]"
     ]
    },
    {
     "name": "stderr",
     "output_type": "stream",
     "text": [
      "\r\n",
      "Training with LBFGS:  52%|█████▏    | 515/1000 [5:28:44<4:55:59, 36.62s/it]"
     ]
    },
    {
     "name": "stderr",
     "output_type": "stream",
     "text": [
      "\r\n",
      "Training with LBFGS:  52%|█████▏    | 516/1000 [5:29:19<4:51:26, 36.13s/it]"
     ]
    },
    {
     "name": "stderr",
     "output_type": "stream",
     "text": [
      "\r\n",
      "Training with LBFGS:  52%|█████▏    | 517/1000 [5:29:54<4:48:15, 35.81s/it]"
     ]
    },
    {
     "name": "stderr",
     "output_type": "stream",
     "text": [
      "\r\n",
      "Training with LBFGS:  52%|█████▏    | 518/1000 [5:30:29<4:45:22, 35.52s/it]"
     ]
    },
    {
     "name": "stderr",
     "output_type": "stream",
     "text": [
      "\r\n",
      "Training with LBFGS:  52%|█████▏    | 519/1000 [5:31:04<4:44:20, 35.47s/it]"
     ]
    },
    {
     "name": "stderr",
     "output_type": "stream",
     "text": [
      "\r\n",
      "Training with LBFGS:  52%|█████▏    | 520/1000 [5:31:39<4:43:13, 35.40s/it]"
     ]
    },
    {
     "name": "stderr",
     "output_type": "stream",
     "text": [
      "\r\n",
      "Training with LBFGS:  52%|█████▏    | 521/1000 [5:32:14<4:41:47, 35.30s/it]"
     ]
    },
    {
     "name": "stderr",
     "output_type": "stream",
     "text": [
      "\r\n",
      "Training with LBFGS:  52%|█████▏    | 522/1000 [5:32:49<4:40:56, 35.27s/it]"
     ]
    },
    {
     "name": "stderr",
     "output_type": "stream",
     "text": [
      "\r\n",
      "Training with LBFGS:  52%|█████▏    | 523/1000 [5:33:24<4:39:47, 35.19s/it]"
     ]
    },
    {
     "name": "stderr",
     "output_type": "stream",
     "text": [
      "\r\n",
      "Training with LBFGS:  52%|█████▏    | 524/1000 [5:33:59<4:38:51, 35.15s/it]"
     ]
    },
    {
     "name": "stderr",
     "output_type": "stream",
     "text": [
      "\r\n",
      "Training with LBFGS:  52%|█████▎    | 525/1000 [5:34:35<4:38:11, 35.14s/it]"
     ]
    },
    {
     "name": "stderr",
     "output_type": "stream",
     "text": [
      "\r\n",
      "Training with LBFGS:  53%|█████▎    | 526/1000 [5:35:10<4:37:14, 35.09s/it]"
     ]
    },
    {
     "name": "stderr",
     "output_type": "stream",
     "text": [
      "\r\n",
      "Training with LBFGS:  53%|█████▎    | 527/1000 [5:35:44<4:36:09, 35.03s/it]"
     ]
    },
    {
     "name": "stderr",
     "output_type": "stream",
     "text": [
      "\r\n",
      "Training with LBFGS:  53%|█████▎    | 528/1000 [5:36:19<4:35:15, 34.99s/it]"
     ]
    },
    {
     "name": "stderr",
     "output_type": "stream",
     "text": [
      "\r\n",
      "Training with LBFGS:  53%|█████▎    | 529/1000 [5:36:54<4:34:40, 34.99s/it]"
     ]
    },
    {
     "name": "stderr",
     "output_type": "stream",
     "text": [
      "\r\n",
      "Training with LBFGS:  53%|█████▎    | 530/1000 [5:37:29<4:33:52, 34.96s/it]"
     ]
    },
    {
     "name": "stderr",
     "output_type": "stream",
     "text": [
      "\r\n",
      "Training with LBFGS:  53%|█████▎    | 531/1000 [5:38:04<4:33:24, 34.98s/it]"
     ]
    },
    {
     "name": "stderr",
     "output_type": "stream",
     "text": [
      "\r\n",
      "Training with LBFGS:  53%|█████▎    | 532/1000 [5:38:39<4:32:45, 34.97s/it]"
     ]
    },
    {
     "name": "stderr",
     "output_type": "stream",
     "text": [
      "\r\n",
      "Training with LBFGS:  53%|█████▎    | 533/1000 [5:39:14<4:32:15, 34.98s/it]"
     ]
    },
    {
     "name": "stderr",
     "output_type": "stream",
     "text": [
      "\r\n",
      "Training with LBFGS:  53%|█████▎    | 534/1000 [5:39:49<4:31:50, 35.00s/it]"
     ]
    },
    {
     "name": "stderr",
     "output_type": "stream",
     "text": [
      "\r\n",
      "Training with LBFGS:  54%|█████▎    | 535/1000 [5:40:24<4:31:00, 34.97s/it]"
     ]
    },
    {
     "name": "stderr",
     "output_type": "stream",
     "text": [
      "\r\n",
      "Training with LBFGS:  54%|█████▎    | 536/1000 [5:40:59<4:30:17, 34.95s/it]"
     ]
    },
    {
     "name": "stderr",
     "output_type": "stream",
     "text": [
      "\r\n",
      "Training with LBFGS:  54%|█████▎    | 537/1000 [5:41:34<4:29:54, 34.98s/it]"
     ]
    },
    {
     "name": "stderr",
     "output_type": "stream",
     "text": [
      "\r\n",
      "Training with LBFGS:  54%|█████▍    | 538/1000 [5:42:09<4:29:05, 34.95s/it]"
     ]
    },
    {
     "name": "stderr",
     "output_type": "stream",
     "text": [
      "\r\n",
      "Training with LBFGS:  54%|█████▍    | 539/1000 [5:42:44<4:28:38, 34.97s/it]"
     ]
    },
    {
     "name": "stderr",
     "output_type": "stream",
     "text": [
      "\r\n",
      "Training with LBFGS:  54%|█████▍    | 540/1000 [5:43:19<4:27:53, 34.94s/it]"
     ]
    },
    {
     "name": "stderr",
     "output_type": "stream",
     "text": [
      "\r\n",
      "Training with LBFGS:  54%|█████▍    | 541/1000 [5:43:54<4:27:31, 34.97s/it]"
     ]
    },
    {
     "name": "stderr",
     "output_type": "stream",
     "text": [
      "\r\n",
      "Training with LBFGS:  54%|█████▍    | 542/1000 [5:44:29<4:27:04, 34.99s/it]"
     ]
    },
    {
     "name": "stderr",
     "output_type": "stream",
     "text": [
      "\r\n",
      "Training with LBFGS:  54%|█████▍    | 543/1000 [5:45:04<4:26:31, 34.99s/it]"
     ]
    },
    {
     "name": "stderr",
     "output_type": "stream",
     "text": [
      "\r\n",
      "Training with LBFGS:  54%|█████▍    | 544/1000 [5:45:39<4:25:21, 34.92s/it]"
     ]
    },
    {
     "name": "stderr",
     "output_type": "stream",
     "text": [
      "\r\n",
      "Training with LBFGS:  55%|█████▍    | 545/1000 [5:46:14<4:24:44, 34.91s/it]"
     ]
    },
    {
     "name": "stderr",
     "output_type": "stream",
     "text": [
      "\r\n",
      "Training with LBFGS:  55%|█████▍    | 546/1000 [5:46:48<4:24:15, 34.92s/it]"
     ]
    },
    {
     "name": "stderr",
     "output_type": "stream",
     "text": [
      "\r\n",
      "Training with LBFGS:  55%|█████▍    | 547/1000 [5:47:23<4:23:41, 34.93s/it]"
     ]
    },
    {
     "name": "stderr",
     "output_type": "stream",
     "text": [
      "\r\n",
      "Training with LBFGS:  55%|█████▍    | 548/1000 [5:47:58<4:22:54, 34.90s/it]"
     ]
    },
    {
     "name": "stderr",
     "output_type": "stream",
     "text": [
      "\r\n",
      "Training with LBFGS:  55%|█████▍    | 549/1000 [5:48:33<4:22:19, 34.90s/it]"
     ]
    },
    {
     "name": "stderr",
     "output_type": "stream",
     "text": [
      "\r\n",
      "Training with LBFGS:  55%|█████▌    | 550/1000 [5:49:08<4:21:43, 34.90s/it]"
     ]
    },
    {
     "name": "stderr",
     "output_type": "stream",
     "text": [
      "\r\n",
      "Training with LBFGS:  55%|█████▌    | 551/1000 [5:49:43<4:21:17, 34.92s/it]"
     ]
    },
    {
     "name": "stderr",
     "output_type": "stream",
     "text": [
      "\r\n",
      "Training with LBFGS:  55%|█████▌    | 552/1000 [5:50:18<4:20:45, 34.92s/it]"
     ]
    },
    {
     "name": "stderr",
     "output_type": "stream",
     "text": [
      "\r\n",
      "Training with LBFGS:  55%|█████▌    | 553/1000 [5:50:53<4:20:30, 34.97s/it]"
     ]
    },
    {
     "name": "stderr",
     "output_type": "stream",
     "text": [
      "\r\n",
      "Training with LBFGS:  55%|█████▌    | 554/1000 [5:51:28<4:20:40, 35.07s/it]"
     ]
    },
    {
     "name": "stderr",
     "output_type": "stream",
     "text": [
      "\r\n",
      "Training with LBFGS:  56%|█████▌    | 555/1000 [5:52:03<4:19:56, 35.05s/it]"
     ]
    },
    {
     "name": "stderr",
     "output_type": "stream",
     "text": [
      "\r\n",
      "Training with LBFGS:  56%|█████▌    | 556/1000 [5:52:38<4:19:05, 35.01s/it]"
     ]
    },
    {
     "name": "stderr",
     "output_type": "stream",
     "text": [
      "\r\n",
      "Training with LBFGS:  56%|█████▌    | 557/1000 [5:53:13<4:18:24, 35.00s/it]"
     ]
    },
    {
     "name": "stderr",
     "output_type": "stream",
     "text": [
      "\r\n",
      "Training with LBFGS:  56%|█████▌    | 558/1000 [5:53:48<4:17:56, 35.01s/it]"
     ]
    },
    {
     "name": "stderr",
     "output_type": "stream",
     "text": [
      "\r\n",
      "Training with LBFGS:  56%|█████▌    | 559/1000 [5:54:23<4:17:00, 34.97s/it]"
     ]
    },
    {
     "name": "stderr",
     "output_type": "stream",
     "text": [
      "\r\n",
      "Training with LBFGS:  56%|█████▌    | 560/1000 [5:54:58<4:16:25, 34.97s/it]"
     ]
    },
    {
     "name": "stderr",
     "output_type": "stream",
     "text": [
      "\r\n",
      "Training with LBFGS:  56%|█████▌    | 561/1000 [5:55:33<4:16:08, 35.01s/it]"
     ]
    },
    {
     "name": "stderr",
     "output_type": "stream",
     "text": [
      "\r\n",
      "Training with LBFGS:  56%|█████▌    | 562/1000 [5:56:08<4:15:20, 34.98s/it]"
     ]
    },
    {
     "name": "stderr",
     "output_type": "stream",
     "text": [
      "\r\n",
      "Training with LBFGS:  56%|█████▋    | 563/1000 [5:56:43<4:14:44, 34.98s/it]"
     ]
    },
    {
     "name": "stderr",
     "output_type": "stream",
     "text": [
      "\r\n",
      "Training with LBFGS:  56%|█████▋    | 564/1000 [5:57:18<4:14:20, 35.00s/it]"
     ]
    },
    {
     "name": "stderr",
     "output_type": "stream",
     "text": [
      "\r\n",
      "Training with LBFGS:  56%|█████▋    | 565/1000 [5:57:53<4:13:41, 34.99s/it]"
     ]
    },
    {
     "name": "stderr",
     "output_type": "stream",
     "text": [
      "\r\n",
      "Training with LBFGS:  57%|█████▋    | 566/1000 [5:58:28<4:13:23, 35.03s/it]"
     ]
    },
    {
     "name": "stderr",
     "output_type": "stream",
     "text": [
      "\r\n",
      "Training with LBFGS:  57%|█████▋    | 567/1000 [5:59:03<4:12:39, 35.01s/it]"
     ]
    },
    {
     "name": "stderr",
     "output_type": "stream",
     "text": [
      "\r\n",
      "Training with LBFGS:  57%|█████▋    | 568/1000 [5:59:38<4:11:52, 34.98s/it]"
     ]
    },
    {
     "name": "stderr",
     "output_type": "stream",
     "text": [
      "\r\n",
      "Training with LBFGS:  57%|█████▋    | 569/1000 [6:00:13<4:11:07, 34.96s/it]"
     ]
    },
    {
     "name": "stderr",
     "output_type": "stream",
     "text": [
      "\r\n",
      "Training with LBFGS:  57%|█████▋    | 570/1000 [6:00:48<4:10:35, 34.97s/it]"
     ]
    },
    {
     "name": "stderr",
     "output_type": "stream",
     "text": [
      "\r\n",
      "Training with LBFGS:  57%|█████▋    | 571/1000 [6:01:23<4:09:43, 34.93s/it]"
     ]
    },
    {
     "name": "stderr",
     "output_type": "stream",
     "text": [
      "\r\n",
      "Training with LBFGS:  57%|█████▋    | 572/1000 [6:01:58<4:09:41, 35.00s/it]"
     ]
    },
    {
     "name": "stderr",
     "output_type": "stream",
     "text": [
      "\r\n",
      "Training with LBFGS:  57%|█████▋    | 573/1000 [6:02:33<4:08:40, 34.94s/it]"
     ]
    },
    {
     "name": "stderr",
     "output_type": "stream",
     "text": [
      "\r\n",
      "Training with LBFGS:  57%|█████▋    | 574/1000 [6:03:08<4:08:20, 34.98s/it]"
     ]
    },
    {
     "name": "stderr",
     "output_type": "stream",
     "text": [
      "\r\n",
      "Training with LBFGS:  57%|█████▊    | 575/1000 [6:03:42<4:06:31, 34.80s/it]"
     ]
    },
    {
     "name": "stderr",
     "output_type": "stream",
     "text": [
      "\r\n",
      "Training with LBFGS:  58%|█████▊    | 576/1000 [6:04:16<4:04:29, 34.60s/it]"
     ]
    },
    {
     "name": "stderr",
     "output_type": "stream",
     "text": [
      "\r\n",
      "Training with LBFGS:  58%|█████▊    | 577/1000 [6:04:51<4:02:56, 34.46s/it]"
     ]
    },
    {
     "name": "stderr",
     "output_type": "stream",
     "text": [
      "\r\n",
      "Training with LBFGS:  58%|█████▊    | 578/1000 [6:05:25<4:01:38, 34.36s/it]"
     ]
    },
    {
     "name": "stderr",
     "output_type": "stream",
     "text": [
      "\r\n",
      "Training with LBFGS:  58%|█████▊    | 579/1000 [6:05:59<4:00:33, 34.28s/it]"
     ]
    },
    {
     "name": "stderr",
     "output_type": "stream",
     "text": [
      "\r\n",
      "Training with LBFGS:  58%|█████▊    | 580/1000 [6:06:33<3:59:37, 34.23s/it]"
     ]
    },
    {
     "name": "stderr",
     "output_type": "stream",
     "text": [
      "\r\n",
      "Training with LBFGS:  58%|█████▊    | 581/1000 [6:07:07<3:58:48, 34.20s/it]"
     ]
    },
    {
     "name": "stderr",
     "output_type": "stream",
     "text": [
      "\r\n",
      "Training with LBFGS:  58%|█████▊    | 582/1000 [6:07:41<3:58:02, 34.17s/it]"
     ]
    },
    {
     "name": "stderr",
     "output_type": "stream",
     "text": [
      "\r\n",
      "Training with LBFGS:  58%|█████▊    | 583/1000 [6:08:15<3:57:21, 34.15s/it]"
     ]
    },
    {
     "name": "stderr",
     "output_type": "stream",
     "text": [
      "\r\n",
      "Training with LBFGS:  58%|█████▊    | 584/1000 [6:08:49<3:56:40, 34.14s/it]"
     ]
    },
    {
     "name": "stderr",
     "output_type": "stream",
     "text": [
      "\r\n",
      "Training with LBFGS:  58%|█████▊    | 585/1000 [6:09:23<3:55:59, 34.12s/it]"
     ]
    },
    {
     "name": "stderr",
     "output_type": "stream",
     "text": [
      "\r\n",
      "Training with LBFGS:  59%|█████▊    | 586/1000 [6:09:57<3:55:22, 34.11s/it]"
     ]
    },
    {
     "name": "stderr",
     "output_type": "stream",
     "text": [
      "\r\n",
      "Training with LBFGS:  59%|█████▊    | 587/1000 [6:10:32<3:54:47, 34.11s/it]"
     ]
    },
    {
     "name": "stderr",
     "output_type": "stream",
     "text": [
      "\r\n",
      "Training with LBFGS:  59%|█████▉    | 588/1000 [6:11:06<3:54:09, 34.10s/it]"
     ]
    },
    {
     "name": "stderr",
     "output_type": "stream",
     "text": [
      "\r\n",
      "Training with LBFGS:  59%|█████▉    | 589/1000 [6:11:40<3:53:35, 34.10s/it]"
     ]
    },
    {
     "name": "stderr",
     "output_type": "stream",
     "text": [
      "\r\n",
      "Training with LBFGS:  59%|█████▉    | 590/1000 [6:12:14<3:53:00, 34.10s/it]"
     ]
    },
    {
     "name": "stderr",
     "output_type": "stream",
     "text": [
      "\r\n",
      "Training with LBFGS:  59%|█████▉    | 591/1000 [6:12:48<3:52:25, 34.10s/it]"
     ]
    },
    {
     "name": "stderr",
     "output_type": "stream",
     "text": [
      "\r\n",
      "Training with LBFGS:  59%|█████▉    | 592/1000 [6:13:22<3:51:52, 34.10s/it]"
     ]
    },
    {
     "name": "stderr",
     "output_type": "stream",
     "text": [
      "\r\n",
      "Training with LBFGS:  59%|█████▉    | 593/1000 [6:13:56<3:51:16, 34.10s/it]"
     ]
    },
    {
     "name": "stderr",
     "output_type": "stream",
     "text": [
      "\r\n",
      "Training with LBFGS:  59%|█████▉    | 594/1000 [6:14:30<3:50:41, 34.09s/it]"
     ]
    },
    {
     "name": "stderr",
     "output_type": "stream",
     "text": [
      "\r\n",
      "Training with LBFGS:  60%|█████▉    | 595/1000 [6:15:04<3:50:08, 34.09s/it]"
     ]
    },
    {
     "name": "stderr",
     "output_type": "stream",
     "text": [
      "\r\n",
      "Training with LBFGS:  60%|█████▉    | 596/1000 [6:15:38<3:49:32, 34.09s/it]"
     ]
    },
    {
     "name": "stderr",
     "output_type": "stream",
     "text": [
      "\r\n",
      "Training with LBFGS:  60%|█████▉    | 597/1000 [6:16:12<3:48:59, 34.09s/it]"
     ]
    },
    {
     "name": "stderr",
     "output_type": "stream",
     "text": [
      "\r\n",
      "Training with LBFGS:  60%|█████▉    | 598/1000 [6:16:47<3:48:26, 34.09s/it]"
     ]
    },
    {
     "name": "stderr",
     "output_type": "stream",
     "text": [
      "\r\n",
      "Training with LBFGS:  60%|█████▉    | 599/1000 [6:17:21<3:47:52, 34.10s/it]"
     ]
    },
    {
     "name": "stderr",
     "output_type": "stream",
     "text": [
      "\r\n",
      "Training with LBFGS:  60%|██████    | 600/1000 [6:17:55<3:47:17, 34.09s/it]"
     ]
    },
    {
     "name": "stderr",
     "output_type": "stream",
     "text": [
      "\r\n",
      "Training with LBFGS:  60%|██████    | 601/1000 [6:18:29<3:46:42, 34.09s/it]"
     ]
    },
    {
     "name": "stderr",
     "output_type": "stream",
     "text": [
      "\r\n",
      "Training with LBFGS:  60%|██████    | 602/1000 [6:19:03<3:46:19, 34.12s/it]"
     ]
    },
    {
     "name": "stderr",
     "output_type": "stream",
     "text": [
      "\r\n",
      "Training with LBFGS:  60%|██████    | 603/1000 [6:19:38<3:47:09, 34.33s/it]"
     ]
    },
    {
     "name": "stderr",
     "output_type": "stream",
     "text": [
      "\r\n",
      "Training with LBFGS:  60%|██████    | 604/1000 [6:20:13<3:47:15, 34.43s/it]"
     ]
    },
    {
     "name": "stderr",
     "output_type": "stream",
     "text": [
      "\r\n",
      "Training with LBFGS:  60%|██████    | 605/1000 [6:20:47<3:47:22, 34.54s/it]"
     ]
    },
    {
     "name": "stderr",
     "output_type": "stream",
     "text": [
      "\r\n",
      "Training with LBFGS:  61%|██████    | 606/1000 [6:21:22<3:47:24, 34.63s/it]"
     ]
    },
    {
     "name": "stderr",
     "output_type": "stream",
     "text": [
      "\r\n",
      "Training with LBFGS:  61%|██████    | 607/1000 [6:21:57<3:47:24, 34.72s/it]"
     ]
    },
    {
     "name": "stderr",
     "output_type": "stream",
     "text": [
      "\r\n",
      "Training with LBFGS:  61%|██████    | 608/1000 [6:22:32<3:47:24, 34.81s/it]"
     ]
    },
    {
     "name": "stderr",
     "output_type": "stream",
     "text": [
      "\r\n",
      "Training with LBFGS:  61%|██████    | 609/1000 [6:23:07<3:46:44, 34.79s/it]"
     ]
    },
    {
     "name": "stderr",
     "output_type": "stream",
     "text": [
      "\r\n",
      "Training with LBFGS:  61%|██████    | 610/1000 [6:23:42<3:46:34, 34.86s/it]"
     ]
    },
    {
     "name": "stderr",
     "output_type": "stream",
     "text": [
      "\r\n",
      "Training with LBFGS:  61%|██████    | 611/1000 [6:24:17<3:45:47, 34.83s/it]"
     ]
    },
    {
     "name": "stderr",
     "output_type": "stream",
     "text": [
      "\r\n",
      "Training with LBFGS:  61%|██████    | 612/1000 [6:24:51<3:45:03, 34.80s/it]"
     ]
    },
    {
     "name": "stderr",
     "output_type": "stream",
     "text": [
      "\r\n",
      "Training with LBFGS:  61%|██████▏   | 613/1000 [6:25:26<3:44:31, 34.81s/it]"
     ]
    },
    {
     "name": "stderr",
     "output_type": "stream",
     "text": [
      "\r\n",
      "Training with LBFGS:  61%|██████▏   | 614/1000 [6:26:01<3:44:09, 34.84s/it]"
     ]
    },
    {
     "name": "stderr",
     "output_type": "stream",
     "text": [
      "\r\n",
      "Training with LBFGS:  62%|██████▏   | 615/1000 [6:26:36<3:43:47, 34.88s/it]"
     ]
    },
    {
     "name": "stderr",
     "output_type": "stream",
     "text": [
      "\r\n",
      "Training with LBFGS:  62%|██████▏   | 616/1000 [6:27:11<3:43:09, 34.87s/it]"
     ]
    },
    {
     "name": "stderr",
     "output_type": "stream",
     "text": [
      "\r\n",
      "Training with LBFGS:  62%|██████▏   | 617/1000 [6:27:46<3:42:28, 34.85s/it]"
     ]
    },
    {
     "name": "stderr",
     "output_type": "stream",
     "text": [
      "\r\n",
      "Training with LBFGS:  62%|██████▏   | 618/1000 [6:28:21<3:41:51, 34.85s/it]"
     ]
    },
    {
     "name": "stderr",
     "output_type": "stream",
     "text": [
      "\r\n",
      "Training with LBFGS:  62%|██████▏   | 619/1000 [6:28:55<3:41:08, 34.83s/it]"
     ]
    },
    {
     "name": "stderr",
     "output_type": "stream",
     "text": [
      "\r\n",
      "Training with LBFGS:  62%|██████▏   | 620/1000 [6:29:30<3:40:34, 34.83s/it]"
     ]
    },
    {
     "name": "stderr",
     "output_type": "stream",
     "text": [
      "\r\n",
      "Training with LBFGS:  62%|██████▏   | 621/1000 [6:30:05<3:40:06, 34.84s/it]"
     ]
    },
    {
     "name": "stderr",
     "output_type": "stream",
     "text": [
      "\r\n",
      "Training with LBFGS:  62%|██████▏   | 622/1000 [6:30:40<3:39:52, 34.90s/it]"
     ]
    },
    {
     "name": "stderr",
     "output_type": "stream",
     "text": [
      "\r\n",
      "Training with LBFGS:  62%|██████▏   | 623/1000 [6:31:15<3:39:19, 34.90s/it]"
     ]
    },
    {
     "name": "stderr",
     "output_type": "stream",
     "text": [
      "\r\n",
      "Training with LBFGS:  62%|██████▏   | 624/1000 [6:31:50<3:38:31, 34.87s/it]"
     ]
    },
    {
     "name": "stderr",
     "output_type": "stream",
     "text": [
      "\r\n",
      "Training with LBFGS:  62%|██████▎   | 625/1000 [6:32:25<3:38:08, 34.90s/it]"
     ]
    },
    {
     "name": "stderr",
     "output_type": "stream",
     "text": [
      "\r\n",
      "Training with LBFGS:  63%|██████▎   | 626/1000 [6:33:00<3:37:35, 34.91s/it]"
     ]
    },
    {
     "name": "stderr",
     "output_type": "stream",
     "text": [
      "\r\n",
      "Training with LBFGS:  63%|██████▎   | 627/1000 [6:33:35<3:36:49, 34.88s/it]"
     ]
    },
    {
     "name": "stderr",
     "output_type": "stream",
     "text": [
      "\r\n",
      "Training with LBFGS:  63%|██████▎   | 628/1000 [6:34:10<3:36:35, 34.93s/it]"
     ]
    },
    {
     "name": "stderr",
     "output_type": "stream",
     "text": [
      "\r\n",
      "Training with LBFGS:  63%|██████▎   | 629/1000 [6:34:44<3:35:54, 34.92s/it]"
     ]
    },
    {
     "name": "stderr",
     "output_type": "stream",
     "text": [
      "\r\n",
      "Training with LBFGS:  63%|██████▎   | 630/1000 [6:35:19<3:35:24, 34.93s/it]"
     ]
    },
    {
     "name": "stderr",
     "output_type": "stream",
     "text": [
      "\r\n",
      "Training with LBFGS:  63%|██████▎   | 631/1000 [6:35:54<3:34:32, 34.88s/it]"
     ]
    },
    {
     "name": "stderr",
     "output_type": "stream",
     "text": [
      "\r\n",
      "Training with LBFGS:  63%|██████▎   | 632/1000 [6:36:29<3:34:02, 34.90s/it]"
     ]
    },
    {
     "name": "stderr",
     "output_type": "stream",
     "text": [
      "\r\n",
      "Training with LBFGS:  63%|██████▎   | 633/1000 [6:37:04<3:33:33, 34.91s/it]"
     ]
    },
    {
     "name": "stderr",
     "output_type": "stream",
     "text": [
      "\r\n",
      "Training with LBFGS:  63%|██████▎   | 634/1000 [6:37:39<3:32:50, 34.89s/it]"
     ]
    },
    {
     "name": "stderr",
     "output_type": "stream",
     "text": [
      "\r\n",
      "Training with LBFGS:  64%|██████▎   | 635/1000 [6:38:14<3:32:13, 34.89s/it]"
     ]
    },
    {
     "name": "stderr",
     "output_type": "stream",
     "text": [
      "\r\n",
      "Training with LBFGS:  64%|██████▎   | 636/1000 [6:38:49<3:31:27, 34.86s/it]"
     ]
    },
    {
     "name": "stderr",
     "output_type": "stream",
     "text": [
      "\r\n",
      "Training with LBFGS:  64%|██████▎   | 637/1000 [6:39:23<3:30:56, 34.87s/it]"
     ]
    },
    {
     "name": "stderr",
     "output_type": "stream",
     "text": [
      "\r\n",
      "Training with LBFGS:  64%|██████▍   | 638/1000 [6:39:58<3:30:29, 34.89s/it]"
     ]
    },
    {
     "name": "stderr",
     "output_type": "stream",
     "text": [
      "\r\n",
      "Training with LBFGS:  64%|██████▍   | 639/1000 [6:40:33<3:29:56, 34.89s/it]"
     ]
    },
    {
     "name": "stderr",
     "output_type": "stream",
     "text": [
      "\r\n",
      "Training with LBFGS:  64%|██████▍   | 640/1000 [6:41:08<3:29:29, 34.92s/it]"
     ]
    },
    {
     "name": "stderr",
     "output_type": "stream",
     "text": [
      "\r\n",
      "Training with LBFGS:  64%|██████▍   | 641/1000 [6:41:43<3:28:50, 34.90s/it]"
     ]
    },
    {
     "name": "stderr",
     "output_type": "stream",
     "text": [
      "\r\n",
      "Training with LBFGS:  64%|██████▍   | 642/1000 [6:42:18<3:28:15, 34.90s/it]"
     ]
    },
    {
     "name": "stderr",
     "output_type": "stream",
     "text": [
      "\r\n",
      "Training with LBFGS:  64%|██████▍   | 643/1000 [6:42:53<3:27:21, 34.85s/it]"
     ]
    },
    {
     "name": "stderr",
     "output_type": "stream",
     "text": [
      "\r\n",
      "Training with LBFGS:  64%|██████▍   | 644/1000 [6:43:28<3:26:55, 34.87s/it]"
     ]
    },
    {
     "name": "stderr",
     "output_type": "stream",
     "text": [
      "\r\n",
      "Training with LBFGS:  64%|██████▍   | 645/1000 [6:44:03<3:26:25, 34.89s/it]"
     ]
    },
    {
     "name": "stderr",
     "output_type": "stream",
     "text": [
      "\r\n",
      "Training with LBFGS:  65%|██████▍   | 646/1000 [6:44:37<3:25:34, 34.84s/it]"
     ]
    },
    {
     "name": "stderr",
     "output_type": "stream",
     "text": [
      "\r\n",
      "Training with LBFGS:  65%|██████▍   | 647/1000 [6:45:12<3:25:01, 34.85s/it]"
     ]
    },
    {
     "name": "stderr",
     "output_type": "stream",
     "text": [
      "\r\n",
      "Training with LBFGS:  65%|██████▍   | 648/1000 [6:45:47<3:24:40, 34.89s/it]"
     ]
    },
    {
     "name": "stderr",
     "output_type": "stream",
     "text": [
      "\r\n",
      "Training with LBFGS:  65%|██████▍   | 649/1000 [6:46:22<3:24:01, 34.88s/it]"
     ]
    },
    {
     "name": "stderr",
     "output_type": "stream",
     "text": [
      "\r\n",
      "Training with LBFGS:  65%|██████▌   | 650/1000 [6:46:57<3:23:32, 34.89s/it]"
     ]
    },
    {
     "name": "stderr",
     "output_type": "stream",
     "text": [
      "\r\n",
      "Training with LBFGS:  65%|██████▌   | 651/1000 [6:47:32<3:22:52, 34.88s/it]"
     ]
    },
    {
     "name": "stderr",
     "output_type": "stream",
     "text": [
      "\r\n",
      "Training with LBFGS:  65%|██████▌   | 652/1000 [6:48:07<3:22:23, 34.89s/it]"
     ]
    },
    {
     "name": "stderr",
     "output_type": "stream",
     "text": [
      "\r\n",
      "Training with LBFGS:  65%|██████▌   | 653/1000 [6:48:42<3:21:54, 34.91s/it]"
     ]
    },
    {
     "name": "stderr",
     "output_type": "stream",
     "text": [
      "\r\n",
      "Training with LBFGS:  65%|██████▌   | 654/1000 [6:49:17<3:21:24, 34.93s/it]"
     ]
    },
    {
     "name": "stderr",
     "output_type": "stream",
     "text": [
      "\r\n",
      "Training with LBFGS:  66%|██████▌   | 655/1000 [6:49:52<3:22:07, 35.15s/it]"
     ]
    },
    {
     "name": "stderr",
     "output_type": "stream",
     "text": [
      "\r\n",
      "Training with LBFGS:  66%|██████▌   | 656/1000 [6:50:30<3:25:59, 35.93s/it]"
     ]
    },
    {
     "name": "stderr",
     "output_type": "stream",
     "text": [
      "\r\n",
      "Training with LBFGS:  66%|██████▌   | 657/1000 [6:51:09<3:30:08, 36.76s/it]"
     ]
    },
    {
     "name": "stderr",
     "output_type": "stream",
     "text": [
      "\r\n",
      "Training with LBFGS:  66%|██████▌   | 658/1000 [6:51:46<3:29:34, 36.77s/it]"
     ]
    },
    {
     "name": "stderr",
     "output_type": "stream",
     "text": [
      "\r\n",
      "Training with LBFGS:  66%|██████▌   | 659/1000 [6:52:21<3:26:00, 36.25s/it]"
     ]
    },
    {
     "name": "stderr",
     "output_type": "stream",
     "text": [
      "\r\n",
      "Training with LBFGS:  66%|██████▌   | 660/1000 [6:52:56<3:23:23, 35.89s/it]"
     ]
    },
    {
     "name": "stderr",
     "output_type": "stream",
     "text": [
      "\r\n",
      "Training with LBFGS:  66%|██████▌   | 661/1000 [6:53:31<3:21:25, 35.65s/it]"
     ]
    },
    {
     "name": "stderr",
     "output_type": "stream",
     "text": [
      "\r\n",
      "Training with LBFGS:  66%|██████▌   | 662/1000 [6:54:06<3:19:48, 35.47s/it]"
     ]
    },
    {
     "name": "stderr",
     "output_type": "stream",
     "text": [
      "\r\n",
      "Training with LBFGS:  66%|██████▋   | 663/1000 [6:54:41<3:18:16, 35.30s/it]"
     ]
    },
    {
     "name": "stderr",
     "output_type": "stream",
     "text": [
      "\r\n",
      "Training with LBFGS:  66%|██████▋   | 664/1000 [6:55:16<3:17:23, 35.25s/it]"
     ]
    },
    {
     "name": "stderr",
     "output_type": "stream",
     "text": [
      "\r\n",
      "Training with LBFGS:  66%|██████▋   | 665/1000 [6:55:52<3:18:06, 35.48s/it]"
     ]
    },
    {
     "name": "stderr",
     "output_type": "stream",
     "text": [
      "\r\n",
      "Training with LBFGS:  67%|██████▋   | 666/1000 [6:56:28<3:18:28, 35.66s/it]"
     ]
    },
    {
     "name": "stderr",
     "output_type": "stream",
     "text": [
      "\r\n",
      "Training with LBFGS:  67%|██████▋   | 667/1000 [6:57:04<3:18:38, 35.79s/it]"
     ]
    },
    {
     "name": "stderr",
     "output_type": "stream",
     "text": [
      "\r\n",
      "Training with LBFGS:  67%|██████▋   | 668/1000 [6:57:40<3:19:00, 35.97s/it]"
     ]
    },
    {
     "name": "stderr",
     "output_type": "stream",
     "text": [
      "\r\n",
      "Training with LBFGS:  67%|██████▋   | 669/1000 [6:58:17<3:18:39, 36.01s/it]"
     ]
    },
    {
     "name": "stderr",
     "output_type": "stream",
     "text": [
      "\r\n",
      "Training with LBFGS:  67%|██████▋   | 670/1000 [6:58:52<3:17:33, 35.92s/it]"
     ]
    },
    {
     "name": "stderr",
     "output_type": "stream",
     "text": [
      "\r\n",
      "Training with LBFGS:  67%|██████▋   | 671/1000 [6:59:28<3:17:11, 35.96s/it]"
     ]
    },
    {
     "name": "stderr",
     "output_type": "stream",
     "text": [
      "\r\n",
      "Training with LBFGS:  67%|██████▋   | 672/1000 [7:00:04<3:15:59, 35.85s/it]"
     ]
    },
    {
     "name": "stderr",
     "output_type": "stream",
     "text": [
      "\r\n",
      "Training with LBFGS:  67%|██████▋   | 673/1000 [7:00:40<3:15:18, 35.84s/it]"
     ]
    },
    {
     "name": "stderr",
     "output_type": "stream",
     "text": [
      "\r\n",
      "Training with LBFGS:  67%|██████▋   | 674/1000 [7:01:15<3:13:25, 35.60s/it]"
     ]
    },
    {
     "name": "stderr",
     "output_type": "stream",
     "text": [
      "\r\n",
      "Training with LBFGS:  68%|██████▊   | 675/1000 [7:01:50<3:12:38, 35.56s/it]"
     ]
    },
    {
     "name": "stderr",
     "output_type": "stream",
     "text": [
      "\r\n",
      "Training with LBFGS:  68%|██████▊   | 676/1000 [7:02:25<3:11:24, 35.45s/it]"
     ]
    },
    {
     "name": "stderr",
     "output_type": "stream",
     "text": [
      "\r\n",
      "Training with LBFGS:  68%|██████▊   | 677/1000 [7:03:00<3:10:01, 35.30s/it]"
     ]
    },
    {
     "name": "stderr",
     "output_type": "stream",
     "text": [
      "\r\n",
      "Training with LBFGS:  68%|██████▊   | 678/1000 [7:03:35<3:09:08, 35.24s/it]"
     ]
    },
    {
     "name": "stderr",
     "output_type": "stream",
     "text": [
      "\r\n",
      "Training with LBFGS:  68%|██████▊   | 679/1000 [7:04:10<3:07:57, 35.13s/it]"
     ]
    },
    {
     "name": "stderr",
     "output_type": "stream",
     "text": [
      "\r\n",
      "Training with LBFGS:  68%|██████▊   | 680/1000 [7:04:45<3:07:11, 35.10s/it]"
     ]
    },
    {
     "name": "stderr",
     "output_type": "stream",
     "text": [
      "\r\n",
      "Training with LBFGS:  68%|██████▊   | 681/1000 [7:05:20<3:06:19, 35.04s/it]"
     ]
    },
    {
     "name": "stderr",
     "output_type": "stream",
     "text": [
      "\r\n",
      "Training with LBFGS:  68%|██████▊   | 682/1000 [7:05:55<3:05:18, 34.96s/it]"
     ]
    },
    {
     "name": "stderr",
     "output_type": "stream",
     "text": [
      "\r\n",
      "Training with LBFGS:  68%|██████▊   | 683/1000 [7:06:30<3:04:44, 34.97s/it]"
     ]
    },
    {
     "name": "stderr",
     "output_type": "stream",
     "text": [
      "\r\n",
      "Training with LBFGS:  68%|██████▊   | 684/1000 [7:07:05<3:04:14, 34.98s/it]"
     ]
    },
    {
     "name": "stderr",
     "output_type": "stream",
     "text": [
      "\r\n",
      "Training with LBFGS:  68%|██████▊   | 685/1000 [7:07:40<3:03:31, 34.96s/it]"
     ]
    },
    {
     "name": "stderr",
     "output_type": "stream",
     "text": [
      "\r\n",
      "Training with LBFGS:  69%|██████▊   | 686/1000 [7:08:15<3:02:46, 34.93s/it]"
     ]
    },
    {
     "name": "stderr",
     "output_type": "stream",
     "text": [
      "\r\n",
      "Training with LBFGS:  69%|██████▊   | 687/1000 [7:08:50<3:02:18, 34.95s/it]"
     ]
    },
    {
     "name": "stderr",
     "output_type": "stream",
     "text": [
      "\r\n",
      "Training with LBFGS:  69%|██████▉   | 688/1000 [7:09:25<3:01:48, 34.96s/it]"
     ]
    },
    {
     "name": "stderr",
     "output_type": "stream",
     "text": [
      "\r\n",
      "Training with LBFGS:  69%|██████▉   | 689/1000 [7:10:00<3:01:04, 34.93s/it]"
     ]
    },
    {
     "name": "stderr",
     "output_type": "stream",
     "text": [
      "\r\n",
      "Training with LBFGS:  69%|██████▉   | 690/1000 [7:10:34<3:00:17, 34.89s/it]"
     ]
    },
    {
     "name": "stderr",
     "output_type": "stream",
     "text": [
      "\r\n",
      "Training with LBFGS:  69%|██████▉   | 691/1000 [7:11:09<2:59:45, 34.91s/it]"
     ]
    },
    {
     "name": "stderr",
     "output_type": "stream",
     "text": [
      "\r\n",
      "Training with LBFGS:  69%|██████▉   | 692/1000 [7:11:44<2:59:17, 34.93s/it]"
     ]
    },
    {
     "name": "stderr",
     "output_type": "stream",
     "text": [
      "\r\n",
      "Training with LBFGS:  69%|██████▉   | 693/1000 [7:12:19<2:58:45, 34.94s/it]"
     ]
    },
    {
     "name": "stderr",
     "output_type": "stream",
     "text": [
      "\r\n",
      "Training with LBFGS:  69%|██████▉   | 694/1000 [7:12:55<2:58:46, 35.05s/it]"
     ]
    },
    {
     "name": "stderr",
     "output_type": "stream",
     "text": [
      "\r\n",
      "Training with LBFGS:  70%|██████▉   | 695/1000 [7:13:30<2:58:05, 35.03s/it]"
     ]
    },
    {
     "name": "stderr",
     "output_type": "stream",
     "text": [
      "\r\n",
      "Training with LBFGS:  70%|██████▉   | 696/1000 [7:14:04<2:57:10, 34.97s/it]"
     ]
    },
    {
     "name": "stderr",
     "output_type": "stream",
     "text": [
      "\r\n",
      "Training with LBFGS:  70%|██████▉   | 697/1000 [7:14:40<2:56:44, 35.00s/it]"
     ]
    },
    {
     "name": "stderr",
     "output_type": "stream",
     "text": [
      "\r\n",
      "Training with LBFGS:  70%|██████▉   | 698/1000 [7:15:15<2:56:16, 35.02s/it]"
     ]
    },
    {
     "name": "stderr",
     "output_type": "stream",
     "text": [
      "\r\n",
      "Training with LBFGS:  70%|██████▉   | 699/1000 [7:15:50<2:55:53, 35.06s/it]"
     ]
    },
    {
     "name": "stderr",
     "output_type": "stream",
     "text": [
      "\r\n",
      "Training with LBFGS:  70%|███████   | 700/1000 [7:16:25<2:55:02, 35.01s/it]"
     ]
    },
    {
     "name": "stderr",
     "output_type": "stream",
     "text": [
      "\r\n",
      "Training with LBFGS:  70%|███████   | 701/1000 [7:17:00<2:54:23, 34.99s/it]"
     ]
    },
    {
     "name": "stderr",
     "output_type": "stream",
     "text": [
      "\r\n",
      "Training with LBFGS:  70%|███████   | 702/1000 [7:17:35<2:54:03, 35.04s/it]"
     ]
    },
    {
     "name": "stderr",
     "output_type": "stream",
     "text": [
      "\r\n",
      "Training with LBFGS:  70%|███████   | 703/1000 [7:18:10<2:53:15, 35.00s/it]"
     ]
    },
    {
     "name": "stderr",
     "output_type": "stream",
     "text": [
      "\r\n",
      "Training with LBFGS:  70%|███████   | 704/1000 [7:18:44<2:52:21, 34.94s/it]"
     ]
    },
    {
     "name": "stderr",
     "output_type": "stream",
     "text": [
      "\r\n",
      "Training with LBFGS:  70%|███████   | 705/1000 [7:19:19<2:51:41, 34.92s/it]"
     ]
    },
    {
     "name": "stderr",
     "output_type": "stream",
     "text": [
      "\r\n",
      "Training with LBFGS:  71%|███████   | 706/1000 [7:19:54<2:50:59, 34.90s/it]"
     ]
    },
    {
     "name": "stderr",
     "output_type": "stream",
     "text": [
      "\r\n",
      "Training with LBFGS:  71%|███████   | 707/1000 [7:20:29<2:50:28, 34.91s/it]"
     ]
    },
    {
     "name": "stderr",
     "output_type": "stream",
     "text": [
      "\r\n",
      "Training with LBFGS:  71%|███████   | 708/1000 [7:21:04<2:50:00, 34.93s/it]"
     ]
    },
    {
     "name": "stderr",
     "output_type": "stream",
     "text": [
      "\r\n",
      "Training with LBFGS:  71%|███████   | 709/1000 [7:21:39<2:49:37, 34.97s/it]"
     ]
    },
    {
     "name": "stderr",
     "output_type": "stream",
     "text": [
      "\r\n",
      "Training with LBFGS:  71%|███████   | 710/1000 [7:22:14<2:48:48, 34.93s/it]"
     ]
    },
    {
     "name": "stderr",
     "output_type": "stream",
     "text": [
      "\r\n",
      "Training with LBFGS:  71%|███████   | 711/1000 [7:22:49<2:48:11, 34.92s/it]"
     ]
    },
    {
     "name": "stderr",
     "output_type": "stream",
     "text": [
      "\r\n",
      "Training with LBFGS:  71%|███████   | 712/1000 [7:23:24<2:47:27, 34.89s/it]"
     ]
    },
    {
     "name": "stderr",
     "output_type": "stream",
     "text": [
      "\r\n",
      "Training with LBFGS:  71%|███████▏  | 713/1000 [7:23:59<2:46:48, 34.87s/it]"
     ]
    },
    {
     "name": "stderr",
     "output_type": "stream",
     "text": [
      "\r\n",
      "Training with LBFGS:  71%|███████▏  | 714/1000 [7:24:33<2:46:14, 34.87s/it]"
     ]
    },
    {
     "name": "stderr",
     "output_type": "stream",
     "text": [
      "\r\n",
      "Training with LBFGS:  72%|███████▏  | 715/1000 [7:25:08<2:45:41, 34.88s/it]"
     ]
    },
    {
     "name": "stderr",
     "output_type": "stream",
     "text": [
      "\r\n",
      "Training with LBFGS:  72%|███████▏  | 716/1000 [7:25:43<2:45:08, 34.89s/it]"
     ]
    },
    {
     "name": "stderr",
     "output_type": "stream",
     "text": [
      "\r\n",
      "Training with LBFGS:  72%|███████▏  | 717/1000 [7:26:18<2:44:34, 34.89s/it]"
     ]
    },
    {
     "name": "stderr",
     "output_type": "stream",
     "text": [
      "\r\n",
      "Training with LBFGS:  72%|███████▏  | 718/1000 [7:26:53<2:44:11, 34.93s/it]"
     ]
    },
    {
     "name": "stderr",
     "output_type": "stream",
     "text": [
      "\r\n",
      "Training with LBFGS:  72%|███████▏  | 719/1000 [7:27:28<2:43:36, 34.94s/it]"
     ]
    },
    {
     "name": "stderr",
     "output_type": "stream",
     "text": [
      "\r\n",
      "Training with LBFGS:  72%|███████▏  | 720/1000 [7:28:03<2:43:02, 34.94s/it]"
     ]
    },
    {
     "name": "stderr",
     "output_type": "stream",
     "text": [
      "\r\n",
      "Training with LBFGS:  72%|███████▏  | 721/1000 [7:28:38<2:42:37, 34.97s/it]"
     ]
    },
    {
     "name": "stderr",
     "output_type": "stream",
     "text": [
      "\r\n",
      "Training with LBFGS:  72%|███████▏  | 722/1000 [7:29:13<2:42:00, 34.96s/it]"
     ]
    },
    {
     "name": "stderr",
     "output_type": "stream",
     "text": [
      "\r\n",
      "Training with LBFGS:  72%|███████▏  | 723/1000 [7:29:48<2:41:19, 34.94s/it]"
     ]
    },
    {
     "name": "stderr",
     "output_type": "stream",
     "text": [
      "\r\n",
      "Training with LBFGS:  72%|███████▏  | 724/1000 [7:30:23<2:40:30, 34.89s/it]"
     ]
    },
    {
     "name": "stderr",
     "output_type": "stream",
     "text": [
      "\r\n",
      "Training with LBFGS:  72%|███████▎  | 725/1000 [7:30:58<2:39:52, 34.88s/it]"
     ]
    },
    {
     "name": "stderr",
     "output_type": "stream",
     "text": [
      "\r\n",
      "Training with LBFGS:  73%|███████▎  | 726/1000 [7:31:32<2:39:12, 34.86s/it]"
     ]
    },
    {
     "name": "stderr",
     "output_type": "stream",
     "text": [
      "\r\n",
      "Training with LBFGS:  73%|███████▎  | 727/1000 [7:32:07<2:38:48, 34.90s/it]"
     ]
    },
    {
     "name": "stderr",
     "output_type": "stream",
     "text": [
      "\r\n",
      "Training with LBFGS:  73%|███████▎  | 728/1000 [7:32:42<2:38:04, 34.87s/it]"
     ]
    },
    {
     "name": "stderr",
     "output_type": "stream",
     "text": [
      "\r\n",
      "Training with LBFGS:  73%|███████▎  | 729/1000 [7:33:17<2:37:21, 34.84s/it]"
     ]
    },
    {
     "name": "stderr",
     "output_type": "stream",
     "text": [
      "\r\n",
      "Training with LBFGS:  73%|███████▎  | 730/1000 [7:33:52<2:36:53, 34.87s/it]"
     ]
    },
    {
     "name": "stderr",
     "output_type": "stream",
     "text": [
      "\r\n",
      "Training with LBFGS:  73%|███████▎  | 731/1000 [7:34:27<2:36:22, 34.88s/it]"
     ]
    },
    {
     "name": "stderr",
     "output_type": "stream",
     "text": [
      "\r\n",
      "Training with LBFGS:  73%|███████▎  | 732/1000 [7:35:02<2:35:49, 34.88s/it]"
     ]
    },
    {
     "name": "stderr",
     "output_type": "stream",
     "text": [
      "\r\n",
      "Training with LBFGS:  73%|███████▎  | 733/1000 [7:35:37<2:35:18, 34.90s/it]"
     ]
    },
    {
     "name": "stderr",
     "output_type": "stream",
     "text": [
      "\r\n",
      "Training with LBFGS:  73%|███████▎  | 734/1000 [7:36:11<2:34:35, 34.87s/it]"
     ]
    },
    {
     "name": "stderr",
     "output_type": "stream",
     "text": [
      "\r\n",
      "Training with LBFGS:  74%|███████▎  | 735/1000 [7:36:46<2:34:05, 34.89s/it]"
     ]
    },
    {
     "name": "stderr",
     "output_type": "stream",
     "text": [
      "\r\n",
      "Training with LBFGS:  74%|███████▎  | 736/1000 [7:37:21<2:33:24, 34.87s/it]"
     ]
    },
    {
     "name": "stderr",
     "output_type": "stream",
     "text": [
      "\r\n",
      "Training with LBFGS:  74%|███████▎  | 737/1000 [7:37:56<2:32:42, 34.84s/it]"
     ]
    },
    {
     "name": "stderr",
     "output_type": "stream",
     "text": [
      "\r\n",
      "Training with LBFGS:  74%|███████▍  | 738/1000 [7:38:31<2:32:13, 34.86s/it]"
     ]
    },
    {
     "name": "stderr",
     "output_type": "stream",
     "text": [
      "\r\n",
      "Training with LBFGS:  74%|███████▍  | 739/1000 [7:39:06<2:31:40, 34.87s/it]"
     ]
    },
    {
     "name": "stderr",
     "output_type": "stream",
     "text": [
      "\r\n",
      "Training with LBFGS:  74%|███████▍  | 740/1000 [7:39:40<2:30:57, 34.84s/it]"
     ]
    },
    {
     "name": "stderr",
     "output_type": "stream",
     "text": [
      "\r\n",
      "Training with LBFGS:  74%|███████▍  | 741/1000 [7:40:15<2:30:27, 34.85s/it]"
     ]
    },
    {
     "name": "stderr",
     "output_type": "stream",
     "text": [
      "\r\n",
      "Training with LBFGS:  74%|███████▍  | 742/1000 [7:40:51<2:30:13, 34.93s/it]"
     ]
    },
    {
     "name": "stderr",
     "output_type": "stream",
     "text": [
      "\r\n",
      "Training with LBFGS:  74%|███████▍  | 743/1000 [7:41:25<2:29:39, 34.94s/it]"
     ]
    },
    {
     "name": "stderr",
     "output_type": "stream",
     "text": [
      "\r\n",
      "Training with LBFGS:  74%|███████▍  | 744/1000 [7:42:00<2:29:05, 34.94s/it]"
     ]
    },
    {
     "name": "stderr",
     "output_type": "stream",
     "text": [
      "\r\n",
      "Training with LBFGS:  74%|███████▍  | 745/1000 [7:42:37<2:30:23, 35.39s/it]"
     ]
    },
    {
     "name": "stderr",
     "output_type": "stream",
     "text": [
      "\r\n",
      "Training with LBFGS:  75%|███████▍  | 746/1000 [7:43:15<2:32:56, 36.13s/it]"
     ]
    },
    {
     "name": "stderr",
     "output_type": "stream",
     "text": [
      "\r\n",
      "Training with LBFGS:  75%|███████▍  | 747/1000 [7:43:53<2:34:46, 36.70s/it]"
     ]
    },
    {
     "name": "stderr",
     "output_type": "stream",
     "text": [
      "\r\n",
      "Training with LBFGS:  75%|███████▍  | 748/1000 [7:44:31<2:36:15, 37.21s/it]"
     ]
    },
    {
     "name": "stderr",
     "output_type": "stream",
     "text": [
      "\r\n",
      "Training with LBFGS:  75%|███████▍  | 749/1000 [7:45:09<2:36:52, 37.50s/it]"
     ]
    },
    {
     "name": "stderr",
     "output_type": "stream",
     "text": [
      "\r\n",
      "Training with LBFGS:  75%|███████▌  | 750/1000 [7:45:45<2:33:55, 36.94s/it]"
     ]
    },
    {
     "name": "stderr",
     "output_type": "stream",
     "text": [
      "\r\n",
      "Training with LBFGS:  75%|███████▌  | 751/1000 [7:46:21<2:32:00, 36.63s/it]"
     ]
    },
    {
     "name": "stderr",
     "output_type": "stream",
     "text": [
      "\r\n",
      "Training with LBFGS:  75%|███████▌  | 752/1000 [7:46:57<2:30:37, 36.44s/it]"
     ]
    },
    {
     "name": "stderr",
     "output_type": "stream",
     "text": [
      "\r\n",
      "Training with LBFGS:  75%|███████▌  | 753/1000 [7:47:35<2:31:56, 36.91s/it]"
     ]
    },
    {
     "name": "stderr",
     "output_type": "stream",
     "text": [
      "\r\n",
      "Training with LBFGS:  75%|███████▌  | 754/1000 [7:48:11<2:30:25, 36.69s/it]"
     ]
    },
    {
     "name": "stderr",
     "output_type": "stream",
     "text": [
      "\r\n",
      "Training with LBFGS:  76%|███████▌  | 755/1000 [7:48:48<2:29:34, 36.63s/it]"
     ]
    },
    {
     "name": "stderr",
     "output_type": "stream",
     "text": [
      "\r\n",
      "Training with LBFGS:  76%|███████▌  | 756/1000 [7:49:25<2:30:04, 36.91s/it]"
     ]
    },
    {
     "name": "stderr",
     "output_type": "stream",
     "text": [
      "\r\n",
      "Training with LBFGS:  76%|███████▌  | 757/1000 [7:50:02<2:29:06, 36.82s/it]"
     ]
    },
    {
     "name": "stderr",
     "output_type": "stream",
     "text": [
      "\r\n",
      "Training with LBFGS:  76%|███████▌  | 758/1000 [7:50:38<2:28:12, 36.75s/it]"
     ]
    },
    {
     "name": "stderr",
     "output_type": "stream",
     "text": [
      "\r\n",
      "Training with LBFGS:  76%|███████▌  | 759/1000 [7:51:15<2:27:03, 36.61s/it]"
     ]
    },
    {
     "name": "stderr",
     "output_type": "stream",
     "text": [
      "\r\n",
      "Training with LBFGS:  76%|███████▌  | 760/1000 [7:51:51<2:26:18, 36.58s/it]"
     ]
    },
    {
     "name": "stderr",
     "output_type": "stream",
     "text": [
      "\r\n",
      "Training with LBFGS:  76%|███████▌  | 761/1000 [7:52:28<2:25:46, 36.60s/it]"
     ]
    },
    {
     "name": "stderr",
     "output_type": "stream",
     "text": [
      "\r\n",
      "Training with LBFGS:  76%|███████▌  | 762/1000 [7:53:04<2:25:18, 36.63s/it]"
     ]
    },
    {
     "name": "stderr",
     "output_type": "stream",
     "text": [
      "\r\n",
      "Training with LBFGS:  76%|███████▋  | 763/1000 [7:53:41<2:24:35, 36.60s/it]"
     ]
    },
    {
     "name": "stderr",
     "output_type": "stream",
     "text": [
      "\r\n",
      "Training with LBFGS:  76%|███████▋  | 764/1000 [7:54:19<2:25:19, 36.95s/it]"
     ]
    },
    {
     "name": "stderr",
     "output_type": "stream",
     "text": [
      "\r\n",
      "Training with LBFGS:  76%|███████▋  | 765/1000 [7:54:56<2:24:44, 36.96s/it]"
     ]
    },
    {
     "name": "stderr",
     "output_type": "stream",
     "text": [
      "\r\n",
      "Training with LBFGS:  77%|███████▋  | 766/1000 [7:55:32<2:23:18, 36.75s/it]"
     ]
    },
    {
     "name": "stderr",
     "output_type": "stream",
     "text": [
      "\r\n",
      "Training with LBFGS:  77%|███████▋  | 767/1000 [7:56:09<2:22:32, 36.71s/it]"
     ]
    },
    {
     "name": "stderr",
     "output_type": "stream",
     "text": [
      "\r\n",
      "Training with LBFGS:  77%|███████▋  | 768/1000 [7:56:47<2:24:19, 37.33s/it]"
     ]
    },
    {
     "name": "stderr",
     "output_type": "stream",
     "text": [
      "\r\n",
      "Training with LBFGS:  77%|███████▋  | 769/1000 [7:57:26<2:24:56, 37.65s/it]"
     ]
    },
    {
     "name": "stderr",
     "output_type": "stream",
     "text": [
      "\r\n",
      "Training with LBFGS:  77%|███████▋  | 770/1000 [7:58:04<2:25:10, 37.87s/it]"
     ]
    },
    {
     "name": "stderr",
     "output_type": "stream",
     "text": [
      "\r\n",
      "Training with LBFGS:  77%|███████▋  | 771/1000 [7:58:41<2:23:43, 37.66s/it]"
     ]
    },
    {
     "name": "stderr",
     "output_type": "stream",
     "text": [
      "\r\n",
      "Training with LBFGS:  77%|███████▋  | 772/1000 [7:59:19<2:23:24, 37.74s/it]"
     ]
    },
    {
     "name": "stderr",
     "output_type": "stream",
     "text": [
      "\r\n",
      "Training with LBFGS:  77%|███████▋  | 773/1000 [7:59:56<2:21:26, 37.38s/it]"
     ]
    },
    {
     "name": "stderr",
     "output_type": "stream",
     "text": [
      "\r\n",
      "Training with LBFGS:  77%|███████▋  | 774/1000 [8:00:33<2:20:38, 37.34s/it]"
     ]
    },
    {
     "name": "stderr",
     "output_type": "stream",
     "text": [
      "\r\n",
      "Training with LBFGS:  78%|███████▊  | 775/1000 [8:01:10<2:19:36, 37.23s/it]"
     ]
    },
    {
     "name": "stderr",
     "output_type": "stream",
     "text": [
      "\r\n",
      "Training with LBFGS:  78%|███████▊  | 776/1000 [8:01:47<2:18:39, 37.14s/it]"
     ]
    },
    {
     "name": "stderr",
     "output_type": "stream",
     "text": [
      "\r\n",
      "Training with LBFGS:  78%|███████▊  | 777/1000 [8:02:23<2:17:22, 36.96s/it]"
     ]
    },
    {
     "name": "stderr",
     "output_type": "stream",
     "text": [
      "\r\n",
      "Training with LBFGS:  78%|███████▊  | 778/1000 [8:03:00<2:16:14, 36.82s/it]"
     ]
    },
    {
     "name": "stderr",
     "output_type": "stream",
     "text": [
      "\r\n",
      "Training with LBFGS:  78%|███████▊  | 779/1000 [8:03:37<2:15:41, 36.84s/it]"
     ]
    },
    {
     "name": "stderr",
     "output_type": "stream",
     "text": [
      "\r\n",
      "Training with LBFGS:  78%|███████▊  | 780/1000 [8:04:12<2:13:13, 36.33s/it]"
     ]
    },
    {
     "name": "stderr",
     "output_type": "stream",
     "text": [
      "\r\n",
      "Training with LBFGS:  78%|███████▊  | 781/1000 [8:04:47<2:10:44, 35.82s/it]"
     ]
    },
    {
     "name": "stderr",
     "output_type": "stream",
     "text": [
      "\r\n",
      "Training with LBFGS:  78%|███████▊  | 782/1000 [8:05:21<2:08:19, 35.32s/it]"
     ]
    },
    {
     "name": "stderr",
     "output_type": "stream",
     "text": [
      "\r\n",
      "Training with LBFGS:  78%|███████▊  | 783/1000 [8:05:55<2:06:27, 34.96s/it]"
     ]
    },
    {
     "name": "stderr",
     "output_type": "stream",
     "text": [
      "\r\n",
      "Training with LBFGS:  78%|███████▊  | 784/1000 [8:06:29<2:04:58, 34.71s/it]"
     ]
    },
    {
     "name": "stderr",
     "output_type": "stream",
     "text": [
      "\r\n",
      "Training with LBFGS:  78%|███████▊  | 785/1000 [8:07:03<2:03:45, 34.54s/it]"
     ]
    },
    {
     "name": "stderr",
     "output_type": "stream",
     "text": [
      "\r\n",
      "Training with LBFGS:  79%|███████▊  | 786/1000 [8:07:37<2:02:43, 34.41s/it]"
     ]
    },
    {
     "name": "stderr",
     "output_type": "stream",
     "text": [
      "\r\n",
      "Training with LBFGS:  79%|███████▊  | 787/1000 [8:08:11<2:01:48, 34.31s/it]"
     ]
    },
    {
     "name": "stderr",
     "output_type": "stream",
     "text": [
      "\r\n",
      "Training with LBFGS:  79%|███████▉  | 788/1000 [8:08:45<2:01:02, 34.26s/it]"
     ]
    },
    {
     "name": "stderr",
     "output_type": "stream",
     "text": [
      "\r\n",
      "Training with LBFGS:  79%|███████▉  | 789/1000 [8:09:19<2:00:13, 34.19s/it]"
     ]
    },
    {
     "name": "stderr",
     "output_type": "stream",
     "text": [
      "\r\n",
      "Training with LBFGS:  79%|███████▉  | 790/1000 [8:09:54<1:59:35, 34.17s/it]"
     ]
    },
    {
     "name": "stderr",
     "output_type": "stream",
     "text": [
      "\r\n",
      "Training with LBFGS:  79%|███████▉  | 791/1000 [8:10:28<1:58:55, 34.14s/it]"
     ]
    },
    {
     "name": "stderr",
     "output_type": "stream",
     "text": [
      "\r\n",
      "Training with LBFGS:  79%|███████▉  | 792/1000 [8:11:02<1:58:19, 34.13s/it]"
     ]
    },
    {
     "name": "stderr",
     "output_type": "stream",
     "text": [
      "\r\n",
      "Training with LBFGS:  79%|███████▉  | 793/1000 [8:11:36<1:57:44, 34.13s/it]"
     ]
    },
    {
     "name": "stderr",
     "output_type": "stream",
     "text": [
      "\r\n",
      "Training with LBFGS:  79%|███████▉  | 794/1000 [8:12:10<1:57:10, 34.13s/it]"
     ]
    },
    {
     "name": "stderr",
     "output_type": "stream",
     "text": [
      "\r\n",
      "Training with LBFGS:  80%|███████▉  | 795/1000 [8:12:44<1:56:34, 34.12s/it]"
     ]
    },
    {
     "name": "stderr",
     "output_type": "stream",
     "text": [
      "\r\n",
      "Training with LBFGS:  80%|███████▉  | 796/1000 [8:13:18<1:55:59, 34.12s/it]"
     ]
    },
    {
     "name": "stderr",
     "output_type": "stream",
     "text": [
      "\r\n",
      "Training with LBFGS:  80%|███████▉  | 797/1000 [8:13:52<1:55:25, 34.12s/it]"
     ]
    },
    {
     "name": "stderr",
     "output_type": "stream",
     "text": [
      "\r\n",
      "Training with LBFGS:  80%|███████▉  | 798/1000 [8:14:26<1:54:51, 34.11s/it]"
     ]
    },
    {
     "name": "stderr",
     "output_type": "stream",
     "text": [
      "\r\n",
      "Training with LBFGS:  80%|███████▉  | 799/1000 [8:15:01<1:54:17, 34.12s/it]"
     ]
    },
    {
     "name": "stderr",
     "output_type": "stream",
     "text": [
      "\r\n",
      "Training with LBFGS:  80%|████████  | 800/1000 [8:15:35<1:53:42, 34.11s/it]"
     ]
    },
    {
     "name": "stderr",
     "output_type": "stream",
     "text": [
      "\r\n",
      "Training with LBFGS:  80%|████████  | 801/1000 [8:16:09<1:53:08, 34.12s/it]"
     ]
    },
    {
     "name": "stderr",
     "output_type": "stream",
     "text": [
      "\r\n",
      "Training with LBFGS:  80%|████████  | 802/1000 [8:16:43<1:52:34, 34.11s/it]"
     ]
    },
    {
     "name": "stderr",
     "output_type": "stream",
     "text": [
      "\r\n",
      "Training with LBFGS:  80%|████████  | 803/1000 [8:17:17<1:52:00, 34.11s/it]"
     ]
    },
    {
     "name": "stderr",
     "output_type": "stream",
     "text": [
      "\r\n",
      "Training with LBFGS:  80%|████████  | 804/1000 [8:17:51<1:51:26, 34.11s/it]"
     ]
    },
    {
     "name": "stderr",
     "output_type": "stream",
     "text": [
      "\r\n",
      "Training with LBFGS:  80%|████████  | 805/1000 [8:18:25<1:50:50, 34.10s/it]"
     ]
    },
    {
     "name": "stderr",
     "output_type": "stream",
     "text": [
      "\r\n",
      "Training with LBFGS:  81%|████████  | 806/1000 [8:18:59<1:50:17, 34.11s/it]"
     ]
    },
    {
     "name": "stderr",
     "output_type": "stream",
     "text": [
      "\r\n",
      "Training with LBFGS:  81%|████████  | 807/1000 [8:19:33<1:49:43, 34.11s/it]"
     ]
    },
    {
     "name": "stderr",
     "output_type": "stream",
     "text": [
      "\r\n",
      "Training with LBFGS:  81%|████████  | 808/1000 [8:20:08<1:49:09, 34.11s/it]"
     ]
    },
    {
     "name": "stderr",
     "output_type": "stream",
     "text": [
      "\r\n",
      "Training with LBFGS:  81%|████████  | 809/1000 [8:20:42<1:48:34, 34.11s/it]"
     ]
    },
    {
     "name": "stderr",
     "output_type": "stream",
     "text": [
      "\r\n",
      "Training with LBFGS:  81%|████████  | 810/1000 [8:21:16<1:48:01, 34.11s/it]"
     ]
    },
    {
     "name": "stderr",
     "output_type": "stream",
     "text": [
      "\r\n",
      "Training with LBFGS:  81%|████████  | 811/1000 [8:21:50<1:47:26, 34.11s/it]"
     ]
    },
    {
     "name": "stderr",
     "output_type": "stream",
     "text": [
      "\r\n",
      "Training with LBFGS:  81%|████████  | 812/1000 [8:22:24<1:46:52, 34.11s/it]"
     ]
    },
    {
     "name": "stderr",
     "output_type": "stream",
     "text": [
      "\r\n",
      "Training with LBFGS:  81%|████████▏ | 813/1000 [8:22:58<1:46:18, 34.11s/it]"
     ]
    },
    {
     "name": "stderr",
     "output_type": "stream",
     "text": [
      "\r\n",
      "Training with LBFGS:  81%|████████▏ | 814/1000 [8:23:32<1:45:43, 34.11s/it]"
     ]
    },
    {
     "name": "stderr",
     "output_type": "stream",
     "text": [
      "\r\n",
      "Training with LBFGS:  82%|████████▏ | 815/1000 [8:24:06<1:45:10, 34.11s/it]"
     ]
    },
    {
     "name": "stderr",
     "output_type": "stream",
     "text": [
      "\r\n",
      "Training with LBFGS:  82%|████████▏ | 816/1000 [8:24:40<1:44:36, 34.11s/it]"
     ]
    },
    {
     "name": "stderr",
     "output_type": "stream",
     "text": [
      "\r\n",
      "Training with LBFGS:  82%|████████▏ | 817/1000 [8:25:15<1:44:02, 34.11s/it]"
     ]
    },
    {
     "name": "stderr",
     "output_type": "stream",
     "text": [
      "\r\n",
      "Training with LBFGS:  82%|████████▏ | 818/1000 [8:25:49<1:43:28, 34.11s/it]"
     ]
    },
    {
     "name": "stderr",
     "output_type": "stream",
     "text": [
      "\r\n",
      "Training with LBFGS:  82%|████████▏ | 819/1000 [8:26:23<1:42:53, 34.11s/it]"
     ]
    },
    {
     "name": "stderr",
     "output_type": "stream",
     "text": [
      "\r\n",
      "Training with LBFGS:  82%|████████▏ | 820/1000 [8:26:57<1:42:19, 34.11s/it]"
     ]
    },
    {
     "name": "stderr",
     "output_type": "stream",
     "text": [
      "\r\n",
      "Training with LBFGS:  82%|████████▏ | 821/1000 [8:27:31<1:41:45, 34.11s/it]"
     ]
    },
    {
     "name": "stderr",
     "output_type": "stream",
     "text": [
      "\r\n",
      "Training with LBFGS:  82%|████████▏ | 822/1000 [8:28:05<1:41:11, 34.11s/it]"
     ]
    },
    {
     "name": "stderr",
     "output_type": "stream",
     "text": [
      "\r\n",
      "Training with LBFGS:  82%|████████▏ | 823/1000 [8:28:39<1:40:37, 34.11s/it]"
     ]
    },
    {
     "name": "stderr",
     "output_type": "stream",
     "text": [
      "\r\n",
      "Training with LBFGS:  82%|████████▏ | 824/1000 [8:29:13<1:40:02, 34.11s/it]"
     ]
    },
    {
     "name": "stderr",
     "output_type": "stream",
     "text": [
      "\r\n",
      "Training with LBFGS:  82%|████████▎ | 825/1000 [8:29:47<1:39:28, 34.10s/it]"
     ]
    },
    {
     "name": "stderr",
     "output_type": "stream",
     "text": [
      "\r\n",
      "Training with LBFGS:  83%|████████▎ | 826/1000 [8:30:22<1:38:53, 34.10s/it]"
     ]
    },
    {
     "name": "stderr",
     "output_type": "stream",
     "text": [
      "\r\n",
      "Training with LBFGS:  83%|████████▎ | 827/1000 [8:30:56<1:38:19, 34.10s/it]"
     ]
    },
    {
     "name": "stderr",
     "output_type": "stream",
     "text": [
      "\r\n",
      "Training with LBFGS:  83%|████████▎ | 828/1000 [8:31:30<1:37:45, 34.10s/it]"
     ]
    },
    {
     "name": "stderr",
     "output_type": "stream",
     "text": [
      "\r\n",
      "Training with LBFGS:  83%|████████▎ | 829/1000 [8:32:04<1:37:12, 34.11s/it]"
     ]
    },
    {
     "name": "stderr",
     "output_type": "stream",
     "text": [
      "\r\n",
      "Training with LBFGS:  83%|████████▎ | 830/1000 [8:32:38<1:36:38, 34.11s/it]"
     ]
    },
    {
     "name": "stderr",
     "output_type": "stream",
     "text": [
      "\r\n",
      "Training with LBFGS:  83%|████████▎ | 831/1000 [8:33:12<1:36:04, 34.11s/it]"
     ]
    },
    {
     "name": "stderr",
     "output_type": "stream",
     "text": [
      "\r\n",
      "Training with LBFGS:  83%|████████▎ | 832/1000 [8:33:46<1:35:31, 34.12s/it]"
     ]
    },
    {
     "name": "stderr",
     "output_type": "stream",
     "text": [
      "\r\n",
      "Training with LBFGS:  83%|████████▎ | 833/1000 [8:34:20<1:34:57, 34.12s/it]"
     ]
    },
    {
     "name": "stderr",
     "output_type": "stream",
     "text": [
      "\r\n",
      "Training with LBFGS:  83%|████████▎ | 834/1000 [8:34:54<1:34:23, 34.12s/it]"
     ]
    },
    {
     "name": "stderr",
     "output_type": "stream",
     "text": [
      "\r\n",
      "Training with LBFGS:  84%|████████▎ | 835/1000 [8:35:29<1:33:49, 34.12s/it]"
     ]
    },
    {
     "name": "stderr",
     "output_type": "stream",
     "text": [
      "\r\n",
      "Training with LBFGS:  84%|████████▎ | 836/1000 [8:36:03<1:33:15, 34.12s/it]"
     ]
    },
    {
     "name": "stderr",
     "output_type": "stream",
     "text": [
      "\r\n",
      "Training with LBFGS:  84%|████████▎ | 837/1000 [8:36:37<1:32:41, 34.12s/it]"
     ]
    },
    {
     "name": "stderr",
     "output_type": "stream",
     "text": [
      "\r\n",
      "Training with LBFGS:  84%|████████▍ | 838/1000 [8:37:11<1:32:07, 34.12s/it]"
     ]
    },
    {
     "name": "stderr",
     "output_type": "stream",
     "text": [
      "\r\n",
      "Training with LBFGS:  84%|████████▍ | 839/1000 [8:37:45<1:31:33, 34.12s/it]"
     ]
    },
    {
     "name": "stderr",
     "output_type": "stream",
     "text": [
      "\r\n",
      "Training with LBFGS:  84%|████████▍ | 840/1000 [8:38:19<1:30:58, 34.12s/it]"
     ]
    },
    {
     "name": "stderr",
     "output_type": "stream",
     "text": [
      "\r\n",
      "Training with LBFGS:  84%|████████▍ | 841/1000 [8:38:53<1:30:24, 34.12s/it]"
     ]
    },
    {
     "name": "stderr",
     "output_type": "stream",
     "text": [
      "\r\n",
      "Training with LBFGS:  84%|████████▍ | 842/1000 [8:39:27<1:29:49, 34.11s/it]"
     ]
    },
    {
     "name": "stderr",
     "output_type": "stream",
     "text": [
      "\r\n",
      "Training with LBFGS:  84%|████████▍ | 843/1000 [8:40:01<1:29:11, 34.09s/it]"
     ]
    },
    {
     "name": "stderr",
     "output_type": "stream",
     "text": [
      "\r\n",
      "Training with LBFGS:  84%|████████▍ | 844/1000 [8:40:36<1:28:38, 34.09s/it]"
     ]
    },
    {
     "name": "stderr",
     "output_type": "stream",
     "text": [
      "\r\n",
      "Training with LBFGS:  84%|████████▍ | 845/1000 [8:41:10<1:28:02, 34.08s/it]"
     ]
    },
    {
     "name": "stderr",
     "output_type": "stream",
     "text": [
      "\r\n",
      "Training with LBFGS:  85%|████████▍ | 846/1000 [8:41:44<1:27:29, 34.09s/it]"
     ]
    },
    {
     "name": "stderr",
     "output_type": "stream",
     "text": [
      "\r\n",
      "Training with LBFGS:  85%|████████▍ | 847/1000 [8:42:18<1:26:57, 34.10s/it]"
     ]
    },
    {
     "name": "stderr",
     "output_type": "stream",
     "text": [
      "\r\n",
      "Training with LBFGS:  85%|████████▍ | 848/1000 [8:42:52<1:26:23, 34.10s/it]"
     ]
    },
    {
     "name": "stderr",
     "output_type": "stream",
     "text": [
      "\r\n",
      "Training with LBFGS:  85%|████████▍ | 849/1000 [8:43:26<1:25:50, 34.11s/it]"
     ]
    },
    {
     "name": "stderr",
     "output_type": "stream",
     "text": [
      "\r\n",
      "Training with LBFGS:  85%|████████▌ | 850/1000 [8:44:00<1:25:16, 34.11s/it]"
     ]
    },
    {
     "name": "stderr",
     "output_type": "stream",
     "text": [
      "\r\n",
      "Training with LBFGS:  85%|████████▌ | 851/1000 [8:44:34<1:24:42, 34.11s/it]"
     ]
    },
    {
     "name": "stderr",
     "output_type": "stream",
     "text": [
      "\r\n",
      "Training with LBFGS:  85%|████████▌ | 852/1000 [8:45:08<1:24:08, 34.11s/it]"
     ]
    },
    {
     "name": "stderr",
     "output_type": "stream",
     "text": [
      "\r\n",
      "Training with LBFGS:  85%|████████▌ | 853/1000 [8:45:43<1:23:34, 34.11s/it]"
     ]
    },
    {
     "name": "stderr",
     "output_type": "stream",
     "text": [
      "\r\n",
      "Training with LBFGS:  85%|████████▌ | 854/1000 [8:46:17<1:23:00, 34.11s/it]"
     ]
    },
    {
     "name": "stderr",
     "output_type": "stream",
     "text": [
      "\r\n",
      "Training with LBFGS:  86%|████████▌ | 855/1000 [8:46:51<1:22:26, 34.11s/it]"
     ]
    },
    {
     "name": "stderr",
     "output_type": "stream",
     "text": [
      "\r\n",
      "Training with LBFGS:  86%|████████▌ | 856/1000 [8:47:25<1:21:52, 34.11s/it]"
     ]
    },
    {
     "name": "stderr",
     "output_type": "stream",
     "text": [
      "\r\n",
      "Training with LBFGS:  86%|████████▌ | 857/1000 [8:47:59<1:21:18, 34.11s/it]"
     ]
    },
    {
     "name": "stderr",
     "output_type": "stream",
     "text": [
      "\r\n",
      "Training with LBFGS:  86%|████████▌ | 858/1000 [8:48:33<1:20:44, 34.11s/it]"
     ]
    },
    {
     "name": "stderr",
     "output_type": "stream",
     "text": [
      "\r\n",
      "Training with LBFGS:  86%|████████▌ | 859/1000 [8:49:07<1:20:09, 34.11s/it]"
     ]
    },
    {
     "name": "stderr",
     "output_type": "stream",
     "text": [
      "\r\n",
      "Training with LBFGS:  86%|████████▌ | 860/1000 [8:49:41<1:19:35, 34.11s/it]"
     ]
    },
    {
     "name": "stderr",
     "output_type": "stream",
     "text": [
      "\r\n",
      "Training with LBFGS:  86%|████████▌ | 861/1000 [8:50:15<1:19:02, 34.12s/it]"
     ]
    },
    {
     "name": "stderr",
     "output_type": "stream",
     "text": [
      "\r\n",
      "Training with LBFGS:  86%|████████▌ | 862/1000 [8:50:50<1:18:27, 34.12s/it]"
     ]
    },
    {
     "name": "stderr",
     "output_type": "stream",
     "text": [
      "\r\n",
      "Training with LBFGS:  86%|████████▋ | 863/1000 [8:51:24<1:17:53, 34.12s/it]"
     ]
    },
    {
     "name": "stderr",
     "output_type": "stream",
     "text": [
      "\r\n",
      "Training with LBFGS:  86%|████████▋ | 864/1000 [8:51:58<1:17:19, 34.11s/it]"
     ]
    },
    {
     "name": "stderr",
     "output_type": "stream",
     "text": [
      "\r\n",
      "Training with LBFGS:  86%|████████▋ | 865/1000 [8:52:32<1:16:45, 34.11s/it]"
     ]
    },
    {
     "name": "stderr",
     "output_type": "stream",
     "text": [
      "\r\n",
      "Training with LBFGS:  87%|████████▋ | 866/1000 [8:53:06<1:16:11, 34.11s/it]"
     ]
    },
    {
     "name": "stderr",
     "output_type": "stream",
     "text": [
      "\r\n",
      "Training with LBFGS:  87%|████████▋ | 867/1000 [8:53:40<1:15:36, 34.11s/it]"
     ]
    },
    {
     "name": "stderr",
     "output_type": "stream",
     "text": [
      "\r\n",
      "Training with LBFGS:  87%|████████▋ | 868/1000 [8:54:14<1:15:03, 34.11s/it]"
     ]
    },
    {
     "name": "stderr",
     "output_type": "stream",
     "text": [
      "\r\n",
      "Training with LBFGS:  87%|████████▋ | 869/1000 [8:54:48<1:14:29, 34.12s/it]"
     ]
    },
    {
     "name": "stderr",
     "output_type": "stream",
     "text": [
      "\r\n",
      "Training with LBFGS:  87%|████████▋ | 870/1000 [8:55:22<1:13:55, 34.12s/it]"
     ]
    },
    {
     "name": "stderr",
     "output_type": "stream",
     "text": [
      "\r\n",
      "Training with LBFGS:  87%|████████▋ | 871/1000 [8:55:57<1:13:21, 34.12s/it]"
     ]
    },
    {
     "name": "stderr",
     "output_type": "stream",
     "text": [
      "\r\n",
      "Training with LBFGS:  87%|████████▋ | 872/1000 [8:56:31<1:12:47, 34.12s/it]"
     ]
    },
    {
     "name": "stderr",
     "output_type": "stream",
     "text": [
      "\r\n",
      "Training with LBFGS:  87%|████████▋ | 873/1000 [8:57:05<1:12:12, 34.12s/it]"
     ]
    },
    {
     "name": "stderr",
     "output_type": "stream",
     "text": [
      "\r\n",
      "Training with LBFGS:  87%|████████▋ | 874/1000 [8:57:39<1:11:38, 34.12s/it]"
     ]
    },
    {
     "name": "stderr",
     "output_type": "stream",
     "text": [
      "\r\n",
      "Training with LBFGS:  88%|████████▊ | 875/1000 [8:58:13<1:11:04, 34.12s/it]"
     ]
    },
    {
     "name": "stderr",
     "output_type": "stream",
     "text": [
      "\r\n",
      "Training with LBFGS:  88%|████████▊ | 876/1000 [8:58:47<1:10:30, 34.12s/it]"
     ]
    },
    {
     "name": "stderr",
     "output_type": "stream",
     "text": [
      "\r\n",
      "Training with LBFGS:  88%|████████▊ | 877/1000 [8:59:21<1:09:56, 34.12s/it]"
     ]
    },
    {
     "name": "stderr",
     "output_type": "stream",
     "text": [
      "\r\n",
      "Training with LBFGS:  88%|████████▊ | 878/1000 [8:59:55<1:09:22, 34.12s/it]"
     ]
    },
    {
     "name": "stderr",
     "output_type": "stream",
     "text": [
      "\r\n",
      "Training with LBFGS:  88%|████████▊ | 879/1000 [9:00:29<1:08:46, 34.11s/it]"
     ]
    },
    {
     "name": "stderr",
     "output_type": "stream",
     "text": [
      "\r\n",
      "Training with LBFGS:  88%|████████▊ | 880/1000 [9:01:04<1:08:11, 34.10s/it]"
     ]
    },
    {
     "name": "stderr",
     "output_type": "stream",
     "text": [
      "\r\n",
      "Training with LBFGS:  88%|████████▊ | 881/1000 [9:01:38<1:07:38, 34.10s/it]"
     ]
    },
    {
     "name": "stderr",
     "output_type": "stream",
     "text": [
      "\r\n",
      "Training with LBFGS:  88%|████████▊ | 882/1000 [9:02:12<1:07:04, 34.11s/it]"
     ]
    },
    {
     "name": "stderr",
     "output_type": "stream",
     "text": [
      "\r\n",
      "Training with LBFGS:  88%|████████▊ | 883/1000 [9:02:46<1:06:31, 34.11s/it]"
     ]
    },
    {
     "name": "stderr",
     "output_type": "stream",
     "text": [
      "\r\n",
      "Training with LBFGS:  88%|████████▊ | 884/1000 [9:03:20<1:05:57, 34.11s/it]"
     ]
    },
    {
     "name": "stderr",
     "output_type": "stream",
     "text": [
      "\r\n",
      "Training with LBFGS:  88%|████████▊ | 885/1000 [9:03:54<1:05:23, 34.11s/it]"
     ]
    },
    {
     "name": "stderr",
     "output_type": "stream",
     "text": [
      "\r\n",
      "Training with LBFGS:  89%|████████▊ | 886/1000 [9:04:28<1:04:48, 34.11s/it]"
     ]
    },
    {
     "name": "stderr",
     "output_type": "stream",
     "text": [
      "\r\n",
      "Training with LBFGS:  89%|████████▊ | 887/1000 [9:05:02<1:04:14, 34.11s/it]"
     ]
    },
    {
     "name": "stderr",
     "output_type": "stream",
     "text": [
      "\r\n",
      "Training with LBFGS:  89%|████████▉ | 888/1000 [9:05:36<1:03:40, 34.11s/it]"
     ]
    },
    {
     "name": "stderr",
     "output_type": "stream",
     "text": [
      "\r\n",
      "Training with LBFGS:  89%|████████▉ | 889/1000 [9:06:11<1:03:05, 34.11s/it]"
     ]
    },
    {
     "name": "stderr",
     "output_type": "stream",
     "text": [
      "\r\n",
      "Training with LBFGS:  89%|████████▉ | 890/1000 [9:06:45<1:02:28, 34.08s/it]"
     ]
    },
    {
     "name": "stderr",
     "output_type": "stream",
     "text": [
      "\r\n",
      "Training with LBFGS:  89%|████████▉ | 891/1000 [9:07:19<1:01:56, 34.10s/it]"
     ]
    },
    {
     "name": "stderr",
     "output_type": "stream",
     "text": [
      "\r\n",
      "Training with LBFGS:  89%|████████▉ | 892/1000 [9:07:53<1:01:23, 34.11s/it]"
     ]
    },
    {
     "name": "stderr",
     "output_type": "stream",
     "text": [
      "\r\n",
      "Training with LBFGS:  89%|████████▉ | 893/1000 [9:08:27<1:00:49, 34.11s/it]"
     ]
    },
    {
     "name": "stderr",
     "output_type": "stream",
     "text": [
      "\r\n",
      "Training with LBFGS:  89%|████████▉ | 894/1000 [9:09:01<1:00:15, 34.11s/it]"
     ]
    },
    {
     "name": "stderr",
     "output_type": "stream",
     "text": [
      "\r\n",
      "Training with LBFGS:  90%|████████▉ | 895/1000 [9:09:35<59:41, 34.11s/it]  "
     ]
    },
    {
     "name": "stderr",
     "output_type": "stream",
     "text": [
      "\r\n",
      "Training with LBFGS:  90%|████████▉ | 896/1000 [9:10:09<59:07, 34.11s/it]"
     ]
    },
    {
     "name": "stderr",
     "output_type": "stream",
     "text": [
      "\r\n",
      "Training with LBFGS:  90%|████████▉ | 897/1000 [9:10:43<58:34, 34.12s/it]"
     ]
    },
    {
     "name": "stderr",
     "output_type": "stream",
     "text": [
      "\r\n",
      "Training with LBFGS:  90%|████████▉ | 898/1000 [9:11:18<57:59, 34.11s/it]"
     ]
    },
    {
     "name": "stderr",
     "output_type": "stream",
     "text": [
      "\r\n",
      "Training with LBFGS:  90%|████████▉ | 899/1000 [9:11:52<57:25, 34.12s/it]"
     ]
    },
    {
     "name": "stderr",
     "output_type": "stream",
     "text": [
      "\r\n",
      "Training with LBFGS:  90%|█████████ | 900/1000 [9:12:26<56:51, 34.12s/it]"
     ]
    },
    {
     "name": "stderr",
     "output_type": "stream",
     "text": [
      "\r\n",
      "Training with LBFGS:  90%|█████████ | 901/1000 [9:13:00<56:17, 34.12s/it]"
     ]
    },
    {
     "name": "stderr",
     "output_type": "stream",
     "text": [
      "\r\n",
      "Training with LBFGS:  90%|█████████ | 902/1000 [9:13:34<55:43, 34.12s/it]"
     ]
    },
    {
     "name": "stderr",
     "output_type": "stream",
     "text": [
      "\r\n",
      "Training with LBFGS:  90%|█████████ | 903/1000 [9:14:08<55:08, 34.11s/it]"
     ]
    },
    {
     "name": "stderr",
     "output_type": "stream",
     "text": [
      "\r\n",
      "Training with LBFGS:  90%|█████████ | 904/1000 [9:14:42<54:32, 34.08s/it]"
     ]
    },
    {
     "name": "stderr",
     "output_type": "stream",
     "text": [
      "\r\n",
      "Training with LBFGS:  90%|█████████ | 905/1000 [9:15:16<53:58, 34.09s/it]"
     ]
    },
    {
     "name": "stderr",
     "output_type": "stream",
     "text": [
      "\r\n",
      "Training with LBFGS:  91%|█████████ | 906/1000 [9:15:50<53:25, 34.10s/it]"
     ]
    },
    {
     "name": "stderr",
     "output_type": "stream",
     "text": [
      "\r\n",
      "Training with LBFGS:  91%|█████████ | 907/1000 [9:16:24<52:51, 34.10s/it]"
     ]
    },
    {
     "name": "stderr",
     "output_type": "stream",
     "text": [
      "\r\n",
      "Training with LBFGS:  91%|█████████ | 908/1000 [9:16:59<52:18, 34.11s/it]"
     ]
    },
    {
     "name": "stderr",
     "output_type": "stream",
     "text": [
      "\r\n",
      "Training with LBFGS:  91%|█████████ | 909/1000 [9:17:33<51:44, 34.11s/it]"
     ]
    },
    {
     "name": "stderr",
     "output_type": "stream",
     "text": [
      "\r\n",
      "Training with LBFGS:  91%|█████████ | 910/1000 [9:18:07<51:10, 34.11s/it]"
     ]
    },
    {
     "name": "stderr",
     "output_type": "stream",
     "text": [
      "\r\n",
      "Training with LBFGS:  91%|█████████ | 911/1000 [9:18:41<50:36, 34.11s/it]"
     ]
    },
    {
     "name": "stderr",
     "output_type": "stream",
     "text": [
      "\r\n",
      "Training with LBFGS:  91%|█████████ | 912/1000 [9:19:15<50:02, 34.12s/it]"
     ]
    },
    {
     "name": "stderr",
     "output_type": "stream",
     "text": [
      "\r\n",
      "Training with LBFGS:  91%|█████████▏| 913/1000 [9:19:49<49:28, 34.12s/it]"
     ]
    },
    {
     "name": "stderr",
     "output_type": "stream",
     "text": [
      "\r\n",
      "Training with LBFGS:  91%|█████████▏| 914/1000 [9:20:23<48:54, 34.12s/it]"
     ]
    },
    {
     "name": "stderr",
     "output_type": "stream",
     "text": [
      "\r\n",
      "Training with LBFGS:  92%|█████████▏| 915/1000 [9:20:57<48:20, 34.12s/it]"
     ]
    },
    {
     "name": "stderr",
     "output_type": "stream",
     "text": [
      "\r\n",
      "Training with LBFGS:  92%|█████████▏| 916/1000 [9:21:32<47:46, 34.12s/it]"
     ]
    },
    {
     "name": "stderr",
     "output_type": "stream",
     "text": [
      "\r\n",
      "Training with LBFGS:  92%|█████████▏| 917/1000 [9:22:06<47:12, 34.12s/it]"
     ]
    },
    {
     "name": "stderr",
     "output_type": "stream",
     "text": [
      "\r\n",
      "Training with LBFGS:  92%|█████████▏| 918/1000 [9:22:40<46:37, 34.12s/it]"
     ]
    },
    {
     "name": "stderr",
     "output_type": "stream",
     "text": [
      "\r\n",
      "Training with LBFGS:  92%|█████████▏| 919/1000 [9:23:14<46:03, 34.12s/it]"
     ]
    },
    {
     "name": "stderr",
     "output_type": "stream",
     "text": [
      "\r\n",
      "Training with LBFGS:  92%|█████████▏| 920/1000 [9:23:48<45:29, 34.12s/it]"
     ]
    },
    {
     "name": "stderr",
     "output_type": "stream",
     "text": [
      "\r\n",
      "Training with LBFGS:  92%|█████████▏| 921/1000 [9:24:22<44:55, 34.11s/it]"
     ]
    },
    {
     "name": "stderr",
     "output_type": "stream",
     "text": [
      "\r\n",
      "Training with LBFGS:  92%|█████████▏| 922/1000 [9:24:56<44:21, 34.12s/it]"
     ]
    },
    {
     "name": "stderr",
     "output_type": "stream",
     "text": [
      "\r\n",
      "Training with LBFGS:  92%|█████████▏| 923/1000 [9:25:30<43:47, 34.12s/it]"
     ]
    },
    {
     "name": "stderr",
     "output_type": "stream",
     "text": [
      "\r\n",
      "Training with LBFGS:  92%|█████████▏| 924/1000 [9:26:05<43:12, 34.12s/it]"
     ]
    },
    {
     "name": "stderr",
     "output_type": "stream",
     "text": [
      "\r\n",
      "Training with LBFGS:  92%|█████████▎| 925/1000 [9:26:39<42:38, 34.12s/it]"
     ]
    },
    {
     "name": "stderr",
     "output_type": "stream",
     "text": [
      "\r\n",
      "Training with LBFGS:  93%|█████████▎| 926/1000 [9:27:13<42:04, 34.11s/it]"
     ]
    },
    {
     "name": "stderr",
     "output_type": "stream",
     "text": [
      "\r\n",
      "Training with LBFGS:  93%|█████████▎| 927/1000 [9:27:47<41:30, 34.11s/it]"
     ]
    },
    {
     "name": "stderr",
     "output_type": "stream",
     "text": [
      "\r\n",
      "Training with LBFGS:  93%|█████████▎| 928/1000 [9:28:21<40:56, 34.11s/it]"
     ]
    },
    {
     "name": "stderr",
     "output_type": "stream",
     "text": [
      "\r\n",
      "Training with LBFGS:  93%|█████████▎| 929/1000 [9:28:55<40:21, 34.11s/it]"
     ]
    },
    {
     "name": "stderr",
     "output_type": "stream",
     "text": [
      "\r\n",
      "Training with LBFGS:  93%|█████████▎| 930/1000 [9:29:29<39:48, 34.12s/it]"
     ]
    },
    {
     "name": "stderr",
     "output_type": "stream",
     "text": [
      "\r\n",
      "Training with LBFGS:  93%|█████████▎| 931/1000 [9:30:03<39:14, 34.12s/it]"
     ]
    },
    {
     "name": "stderr",
     "output_type": "stream",
     "text": [
      "\r\n",
      "Training with LBFGS:  93%|█████████▎| 932/1000 [9:30:37<38:40, 34.12s/it]"
     ]
    },
    {
     "name": "stderr",
     "output_type": "stream",
     "text": [
      "\r\n",
      "Training with LBFGS:  93%|█████████▎| 933/1000 [9:31:12<38:05, 34.12s/it]"
     ]
    },
    {
     "name": "stderr",
     "output_type": "stream",
     "text": [
      "\r\n",
      "Training with LBFGS:  93%|█████████▎| 934/1000 [9:31:46<37:31, 34.12s/it]"
     ]
    },
    {
     "name": "stderr",
     "output_type": "stream",
     "text": [
      "\r\n",
      "Training with LBFGS:  94%|█████████▎| 935/1000 [9:32:20<36:57, 34.12s/it]"
     ]
    },
    {
     "name": "stderr",
     "output_type": "stream",
     "text": [
      "\r\n",
      "Training with LBFGS:  94%|█████████▎| 936/1000 [9:32:54<36:23, 34.11s/it]"
     ]
    },
    {
     "name": "stderr",
     "output_type": "stream",
     "text": [
      "\r\n",
      "Training with LBFGS:  94%|█████████▎| 937/1000 [9:33:28<35:49, 34.12s/it]"
     ]
    },
    {
     "name": "stderr",
     "output_type": "stream",
     "text": [
      "\r\n",
      "Training with LBFGS:  94%|█████████▍| 938/1000 [9:34:02<35:15, 34.12s/it]"
     ]
    },
    {
     "name": "stderr",
     "output_type": "stream",
     "text": [
      "\r\n",
      "Training with LBFGS:  94%|█████████▍| 939/1000 [9:34:36<34:41, 34.12s/it]"
     ]
    },
    {
     "name": "stderr",
     "output_type": "stream",
     "text": [
      "\r\n",
      "Training with LBFGS:  94%|█████████▍| 940/1000 [9:35:10<34:07, 34.12s/it]"
     ]
    },
    {
     "name": "stderr",
     "output_type": "stream",
     "text": [
      "\r\n",
      "Training with LBFGS:  94%|█████████▍| 941/1000 [9:35:44<33:32, 34.12s/it]"
     ]
    },
    {
     "name": "stderr",
     "output_type": "stream",
     "text": [
      "\r\n",
      "Training with LBFGS:  94%|█████████▍| 942/1000 [9:36:19<32:58, 34.12s/it]"
     ]
    },
    {
     "name": "stderr",
     "output_type": "stream",
     "text": [
      "\r\n",
      "Training with LBFGS:  94%|█████████▍| 943/1000 [9:36:53<32:24, 34.11s/it]"
     ]
    },
    {
     "name": "stderr",
     "output_type": "stream",
     "text": [
      "\r\n",
      "Training with LBFGS:  94%|█████████▍| 944/1000 [9:37:27<31:48, 34.09s/it]"
     ]
    },
    {
     "name": "stderr",
     "output_type": "stream",
     "text": [
      "\r\n",
      "Training with LBFGS:  94%|█████████▍| 945/1000 [9:38:01<31:15, 34.10s/it]"
     ]
    },
    {
     "name": "stderr",
     "output_type": "stream",
     "text": [
      "\r\n",
      "Training with LBFGS:  95%|█████████▍| 946/1000 [9:38:35<30:41, 34.10s/it]"
     ]
    },
    {
     "name": "stderr",
     "output_type": "stream",
     "text": [
      "\r\n",
      "Training with LBFGS:  95%|█████████▍| 947/1000 [9:39:09<30:07, 34.10s/it]"
     ]
    },
    {
     "name": "stderr",
     "output_type": "stream",
     "text": [
      "\r\n",
      "Training with LBFGS:  95%|█████████▍| 948/1000 [9:39:43<29:33, 34.11s/it]"
     ]
    },
    {
     "name": "stderr",
     "output_type": "stream",
     "text": [
      "\r\n",
      "Training with LBFGS:  95%|█████████▍| 949/1000 [9:40:17<28:59, 34.11s/it]"
     ]
    },
    {
     "name": "stderr",
     "output_type": "stream",
     "text": [
      "\r\n",
      "Training with LBFGS:  95%|█████████▌| 950/1000 [9:40:51<28:25, 34.11s/it]"
     ]
    },
    {
     "name": "stderr",
     "output_type": "stream",
     "text": [
      "\r\n",
      "Training with LBFGS:  95%|█████████▌| 951/1000 [9:41:26<27:51, 34.12s/it]"
     ]
    },
    {
     "name": "stderr",
     "output_type": "stream",
     "text": [
      "\r\n",
      "Training with LBFGS:  95%|█████████▌| 952/1000 [9:42:00<27:17, 34.12s/it]"
     ]
    },
    {
     "name": "stderr",
     "output_type": "stream",
     "text": [
      "\r\n",
      "Training with LBFGS:  95%|█████████▌| 953/1000 [9:42:34<26:43, 34.12s/it]"
     ]
    },
    {
     "name": "stderr",
     "output_type": "stream",
     "text": [
      "\r\n",
      "Training with LBFGS:  95%|█████████▌| 954/1000 [9:43:08<26:09, 34.12s/it]"
     ]
    },
    {
     "name": "stderr",
     "output_type": "stream",
     "text": [
      "\r\n",
      "Training with LBFGS:  96%|█████████▌| 955/1000 [9:43:42<25:35, 34.11s/it]"
     ]
    },
    {
     "name": "stderr",
     "output_type": "stream",
     "text": [
      "\r\n",
      "Training with LBFGS:  96%|█████████▌| 956/1000 [9:44:16<25:01, 34.12s/it]"
     ]
    },
    {
     "name": "stderr",
     "output_type": "stream",
     "text": [
      "\r\n",
      "Training with LBFGS:  96%|█████████▌| 957/1000 [9:44:50<24:26, 34.12s/it]"
     ]
    },
    {
     "name": "stderr",
     "output_type": "stream",
     "text": [
      "\r\n",
      "Training with LBFGS:  96%|█████████▌| 958/1000 [9:45:24<23:52, 34.12s/it]"
     ]
    },
    {
     "name": "stderr",
     "output_type": "stream",
     "text": [
      "\r\n",
      "Training with LBFGS:  96%|█████████▌| 959/1000 [9:45:58<23:18, 34.12s/it]"
     ]
    },
    {
     "name": "stderr",
     "output_type": "stream",
     "text": [
      "\r\n",
      "Training with LBFGS:  96%|█████████▌| 960/1000 [9:46:33<22:44, 34.12s/it]"
     ]
    },
    {
     "name": "stderr",
     "output_type": "stream",
     "text": [
      "\r\n",
      "Training with LBFGS:  96%|█████████▌| 961/1000 [9:47:07<22:10, 34.12s/it]"
     ]
    },
    {
     "name": "stderr",
     "output_type": "stream",
     "text": [
      "\r\n",
      "Training with LBFGS:  96%|█████████▌| 962/1000 [9:47:41<21:36, 34.11s/it]"
     ]
    },
    {
     "name": "stderr",
     "output_type": "stream",
     "text": [
      "\r\n",
      "Training with LBFGS:  96%|█████████▋| 963/1000 [9:48:15<21:02, 34.11s/it]"
     ]
    },
    {
     "name": "stderr",
     "output_type": "stream",
     "text": [
      "\r\n",
      "Training with LBFGS:  96%|█████████▋| 964/1000 [9:48:49<20:28, 34.12s/it]"
     ]
    },
    {
     "name": "stderr",
     "output_type": "stream",
     "text": [
      "\r\n",
      "Training with LBFGS:  96%|█████████▋| 965/1000 [9:49:23<19:53, 34.11s/it]"
     ]
    },
    {
     "name": "stderr",
     "output_type": "stream",
     "text": [
      "\r\n",
      "Training with LBFGS:  97%|█████████▋| 966/1000 [9:49:57<19:20, 34.12s/it]"
     ]
    },
    {
     "name": "stderr",
     "output_type": "stream",
     "text": [
      "\r\n",
      "Training with LBFGS:  97%|█████████▋| 967/1000 [9:50:31<18:45, 34.12s/it]"
     ]
    },
    {
     "name": "stderr",
     "output_type": "stream",
     "text": [
      "\r\n",
      "Training with LBFGS:  97%|█████████▋| 968/1000 [9:51:06<18:11, 34.12s/it]"
     ]
    },
    {
     "name": "stderr",
     "output_type": "stream",
     "text": [
      "\r\n",
      "Training with LBFGS:  97%|█████████▋| 969/1000 [9:51:40<17:37, 34.12s/it]"
     ]
    },
    {
     "name": "stderr",
     "output_type": "stream",
     "text": [
      "\r\n",
      "Training with LBFGS:  97%|█████████▋| 970/1000 [9:52:14<17:03, 34.12s/it]"
     ]
    },
    {
     "name": "stderr",
     "output_type": "stream",
     "text": [
      "\r\n",
      "Training with LBFGS:  97%|█████████▋| 971/1000 [9:52:48<16:29, 34.12s/it]"
     ]
    },
    {
     "name": "stderr",
     "output_type": "stream",
     "text": [
      "\r\n",
      "Training with LBFGS:  97%|█████████▋| 972/1000 [9:53:22<15:55, 34.12s/it]"
     ]
    },
    {
     "name": "stderr",
     "output_type": "stream",
     "text": [
      "\r\n",
      "Training with LBFGS:  97%|█████████▋| 973/1000 [9:53:56<15:21, 34.12s/it]"
     ]
    },
    {
     "name": "stderr",
     "output_type": "stream",
     "text": [
      "\r\n",
      "Training with LBFGS:  97%|█████████▋| 974/1000 [9:54:30<14:47, 34.12s/it]"
     ]
    },
    {
     "name": "stderr",
     "output_type": "stream",
     "text": [
      "\r\n",
      "Training with LBFGS:  98%|█████████▊| 975/1000 [9:55:04<14:12, 34.12s/it]"
     ]
    },
    {
     "name": "stderr",
     "output_type": "stream",
     "text": [
      "\r\n",
      "Training with LBFGS:  98%|█████████▊| 976/1000 [9:55:38<13:38, 34.12s/it]"
     ]
    },
    {
     "name": "stderr",
     "output_type": "stream",
     "text": [
      "\r\n",
      "Training with LBFGS:  98%|█████████▊| 977/1000 [9:56:13<13:04, 34.12s/it]"
     ]
    },
    {
     "name": "stderr",
     "output_type": "stream",
     "text": [
      "\r\n",
      "Training with LBFGS:  98%|█████████▊| 978/1000 [9:56:47<12:30, 34.11s/it]"
     ]
    },
    {
     "name": "stderr",
     "output_type": "stream",
     "text": [
      "\r\n",
      "Training with LBFGS:  98%|█████████▊| 979/1000 [9:57:21<11:56, 34.12s/it]"
     ]
    },
    {
     "name": "stderr",
     "output_type": "stream",
     "text": [
      "\r\n",
      "Training with LBFGS:  98%|█████████▊| 980/1000 [9:57:55<11:22, 34.12s/it]"
     ]
    },
    {
     "name": "stderr",
     "output_type": "stream",
     "text": [
      "\r\n",
      "Training with LBFGS:  98%|█████████▊| 981/1000 [9:58:29<10:48, 34.12s/it]"
     ]
    },
    {
     "name": "stderr",
     "output_type": "stream",
     "text": [
      "\r\n",
      "Training with LBFGS:  98%|█████████▊| 982/1000 [9:59:03<10:14, 34.12s/it]"
     ]
    },
    {
     "name": "stderr",
     "output_type": "stream",
     "text": [
      "\r\n",
      "Training with LBFGS:  98%|█████████▊| 983/1000 [9:59:37<09:39, 34.12s/it]"
     ]
    },
    {
     "name": "stderr",
     "output_type": "stream",
     "text": [
      "\r\n",
      "Training with LBFGS:  98%|█████████▊| 984/1000 [10:00:11<09:05, 34.11s/it]"
     ]
    },
    {
     "name": "stderr",
     "output_type": "stream",
     "text": [
      "\r\n",
      "Training with LBFGS:  98%|█████████▊| 985/1000 [10:00:45<08:31, 34.12s/it]"
     ]
    },
    {
     "name": "stderr",
     "output_type": "stream",
     "text": [
      "\r\n",
      "Training with LBFGS:  99%|█████████▊| 986/1000 [10:01:20<07:57, 34.12s/it]"
     ]
    },
    {
     "name": "stderr",
     "output_type": "stream",
     "text": [
      "\r\n",
      "Training with LBFGS:  99%|█████████▊| 987/1000 [10:01:54<07:23, 34.12s/it]"
     ]
    },
    {
     "name": "stderr",
     "output_type": "stream",
     "text": [
      "\r\n",
      "Training with LBFGS:  99%|█████████▉| 988/1000 [10:02:28<06:49, 34.12s/it]"
     ]
    },
    {
     "name": "stderr",
     "output_type": "stream",
     "text": [
      "\r\n",
      "Training with LBFGS:  99%|█████████▉| 989/1000 [10:03:02<06:15, 34.12s/it]"
     ]
    },
    {
     "name": "stderr",
     "output_type": "stream",
     "text": [
      "\r\n",
      "Training with LBFGS:  99%|█████████▉| 990/1000 [10:03:36<05:41, 34.12s/it]"
     ]
    },
    {
     "name": "stderr",
     "output_type": "stream",
     "text": [
      "\r\n",
      "Training with LBFGS:  99%|█████████▉| 991/1000 [10:04:10<05:07, 34.11s/it]"
     ]
    },
    {
     "name": "stderr",
     "output_type": "stream",
     "text": [
      "\r\n",
      "Training with LBFGS:  99%|█████████▉| 992/1000 [10:04:44<04:32, 34.12s/it]"
     ]
    },
    {
     "name": "stderr",
     "output_type": "stream",
     "text": [
      "\r\n",
      "Training with LBFGS:  99%|█████████▉| 993/1000 [10:05:18<03:58, 34.12s/it]"
     ]
    },
    {
     "name": "stderr",
     "output_type": "stream",
     "text": [
      "\r\n",
      "Training with LBFGS:  99%|█████████▉| 994/1000 [10:05:53<03:24, 34.12s/it]"
     ]
    },
    {
     "name": "stderr",
     "output_type": "stream",
     "text": [
      "\r\n",
      "Training with LBFGS: 100%|█████████▉| 995/1000 [10:06:27<02:50, 34.11s/it]"
     ]
    },
    {
     "name": "stderr",
     "output_type": "stream",
     "text": [
      "\r\n",
      "Training with LBFGS: 100%|█████████▉| 996/1000 [10:07:01<02:16, 34.11s/it]"
     ]
    },
    {
     "name": "stderr",
     "output_type": "stream",
     "text": [
      "\r\n",
      "Training with LBFGS: 100%|█████████▉| 997/1000 [10:07:35<01:42, 34.10s/it]"
     ]
    },
    {
     "name": "stderr",
     "output_type": "stream",
     "text": [
      "\r\n",
      "Training with LBFGS: 100%|█████████▉| 998/1000 [10:08:09<01:08, 34.10s/it]"
     ]
    },
    {
     "name": "stderr",
     "output_type": "stream",
     "text": [
      "\r\n",
      "Training with LBFGS: 100%|█████████▉| 999/1000 [10:08:43<00:34, 34.11s/it]"
     ]
    },
    {
     "name": "stderr",
     "output_type": "stream",
     "text": [
      "\r\n",
      "Training with LBFGS: 100%|██████████| 1000/1000 [10:09:17<00:00, 34.11s/it]"
     ]
    },
    {
     "name": "stderr",
     "output_type": "stream",
     "text": [
      "\r\n",
      "Training with LBFGS: 100%|██████████| 1000/1000 [10:09:17<00:00, 36.56s/it]"
     ]
    },
    {
     "name": "stderr",
     "output_type": "stream",
     "text": [
      "\n"
     ]
    },
    {
     "name": "stdout",
     "output_type": "stream",
     "text": [
      "Training time: 36557.6737\n",
      "Error u: 5.400505e-01\n",
      "Error u : 5.400505e-01\n"
     ]
    }
   ],
   "source": [
    "#RAR-G方法，对1000个点，先选择10个点训练500次，然后每500次迭代重采样100个点，选出其中残差最大的10个点添加到训练点中；最后总共有1000个点，共训练10000次\n",
    "# seeds = [0, 1, 12, 33, 123, 321, 1234, 4321, 12345, 54321] #生成10个随机种子\n",
    "# seeds = [0]\n",
    "\n",
    "#设置噪声水平为0\n",
    "noise = 0.0        \n",
    "\n",
    "# Doman bounds，定义两个一维数组lb和ub，问题域是一个二维空间，其中 x 的范围是 -5 到 5，t 的范围是 0 到 π/2(竖着的)\n",
    "lb = np.array([-1.0, 0.0])\n",
    "ub = np.array([1.0, 1.0])\n",
    "#定义三个整数，分别表示初始条件点数量、边界条件点数量和配位点的数量（这些点用于训练神经网络）\n",
    "N0 = 500\n",
    "N_b = 100\n",
    "N_f = 5000\n",
    "\n",
    "\n",
    "#读取名为burgers_shock的Matlab文件，文件中的数据存储在data变量中。这里的路径也要随着设备的情况修改 \n",
    "data = scipy.io.loadmat('../data/AC.mat')\n",
    "#从data字典中取出变量tt和x的值，并转换为一维数组（flatten方法），最后tongg[:,None]将一维数组转换为二维数组\n",
    "t = data['tt'].flatten()[:,None]\n",
    "x = data['x'].flatten()[:,None]\n",
    "Exact = np.real(data['uu']).T #从data数据中取出usol的值，并取实部，最后转置，赋值给Exact\n",
    "#生成一个二位网络，X和T是输出的二维数组\n",
    "#这个点结果是X和T均为形状为[len(t),len(x)]的二维数组，X的每一行都是x，一共len(t)行，T的每一列都是t，一共len(x)列\n",
    "X, T = np.meshgrid(x,t)\n",
    "\n",
    "X_star = np.hstack((X.flatten()[:,None], T.flatten()[:,None]))  #按列堆叠数组，X_star是一个二维数组，其中第一列是X的展平，第二列是T的展平\n",
    "u_star = Exact.flatten()[:,None]    #对Exact_u使用flatten方法将其转换为一维数组，最后使用[:,None]将其转换为二维数组         \n",
    "\n",
    "###########################\n",
    "\n",
    "#从0~数组x的行数(256)中随机选择N0个数，replace=False表示不允许重复选择，最后将这N0个数赋值给idx_x\n",
    "idx_x = np.linspace(0, x.shape[0]-1, N0, dtype='int') #生成一个从0到x.shape[0]-1的等差数列，长度为x.shape[0]，数据类型为整型\n",
    "# idx_x = np.random.choice(x.shape[0], N0, replace=False)\n",
    "#从x中选择N0个对应的行(idx_x对应的行)，最后将这N0行赋值给x0\n",
    "x0 = x[idx_x,:]\n",
    "#从Exact_u中选择N0个对应的行(idx_x对应的行)的第一列元素，最后将这N0个元素赋值给u0\n",
    "# u0 = Exact[idx_x,0:1]\n",
    "u0 = Exact[0:1,idx_x].T\n",
    "\n",
    "#从0~数组t的行数中随机选择N_b个数，replace=False表示不允许重复选择，最后将这N_b个数赋值给idx_t\n",
    "idx_t = np.linspace(0, t.shape[0]-1, N_b, dtype='int') #生成一个从0到t.shape[0]-1的等差数列，长度为t.shape[0]，数据类型为整型\n",
    "# idx_t = np.random.choice(t.shape[0], N_b, replace=False)\n",
    "#从t中选择N_b个对应的行(idx_t对应的行)，最后将这N_b行赋值给tb\n",
    "tb = t[idx_t,:]\n",
    "\n",
    "error = [] #创建一个空列表，用于存储误差\n",
    "error_mae = [] #创建一个空列表，用于存储MAE值\n",
    "error_mse = [] #创建一个空列表，用于存储MSE值\n",
    "\n",
    "i = 0 #初始化i为0\n",
    "\n",
    "nIter = 0 #设置迭代次数为10000\n",
    "nIterLBFGS = 1000 #设置LBFGS迭代次数为500\n",
    "\n",
    "\n",
    "\n",
    "set_seed(0) #设置随机种子\n",
    "\n",
    "\n",
    "X_f = lb + (ub-lb)*lhs(2, N_f) #lhs函数采用拉丁超采样方法，生成一个近似均匀分布的多维样本点集，返回的是一个形状为（$N_f$，2）的数组，每一行都是一个2维的样本点，所有样本点都在[0,1]范围内，并对该样本集进行缩放，把每个样本从[0,1]区间缩放到[lb,ub]区域内，即得到了指定范围内均匀分布的样本$X_f$。\n",
    "\n",
    "\n",
    "\n",
    "#创建PINN模型并输入各种参数        \n",
    "model = PhysicsInformedNN(x0, u0, tb, X_f, lb, ub)\n",
    "\n",
    "\n",
    "\n",
    "#获取当前时间并赋值给start_time  \n",
    "start_time = time.time()   \n",
    "\n",
    "chaos = []\n",
    "chunchaos = [] #创建一个空列表，用于存储混沌度\n",
    "testerror = []\n",
    "\n",
    "for i in tqdm(range(nIter), desc='Training with Adam'):\n",
    "    model.train(1, 0) #每次迭代只训练一次，使用Adam优化器\n",
    "    u_chaos = calculate_chaos(model, X_star, num_iter=100) #计算混沌度，返回(N, 1)的数组\n",
    "    u_chunchaos = calculate_chunchaos(model, X_star, num_iter=100) #计算混沌度，返回(N, 1)的数组\n",
    "    chaos.append(u_chaos.mean()) #将混沌度添加到混沌度列表中\n",
    "    chunchaos.append(u_chunchaos.mean()) #将混沌度添加到混沌度列表中\n",
    "    u_pred = model.predict(X_star) #返回(N, 1)的Numpy数组\n",
    "    error_mae = np.mean(np.abs(u_star - u_pred)) #计算MAE\n",
    "    testerror.append(error_mae) #将MAE添加到测试误差列表中\n",
    "\n",
    "    \n",
    "for i in tqdm(range(nIterLBFGS), desc='Training with LBFGS'):\n",
    "    model.train(0, 1)\n",
    "    u_chaos = calculate_chaos(model, X_star, num_iter=100) #计算混沌度，返回(N, 1)的数组\n",
    "    u_chunchaos = calculate_chunchaos(model, X_star, num_iter=100) #计算混沌度，返回(N, 1)的数组\n",
    "    chaos.append(u_chaos.mean()) #将混沌度添加到混沌度列表中\n",
    "    chunchaos.append(u_chunchaos.mean()) #将混沌度添加到混沌度列表中\n",
    "    u_pred = model.predict(X_star) #返回(N, 1)的Numpy数组\n",
    "    error_mae = np.mean(np.abs(u_star - u_pred)) #计算MAE\n",
    "    testerror.append(error_mae) #将MAE添加到测试误差列表中\n",
    "\n",
    "\n",
    "\n",
    "\n",
    "#获取当前时间并减去start_time，得到训练时间并赋值给elapsed\n",
    "elapsed = time.time() - start_time                \n",
    "#打印训练所需时间\n",
    "print('Training time: %.4f' % (elapsed))\n",
    "\n",
    "\n",
    "\n",
    "\n",
    "\n",
    "#用训练好的模型进行预测，返回四个值（均为数组）    \n",
    "u_pred = model.predict(X_star)\n",
    "\n",
    "#计算误差（基于2范数）        \n",
    "error_u = np.linalg.norm(u_star-u_pred,2)/np.linalg.norm(u_star,2)\n",
    "\n",
    "#打印误差\n",
    "print('Error u: %e' % (error_u))\n",
    "\n",
    "#将误差添加到error列表中\n",
    "\n",
    "#计算误差（基于2范数）\n",
    "error.append(error_u) #计算误差，然后将误差添加到error列表中\n",
    "# 计算 MAE 和 MSE\n",
    "\n",
    "\n",
    "print('Error u : %e' % (np.linalg.norm(u_star-u_pred,2)/np.linalg.norm(u_star,2))) #打印误差  \n",
    "\n",
    "\n",
    "\n",
    "#使用griddata函数将X_star、u_pred、v_pred和h_pred插值到网格上，得到U_pred、V_pred和H_pred\n",
    "U_pred = griddata(X_star, u_pred.flatten(), (X, T), method='cubic')\n",
    "\n",
    " "
   ]
  },
  {
   "cell_type": "code",
   "execution_count": 9,
   "metadata": {
    "execution": {
     "iopub.execute_input": "2025-07-28T20:21:05.935544Z",
     "iopub.status.busy": "2025-07-28T20:21:05.935387Z",
     "iopub.status.idle": "2025-07-28T20:21:05.938677Z",
     "shell.execute_reply": "2025-07-28T20:21:05.938375Z"
    }
   },
   "outputs": [],
   "source": [
    "trainloss = torch.stack(model.loss_value).cpu().detach().numpy()\n"
   ]
  },
  {
   "cell_type": "code",
   "execution_count": 10,
   "metadata": {
    "execution": {
     "iopub.execute_input": "2025-07-28T20:21:05.939962Z",
     "iopub.status.busy": "2025-07-28T20:21:05.939718Z",
     "iopub.status.idle": "2025-07-28T20:21:06.080760Z",
     "shell.execute_reply": "2025-07-28T20:21:06.080430Z"
    }
   },
   "outputs": [
    {
     "name": "stdout",
     "output_type": "stream",
     "text": [
      "1000\n"
     ]
    },
    {
     "data": {
      "image/png": "[encoded data removed]",
      "text/plain": [
       "<Figure size 640x480 with 1 Axes>"
      ]
     },
     "metadata": {},
     "output_type": "display_data"
    }
   ],
   "source": [
    "print(len(trainloss))\n",
    "# print(trainloss)\n",
    "# 定义图例的标签\n",
    "labels = [\"Grid\"]\n",
    "\n",
    "# 创建一个新的图形\n",
    "plt.figure()\n",
    "\n",
    "# # 遍历所有的loss数据和标签\n",
    "# for loss, label in zip(trainloss, labels):\n",
    "#     # 绘制每个loss数据，并使用标签作为图例的条目\n",
    "#     plt.plot(loss, label=label)\n",
    "\n",
    "plt.plot(trainloss, label='train loss')\n",
    "\n",
    "# 添加图例，放在图像外\n",
    "plt.legend(bbox_to_anchor=(1.05, 1), loc='upper left')\n",
    "\n",
    "\n",
    "plt.xlim([0,len(trainloss)]) # 设置x轴的范围\n",
    "plt.yscale('log') #设置y轴为对数尺度，这样即使列表中有一些非常大的值，也不会影响其他值的可视化\n",
    "plt.xlabel('Iteration') # 设置x轴的标签\n",
    "plt.ylabel('Loss') # 设置y轴的标签\n",
    "plt.title('Loss vs. Iteration based on different methods of sampling') # 设置图形的标题\n",
    "# 显示图形\n",
    "plt.show()\n",
    "plt.show()"
   ]
  },
  {
   "cell_type": "code",
   "execution_count": 11,
   "metadata": {
    "execution": {
     "iopub.execute_input": "2025-07-28T20:21:06.081953Z",
     "iopub.status.busy": "2025-07-28T20:21:06.081856Z",
     "iopub.status.idle": "2025-07-28T20:21:06.319114Z",
     "shell.execute_reply": "2025-07-28T20:21:06.318806Z"
    }
   },
   "outputs": [
    {
     "name": "stdout",
     "output_type": "stream",
     "text": [
      "1000\n"
     ]
    },
    {
     "data": {
      "image/png": "[encoded data removed]",
      "text/plain": [
       "<Figure size 640x480 with 1 Axes>"
      ]
     },
     "metadata": {},
     "output_type": "display_data"
    }
   ],
   "source": [
    "print(len(testerror))\n",
    "# print(trainloss)\n",
    "# 定义图例的标签\n",
    "labels = [\"Grid\"]\n",
    "\n",
    "# 创建一个新的图形\n",
    "plt.figure()\n",
    "\n",
    "# # 遍历所有的loss数据和标签\n",
    "# for loss, label in zip(trainloss, labels):\n",
    "#     # 绘制每个loss数据，并使用标签作为图例的条目\n",
    "#     plt.plot(loss, label=label)\n",
    "\n",
    "plt.plot(trainloss, label='loss')\n",
    "plt.plot(testerror, label='error')\n",
    "plt.plot(chaos, label='chaos')\n",
    "plt.plot(chunchaos, label='chunchaos')\n",
    "\n",
    "# 添加图例，放在图像外\n",
    "plt.legend(bbox_to_anchor=(1.05, 1), loc='upper left')\n",
    "\n",
    "\n",
    "plt.xlim([0,len(trainloss)]) # 设置x轴的范围\n",
    "plt.yscale('log') #设置y轴为对数尺度，这样即使列表中有一些非常大的值，也不会影响其他值的可视化\n",
    "# plt.yscale('log') #设置y轴为对数尺度，这样即使列表中有一些非常大的值，也不会影响其他值的可视化\n",
    "plt.xlabel('Iteration') # 设置x轴的标签\n",
    "plt.ylabel('testerror') # 设置y轴的标签\n",
    "plt.title('testerror vs. Iteration based on different methods of sampling') # 设置图形的标题\n",
    "# 显示图形\n",
    "plt.show()"
   ]
  },
  {
   "cell_type": "code",
   "execution_count": 12,
   "metadata": {
    "execution": {
     "iopub.execute_input": "2025-07-28T20:21:06.320395Z",
     "iopub.status.busy": "2025-07-28T20:21:06.320289Z",
     "iopub.status.idle": "2025-07-28T20:21:06.378253Z",
     "shell.execute_reply": "2025-07-28T20:21:06.378052Z"
    }
   },
   "outputs": [
    {
     "name": "stdout",
     "output_type": "stream",
     "text": [
      "1000\n"
     ]
    },
    {
     "data": {
      "image/png": "[encoded data removed]",
      "text/plain": [
       "<Figure size 640x480 with 1 Axes>"
      ]
     },
     "metadata": {},
     "output_type": "display_data"
    }
   ],
   "source": [
    "print(len(testerror))\n",
    "# print(trainloss)\n",
    "# 定义图例的标签\n",
    "labels = [\"Grid\"]\n",
    "\n",
    "# 创建一个新的图形\n",
    "plt.figure()\n",
    "\n",
    "# # 遍历所有的loss数据和标签\n",
    "# for loss, label in zip(trainloss, labels):\n",
    "#     # 绘制每个loss数据，并使用标签作为图例的条目\n",
    "#     plt.plot(loss, label=label)\n",
    "\n",
    "plt.plot(trainloss, label='loss')\n",
    "plt.plot(testerror, label='error')\n",
    "plt.plot(chaos, label='chaos')\n",
    "plt.plot(chunchaos, label='chunchaos')\n",
    "\n",
    "# 添加图例，放在图像外\n",
    "plt.legend(bbox_to_anchor=(1.05, 1), loc='upper left')\n",
    "\n",
    "\n",
    "plt.xlim([0,len(trainloss)]) # 设置x轴的范围\n",
    "# plt.yscale('log') #设置y轴为对数尺度，这样即使列表中有一些非常大的值，也不会影响其他值的可视化\n",
    "# plt.yscale('log') #设置y轴为对数尺度，这样即使列表中有一些非常大的值，也不会影响其他值的可视化\n",
    "plt.xlabel('Iteration') # 设置x轴的标签\n",
    "plt.ylabel('testerror') # 设置y轴的标签\n",
    "plt.title('testerror vs. Iteration based on different methods of sampling') # 设置图形的标题\n",
    "# 显示图形\n",
    "plt.show()"
   ]
  },
  {
   "cell_type": "code",
   "execution_count": 13,
   "metadata": {
    "execution": {
     "iopub.execute_input": "2025-07-28T20:21:06.379565Z",
     "iopub.status.busy": "2025-07-28T20:21:06.379463Z",
     "iopub.status.idle": "2025-07-28T20:21:06.381424Z",
     "shell.execute_reply": "2025-07-28T20:21:06.381244Z"
    }
   },
   "outputs": [
    {
     "name": "stdout",
     "output_type": "stream",
     "text": [
      "数据已保存到 my_training_data.npz 文件中。\n"
     ]
    }
   ],
   "source": [
    "np.savez('my_training_data.npz', \n",
    "         trainloss=trainloss, \n",
    "         testerror=testerror, \n",
    "         chunchaos=chunchaos,\n",
    "         chaos=chaos)\n",
    "\n",
    "print(\"数据已保存到 my_training_data.npz 文件中。\")"
   ]
  },
  {
   "cell_type": "code",
   "execution_count": 2,
   "metadata": {
    "execution": {
     "iopub.execute_input": "2025-07-28T20:21:06.382586Z",
     "iopub.status.busy": "2025-07-28T20:21:06.382442Z",
     "iopub.status.idle": "2025-07-28T20:21:06.384807Z",
     "shell.execute_reply": "2025-07-28T20:21:06.384622Z"
    }
   },
   "outputs": [
    {
     "name": "stdout",
     "output_type": "stream",
     "text": [
      "加载的训练损失数据长度: 1000\n",
      "加载的测试误差数据长度: 1000\n"
     ]
    }
   ],
   "source": [
    "import numpy as np\n",
    "\n",
    "# 加载数据\n",
    "data = np.load('my_training_data.npz')\n",
    "\n",
    "# 通过保存时使用的键名来访问每个数组\n",
    "loaded_loss = data['trainloss']\n",
    "loaded_error = data['testerror']\n",
    "loaded_chaos = data['chaos']\n",
    "loaded_chunchaos = data['chunchaos']\n",
    "\n",
    "print(\"加载的训练损失数据长度:\", len(loaded_loss))\n",
    "print(\"加载的测试误差数据长度:\", len(loaded_error))\n",
    "\n",
    "# 现在你可以用加载的数据进行绘图或分析了"
   ]
  },
  {
   "cell_type": "code",
   "execution_count": 4,
   "metadata": {
    "execution": {
     "iopub.execute_input": "2025-07-28T20:21:06.385875Z",
     "iopub.status.busy": "2025-07-28T20:21:06.385755Z",
     "iopub.status.idle": "2025-07-28T20:21:06.560070Z",
     "shell.execute_reply": "2025-07-28T20:21:06.559864Z"
    }
   },
   "outputs": [
    {
     "data": {
      "image/png": "[encoded data removed]",
      "text/plain": [
       "<Figure size 640x480 with 1 Axes>"
      ]
     },
     "metadata": {},
     "output_type": "display_data"
    }
   ],
   "source": [
    "# print(len(testerror))\n",
    "# print(trainloss)\n",
    "# 定义图例的标签\n",
    "labels = [\"Grid\"]\n",
    "\n",
    "# 创建一个新的图形\n",
    "plt.figure()\n",
    "\n",
    "# # 遍历所有的loss数据和标签\n",
    "# for loss, label in zip(trainloss, labels):\n",
    "#     # 绘制每个loss数据，并使用标签作为图例的条目\n",
    "#     plt.plot(loss, label=label)\n",
    "\n",
    "plt.plot(loaded_loss, label='loss')\n",
    "plt.plot(loaded_error, label='error')\n",
    "plt.plot(loaded_chaos, label='chaos')\n",
    "plt.plot(loaded_chunchaos, label='chunchaos')\n",
    "\n",
    "# 添加图例，放在图像外\n",
    "plt.legend(bbox_to_anchor=(1.05, 1), loc='upper left')\n",
    "\n",
    "\n",
    "plt.xlim([0,len(loaded_loss)]) # 设置x轴的范围\n",
    "plt.yscale('log') #设置y轴为对数尺度，这样即使列表中有一些非常大的值，也不会影响其他值的可视化\n",
    "# plt.yscale('log') #设置y轴为对数尺度，这样即使列表中有一些非常大的值，也不会影响其他值的可视化\n",
    "plt.xlabel('Iteration') # 设置x轴的标签\n",
    "plt.ylabel('testerror') # 设置y轴的标签\n",
    "plt.title('testerror vs. Iteration based on different methods of sampling') # 设置图形的标题\n",
    "# 显示图形\n",
    "plt.show()"
   ]
  }
 ],
 "metadata": {
  "kernelspec": {
   "display_name": "lcytorch",
   "language": "python",
   "name": "python3"
  },
  "language_info": {
   "codemirror_mode": {
    "name": "ipython",
    "version": 3
   },
   "file_extension": ".py",
   "mimetype": "text/x-python",
   "name": "python",
   "nbconvert_exporter": "python",
   "pygments_lexer": "ipython3",
   "version": "3.10.13"
  }
 },
 "nbformat": 4,
 "nbformat_minor": 2
}
