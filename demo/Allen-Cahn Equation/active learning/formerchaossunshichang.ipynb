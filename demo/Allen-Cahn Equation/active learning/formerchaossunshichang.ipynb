{
 "cells": [
  {
   "cell_type": "code",
   "execution_count": 25,
   "metadata": {
    "execution": {
     "iopub.execute_input": "2025-08-07T16:04:54.294944Z",
     "iopub.status.busy": "2025-08-07T16:04:54.294858Z",
     "iopub.status.idle": "2025-08-07T16:04:55.318731Z",
     "shell.execute_reply": "2025-08-07T16:04:55.318375Z"
    }
   },
   "outputs": [],
   "source": [
    "\n",
    "import torch\n",
    "#collections是python一个内置模块，提供了一些有用的数据结构\n",
    "from collections import OrderedDict  #这个类是字典dict的一个子类，用于创建有序的字典。普通字典中元素顺序是无序的，在OrderedDict中元素的顺序是有序的，元素的顺序是按照它们被添加到字典中的顺序决定的。\n",
    "\n",
    "from pyDOE import lhs #`pyDOE`是一个Python库，用于设计实验。它提供了一些函数来生成各种设计，如因子设计、拉丁超立方设计等。`lhs`是库中的一个函数，全名为\"Latin Hypercube Sampling\"，拉丁超立方采样。这是一种统计方法，用于生成一个近似均匀分布的多维样本点集。它在参数空间中生成一个非常均匀的样本，这对于高维数值优化问题非常有用，因为它可以更好地覆盖参数空间。\n",
    "import numpy as np\n",
    "import matplotlib.pyplot as plt\n",
    "import scipy.io #导入了scipy库中的io模块。scipy.io模块包含了一些用于文件输入/输出的函数，例如读取和写入.mat文件（MATLAB格式）\n",
    "from scipy.interpolate import griddata #`scipy.interpolate`是`scipy`库中的一个模块，提供了许多插值工具，用于在给定的离散数据点之间进行插值和拟合。`griddata`是这个模块中的一个函数，用于在无规则的数据点上进行插值。\n",
    "\n",
    "import random\n",
    "\n",
    "import skopt #用于优化问题的库，特别是机器学习中的超参数优化\n",
    "from distutils.version import LooseVersion #distutils是Python的一个标准库，用于构建和安装Python包。LooseVersion是一个类，用于比较版本号\n",
    "\n",
    "\n",
    "# from plotting_torch import newfig, savefig #从自定义的plotting_torch.py文件中导入了newfig和savefig函数。这两个函数用于创建和保存图形。这两个函数的定义在plotting_torch.py文件中\n",
    "\n",
    "from mpl_toolkits.axes_grid1 import make_axes_locatable #`mpl_toolkits.axes_grid1`是`matplotlib`库的一个模块，提供了一些高级的工具来控制matplotlib图形中的坐标轴和颜色条。`make_axes_locatable`是模块中的一个函数，用于创建一个可分割的坐标轴。可以在这个坐标轴的四个方向（上、下、左、右）添加新的坐标轴或颜色条。\n",
    "import matplotlib.gridspec as gridspec #是`matplotlib`库的一个模块，用于创建一个网格布局来放置子图。在`matplotlib`中可以创建一个或多个子图（subplot），每个子图都有自己的坐标轴，并可以在其中绘制图形。`gridspec`模块提供了一个灵活的方式来创建和放置子图。\n",
    "import time #一个内置模块，用于处理时间相关的操作。\n",
    "\n",
    "\n",
    "from tqdm import tqdm #一个快速，可扩展的python进度条库，可以在python长循环中添加一个进度提示信息，用户只需要封装任意的迭代器tqdm(iterator)。\n",
    "\n",
    "import os\n",
    "import pickle\n",
    "\n",
    "import timeit #用于计时和测量小段代码的执行时间\n",
    "import seaborn as sns  # 导入seaborn库用于绘制密度图\n",
    "import pandas as pd #一个用于数据操作和分析的库，提供了数据结构和数据分析工具，特别是用于处理表格数据（类似于Excel中的数据表）\n",
    "\n",
    "import sys #导入sys模块。sys模块提供了一些变量和函数，用于与 Python解释器进行交互和访问。例如，sys.path 是一个 Python 在导入模块时会查找的路径列表，sys.argv 是一个包含命令行参数的列表，sys.exit() 函数可以用于退出 Python 程序。导入 sys 模块后，你就可以在你的程序中使用这些变量和函数了。\n",
    "sys.path.insert(0, '../../..') #在 Python的sys.path列表中插入一个新的路径。sys.path是一个 Python 在导入模块时会查找的路径列表。新的路径'../../Utilities/'相对于当前脚本的路径。当你尝试导入一个模块时，Python 会在 sys.path 列表中的路径下查找这个模块。通过在列表开始位置插入一个路径，你可以让 Python 优先在这个路径下查找模块。这在你需要导入自定义模块或者不在 Python 标准库中的模块时非常有用。\n",
    "from util import *"
   ]
  },
  {
   "cell_type": "code",
   "execution_count": null,
   "metadata": {
    "execution": {
     "iopub.execute_input": "2025-08-07T16:04:55.320779Z",
     "iopub.status.busy": "2025-08-07T16:04:55.320642Z",
     "iopub.status.idle": "2025-08-07T16:04:55.420291Z",
     "shell.execute_reply": "2025-08-07T16:04:55.419804Z"
    }
   },
   "outputs": [],
   "source": [
    "torch.cuda.set_device(1) #设置当前使用的GPU设备。这里设置为1号GPU设备（第二块显卡）。1\n",
    "\n",
    "# CUDA support \n",
    "\n",
    "#设置pytorch的设备，代表了在哪里执行张量积算，设备可以是cpu或者cuda（gpu），并将这个做运算的设备对象存储在变量device中，后续张量计算回在这个设备上执行\n",
    "if torch.cuda.is_available():\n",
    "    device = torch.device('cuda')\n",
    "else:\n",
    "    device = torch.device('cpu')"
   ]
  },
  {
   "cell_type": "code",
   "execution_count": 27,
   "metadata": {
    "execution": {
     "iopub.execute_input": "2025-08-07T16:04:55.421938Z",
     "iopub.status.busy": "2025-08-07T16:04:55.421842Z",
     "iopub.status.idle": "2025-08-07T16:04:55.429321Z",
     "shell.execute_reply": "2025-08-07T16:04:55.429016Z"
    }
   },
   "outputs": [],
   "source": [
    "# implementation of PINNsformer\n",
    "# paper: PINNsFormer: A Transformer-Based Framework For Physics-Informed Neural Networks\n",
    "# link: https://arxiv.org/abs/2307.11833\n",
    "\n",
    "import torch\n",
    "import torch.nn as nn\n",
    "import pdb\n",
    "\n",
    "from util import get_clones\n",
    "\n",
    "\n",
    "#自定义激活函数Wavelet：w1 * sin(x) + w2 * cos(x)\n",
    "class WaveAct(nn.Module):\n",
    "    def __init__(self):\n",
    "        super(WaveAct, self).__init__() \n",
    "        #自定义两个可学习参数w1和w2，初始化为1，训练过程中会更新这两个参数\n",
    "        self.w1 = nn.Parameter(torch.ones(1), requires_grad=True)\n",
    "        self.w2 = nn.Parameter(torch.ones(1), requires_grad=True)\n",
    "\n",
    "    def forward(self, x):\n",
    "        return self.w1 * torch.sin(x)+ self.w2 * torch.cos(x)\n",
    "\n",
    "#MLP组件，第一层形状为(d_model, d_ff)，第二层形状为(d_ff, d_ff)，第三层形状为(d_ff, d_model)，前两个使用自定义激活函数WaveAct\n",
    "class FeedForward(nn.Module):\n",
    "    def __init__(self, d_model, d_ff=256):\n",
    "        super(FeedForward, self).__init__() \n",
    "        self.linear = nn.Sequential(*[\n",
    "            nn.Linear(d_model, d_ff),\n",
    "            WaveAct(),\n",
    "            nn.Linear(d_ff, d_ff),\n",
    "            WaveAct(),\n",
    "            nn.Linear(d_ff, d_model)\n",
    "        ])\n",
    "\n",
    "    def forward(self, x):\n",
    "        return self.linear(x)\n",
    "\n",
    "#编码器层\n",
    "class EncoderLayer(nn.Module):\n",
    "    def __init__(self, d_model, heads):\n",
    "        super(EncoderLayer, self).__init__()\n",
    "        self.attn = nn.MultiheadAttention(embed_dim=d_model, num_heads=heads, batch_first=True) #多头注意力，设置嵌入维度为d_model，头数为heads，batch_first=True表示输入和输出tensor以(批量大小,序列长度,嵌入维度) 形式提供\n",
    "        self.ff = FeedForward(d_model) #MLP组件，输入和输出的形状均为d_model，隐藏层的形状为d_ff默认\n",
    "        self.act1 = WaveAct() #激活函数\n",
    "        self.act2 = WaveAct() #激活函数\n",
    "        \n",
    "    def forward(self, x): #形状为(点的数量，序列长度，d_model)\n",
    "        x2 = self.act1(x) #对输入x应用激活函数\n",
    "        # pdb.set_trace()\n",
    "        x = x + self.attn(x2,x2,x2)[0] #多头注意力机制，查询、键和值均为原始输入经过激活函数后的x2，然后使用残差连接原始输入得到自注意力的输出\n",
    "        x2 = self.act2(x) #对自注意力的输出应用激活函数\n",
    "        x = x + self.ff(x2) #将通过激活函数后的自注意力输出通过MLP组件后残差连接原始自注意力输出，得到编码器的输出\n",
    "        return x \n",
    "\n",
    "\n",
    "class DecoderLayer(nn.Module):\n",
    "    def __init__(self, d_model, heads):\n",
    "        super(DecoderLayer, self).__init__()\n",
    "        self.attn = nn.MultiheadAttention(embed_dim=d_model, num_heads=heads, batch_first=True) # 多头注意力，设置嵌入维度为d_model，头数为heads，batch_first=True表示输入和输出tensor以(批量大小,序列长度,嵌入维度) 形式提供\n",
    "        self.ff = FeedForward(d_model) #MLP组件，输入和输出的形状均为d_model，隐藏层的形状为d_ff默认\n",
    "        self.act1 = WaveAct() #激活函数\n",
    "        self.act2 = WaveAct() #激活函数\n",
    "\n",
    "    def forward(self, x, e_outputs): #输入形状为(点的数量，序列长度，d_model)，e_outputs为编码器的输出，形状也是为(点的数量，序列长度，d_model)\n",
    "        x2 = self.act1(x) #将解码器输入x通过激活函数\n",
    "        x = x + self.attn(x2, e_outputs, e_outputs)[0] #多头注意力机制，查询为解码器输入经过激活函数后的x2，键和值为编码器的输出e_outputs，然后使用残差连接原始输入得到自注意力的输出\n",
    "        x2 = self.act2(x) #将自注意力的输出通过激活函数\n",
    "        x = x + self.ff(x2) #将通过激活函数后的自注意力输出通过MLP组件后残差连接原始自注意力输出，得到解码器的输出\n",
    "        return x\n",
    "\n",
    "#编码器层，包含多个堆叠的编码器架构\n",
    "class Encoder(nn.Module):\n",
    "    def __init__(self, d_model, N, heads): #参数N代表编码器的头数，N代表包含几个编码器，d_model是数据的嵌入维度（用于每个编码器），heads是头的数量\n",
    "        super(Encoder, self).__init__()\n",
    "        self.N = N \n",
    "        self.layers = get_clones(EncoderLayer(d_model, heads), N) #N个编码器\n",
    "        self.act = WaveAct()\n",
    "\n",
    "    def forward(self, x): #输入一次通过N个编码器，x的形状为(点的数量，序列长度，d_model)\n",
    "        for i in range(self.N):\n",
    "            x = self.layers[i](x)\n",
    "        return self.act(x) #编码器的输出要经过激活函数\n",
    "\n",
    "#解码器层，包含多个堆叠的解码器架构\n",
    "class Decoder(nn.Module):\n",
    "    def __init__(self, d_model, N, heads): #参数N代表解码器的头数，N代表包含几个解码器，d_model是数据的嵌入维度（用于每个解码器），heads是头的数量\n",
    "        super(Decoder, self).__init__()\n",
    "        self.N = N\n",
    "        self.layers = get_clones(DecoderLayer(d_model, heads), N) #N个解码器\n",
    "        self.act = WaveAct()\n",
    "        \n",
    "    def forward(self, x, e_outputs): #输入一次通过N个解码器层，x的形状为(点的数量，序列长度，d_model)，e_outputs为编码器的输出，形状也是为(点的数量，序列长度，d_model)\n",
    "        for i in range(self.N): #输入和编码器输出依次通过N个解码器\n",
    "            x = self.layers[i](x, e_outputs) \n",
    "        return self.act(x) #解码器的输出要经过激活函数\n",
    "\n",
    "\n",
    "\n",
    "class DNN(nn.Module):\n",
    "    def __init__(self, d_out, d_model, d_hidden, N, heads): #接受参数为：d_out代表整个模型的输出的维度（就是最后的mlp层的输出维度），d_model代表每个点的特征嵌入维度，d_hidden代表最后的output layer模块中的隐藏层的维度，N代表编码器和解码器的层数，heads代表多头注意力机制的头数\n",
    "        super(DNN, self).__init__()\n",
    "\n",
    "        self.linear_emb = nn.Linear(2, d_model) #线性层，将输入的2维数据映射到d_model维度\n",
    "\n",
    "        self.encoder = Encoder(d_model, N, heads) #编码器层\n",
    "        self.decoder = Decoder(d_model, N, heads) #解码器层\n",
    "\n",
    "        #输出的mlp模块，包含三个线性层，前两个使用自定义激活函数WaveAct，最终将feature从d_model维度映射到d_hidden维度，最后将d_hidden维度映射到d_out维度\n",
    "        self.linear_hidden = nn.Sequential(*[\n",
    "            nn.Linear(d_model, d_hidden),\n",
    "            WaveAct(),\n",
    "            nn.Linear(d_hidden, d_hidden),\n",
    "            WaveAct(),\n",
    "            nn.Linear(d_hidden, 2),\n",
    "        ])\n",
    "        self.linear_out = nn.Sequential(*[\n",
    "            WaveAct(),\n",
    "            nn.Linear(2, d_out)\n",
    "        ])\n",
    "\n",
    "    def forward(self, x): #输入的x形状一般为(点的数量, 序列长度, 2)\n",
    "        src = x #形状为(点的数量，序列长度，2)\n",
    "        src = self.linear_emb(src) #特征向量通过第一个线性层，映射到高维，此时src的形状为(点的数量，序列长度，d_model)，d_model代表每个点的特征\n",
    "\n",
    "        e_outputs = self.encoder(src) #编码器处理输入特征向量，得到编码后的输出，形状为(点的数量，序列长度，d_model)\n",
    "        d_output = self.decoder(src, e_outputs) #解码器处理输入特征向量和编码后的输出，得到解码后的输出，形状为(点的数量，序列长度，d_model)\n",
    "        output_hidden = self.linear_hidden(d_output) #解码后的输出通过输出的mlp模块，得到最终的预测结果。形状为(点的数量，序列长度，2)，d_out代表输出的维度\n",
    "        output = self.linear_out(output_hidden) #形状为(点的数量，序列长度，d_out)，d_out代表输出的维度\n",
    "        # pdb.set_trace()\n",
    "        # raise Exception('stop')\n",
    "        return output #(点的数量，序列长度，d_out)\n",
    "    \n",
    "    # 新增方法，获取最后一个隐藏层的输出\n",
    "    def hidden_output(self, x):\n",
    "        src = x #形状为(点的数量，序列长度，2)\n",
    "        src = self.linear_emb(src) #特征向量通过第一个线性层，映射到高维，此时src的形状为(点的数量，序列长度，d_model)，d_model代表每个点的特征\n",
    "\n",
    "        e_outputs = self.encoder(src) #编码器处理输入特征向量，得到编码后的输出，形状为(点的数量，序列长度，d_model)\n",
    "        d_output = self.decoder(src, e_outputs) #解码器处理输入特征向量和编码后的输出，得到解码后的输出，形状为(点的数量，序列长度，d_model)\n",
    "        output_hidden = self.linear_hidden(d_output) #解码后的输出通过输出的mlp模块，得到最终的预测结果。形状为(点的数量，序列长度，2)，d_out代表输出的维度\n",
    "        # output = self.linear_out(output_hidden) #形状为(点的数量，序列长度，d_out)，d_out代表输出的维度\n",
    "        # pdb.set_trace()\n",
    "        # raise Exception('stop')\n",
    "        return output_hidden #(点的数量，序列长度，2)\n",
    "\n",
    "    \n",
    "   "
   ]
  },
  {
   "cell_type": "code",
   "execution_count": 28,
   "metadata": {
    "execution": {
     "iopub.execute_input": "2025-08-07T16:04:55.430822Z",
     "iopub.status.busy": "2025-08-07T16:04:55.430731Z",
     "iopub.status.idle": "2025-08-07T16:04:55.441026Z",
     "shell.execute_reply": "2025-08-07T16:04:55.440746Z"
    }
   },
   "outputs": [],
   "source": [
    "#set the class of PINN\n",
    "\n",
    "#定义了一个名为`PhysicsInformedNN'的类，用于实现基于物理的神经网络。\n",
    "class PhysicsInformedNN:\n",
    "    # Initialize the class\n",
    "    def __init__(self, x0, u0, tb, X_f, lb, ub): #这个类包含的第一个方法__init__，这是一个特殊的方法，也就是这个类的构造函数，用于初始化新创建的对象，接受了几个参数\n",
    "        \n",
    "        \n",
    "        X0 = np.concatenate((x0,0*x0), 1) # [x0, 0],将x0和0*x0两个数组在第二个维度（即列）上进行了合并。0*x0会生成一个与x0形状相同，但所有元素都为0的数组。因此，X0的结果是一个新的二维数组，其中第一列是x0的值，第二列全为0\n",
    "        X_lb = np.concatenate((0*tb+lb[0],tb), 1) # [lb[0], tb],将0*tb+lb[0]和tb两个数组在第二个维度（即列）上进行了合并。0*tb+lb[0]会生成一个与tb形状相同，但所有元素都为lb[0]的数组。因此，X_lb的结果是一个新的二维数组，其中第一列全为lb[0]的值，第二列是tb的值。\n",
    "        X_ub = np.concatenate((0*tb+ub[0],tb), 1) # [ub[0], tb],同上生成一个与tb形状相同，但所有元素都为ub[0]的数组。因此，X_ub的结果是一个新的二维数组，其中第一列全为ub[0]的值，第二列是tb的值\n",
    "\n",
    "        X0 = make_time_sequence(X0, num_step=5, step=1e-4) #将形状从(点的数量，2)变为(点的数量，序列长度，2) \n",
    "        X_lb = make_time_sequence(X_lb, num_step=5, step=1e-4) #将形状从(点的数量，2)变为(点的数量，序列长度，2) \n",
    "        X_ub = make_time_sequence(X_ub, num_step=5, step=1e-4)\n",
    "        X_f = make_time_sequence(X_f, num_step=5, step=1e-4) #将形状从(点的数量，2)变为(点的数量，序列长度，2)\n",
    "\n",
    "\n",
    "        self.lb = torch.tensor(lb).float().to(device) #将传入的lb和ub参数的值存储在实例中，以便后续使用。这样可以在类的其他方法中通过self.lb和self.ub来访问这些值。\n",
    "        self.ub = torch.tensor(ub).float().to(device)\n",
    "\n",
    "\n",
    "        self.x0 = torch.tensor(X0[:,:, 0:1], requires_grad=True).float().to(device) #将X0的第一列赋值给self.x0（:表示取所有行,0：1实际上表示取第一列，因为python是左闭右开的）,将X0的第二列赋值给self.t0。这样可以在类的其他方法中通过self.x0和self.t0来访问这些值。\n",
    "        self.t0 = torch.tensor(X0[:,:, 1:2], requires_grad=True).float().to(device) #将x0的第二列赋值给self.t0\n",
    "\n",
    "        self.x_lb = torch.tensor(X_lb[:,:, 0:1], requires_grad=True).float().to(device) #将X_lb的第一列赋值给self.x_lb\n",
    "        self.t_lb = torch.tensor(X_lb[:,:, 1:2], requires_grad=True).float().to(device) #将X_lb的第二列赋值给self.t_lb\n",
    "\n",
    "        self.x_ub = torch.tensor(X_ub[:,:, 0:1], requires_grad=True).float().to(device) #将X_ub的第一列赋值给self.x_ub\n",
    "        self.t_ub = torch.tensor(X_ub[:,:, 1:2], requires_grad=True).float().to(device) #将X_ub的第二列赋值给self.t_ub\n",
    "        \n",
    "        self.x_f = torch.tensor(X_f[:,:, 0:1], requires_grad=True).float().to(device) #将X_f的第一列赋值给self.x_f\n",
    "        self.t_f = torch.tensor(X_f[:,:, 1:2], requires_grad=True).float().to(device) #将X_f的第二列赋值给self.t_f\n",
    "        \n",
    "        self.u0 = torch.tensor(u0).float().to(device) #将传入的u0和v0参数的值存储在实例中，以便后续使用。这样可以在类的其他方法中通过self.u0和self.v0来访问这些值。\n",
    "\n",
    "        self.chaosloss = torch.tensor(0.0).float().to(device) #初始化一个张量，表示混沌损失，初始值为0.0，数据类型为float，存储在device上（即GPU或CPU）\n",
    "        \n",
    "        \n",
    "        \n",
    "        \n",
    "        # deep neural networks\n",
    "        self.dnn = DNN(d_out=1, d_hidden=512, d_model=32, N=1, heads=2).to(device) \n",
    "        self.dnn.apply(self.init_weights) #初始化模型中线性层的权重和偏置\n",
    "\n",
    "\n",
    "\n",
    "        self.optimizer_LBFGS = torch.optim.LBFGS(self.dnn.parameters(), line_search_fn='strong_wolfe')\n",
    "        #创建第二个优化器，括号内为要优化的参数，使用Adam优化方法\n",
    "        self.optimizer_Adam = torch.optim.Adam(self.dnn.parameters())\n",
    "                \n",
    "\n",
    "        self.iter = 0 #记录迭代次数 \n",
    "\n",
    "        self.loss_value = [] #创建一个空列表，用于存储损失值\n",
    "\n",
    "    def init_weights(self, m):\n",
    "        if isinstance(m, nn.Linear): #判断是否是线性层\n",
    "            torch.nn.init.xavier_uniform(m.weight)\n",
    "            m.bias.data.fill_(0.01)\n",
    "    \n",
    "    #这个函数与下面的net_u函数功能相同，只是不计算梯度，因为在记录每个epoch的error时，使用with torch.no_grad()情况下调用net_u函数会报错，不知道为啥？\n",
    "    def net_u_error(self, x, t):  \n",
    "        u = self.dnn(torch.cat([x, t], dim=-1))  #（第一个参数将输入的两个参数x和t在第二个维度（列）上进行拼接，形成一个新的张量）调用DNN，根据两个参数权重和偏置，以及新得到的张量，计算神经网络的输出u\n",
    "        \n",
    "        return u #返回神经网络的输出u和v，以及u关于x的梯度u_x和v关于x的梯度v_x\n",
    "\n",
    "\n",
    "    #pytorch中\n",
    "    #定义了一个名为net_u的函数/方法，用于计算神经网络的输出。这个方法接受两个参数，分别是x和t，其中x是输入数据，t是时间数据。最后返回神经网络的输出。     \n",
    "    def net_u(self, x, t):  \n",
    "        u = self.dnn(torch.cat([x, t], dim=-1))  #（第一个参数将输入的两个参数x和t在第二个维度（列）上进行拼接，形成一个新的张量）调用DNN，根据两个参数权重和偏置，以及新得到的张量，计算神经网络的输出u\n",
    "\n",
    "        u_x = torch.autograd.grad(\n",
    "            u, x, \n",
    "            grad_outputs=torch.ones_like(u),\n",
    "            retain_graph=True,\n",
    "            create_graph=True\n",
    "        )[0]\n",
    "\n",
    "        return u,u_x #两个输出(点的数量，序列长度，1)\n",
    "\n",
    "\n",
    "    #定义了一个名为net_f的函数/方法，用于计算论文中的f。这个方法接受两个参数，分别是x和t，其中x是输入数据，t是时间数据。最后返回计算得到的f。\n",
    "    def net_f(self, x, t):\n",
    "        \"\"\" The pytorch autograd version of calculating residual \"\"\"\n",
    "\n",
    "        u,u_x=self.net_u(x,t) #调用上面的函数/方法，计算神经网络的输出（两个）以及输出关于输入x的梯度（两个）\n",
    "        \n",
    "        #计算u关于t的梯度，也就是u关于t的导数，这里使用了pytorch的自动求导功能\n",
    "        u_t = torch.autograd.grad(\n",
    "            u, t,  #输入的张量，要计算u关于t的导数\n",
    "            grad_outputs=torch.ones_like(u), #生成一个与u形状相同，所有元素均为1的张量，这个参数用于指定向量-雅可比积的像两部分\n",
    "            retain_graph=True, #表示计算完梯度之后保留计算图若需要多次计算梯度，则需要设置改参数为True\n",
    "            create_graph=True #创建梯度的计算图，使我们能够计算高阶导数\n",
    "        )[0] #这个函数的返回值是一个元组，其中包含了每个输入张量的梯度。这里只关心第一个输入张量u的梯度，所以我们使用[0]来获取这个梯度。？？？？又说只有一个梯度\n",
    "\n",
    "        u_xx = torch.autograd.grad(\n",
    "            u_x, x, \n",
    "            grad_outputs=torch.ones_like(u_x),\n",
    "            retain_graph=True,\n",
    "            create_graph=True\n",
    "        )[0]\n",
    "        \n",
    "        f=u_t-0.0001*u_xx+5*u**3-5*u    #计算f,定义见论文\n",
    "\n",
    "        return f  #(点的数量，序列长度，1)\n",
    "\n",
    "\n",
    "    def loss_func(self):\n",
    "        self.optimizer_LBFGS.zero_grad() #清除之前计算的梯度（在PyTorch中，梯度会累积，所以在每次新的优化迭代之前，我们需要清除之前的梯度）\n",
    "\n",
    "        u0_pred, _  = self.net_u(self.x0, self.t0) #输出(点的数量，序列长度，1)\n",
    "        u0_pred = u0_pred[:,0:1].reshape(-1,1) #(点的数量，序列长度，1)变为(点的数量，1)\n",
    "        u_lb_pred, u_x_lb_pred = self.net_u(self.x_lb, self.t_lb) #两个输出(点的数量，序列长度，1)\n",
    "        u_ub_pred, u_x_ub_pred = self.net_u(self.x_ub, self.t_ub) #两个输出(点的数量，序列长度，1)\n",
    "        f_pred = self.net_f(self.x_f, self.t_f) #输出(点的数量，序列长度，1)\n",
    "    \n",
    "        pinn_loss = torch.mean((self.u0 - u0_pred) ** 2)  + \\\n",
    "                    torch.mean((u_lb_pred - u_ub_pred) ** 2) + \\\n",
    "                    torch.mean((u_x_lb_pred - u_x_ub_pred) ** 2) + \\\n",
    "                    torch.mean(f_pred ** 2) \n",
    "        loss = pinn_loss + self.chaosloss #混沌损失\n",
    "        \n",
    "        loss.backward() #被调用以计算损失函数关于神经网络参数的梯度。这个梯度将被用于优化器来更新神经网络参数\n",
    "        \n",
    "        self.iter += 1 #每调用一次损失函数，迭代次数加1\n",
    "\n",
    "\n",
    "        #record the loss value\n",
    "        self.current_loss = pinn_loss.detach() \n",
    "\n",
    "\n",
    "        return loss #返回loss\n",
    "\n",
    "\n",
    "\n",
    "    \n",
    "    #定义了一个名为train的函数/方法，用于训练神经网络。这个方法接受一个参数nIter，表示训练的迭代次数。\n",
    "    def train(self, nIter, nIterLBFGS):\n",
    "        self.dnn.train()#将神经网络设置为训练模式而不是评估模式\n",
    "\n",
    "        #先使用Adam优化器优化nIter次\n",
    "        for epoch in range(nIter):\n",
    "            u0_pred, _  = self.net_u(self.x0, self.t0) #输出(点的数量，序列长度，1)\n",
    "            u0_pred = u0_pred[:,0:1].reshape(-1,1) #(点的数量，序列长度，1)变为(点的数量，1)\n",
    "            u_lb_pred, u_x_lb_pred = self.net_u(self.x_lb, self.t_lb) #两个输出(点的数量，序列长度，1)\n",
    "            u_ub_pred, u_x_ub_pred = self.net_u(self.x_ub, self.t_ub) #两个输出(点的数量，序列长度，1)\n",
    "            f_pred = self.net_f(self.x_f, self.t_f) #输出(点的数量，序列长度，1)\n",
    "\n",
    "            pinn_loss = torch.mean((self.u0 - u0_pred) ** 2)  + \\\n",
    "                    torch.mean((u_lb_pred - u_ub_pred) ** 2) + \\\n",
    "                    torch.mean((u_x_lb_pred - u_x_ub_pred) ** 2) + \\\n",
    "                    torch.mean(f_pred ** 2) \n",
    "            loss = pinn_loss + self.chaosloss #混沌损失\n",
    "            \n",
    "            # Backward and optimize\n",
    "            self.optimizer_Adam.zero_grad() #清除该优化器之前计算的梯度（在PyTorch中，梯度会累积，所以在每次新的优化迭代之前，我们需要清除之前的梯度）\n",
    "            loss.backward() #被调用以计算损失函数关于神经网络参数的梯度。这个梯度将被用于优化器来更新神经网络参数\n",
    "            self.optimizer_Adam.step()  #使用之前的优化器self.optimizer_Adam，调用step方法(执行一步优化算法)，传入损失函数self.loss_func，进行优化\n",
    "            \n",
    "\n",
    "            #record the loss value\n",
    "            self.loss_value.append(pinn_loss) #将计算得到的loss值添加到self.loss_value列表中\n",
    "\n",
    "\n",
    "        #Backward the optimize，使用LBFGS优化器进一步，注意这里虽然迭代了500次，但其实使用LBFGS优化器优化的次数不止500次\n",
    "        for i in range(nIterLBFGS):\n",
    "            self.dnn.train() #将神经网络设置为训练模式而不是评估模式\n",
    "            self.optimizer_LBFGS.step(self.loss_func)  #使用之前的优化器self.optimizer，调用step方法(执行一步优化算法)，传入计算损失函数的方法self.loss_func，进行优化   \n",
    "\n",
    "            self.loss_value.append(self.current_loss) #将计算得到的loss值添加到self.loss_value列表中\n",
    "\n",
    "                                    \n",
    "    def predict(self, X): #形状(点的数量，2)\n",
    "        X = make_time_sequence(X, num_step=5, step=1e-4) #将形状从(点的数量，2)变为(点的数量，序列长度，2) \n",
    "        x = torch.tensor(X[:,:, 0:1], dtype=torch.float32, requires_grad=True).to(device) #(点的数量，序列长度，1) \n",
    "        t = torch.tensor(X[:,:, 1:2], dtype=torch.float32, requires_grad=True).to(device)\n",
    "\n",
    "        self.dnn.eval() #将神经网络切换为评估模式\n",
    "        with torch.no_grad():\n",
    "            u = self.net_u_error(x, t) #形状从两个(点的数量，序列长度，1)变为(点的数量，序列长度，1)\n",
    "            u = u[:,0:1].reshape(-1,1) #将u的形状从(点的数量，序列长度，1)变为(点的数量，1)\n",
    "            u = u.detach().cpu().numpy() #将张量u和f先从计算图中分离出来，然后转换为numpy数组，最后将这个数组移动到cpu上\n",
    "\n",
    "        return u #u形状是(点的数量，1)\n",
    "    \n",
    "    def residual(self, X): #形状(点的数量，2)\n",
    "        X = make_time_sequence(X, num_step=5, step=1e-4) #将形状从(点的数量，2)变为(点的数量，序列长度，2) \n",
    "        x = torch.tensor(X[:,:, 0:1], dtype=torch.float32, requires_grad=True).to(device) #(点的数量，序列长度，1) \n",
    "        t = torch.tensor(X[:,:, 1:2], dtype=torch.float32, requires_grad=True).to(device)\n",
    "\n",
    "        self.dnn.eval() #将神经网络切换为评估模式\n",
    "        \n",
    "        f = self.net_f(x, t) #形状从两个(点的数量，序列长度，1)变为(点的数量，序列长度，1)\n",
    "        f = torch.mean(f, dim=1).reshape(-1,1) #对f在序列长度维度上求平均，得到(点的数量，1)，即每个点的平均残差\n",
    "        f = f.detach().cpu().numpy()\n",
    "        return f #u形状是(点的数量，1)，f形状是(点的数量，1)\n",
    "    \n",
    "\n",
    "    def hidden_predict(self, X):#形状(点的数量，序列长度，2)\n",
    "        x = torch.tensor(X[:,:, 0:1], requires_grad=True).float().to(device) #(点的数量，序列长度，1) \n",
    "        t = torch.tensor(X[:,:, 1:2], requires_grad=True).float().to(device)\n",
    "        self.dnn.eval()\n",
    "        with torch.no_grad():\n",
    "            hidden_output = self.dnn.hidden_output(torch.cat([x, t], dim=-1)) #(点的数量，序列长度，2)\n",
    "            hidden_output = hidden_output.detach().cpu().numpy()\n",
    "        # hidden_output_x = hidden_output[:, 0]\n",
    "        # hidden_output_t = hidden_output[:, 1]\n",
    "        # hidden_output_x = hidden_output_x.detach().cpu().numpy()\n",
    "        # hidden_output_t = hidden_output_t.detach().cpu().numpy()\n",
    "        return hidden_output #(点的数量，序列长度，2)\n"
   ]
  },
  {
   "cell_type": "code",
   "execution_count": 29,
   "metadata": {
    "execution": {
     "iopub.execute_input": "2025-08-07T16:04:55.442297Z",
     "iopub.status.busy": "2025-08-07T16:04:55.442185Z",
     "iopub.status.idle": "2025-08-07T16:04:55.445233Z",
     "shell.execute_reply": "2025-08-07T16:04:55.445050Z"
    }
   },
   "outputs": [],
   "source": [
    "#定义根据模型计算给定输入（点集中的点）的混沌度的函数，这个函数接受三个参数，分别是模型、输入数据和迭代次数\n",
    "def calculate_chaos(model, X, num_iter): #输入是(点的数量，2)\n",
    "    \"\"\"\n",
    "    计算模型混沌情况的函数。\n",
    "    参数:\n",
    "    - model: 用于预测的模型对象，必须有一个名为hidden_predict的方法。模型的hidden_predict为倒数第二层的输出，倒数第二层的维度必须和输入维度相同。\n",
    "    - X: 输入数据，形状为(N_f_new, 2)，其中第一列为x0，第二列为t0。\n",
    "    - num_iter: 计算混沌情况的迭代次数。\n",
    "    返回:\n",
    "    - distances: 每个采样点（与该采样点加上微扰比较）在最后一次迭代后的欧氏距离数组，形状为(N_f_new,)。\n",
    "    \"\"\"\n",
    "    #对于所有的采样点\n",
    "    X0 = X\n",
    "    x0 = X[:, 0:1] #取X_f_train_new的第一列，赋值给x0，(N_f_new,1)形状\n",
    "    t0 = X[:, 1:2] #取X_f_train_new的第二列，赋值给t0\n",
    "    xs = []\n",
    "    X0 = make_time_sequence(X0, num_step=5, step=1e-4) #将形状从(点的数量，2)变为(点的数量，序列长度，2)\n",
    "    X = model.hidden_predict(X0) #(点的数量，序列长度，2)\n",
    "    \n",
    "    for i in range(num_iter): #循环num_iter次\n",
    "        X = model.hidden_predict(X) #(点的数量，序列长度，2)\n",
    "        xs.append(X) #新添加(点的数量，序列长度，2)\n",
    "\n",
    "    # 给所有采样点加上一个很小的扰动\n",
    "    x1 = x0 + np.random.normal(0, 0.0001) #加上一个很小的扰动，(N_f_new,1)形状\n",
    "    t1 = t0 + np.random.normal(0, 0.0001)\n",
    "    # 利用x0{1}和t0{1}计算x{t1}和t{t1}，存储在xs1中\n",
    "    xs1 = [] #初始化xs1\n",
    "    X1 = np.concatenate((x1, t1), axis=1) #(N_f_new,2)形状\n",
    "    X1 = make_time_sequence(X1, num_step=5, step=1e-4) #将形状从(点的数量，2)变为(点的数量，序列长度，2)\n",
    "    X1 = model.hidden_predict(X1) #(N_f_new,序列长度,2)\n",
    "\n",
    "    for i in range(num_iter): #循环num_iter次\n",
    "        X1 = model.hidden_predict(X1) #(N_f_new,序列长度,\n",
    "        xs1.append(X1) #新添加(N_f_new,序列长度,2)\n",
    "\n",
    "    \n",
    "\n",
    "    # 计算最后一次迭代的隐藏层输出，即最后一次迭代的x和t,使用chunchaos要注释掉\n",
    "    last_iter_xs = np.array(xs[-1]) #转换为数组，便于之后计算距离\n",
    "    last_iter_xs1 = np.array(xs1[-1])\n",
    "    distances = np.linalg.norm(last_iter_xs - last_iter_xs1, axis=(1,2))\n",
    "    distances = distances.flatten()\n",
    "\n",
    "\n",
    "\n",
    "\n",
    "\n",
    "\n",
    "\n",
    "    # #chunchaos方法\n",
    "    # num_elements_to_average = 20\n",
    "    # # 提取最后 20 个元素\n",
    "    # last_20_xs = xs[-num_elements_to_average:] # 这是一个包含 20 个元素的列表\n",
    "    # last_20_xs1 = xs1[-num_elements_to_average:] # 这是一个包含 20 个元素的列表\n",
    "    # # 存储每个时间步（列表中的每个元素）的混沌度分数\n",
    "    # step_chaos_scores = []\n",
    "    # # 遍历最后 20 个元素,zip 将两个列表的对应元素配对\n",
    "    # for step_xs, step_xs1 in zip(last_20_xs, last_20_xs1):\n",
    "    #     # step_xs 和 step_xs1 都是形状为 (N_f_new, sequence_length, 2) 的数组/张量\n",
    "    #     difference_step = step_xs - step_xs1 # 计算差异\n",
    "    #     # 计算每个数据点在当前步的混沌度分数 (形状 (N_f_new,))\n",
    "    #     # 假设使用 NumPy 进行计算\n",
    "    #     step_scores = np.linalg.norm(difference_step, axis=(1, 2))\n",
    "    #     # 将这 N_f_new 个分数添加到列表中\n",
    "    #     step_chaos_scores.append(step_scores)\n",
    "\n",
    "    # # step_chaos_scores 是一个包含 20 个元素的列表，每个元素都是形状为 (N_f_new,) 的 NumPy 数组\n",
    "    # # 将列表转换成一个单一的 NumPy 数组，形状为 (20, N_f_new)\n",
    "    # all_step_scores = np.stack(step_chaos_scores)\n",
    "    # # 现在 all_step_scores 的形状是 (num_elements_to_average, N_f_new)\n",
    "    # # axis 0 是时间步 (20)，axis 1 是原始数据点 (N_f_new)\n",
    "    # # 计算最后 20 个时间步在每个数据点上的平均混沌度分数\n",
    "    # # 沿着时间步轴 (axis=0) 求平均\n",
    "    # distances = np.mean(all_step_scores, axis=0)\n",
    "    # # 结果形状是 (N_f_new,)\n",
    "\n",
    "\n",
    "\n",
    "\n",
    "\n",
    "\n",
    "\n",
    "    return distances"
   ]
  },
  {
   "cell_type": "code",
   "execution_count": 30,
   "metadata": {
    "execution": {
     "iopub.execute_input": "2025-08-07T16:04:55.446530Z",
     "iopub.status.busy": "2025-08-07T16:04:55.446424Z",
     "iopub.status.idle": "2025-08-07T16:04:55.449617Z",
     "shell.execute_reply": "2025-08-07T16:04:55.449436Z"
    }
   },
   "outputs": [],
   "source": [
    "#定义根据模型计算给定输入（点集中的点）的混沌度的函数，这个函数接受三个参数，分别是模型、输入数据和迭代次数\n",
    "def calculate_chunchaos(model, X, num_iter): #输入是(点的数量，2)\n",
    "    \"\"\"\n",
    "    计算模型混沌情况的函数。\n",
    "    参数:\n",
    "    - model: 用于预测的模型对象，必须有一个名为hidden_predict的方法。模型的hidden_predict为倒数第二层的输出，倒数第二层的维度必须和输入维度相同。\n",
    "    - X: 输入数据，形状为(N_f_new, 2)，其中第一列为x0，第二列为t0。\n",
    "    - num_iter: 计算混沌情况的迭代次数。\n",
    "    返回:\n",
    "    - distances: 每个采样点（与该采样点加上微扰比较）在最后一次迭代后的欧氏距离数组，形状为(N_f_new,)。\n",
    "    \"\"\"\n",
    "    #对于所有的采样点\n",
    "    X0 = X\n",
    "    x0 = X[:, 0:1] #取X_f_train_new的第一列，赋值给x0，(N_f_new,1)形状\n",
    "    t0 = X[:, 1:2] #取X_f_train_new的第二列，赋值给t0\n",
    "    xs = []\n",
    "    X0 = make_time_sequence(X0, num_step=5, step=1e-4) #将形状从(点的数量，2)变为(点的数量，序列长度，2)\n",
    "    X = model.hidden_predict(X0) #(点的数量，序列长度，2)\n",
    "    \n",
    "    for i in range(num_iter): #循环num_iter次\n",
    "        X = model.hidden_predict(X) #(点的数量，序列长度，2)\n",
    "        xs.append(X) #新添加(点的数量，序列长度，2)\n",
    "\n",
    "    # 给所有采样点加上一个很小的扰动\n",
    "    x1 = x0 + np.random.normal(0, 0.0001) #加上一个很小的扰动，(N_f_new,1)形状\n",
    "    t1 = t0 + np.random.normal(0, 0.0001)\n",
    "    # 利用x0{1}和t0{1}计算x{t1}和t{t1}，存储在xs1中\n",
    "    xs1 = [] #初始化xs1\n",
    "    X1 = np.concatenate((x1, t1), axis=1) #(N_f_new,2)形状\n",
    "    X1 = make_time_sequence(X1, num_step=5, step=1e-4) #将形状从(点的数量，2)变为(点的数量，序列长度，2)\n",
    "    X1 = model.hidden_predict(X1) #(N_f_new,序列长度,2)\n",
    "\n",
    "    for i in range(num_iter): #循环num_iter次\n",
    "        X1 = model.hidden_predict(X1) #(N_f_new,序列长度,\n",
    "        xs1.append(X1) #新添加(N_f_new,序列长度,2)\n",
    "\n",
    "    \n",
    "\n",
    "    # # 计算最后一次迭代的隐藏层输出，即最后一次迭代的x和t,使用chunchaos要注释掉\n",
    "    # last_iter_xs = np.array(xs[-1]) #转换为数组，便于之后计算距离\n",
    "    # last_iter_xs1 = np.array(xs1[-1])\n",
    "    # distances = np.linalg.norm(last_iter_xs - last_iter_xs1, axis=(1,2))\n",
    "    # distances = distances.flatten()\n",
    "\n",
    "\n",
    "\n",
    "\n",
    "\n",
    "\n",
    "\n",
    "    #chunchaos方法\n",
    "    num_elements_to_average = 20\n",
    "    # 提取最后 20 个元素\n",
    "    last_20_xs = xs[-num_elements_to_average:] # 这是一个包含 20 个元素的列表\n",
    "    last_20_xs1 = xs1[-num_elements_to_average:] # 这是一个包含 20 个元素的列表\n",
    "    # 存储每个时间步（列表中的每个元素）的混沌度分数\n",
    "    step_chaos_scores = []\n",
    "    # 遍历最后 20 个元素,zip 将两个列表的对应元素配对\n",
    "    for step_xs, step_xs1 in zip(last_20_xs, last_20_xs1):\n",
    "        # step_xs 和 step_xs1 都是形状为 (N_f_new, sequence_length, 2) 的数组/张量\n",
    "        difference_step = step_xs - step_xs1 # 计算差异\n",
    "        # 计算每个数据点在当前步的混沌度分数 (形状 (N_f_new,))\n",
    "        # 假设使用 NumPy 进行计算\n",
    "        step_scores = np.linalg.norm(difference_step, axis=(1, 2))\n",
    "        # 将这 N_f_new 个分数添加到列表中\n",
    "        step_chaos_scores.append(step_scores)\n",
    "\n",
    "    # step_chaos_scores 是一个包含 20 个元素的列表，每个元素都是形状为 (N_f_new,) 的 NumPy 数组\n",
    "    # 将列表转换成一个单一的 NumPy 数组，形状为 (20, N_f_new)\n",
    "    all_step_scores = np.stack(step_chaos_scores)\n",
    "    # 现在 all_step_scores 的形状是 (num_elements_to_average, N_f_new)\n",
    "    # axis 0 是时间步 (20)，axis 1 是原始数据点 (N_f_new)\n",
    "    # 计算最后 20 个时间步在每个数据点上的平均混沌度分数\n",
    "    # 沿着时间步轴 (axis=0) 求平均\n",
    "    distances = np.mean(all_step_scores, axis=0)\n",
    "    # 结果形状是 (N_f_new,)\n",
    "\n",
    "\n",
    "\n",
    "\n",
    "\n",
    "\n",
    "\n",
    "    return distances"
   ]
  },
  {
   "cell_type": "code",
   "execution_count": 31,
   "metadata": {
    "execution": {
     "iopub.execute_input": "2025-08-07T16:04:55.450863Z",
     "iopub.status.busy": "2025-08-07T16:04:55.450756Z",
     "iopub.status.idle": "2025-08-07T16:04:55.452802Z",
     "shell.execute_reply": "2025-08-07T16:04:55.452626Z"
    }
   },
   "outputs": [],
   "source": [
    "#定义设置随机数种子的函数，第一个参数seed表示种子；第二个参数用来设置CUDA的卷积操作是否确定性，默认为False，表示没有确定性\n",
    "def set_seed(seed):\n",
    "    # torch.manual_seed(seed) #设置pytorch的CPU随机数生成器的种子\n",
    "    # torch.cuda.manual_seed_all(seed) #设置putorch的所有GPU随机数生成器的种子\n",
    "    # np.random.seed(seed) #设置numpy的随机数生成器的种子\n",
    "    # random.seed(seed) #设置python的内置随机数生成器的种子\n",
    "    # torch.backends.cudnn.deterministic = deterministic #True会让CUDA的卷积操作变得确定性，即对于相同的输入，每次运行会得到相同的结果，False则相反\n",
    "    \"\"\"\n",
    "    设置PyTorch的随机种子, 用于生成随机数. 通过设置相同的种子, 可以确保每次运行时生成的随机数序列相同\n",
    "    \"\"\"\n",
    "    torch.manual_seed(seed)\n",
    " \n",
    "    \"\"\"\n",
    "    设置PyTorch在所有可用的CUDA设备上的随机种子. 如果在使用GPU进行计算, 这个设置可以确保在不同的GPU上生成的随机数序列相同\n",
    "    \"\"\"\n",
    "    torch.cuda.manual_seed_all(seed)\n",
    " \n",
    "    \"\"\"\n",
    "    设置PyTorch在当前CUDA设备上的随机种子. 它与上一行代码的作用类似, 但只影响当前设备\n",
    "    \"\"\"\n",
    "    torch.cuda.manual_seed(seed)\n",
    " \n",
    "    \"\"\"\n",
    "    设置NumPy的随机种子, 用于生成随机数. 通过设置相同的种子，可以确保在使用NumPy的随机函数时生成的随机数序列相同\n",
    "    \"\"\"\n",
    "    np.random.seed(seed)\n",
    "    \n",
    "    \"\"\"\n",
    "    设置Python内置的随机函数的种子. Python的random模块提供了许多随机函数, 包括生成随机数、打乱列表等. 通过设置相同的种子, 可以确保使用这些随机函数时生成的随机数序列相同\n",
    "    \"\"\"\n",
    "    random.seed(seed)\n",
    "    \n",
    "    \"\"\"\n",
    "    设置Python的哈希种子 (哈希函数被广泛用于数据结构 (如字典和集合) 的实现，以及一些内部操作 (如查找和比较)). 通过设置相同的种子, 可以确保在不同的运行中生成的哈希结果相同\n",
    "    \"\"\"\n",
    "    # os.environ[\"PYTHONHASHSEED\"] = str(seed)\n",
    "    \n",
    "    \"\"\"\n",
    "    该设置确保每次运行代码时, cuDNN的计算结果是确定性的, 即相同的输入会产生相同的输出, 这是通过禁用一些非确定性的算法来实现的, 例如在卷积操作中使用的算法. 这样做可以保证模型的训练和推理在相同的硬件和软件环境下是可复现的, 即每次运行代码时的结果都相同. 但是, 这可能会导致一些性能上的损失, 因为禁用了一些优化的非确定性算法\n",
    "    \"\"\"\n",
    "    torch.backends.cudnn.deterministic = True\n",
    "    \n",
    "    \"\"\"\n",
    "    该设置禁用了cuDNN的自动优化过程. 当它被设置为False时, PyTorch不会在每次运行时重新寻找最优的算法配置, 而是使用固定的算法配置. 这样做可以确保每次运行代码时的性能是一致的, 但可能会导致一些性能上的损失\n",
    "    \"\"\"\n",
    "    torch.backends.cudnn.benchmark = False\n",
    "\n"
   ]
  },
  {
   "cell_type": "code",
   "execution_count": null,
   "metadata": {
    "execution": {
     "iopub.execute_input": "2025-08-07T16:04:55.454059Z",
     "iopub.status.busy": "2025-08-07T16:04:55.453951Z",
     "iopub.status.idle": "2025-08-08T01:53:04.592274Z",
     "shell.execute_reply": "2025-08-08T01:53:04.591771Z"
    }
   },
   "outputs": [
    {
     "name": "stderr",
     "output_type": "stream",
     "text": [
      "/tmp/ipykernel_499978/182882593.py:59: UserWarning: nn.init.xavier_uniform is now deprecated in favor of nn.init.xavier_uniform_.\n",
      "  torch.nn.init.xavier_uniform(m.weight)\n",
      "Training with Adam: 0it [00:00, ?it/s]\n",
      "Training with LBFGS:   0%|          | 0/100 [00:00<?, ?it/s]"
     ]
    },
    {
     "name": "stderr",
     "output_type": "stream",
     "text": [
      "Training with LBFGS:   1%|          | 1/100 [00:36<1:00:49, 36.86s/it]"
     ]
    },
    {
     "name": "stdout",
     "output_type": "stream",
     "text": [
      "2.070621e-06\n",
      "0.5909886554943591\n"
     ]
    },
    {
     "name": "stderr",
     "output_type": "stream",
     "text": [
      "Training with LBFGS:   2%|▏         | 2/100 [01:13<1:00:13, 36.88s/it]"
     ]
    },
    {
     "name": "stdout",
     "output_type": "stream",
     "text": [
      "1.9181418e-06\n",
      "0.5894826258521049\n"
     ]
    },
    {
     "name": "stderr",
     "output_type": "stream",
     "text": [
      "Training with LBFGS:   3%|▎         | 3/100 [01:51<59:57, 37.09s/it]  "
     ]
    },
    {
     "name": "stdout",
     "output_type": "stream",
     "text": [
      "2.2733718e-06\n",
      "0.5873644449165756\n"
     ]
    },
    {
     "name": "stderr",
     "output_type": "stream",
     "text": [
      "Training with LBFGS:   4%|▍         | 4/100 [02:28<59:21, 37.10s/it]"
     ]
    },
    {
     "name": "stdout",
     "output_type": "stream",
     "text": [
      "2.028383e-06\n",
      "0.5884304327819945\n"
     ]
    },
    {
     "name": "stderr",
     "output_type": "stream",
     "text": [
      "Training with LBFGS:   5%|▌         | 5/100 [03:05<58:48, 37.14s/it]"
     ]
    },
    {
     "name": "stdout",
     "output_type": "stream",
     "text": [
      "2.1903015e-06\n",
      "0.5905640437431318\n"
     ]
    },
    {
     "name": "stderr",
     "output_type": "stream",
     "text": [
      "Training with LBFGS:   6%|▌         | 6/100 [03:42<58:11, 37.14s/it]"
     ]
    },
    {
     "name": "stdout",
     "output_type": "stream",
     "text": [
      "2.5771535e-06\n",
      "0.5914875735459965\n"
     ]
    },
    {
     "name": "stderr",
     "output_type": "stream",
     "text": [
      "Training with LBFGS:   7%|▋         | 7/100 [04:19<57:40, 37.21s/it]"
     ]
    },
    {
     "name": "stdout",
     "output_type": "stream",
     "text": [
      "3.0719705e-06\n",
      "0.5898976852455589\n"
     ]
    },
    {
     "name": "stderr",
     "output_type": "stream",
     "text": [
      "Training with LBFGS:   8%|▊         | 8/100 [04:57<57:07, 37.25s/it]"
     ]
    },
    {
     "name": "stdout",
     "output_type": "stream",
     "text": [
      "2.979133e-06\n",
      "0.5885806088282406\n"
     ]
    },
    {
     "name": "stderr",
     "output_type": "stream",
     "text": [
      "Training with LBFGS:   9%|▉         | 9/100 [05:34<56:29, 37.24s/it]"
     ]
    },
    {
     "name": "stdout",
     "output_type": "stream",
     "text": [
      "3.721904e-06\n",
      "0.5890952115197574\n"
     ]
    },
    {
     "name": "stderr",
     "output_type": "stream",
     "text": [
      "Training with LBFGS:  10%|█         | 10/100 [06:11<55:47, 37.20s/it]"
     ]
    },
    {
     "name": "stdout",
     "output_type": "stream",
     "text": [
      "3.713231e-06\n",
      "0.5902332978841931\n"
     ]
    },
    {
     "name": "stderr",
     "output_type": "stream",
     "text": [
      "Training with LBFGS:  11%|█         | 11/100 [06:48<55:02, 37.11s/it]"
     ]
    },
    {
     "name": "stdout",
     "output_type": "stream",
     "text": [
      "3.2509759e-06\n",
      "0.5902366741973143\n"
     ]
    },
    {
     "name": "stderr",
     "output_type": "stream",
     "text": [
      "Training with LBFGS:  12%|█▏        | 12/100 [07:25<54:32, 37.18s/it]"
     ]
    },
    {
     "name": "stdout",
     "output_type": "stream",
     "text": [
      "3.5902924e-06\n",
      "0.5901049209806606\n"
     ]
    },
    {
     "name": "stderr",
     "output_type": "stream",
     "text": [
      "Training with LBFGS:  13%|█▎        | 13/100 [08:03<53:55, 37.19s/it]"
     ]
    },
    {
     "name": "stdout",
     "output_type": "stream",
     "text": [
      "6.047779e-06\n",
      "0.5901403677944098\n"
     ]
    },
    {
     "name": "stderr",
     "output_type": "stream",
     "text": [
      "Training with LBFGS:  14%|█▍        | 14/100 [08:40<53:12, 37.13s/it]"
     ]
    },
    {
     "name": "stdout",
     "output_type": "stream",
     "text": [
      "9.40554e-06\n",
      "0.5897338775877461\n"
     ]
    },
    {
     "name": "stderr",
     "output_type": "stream",
     "text": [
      "Training with LBFGS:  15%|█▌        | 15/100 [09:17<52:40, 37.18s/it]"
     ]
    },
    {
     "name": "stdout",
     "output_type": "stream",
     "text": [
      "4.1418834e-06\n",
      "0.5909945644362271\n"
     ]
    },
    {
     "name": "stderr",
     "output_type": "stream",
     "text": [
      "Training with LBFGS:  16%|█▌        | 16/100 [09:54<52:00, 37.15s/it]"
     ]
    },
    {
     "name": "stdout",
     "output_type": "stream",
     "text": [
      "6.0450668e-05\n",
      "0.5921767591760554\n"
     ]
    },
    {
     "name": "stderr",
     "output_type": "stream",
     "text": [
      "Training with LBFGS:  17%|█▋        | 17/100 [10:31<51:22, 37.14s/it]"
     ]
    },
    {
     "name": "stdout",
     "output_type": "stream",
     "text": [
      "0.00014726756\n",
      "0.5929357965081773\n"
     ]
    },
    {
     "name": "stderr",
     "output_type": "stream",
     "text": [
      "Training with LBFGS:  18%|█▊        | 18/100 [11:08<50:50, 37.20s/it]"
     ]
    },
    {
     "name": "stdout",
     "output_type": "stream",
     "text": [
      "3.041372e-05\n",
      "0.5932369664140468\n"
     ]
    },
    {
     "name": "stderr",
     "output_type": "stream",
     "text": [
      "Training with LBFGS:  19%|█▉        | 19/100 [11:46<50:15, 37.23s/it]"
     ]
    },
    {
     "name": "stdout",
     "output_type": "stream",
     "text": [
      "1.1142098e-05\n",
      "0.5931950437358835\n"
     ]
    },
    {
     "name": "stderr",
     "output_type": "stream",
     "text": [
      "Training with LBFGS:  20%|██        | 20/100 [12:23<49:35, 37.20s/it]"
     ]
    },
    {
     "name": "stdout",
     "output_type": "stream",
     "text": [
      "5.643807e-06\n",
      "0.5918461286721671\n"
     ]
    },
    {
     "name": "stderr",
     "output_type": "stream",
     "text": [
      "Training with LBFGS:  21%|██        | 21/100 [13:00<48:58, 37.19s/it]"
     ]
    },
    {
     "name": "stdout",
     "output_type": "stream",
     "text": [
      "5.692558e-06\n",
      "0.5914888662800085\n"
     ]
    },
    {
     "name": "stderr",
     "output_type": "stream",
     "text": [
      "Training with LBFGS:  22%|██▏       | 22/100 [13:37<48:23, 37.23s/it]"
     ]
    },
    {
     "name": "stdout",
     "output_type": "stream",
     "text": [
      "6.200514e-06\n",
      "0.590335169634086\n"
     ]
    },
    {
     "name": "stderr",
     "output_type": "stream",
     "text": [
      "Training with LBFGS:  23%|██▎       | 23/100 [14:14<47:41, 37.16s/it]"
     ]
    },
    {
     "name": "stdout",
     "output_type": "stream",
     "text": [
      "4.324928e-06\n",
      "0.5891766453484519\n"
     ]
    },
    {
     "name": "stderr",
     "output_type": "stream",
     "text": [
      "Training with LBFGS:  24%|██▍       | 24/100 [14:52<47:06, 37.19s/it]"
     ]
    },
    {
     "name": "stdout",
     "output_type": "stream",
     "text": [
      "5.6798276e-06\n",
      "0.5888542663645531\n"
     ]
    },
    {
     "name": "stderr",
     "output_type": "stream",
     "text": [
      "Training with LBFGS:  25%|██▌       | 25/100 [15:28<46:20, 37.08s/it]"
     ]
    },
    {
     "name": "stdout",
     "output_type": "stream",
     "text": [
      "4.589303e-06\n",
      "0.5888801239137093\n"
     ]
    },
    {
     "name": "stderr",
     "output_type": "stream",
     "text": [
      "Training with LBFGS:  26%|██▌       | 26/100 [16:06<45:49, 37.15s/it]"
     ]
    },
    {
     "name": "stdout",
     "output_type": "stream",
     "text": [
      "4.9045534e-06\n",
      "0.5881346385348765\n"
     ]
    },
    {
     "name": "stderr",
     "output_type": "stream",
     "text": [
      "Training with LBFGS:  27%|██▋       | 27/100 [16:43<45:15, 37.20s/it]"
     ]
    },
    {
     "name": "stdout",
     "output_type": "stream",
     "text": [
      "4.9325317e-06\n",
      "0.588792493853357\n"
     ]
    },
    {
     "name": "stderr",
     "output_type": "stream",
     "text": [
      "Training with LBFGS:  28%|██▊       | 28/100 [17:20<44:34, 37.14s/it]"
     ]
    },
    {
     "name": "stdout",
     "output_type": "stream",
     "text": [
      "4.675731e-06\n",
      "0.5890865488537858\n"
     ]
    },
    {
     "name": "stderr",
     "output_type": "stream",
     "text": [
      "Training with LBFGS:  29%|██▉       | 29/100 [17:57<43:56, 37.13s/it]"
     ]
    },
    {
     "name": "stdout",
     "output_type": "stream",
     "text": [
      "5.5914566e-06\n",
      "0.58933374952097\n"
     ]
    },
    {
     "name": "stderr",
     "output_type": "stream",
     "text": [
      "Training with LBFGS:  30%|███       | 30/100 [18:34<43:21, 37.16s/it]"
     ]
    },
    {
     "name": "stdout",
     "output_type": "stream",
     "text": [
      "6.2194877e-06\n",
      "0.5890441670880371\n"
     ]
    },
    {
     "name": "stderr",
     "output_type": "stream",
     "text": [
      "Training with LBFGS:  31%|███       | 31/100 [19:11<42:39, 37.10s/it]"
     ]
    },
    {
     "name": "stdout",
     "output_type": "stream",
     "text": [
      "5.0130866e-06\n",
      "0.5846950784493162\n"
     ]
    },
    {
     "name": "stderr",
     "output_type": "stream",
     "text": [
      "Training with LBFGS:  32%|███▏      | 32/100 [19:48<42:02, 37.10s/it]"
     ]
    },
    {
     "name": "stdout",
     "output_type": "stream",
     "text": [
      "4.775585e-06\n",
      "0.5821038431095578\n"
     ]
    },
    {
     "name": "stderr",
     "output_type": "stream",
     "text": [
      "Training with LBFGS:  33%|███▎      | 33/100 [20:26<41:28, 37.14s/it]"
     ]
    },
    {
     "name": "stdout",
     "output_type": "stream",
     "text": [
      "0.00024731611\n",
      "0.5755503371436577\n"
     ]
    },
    {
     "name": "stderr",
     "output_type": "stream",
     "text": [
      "Training with LBFGS:  34%|███▍      | 34/100 [21:03<40:56, 37.22s/it]"
     ]
    },
    {
     "name": "stdout",
     "output_type": "stream",
     "text": [
      "1.9065064e-05\n",
      "0.5711905915661515\n"
     ]
    },
    {
     "name": "stderr",
     "output_type": "stream",
     "text": [
      "Training with LBFGS:  35%|███▌      | 35/100 [21:40<40:21, 37.25s/it]"
     ]
    },
    {
     "name": "stdout",
     "output_type": "stream",
     "text": [
      "1.0248397e-05\n",
      "0.5650683268543999\n"
     ]
    },
    {
     "name": "stderr",
     "output_type": "stream",
     "text": [
      "Training with LBFGS:  36%|███▌      | 36/100 [22:17<39:38, 37.16s/it]"
     ]
    },
    {
     "name": "stdout",
     "output_type": "stream",
     "text": [
      "1.2146978e-05\n",
      "0.5661001341023106\n"
     ]
    },
    {
     "name": "stderr",
     "output_type": "stream",
     "text": [
      "Training with LBFGS:  37%|███▋      | 37/100 [22:54<39:00, 37.14s/it]"
     ]
    },
    {
     "name": "stdout",
     "output_type": "stream",
     "text": [
      "1.417912e-05\n",
      "0.5665681630912514\n"
     ]
    },
    {
     "name": "stderr",
     "output_type": "stream",
     "text": [
      "Training with LBFGS:  38%|███▊      | 38/100 [23:31<38:16, 37.05s/it]"
     ]
    },
    {
     "name": "stdout",
     "output_type": "stream",
     "text": [
      "0.03399851\n",
      "0.5640495093061443\n"
     ]
    },
    {
     "name": "stderr",
     "output_type": "stream",
     "text": [
      "Training with LBFGS:  39%|███▉      | 39/100 [24:09<37:44, 37.12s/it]"
     ]
    },
    {
     "name": "stdout",
     "output_type": "stream",
     "text": [
      "1.9314\n",
      "0.5652600696889181\n"
     ]
    },
    {
     "name": "stderr",
     "output_type": "stream",
     "text": [
      "Training with LBFGS:  40%|████      | 40/100 [24:46<37:04, 37.07s/it]"
     ]
    },
    {
     "name": "stdout",
     "output_type": "stream",
     "text": [
      "1.3235267\n",
      "0.5592514245164222\n"
     ]
    },
    {
     "name": "stderr",
     "output_type": "stream",
     "text": [
      "Training with LBFGS:  41%|████      | 41/100 [25:23<36:26, 37.06s/it]"
     ]
    },
    {
     "name": "stdout",
     "output_type": "stream",
     "text": [
      "4.6334124\n",
      "0.561812938271217\n"
     ]
    },
    {
     "name": "stderr",
     "output_type": "stream",
     "text": [
      "Training with LBFGS:  42%|████▏     | 42/100 [26:00<35:49, 37.06s/it]"
     ]
    },
    {
     "name": "stdout",
     "output_type": "stream",
     "text": [
      "3.9371095\n",
      "0.6069899863177945\n"
     ]
    },
    {
     "name": "stderr",
     "output_type": "stream",
     "text": [
      "Training with LBFGS:  43%|████▎     | 43/100 [26:37<35:11, 37.05s/it]"
     ]
    },
    {
     "name": "stdout",
     "output_type": "stream",
     "text": [
      "4.935729\n",
      "0.6274545652380267\n"
     ]
    },
    {
     "name": "stderr",
     "output_type": "stream",
     "text": [
      "Training with LBFGS:  44%|████▍     | 44/100 [27:14<34:37, 37.09s/it]"
     ]
    },
    {
     "name": "stdout",
     "output_type": "stream",
     "text": [
      "4.3800793\n",
      "0.6046864314232008\n"
     ]
    },
    {
     "name": "stderr",
     "output_type": "stream",
     "text": [
      "Training with LBFGS:  45%|████▌     | 45/100 [27:51<34:00, 37.10s/it]"
     ]
    },
    {
     "name": "stdout",
     "output_type": "stream",
     "text": [
      "4.2632256\n",
      "0.5898422809579748\n"
     ]
    },
    {
     "name": "stderr",
     "output_type": "stream",
     "text": [
      "Training with LBFGS:  46%|████▌     | 46/100 [28:28<33:22, 37.09s/it]"
     ]
    },
    {
     "name": "stdout",
     "output_type": "stream",
     "text": [
      "5.4498935\n",
      "0.572616743460717\n"
     ]
    },
    {
     "name": "stderr",
     "output_type": "stream",
     "text": [
      "Training with LBFGS:  47%|████▋     | 47/100 [29:05<32:38, 36.96s/it]"
     ]
    },
    {
     "name": "stdout",
     "output_type": "stream",
     "text": [
      "6.03108\n",
      "0.5676752329339932\n"
     ]
    },
    {
     "name": "stderr",
     "output_type": "stream",
     "text": [
      "Training with LBFGS:  48%|████▊     | 48/100 [29:41<31:58, 36.89s/it]"
     ]
    },
    {
     "name": "stdout",
     "output_type": "stream",
     "text": [
      "6.294825\n",
      "0.5596364809585728\n"
     ]
    },
    {
     "name": "stderr",
     "output_type": "stream",
     "text": [
      "Training with LBFGS:  49%|████▉     | 49/100 [30:18<31:21, 36.88s/it]"
     ]
    },
    {
     "name": "stdout",
     "output_type": "stream",
     "text": [
      "6.53797\n",
      "0.5302280261729659\n"
     ]
    },
    {
     "name": "stderr",
     "output_type": "stream",
     "text": [
      "Training with LBFGS:  50%|█████     | 50/100 [30:55<30:40, 36.80s/it]"
     ]
    },
    {
     "name": "stdout",
     "output_type": "stream",
     "text": [
      "6.598119\n",
      "0.5360661787743604\n"
     ]
    },
    {
     "name": "stderr",
     "output_type": "stream",
     "text": [
      "Training with LBFGS:  51%|█████     | 51/100 [31:32<30:01, 36.76s/it]"
     ]
    },
    {
     "name": "stdout",
     "output_type": "stream",
     "text": [
      "6.914889\n",
      "0.5258871322407759\n"
     ]
    },
    {
     "name": "stderr",
     "output_type": "stream",
     "text": [
      "Training with LBFGS:  52%|█████▏    | 52/100 [32:08<29:25, 36.77s/it]"
     ]
    },
    {
     "name": "stdout",
     "output_type": "stream",
     "text": [
      "7.350358\n",
      "0.5278920194287395\n"
     ]
    },
    {
     "name": "stderr",
     "output_type": "stream",
     "text": [
      "Training with LBFGS:  53%|█████▎    | 53/100 [32:45<28:47, 36.76s/it]"
     ]
    },
    {
     "name": "stdout",
     "output_type": "stream",
     "text": [
      "7.2725525\n",
      "0.5140612852494272\n"
     ]
    },
    {
     "name": "stderr",
     "output_type": "stream",
     "text": [
      "Training with LBFGS:  54%|█████▍    | 54/100 [33:22<28:10, 36.75s/it]"
     ]
    },
    {
     "name": "stdout",
     "output_type": "stream",
     "text": [
      "7.146356\n",
      "0.5045540936674936\n"
     ]
    },
    {
     "name": "stderr",
     "output_type": "stream",
     "text": [
      "Training with LBFGS:  55%|█████▌    | 55/100 [33:59<27:33, 36.74s/it]"
     ]
    },
    {
     "name": "stdout",
     "output_type": "stream",
     "text": [
      "7.4308486\n",
      "0.49623922587668523\n"
     ]
    },
    {
     "name": "stderr",
     "output_type": "stream",
     "text": [
      "Training with LBFGS:  56%|█████▌    | 56/100 [34:35<26:58, 36.78s/it]"
     ]
    },
    {
     "name": "stdout",
     "output_type": "stream",
     "text": [
      "7.465336\n",
      "0.490115612837255\n"
     ]
    },
    {
     "name": "stderr",
     "output_type": "stream",
     "text": [
      "Training with LBFGS:  57%|█████▋    | 57/100 [35:12<26:19, 36.74s/it]"
     ]
    },
    {
     "name": "stdout",
     "output_type": "stream",
     "text": [
      "7.4649343\n",
      "0.4742655685532354\n"
     ]
    },
    {
     "name": "stderr",
     "output_type": "stream",
     "text": [
      "Training with LBFGS:  58%|█████▊    | 58/100 [35:49<25:43, 36.74s/it]"
     ]
    },
    {
     "name": "stdout",
     "output_type": "stream",
     "text": [
      "7.78526\n",
      "0.45260045345506633\n"
     ]
    },
    {
     "name": "stderr",
     "output_type": "stream",
     "text": [
      "Training with LBFGS:  59%|█████▉    | 59/100 [36:26<25:07, 36.77s/it]"
     ]
    },
    {
     "name": "stdout",
     "output_type": "stream",
     "text": [
      "7.981553\n",
      "0.44871296732438737\n"
     ]
    },
    {
     "name": "stderr",
     "output_type": "stream",
     "text": [
      "Training with LBFGS:  60%|██████    | 60/100 [37:02<24:29, 36.73s/it]"
     ]
    },
    {
     "name": "stdout",
     "output_type": "stream",
     "text": [
      "7.8918056\n",
      "0.4479074639091067\n"
     ]
    },
    {
     "name": "stderr",
     "output_type": "stream",
     "text": [
      "Training with LBFGS:  61%|██████    | 61/100 [37:39<23:51, 36.70s/it]"
     ]
    },
    {
     "name": "stdout",
     "output_type": "stream",
     "text": [
      "7.872839\n",
      "0.4386905821551364\n"
     ]
    },
    {
     "name": "stderr",
     "output_type": "stream",
     "text": [
      "Training with LBFGS:  62%|██████▏   | 62/100 [38:16<23:14, 36.69s/it]"
     ]
    },
    {
     "name": "stdout",
     "output_type": "stream",
     "text": [
      "7.9107304\n",
      "0.4280024238767611\n"
     ]
    },
    {
     "name": "stderr",
     "output_type": "stream",
     "text": [
      "Training with LBFGS:  63%|██████▎   | 63/100 [38:52<22:36, 36.65s/it]"
     ]
    },
    {
     "name": "stdout",
     "output_type": "stream",
     "text": [
      "7.325467\n",
      "0.4240644082074769\n"
     ]
    },
    {
     "name": "stderr",
     "output_type": "stream",
     "text": [
      "Training with LBFGS:  64%|██████▍   | 64/100 [39:29<21:58, 36.63s/it]"
     ]
    },
    {
     "name": "stdout",
     "output_type": "stream",
     "text": [
      "7.418037\n",
      "0.42941793334555706\n"
     ]
    },
    {
     "name": "stderr",
     "output_type": "stream",
     "text": [
      "Training with LBFGS:  65%|██████▌   | 65/100 [40:05<21:22, 36.64s/it]"
     ]
    },
    {
     "name": "stdout",
     "output_type": "stream",
     "text": [
      "6.833986\n",
      "0.4129721266292109\n"
     ]
    },
    {
     "name": "stderr",
     "output_type": "stream",
     "text": [
      "Training with LBFGS:  66%|██████▌   | 66/100 [40:42<20:45, 36.64s/it]"
     ]
    },
    {
     "name": "stdout",
     "output_type": "stream",
     "text": [
      "7.263383\n",
      "0.41349095858502993\n"
     ]
    },
    {
     "name": "stderr",
     "output_type": "stream",
     "text": [
      "Training with LBFGS:  67%|██████▋   | 67/100 [41:19<20:09, 36.66s/it]"
     ]
    },
    {
     "name": "stdout",
     "output_type": "stream",
     "text": [
      "5.566554\n",
      "0.4088003343861125\n"
     ]
    },
    {
     "name": "stderr",
     "output_type": "stream",
     "text": [
      "Training with LBFGS:  68%|██████▊   | 68/100 [41:55<19:32, 36.65s/it]"
     ]
    },
    {
     "name": "stdout",
     "output_type": "stream",
     "text": [
      "6.8607836\n",
      "0.40992542092258993\n"
     ]
    },
    {
     "name": "stderr",
     "output_type": "stream",
     "text": [
      "Training with LBFGS:  69%|██████▉   | 69/100 [42:32<18:55, 36.64s/it]"
     ]
    },
    {
     "name": "stdout",
     "output_type": "stream",
     "text": [
      "6.88707\n",
      "0.4065441415621703\n"
     ]
    },
    {
     "name": "stderr",
     "output_type": "stream",
     "text": [
      "Training with LBFGS:  70%|███████   | 70/100 [43:09<18:20, 36.68s/it]"
     ]
    },
    {
     "name": "stdout",
     "output_type": "stream",
     "text": [
      "6.7725205\n",
      "0.40148004440590473\n"
     ]
    },
    {
     "name": "stderr",
     "output_type": "stream",
     "text": [
      "Training with LBFGS:  71%|███████   | 71/100 [43:45<17:44, 36.70s/it]"
     ]
    },
    {
     "name": "stdout",
     "output_type": "stream",
     "text": [
      "5.5758743\n",
      "0.3963009862789027\n"
     ]
    },
    {
     "name": "stderr",
     "output_type": "stream",
     "text": [
      "Training with LBFGS:  72%|███████▏  | 72/100 [44:22<17:07, 36.70s/it]"
     ]
    },
    {
     "name": "stdout",
     "output_type": "stream",
     "text": [
      "6.5145793\n",
      "0.39492436788647745\n"
     ]
    },
    {
     "name": "stderr",
     "output_type": "stream",
     "text": [
      "Training with LBFGS:  73%|███████▎  | 73/100 [44:59<16:32, 36.74s/it]"
     ]
    },
    {
     "name": "stdout",
     "output_type": "stream",
     "text": [
      "6.8811655\n",
      "0.38938317855829563\n"
     ]
    },
    {
     "name": "stderr",
     "output_type": "stream",
     "text": [
      "Training with LBFGS:  74%|███████▍  | 74/100 [45:36<15:54, 36.73s/it]"
     ]
    },
    {
     "name": "stdout",
     "output_type": "stream",
     "text": [
      "6.8949757\n",
      "0.38187947723185295\n"
     ]
    },
    {
     "name": "stderr",
     "output_type": "stream",
     "text": [
      "Training with LBFGS:  75%|███████▌  | 75/100 [46:12<15:17, 36.69s/it]"
     ]
    },
    {
     "name": "stdout",
     "output_type": "stream",
     "text": [
      "7.1577234\n",
      "0.3798870827439112\n"
     ]
    },
    {
     "name": "stderr",
     "output_type": "stream",
     "text": [
      "Training with LBFGS:  76%|███████▌  | 76/100 [46:49<14:41, 36.72s/it]"
     ]
    },
    {
     "name": "stdout",
     "output_type": "stream",
     "text": [
      "7.219818\n",
      "0.3753821737046755\n"
     ]
    },
    {
     "name": "stderr",
     "output_type": "stream",
     "text": [
      "Training with LBFGS:  77%|███████▋  | 77/100 [47:26<14:04, 36.73s/it]"
     ]
    },
    {
     "name": "stdout",
     "output_type": "stream",
     "text": [
      "6.9892507\n",
      "0.37545863985047984\n"
     ]
    },
    {
     "name": "stderr",
     "output_type": "stream",
     "text": [
      "Training with LBFGS:  78%|███████▊  | 78/100 [48:02<13:27, 36.71s/it]"
     ]
    },
    {
     "name": "stdout",
     "output_type": "stream",
     "text": [
      "7.111979\n",
      "0.3685510156938169\n"
     ]
    },
    {
     "name": "stderr",
     "output_type": "stream",
     "text": [
      "Training with LBFGS:  79%|███████▉  | 79/100 [48:39<12:51, 36.72s/it]"
     ]
    },
    {
     "name": "stdout",
     "output_type": "stream",
     "text": [
      "6.906522\n",
      "0.36288499675635866\n"
     ]
    },
    {
     "name": "stderr",
     "output_type": "stream",
     "text": [
      "Training with LBFGS:  80%|████████  | 80/100 [49:16<12:14, 36.70s/it]"
     ]
    },
    {
     "name": "stdout",
     "output_type": "stream",
     "text": [
      "7.0490975\n",
      "0.3588272352208883\n"
     ]
    },
    {
     "name": "stderr",
     "output_type": "stream",
     "text": [
      "Training with LBFGS:  81%|████████  | 81/100 [49:53<11:36, 36.67s/it]"
     ]
    },
    {
     "name": "stdout",
     "output_type": "stream",
     "text": [
      "6.3549623\n",
      "0.3582049405638343\n"
     ]
    },
    {
     "name": "stderr",
     "output_type": "stream",
     "text": [
      "Training with LBFGS:  82%|████████▏ | 82/100 [50:29<11:00, 36.69s/it]"
     ]
    },
    {
     "name": "stdout",
     "output_type": "stream",
     "text": [
      "6.7204413\n",
      "0.35678930743374077\n"
     ]
    },
    {
     "name": "stderr",
     "output_type": "stream",
     "text": [
      "Training with LBFGS:  83%|████████▎ | 83/100 [51:06<10:23, 36.70s/it]"
     ]
    },
    {
     "name": "stdout",
     "output_type": "stream",
     "text": [
      "6.366797\n",
      "0.35382665138735964\n"
     ]
    },
    {
     "name": "stderr",
     "output_type": "stream",
     "text": [
      "Training with LBFGS:  84%|████████▍ | 84/100 [51:43<09:47, 36.70s/it]"
     ]
    },
    {
     "name": "stdout",
     "output_type": "stream",
     "text": [
      "6.3258514\n",
      "0.3536922672256224\n"
     ]
    },
    {
     "name": "stderr",
     "output_type": "stream",
     "text": [
      "Training with LBFGS:  85%|████████▌ | 85/100 [52:19<09:10, 36.67s/it]"
     ]
    },
    {
     "name": "stdout",
     "output_type": "stream",
     "text": [
      "6.416017\n",
      "0.3518017457945152\n"
     ]
    },
    {
     "name": "stderr",
     "output_type": "stream",
     "text": [
      "Training with LBFGS:  86%|████████▌ | 86/100 [52:56<08:33, 36.70s/it]"
     ]
    },
    {
     "name": "stdout",
     "output_type": "stream",
     "text": [
      "6.3096414\n",
      "0.34641479315670987\n"
     ]
    },
    {
     "name": "stderr",
     "output_type": "stream",
     "text": [
      "Training with LBFGS:  87%|████████▋ | 87/100 [53:33<07:57, 36.75s/it]"
     ]
    },
    {
     "name": "stdout",
     "output_type": "stream",
     "text": [
      "6.7110314\n",
      "0.3414036384889775\n"
     ]
    },
    {
     "name": "stderr",
     "output_type": "stream",
     "text": [
      "Training with LBFGS:  88%|████████▊ | 88/100 [54:10<07:21, 36.75s/it]"
     ]
    },
    {
     "name": "stdout",
     "output_type": "stream",
     "text": [
      "6.728562\n",
      "0.34272187610412774\n"
     ]
    },
    {
     "name": "stderr",
     "output_type": "stream",
     "text": [
      "Training with LBFGS:  89%|████████▉ | 89/100 [54:47<06:45, 36.89s/it]"
     ]
    },
    {
     "name": "stdout",
     "output_type": "stream",
     "text": [
      "6.8160186\n",
      "0.34058571450797354\n"
     ]
    },
    {
     "name": "stderr",
     "output_type": "stream",
     "text": [
      "Training with LBFGS:  90%|█████████ | 90/100 [55:23<06:08, 36.80s/it]"
     ]
    },
    {
     "name": "stdout",
     "output_type": "stream",
     "text": [
      "6.899469\n",
      "0.3369770801958535\n"
     ]
    },
    {
     "name": "stderr",
     "output_type": "stream",
     "text": [
      "Training with LBFGS:  91%|█████████ | 91/100 [56:00<05:30, 36.78s/it]"
     ]
    },
    {
     "name": "stdout",
     "output_type": "stream",
     "text": [
      "6.785017\n",
      "0.3349492504592846\n"
     ]
    },
    {
     "name": "stderr",
     "output_type": "stream",
     "text": [
      "Training with LBFGS:  92%|█████████▏| 92/100 [56:35<04:49, 36.16s/it]"
     ]
    },
    {
     "name": "stdout",
     "output_type": "stream",
     "text": [
      "6.9036436\n",
      "0.33475037443624406\n"
     ]
    },
    {
     "name": "stderr",
     "output_type": "stream",
     "text": [
      "Training with LBFGS:  93%|█████████▎| 93/100 [57:12<04:14, 36.34s/it]"
     ]
    },
    {
     "name": "stdout",
     "output_type": "stream",
     "text": [
      "7.0521493\n",
      "0.3334294242174126\n"
     ]
    },
    {
     "name": "stderr",
     "output_type": "stream",
     "text": [
      "Training with LBFGS:  94%|█████████▍| 94/100 [57:48<03:38, 36.43s/it]"
     ]
    },
    {
     "name": "stdout",
     "output_type": "stream",
     "text": [
      "6.212643\n",
      "0.3299994499953684\n"
     ]
    },
    {
     "name": "stderr",
     "output_type": "stream",
     "text": [
      "Training with LBFGS:  95%|█████████▌| 95/100 [58:25<03:02, 36.41s/it]"
     ]
    },
    {
     "name": "stdout",
     "output_type": "stream",
     "text": [
      "7.1179\n",
      "0.33324064676774334\n"
     ]
    },
    {
     "name": "stderr",
     "output_type": "stream",
     "text": [
      "Training with LBFGS:  96%|█████████▌| 96/100 [59:00<02:24, 36.05s/it]"
     ]
    },
    {
     "name": "stdout",
     "output_type": "stream",
     "text": [
      "7.030483\n",
      "0.3341418747914047\n"
     ]
    },
    {
     "name": "stderr",
     "output_type": "stream",
     "text": [
      "Training with LBFGS:  97%|█████████▋| 97/100 [59:36<01:48, 36.02s/it]"
     ]
    },
    {
     "name": "stdout",
     "output_type": "stream",
     "text": [
      "6.7683377\n",
      "0.33338687903739417\n"
     ]
    },
    {
     "name": "stderr",
     "output_type": "stream",
     "text": [
      "Training with LBFGS:  98%|█████████▊| 98/100 [1:00:13<01:12, 36.28s/it]"
     ]
    },
    {
     "name": "stdout",
     "output_type": "stream",
     "text": [
      "7.3937516\n",
      "0.32923852600994047\n"
     ]
    },
    {
     "name": "stderr",
     "output_type": "stream",
     "text": [
      "Training with LBFGS:  99%|█████████▉| 99/100 [1:00:47<00:35, 35.79s/it]"
     ]
    },
    {
     "name": "stdout",
     "output_type": "stream",
     "text": [
      "7.3966455\n",
      "0.3292542493515097\n"
     ]
    },
    {
     "name": "stderr",
     "output_type": "stream",
     "text": [
      "Training with LBFGS: 100%|██████████| 100/100 [1:01:23<00:00, 36.84s/it]"
     ]
    },
    {
     "name": "stdout",
     "output_type": "stream",
     "text": [
      "7.5675955\n",
      "0.3296235147729256\n",
      "Training time: 3683.8218\n",
      "Error u: 8.653960e-01\n",
      "Error u : 8.653960e-01\n"
     ]
    },
    {
     "name": "stderr",
     "output_type": "stream",
     "text": [
      "\n"
     ]
    }
   ],
   "source": [
    "#RAR-G方法，对1000个点，先选择10个点训练500次，然后每500次迭代重采样100个点，选出其中残差最大的10个点添加到训练点中；最后总共有1000个点，共训练10000次\n",
    "# seeds = [0, 1, 12, 33, 123, 321, 1234, 4321, 12345, 54321] #生成10个随机种子\n",
    "# seeds = [0]\n",
    "\n",
    "#设置噪声水平为0\n",
    "noise = 0.0        \n",
    "\n",
    "# Doman bounds，定义两个一维数组lb和ub，问题域是一个二维空间，其中 x 的范围是 -5 到 5，t 的范围是 0 到 π/2(竖着的)\n",
    "lb = np.array([-1.0, 0.0])\n",
    "ub = np.array([1.0, 1.0])\n",
    "#定义三个整数，分别表示初始条件点数量、边界条件点数量和配位点的数量（这些点用于训练神经网络）\n",
    "N0 = 500\n",
    "N_b = 100\n",
    "N_f = 5000\n",
    "\n",
    "\n",
    "#读取名为burgers_shock的Matlab文件，文件中的数据存储在data变量中。这里的路径也要随着设备的情况修改 \n",
    "data = scipy.io.loadmat('../data/AC.mat')\n",
    "#从data字典中取出变量tt和x的值，并转换为一维数组（flatten方法），最后tongg[:,None]将一维数组转换为二维数组\n",
    "t = data['tt'].flatten()[:,None]\n",
    "x = data['x'].flatten()[:,None]\n",
    "Exact = np.real(data['uu']).T #从data数据中取出usol的值，并取实部，最后转置，赋值给Exact\n",
    "#生成一个二位网络，X和T是输出的二维数组\n",
    "#这个点结果是X和T均为形状为[len(t),len(x)]的二维数组，X的每一行都是x，一共len(t)行，T的每一列都是t，一共len(x)列\n",
    "X, T = np.meshgrid(x,t)\n",
    "\n",
    "X_star = np.hstack((X.flatten()[:,None], T.flatten()[:,None]))  #按列堆叠数组，X_star是一个二维数组，其中第一列是X的展平，第二列是T的展平\n",
    "u_star = Exact.flatten()[:,None]    #对Exact_u使用flatten方法将其转换为一维数组，最后使用[:,None]将其转换为二维数组         \n",
    "\n",
    "###########################\n",
    "\n",
    "#从0~数组x的行数(256)中随机选择N0个数，replace=False表示不允许重复选择，最后将这N0个数赋值给idx_x\n",
    "idx_x = np.linspace(0, x.shape[0]-1, N0, dtype='int') #生成一个从0到x.shape[0]-1的等差数列，长度为x.shape[0]，数据类型为整型\n",
    "# idx_x = np.random.choice(x.shape[0], N0, replace=False)\n",
    "#从x中选择N0个对应的行(idx_x对应的行)，最后将这N0行赋值给x0\n",
    "x0 = x[idx_x,:]\n",
    "#从Exact_u中选择N0个对应的行(idx_x对应的行)的第一列元素，最后将这N0个元素赋值给u0\n",
    "# u0 = Exact[idx_x,0:1]\n",
    "u0 = Exact[0:1,idx_x].T\n",
    "\n",
    "#从0~数组t的行数中随机选择N_b个数，replace=False表示不允许重复选择，最后将这N_b个数赋值给idx_t\n",
    "idx_t = np.linspace(0, t.shape[0]-1, N_b, dtype='int') #生成一个从0到t.shape[0]-1的等差数列，长度为t.shape[0]，数据类型为整型\n",
    "# idx_t = np.random.choice(t.shape[0], N_b, replace=False)\n",
    "#从t中选择N_b个对应的行(idx_t对应的行)，最后将这N_b行赋值给tb\n",
    "tb = t[idx_t,:]\n",
    "\n",
    "error = [] #创建一个空列表，用于存储误差\n",
    "error_mae = [] #创建一个空列表，用于存储MAE值\n",
    "error_mse = [] #创建一个空列表，用于存储MSE值\n",
    "\n",
    "i = 0 #初始化i为0\n",
    "\n",
    "nIter = 10000 #设置迭代次数为10000\n",
    "nIterLBFGS = 1000 #设置LBFGS迭代次数为500\n",
    "\n",
    "\n",
    "\n",
    "set_seed(0) #设置随机种子\n",
    "\n",
    "\n",
    "X_f = lb + (ub-lb)*lhs(2, N_f) #lhs函数采用拉丁超采样方法，生成一个近似均匀分布的多维样本点集，返回的是一个形状为（$N_f$，2）的数组，每一行都是一个2维的样本点，所有样本点都在[0,1]范围内，并对该样本集进行缩放，把每个样本从[0,1]区间缩放到[lb,ub]区域内，即得到了指定范围内均匀分布的样本$X_f$。\n",
    "\n",
    "\n",
    "\n",
    "#创建PINN模型并输入各种参数        \n",
    "model = PhysicsInformedNN(x0, u0, tb, X_f, lb, ub)\n",
    "\n",
    "\n",
    "\n",
    "#获取当前时间并赋值给start_time  \n",
    "start_time = time.time()   \n",
    "\n",
    "chaos = []\n",
    "chunchaos = [] #创建一个空列表，用于存储混沌度\n",
    "testerror = []\n",
    "\n",
    "for i in tqdm(range(nIter), desc='Training with Adam'):\n",
    "    model.train(1, 0) #每次迭代只训练一次，使用Adam优化器\n",
    "    u_chaos = calculate_chaos(model, X_star, num_iter=100) #计算混沌度，返回(N, 1)的数组\n",
    "    u_chunchaos = calculate_chunchaos(model, X_star, num_iter=100) #计算混沌度，返回(N, 1)的数组\n",
    "    chaos.append(u_chaos.mean()) #将混沌度添加到混沌度列表中\n",
    "    chunchaos.append(u_chunchaos.mean()) #将混沌度添加到混沌度列表中\n",
    "    u_pred = model.predict(X_star) #返回(N, 1)的Numpy数组\n",
    "    error_mae = np.mean(np.abs(u_star - u_pred)) #计算MAE\n",
    "    testerror.append(error_mae) #将MAE添加到测试误差列表中\n",
    "    chaosloss = calculate_chaos(model, X_f, num_iter=100).mean() #计算混沌度，返回(N, 1)的数组\n",
    "    print(chaosloss)\n",
    "    print(np.mean(np.abs(u_star - u_pred)))\n",
    "    model.chaosloss = torch.tensor(chaosloss, dtype=torch.float32, requires_grad=True).to(device) #将混沌度转换为张量，并设置requires_grad=True，表示需要计算梯度\n",
    "\n",
    "    \n",
    "for i in tqdm(range(nIterLBFGS), desc='Training with LBFGS'):\n",
    "    model.train(0, 1)\n",
    "    u_chaos = calculate_chaos(model, X_star, num_iter=100) #计算混沌度，返回(N, 1)的数组\n",
    "    u_chunchaos = calculate_chunchaos(model, X_star, num_iter=100) #计算混沌度，返回(N, 1)的数组\n",
    "    chaos.append(u_chaos.mean()) #将混沌度添加到混沌度列表中\n",
    "    chunchaos.append(u_chunchaos.mean()) #将混沌度添加到混沌度列表中\n",
    "    u_pred = model.predict(X_star) #返回(N, 1)的Numpy数组\n",
    "    error_mae = np.mean(np.abs(u_star - u_pred)) #计算MAE\n",
    "    testerror.append(error_mae) #将MAE添加到测试误差列表中\n",
    "\n",
    "    chaosloss = calculate_chaos(model, X_f, num_iter=100).mean() #计算混沌度，返回(N, 1)的数组\n",
    "    print(chaosloss)\n",
    "    print(np.mean(np.abs(u_star - u_pred)))\n",
    "    model.chaosloss = torch.tensor(chaosloss, dtype=torch.float32, requires_grad=True).to(device) #将混沌度转换为张量，并设置requires_grad=True，表示需要计算梯度\n",
    "\n",
    "\n",
    "\n",
    "\n",
    "#获取当前时间并减去start_time，得到训练时间并赋值给elapsed\n",
    "elapsed = time.time() - start_time                \n",
    "#打印训练所需时间\n",
    "print('Training time: %.4f' % (elapsed))\n",
    "\n",
    "\n",
    "\n",
    "\n",
    "\n",
    "#用训练好的模型进行预测，返回四个值（均为数组）    \n",
    "u_pred = model.predict(X_star)\n",
    "\n",
    "#计算误差（基于2范数）        \n",
    "error_u = np.linalg.norm(u_star-u_pred,2)/np.linalg.norm(u_star,2)\n",
    "\n",
    "#打印误差\n",
    "print('Error u: %e' % (error_u))\n",
    "\n",
    "#将误差添加到error列表中\n",
    "\n",
    "#计算误差（基于2范数）\n",
    "error.append(error_u) #计算误差，然后将误差添加到error列表中\n",
    "# 计算 MAE 和 MSE\n",
    "\n",
    "\n",
    "print('Error u : %e' % (np.linalg.norm(u_star-u_pred,2)/np.linalg.norm(u_star,2))) #打印误差  \n",
    "\n",
    "\n",
    "\n",
    "#使用griddata函数将X_star、u_pred、v_pred和h_pred插值到网格上，得到U_pred、V_pred和H_pred\n",
    "U_pred = griddata(X_star, u_pred.flatten(), (X, T), method='cubic')\n",
    "\n",
    " "
   ]
  },
  {
   "cell_type": "code",
   "execution_count": 33,
   "metadata": {
    "execution": {
     "iopub.execute_input": "2025-08-08T01:53:04.593970Z",
     "iopub.status.busy": "2025-08-08T01:53:04.593771Z",
     "iopub.status.idle": "2025-08-08T01:53:04.596475Z",
     "shell.execute_reply": "2025-08-08T01:53:04.596084Z"
    }
   },
   "outputs": [],
   "source": [
    "trainloss = torch.stack(model.loss_value).cpu().detach().numpy()\n"
   ]
  },
  {
   "cell_type": "code",
   "execution_count": 34,
   "metadata": {
    "execution": {
     "iopub.execute_input": "2025-08-08T01:53:04.597606Z",
     "iopub.status.busy": "2025-08-08T01:53:04.597531Z",
     "iopub.status.idle": "2025-08-08T01:53:04.728428Z",
     "shell.execute_reply": "2025-08-08T01:53:04.728055Z"
    }
   },
   "outputs": [
    {
     "name": "stdout",
     "output_type": "stream",
     "text": [
      "100\n"
     ]
    },
    {
     "data": {
      "image/png": "[encoded data removed]",
      "text/plain": [
       "<Figure size 640x480 with 1 Axes>"
      ]
     },
     "metadata": {},
     "output_type": "display_data"
    }
   ],
   "source": [
    "print(len(trainloss))\n",
    "# print(trainloss)\n",
    "# 定义图例的标签\n",
    "labels = [\"Grid\"]\n",
    "\n",
    "# 创建一个新的图形\n",
    "plt.figure()\n",
    "\n",
    "# # 遍历所有的loss数据和标签\n",
    "# for loss, label in zip(trainloss, labels):\n",
    "#     # 绘制每个loss数据，并使用标签作为图例的条目\n",
    "#     plt.plot(loss, label=label)\n",
    "\n",
    "plt.plot(trainloss, label='train loss')\n",
    "\n",
    "# 添加图例，放在图像外\n",
    "plt.legend(bbox_to_anchor=(1.05, 1), loc='upper left')\n",
    "\n",
    "\n",
    "plt.xlim([0,len(trainloss)]) # 设置x轴的范围\n",
    "plt.yscale('log') #设置y轴为对数尺度，这样即使列表中有一些非常大的值，也不会影响其他值的可视化\n",
    "plt.xlabel('Iteration') # 设置x轴的标签\n",
    "plt.ylabel('Loss') # 设置y轴的标签\n",
    "plt.title('Loss vs. Iteration based on different methods of sampling') # 设置图形的标题\n",
    "# 显示图形\n",
    "plt.show()\n",
    "plt.show()"
   ]
  },
  {
   "cell_type": "code",
   "execution_count": 35,
   "metadata": {
    "execution": {
     "iopub.execute_input": "2025-08-08T01:53:04.729930Z",
     "iopub.status.busy": "2025-08-08T01:53:04.729592Z",
     "iopub.status.idle": "2025-08-08T01:53:04.969235Z",
     "shell.execute_reply": "2025-08-08T01:53:04.968823Z"
    }
   },
   "outputs": [
    {
     "name": "stdout",
     "output_type": "stream",
     "text": [
      "100\n"
     ]
    },
    {
     "data": {
      "image/png": "[encoded data removed]",
      "text/plain": [
       "<Figure size 640x480 with 1 Axes>"
      ]
     },
     "metadata": {},
     "output_type": "display_data"
    }
   ],
   "source": [
    "print(len(testerror))\n",
    "# print(trainloss)\n",
    "# 定义图例的标签\n",
    "labels = [\"Grid\"]\n",
    "\n",
    "# 创建一个新的图形\n",
    "plt.figure()\n",
    "\n",
    "# # 遍历所有的loss数据和标签\n",
    "# for loss, label in zip(trainloss, labels):\n",
    "#     # 绘制每个loss数据，并使用标签作为图例的条目\n",
    "#     plt.plot(loss, label=label)\n",
    "\n",
    "plt.plot(trainloss, label='loss')\n",
    "plt.plot(testerror, label='error')\n",
    "plt.plot(chaos, label='chaos')\n",
    "plt.plot(chunchaos, label='chunchaos')\n",
    "\n",
    "# 添加图例，放在图像外\n",
    "plt.legend(bbox_to_anchor=(1.05, 1), loc='upper left')\n",
    "\n",
    "\n",
    "plt.xlim([0,len(trainloss)]) # 设置x轴的范围\n",
    "plt.yscale('log') #设置y轴为对数尺度，这样即使列表中有一些非常大的值，也不会影响其他值的可视化\n",
    "# plt.yscale('log') #设置y轴为对数尺度，这样即使列表中有一些非常大的值，也不会影响其他值的可视化\n",
    "plt.xlabel('Iteration') # 设置x轴的标签\n",
    "plt.ylabel('testerror') # 设置y轴的标签\n",
    "plt.title('testerror vs. Iteration based on different methods of sampling') # 设置图形的标题\n",
    "# 显示图形\n",
    "plt.show()"
   ]
  },
  {
   "cell_type": "code",
   "execution_count": 36,
   "metadata": {
    "execution": {
     "iopub.execute_input": "2025-08-08T01:53:04.970485Z",
     "iopub.status.busy": "2025-08-08T01:53:04.970400Z",
     "iopub.status.idle": "2025-08-08T01:53:05.030525Z",
     "shell.execute_reply": "2025-08-08T01:53:05.030158Z"
    }
   },
   "outputs": [
    {
     "name": "stdout",
     "output_type": "stream",
     "text": [
      "100\n"
     ]
    },
    {
     "data": {
      "image/png": "[encoded data removed]",
      "text/plain": [
       "<Figure size 640x480 with 1 Axes>"
      ]
     },
     "metadata": {},
     "output_type": "display_data"
    }
   ],
   "source": [
    "print(len(testerror))\n",
    "# print(trainloss)\n",
    "# 定义图例的标签\n",
    "labels = [\"Grid\"]\n",
    "\n",
    "# 创建一个新的图形\n",
    "plt.figure()\n",
    "\n",
    "# # 遍历所有的loss数据和标签\n",
    "# for loss, label in zip(trainloss, labels):\n",
    "#     # 绘制每个loss数据，并使用标签作为图例的条目\n",
    "#     plt.plot(loss, label=label)\n",
    "\n",
    "plt.plot(trainloss, label='loss')\n",
    "plt.plot(testerror, label='error')\n",
    "plt.plot(chaos, label='chaos')\n",
    "plt.plot(chunchaos, label='chunchaos')\n",
    "\n",
    "# 添加图例，放在图像外\n",
    "plt.legend(bbox_to_anchor=(1.05, 1), loc='upper left')\n",
    "\n",
    "\n",
    "plt.xlim([0,len(trainloss)]) # 设置x轴的范围\n",
    "# plt.yscale('log') #设置y轴为对数尺度，这样即使列表中有一些非常大的值，也不会影响其他值的可视化\n",
    "# plt.yscale('log') #设置y轴为对数尺度，这样即使列表中有一些非常大的值，也不会影响其他值的可视化\n",
    "plt.xlabel('Iteration') # 设置x轴的标签\n",
    "plt.ylabel('testerror') # 设置y轴的标签\n",
    "plt.title('testerror vs. Iteration based on different methods of sampling') # 设置图形的标题\n",
    "# 显示图形\n",
    "plt.show()"
   ]
  },
  {
   "cell_type": "code",
   "execution_count": 37,
   "metadata": {
    "execution": {
     "iopub.execute_input": "2025-08-08T01:53:05.031671Z",
     "iopub.status.busy": "2025-08-08T01:53:05.031591Z",
     "iopub.status.idle": "2025-08-08T01:53:05.033953Z",
     "shell.execute_reply": "2025-08-08T01:53:05.033712Z"
    }
   },
   "outputs": [
    {
     "name": "stdout",
     "output_type": "stream",
     "text": [
      "数据已保存到 formersunshimy_training_data.npz 文件中。\n"
     ]
    }
   ],
   "source": [
    "np.savez('formersunshimy_training_data.npz', \n",
    "         trainloss=trainloss, \n",
    "         testerror=testerror, \n",
    "         chunchaos=chunchaos,\n",
    "         chaos=chaos)\n",
    "\n",
    "print(\"数据已保存到 formersunshimy_training_data.npz 文件中。\")"
   ]
  },
  {
   "cell_type": "code",
   "execution_count": 38,
   "metadata": {
    "execution": {
     "iopub.execute_input": "2025-08-08T01:53:05.035030Z",
     "iopub.status.busy": "2025-08-08T01:53:05.034906Z",
     "iopub.status.idle": "2025-08-08T01:53:05.037470Z",
     "shell.execute_reply": "2025-08-08T01:53:05.037229Z"
    }
   },
   "outputs": [
    {
     "name": "stdout",
     "output_type": "stream",
     "text": [
      "加载的训练损失数据长度: 100\n",
      "加载的测试误差数据长度: 100\n"
     ]
    }
   ],
   "source": [
    "import numpy as np\n",
    "\n",
    "# 加载数据\n",
    "data = np.load('formersunshimy_training_data.npz')\n",
    "\n",
    "# 通过保存时使用的键名来访问每个数组\n",
    "loaded_loss = data['trainloss']\n",
    "loaded_error = data['testerror']\n",
    "loaded_chaos = data['chaos']\n",
    "loaded_chunchaos = data['chunchaos']\n",
    "\n",
    "print(\"加载的训练损失数据长度:\", len(loaded_loss))\n",
    "print(\"加载的测试误差数据长度:\", len(loaded_error))\n",
    "\n",
    "# 现在你可以用加载的数据进行绘图或分析了"
   ]
  },
  {
   "cell_type": "code",
   "execution_count": 39,
   "metadata": {
    "execution": {
     "iopub.execute_input": "2025-08-08T01:53:05.038597Z",
     "iopub.status.busy": "2025-08-08T01:53:05.038432Z",
     "iopub.status.idle": "2025-08-08T01:53:05.206940Z",
     "shell.execute_reply": "2025-08-08T01:53:05.206563Z"
    }
   },
   "outputs": [
    {
     "data": {
      "image/png": "[encoded data removed]",
      "text/plain": [
       "<Figure size 640x480 with 1 Axes>"
      ]
     },
     "metadata": {},
     "output_type": "display_data"
    }
   ],
   "source": [
    "# print(len(testerror))\n",
    "# print(trainloss)\n",
    "# 定义图例的标签\n",
    "labels = [\"Grid\"]\n",
    "\n",
    "# 创建一个新的图形\n",
    "plt.figure()\n",
    "\n",
    "# # 遍历所有的loss数据和标签\n",
    "# for loss, label in zip(trainloss, labels):\n",
    "#     # 绘制每个loss数据，并使用标签作为图例的条目\n",
    "#     plt.plot(loss, label=label)\n",
    "\n",
    "plt.plot(loaded_loss, label='loss')\n",
    "plt.plot(loaded_error, label='error')\n",
    "plt.plot(loaded_chaos, label='chaos')\n",
    "plt.plot(loaded_chunchaos, label='chunchaos')\n",
    "\n",
    "# 添加图例，放在图像外\n",
    "plt.legend(bbox_to_anchor=(1.05, 1), loc='upper left')\n",
    "\n",
    "\n",
    "plt.xlim([0,len(loaded_loss)]) # 设置x轴的范围\n",
    "plt.yscale('log') #设置y轴为对数尺度，这样即使列表中有一些非常大的值，也不会影响其他值的可视化\n",
    "# plt.yscale('log') #设置y轴为对数尺度，这样即使列表中有一些非常大的值，也不会影响其他值的可视化\n",
    "plt.xlabel('Iteration') # 设置x轴的标签\n",
    "plt.ylabel('testerror') # 设置y轴的标签\n",
    "plt.title('testerror vs. Iteration based on different methods of sampling') # 设置图形的标题\n",
    "# 显示图形\n",
    "plt.show()"
   ]
  },
  {
   "cell_type": "code",
   "execution_count": 40,
   "metadata": {},
   "outputs": [
    {
     "data": {
      "text/plain": [
       "0.3296235147729256"
      ]
     },
     "execution_count": 40,
     "metadata": {},
     "output_type": "execute_result"
    }
   ],
   "source": [
    "loaded_error[-1]"
   ]
  }
 ],
 "metadata": {
  "kernelspec": {
   "display_name": "torchgpu",
   "language": "python",
   "name": "python3"
  },
  "language_info": {
   "codemirror_mode": {
    "name": "ipython",
    "version": 3
   },
   "file_extension": ".py",
   "mimetype": "text/x-python",
   "name": "python",
   "nbconvert_exporter": "python",
   "pygments_lexer": "ipython3",
   "version": "3.10.13"
  }
 },
 "nbformat": 4,
 "nbformat_minor": 2
}
