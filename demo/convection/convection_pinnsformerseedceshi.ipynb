{
 "cells": [
  {
   "cell_type": "code",
   "execution_count": 35,
   "metadata": {
    "execution": {
     "iopub.execute_input": "2025-07-04T01:32:02.328635Z",
     "iopub.status.busy": "2025-07-04T01:32:02.328513Z",
     "iopub.status.idle": "2025-07-04T01:32:02.969959Z",
     "shell.execute_reply": "2025-07-04T01:32:02.969457Z"
    }
   },
   "outputs": [],
   "source": [
    "import sys #导入sys模块。sys模块提供了一些变量和函数，用于与 Python解释器进行交互和访问。例如，sys.path 是一个 Python 在导入模块时会查找的路径列表，sys.argv 是一个包含命令行参数的列表，sys.exit() 函数可以用于退出 Python 程序。导入 sys 模块后，你就可以在你的程序中使用这些变量和函数了。\n",
    "sys.path.insert(0, '../..') #在 Python的sys.path列表中插入一个新的路径。sys.path是一个 Python 在导入模块时会查找的路径列表。新的路径'../../Utilities/'相对于当前脚本的路径。当你尝试导入一个模块时，Python 会在 sys.path 列表中的路径下查找这个模块。通过在列表开始位置插入一个路径，你可以让 Python 优先在这个路径下查找模块。这在你需要导入自定义模块或者不在 Python 标准库中的模块时非常有用。\n",
    "\n",
    "import numpy as np\n",
    "import torch\n",
    "import torch.nn as nn\n",
    "import matplotlib.pyplot as plt\n",
    "import random\n",
    "from torch.optim import LBFGS\n",
    "from tqdm import tqdm\n",
    "import scipy.io\n",
    "\n",
    "from util import *\n",
    "from model.pinn import PINNs\n",
    "from model.pinnsformer import PINNsformer"
   ]
  },
  {
   "cell_type": "code",
   "execution_count": 36,
   "metadata": {
    "execution": {
     "iopub.execute_input": "2025-07-04T01:32:02.971874Z",
     "iopub.status.busy": "2025-07-04T01:32:02.971734Z",
     "iopub.status.idle": "2025-07-04T01:32:02.974397Z",
     "shell.execute_reply": "2025-07-04T01:32:02.974191Z"
    }
   },
   "outputs": [],
   "source": [
    "#定义设置随机数种子的函数，第一个参数seed表示种子；第二个参数用来设置CUDA的卷积操作是否确定性，默认为False，表示没有确定性\n",
    "def set_seed(seed):\n",
    "    # torch.manual_seed(seed) #设置pytorch的CPU随机数生成器的种子\n",
    "    # torch.cuda.manual_seed_all(seed) #设置putorch的所有GPU随机数生成器的种子\n",
    "    # np.random.seed(seed) #设置numpy的随机数生成器的种子\n",
    "    # random.seed(seed) #设置python的内置随机数生成器的种子\n",
    "    # torch.backends.cudnn.deterministic = deterministic #True会让CUDA的卷积操作变得确定性，即对于相同的输入，每次运行会得到相同的结果，False则相反\n",
    "    \"\"\"\n",
    "    设置PyTorch的随机种子, 用于生成随机数. 通过设置相同的种子, 可以确保每次运行时生成的随机数序列相同\n",
    "    \"\"\"\n",
    "    torch.manual_seed(seed)\n",
    " \n",
    "    \"\"\"\n",
    "    设置PyTorch在所有可用的CUDA设备上的随机种子. 如果在使用GPU进行计算, 这个设置可以确保在不同的GPU上生成的随机数序列相同\n",
    "    \"\"\"\n",
    "    torch.cuda.manual_seed_all(seed)\n",
    " \n",
    "    \"\"\"\n",
    "    设置PyTorch在当前CUDA设备上的随机种子. 它与上一行代码的作用类似, 但只影响当前设备\n",
    "    \"\"\"\n",
    "    torch.cuda.manual_seed(seed)\n",
    " \n",
    "    \"\"\"\n",
    "    设置NumPy的随机种子, 用于生成随机数. 通过设置相同的种子，可以确保在使用NumPy的随机函数时生成的随机数序列相同\n",
    "    \"\"\"\n",
    "    np.random.seed(seed)\n",
    "    \n",
    "    \"\"\"\n",
    "    设置Python内置的随机函数的种子. Python的random模块提供了许多随机函数, 包括生成随机数、打乱列表等. 通过设置相同的种子, 可以确保使用这些随机函数时生成的随机数序列相同\n",
    "    \"\"\"\n",
    "    random.seed(seed)\n",
    "    \n",
    "    \"\"\"\n",
    "    设置Python的哈希种子 (哈希函数被广泛用于数据结构 (如字典和集合) 的实现，以及一些内部操作 (如查找和比较)). 通过设置相同的种子, 可以确保在不同的运行中生成的哈希结果相同\n",
    "    \"\"\"\n",
    "    # os.environ[\"PYTHONHASHSEED\"] = str(seed)\n",
    "    \n",
    "    \"\"\"\n",
    "    该设置确保每次运行代码时, cuDNN的计算结果是确定性的, 即相同的输入会产生相同的输出, 这是通过禁用一些非确定性的算法来实现的, 例如在卷积操作中使用的算法. 这样做可以保证模型的训练和推理在相同的硬件和软件环境下是可复现的, 即每次运行代码时的结果都相同. 但是, 这可能会导致一些性能上的损失, 因为禁用了一些优化的非确定性算法\n",
    "    \"\"\"\n",
    "    torch.backends.cudnn.deterministic = True\n",
    "    \n",
    "    \"\"\"\n",
    "    该设置禁用了cuDNN的自动优化过程. 当它被设置为False时, PyTorch不会在每次运行时重新寻找最优的算法配置, 而是使用固定的算法配置. 这样做可以确保每次运行代码时的性能是一致的, 但可能会导致一些性能上的损失\n",
    "    \"\"\"\n",
    "    torch.backends.cudnn.benchmark = False\n",
    "\n"
   ]
  },
  {
   "cell_type": "code",
   "execution_count": 37,
   "metadata": {
    "execution": {
     "iopub.execute_input": "2025-07-04T01:32:02.975560Z",
     "iopub.status.busy": "2025-07-04T01:32:02.975463Z",
     "iopub.status.idle": "2025-07-04T01:32:02.977186Z",
     "shell.execute_reply": "2025-07-04T01:32:02.977009Z"
    }
   },
   "outputs": [],
   "source": [
    "device = 'cuda:1'"
   ]
  },
  {
   "cell_type": "code",
   "execution_count": 38,
   "metadata": {
    "execution": {
     "iopub.execute_input": "2025-07-04T01:32:02.978367Z",
     "iopub.status.busy": "2025-07-04T01:32:02.978250Z",
     "iopub.status.idle": "2025-07-04T01:32:03.284776Z",
     "shell.execute_reply": "2025-07-04T01:32:03.284435Z"
    }
   },
   "outputs": [],
   "source": [
    "# Train PINNsformer\n",
    "res, b_left, b_right, b_upper, b_lower = get_data([0,2*np.pi], [0,1], 51, 51)\n",
    "res_test, _, _, _, _ = get_data([0,2*np.pi], [0,1], 101, 101)\n",
    "\n",
    "res = make_time_sequence(res, num_step=5, step=1e-4)\n",
    "b_left = make_time_sequence(b_left, num_step=5, step=1e-4)\n",
    "b_right = make_time_sequence(b_right, num_step=5, step=1e-4)\n",
    "b_upper = make_time_sequence(b_upper, num_step=5, step=1e-4)\n",
    "b_lower = make_time_sequence(b_lower, num_step=5, step=1e-4)\n",
    "\n",
    "res = torch.tensor(res, dtype=torch.float32, requires_grad=True).to(device)\n",
    "b_left = torch.tensor(b_left, dtype=torch.float32, requires_grad=True).to(device)\n",
    "b_right = torch.tensor(b_right, dtype=torch.float32, requires_grad=True).to(device)\n",
    "b_upper = torch.tensor(b_upper, dtype=torch.float32, requires_grad=True).to(device)\n",
    "b_lower = torch.tensor(b_lower, dtype=torch.float32, requires_grad=True).to(device)\n",
    "\n",
    "x_res, t_res = res[:,:,0:1], res[:,:,1:2]\n",
    "x_left, t_left = b_left[:,:,0:1], b_left[:,:,1:2]\n",
    "x_right, t_right = b_right[:,:,0:1], b_right[:,:,1:2]\n",
    "x_upper, t_upper = b_upper[:,:,0:1], b_upper[:,:,1:2]\n",
    "x_lower, t_lower = b_lower[:,:,0:1], b_lower[:,:,1:2]\n",
    "\n",
    "def init_weights(m):\n",
    "    if isinstance(m, nn.Linear):\n",
    "        torch.nn.init.xavier_uniform(m.weight)\n",
    "        m.bias.data.fill_(0.01)\n",
    "\n",
    "\n",
    "res_test = make_time_sequence(res_test, num_step=5, step=1e-4) \n",
    "res_test = torch.tensor(res_test, dtype=torch.float32, requires_grad=True).to(device)\n",
    "x_test, t_test = res_test[:,:,0:1], res_test[:,:,1:2]"
   ]
  },
  {
   "cell_type": "code",
   "execution_count": 39,
   "metadata": {
    "execution": {
     "iopub.execute_input": "2025-07-04T01:32:03.286381Z",
     "iopub.status.busy": "2025-07-04T01:32:03.286233Z",
     "iopub.status.idle": "2025-07-04T01:51:47.736388Z",
     "shell.execute_reply": "2025-07-04T01:51:47.736125Z"
    }
   },
   "outputs": [
    {
     "name": "stderr",
     "output_type": "stream",
     "text": [
      "/tmp/ipykernel_3625472/330036665.py:25: UserWarning: nn.init.xavier_uniform is now deprecated in favor of nn.init.xavier_uniform_.\n",
      "  torch.nn.init.xavier_uniform(m.weight)\n",
      "  0%|          | 0/500 [00:00<?, ?it/s]"
     ]
    },
    {
     "name": "stderr",
     "output_type": "stream",
     "text": [
      "100%|██████████| 500/500 [19:58<00:00,  2.40s/it]\n"
     ]
    },
    {
     "name": "stdout",
     "output_type": "stream",
     "text": [
      "relative L1 error: 0.541335\n",
      "relative L2 error: 0.619192\n"
     ]
    },
    {
     "name": "stderr",
     "output_type": "stream",
     "text": [
      "100%|██████████| 500/500 [21:34<00:00,  2.59s/it]\n"
     ]
    },
    {
     "name": "stdout",
     "output_type": "stream",
     "text": [
      "relative L1 error: 0.651883\n",
      "relative L2 error: 0.732714\n"
     ]
    },
    {
     "name": "stderr",
     "output_type": "stream",
     "text": [
      "100%|██████████| 500/500 [21:49<00:00,  2.62s/it]\n"
     ]
    },
    {
     "name": "stdout",
     "output_type": "stream",
     "text": [
      "relative L1 error: 0.605213\n",
      "relative L2 error: 0.687838\n"
     ]
    },
    {
     "name": "stderr",
     "output_type": "stream",
     "text": [
      "100%|██████████| 500/500 [22:29<00:00,  2.70s/it]\n"
     ]
    },
    {
     "name": "stdout",
     "output_type": "stream",
     "text": [
      "relative L1 error: 0.045642\n",
      "relative L2 error: 0.051989\n"
     ]
    },
    {
     "name": "stderr",
     "output_type": "stream",
     "text": [
      "100%|██████████| 500/500 [21:37<00:00,  2.59s/it]\n"
     ]
    },
    {
     "name": "stdout",
     "output_type": "stream",
     "text": [
      "relative L1 error: 0.629079\n",
      "relative L2 error: 0.710422\n"
     ]
    },
    {
     "name": "stderr",
     "output_type": "stream",
     "text": [
      "100%|██████████| 500/500 [22:05<00:00,  2.65s/it]\n"
     ]
    },
    {
     "name": "stdout",
     "output_type": "stream",
     "text": [
      "relative L1 error: 0.758794\n",
      "relative L2 error: 0.824011\n"
     ]
    },
    {
     "name": "stderr",
     "output_type": "stream",
     "text": [
      "100%|██████████| 500/500 [20:01<00:00,  2.40s/it]\n"
     ]
    },
    {
     "name": "stdout",
     "output_type": "stream",
     "text": [
      "relative L1 error: 0.652150\n",
      "relative L2 error: 0.731846\n"
     ]
    },
    {
     "name": "stderr",
     "output_type": "stream",
     "text": [
      "100%|██████████| 500/500 [21:40<00:00,  2.60s/it]\n"
     ]
    },
    {
     "name": "stdout",
     "output_type": "stream",
     "text": [
      "relative L1 error: 0.757697\n",
      "relative L2 error: 0.822818\n"
     ]
    },
    {
     "name": "stderr",
     "output_type": "stream",
     "text": [
      "100%|██████████| 500/500 [17:42<00:00,  2.13s/it]\n"
     ]
    },
    {
     "name": "stdout",
     "output_type": "stream",
     "text": [
      "relative L1 error: 0.704603\n",
      "relative L2 error: 0.777756\n"
     ]
    },
    {
     "name": "stderr",
     "output_type": "stream",
     "text": [
      "100%|██████████| 500/500 [20:48<00:00,  2.50s/it]"
     ]
    },
    {
     "name": "stdout",
     "output_type": "stream",
     "text": [
      "relative L1 error: 0.794733\n",
      "relative L2 error: 0.853127\n"
     ]
    },
    {
     "name": "stderr",
     "output_type": "stream",
     "text": [
      "\n"
     ]
    }
   ],
   "source": [
    "seeds = [0, 1, 12, 33, 123, 321, 1234, 4321, 12345, 54321] #生成10个随机种子\n",
    "# seeds = [0]\n",
    "L1error = []\n",
    "L2error = []\n",
    "\n",
    "for seed in seeds:\n",
    "    set_seed(seed) #设置随机数种子\n",
    "\n",
    "    model = PINNsformer(d_out=1, d_hidden=512, d_model=32, N=2, heads=4).to(device) #创建PINNsformer模型，模型输出维度为1，outputlayer模块的隐藏层维度为512，数据的特征嵌入维度为32，编码器和解码器的层数为1，注意力机制的头数为2\n",
    "\n",
    "    model.apply(init_weights) #初始化模型中线性层的权重和偏置\n",
    "    optim = LBFGS(model.parameters(), line_search_fn='strong_wolfe') #使用LBFGS优化器，line_search_fn='strong_wolfe'表示使用强Wolfe线搜索方法\n",
    "\n",
    "    loss_track = []\n",
    "\n",
    "    for i in tqdm(range(500)):\n",
    "        def closure():\n",
    "            pred_res = model(x_res, t_res)\n",
    "            pred_left = model(x_left, t_left)\n",
    "            pred_right = model(x_right, t_right)\n",
    "            pred_upper = model(x_upper, t_upper)\n",
    "            pred_lower = model(x_lower, t_lower)\n",
    "\n",
    "            u_x = torch.autograd.grad(pred_res, x_res, grad_outputs=torch.ones_like(pred_res), retain_graph=True, create_graph=True)[0]\n",
    "            u_t = torch.autograd.grad(pred_res, t_res, grad_outputs=torch.ones_like(pred_res), retain_graph=True, create_graph=True)[0]\n",
    "\n",
    "            loss_res = torch.mean((u_t + 50 * u_x) ** 2)\n",
    "            loss_bc = torch.mean((pred_upper - pred_lower) ** 2)\n",
    "            loss_ic = torch.mean((pred_left[:,0] - torch.sin(x_left[:,0])) ** 2)\n",
    "\n",
    "            loss_track.append([loss_res.item(), loss_bc.item(), loss_ic.item()])\n",
    "\n",
    "            loss = loss_res + loss_bc + loss_ic\n",
    "            optim.zero_grad()\n",
    "            loss.backward()\n",
    "            return loss\n",
    "        \n",
    "        optim.step(closure)\n",
    "\n",
    "    # Visualize PINNsformer\n",
    "    \n",
    "\n",
    "    with torch.no_grad():\n",
    "        pred = model(x_test, t_test)[:,0:1]\n",
    "        pred = pred.cpu().detach().numpy()\n",
    "\n",
    "    pred = pred.reshape(101,101)\n",
    "\n",
    "    mat = scipy.io.loadmat('./convection.mat')\n",
    "    u = mat['u'].reshape(101,101)\n",
    "\n",
    "    rl1 = np.sum(np.abs(u-pred)) / np.sum(np.abs(u))\n",
    "    rl2 = np.sqrt(np.sum((u-pred)**2) / np.sum(u**2))\n",
    "\n",
    "    print('relative L1 error: {:4f}'.format(rl1))\n",
    "    print('relative L2 error: {:4f}'.format(rl2))\n",
    "\n",
    "    L1error.append(rl1)\n",
    "    L2error.append(rl2)"
   ]
  },
  {
   "cell_type": "code",
   "execution_count": 40,
   "metadata": {
    "execution": {
     "iopub.execute_input": "2025-07-04T01:51:47.737879Z",
     "iopub.status.busy": "2025-07-04T01:51:47.737733Z",
     "iopub.status.idle": "2025-07-04T01:51:48.207017Z",
     "shell.execute_reply": "2025-07-04T01:51:48.206777Z"
    }
   },
   "outputs": [
    {
     "name": "stderr",
     "output_type": "stream",
     "text": [
      "/tmp/ipykernel_3625472/3836312666.py:36: FutureWarning: \n",
      "\n",
      "`shade` is now deprecated in favor of `fill`; setting `fill=True`.\n",
      "This will become an error in seaborn v0.14.0; please update your code.\n",
      "\n",
      "  sns.kdeplot(error, shade=True, color=\"r\", alpha=0.6)\n"
     ]
    },
    {
     "name": "stdout",
     "output_type": "stream",
     "text": [
      "mean Error u: 6.141130e-01\n",
      "Variance Error u: 4.139935e-02\n"
     ]
    },
    {
     "data": {
      "image/png": "[encoded data removed]",
      "text/plain": [
       "<Figure size 1000x1000 with 3 Axes>"
      ]
     },
     "metadata": {},
     "output_type": "display_data"
    }
   ],
   "source": [
    "import matplotlib.pyplot as plt\n",
    "import numpy as np\n",
    "import seaborn as sns  # 导入seaborn库用于绘制密度图\n",
    "\n",
    "# error = [0.5202765768338299, 0.5498189856925179, 0.8054262198745831, 0.2836623431751703, 0.7163985307835498, 0.8486951661259542, 0.45799139947295237, 1.0888879509613618, 0.18105234189218838, 0.5686642080465825]\n",
    "error = L1error\n",
    "\n",
    "plt.figure(figsize=(10, 10))  # 调整整体图表尺寸\n",
    "\n",
    "# 左侧子图：箱形图，占据两张图的位置，箱的上下边界为上下四分位数，箱内的横线+三角点为中位数，虚线为均值\n",
    "plt.subplot(1, 2, 1)  # 第一个子图，现在布局为1行2列\n",
    "mean_error = np.mean(error)\n",
    "var_error = np.var(error)\n",
    "print('mean Error u: %e' % (mean_error)) #打印误差\n",
    "print('Variance Error u: %e' % (var_error)) #打印方差\n",
    "\n",
    "\n",
    "plt.subplot(1, 2, 1)\n",
    "plt.boxplot(error, patch_artist=True, showmeans=True, meanline=False, boxprops=dict(facecolor='lightblue'))\n",
    "plt.axhline(mean_error, color='r', linestyle='--', label=f'Mean: {mean_error:e}')\n",
    "plt.axhline(var_error, color='g', linestyle='--', label=f'Variance: {var_error:e}')  # 添加方差的水平线\n",
    "for i, value in enumerate(error):\n",
    "    plt.plot(1, value, 'bo', alpha=0.6)\n",
    "plt.title('Error Distribution')\n",
    "plt.ylabel('Error Value')\n",
    "plt.xticks([1], ['Error'])\n",
    "plt.legend()\n",
    "\n",
    "plt.subplot(2, 2, 2)\n",
    "plt.plot(error, '-o', color='green')\n",
    "plt.title('Error Trend')\n",
    "plt.ylabel('Error Value')\n",
    "plt.xlabel('Iteration')\n",
    "\n",
    "plt.subplot(2, 2, 4)\n",
    "sns.kdeplot(error, shade=True, color=\"r\", alpha=0.6)\n",
    "plt.title('Error Density')\n",
    "plt.xlabel('Error Value')\n",
    "plt.ylabel('Density')\n",
    "\n",
    "plt.tight_layout()\n",
    "plt.show()"
   ]
  },
  {
   "cell_type": "code",
   "execution_count": 41,
   "metadata": {
    "execution": {
     "iopub.execute_input": "2025-07-04T01:51:48.208290Z",
     "iopub.status.busy": "2025-07-04T01:51:48.208192Z",
     "iopub.status.idle": "2025-07-04T01:51:48.210097Z",
     "shell.execute_reply": "2025-07-04T01:51:48.209888Z"
    }
   },
   "outputs": [
    {
     "name": "stdout",
     "output_type": "stream",
     "text": [
      "L1 error: [0.5413352147824402, 0.6518833431295544, 0.6052125733135282, 0.04564209320890886, 0.6290786621279784, 0.7587938041725895, 0.652150498250531, 0.7576973912126255, 0.7046025877711222, 0.7947333888496865]\n",
      "L2 error: [0.6191916640773393, 0.7327142671499838, 0.6878383433432226, 0.05198910341561557, 0.71042195087639, 0.8240111927631885, 0.7318457018199769, 0.822817559646856, 0.7777563080274034, 0.8531268239983182]\n"
     ]
    }
   ],
   "source": [
    "print('L1 error:', L1error)\n",
    "print('L2 error:', L2error)"
   ]
  },
  {
   "cell_type": "code",
   "execution_count": null,
   "metadata": {},
   "outputs": [],
   "source": []
  }
 ],
 "metadata": {
  "kernelspec": {
   "display_name": "torchgpu",
   "language": "python",
   "name": "python3"
  },
  "language_info": {
   "codemirror_mode": {
    "name": "ipython",
    "version": 3
   },
   "file_extension": ".py",
   "mimetype": "text/x-python",
   "name": "python",
   "nbconvert_exporter": "python",
   "pygments_lexer": "ipython3",
   "version": "3.10.13"
  }
 },
 "nbformat": 4,
 "nbformat_minor": 2
}
